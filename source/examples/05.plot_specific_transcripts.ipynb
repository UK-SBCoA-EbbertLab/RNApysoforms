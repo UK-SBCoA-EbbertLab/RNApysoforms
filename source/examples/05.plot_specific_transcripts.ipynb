{
 "cells": [
  {
   "cell_type": "markdown",
   "metadata": {},
   "source": [
    "## Plot specific transcripts\n",
    "\n",
    "### Hand pick which transcripts to plot and plot them in specific order"
   ]
  },
  {
   "cell_type": "code",
   "execution_count": 3,
   "metadata": {},
   "outputs": [
    {
     "data": {
      "text/html": [
       "        <script type=\"text/javascript\">\n",
       "        window.PlotlyConfig = {MathJaxConfig: 'local'};\n",
       "        if (window.MathJax && window.MathJax.Hub && window.MathJax.Hub.Config) {window.MathJax.Hub.Config({SVG: {font: \"STIX-Web\"}});}\n",
       "        if (typeof require !== 'undefined') {\n",
       "        require.undef(\"plotly\");\n",
       "        requirejs.config({\n",
       "            paths: {\n",
       "                'plotly': ['https://cdn.plot.ly/plotly-2.35.2.min']\n",
       "            }\n",
       "        });\n",
       "        require(['plotly'], function(Plotly) {\n",
       "            window._Plotly = Plotly;\n",
       "        });\n",
       "        }\n",
       "        </script>\n",
       "        "
      ]
     },
     "metadata": {},
     "output_type": "display_data"
    }
   ],
   "source": [
    "import RNApysoforms as RNApy\n",
    "import polars as pl\n",
    "import plotly.offline as py\n",
    "py.init_notebook_mode(connected=True)"
   ]
  },
  {
   "cell_type": "code",
   "execution_count": 4,
   "metadata": {},
   "outputs": [
    {
     "name": "stderr",
     "output_type": "stream",
     "text": [
      "C:\\Users\\local_bag222\\Desktop\\dash_apps\\RNApysoforms\\src\\RNApysoforms\\make_traces.py:294: UserWarning:\n",
      "\n",
      "18 transcript(s) are present in the expression matrix but missing in the annotation. Missing transcripts: ENST00000346798, ENST00000354192, ENST00000357903, ENST00000358918, ENST00000359726, ENST00000415997, ENST00000439274, ENST00000440126, ENST00000448850, ENST00000462267, ENST00000463070, ENST00000464867, ENST00000466453, ENST00000474136, ENST00000491395, ENST00000548570, ENST00000707132, ENST00000707134. Only transcripts present in both will be used for making traces.\n",
      "\n"
     ]
    },
    {
     "data": {
      "application/vnd.plotly.v1+json": {
       "config": {
        "linkText": "Export to plot.ly",
        "plotlyServerURL": "https://plot.ly",
        "showLink": false
       },
       "data": [
        {
         "fill": "toself",
         "fillcolor": "#636EFA",
         "hoverlabel": {
          "namelength": -1
         },
         "hoveron": "fills+points",
         "hovertemplate": "<b>transcript_id:</b> ENST00000707133<br><b>Feature Type:</b> exon<br><b>Feature Number:</b> 6<br><b>Chromosome:</b> 21<br><b>Start:</b> 25880550<br><b>End:</b> 25881771<br><b>Size:</b> 1221<br><extra></extra>",
         "legendgroup": "protein_coding_CDS_not_defined",
         "legendgrouptitle": {
          "text": "<b><u>Transcript Structure Hue<u><b>"
         },
         "line": {
          "color": "black",
          "width": 0.25
         },
         "marker": {
          "opacity": 0
         },
         "mode": "lines+markers",
         "name": "protein_coding_CDS_not_defined",
         "opacity": 1,
         "showlegend": true,
         "type": "scatter",
         "x": [
          17,
          1238,
          1238,
          17,
          17
         ],
         "xaxis": "x",
         "y": [
          -0.15,
          -0.15,
          0.15,
          0.15,
          -0.15
         ],
         "yaxis": "y"
        },
        {
         "fill": "toself",
         "fillcolor": "#636EFA",
         "hoverlabel": {
          "namelength": -1
         },
         "hoveron": "fills+points",
         "hovertemplate": "<b>transcript_id:</b> ENST00000707133<br><b>Feature Type:</b> exon<br><b>Feature Number:</b> 5<br><b>Chromosome:</b> 21<br><b>Start:</b> 25891722<br><b>End:</b> 25891868<br><b>Size:</b> 146<br><extra></extra>",
         "legendgroup": "protein_coding_CDS_not_defined",
         "legendgrouptitle": {
          "text": ""
         },
         "line": {
          "color": "black",
          "width": 0.25
         },
         "marker": {
          "opacity": 0
         },
         "mode": "lines+markers",
         "name": "protein_coding_CDS_not_defined",
         "opacity": 1,
         "showlegend": false,
         "type": "scatter",
         "x": [
          1339,
          1485,
          1485,
          1339,
          1339
         ],
         "xaxis": "x",
         "y": [
          -0.15,
          -0.15,
          0.15,
          0.15,
          -0.15
         ],
         "yaxis": "y"
        },
        {
         "fill": "toself",
         "fillcolor": "#636EFA",
         "hoverlabel": {
          "namelength": -1
         },
         "hoveron": "fills+points",
         "hovertemplate": "<b>transcript_id:</b> ENST00000707133<br><b>Feature Type:</b> exon<br><b>Feature Number:</b> 4<br><b>Chromosome:</b> 21<br><b>Start:</b> 25897573<br><b>End:</b> 25897673<br><b>Size:</b> 100<br><extra></extra>",
         "legendgroup": "protein_coding_CDS_not_defined",
         "legendgrouptitle": {
          "text": ""
         },
         "line": {
          "color": "black",
          "width": 0.25
         },
         "marker": {
          "opacity": 0
         },
         "mode": "lines+markers",
         "name": "protein_coding_CDS_not_defined",
         "opacity": 1,
         "showlegend": false,
         "type": "scatter",
         "x": [
          1586,
          1686,
          1686,
          1586,
          1586
         ],
         "xaxis": "x",
         "y": [
          -0.15,
          -0.15,
          0.15,
          0.15,
          -0.15
         ],
         "yaxis": "y"
        },
        {
         "fill": "toself",
         "fillcolor": "#636EFA",
         "hoverlabel": {
          "namelength": -1
         },
         "hoveron": "fills+points",
         "hovertemplate": "<b>transcript_id:</b> ENST00000707133<br><b>Feature Type:</b> exon<br><b>Feature Number:</b> 3<br><b>Chromosome:</b> 21<br><b>Start:</b> 25905024<br><b>End:</b> 25905077<br><b>Size:</b> 53<br><extra></extra>",
         "legendgroup": "protein_coding_CDS_not_defined",
         "legendgrouptitle": {
          "text": ""
         },
         "line": {
          "color": "black",
          "width": 0.25
         },
         "marker": {
          "opacity": 0
         },
         "mode": "lines+markers",
         "name": "protein_coding_CDS_not_defined",
         "opacity": 1,
         "showlegend": false,
         "type": "scatter",
         "x": [
          2097,
          2150,
          2150,
          2097,
          2097
         ],
         "xaxis": "x",
         "y": [
          -0.15,
          -0.15,
          0.15,
          0.15,
          -0.15
         ],
         "yaxis": "y"
        },
        {
         "fill": "toself",
         "fillcolor": "#636EFA",
         "hoverlabel": {
          "namelength": -1
         },
         "hoveron": "fills+points",
         "hovertemplate": "<b>transcript_id:</b> ENST00000707133<br><b>Feature Type:</b> exon<br><b>Feature Number:</b> 2<br><b>Chromosome:</b> 21<br><b>Start:</b> 25911741<br><b>End:</b> 25911962<br><b>Size:</b> 221<br><extra></extra>",
         "legendgroup": "protein_coding_CDS_not_defined",
         "legendgrouptitle": {
          "text": ""
         },
         "line": {
          "color": "black",
          "width": 0.25
         },
         "marker": {
          "opacity": 0
         },
         "mode": "lines+markers",
         "name": "protein_coding_CDS_not_defined",
         "opacity": 1,
         "showlegend": false,
         "type": "scatter",
         "x": [
          2251,
          2472,
          2472,
          2251,
          2251
         ],
         "xaxis": "x",
         "y": [
          -0.15,
          -0.15,
          0.15,
          0.15,
          -0.15
         ],
         "yaxis": "y"
        },
        {
         "fill": "toself",
         "fillcolor": "#636EFA",
         "hoverlabel": {
          "namelength": -1
         },
         "hoveron": "fills+points",
         "hovertemplate": "<b>transcript_id:</b> ENST00000707133<br><b>Feature Type:</b> exon<br><b>Feature Number:</b> 1<br><b>Chromosome:</b> 21<br><b>Start:</b> 25925059<br><b>End:</b> 25925142<br><b>Size:</b> 83<br><extra></extra>",
         "legendgroup": "protein_coding_CDS_not_defined",
         "legendgrouptitle": {
          "text": ""
         },
         "line": {
          "color": "black",
          "width": 0.25
         },
         "marker": {
          "opacity": 0
         },
         "mode": "lines+markers",
         "name": "protein_coding_CDS_not_defined",
         "opacity": 1,
         "showlegend": false,
         "type": "scatter",
         "x": [
          2573,
          2656,
          2656,
          2573,
          2573
         ],
         "xaxis": "x",
         "y": [
          -0.15,
          -0.15,
          0.15,
          0.15,
          -0.15
         ],
         "yaxis": "y"
        },
        {
         "fill": "toself",
         "fillcolor": "#EF553B",
         "hoverlabel": {
          "namelength": -1
         },
         "hoveron": "fills+points",
         "hovertemplate": "<b>transcript_id:</b> ENST00000348990<br><b>Feature Type:</b> exon<br><b>Feature Number:</b> 16<br><b>Chromosome:</b> 21<br><b>Start:</b> 25880550<br><b>End:</b> 25881771<br><b>Size:</b> 1221<br><extra></extra>",
         "legendgroup": "protein_coding",
         "legendgrouptitle": {
          "text": ""
         },
         "line": {
          "color": "black",
          "width": 0.25
         },
         "marker": {
          "opacity": 0
         },
         "mode": "lines+markers",
         "name": "protein_coding",
         "opacity": 1,
         "showlegend": true,
         "type": "scatter",
         "x": [
          17,
          1238,
          1238,
          17,
          17
         ],
         "xaxis": "x",
         "y": [
          0.85,
          0.85,
          1.15,
          1.15,
          0.85
         ],
         "yaxis": "y"
        },
        {
         "fill": "toself",
         "fillcolor": "#EF553B",
         "hoverlabel": {
          "namelength": -1
         },
         "hoveron": "fills+points",
         "hovertemplate": "<b>transcript_id:</b> ENST00000348990<br><b>Feature Type:</b> exon<br><b>Feature Number:</b> 15<br><b>Chromosome:</b> 21<br><b>Start:</b> 25891722<br><b>End:</b> 25891868<br><b>Size:</b> 146<br><extra></extra>",
         "legendgroup": "protein_coding",
         "legendgrouptitle": {
          "text": ""
         },
         "line": {
          "color": "black",
          "width": 0.25
         },
         "marker": {
          "opacity": 0
         },
         "mode": "lines+markers",
         "name": "protein_coding",
         "opacity": 1,
         "showlegend": false,
         "type": "scatter",
         "x": [
          1339,
          1485,
          1485,
          1339,
          1339
         ],
         "xaxis": "x",
         "y": [
          0.85,
          0.85,
          1.15,
          1.15,
          0.85
         ],
         "yaxis": "y"
        },
        {
         "fill": "toself",
         "fillcolor": "#EF553B",
         "hoverlabel": {
          "namelength": -1
         },
         "hoveron": "fills+points",
         "hovertemplate": "<b>transcript_id:</b> ENST00000348990<br><b>Feature Type:</b> exon<br><b>Feature Number:</b> 14<br><b>Chromosome:</b> 21<br><b>Start:</b> 25897573<br><b>End:</b> 25897673<br><b>Size:</b> 100<br><extra></extra>",
         "legendgroup": "protein_coding",
         "legendgrouptitle": {
          "text": ""
         },
         "line": {
          "color": "black",
          "width": 0.25
         },
         "marker": {
          "opacity": 0
         },
         "mode": "lines+markers",
         "name": "protein_coding",
         "opacity": 1,
         "showlegend": false,
         "type": "scatter",
         "x": [
          1586,
          1686,
          1686,
          1586,
          1586
         ],
         "xaxis": "x",
         "y": [
          0.85,
          0.85,
          1.15,
          1.15,
          0.85
         ],
         "yaxis": "y"
        },
        {
         "fill": "toself",
         "fillcolor": "#EF553B",
         "hoverlabel": {
          "namelength": -1
         },
         "hoveron": "fills+points",
         "hovertemplate": "<b>transcript_id:</b> ENST00000348990<br><b>Feature Type:</b> exon<br><b>Feature Number:</b> 13<br><b>Chromosome:</b> 21<br><b>Start:</b> 25905024<br><b>End:</b> 25905077<br><b>Size:</b> 53<br><extra></extra>",
         "legendgroup": "protein_coding",
         "legendgrouptitle": {
          "text": ""
         },
         "line": {
          "color": "black",
          "width": 0.25
         },
         "marker": {
          "opacity": 0
         },
         "mode": "lines+markers",
         "name": "protein_coding",
         "opacity": 1,
         "showlegend": false,
         "type": "scatter",
         "x": [
          2097,
          2150,
          2150,
          2097,
          2097
         ],
         "xaxis": "x",
         "y": [
          0.85,
          0.85,
          1.15,
          1.15,
          0.85
         ],
         "yaxis": "y"
        },
        {
         "fill": "toself",
         "fillcolor": "#EF553B",
         "hoverlabel": {
          "namelength": -1
         },
         "hoveron": "fills+points",
         "hovertemplate": "<b>transcript_id:</b> ENST00000348990<br><b>Feature Type:</b> exon<br><b>Feature Number:</b> 12<br><b>Chromosome:</b> 21<br><b>Start:</b> 25911741<br><b>End:</b> 25911962<br><b>Size:</b> 221<br><extra></extra>",
         "legendgroup": "protein_coding",
         "legendgrouptitle": {
          "text": ""
         },
         "line": {
          "color": "black",
          "width": 0.25
         },
         "marker": {
          "opacity": 0
         },
         "mode": "lines+markers",
         "name": "protein_coding",
         "opacity": 1,
         "showlegend": false,
         "type": "scatter",
         "x": [
          2251,
          2472,
          2472,
          2251,
          2251
         ],
         "xaxis": "x",
         "y": [
          0.85,
          0.85,
          1.15,
          1.15,
          0.85
         ],
         "yaxis": "y"
        },
        {
         "fill": "toself",
         "fillcolor": "#EF553B",
         "hoverlabel": {
          "namelength": -1
         },
         "hoveron": "fills+points",
         "hovertemplate": "<b>transcript_id:</b> ENST00000348990<br><b>Feature Type:</b> exon<br><b>Feature Number:</b> 11<br><b>Chromosome:</b> 21<br><b>Start:</b> 25954590<br><b>End:</b> 25954689<br><b>Size:</b> 99<br><extra></extra>",
         "legendgroup": "protein_coding",
         "legendgrouptitle": {
          "text": ""
         },
         "line": {
          "color": "black",
          "width": 0.25
         },
         "marker": {
          "opacity": 0
         },
         "mode": "lines+markers",
         "name": "protein_coding",
         "opacity": 1,
         "showlegend": false,
         "type": "scatter",
         "x": [
          3309,
          3408,
          3408,
          3309,
          3309
         ],
         "xaxis": "x",
         "y": [
          0.85,
          0.85,
          1.15,
          1.15,
          0.85
         ],
         "yaxis": "y"
        },
        {
         "fill": "toself",
         "fillcolor": "#EF553B",
         "hoverlabel": {
          "namelength": -1
         },
         "hoveron": "fills+points",
         "hovertemplate": "<b>transcript_id:</b> ENST00000348990<br><b>Feature Type:</b> exon<br><b>Feature Number:</b> 10<br><b>Chromosome:</b> 21<br><b>Start:</b> 25955627<br><b>End:</b> 25955755<br><b>Size:</b> 128<br><extra></extra>",
         "legendgroup": "protein_coding",
         "legendgrouptitle": {
          "text": ""
         },
         "line": {
          "color": "black",
          "width": 0.25
         },
         "marker": {
          "opacity": 0
         },
         "mode": "lines+markers",
         "name": "protein_coding",
         "opacity": 1,
         "showlegend": false,
         "type": "scatter",
         "x": [
          3509,
          3637,
          3637,
          3509,
          3509
         ],
         "xaxis": "x",
         "y": [
          0.85,
          0.85,
          1.15,
          1.15,
          0.85
         ],
         "yaxis": "y"
        },
        {
         "fill": "toself",
         "fillcolor": "#EF553B",
         "hoverlabel": {
          "namelength": -1
         },
         "hoveron": "fills+points",
         "hovertemplate": "<b>transcript_id:</b> ENST00000348990<br><b>Feature Type:</b> exon<br><b>Feature Number:</b> 9<br><b>Chromosome:</b> 21<br><b>Start:</b> 25975070<br><b>End:</b> 25975228<br><b>Size:</b> 158<br><extra></extra>",
         "legendgroup": "protein_coding",
         "legendgrouptitle": {
          "text": ""
         },
         "line": {
          "color": "black",
          "width": 0.25
         },
         "marker": {
          "opacity": 0
         },
         "mode": "lines+markers",
         "name": "protein_coding",
         "opacity": 1,
         "showlegend": false,
         "type": "scatter",
         "x": [
          3962,
          4120,
          4120,
          3962,
          3962
         ],
         "xaxis": "x",
         "y": [
          0.85,
          0.85,
          1.15,
          1.15,
          0.85
         ],
         "yaxis": "y"
        },
        {
         "fill": "toself",
         "fillcolor": "#EF553B",
         "hoverlabel": {
          "namelength": -1
         },
         "hoveron": "fills+points",
         "hovertemplate": "<b>transcript_id:</b> ENST00000348990<br><b>Feature Type:</b> exon<br><b>Feature Number:</b> 8<br><b>Chromosome:</b> 21<br><b>Start:</b> 25975954<br><b>End:</b> 25976028<br><b>Size:</b> 74<br><extra></extra>",
         "legendgroup": "protein_coding",
         "legendgrouptitle": {
          "text": ""
         },
         "line": {
          "color": "black",
          "width": 0.25
         },
         "marker": {
          "opacity": 0
         },
         "mode": "lines+markers",
         "name": "protein_coding",
         "opacity": 1,
         "showlegend": false,
         "type": "scatter",
         "x": [
          4221,
          4295,
          4295,
          4221,
          4221
         ],
         "xaxis": "x",
         "y": [
          0.85,
          0.85,
          1.15,
          1.15,
          0.85
         ],
         "yaxis": "y"
        },
        {
         "fill": "toself",
         "fillcolor": "#EF553B",
         "hoverlabel": {
          "namelength": -1
         },
         "hoveron": "fills+points",
         "hovertemplate": "<b>transcript_id:</b> ENST00000348990<br><b>Feature Type:</b> exon<br><b>Feature Number:</b> 7<br><b>Chromosome:</b> 21<br><b>Start:</b> 25982344<br><b>End:</b> 25982477<br><b>Size:</b> 133<br><extra></extra>",
         "legendgroup": "protein_coding",
         "legendgrouptitle": {
          "text": ""
         },
         "line": {
          "color": "black",
          "width": 0.25
         },
         "marker": {
          "opacity": 0
         },
         "mode": "lines+markers",
         "name": "protein_coding",
         "opacity": 1,
         "showlegend": false,
         "type": "scatter",
         "x": [
          4396,
          4529,
          4529,
          4396,
          4396
         ],
         "xaxis": "x",
         "y": [
          0.85,
          0.85,
          1.15,
          1.15,
          0.85
         ],
         "yaxis": "y"
        },
        {
         "fill": "toself",
         "fillcolor": "#EF553B",
         "hoverlabel": {
          "namelength": -1
         },
         "hoveron": "fills+points",
         "hovertemplate": "<b>transcript_id:</b> ENST00000348990<br><b>Feature Type:</b> exon<br><b>Feature Number:</b> 6<br><b>Chromosome:</b> 21<br><b>Start:</b> 26021840<br><b>End:</b> 26022042<br><b>Size:</b> 202<br><extra></extra>",
         "legendgroup": "protein_coding",
         "legendgrouptitle": {
          "text": ""
         },
         "line": {
          "color": "black",
          "width": 0.25
         },
         "marker": {
          "opacity": 0
         },
         "mode": "lines+markers",
         "name": "protein_coding",
         "opacity": 1,
         "showlegend": false,
         "type": "scatter",
         "x": [
          5645,
          5847,
          5847,
          5645,
          5645
         ],
         "xaxis": "x",
         "y": [
          0.85,
          0.85,
          1.15,
          1.15,
          0.85
         ],
         "yaxis": "y"
        },
        {
         "fill": "toself",
         "fillcolor": "#EF553B",
         "hoverlabel": {
          "namelength": -1
         },
         "hoveron": "fills+points",
         "hovertemplate": "<b>transcript_id:</b> ENST00000348990<br><b>Feature Type:</b> exon<br><b>Feature Number:</b> 5<br><b>Chromosome:</b> 21<br><b>Start:</b> 26051000<br><b>End:</b> 26051193<br><b>Size:</b> 193<br><extra></extra>",
         "legendgroup": "protein_coding",
         "legendgrouptitle": {
          "text": ""
         },
         "line": {
          "color": "black",
          "width": 0.25
         },
         "marker": {
          "opacity": 0
         },
         "mode": "lines+markers",
         "name": "protein_coding",
         "opacity": 1,
         "showlegend": false,
         "type": "scatter",
         "x": [
          5948,
          6141,
          6141,
          5948,
          5948
         ],
         "xaxis": "x",
         "y": [
          0.85,
          0.85,
          1.15,
          1.15,
          0.85
         ],
         "yaxis": "y"
        },
        {
         "fill": "toself",
         "fillcolor": "#EF553B",
         "hoverlabel": {
          "namelength": -1
         },
         "hoveron": "fills+points",
         "hovertemplate": "<b>transcript_id:</b> ENST00000348990<br><b>Feature Type:</b> exon<br><b>Feature Number:</b> 4<br><b>Chromosome:</b> 21<br><b>Start:</b> 26053236<br><b>End:</b> 26053348<br><b>Size:</b> 112<br><extra></extra>",
         "legendgroup": "protein_coding",
         "legendgrouptitle": {
          "text": ""
         },
         "line": {
          "color": "black",
          "width": 0.25
         },
         "marker": {
          "opacity": 0
         },
         "mode": "lines+markers",
         "name": "protein_coding",
         "opacity": 1,
         "showlegend": false,
         "type": "scatter",
         "x": [
          6242,
          6354,
          6354,
          6242,
          6242
         ],
         "xaxis": "x",
         "y": [
          0.85,
          0.85,
          1.15,
          1.15,
          0.85
         ],
         "yaxis": "y"
        },
        {
         "fill": "toself",
         "fillcolor": "#EF553B",
         "hoverlabel": {
          "namelength": -1
         },
         "hoveron": "fills+points",
         "hovertemplate": "<b>transcript_id:</b> ENST00000348990<br><b>Feature Type:</b> exon<br><b>Feature Number:</b> 3<br><b>Chromosome:</b> 21<br><b>Start:</b> 26089943<br><b>End:</b> 26090072<br><b>Size:</b> 129<br><extra></extra>",
         "legendgroup": "protein_coding",
         "legendgrouptitle": {
          "text": ""
         },
         "line": {
          "color": "black",
          "width": 0.25
         },
         "marker": {
          "opacity": 0
         },
         "mode": "lines+markers",
         "name": "protein_coding",
         "opacity": 1,
         "showlegend": false,
         "type": "scatter",
         "x": [
          7355,
          7484,
          7484,
          7355,
          7355
         ],
         "xaxis": "x",
         "y": [
          0.85,
          0.85,
          1.15,
          1.15,
          0.85
         ],
         "yaxis": "y"
        },
        {
         "fill": "toself",
         "fillcolor": "#EF553B",
         "hoverlabel": {
          "namelength": -1
         },
         "hoveron": "fills+points",
         "hovertemplate": "<b>transcript_id:</b> ENST00000348990<br><b>Feature Type:</b> exon<br><b>Feature Number:</b> 2<br><b>Chromosome:</b> 21<br><b>Start:</b> 26111979<br><b>End:</b> 26112146<br><b>Size:</b> 167<br><extra></extra>",
         "legendgroup": "protein_coding",
         "legendgrouptitle": {
          "text": ""
         },
         "line": {
          "color": "black",
          "width": 0.25
         },
         "marker": {
          "opacity": 0
         },
         "mode": "lines+markers",
         "name": "protein_coding",
         "opacity": 1,
         "showlegend": false,
         "type": "scatter",
         "x": [
          7585,
          7752,
          7752,
          7585,
          7585
         ],
         "xaxis": "x",
         "y": [
          0.85,
          0.85,
          1.15,
          1.15,
          0.85
         ],
         "yaxis": "y"
        },
        {
         "fill": "toself",
         "fillcolor": "#EF553B",
         "hoverlabel": {
          "namelength": -1
         },
         "hoveron": "fills+points",
         "hovertemplate": "<b>transcript_id:</b> ENST00000348990<br><b>Feature Type:</b> exon<br><b>Feature Number:</b> 1<br><b>Chromosome:</b> 21<br><b>Start:</b> 26170564<br><b>End:</b> 26170767<br><b>Size:</b> 203<br><extra></extra>",
         "legendgroup": "protein_coding",
         "legendgrouptitle": {
          "text": ""
         },
         "line": {
          "color": "black",
          "width": 0.25
         },
         "marker": {
          "opacity": 0
         },
         "mode": "lines+markers",
         "name": "protein_coding",
         "opacity": 1,
         "showlegend": false,
         "type": "scatter",
         "x": [
          8742,
          8945,
          8945,
          8742,
          8742
         ],
         "xaxis": "x",
         "y": [
          0.85,
          0.85,
          1.15,
          1.15,
          0.85
         ],
         "yaxis": "y"
        },
        {
         "fill": "toself",
         "fillcolor": "#EF553B",
         "hoverlabel": {
          "namelength": -1
         },
         "hoveron": "fills+points",
         "hovertemplate": "<b>transcript_id:</b> ENST00000348990<br><b>Feature Type:</b> CDS<br><b>Feature Number:</b> 16<br><b>Chromosome:</b> 21<br><b>Start:</b> 25881673<br><b>End:</b> 25881771<br><b>Size:</b> 98<br><extra></extra>",
         "legendgroup": "protein_coding",
         "legendgrouptitle": {
          "text": ""
         },
         "line": {
          "color": "black",
          "width": 0.25
         },
         "marker": {
          "opacity": 0
         },
         "mode": "lines+markers",
         "name": "protein_coding",
         "opacity": 1,
         "showlegend": false,
         "type": "scatter",
         "x": [
          1140,
          1238,
          1238,
          1140,
          1140
         ],
         "xaxis": "x",
         "y": [
          0.75,
          0.75,
          1.25,
          1.25,
          0.75
         ],
         "yaxis": "y"
        },
        {
         "fill": "toself",
         "fillcolor": "#EF553B",
         "hoverlabel": {
          "namelength": -1
         },
         "hoveron": "fills+points",
         "hovertemplate": "<b>transcript_id:</b> ENST00000348990<br><b>Feature Type:</b> CDS<br><b>Feature Number:</b> 15<br><b>Chromosome:</b> 21<br><b>Start:</b> 25891722<br><b>End:</b> 25891868<br><b>Size:</b> 146<br><extra></extra>",
         "legendgroup": "protein_coding",
         "legendgrouptitle": {
          "text": ""
         },
         "line": {
          "color": "black",
          "width": 0.25
         },
         "marker": {
          "opacity": 0
         },
         "mode": "lines+markers",
         "name": "protein_coding",
         "opacity": 1,
         "showlegend": false,
         "type": "scatter",
         "x": [
          1339,
          1485,
          1485,
          1339,
          1339
         ],
         "xaxis": "x",
         "y": [
          0.75,
          0.75,
          1.25,
          1.25,
          0.75
         ],
         "yaxis": "y"
        },
        {
         "fill": "toself",
         "fillcolor": "#EF553B",
         "hoverlabel": {
          "namelength": -1
         },
         "hoveron": "fills+points",
         "hovertemplate": "<b>transcript_id:</b> ENST00000348990<br><b>Feature Type:</b> CDS<br><b>Feature Number:</b> 14<br><b>Chromosome:</b> 21<br><b>Start:</b> 25897573<br><b>End:</b> 25897673<br><b>Size:</b> 100<br><extra></extra>",
         "legendgroup": "protein_coding",
         "legendgrouptitle": {
          "text": ""
         },
         "line": {
          "color": "black",
          "width": 0.25
         },
         "marker": {
          "opacity": 0
         },
         "mode": "lines+markers",
         "name": "protein_coding",
         "opacity": 1,
         "showlegend": false,
         "type": "scatter",
         "x": [
          1586,
          1686,
          1686,
          1586,
          1586
         ],
         "xaxis": "x",
         "y": [
          0.75,
          0.75,
          1.25,
          1.25,
          0.75
         ],
         "yaxis": "y"
        },
        {
         "fill": "toself",
         "fillcolor": "#EF553B",
         "hoverlabel": {
          "namelength": -1
         },
         "hoveron": "fills+points",
         "hovertemplate": "<b>transcript_id:</b> ENST00000348990<br><b>Feature Type:</b> CDS<br><b>Feature Number:</b> 13<br><b>Chromosome:</b> 21<br><b>Start:</b> 25905024<br><b>End:</b> 25905077<br><b>Size:</b> 53<br><extra></extra>",
         "legendgroup": "protein_coding",
         "legendgrouptitle": {
          "text": ""
         },
         "line": {
          "color": "black",
          "width": 0.25
         },
         "marker": {
          "opacity": 0
         },
         "mode": "lines+markers",
         "name": "protein_coding",
         "opacity": 1,
         "showlegend": false,
         "type": "scatter",
         "x": [
          2097,
          2150,
          2150,
          2097,
          2097
         ],
         "xaxis": "x",
         "y": [
          0.75,
          0.75,
          1.25,
          1.25,
          0.75
         ],
         "yaxis": "y"
        },
        {
         "fill": "toself",
         "fillcolor": "#EF553B",
         "hoverlabel": {
          "namelength": -1
         },
         "hoveron": "fills+points",
         "hovertemplate": "<b>transcript_id:</b> ENST00000348990<br><b>Feature Type:</b> CDS<br><b>Feature Number:</b> 12<br><b>Chromosome:</b> 21<br><b>Start:</b> 25911741<br><b>End:</b> 25911962<br><b>Size:</b> 221<br><extra></extra>",
         "legendgroup": "protein_coding",
         "legendgrouptitle": {
          "text": ""
         },
         "line": {
          "color": "black",
          "width": 0.25
         },
         "marker": {
          "opacity": 0
         },
         "mode": "lines+markers",
         "name": "protein_coding",
         "opacity": 1,
         "showlegend": false,
         "type": "scatter",
         "x": [
          2251,
          2472,
          2472,
          2251,
          2251
         ],
         "xaxis": "x",
         "y": [
          0.75,
          0.75,
          1.25,
          1.25,
          0.75
         ],
         "yaxis": "y"
        },
        {
         "fill": "toself",
         "fillcolor": "#EF553B",
         "hoverlabel": {
          "namelength": -1
         },
         "hoveron": "fills+points",
         "hovertemplate": "<b>transcript_id:</b> ENST00000348990<br><b>Feature Type:</b> CDS<br><b>Feature Number:</b> 11<br><b>Chromosome:</b> 21<br><b>Start:</b> 25954590<br><b>End:</b> 25954689<br><b>Size:</b> 99<br><extra></extra>",
         "legendgroup": "protein_coding",
         "legendgrouptitle": {
          "text": ""
         },
         "line": {
          "color": "black",
          "width": 0.25
         },
         "marker": {
          "opacity": 0
         },
         "mode": "lines+markers",
         "name": "protein_coding",
         "opacity": 1,
         "showlegend": false,
         "type": "scatter",
         "x": [
          3309,
          3408,
          3408,
          3309,
          3309
         ],
         "xaxis": "x",
         "y": [
          0.75,
          0.75,
          1.25,
          1.25,
          0.75
         ],
         "yaxis": "y"
        },
        {
         "fill": "toself",
         "fillcolor": "#EF553B",
         "hoverlabel": {
          "namelength": -1
         },
         "hoveron": "fills+points",
         "hovertemplate": "<b>transcript_id:</b> ENST00000348990<br><b>Feature Type:</b> CDS<br><b>Feature Number:</b> 10<br><b>Chromosome:</b> 21<br><b>Start:</b> 25955627<br><b>End:</b> 25955755<br><b>Size:</b> 128<br><extra></extra>",
         "legendgroup": "protein_coding",
         "legendgrouptitle": {
          "text": ""
         },
         "line": {
          "color": "black",
          "width": 0.25
         },
         "marker": {
          "opacity": 0
         },
         "mode": "lines+markers",
         "name": "protein_coding",
         "opacity": 1,
         "showlegend": false,
         "type": "scatter",
         "x": [
          3509,
          3637,
          3637,
          3509,
          3509
         ],
         "xaxis": "x",
         "y": [
          0.75,
          0.75,
          1.25,
          1.25,
          0.75
         ],
         "yaxis": "y"
        },
        {
         "fill": "toself",
         "fillcolor": "#EF553B",
         "hoverlabel": {
          "namelength": -1
         },
         "hoveron": "fills+points",
         "hovertemplate": "<b>transcript_id:</b> ENST00000348990<br><b>Feature Type:</b> CDS<br><b>Feature Number:</b> 9<br><b>Chromosome:</b> 21<br><b>Start:</b> 25975070<br><b>End:</b> 25975228<br><b>Size:</b> 158<br><extra></extra>",
         "legendgroup": "protein_coding",
         "legendgrouptitle": {
          "text": ""
         },
         "line": {
          "color": "black",
          "width": 0.25
         },
         "marker": {
          "opacity": 0
         },
         "mode": "lines+markers",
         "name": "protein_coding",
         "opacity": 1,
         "showlegend": false,
         "type": "scatter",
         "x": [
          3962,
          4120,
          4120,
          3962,
          3962
         ],
         "xaxis": "x",
         "y": [
          0.75,
          0.75,
          1.25,
          1.25,
          0.75
         ],
         "yaxis": "y"
        },
        {
         "fill": "toself",
         "fillcolor": "#EF553B",
         "hoverlabel": {
          "namelength": -1
         },
         "hoveron": "fills+points",
         "hovertemplate": "<b>transcript_id:</b> ENST00000348990<br><b>Feature Type:</b> CDS<br><b>Feature Number:</b> 8<br><b>Chromosome:</b> 21<br><b>Start:</b> 25975954<br><b>End:</b> 25976028<br><b>Size:</b> 74<br><extra></extra>",
         "legendgroup": "protein_coding",
         "legendgrouptitle": {
          "text": ""
         },
         "line": {
          "color": "black",
          "width": 0.25
         },
         "marker": {
          "opacity": 0
         },
         "mode": "lines+markers",
         "name": "protein_coding",
         "opacity": 1,
         "showlegend": false,
         "type": "scatter",
         "x": [
          4221,
          4295,
          4295,
          4221,
          4221
         ],
         "xaxis": "x",
         "y": [
          0.75,
          0.75,
          1.25,
          1.25,
          0.75
         ],
         "yaxis": "y"
        },
        {
         "fill": "toself",
         "fillcolor": "#EF553B",
         "hoverlabel": {
          "namelength": -1
         },
         "hoveron": "fills+points",
         "hovertemplate": "<b>transcript_id:</b> ENST00000348990<br><b>Feature Type:</b> CDS<br><b>Feature Number:</b> 7<br><b>Chromosome:</b> 21<br><b>Start:</b> 25982344<br><b>End:</b> 25982477<br><b>Size:</b> 133<br><extra></extra>",
         "legendgroup": "protein_coding",
         "legendgrouptitle": {
          "text": ""
         },
         "line": {
          "color": "black",
          "width": 0.25
         },
         "marker": {
          "opacity": 0
         },
         "mode": "lines+markers",
         "name": "protein_coding",
         "opacity": 1,
         "showlegend": false,
         "type": "scatter",
         "x": [
          4396,
          4529,
          4529,
          4396,
          4396
         ],
         "xaxis": "x",
         "y": [
          0.75,
          0.75,
          1.25,
          1.25,
          0.75
         ],
         "yaxis": "y"
        },
        {
         "fill": "toself",
         "fillcolor": "#EF553B",
         "hoverlabel": {
          "namelength": -1
         },
         "hoveron": "fills+points",
         "hovertemplate": "<b>transcript_id:</b> ENST00000348990<br><b>Feature Type:</b> CDS<br><b>Feature Number:</b> 6<br><b>Chromosome:</b> 21<br><b>Start:</b> 26021840<br><b>End:</b> 26022042<br><b>Size:</b> 202<br><extra></extra>",
         "legendgroup": "protein_coding",
         "legendgrouptitle": {
          "text": ""
         },
         "line": {
          "color": "black",
          "width": 0.25
         },
         "marker": {
          "opacity": 0
         },
         "mode": "lines+markers",
         "name": "protein_coding",
         "opacity": 1,
         "showlegend": false,
         "type": "scatter",
         "x": [
          5645,
          5847,
          5847,
          5645,
          5645
         ],
         "xaxis": "x",
         "y": [
          0.75,
          0.75,
          1.25,
          1.25,
          0.75
         ],
         "yaxis": "y"
        },
        {
         "fill": "toself",
         "fillcolor": "#EF553B",
         "hoverlabel": {
          "namelength": -1
         },
         "hoveron": "fills+points",
         "hovertemplate": "<b>transcript_id:</b> ENST00000348990<br><b>Feature Type:</b> CDS<br><b>Feature Number:</b> 5<br><b>Chromosome:</b> 21<br><b>Start:</b> 26051000<br><b>End:</b> 26051193<br><b>Size:</b> 193<br><extra></extra>",
         "legendgroup": "protein_coding",
         "legendgrouptitle": {
          "text": ""
         },
         "line": {
          "color": "black",
          "width": 0.25
         },
         "marker": {
          "opacity": 0
         },
         "mode": "lines+markers",
         "name": "protein_coding",
         "opacity": 1,
         "showlegend": false,
         "type": "scatter",
         "x": [
          5948,
          6141,
          6141,
          5948,
          5948
         ],
         "xaxis": "x",
         "y": [
          0.75,
          0.75,
          1.25,
          1.25,
          0.75
         ],
         "yaxis": "y"
        },
        {
         "fill": "toself",
         "fillcolor": "#EF553B",
         "hoverlabel": {
          "namelength": -1
         },
         "hoveron": "fills+points",
         "hovertemplate": "<b>transcript_id:</b> ENST00000348990<br><b>Feature Type:</b> CDS<br><b>Feature Number:</b> 4<br><b>Chromosome:</b> 21<br><b>Start:</b> 26053236<br><b>End:</b> 26053348<br><b>Size:</b> 112<br><extra></extra>",
         "legendgroup": "protein_coding",
         "legendgrouptitle": {
          "text": ""
         },
         "line": {
          "color": "black",
          "width": 0.25
         },
         "marker": {
          "opacity": 0
         },
         "mode": "lines+markers",
         "name": "protein_coding",
         "opacity": 1,
         "showlegend": false,
         "type": "scatter",
         "x": [
          6242,
          6354,
          6354,
          6242,
          6242
         ],
         "xaxis": "x",
         "y": [
          0.75,
          0.75,
          1.25,
          1.25,
          0.75
         ],
         "yaxis": "y"
        },
        {
         "fill": "toself",
         "fillcolor": "#EF553B",
         "hoverlabel": {
          "namelength": -1
         },
         "hoveron": "fills+points",
         "hovertemplate": "<b>transcript_id:</b> ENST00000348990<br><b>Feature Type:</b> CDS<br><b>Feature Number:</b> 3<br><b>Chromosome:</b> 21<br><b>Start:</b> 26089943<br><b>End:</b> 26090072<br><b>Size:</b> 129<br><extra></extra>",
         "legendgroup": "protein_coding",
         "legendgrouptitle": {
          "text": ""
         },
         "line": {
          "color": "black",
          "width": 0.25
         },
         "marker": {
          "opacity": 0
         },
         "mode": "lines+markers",
         "name": "protein_coding",
         "opacity": 1,
         "showlegend": false,
         "type": "scatter",
         "x": [
          7355,
          7484,
          7484,
          7355,
          7355
         ],
         "xaxis": "x",
         "y": [
          0.75,
          0.75,
          1.25,
          1.25,
          0.75
         ],
         "yaxis": "y"
        },
        {
         "fill": "toself",
         "fillcolor": "#EF553B",
         "hoverlabel": {
          "namelength": -1
         },
         "hoveron": "fills+points",
         "hovertemplate": "<b>transcript_id:</b> ENST00000348990<br><b>Feature Type:</b> CDS<br><b>Feature Number:</b> 2<br><b>Chromosome:</b> 21<br><b>Start:</b> 26111979<br><b>End:</b> 26112146<br><b>Size:</b> 167<br><extra></extra>",
         "legendgroup": "protein_coding",
         "legendgrouptitle": {
          "text": ""
         },
         "line": {
          "color": "black",
          "width": 0.25
         },
         "marker": {
          "opacity": 0
         },
         "mode": "lines+markers",
         "name": "protein_coding",
         "opacity": 1,
         "showlegend": false,
         "type": "scatter",
         "x": [
          7585,
          7752,
          7752,
          7585,
          7585
         ],
         "xaxis": "x",
         "y": [
          0.75,
          0.75,
          1.25,
          1.25,
          0.75
         ],
         "yaxis": "y"
        },
        {
         "fill": "toself",
         "fillcolor": "#EF553B",
         "hoverlabel": {
          "namelength": -1
         },
         "hoveron": "fills+points",
         "hovertemplate": "<b>transcript_id:</b> ENST00000348990<br><b>Feature Type:</b> CDS<br><b>Feature Number:</b> 1<br><b>Chromosome:</b> 21<br><b>Start:</b> 26170564<br><b>End:</b> 26170620<br><b>Size:</b> 56<br><extra></extra>",
         "legendgroup": "protein_coding",
         "legendgrouptitle": {
          "text": ""
         },
         "line": {
          "color": "black",
          "width": 0.25
         },
         "marker": {
          "opacity": 0
         },
         "mode": "lines+markers",
         "name": "protein_coding",
         "opacity": 1,
         "showlegend": false,
         "type": "scatter",
         "x": [
          8742,
          8798,
          8798,
          8742,
          8742
         ],
         "xaxis": "x",
         "y": [
          0.75,
          0.75,
          1.25,
          1.25,
          0.75
         ],
         "yaxis": "y"
        },
        {
         "hovertemplate": "<b>transcript_id:</b> ENST00000707133<br><b>Feature Type:</b> intron<br><b>Feature Number:</b> 5<br><b>Chromosome:</b> 21<br><b>Start:</b> 25881771<br><b>End:</b> 25891722<br><b>Size:</b> 9951<br><extra></extra>",
         "line": {
          "color": "black",
          "width": 0.5
         },
         "mode": "lines",
         "opacity": 1,
         "showlegend": false,
         "type": "scatter",
         "x": [
          1238,
          1339
         ],
         "xaxis": "x",
         "y": [
          0,
          0
         ],
         "yaxis": "y"
        },
        {
         "hovertemplate": "<b>transcript_id:</b> ENST00000707133<br><b>Feature Type:</b> intron<br><b>Feature Number:</b> 4<br><b>Chromosome:</b> 21<br><b>Start:</b> 25891868<br><b>End:</b> 25897573<br><b>Size:</b> 5705<br><extra></extra>",
         "line": {
          "color": "black",
          "width": 0.5
         },
         "mode": "lines",
         "opacity": 1,
         "showlegend": false,
         "type": "scatter",
         "x": [
          1485,
          1586
         ],
         "xaxis": "x",
         "y": [
          0,
          0
         ],
         "yaxis": "y"
        },
        {
         "hovertemplate": "<b>transcript_id:</b> ENST00000707133<br><b>Feature Type:</b> intron<br><b>Feature Number:</b> 3<br><b>Chromosome:</b> 21<br><b>Start:</b> 25897673<br><b>End:</b> 25905024<br><b>Size:</b> 7351<br><extra></extra>",
         "line": {
          "color": "black",
          "width": 0.5
         },
         "mode": "lines",
         "opacity": 1,
         "showlegend": false,
         "type": "scatter",
         "x": [
          1686,
          2097
         ],
         "xaxis": "x",
         "y": [
          0,
          0
         ],
         "yaxis": "y"
        },
        {
         "hovertemplate": "<b>transcript_id:</b> ENST00000707133<br><b>Feature Type:</b> intron<br><b>Feature Number:</b> 2<br><b>Chromosome:</b> 21<br><b>Start:</b> 25905077<br><b>End:</b> 25911741<br><b>Size:</b> 6664<br><extra></extra>",
         "line": {
          "color": "black",
          "width": 0.5
         },
         "mode": "lines",
         "opacity": 1,
         "showlegend": false,
         "type": "scatter",
         "x": [
          2150,
          2251
         ],
         "xaxis": "x",
         "y": [
          0,
          0
         ],
         "yaxis": "y"
        },
        {
         "hovertemplate": "<b>transcript_id:</b> ENST00000707133<br><b>Feature Type:</b> intron<br><b>Feature Number:</b> 1<br><b>Chromosome:</b> 21<br><b>Start:</b> 25911962<br><b>End:</b> 25925059<br><b>Size:</b> 13097<br><extra></extra>",
         "line": {
          "color": "black",
          "width": 0.5
         },
         "mode": "lines",
         "opacity": 1,
         "showlegend": false,
         "type": "scatter",
         "x": [
          2472,
          2573
         ],
         "xaxis": "x",
         "y": [
          0,
          0
         ],
         "yaxis": "y"
        },
        {
         "hovertemplate": "<b>transcript_id:</b> ENST00000348990<br><b>Feature Type:</b> intron<br><b>Feature Number:</b> 15<br><b>Chromosome:</b> 21<br><b>Start:</b> 25881771<br><b>End:</b> 25891722<br><b>Size:</b> 9951<br><extra></extra>",
         "line": {
          "color": "black",
          "width": 0.5
         },
         "mode": "lines",
         "opacity": 1,
         "showlegend": false,
         "type": "scatter",
         "x": [
          1238,
          1339
         ],
         "xaxis": "x",
         "y": [
          1,
          1
         ],
         "yaxis": "y"
        },
        {
         "hovertemplate": "<b>transcript_id:</b> ENST00000348990<br><b>Feature Type:</b> intron<br><b>Feature Number:</b> 14<br><b>Chromosome:</b> 21<br><b>Start:</b> 25891868<br><b>End:</b> 25897573<br><b>Size:</b> 5705<br><extra></extra>",
         "line": {
          "color": "black",
          "width": 0.5
         },
         "mode": "lines",
         "opacity": 1,
         "showlegend": false,
         "type": "scatter",
         "x": [
          1485,
          1586
         ],
         "xaxis": "x",
         "y": [
          1,
          1
         ],
         "yaxis": "y"
        },
        {
         "hovertemplate": "<b>transcript_id:</b> ENST00000348990<br><b>Feature Type:</b> intron<br><b>Feature Number:</b> 13<br><b>Chromosome:</b> 21<br><b>Start:</b> 25897673<br><b>End:</b> 25905024<br><b>Size:</b> 7351<br><extra></extra>",
         "line": {
          "color": "black",
          "width": 0.5
         },
         "mode": "lines",
         "opacity": 1,
         "showlegend": false,
         "type": "scatter",
         "x": [
          1686,
          2097
         ],
         "xaxis": "x",
         "y": [
          1,
          1
         ],
         "yaxis": "y"
        },
        {
         "hovertemplate": "<b>transcript_id:</b> ENST00000348990<br><b>Feature Type:</b> intron<br><b>Feature Number:</b> 12<br><b>Chromosome:</b> 21<br><b>Start:</b> 25905077<br><b>End:</b> 25911741<br><b>Size:</b> 6664<br><extra></extra>",
         "line": {
          "color": "black",
          "width": 0.5
         },
         "mode": "lines",
         "opacity": 1,
         "showlegend": false,
         "type": "scatter",
         "x": [
          2150,
          2251
         ],
         "xaxis": "x",
         "y": [
          1,
          1
         ],
         "yaxis": "y"
        },
        {
         "hoverinfo": "skip",
         "marker": {
          "color": "black",
          "size": 7,
          "symbol": "arrow-left"
         },
         "mode": "markers",
         "opacity": 1,
         "showlegend": false,
         "type": "scatter",
         "x": [
          2770.9285714285716
         ],
         "xaxis": "x",
         "y": [
          1
         ],
         "yaxis": "y"
        },
        {
         "hovertemplate": "<b>transcript_id:</b> ENST00000348990<br><b>Feature Type:</b> intron<br><b>Feature Number:</b> 11<br><b>Chromosome:</b> 21<br><b>Start:</b> 25911962<br><b>End:</b> 25954590<br><b>Size:</b> 42628<br><extra></extra>",
         "line": {
          "color": "black",
          "width": 0.5
         },
         "mode": "lines",
         "opacity": 1,
         "showlegend": false,
         "type": "scatter",
         "x": [
          2472,
          3309
         ],
         "xaxis": "x",
         "y": [
          1,
          1
         ],
         "yaxis": "y"
        },
        {
         "hovertemplate": "<b>transcript_id:</b> ENST00000348990<br><b>Feature Type:</b> intron<br><b>Feature Number:</b> 10<br><b>Chromosome:</b> 21<br><b>Start:</b> 25954689<br><b>End:</b> 25955627<br><b>Size:</b> 938<br><extra></extra>",
         "line": {
          "color": "black",
          "width": 0.5
         },
         "mode": "lines",
         "opacity": 1,
         "showlegend": false,
         "type": "scatter",
         "x": [
          3408,
          3509
         ],
         "xaxis": "x",
         "y": [
          1,
          1
         ],
         "yaxis": "y"
        },
        {
         "hovertemplate": "<b>transcript_id:</b> ENST00000348990<br><b>Feature Type:</b> intron<br><b>Feature Number:</b> 9<br><b>Chromosome:</b> 21<br><b>Start:</b> 25955755<br><b>End:</b> 25975070<br><b>Size:</b> 19315<br><extra></extra>",
         "line": {
          "color": "black",
          "width": 0.5
         },
         "mode": "lines",
         "opacity": 1,
         "showlegend": false,
         "type": "scatter",
         "x": [
          3637,
          3962
         ],
         "xaxis": "x",
         "y": [
          1,
          1
         ],
         "yaxis": "y"
        },
        {
         "hovertemplate": "<b>transcript_id:</b> ENST00000348990<br><b>Feature Type:</b> intron<br><b>Feature Number:</b> 8<br><b>Chromosome:</b> 21<br><b>Start:</b> 25975228<br><b>End:</b> 25975954<br><b>Size:</b> 726<br><extra></extra>",
         "line": {
          "color": "black",
          "width": 0.5
         },
         "mode": "lines",
         "opacity": 1,
         "showlegend": false,
         "type": "scatter",
         "x": [
          4120,
          4221
         ],
         "xaxis": "x",
         "y": [
          1,
          1
         ],
         "yaxis": "y"
        },
        {
         "hovertemplate": "<b>transcript_id:</b> ENST00000348990<br><b>Feature Type:</b> intron<br><b>Feature Number:</b> 7<br><b>Chromosome:</b> 21<br><b>Start:</b> 25976028<br><b>End:</b> 25982344<br><b>Size:</b> 6316<br><extra></extra>",
         "line": {
          "color": "black",
          "width": 0.5
         },
         "mode": "lines",
         "opacity": 1,
         "showlegend": false,
         "type": "scatter",
         "x": [
          4295,
          4396
         ],
         "xaxis": "x",
         "y": [
          1,
          1
         ],
         "yaxis": "y"
        },
        {
         "hoverinfo": "skip",
         "marker": {
          "color": "black",
          "size": 7,
          "symbol": "arrow-left"
         },
         "mode": "markers",
         "opacity": 1,
         "showlegend": false,
         "type": "scatter",
         "x": [
          4927.571428571428
         ],
         "xaxis": "x",
         "y": [
          1
         ],
         "yaxis": "y"
        },
        {
         "hovertemplate": "<b>transcript_id:</b> ENST00000348990<br><b>Feature Type:</b> intron<br><b>Feature Number:</b> 6<br><b>Chromosome:</b> 21<br><b>Start:</b> 25982477<br><b>End:</b> 26021840<br><b>Size:</b> 39363<br><extra></extra>",
         "line": {
          "color": "black",
          "width": 0.5
         },
         "mode": "lines",
         "opacity": 1,
         "showlegend": false,
         "type": "scatter",
         "x": [
          4529,
          5645
         ],
         "xaxis": "x",
         "y": [
          1,
          1
         ],
         "yaxis": "y"
        },
        {
         "hovertemplate": "<b>transcript_id:</b> ENST00000348990<br><b>Feature Type:</b> intron<br><b>Feature Number:</b> 5<br><b>Chromosome:</b> 21<br><b>Start:</b> 26022042<br><b>End:</b> 26051000<br><b>Size:</b> 28958<br><extra></extra>",
         "line": {
          "color": "black",
          "width": 0.5
         },
         "mode": "lines",
         "opacity": 1,
         "showlegend": false,
         "type": "scatter",
         "x": [
          5847,
          5948
         ],
         "xaxis": "x",
         "y": [
          1,
          1
         ],
         "yaxis": "y"
        },
        {
         "hovertemplate": "<b>transcript_id:</b> ENST00000348990<br><b>Feature Type:</b> intron<br><b>Feature Number:</b> 4<br><b>Chromosome:</b> 21<br><b>Start:</b> 26051193<br><b>End:</b> 26053236<br><b>Size:</b> 2043<br><extra></extra>",
         "line": {
          "color": "black",
          "width": 0.5
         },
         "mode": "lines",
         "opacity": 1,
         "showlegend": false,
         "type": "scatter",
         "x": [
          6141,
          6242
         ],
         "xaxis": "x",
         "y": [
          1,
          1
         ],
         "yaxis": "y"
        },
        {
         "hoverinfo": "skip",
         "marker": {
          "color": "black",
          "size": 7,
          "symbol": "arrow-left"
         },
         "mode": "markers",
         "opacity": 1,
         "showlegend": false,
         "type": "scatter",
         "x": [
          6711.5
         ],
         "xaxis": "x",
         "y": [
          1
         ],
         "yaxis": "y"
        },
        {
         "hovertemplate": "<b>transcript_id:</b> ENST00000348990<br><b>Feature Type:</b> intron<br><b>Feature Number:</b> 3<br><b>Chromosome:</b> 21<br><b>Start:</b> 26053348<br><b>End:</b> 26089943<br><b>Size:</b> 36595<br><extra></extra>",
         "line": {
          "color": "black",
          "width": 0.5
         },
         "mode": "lines",
         "opacity": 1,
         "showlegend": false,
         "type": "scatter",
         "x": [
          6354,
          7355
         ],
         "xaxis": "x",
         "y": [
          1,
          1
         ],
         "yaxis": "y"
        },
        {
         "hovertemplate": "<b>transcript_id:</b> ENST00000348990<br><b>Feature Type:</b> intron<br><b>Feature Number:</b> 2<br><b>Chromosome:</b> 21<br><b>Start:</b> 26090072<br><b>End:</b> 26111979<br><b>Size:</b> 21907<br><extra></extra>",
         "line": {
          "color": "black",
          "width": 0.5
         },
         "mode": "lines",
         "opacity": 1,
         "showlegend": false,
         "type": "scatter",
         "x": [
          7484,
          7585
         ],
         "xaxis": "x",
         "y": [
          1,
          1
         ],
         "yaxis": "y"
        },
        {
         "hoverinfo": "skip",
         "marker": {
          "color": "black",
          "size": 7,
          "symbol": "arrow-left"
         },
         "mode": "markers",
         "opacity": 1,
         "showlegend": false,
         "type": "scatter",
         "x": [
          8105.571428571428
         ],
         "xaxis": "x",
         "y": [
          1
         ],
         "yaxis": "y"
        },
        {
         "hovertemplate": "<b>transcript_id:</b> ENST00000348990<br><b>Feature Type:</b> intron<br><b>Feature Number:</b> 1<br><b>Chromosome:</b> 21<br><b>Start:</b> 26112146<br><b>End:</b> 26170564<br><b>Size:</b> 58418<br><extra></extra>",
         "line": {
          "color": "black",
          "width": 0.5
         },
         "mode": "lines",
         "opacity": 1,
         "showlegend": false,
         "type": "scatter",
         "x": [
          7752,
          8742
         ],
         "xaxis": "x",
         "y": [
          1,
          1
         ],
         "yaxis": "y"
        },
        {
         "boxmean": true,
         "boxpoints": "all",
         "fillcolor": "#FECB52",
         "jitter": 0.3,
         "legendgroup": "AD",
         "legendgrouptitle": {
          "text": "<b><u>Expression Plot Hue<u><b>"
         },
         "line": {
          "width": 0.5
         },
         "marker": {
          "color": "black",
          "opacity": 1,
          "size": 3
         },
         "name": "AD",
         "offsetgroup": "0",
         "opacity": 1,
         "orientation": "h",
         "pointpos": 0,
         "showlegend": true,
         "text": [
          "sample_1",
          "sample_7",
          "sample_3",
          "sample_5",
          "sample_1",
          "sample_7",
          "sample_3",
          "sample_5"
         ],
         "type": "box",
         "x": [
          32000.11649,
          9104.24543,
          6801.39742,
          13357.82555,
          21.32691,
          6974.68126,
          4317.08803,
          158.32861
         ],
         "xaxis": "x2",
         "y": [
          "0",
          "0",
          "0",
          "0",
          "1",
          "1",
          "1",
          "1"
         ],
         "yaxis": "y2"
        },
        {
         "boxmean": true,
         "boxpoints": "all",
         "fillcolor": "#FF97FF",
         "jitter": 0.3,
         "legendgroup": "Control",
         "legendgrouptitle": {
          "text": ""
         },
         "line": {
          "width": 0.5
         },
         "marker": {
          "color": "black",
          "opacity": 1,
          "size": 3
         },
         "name": "Control",
         "offsetgroup": "1",
         "opacity": 1,
         "orientation": "h",
         "pointpos": 0,
         "showlegend": true,
         "text": [
          "sample_4",
          "sample_2",
          "sample_6",
          "sample_8",
          "sample_4",
          "sample_2",
          "sample_6",
          "sample_8"
         ],
         "type": "box",
         "x": [
          281.12956,
          816.12674,
          908.42026,
          274.52124,
          20102.2553,
          16065.17951,
          22251.02963,
          17583.32597
         ],
         "xaxis": "x2",
         "y": [
          "0",
          "0",
          "0",
          "0",
          "1",
          "1",
          "1",
          "1"
         ],
         "yaxis": "y2"
        },
        {
         "boxmean": true,
         "boxpoints": "all",
         "fillcolor": "#FECB52",
         "jitter": 0.3,
         "legendgroup": "AD",
         "legendgrouptitle": {
          "text": ""
         },
         "line": {
          "width": 0.5
         },
         "marker": {
          "color": "black",
          "opacity": 1,
          "size": 3
         },
         "name": "AD",
         "offsetgroup": "0",
         "opacity": 1,
         "orientation": "h",
         "pointpos": 0,
         "showlegend": false,
         "text": [
          "sample_1",
          "sample_7",
          "sample_3",
          "sample_5",
          "sample_1",
          "sample_7",
          "sample_3",
          "sample_5"
         ],
         "type": "box",
         "x": [
          71988.83385406894,
          10956.469462610521,
          11058.463551761188,
          77663.1310474987,
          47.9779309894219,
          8393.653578892136,
          7019.198803045317,
          920.5312302493958
         ],
         "xaxis": "x3",
         "y": [
          "0",
          "0",
          "0",
          "0",
          "1",
          "1",
          "1",
          "1"
         ],
         "yaxis": "y3"
        },
        {
         "boxmean": true,
         "boxpoints": "all",
         "fillcolor": "#FF97FF",
         "jitter": 0.3,
         "legendgroup": "Control",
         "legendgrouptitle": {
          "text": ""
         },
         "line": {
          "width": 0.5
         },
         "marker": {
          "color": "black",
          "opacity": 1,
          "size": 3
         },
         "name": "Control",
         "offsetgroup": "1",
         "opacity": 1,
         "orientation": "h",
         "pointpos": 0,
         "showlegend": false,
         "text": [
          "sample_4",
          "sample_2",
          "sample_6",
          "sample_8",
          "sample_4",
          "sample_2",
          "sample_6",
          "sample_8"
         ],
         "type": "box",
         "x": [
          313.560844550222,
          882.271518078947,
          1011.0634183187115,
          382.3910896376943,
          22421.26423572169,
          17367.217148770906,
          24765.191915489355,
          24492.48435976418
         ],
         "xaxis": "x3",
         "y": [
          "0",
          "0",
          "0",
          "0",
          "1",
          "1",
          "1",
          "1"
         ],
         "yaxis": "y3"
        },
        {
         "boxmean": true,
         "boxpoints": "all",
         "fillcolor": "#FECB52",
         "jitter": 0.3,
         "legendgroup": "AD",
         "legendgrouptitle": {
          "text": ""
         },
         "line": {
          "width": 0.5
         },
         "marker": {
          "color": "black",
          "opacity": 1,
          "size": 3
         },
         "name": "AD",
         "offsetgroup": "0",
         "opacity": 1,
         "orientation": "h",
         "pointpos": 0,
         "showlegend": false,
         "text": [
          "sample_1",
          "sample_7",
          "sample_3",
          "sample_5",
          "sample_1",
          "sample_7",
          "sample_3",
          "sample_5"
         ],
         "type": "box",
         "x": [
          88.30054216658372,
          21.961754740812506,
          38.42814520594384,
          81.56952583048364,
          0.0588490893877348,
          16.824704518918175,
          24.391705915588453,
          0.9668332315583781
         ],
         "xaxis": "x4",
         "y": [
          "0",
          "0",
          "0",
          "0",
          "1",
          "1",
          "1",
          "1"
         ],
         "yaxis": "y4"
        },
        {
         "boxmean": true,
         "boxpoints": "all",
         "fillcolor": "#FF97FF",
         "jitter": 0.3,
         "legendgroup": "Control",
         "legendgrouptitle": {
          "text": ""
         },
         "line": {
          "width": 0.5
         },
         "marker": {
          "color": "black",
          "opacity": 1,
          "size": 3
         },
         "name": "Control",
         "offsetgroup": "1",
         "opacity": 1,
         "orientation": "h",
         "pointpos": 0,
         "showlegend": false,
         "text": [
          "sample_4",
          "sample_2",
          "sample_6",
          "sample_8",
          "sample_4",
          "sample_2",
          "sample_6",
          "sample_8"
         ],
         "type": "box",
         "x": [
          0.7817188777354502,
          2.7612895520368115,
          2.534584023883263,
          0.9732379902246824,
          55.897047799126874,
          54.355053153336044,
          62.08261385006002,
          62.33674606929601
         ],
         "xaxis": "x4",
         "y": [
          "0",
          "0",
          "0",
          "0",
          "1",
          "1",
          "1",
          "1"
         ],
         "yaxis": "y4"
        }
       ],
       "layout": {
        "annotations": [
         {
          "font": {
           "size": 16
          },
          "showarrow": false,
          "text": "Transcript Structure",
          "x": 0.1175,
          "xanchor": "center",
          "xref": "paper",
          "y": 1,
          "yanchor": "bottom",
          "yref": "paper"
         },
         {
          "font": {
           "size": 16
          },
          "showarrow": false,
          "text": "Counts",
          "x": 0.3725,
          "xanchor": "center",
          "xref": "paper",
          "y": 1,
          "yanchor": "bottom",
          "yref": "paper"
         },
         {
          "font": {
           "size": 16
          },
          "showarrow": false,
          "text": "CPM",
          "x": 0.6275,
          "xanchor": "center",
          "xref": "paper",
          "y": 1,
          "yanchor": "bottom",
          "yref": "paper"
         },
         {
          "font": {
           "size": 16
          },
          "showarrow": false,
          "text": "Relative Abundance",
          "x": 0.8824999999999998,
          "xanchor": "center",
          "xref": "paper",
          "y": 1,
          "yanchor": "bottom",
          "yref": "paper"
         }
        ],
        "boxgap": 0.1,
        "boxgroupgap": 0.5,
        "boxmode": "group",
        "height": 500,
        "hoverlabel": {
         "font": {
          "size": 12
         }
        },
        "hovermode": "closest",
        "legend": {
         "font": {
          "size": 12
         },
         "grouptitlefont": {
          "size": 14
         },
         "tracegroupgap": 7
        },
        "margin": {
         "b": 50,
         "l": 100,
         "r": 50,
         "t": 100
        },
        "showlegend": true,
        "template": {
         "data": {
          "bar": [
           {
            "error_x": {
             "color": "#2a3f5f"
            },
            "error_y": {
             "color": "#2a3f5f"
            },
            "marker": {
             "line": {
              "color": "white",
              "width": 0.5
             },
             "pattern": {
              "fillmode": "overlay",
              "size": 10,
              "solidity": 0.2
             }
            },
            "type": "bar"
           }
          ],
          "barpolar": [
           {
            "marker": {
             "line": {
              "color": "white",
              "width": 0.5
             },
             "pattern": {
              "fillmode": "overlay",
              "size": 10,
              "solidity": 0.2
             }
            },
            "type": "barpolar"
           }
          ],
          "carpet": [
           {
            "aaxis": {
             "endlinecolor": "#2a3f5f",
             "gridcolor": "#C8D4E3",
             "linecolor": "#C8D4E3",
             "minorgridcolor": "#C8D4E3",
             "startlinecolor": "#2a3f5f"
            },
            "baxis": {
             "endlinecolor": "#2a3f5f",
             "gridcolor": "#C8D4E3",
             "linecolor": "#C8D4E3",
             "minorgridcolor": "#C8D4E3",
             "startlinecolor": "#2a3f5f"
            },
            "type": "carpet"
           }
          ],
          "choropleth": [
           {
            "colorbar": {
             "outlinewidth": 0,
             "ticks": ""
            },
            "type": "choropleth"
           }
          ],
          "contour": [
           {
            "colorbar": {
             "outlinewidth": 0,
             "ticks": ""
            },
            "colorscale": [
             [
              0,
              "#0d0887"
             ],
             [
              0.1111111111111111,
              "#46039f"
             ],
             [
              0.2222222222222222,
              "#7201a8"
             ],
             [
              0.3333333333333333,
              "#9c179e"
             ],
             [
              0.4444444444444444,
              "#bd3786"
             ],
             [
              0.5555555555555556,
              "#d8576b"
             ],
             [
              0.6666666666666666,
              "#ed7953"
             ],
             [
              0.7777777777777778,
              "#fb9f3a"
             ],
             [
              0.8888888888888888,
              "#fdca26"
             ],
             [
              1,
              "#f0f921"
             ]
            ],
            "type": "contour"
           }
          ],
          "contourcarpet": [
           {
            "colorbar": {
             "outlinewidth": 0,
             "ticks": ""
            },
            "type": "contourcarpet"
           }
          ],
          "heatmap": [
           {
            "colorbar": {
             "outlinewidth": 0,
             "ticks": ""
            },
            "colorscale": [
             [
              0,
              "#0d0887"
             ],
             [
              0.1111111111111111,
              "#46039f"
             ],
             [
              0.2222222222222222,
              "#7201a8"
             ],
             [
              0.3333333333333333,
              "#9c179e"
             ],
             [
              0.4444444444444444,
              "#bd3786"
             ],
             [
              0.5555555555555556,
              "#d8576b"
             ],
             [
              0.6666666666666666,
              "#ed7953"
             ],
             [
              0.7777777777777778,
              "#fb9f3a"
             ],
             [
              0.8888888888888888,
              "#fdca26"
             ],
             [
              1,
              "#f0f921"
             ]
            ],
            "type": "heatmap"
           }
          ],
          "heatmapgl": [
           {
            "colorbar": {
             "outlinewidth": 0,
             "ticks": ""
            },
            "colorscale": [
             [
              0,
              "#0d0887"
             ],
             [
              0.1111111111111111,
              "#46039f"
             ],
             [
              0.2222222222222222,
              "#7201a8"
             ],
             [
              0.3333333333333333,
              "#9c179e"
             ],
             [
              0.4444444444444444,
              "#bd3786"
             ],
             [
              0.5555555555555556,
              "#d8576b"
             ],
             [
              0.6666666666666666,
              "#ed7953"
             ],
             [
              0.7777777777777778,
              "#fb9f3a"
             ],
             [
              0.8888888888888888,
              "#fdca26"
             ],
             [
              1,
              "#f0f921"
             ]
            ],
            "type": "heatmapgl"
           }
          ],
          "histogram": [
           {
            "marker": {
             "pattern": {
              "fillmode": "overlay",
              "size": 10,
              "solidity": 0.2
             }
            },
            "type": "histogram"
           }
          ],
          "histogram2d": [
           {
            "colorbar": {
             "outlinewidth": 0,
             "ticks": ""
            },
            "colorscale": [
             [
              0,
              "#0d0887"
             ],
             [
              0.1111111111111111,
              "#46039f"
             ],
             [
              0.2222222222222222,
              "#7201a8"
             ],
             [
              0.3333333333333333,
              "#9c179e"
             ],
             [
              0.4444444444444444,
              "#bd3786"
             ],
             [
              0.5555555555555556,
              "#d8576b"
             ],
             [
              0.6666666666666666,
              "#ed7953"
             ],
             [
              0.7777777777777778,
              "#fb9f3a"
             ],
             [
              0.8888888888888888,
              "#fdca26"
             ],
             [
              1,
              "#f0f921"
             ]
            ],
            "type": "histogram2d"
           }
          ],
          "histogram2dcontour": [
           {
            "colorbar": {
             "outlinewidth": 0,
             "ticks": ""
            },
            "colorscale": [
             [
              0,
              "#0d0887"
             ],
             [
              0.1111111111111111,
              "#46039f"
             ],
             [
              0.2222222222222222,
              "#7201a8"
             ],
             [
              0.3333333333333333,
              "#9c179e"
             ],
             [
              0.4444444444444444,
              "#bd3786"
             ],
             [
              0.5555555555555556,
              "#d8576b"
             ],
             [
              0.6666666666666666,
              "#ed7953"
             ],
             [
              0.7777777777777778,
              "#fb9f3a"
             ],
             [
              0.8888888888888888,
              "#fdca26"
             ],
             [
              1,
              "#f0f921"
             ]
            ],
            "type": "histogram2dcontour"
           }
          ],
          "mesh3d": [
           {
            "colorbar": {
             "outlinewidth": 0,
             "ticks": ""
            },
            "type": "mesh3d"
           }
          ],
          "parcoords": [
           {
            "line": {
             "colorbar": {
              "outlinewidth": 0,
              "ticks": ""
             }
            },
            "type": "parcoords"
           }
          ],
          "pie": [
           {
            "automargin": true,
            "type": "pie"
           }
          ],
          "scatter": [
           {
            "fillpattern": {
             "fillmode": "overlay",
             "size": 10,
             "solidity": 0.2
            },
            "type": "scatter"
           }
          ],
          "scatter3d": [
           {
            "line": {
             "colorbar": {
              "outlinewidth": 0,
              "ticks": ""
             }
            },
            "marker": {
             "colorbar": {
              "outlinewidth": 0,
              "ticks": ""
             }
            },
            "type": "scatter3d"
           }
          ],
          "scattercarpet": [
           {
            "marker": {
             "colorbar": {
              "outlinewidth": 0,
              "ticks": ""
             }
            },
            "type": "scattercarpet"
           }
          ],
          "scattergeo": [
           {
            "marker": {
             "colorbar": {
              "outlinewidth": 0,
              "ticks": ""
             }
            },
            "type": "scattergeo"
           }
          ],
          "scattergl": [
           {
            "marker": {
             "colorbar": {
              "outlinewidth": 0,
              "ticks": ""
             }
            },
            "type": "scattergl"
           }
          ],
          "scattermapbox": [
           {
            "marker": {
             "colorbar": {
              "outlinewidth": 0,
              "ticks": ""
             }
            },
            "type": "scattermapbox"
           }
          ],
          "scatterpolar": [
           {
            "marker": {
             "colorbar": {
              "outlinewidth": 0,
              "ticks": ""
             }
            },
            "type": "scatterpolar"
           }
          ],
          "scatterpolargl": [
           {
            "marker": {
             "colorbar": {
              "outlinewidth": 0,
              "ticks": ""
             }
            },
            "type": "scatterpolargl"
           }
          ],
          "scatterternary": [
           {
            "marker": {
             "colorbar": {
              "outlinewidth": 0,
              "ticks": ""
             }
            },
            "type": "scatterternary"
           }
          ],
          "surface": [
           {
            "colorbar": {
             "outlinewidth": 0,
             "ticks": ""
            },
            "colorscale": [
             [
              0,
              "#0d0887"
             ],
             [
              0.1111111111111111,
              "#46039f"
             ],
             [
              0.2222222222222222,
              "#7201a8"
             ],
             [
              0.3333333333333333,
              "#9c179e"
             ],
             [
              0.4444444444444444,
              "#bd3786"
             ],
             [
              0.5555555555555556,
              "#d8576b"
             ],
             [
              0.6666666666666666,
              "#ed7953"
             ],
             [
              0.7777777777777778,
              "#fb9f3a"
             ],
             [
              0.8888888888888888,
              "#fdca26"
             ],
             [
              1,
              "#f0f921"
             ]
            ],
            "type": "surface"
           }
          ],
          "table": [
           {
            "cells": {
             "fill": {
              "color": "#EBF0F8"
             },
             "line": {
              "color": "white"
             }
            },
            "header": {
             "fill": {
              "color": "#C8D4E3"
             },
             "line": {
              "color": "white"
             }
            },
            "type": "table"
           }
          ]
         },
         "layout": {
          "annotationdefaults": {
           "arrowcolor": "#2a3f5f",
           "arrowhead": 0,
           "arrowwidth": 1
          },
          "autotypenumbers": "strict",
          "coloraxis": {
           "colorbar": {
            "outlinewidth": 0,
            "ticks": ""
           }
          },
          "colorscale": {
           "diverging": [
            [
             0,
             "#8e0152"
            ],
            [
             0.1,
             "#c51b7d"
            ],
            [
             0.2,
             "#de77ae"
            ],
            [
             0.3,
             "#f1b6da"
            ],
            [
             0.4,
             "#fde0ef"
            ],
            [
             0.5,
             "#f7f7f7"
            ],
            [
             0.6,
             "#e6f5d0"
            ],
            [
             0.7,
             "#b8e186"
            ],
            [
             0.8,
             "#7fbc41"
            ],
            [
             0.9,
             "#4d9221"
            ],
            [
             1,
             "#276419"
            ]
           ],
           "sequential": [
            [
             0,
             "#0d0887"
            ],
            [
             0.1111111111111111,
             "#46039f"
            ],
            [
             0.2222222222222222,
             "#7201a8"
            ],
            [
             0.3333333333333333,
             "#9c179e"
            ],
            [
             0.4444444444444444,
             "#bd3786"
            ],
            [
             0.5555555555555556,
             "#d8576b"
            ],
            [
             0.6666666666666666,
             "#ed7953"
            ],
            [
             0.7777777777777778,
             "#fb9f3a"
            ],
            [
             0.8888888888888888,
             "#fdca26"
            ],
            [
             1,
             "#f0f921"
            ]
           ],
           "sequentialminus": [
            [
             0,
             "#0d0887"
            ],
            [
             0.1111111111111111,
             "#46039f"
            ],
            [
             0.2222222222222222,
             "#7201a8"
            ],
            [
             0.3333333333333333,
             "#9c179e"
            ],
            [
             0.4444444444444444,
             "#bd3786"
            ],
            [
             0.5555555555555556,
             "#d8576b"
            ],
            [
             0.6666666666666666,
             "#ed7953"
            ],
            [
             0.7777777777777778,
             "#fb9f3a"
            ],
            [
             0.8888888888888888,
             "#fdca26"
            ],
            [
             1,
             "#f0f921"
            ]
           ]
          },
          "colorway": [
           "#636efa",
           "#EF553B",
           "#00cc96",
           "#ab63fa",
           "#FFA15A",
           "#19d3f3",
           "#FF6692",
           "#B6E880",
           "#FF97FF",
           "#FECB52"
          ],
          "font": {
           "color": "#2a3f5f"
          },
          "geo": {
           "bgcolor": "white",
           "lakecolor": "white",
           "landcolor": "white",
           "showlakes": true,
           "showland": true,
           "subunitcolor": "#C8D4E3"
          },
          "hoverlabel": {
           "align": "left"
          },
          "hovermode": "closest",
          "mapbox": {
           "style": "light"
          },
          "paper_bgcolor": "white",
          "plot_bgcolor": "white",
          "polar": {
           "angularaxis": {
            "gridcolor": "#EBF0F8",
            "linecolor": "#EBF0F8",
            "ticks": ""
           },
           "bgcolor": "white",
           "radialaxis": {
            "gridcolor": "#EBF0F8",
            "linecolor": "#EBF0F8",
            "ticks": ""
           }
          },
          "scene": {
           "xaxis": {
            "backgroundcolor": "white",
            "gridcolor": "#DFE8F3",
            "gridwidth": 2,
            "linecolor": "#EBF0F8",
            "showbackground": true,
            "ticks": "",
            "zerolinecolor": "#EBF0F8"
           },
           "yaxis": {
            "backgroundcolor": "white",
            "gridcolor": "#DFE8F3",
            "gridwidth": 2,
            "linecolor": "#EBF0F8",
            "showbackground": true,
            "ticks": "",
            "zerolinecolor": "#EBF0F8"
           },
           "zaxis": {
            "backgroundcolor": "white",
            "gridcolor": "#DFE8F3",
            "gridwidth": 2,
            "linecolor": "#EBF0F8",
            "showbackground": true,
            "ticks": "",
            "zerolinecolor": "#EBF0F8"
           }
          },
          "shapedefaults": {
           "line": {
            "color": "#2a3f5f"
           }
          },
          "ternary": {
           "aaxis": {
            "gridcolor": "#DFE8F3",
            "linecolor": "#A2B1C6",
            "ticks": ""
           },
           "baxis": {
            "gridcolor": "#DFE8F3",
            "linecolor": "#A2B1C6",
            "ticks": ""
           },
           "bgcolor": "white",
           "caxis": {
            "gridcolor": "#DFE8F3",
            "linecolor": "#A2B1C6",
            "ticks": ""
           }
          },
          "title": {
           "x": 0.05
          },
          "xaxis": {
           "automargin": true,
           "gridcolor": "#EBF0F8",
           "linecolor": "#EBF0F8",
           "ticks": "",
           "title": {
            "standoff": 15
           },
           "zerolinecolor": "#EBF0F8",
           "zerolinewidth": 2
          },
          "yaxis": {
           "automargin": true,
           "gridcolor": "#EBF0F8",
           "linecolor": "#EBF0F8",
           "ticks": "",
           "title": {
            "standoff": 15
           },
           "zerolinecolor": "#EBF0F8",
           "zerolinewidth": 2
          }
         }
        },
        "title": {
         "text": ""
        },
        "violingap": 0.1,
        "violingroupgap": 0.5,
        "violinmode": "group",
        "width": 1200,
        "xaxis": {
         "anchor": "y",
         "domain": [
          0,
          0.235
         ],
         "showgrid": true,
         "showticklabels": false,
         "tickfont": {
          "size": 12
         },
         "title": {
          "text": ""
         }
        },
        "xaxis2": {
         "anchor": "y2",
         "domain": [
          0.255,
          0.49
         ],
         "showgrid": true,
         "showticklabels": true,
         "tickfont": {
          "size": 12
         },
         "title": {
          "text": ""
         }
        },
        "xaxis3": {
         "anchor": "y3",
         "domain": [
          0.51,
          0.745
         ],
         "showgrid": true,
         "showticklabels": true,
         "tickfont": {
          "size": 12
         },
         "title": {
          "text": ""
         }
        },
        "xaxis4": {
         "anchor": "y4",
         "domain": [
          0.7649999999999999,
          0.9999999999999999
         ],
         "showgrid": true,
         "showticklabels": true,
         "tickfont": {
          "size": 12
         },
         "title": {
          "text": ""
         }
        },
        "yaxis": {
         "anchor": "x",
         "domain": [
          0,
          1
         ],
         "range": [
          -0.8,
          1.8
         ],
         "showgrid": true,
         "showticklabels": true,
         "tickfont": {
          "color": "black",
          "family": "DejaVu Sans",
          "size": 12
         },
         "ticktext": [
          "ENST00000707133",
          "ENST00000348990"
         ],
         "tickvals": [
          0,
          1
         ],
         "title": {
          "text": ""
         }
        },
        "yaxis2": {
         "anchor": "x2",
         "domain": [
          0,
          1
         ],
         "matches": "y",
         "range": [
          -0.8,
          1.8
         ],
         "showgrid": true,
         "showticklabels": false,
         "ticks": "",
         "ticktext": [
          "ENST00000707133",
          "ENST00000348990"
         ],
         "tickvals": [
          0,
          1
         ]
        },
        "yaxis3": {
         "anchor": "x3",
         "domain": [
          0,
          1
         ],
         "matches": "y",
         "range": [
          -0.8,
          1.8
         ],
         "showgrid": true,
         "showticklabels": false,
         "ticks": "",
         "ticktext": [
          "ENST00000707133",
          "ENST00000348990"
         ],
         "tickvals": [
          0,
          1
         ]
        },
        "yaxis4": {
         "anchor": "x4",
         "domain": [
          0,
          1
         ],
         "matches": "y",
         "range": [
          -0.8,
          1.8
         ],
         "showgrid": true,
         "showticklabels": false,
         "ticks": "",
         "ticktext": [
          "ENST00000707133",
          "ENST00000348990"
         ],
         "tickvals": [
          0,
          1
         ]
        }
       }
      },
      "text/html": [
       "<div>                            <div id=\"47de568f-6ccf-4d8c-a3a8-e55ffe32e7e0\" class=\"plotly-graph-div\" style=\"height:500px; width:1200px;\"></div>            <script type=\"text/javascript\">                require([\"plotly\"], function(Plotly) {                    window.PLOTLYENV=window.PLOTLYENV || {};                                    if (document.getElementById(\"47de568f-6ccf-4d8c-a3a8-e55ffe32e7e0\")) {                    Plotly.newPlot(                        \"47de568f-6ccf-4d8c-a3a8-e55ffe32e7e0\",                        [{\"fill\":\"toself\",\"fillcolor\":\"#636EFA\",\"hoverlabel\":{\"namelength\":-1},\"hoveron\":\"fills+points\",\"hovertemplate\":\"\\u003cb\\u003etranscript_id:\\u003c\\u002fb\\u003e ENST00000707133\\u003cbr\\u003e\\u003cb\\u003eFeature Type:\\u003c\\u002fb\\u003e exon\\u003cbr\\u003e\\u003cb\\u003eFeature Number:\\u003c\\u002fb\\u003e 6\\u003cbr\\u003e\\u003cb\\u003eChromosome:\\u003c\\u002fb\\u003e 21\\u003cbr\\u003e\\u003cb\\u003eStart:\\u003c\\u002fb\\u003e 25880550\\u003cbr\\u003e\\u003cb\\u003eEnd:\\u003c\\u002fb\\u003e 25881771\\u003cbr\\u003e\\u003cb\\u003eSize:\\u003c\\u002fb\\u003e 1221\\u003cbr\\u003e\\u003cextra\\u003e\\u003c\\u002fextra\\u003e\",\"legendgroup\":\"protein_coding_CDS_not_defined\",\"legendgrouptitle\":{\"text\":\"\\u003cb\\u003e\\u003cu\\u003eTranscript Structure Hue\\u003cu\\u003e\\u003cb\\u003e\"},\"line\":{\"color\":\"black\",\"width\":0.25},\"marker\":{\"opacity\":0},\"mode\":\"lines+markers\",\"name\":\"protein_coding_CDS_not_defined\",\"opacity\":1,\"showlegend\":true,\"x\":[17,1238,1238,17,17],\"xaxis\":\"x\",\"y\":[-0.15,-0.15,0.15,0.15,-0.15],\"yaxis\":\"y\",\"type\":\"scatter\"},{\"fill\":\"toself\",\"fillcolor\":\"#636EFA\",\"hoverlabel\":{\"namelength\":-1},\"hoveron\":\"fills+points\",\"hovertemplate\":\"\\u003cb\\u003etranscript_id:\\u003c\\u002fb\\u003e ENST00000707133\\u003cbr\\u003e\\u003cb\\u003eFeature Type:\\u003c\\u002fb\\u003e exon\\u003cbr\\u003e\\u003cb\\u003eFeature Number:\\u003c\\u002fb\\u003e 5\\u003cbr\\u003e\\u003cb\\u003eChromosome:\\u003c\\u002fb\\u003e 21\\u003cbr\\u003e\\u003cb\\u003eStart:\\u003c\\u002fb\\u003e 25891722\\u003cbr\\u003e\\u003cb\\u003eEnd:\\u003c\\u002fb\\u003e 25891868\\u003cbr\\u003e\\u003cb\\u003eSize:\\u003c\\u002fb\\u003e 146\\u003cbr\\u003e\\u003cextra\\u003e\\u003c\\u002fextra\\u003e\",\"legendgroup\":\"protein_coding_CDS_not_defined\",\"legendgrouptitle\":{\"text\":\"\"},\"line\":{\"color\":\"black\",\"width\":0.25},\"marker\":{\"opacity\":0},\"mode\":\"lines+markers\",\"name\":\"protein_coding_CDS_not_defined\",\"opacity\":1,\"showlegend\":false,\"x\":[1339,1485,1485,1339,1339],\"xaxis\":\"x\",\"y\":[-0.15,-0.15,0.15,0.15,-0.15],\"yaxis\":\"y\",\"type\":\"scatter\"},{\"fill\":\"toself\",\"fillcolor\":\"#636EFA\",\"hoverlabel\":{\"namelength\":-1},\"hoveron\":\"fills+points\",\"hovertemplate\":\"\\u003cb\\u003etranscript_id:\\u003c\\u002fb\\u003e ENST00000707133\\u003cbr\\u003e\\u003cb\\u003eFeature Type:\\u003c\\u002fb\\u003e exon\\u003cbr\\u003e\\u003cb\\u003eFeature Number:\\u003c\\u002fb\\u003e 4\\u003cbr\\u003e\\u003cb\\u003eChromosome:\\u003c\\u002fb\\u003e 21\\u003cbr\\u003e\\u003cb\\u003eStart:\\u003c\\u002fb\\u003e 25897573\\u003cbr\\u003e\\u003cb\\u003eEnd:\\u003c\\u002fb\\u003e 25897673\\u003cbr\\u003e\\u003cb\\u003eSize:\\u003c\\u002fb\\u003e 100\\u003cbr\\u003e\\u003cextra\\u003e\\u003c\\u002fextra\\u003e\",\"legendgroup\":\"protein_coding_CDS_not_defined\",\"legendgrouptitle\":{\"text\":\"\"},\"line\":{\"color\":\"black\",\"width\":0.25},\"marker\":{\"opacity\":0},\"mode\":\"lines+markers\",\"name\":\"protein_coding_CDS_not_defined\",\"opacity\":1,\"showlegend\":false,\"x\":[1586,1686,1686,1586,1586],\"xaxis\":\"x\",\"y\":[-0.15,-0.15,0.15,0.15,-0.15],\"yaxis\":\"y\",\"type\":\"scatter\"},{\"fill\":\"toself\",\"fillcolor\":\"#636EFA\",\"hoverlabel\":{\"namelength\":-1},\"hoveron\":\"fills+points\",\"hovertemplate\":\"\\u003cb\\u003etranscript_id:\\u003c\\u002fb\\u003e ENST00000707133\\u003cbr\\u003e\\u003cb\\u003eFeature Type:\\u003c\\u002fb\\u003e exon\\u003cbr\\u003e\\u003cb\\u003eFeature Number:\\u003c\\u002fb\\u003e 3\\u003cbr\\u003e\\u003cb\\u003eChromosome:\\u003c\\u002fb\\u003e 21\\u003cbr\\u003e\\u003cb\\u003eStart:\\u003c\\u002fb\\u003e 25905024\\u003cbr\\u003e\\u003cb\\u003eEnd:\\u003c\\u002fb\\u003e 25905077\\u003cbr\\u003e\\u003cb\\u003eSize:\\u003c\\u002fb\\u003e 53\\u003cbr\\u003e\\u003cextra\\u003e\\u003c\\u002fextra\\u003e\",\"legendgroup\":\"protein_coding_CDS_not_defined\",\"legendgrouptitle\":{\"text\":\"\"},\"line\":{\"color\":\"black\",\"width\":0.25},\"marker\":{\"opacity\":0},\"mode\":\"lines+markers\",\"name\":\"protein_coding_CDS_not_defined\",\"opacity\":1,\"showlegend\":false,\"x\":[2097,2150,2150,2097,2097],\"xaxis\":\"x\",\"y\":[-0.15,-0.15,0.15,0.15,-0.15],\"yaxis\":\"y\",\"type\":\"scatter\"},{\"fill\":\"toself\",\"fillcolor\":\"#636EFA\",\"hoverlabel\":{\"namelength\":-1},\"hoveron\":\"fills+points\",\"hovertemplate\":\"\\u003cb\\u003etranscript_id:\\u003c\\u002fb\\u003e ENST00000707133\\u003cbr\\u003e\\u003cb\\u003eFeature Type:\\u003c\\u002fb\\u003e exon\\u003cbr\\u003e\\u003cb\\u003eFeature Number:\\u003c\\u002fb\\u003e 2\\u003cbr\\u003e\\u003cb\\u003eChromosome:\\u003c\\u002fb\\u003e 21\\u003cbr\\u003e\\u003cb\\u003eStart:\\u003c\\u002fb\\u003e 25911741\\u003cbr\\u003e\\u003cb\\u003eEnd:\\u003c\\u002fb\\u003e 25911962\\u003cbr\\u003e\\u003cb\\u003eSize:\\u003c\\u002fb\\u003e 221\\u003cbr\\u003e\\u003cextra\\u003e\\u003c\\u002fextra\\u003e\",\"legendgroup\":\"protein_coding_CDS_not_defined\",\"legendgrouptitle\":{\"text\":\"\"},\"line\":{\"color\":\"black\",\"width\":0.25},\"marker\":{\"opacity\":0},\"mode\":\"lines+markers\",\"name\":\"protein_coding_CDS_not_defined\",\"opacity\":1,\"showlegend\":false,\"x\":[2251,2472,2472,2251,2251],\"xaxis\":\"x\",\"y\":[-0.15,-0.15,0.15,0.15,-0.15],\"yaxis\":\"y\",\"type\":\"scatter\"},{\"fill\":\"toself\",\"fillcolor\":\"#636EFA\",\"hoverlabel\":{\"namelength\":-1},\"hoveron\":\"fills+points\",\"hovertemplate\":\"\\u003cb\\u003etranscript_id:\\u003c\\u002fb\\u003e ENST00000707133\\u003cbr\\u003e\\u003cb\\u003eFeature Type:\\u003c\\u002fb\\u003e exon\\u003cbr\\u003e\\u003cb\\u003eFeature Number:\\u003c\\u002fb\\u003e 1\\u003cbr\\u003e\\u003cb\\u003eChromosome:\\u003c\\u002fb\\u003e 21\\u003cbr\\u003e\\u003cb\\u003eStart:\\u003c\\u002fb\\u003e 25925059\\u003cbr\\u003e\\u003cb\\u003eEnd:\\u003c\\u002fb\\u003e 25925142\\u003cbr\\u003e\\u003cb\\u003eSize:\\u003c\\u002fb\\u003e 83\\u003cbr\\u003e\\u003cextra\\u003e\\u003c\\u002fextra\\u003e\",\"legendgroup\":\"protein_coding_CDS_not_defined\",\"legendgrouptitle\":{\"text\":\"\"},\"line\":{\"color\":\"black\",\"width\":0.25},\"marker\":{\"opacity\":0},\"mode\":\"lines+markers\",\"name\":\"protein_coding_CDS_not_defined\",\"opacity\":1,\"showlegend\":false,\"x\":[2573,2656,2656,2573,2573],\"xaxis\":\"x\",\"y\":[-0.15,-0.15,0.15,0.15,-0.15],\"yaxis\":\"y\",\"type\":\"scatter\"},{\"fill\":\"toself\",\"fillcolor\":\"#EF553B\",\"hoverlabel\":{\"namelength\":-1},\"hoveron\":\"fills+points\",\"hovertemplate\":\"\\u003cb\\u003etranscript_id:\\u003c\\u002fb\\u003e ENST00000348990\\u003cbr\\u003e\\u003cb\\u003eFeature Type:\\u003c\\u002fb\\u003e exon\\u003cbr\\u003e\\u003cb\\u003eFeature Number:\\u003c\\u002fb\\u003e 16\\u003cbr\\u003e\\u003cb\\u003eChromosome:\\u003c\\u002fb\\u003e 21\\u003cbr\\u003e\\u003cb\\u003eStart:\\u003c\\u002fb\\u003e 25880550\\u003cbr\\u003e\\u003cb\\u003eEnd:\\u003c\\u002fb\\u003e 25881771\\u003cbr\\u003e\\u003cb\\u003eSize:\\u003c\\u002fb\\u003e 1221\\u003cbr\\u003e\\u003cextra\\u003e\\u003c\\u002fextra\\u003e\",\"legendgroup\":\"protein_coding\",\"legendgrouptitle\":{\"text\":\"\"},\"line\":{\"color\":\"black\",\"width\":0.25},\"marker\":{\"opacity\":0},\"mode\":\"lines+markers\",\"name\":\"protein_coding\",\"opacity\":1,\"showlegend\":true,\"x\":[17,1238,1238,17,17],\"xaxis\":\"x\",\"y\":[0.85,0.85,1.15,1.15,0.85],\"yaxis\":\"y\",\"type\":\"scatter\"},{\"fill\":\"toself\",\"fillcolor\":\"#EF553B\",\"hoverlabel\":{\"namelength\":-1},\"hoveron\":\"fills+points\",\"hovertemplate\":\"\\u003cb\\u003etranscript_id:\\u003c\\u002fb\\u003e ENST00000348990\\u003cbr\\u003e\\u003cb\\u003eFeature Type:\\u003c\\u002fb\\u003e exon\\u003cbr\\u003e\\u003cb\\u003eFeature Number:\\u003c\\u002fb\\u003e 15\\u003cbr\\u003e\\u003cb\\u003eChromosome:\\u003c\\u002fb\\u003e 21\\u003cbr\\u003e\\u003cb\\u003eStart:\\u003c\\u002fb\\u003e 25891722\\u003cbr\\u003e\\u003cb\\u003eEnd:\\u003c\\u002fb\\u003e 25891868\\u003cbr\\u003e\\u003cb\\u003eSize:\\u003c\\u002fb\\u003e 146\\u003cbr\\u003e\\u003cextra\\u003e\\u003c\\u002fextra\\u003e\",\"legendgroup\":\"protein_coding\",\"legendgrouptitle\":{\"text\":\"\"},\"line\":{\"color\":\"black\",\"width\":0.25},\"marker\":{\"opacity\":0},\"mode\":\"lines+markers\",\"name\":\"protein_coding\",\"opacity\":1,\"showlegend\":false,\"x\":[1339,1485,1485,1339,1339],\"xaxis\":\"x\",\"y\":[0.85,0.85,1.15,1.15,0.85],\"yaxis\":\"y\",\"type\":\"scatter\"},{\"fill\":\"toself\",\"fillcolor\":\"#EF553B\",\"hoverlabel\":{\"namelength\":-1},\"hoveron\":\"fills+points\",\"hovertemplate\":\"\\u003cb\\u003etranscript_id:\\u003c\\u002fb\\u003e ENST00000348990\\u003cbr\\u003e\\u003cb\\u003eFeature Type:\\u003c\\u002fb\\u003e exon\\u003cbr\\u003e\\u003cb\\u003eFeature Number:\\u003c\\u002fb\\u003e 14\\u003cbr\\u003e\\u003cb\\u003eChromosome:\\u003c\\u002fb\\u003e 21\\u003cbr\\u003e\\u003cb\\u003eStart:\\u003c\\u002fb\\u003e 25897573\\u003cbr\\u003e\\u003cb\\u003eEnd:\\u003c\\u002fb\\u003e 25897673\\u003cbr\\u003e\\u003cb\\u003eSize:\\u003c\\u002fb\\u003e 100\\u003cbr\\u003e\\u003cextra\\u003e\\u003c\\u002fextra\\u003e\",\"legendgroup\":\"protein_coding\",\"legendgrouptitle\":{\"text\":\"\"},\"line\":{\"color\":\"black\",\"width\":0.25},\"marker\":{\"opacity\":0},\"mode\":\"lines+markers\",\"name\":\"protein_coding\",\"opacity\":1,\"showlegend\":false,\"x\":[1586,1686,1686,1586,1586],\"xaxis\":\"x\",\"y\":[0.85,0.85,1.15,1.15,0.85],\"yaxis\":\"y\",\"type\":\"scatter\"},{\"fill\":\"toself\",\"fillcolor\":\"#EF553B\",\"hoverlabel\":{\"namelength\":-1},\"hoveron\":\"fills+points\",\"hovertemplate\":\"\\u003cb\\u003etranscript_id:\\u003c\\u002fb\\u003e ENST00000348990\\u003cbr\\u003e\\u003cb\\u003eFeature Type:\\u003c\\u002fb\\u003e exon\\u003cbr\\u003e\\u003cb\\u003eFeature Number:\\u003c\\u002fb\\u003e 13\\u003cbr\\u003e\\u003cb\\u003eChromosome:\\u003c\\u002fb\\u003e 21\\u003cbr\\u003e\\u003cb\\u003eStart:\\u003c\\u002fb\\u003e 25905024\\u003cbr\\u003e\\u003cb\\u003eEnd:\\u003c\\u002fb\\u003e 25905077\\u003cbr\\u003e\\u003cb\\u003eSize:\\u003c\\u002fb\\u003e 53\\u003cbr\\u003e\\u003cextra\\u003e\\u003c\\u002fextra\\u003e\",\"legendgroup\":\"protein_coding\",\"legendgrouptitle\":{\"text\":\"\"},\"line\":{\"color\":\"black\",\"width\":0.25},\"marker\":{\"opacity\":0},\"mode\":\"lines+markers\",\"name\":\"protein_coding\",\"opacity\":1,\"showlegend\":false,\"x\":[2097,2150,2150,2097,2097],\"xaxis\":\"x\",\"y\":[0.85,0.85,1.15,1.15,0.85],\"yaxis\":\"y\",\"type\":\"scatter\"},{\"fill\":\"toself\",\"fillcolor\":\"#EF553B\",\"hoverlabel\":{\"namelength\":-1},\"hoveron\":\"fills+points\",\"hovertemplate\":\"\\u003cb\\u003etranscript_id:\\u003c\\u002fb\\u003e ENST00000348990\\u003cbr\\u003e\\u003cb\\u003eFeature Type:\\u003c\\u002fb\\u003e exon\\u003cbr\\u003e\\u003cb\\u003eFeature Number:\\u003c\\u002fb\\u003e 12\\u003cbr\\u003e\\u003cb\\u003eChromosome:\\u003c\\u002fb\\u003e 21\\u003cbr\\u003e\\u003cb\\u003eStart:\\u003c\\u002fb\\u003e 25911741\\u003cbr\\u003e\\u003cb\\u003eEnd:\\u003c\\u002fb\\u003e 25911962\\u003cbr\\u003e\\u003cb\\u003eSize:\\u003c\\u002fb\\u003e 221\\u003cbr\\u003e\\u003cextra\\u003e\\u003c\\u002fextra\\u003e\",\"legendgroup\":\"protein_coding\",\"legendgrouptitle\":{\"text\":\"\"},\"line\":{\"color\":\"black\",\"width\":0.25},\"marker\":{\"opacity\":0},\"mode\":\"lines+markers\",\"name\":\"protein_coding\",\"opacity\":1,\"showlegend\":false,\"x\":[2251,2472,2472,2251,2251],\"xaxis\":\"x\",\"y\":[0.85,0.85,1.15,1.15,0.85],\"yaxis\":\"y\",\"type\":\"scatter\"},{\"fill\":\"toself\",\"fillcolor\":\"#EF553B\",\"hoverlabel\":{\"namelength\":-1},\"hoveron\":\"fills+points\",\"hovertemplate\":\"\\u003cb\\u003etranscript_id:\\u003c\\u002fb\\u003e ENST00000348990\\u003cbr\\u003e\\u003cb\\u003eFeature Type:\\u003c\\u002fb\\u003e exon\\u003cbr\\u003e\\u003cb\\u003eFeature Number:\\u003c\\u002fb\\u003e 11\\u003cbr\\u003e\\u003cb\\u003eChromosome:\\u003c\\u002fb\\u003e 21\\u003cbr\\u003e\\u003cb\\u003eStart:\\u003c\\u002fb\\u003e 25954590\\u003cbr\\u003e\\u003cb\\u003eEnd:\\u003c\\u002fb\\u003e 25954689\\u003cbr\\u003e\\u003cb\\u003eSize:\\u003c\\u002fb\\u003e 99\\u003cbr\\u003e\\u003cextra\\u003e\\u003c\\u002fextra\\u003e\",\"legendgroup\":\"protein_coding\",\"legendgrouptitle\":{\"text\":\"\"},\"line\":{\"color\":\"black\",\"width\":0.25},\"marker\":{\"opacity\":0},\"mode\":\"lines+markers\",\"name\":\"protein_coding\",\"opacity\":1,\"showlegend\":false,\"x\":[3309,3408,3408,3309,3309],\"xaxis\":\"x\",\"y\":[0.85,0.85,1.15,1.15,0.85],\"yaxis\":\"y\",\"type\":\"scatter\"},{\"fill\":\"toself\",\"fillcolor\":\"#EF553B\",\"hoverlabel\":{\"namelength\":-1},\"hoveron\":\"fills+points\",\"hovertemplate\":\"\\u003cb\\u003etranscript_id:\\u003c\\u002fb\\u003e ENST00000348990\\u003cbr\\u003e\\u003cb\\u003eFeature Type:\\u003c\\u002fb\\u003e exon\\u003cbr\\u003e\\u003cb\\u003eFeature Number:\\u003c\\u002fb\\u003e 10\\u003cbr\\u003e\\u003cb\\u003eChromosome:\\u003c\\u002fb\\u003e 21\\u003cbr\\u003e\\u003cb\\u003eStart:\\u003c\\u002fb\\u003e 25955627\\u003cbr\\u003e\\u003cb\\u003eEnd:\\u003c\\u002fb\\u003e 25955755\\u003cbr\\u003e\\u003cb\\u003eSize:\\u003c\\u002fb\\u003e 128\\u003cbr\\u003e\\u003cextra\\u003e\\u003c\\u002fextra\\u003e\",\"legendgroup\":\"protein_coding\",\"legendgrouptitle\":{\"text\":\"\"},\"line\":{\"color\":\"black\",\"width\":0.25},\"marker\":{\"opacity\":0},\"mode\":\"lines+markers\",\"name\":\"protein_coding\",\"opacity\":1,\"showlegend\":false,\"x\":[3509,3637,3637,3509,3509],\"xaxis\":\"x\",\"y\":[0.85,0.85,1.15,1.15,0.85],\"yaxis\":\"y\",\"type\":\"scatter\"},{\"fill\":\"toself\",\"fillcolor\":\"#EF553B\",\"hoverlabel\":{\"namelength\":-1},\"hoveron\":\"fills+points\",\"hovertemplate\":\"\\u003cb\\u003etranscript_id:\\u003c\\u002fb\\u003e ENST00000348990\\u003cbr\\u003e\\u003cb\\u003eFeature Type:\\u003c\\u002fb\\u003e exon\\u003cbr\\u003e\\u003cb\\u003eFeature Number:\\u003c\\u002fb\\u003e 9\\u003cbr\\u003e\\u003cb\\u003eChromosome:\\u003c\\u002fb\\u003e 21\\u003cbr\\u003e\\u003cb\\u003eStart:\\u003c\\u002fb\\u003e 25975070\\u003cbr\\u003e\\u003cb\\u003eEnd:\\u003c\\u002fb\\u003e 25975228\\u003cbr\\u003e\\u003cb\\u003eSize:\\u003c\\u002fb\\u003e 158\\u003cbr\\u003e\\u003cextra\\u003e\\u003c\\u002fextra\\u003e\",\"legendgroup\":\"protein_coding\",\"legendgrouptitle\":{\"text\":\"\"},\"line\":{\"color\":\"black\",\"width\":0.25},\"marker\":{\"opacity\":0},\"mode\":\"lines+markers\",\"name\":\"protein_coding\",\"opacity\":1,\"showlegend\":false,\"x\":[3962,4120,4120,3962,3962],\"xaxis\":\"x\",\"y\":[0.85,0.85,1.15,1.15,0.85],\"yaxis\":\"y\",\"type\":\"scatter\"},{\"fill\":\"toself\",\"fillcolor\":\"#EF553B\",\"hoverlabel\":{\"namelength\":-1},\"hoveron\":\"fills+points\",\"hovertemplate\":\"\\u003cb\\u003etranscript_id:\\u003c\\u002fb\\u003e ENST00000348990\\u003cbr\\u003e\\u003cb\\u003eFeature Type:\\u003c\\u002fb\\u003e exon\\u003cbr\\u003e\\u003cb\\u003eFeature Number:\\u003c\\u002fb\\u003e 8\\u003cbr\\u003e\\u003cb\\u003eChromosome:\\u003c\\u002fb\\u003e 21\\u003cbr\\u003e\\u003cb\\u003eStart:\\u003c\\u002fb\\u003e 25975954\\u003cbr\\u003e\\u003cb\\u003eEnd:\\u003c\\u002fb\\u003e 25976028\\u003cbr\\u003e\\u003cb\\u003eSize:\\u003c\\u002fb\\u003e 74\\u003cbr\\u003e\\u003cextra\\u003e\\u003c\\u002fextra\\u003e\",\"legendgroup\":\"protein_coding\",\"legendgrouptitle\":{\"text\":\"\"},\"line\":{\"color\":\"black\",\"width\":0.25},\"marker\":{\"opacity\":0},\"mode\":\"lines+markers\",\"name\":\"protein_coding\",\"opacity\":1,\"showlegend\":false,\"x\":[4221,4295,4295,4221,4221],\"xaxis\":\"x\",\"y\":[0.85,0.85,1.15,1.15,0.85],\"yaxis\":\"y\",\"type\":\"scatter\"},{\"fill\":\"toself\",\"fillcolor\":\"#EF553B\",\"hoverlabel\":{\"namelength\":-1},\"hoveron\":\"fills+points\",\"hovertemplate\":\"\\u003cb\\u003etranscript_id:\\u003c\\u002fb\\u003e ENST00000348990\\u003cbr\\u003e\\u003cb\\u003eFeature Type:\\u003c\\u002fb\\u003e exon\\u003cbr\\u003e\\u003cb\\u003eFeature Number:\\u003c\\u002fb\\u003e 7\\u003cbr\\u003e\\u003cb\\u003eChromosome:\\u003c\\u002fb\\u003e 21\\u003cbr\\u003e\\u003cb\\u003eStart:\\u003c\\u002fb\\u003e 25982344\\u003cbr\\u003e\\u003cb\\u003eEnd:\\u003c\\u002fb\\u003e 25982477\\u003cbr\\u003e\\u003cb\\u003eSize:\\u003c\\u002fb\\u003e 133\\u003cbr\\u003e\\u003cextra\\u003e\\u003c\\u002fextra\\u003e\",\"legendgroup\":\"protein_coding\",\"legendgrouptitle\":{\"text\":\"\"},\"line\":{\"color\":\"black\",\"width\":0.25},\"marker\":{\"opacity\":0},\"mode\":\"lines+markers\",\"name\":\"protein_coding\",\"opacity\":1,\"showlegend\":false,\"x\":[4396,4529,4529,4396,4396],\"xaxis\":\"x\",\"y\":[0.85,0.85,1.15,1.15,0.85],\"yaxis\":\"y\",\"type\":\"scatter\"},{\"fill\":\"toself\",\"fillcolor\":\"#EF553B\",\"hoverlabel\":{\"namelength\":-1},\"hoveron\":\"fills+points\",\"hovertemplate\":\"\\u003cb\\u003etranscript_id:\\u003c\\u002fb\\u003e ENST00000348990\\u003cbr\\u003e\\u003cb\\u003eFeature Type:\\u003c\\u002fb\\u003e exon\\u003cbr\\u003e\\u003cb\\u003eFeature Number:\\u003c\\u002fb\\u003e 6\\u003cbr\\u003e\\u003cb\\u003eChromosome:\\u003c\\u002fb\\u003e 21\\u003cbr\\u003e\\u003cb\\u003eStart:\\u003c\\u002fb\\u003e 26021840\\u003cbr\\u003e\\u003cb\\u003eEnd:\\u003c\\u002fb\\u003e 26022042\\u003cbr\\u003e\\u003cb\\u003eSize:\\u003c\\u002fb\\u003e 202\\u003cbr\\u003e\\u003cextra\\u003e\\u003c\\u002fextra\\u003e\",\"legendgroup\":\"protein_coding\",\"legendgrouptitle\":{\"text\":\"\"},\"line\":{\"color\":\"black\",\"width\":0.25},\"marker\":{\"opacity\":0},\"mode\":\"lines+markers\",\"name\":\"protein_coding\",\"opacity\":1,\"showlegend\":false,\"x\":[5645,5847,5847,5645,5645],\"xaxis\":\"x\",\"y\":[0.85,0.85,1.15,1.15,0.85],\"yaxis\":\"y\",\"type\":\"scatter\"},{\"fill\":\"toself\",\"fillcolor\":\"#EF553B\",\"hoverlabel\":{\"namelength\":-1},\"hoveron\":\"fills+points\",\"hovertemplate\":\"\\u003cb\\u003etranscript_id:\\u003c\\u002fb\\u003e ENST00000348990\\u003cbr\\u003e\\u003cb\\u003eFeature Type:\\u003c\\u002fb\\u003e exon\\u003cbr\\u003e\\u003cb\\u003eFeature Number:\\u003c\\u002fb\\u003e 5\\u003cbr\\u003e\\u003cb\\u003eChromosome:\\u003c\\u002fb\\u003e 21\\u003cbr\\u003e\\u003cb\\u003eStart:\\u003c\\u002fb\\u003e 26051000\\u003cbr\\u003e\\u003cb\\u003eEnd:\\u003c\\u002fb\\u003e 26051193\\u003cbr\\u003e\\u003cb\\u003eSize:\\u003c\\u002fb\\u003e 193\\u003cbr\\u003e\\u003cextra\\u003e\\u003c\\u002fextra\\u003e\",\"legendgroup\":\"protein_coding\",\"legendgrouptitle\":{\"text\":\"\"},\"line\":{\"color\":\"black\",\"width\":0.25},\"marker\":{\"opacity\":0},\"mode\":\"lines+markers\",\"name\":\"protein_coding\",\"opacity\":1,\"showlegend\":false,\"x\":[5948,6141,6141,5948,5948],\"xaxis\":\"x\",\"y\":[0.85,0.85,1.15,1.15,0.85],\"yaxis\":\"y\",\"type\":\"scatter\"},{\"fill\":\"toself\",\"fillcolor\":\"#EF553B\",\"hoverlabel\":{\"namelength\":-1},\"hoveron\":\"fills+points\",\"hovertemplate\":\"\\u003cb\\u003etranscript_id:\\u003c\\u002fb\\u003e ENST00000348990\\u003cbr\\u003e\\u003cb\\u003eFeature Type:\\u003c\\u002fb\\u003e exon\\u003cbr\\u003e\\u003cb\\u003eFeature Number:\\u003c\\u002fb\\u003e 4\\u003cbr\\u003e\\u003cb\\u003eChromosome:\\u003c\\u002fb\\u003e 21\\u003cbr\\u003e\\u003cb\\u003eStart:\\u003c\\u002fb\\u003e 26053236\\u003cbr\\u003e\\u003cb\\u003eEnd:\\u003c\\u002fb\\u003e 26053348\\u003cbr\\u003e\\u003cb\\u003eSize:\\u003c\\u002fb\\u003e 112\\u003cbr\\u003e\\u003cextra\\u003e\\u003c\\u002fextra\\u003e\",\"legendgroup\":\"protein_coding\",\"legendgrouptitle\":{\"text\":\"\"},\"line\":{\"color\":\"black\",\"width\":0.25},\"marker\":{\"opacity\":0},\"mode\":\"lines+markers\",\"name\":\"protein_coding\",\"opacity\":1,\"showlegend\":false,\"x\":[6242,6354,6354,6242,6242],\"xaxis\":\"x\",\"y\":[0.85,0.85,1.15,1.15,0.85],\"yaxis\":\"y\",\"type\":\"scatter\"},{\"fill\":\"toself\",\"fillcolor\":\"#EF553B\",\"hoverlabel\":{\"namelength\":-1},\"hoveron\":\"fills+points\",\"hovertemplate\":\"\\u003cb\\u003etranscript_id:\\u003c\\u002fb\\u003e ENST00000348990\\u003cbr\\u003e\\u003cb\\u003eFeature Type:\\u003c\\u002fb\\u003e exon\\u003cbr\\u003e\\u003cb\\u003eFeature Number:\\u003c\\u002fb\\u003e 3\\u003cbr\\u003e\\u003cb\\u003eChromosome:\\u003c\\u002fb\\u003e 21\\u003cbr\\u003e\\u003cb\\u003eStart:\\u003c\\u002fb\\u003e 26089943\\u003cbr\\u003e\\u003cb\\u003eEnd:\\u003c\\u002fb\\u003e 26090072\\u003cbr\\u003e\\u003cb\\u003eSize:\\u003c\\u002fb\\u003e 129\\u003cbr\\u003e\\u003cextra\\u003e\\u003c\\u002fextra\\u003e\",\"legendgroup\":\"protein_coding\",\"legendgrouptitle\":{\"text\":\"\"},\"line\":{\"color\":\"black\",\"width\":0.25},\"marker\":{\"opacity\":0},\"mode\":\"lines+markers\",\"name\":\"protein_coding\",\"opacity\":1,\"showlegend\":false,\"x\":[7355,7484,7484,7355,7355],\"xaxis\":\"x\",\"y\":[0.85,0.85,1.15,1.15,0.85],\"yaxis\":\"y\",\"type\":\"scatter\"},{\"fill\":\"toself\",\"fillcolor\":\"#EF553B\",\"hoverlabel\":{\"namelength\":-1},\"hoveron\":\"fills+points\",\"hovertemplate\":\"\\u003cb\\u003etranscript_id:\\u003c\\u002fb\\u003e ENST00000348990\\u003cbr\\u003e\\u003cb\\u003eFeature Type:\\u003c\\u002fb\\u003e exon\\u003cbr\\u003e\\u003cb\\u003eFeature Number:\\u003c\\u002fb\\u003e 2\\u003cbr\\u003e\\u003cb\\u003eChromosome:\\u003c\\u002fb\\u003e 21\\u003cbr\\u003e\\u003cb\\u003eStart:\\u003c\\u002fb\\u003e 26111979\\u003cbr\\u003e\\u003cb\\u003eEnd:\\u003c\\u002fb\\u003e 26112146\\u003cbr\\u003e\\u003cb\\u003eSize:\\u003c\\u002fb\\u003e 167\\u003cbr\\u003e\\u003cextra\\u003e\\u003c\\u002fextra\\u003e\",\"legendgroup\":\"protein_coding\",\"legendgrouptitle\":{\"text\":\"\"},\"line\":{\"color\":\"black\",\"width\":0.25},\"marker\":{\"opacity\":0},\"mode\":\"lines+markers\",\"name\":\"protein_coding\",\"opacity\":1,\"showlegend\":false,\"x\":[7585,7752,7752,7585,7585],\"xaxis\":\"x\",\"y\":[0.85,0.85,1.15,1.15,0.85],\"yaxis\":\"y\",\"type\":\"scatter\"},{\"fill\":\"toself\",\"fillcolor\":\"#EF553B\",\"hoverlabel\":{\"namelength\":-1},\"hoveron\":\"fills+points\",\"hovertemplate\":\"\\u003cb\\u003etranscript_id:\\u003c\\u002fb\\u003e ENST00000348990\\u003cbr\\u003e\\u003cb\\u003eFeature Type:\\u003c\\u002fb\\u003e exon\\u003cbr\\u003e\\u003cb\\u003eFeature Number:\\u003c\\u002fb\\u003e 1\\u003cbr\\u003e\\u003cb\\u003eChromosome:\\u003c\\u002fb\\u003e 21\\u003cbr\\u003e\\u003cb\\u003eStart:\\u003c\\u002fb\\u003e 26170564\\u003cbr\\u003e\\u003cb\\u003eEnd:\\u003c\\u002fb\\u003e 26170767\\u003cbr\\u003e\\u003cb\\u003eSize:\\u003c\\u002fb\\u003e 203\\u003cbr\\u003e\\u003cextra\\u003e\\u003c\\u002fextra\\u003e\",\"legendgroup\":\"protein_coding\",\"legendgrouptitle\":{\"text\":\"\"},\"line\":{\"color\":\"black\",\"width\":0.25},\"marker\":{\"opacity\":0},\"mode\":\"lines+markers\",\"name\":\"protein_coding\",\"opacity\":1,\"showlegend\":false,\"x\":[8742,8945,8945,8742,8742],\"xaxis\":\"x\",\"y\":[0.85,0.85,1.15,1.15,0.85],\"yaxis\":\"y\",\"type\":\"scatter\"},{\"fill\":\"toself\",\"fillcolor\":\"#EF553B\",\"hoverlabel\":{\"namelength\":-1},\"hoveron\":\"fills+points\",\"hovertemplate\":\"\\u003cb\\u003etranscript_id:\\u003c\\u002fb\\u003e ENST00000348990\\u003cbr\\u003e\\u003cb\\u003eFeature Type:\\u003c\\u002fb\\u003e CDS\\u003cbr\\u003e\\u003cb\\u003eFeature Number:\\u003c\\u002fb\\u003e 16\\u003cbr\\u003e\\u003cb\\u003eChromosome:\\u003c\\u002fb\\u003e 21\\u003cbr\\u003e\\u003cb\\u003eStart:\\u003c\\u002fb\\u003e 25881673\\u003cbr\\u003e\\u003cb\\u003eEnd:\\u003c\\u002fb\\u003e 25881771\\u003cbr\\u003e\\u003cb\\u003eSize:\\u003c\\u002fb\\u003e 98\\u003cbr\\u003e\\u003cextra\\u003e\\u003c\\u002fextra\\u003e\",\"legendgroup\":\"protein_coding\",\"legendgrouptitle\":{\"text\":\"\"},\"line\":{\"color\":\"black\",\"width\":0.25},\"marker\":{\"opacity\":0},\"mode\":\"lines+markers\",\"name\":\"protein_coding\",\"opacity\":1,\"showlegend\":false,\"x\":[1140,1238,1238,1140,1140],\"xaxis\":\"x\",\"y\":[0.75,0.75,1.25,1.25,0.75],\"yaxis\":\"y\",\"type\":\"scatter\"},{\"fill\":\"toself\",\"fillcolor\":\"#EF553B\",\"hoverlabel\":{\"namelength\":-1},\"hoveron\":\"fills+points\",\"hovertemplate\":\"\\u003cb\\u003etranscript_id:\\u003c\\u002fb\\u003e ENST00000348990\\u003cbr\\u003e\\u003cb\\u003eFeature Type:\\u003c\\u002fb\\u003e CDS\\u003cbr\\u003e\\u003cb\\u003eFeature Number:\\u003c\\u002fb\\u003e 15\\u003cbr\\u003e\\u003cb\\u003eChromosome:\\u003c\\u002fb\\u003e 21\\u003cbr\\u003e\\u003cb\\u003eStart:\\u003c\\u002fb\\u003e 25891722\\u003cbr\\u003e\\u003cb\\u003eEnd:\\u003c\\u002fb\\u003e 25891868\\u003cbr\\u003e\\u003cb\\u003eSize:\\u003c\\u002fb\\u003e 146\\u003cbr\\u003e\\u003cextra\\u003e\\u003c\\u002fextra\\u003e\",\"legendgroup\":\"protein_coding\",\"legendgrouptitle\":{\"text\":\"\"},\"line\":{\"color\":\"black\",\"width\":0.25},\"marker\":{\"opacity\":0},\"mode\":\"lines+markers\",\"name\":\"protein_coding\",\"opacity\":1,\"showlegend\":false,\"x\":[1339,1485,1485,1339,1339],\"xaxis\":\"x\",\"y\":[0.75,0.75,1.25,1.25,0.75],\"yaxis\":\"y\",\"type\":\"scatter\"},{\"fill\":\"toself\",\"fillcolor\":\"#EF553B\",\"hoverlabel\":{\"namelength\":-1},\"hoveron\":\"fills+points\",\"hovertemplate\":\"\\u003cb\\u003etranscript_id:\\u003c\\u002fb\\u003e ENST00000348990\\u003cbr\\u003e\\u003cb\\u003eFeature Type:\\u003c\\u002fb\\u003e CDS\\u003cbr\\u003e\\u003cb\\u003eFeature Number:\\u003c\\u002fb\\u003e 14\\u003cbr\\u003e\\u003cb\\u003eChromosome:\\u003c\\u002fb\\u003e 21\\u003cbr\\u003e\\u003cb\\u003eStart:\\u003c\\u002fb\\u003e 25897573\\u003cbr\\u003e\\u003cb\\u003eEnd:\\u003c\\u002fb\\u003e 25897673\\u003cbr\\u003e\\u003cb\\u003eSize:\\u003c\\u002fb\\u003e 100\\u003cbr\\u003e\\u003cextra\\u003e\\u003c\\u002fextra\\u003e\",\"legendgroup\":\"protein_coding\",\"legendgrouptitle\":{\"text\":\"\"},\"line\":{\"color\":\"black\",\"width\":0.25},\"marker\":{\"opacity\":0},\"mode\":\"lines+markers\",\"name\":\"protein_coding\",\"opacity\":1,\"showlegend\":false,\"x\":[1586,1686,1686,1586,1586],\"xaxis\":\"x\",\"y\":[0.75,0.75,1.25,1.25,0.75],\"yaxis\":\"y\",\"type\":\"scatter\"},{\"fill\":\"toself\",\"fillcolor\":\"#EF553B\",\"hoverlabel\":{\"namelength\":-1},\"hoveron\":\"fills+points\",\"hovertemplate\":\"\\u003cb\\u003etranscript_id:\\u003c\\u002fb\\u003e ENST00000348990\\u003cbr\\u003e\\u003cb\\u003eFeature Type:\\u003c\\u002fb\\u003e CDS\\u003cbr\\u003e\\u003cb\\u003eFeature Number:\\u003c\\u002fb\\u003e 13\\u003cbr\\u003e\\u003cb\\u003eChromosome:\\u003c\\u002fb\\u003e 21\\u003cbr\\u003e\\u003cb\\u003eStart:\\u003c\\u002fb\\u003e 25905024\\u003cbr\\u003e\\u003cb\\u003eEnd:\\u003c\\u002fb\\u003e 25905077\\u003cbr\\u003e\\u003cb\\u003eSize:\\u003c\\u002fb\\u003e 53\\u003cbr\\u003e\\u003cextra\\u003e\\u003c\\u002fextra\\u003e\",\"legendgroup\":\"protein_coding\",\"legendgrouptitle\":{\"text\":\"\"},\"line\":{\"color\":\"black\",\"width\":0.25},\"marker\":{\"opacity\":0},\"mode\":\"lines+markers\",\"name\":\"protein_coding\",\"opacity\":1,\"showlegend\":false,\"x\":[2097,2150,2150,2097,2097],\"xaxis\":\"x\",\"y\":[0.75,0.75,1.25,1.25,0.75],\"yaxis\":\"y\",\"type\":\"scatter\"},{\"fill\":\"toself\",\"fillcolor\":\"#EF553B\",\"hoverlabel\":{\"namelength\":-1},\"hoveron\":\"fills+points\",\"hovertemplate\":\"\\u003cb\\u003etranscript_id:\\u003c\\u002fb\\u003e ENST00000348990\\u003cbr\\u003e\\u003cb\\u003eFeature Type:\\u003c\\u002fb\\u003e CDS\\u003cbr\\u003e\\u003cb\\u003eFeature Number:\\u003c\\u002fb\\u003e 12\\u003cbr\\u003e\\u003cb\\u003eChromosome:\\u003c\\u002fb\\u003e 21\\u003cbr\\u003e\\u003cb\\u003eStart:\\u003c\\u002fb\\u003e 25911741\\u003cbr\\u003e\\u003cb\\u003eEnd:\\u003c\\u002fb\\u003e 25911962\\u003cbr\\u003e\\u003cb\\u003eSize:\\u003c\\u002fb\\u003e 221\\u003cbr\\u003e\\u003cextra\\u003e\\u003c\\u002fextra\\u003e\",\"legendgroup\":\"protein_coding\",\"legendgrouptitle\":{\"text\":\"\"},\"line\":{\"color\":\"black\",\"width\":0.25},\"marker\":{\"opacity\":0},\"mode\":\"lines+markers\",\"name\":\"protein_coding\",\"opacity\":1,\"showlegend\":false,\"x\":[2251,2472,2472,2251,2251],\"xaxis\":\"x\",\"y\":[0.75,0.75,1.25,1.25,0.75],\"yaxis\":\"y\",\"type\":\"scatter\"},{\"fill\":\"toself\",\"fillcolor\":\"#EF553B\",\"hoverlabel\":{\"namelength\":-1},\"hoveron\":\"fills+points\",\"hovertemplate\":\"\\u003cb\\u003etranscript_id:\\u003c\\u002fb\\u003e ENST00000348990\\u003cbr\\u003e\\u003cb\\u003eFeature Type:\\u003c\\u002fb\\u003e CDS\\u003cbr\\u003e\\u003cb\\u003eFeature Number:\\u003c\\u002fb\\u003e 11\\u003cbr\\u003e\\u003cb\\u003eChromosome:\\u003c\\u002fb\\u003e 21\\u003cbr\\u003e\\u003cb\\u003eStart:\\u003c\\u002fb\\u003e 25954590\\u003cbr\\u003e\\u003cb\\u003eEnd:\\u003c\\u002fb\\u003e 25954689\\u003cbr\\u003e\\u003cb\\u003eSize:\\u003c\\u002fb\\u003e 99\\u003cbr\\u003e\\u003cextra\\u003e\\u003c\\u002fextra\\u003e\",\"legendgroup\":\"protein_coding\",\"legendgrouptitle\":{\"text\":\"\"},\"line\":{\"color\":\"black\",\"width\":0.25},\"marker\":{\"opacity\":0},\"mode\":\"lines+markers\",\"name\":\"protein_coding\",\"opacity\":1,\"showlegend\":false,\"x\":[3309,3408,3408,3309,3309],\"xaxis\":\"x\",\"y\":[0.75,0.75,1.25,1.25,0.75],\"yaxis\":\"y\",\"type\":\"scatter\"},{\"fill\":\"toself\",\"fillcolor\":\"#EF553B\",\"hoverlabel\":{\"namelength\":-1},\"hoveron\":\"fills+points\",\"hovertemplate\":\"\\u003cb\\u003etranscript_id:\\u003c\\u002fb\\u003e ENST00000348990\\u003cbr\\u003e\\u003cb\\u003eFeature Type:\\u003c\\u002fb\\u003e CDS\\u003cbr\\u003e\\u003cb\\u003eFeature Number:\\u003c\\u002fb\\u003e 10\\u003cbr\\u003e\\u003cb\\u003eChromosome:\\u003c\\u002fb\\u003e 21\\u003cbr\\u003e\\u003cb\\u003eStart:\\u003c\\u002fb\\u003e 25955627\\u003cbr\\u003e\\u003cb\\u003eEnd:\\u003c\\u002fb\\u003e 25955755\\u003cbr\\u003e\\u003cb\\u003eSize:\\u003c\\u002fb\\u003e 128\\u003cbr\\u003e\\u003cextra\\u003e\\u003c\\u002fextra\\u003e\",\"legendgroup\":\"protein_coding\",\"legendgrouptitle\":{\"text\":\"\"},\"line\":{\"color\":\"black\",\"width\":0.25},\"marker\":{\"opacity\":0},\"mode\":\"lines+markers\",\"name\":\"protein_coding\",\"opacity\":1,\"showlegend\":false,\"x\":[3509,3637,3637,3509,3509],\"xaxis\":\"x\",\"y\":[0.75,0.75,1.25,1.25,0.75],\"yaxis\":\"y\",\"type\":\"scatter\"},{\"fill\":\"toself\",\"fillcolor\":\"#EF553B\",\"hoverlabel\":{\"namelength\":-1},\"hoveron\":\"fills+points\",\"hovertemplate\":\"\\u003cb\\u003etranscript_id:\\u003c\\u002fb\\u003e ENST00000348990\\u003cbr\\u003e\\u003cb\\u003eFeature Type:\\u003c\\u002fb\\u003e CDS\\u003cbr\\u003e\\u003cb\\u003eFeature Number:\\u003c\\u002fb\\u003e 9\\u003cbr\\u003e\\u003cb\\u003eChromosome:\\u003c\\u002fb\\u003e 21\\u003cbr\\u003e\\u003cb\\u003eStart:\\u003c\\u002fb\\u003e 25975070\\u003cbr\\u003e\\u003cb\\u003eEnd:\\u003c\\u002fb\\u003e 25975228\\u003cbr\\u003e\\u003cb\\u003eSize:\\u003c\\u002fb\\u003e 158\\u003cbr\\u003e\\u003cextra\\u003e\\u003c\\u002fextra\\u003e\",\"legendgroup\":\"protein_coding\",\"legendgrouptitle\":{\"text\":\"\"},\"line\":{\"color\":\"black\",\"width\":0.25},\"marker\":{\"opacity\":0},\"mode\":\"lines+markers\",\"name\":\"protein_coding\",\"opacity\":1,\"showlegend\":false,\"x\":[3962,4120,4120,3962,3962],\"xaxis\":\"x\",\"y\":[0.75,0.75,1.25,1.25,0.75],\"yaxis\":\"y\",\"type\":\"scatter\"},{\"fill\":\"toself\",\"fillcolor\":\"#EF553B\",\"hoverlabel\":{\"namelength\":-1},\"hoveron\":\"fills+points\",\"hovertemplate\":\"\\u003cb\\u003etranscript_id:\\u003c\\u002fb\\u003e ENST00000348990\\u003cbr\\u003e\\u003cb\\u003eFeature Type:\\u003c\\u002fb\\u003e CDS\\u003cbr\\u003e\\u003cb\\u003eFeature Number:\\u003c\\u002fb\\u003e 8\\u003cbr\\u003e\\u003cb\\u003eChromosome:\\u003c\\u002fb\\u003e 21\\u003cbr\\u003e\\u003cb\\u003eStart:\\u003c\\u002fb\\u003e 25975954\\u003cbr\\u003e\\u003cb\\u003eEnd:\\u003c\\u002fb\\u003e 25976028\\u003cbr\\u003e\\u003cb\\u003eSize:\\u003c\\u002fb\\u003e 74\\u003cbr\\u003e\\u003cextra\\u003e\\u003c\\u002fextra\\u003e\",\"legendgroup\":\"protein_coding\",\"legendgrouptitle\":{\"text\":\"\"},\"line\":{\"color\":\"black\",\"width\":0.25},\"marker\":{\"opacity\":0},\"mode\":\"lines+markers\",\"name\":\"protein_coding\",\"opacity\":1,\"showlegend\":false,\"x\":[4221,4295,4295,4221,4221],\"xaxis\":\"x\",\"y\":[0.75,0.75,1.25,1.25,0.75],\"yaxis\":\"y\",\"type\":\"scatter\"},{\"fill\":\"toself\",\"fillcolor\":\"#EF553B\",\"hoverlabel\":{\"namelength\":-1},\"hoveron\":\"fills+points\",\"hovertemplate\":\"\\u003cb\\u003etranscript_id:\\u003c\\u002fb\\u003e ENST00000348990\\u003cbr\\u003e\\u003cb\\u003eFeature Type:\\u003c\\u002fb\\u003e CDS\\u003cbr\\u003e\\u003cb\\u003eFeature Number:\\u003c\\u002fb\\u003e 7\\u003cbr\\u003e\\u003cb\\u003eChromosome:\\u003c\\u002fb\\u003e 21\\u003cbr\\u003e\\u003cb\\u003eStart:\\u003c\\u002fb\\u003e 25982344\\u003cbr\\u003e\\u003cb\\u003eEnd:\\u003c\\u002fb\\u003e 25982477\\u003cbr\\u003e\\u003cb\\u003eSize:\\u003c\\u002fb\\u003e 133\\u003cbr\\u003e\\u003cextra\\u003e\\u003c\\u002fextra\\u003e\",\"legendgroup\":\"protein_coding\",\"legendgrouptitle\":{\"text\":\"\"},\"line\":{\"color\":\"black\",\"width\":0.25},\"marker\":{\"opacity\":0},\"mode\":\"lines+markers\",\"name\":\"protein_coding\",\"opacity\":1,\"showlegend\":false,\"x\":[4396,4529,4529,4396,4396],\"xaxis\":\"x\",\"y\":[0.75,0.75,1.25,1.25,0.75],\"yaxis\":\"y\",\"type\":\"scatter\"},{\"fill\":\"toself\",\"fillcolor\":\"#EF553B\",\"hoverlabel\":{\"namelength\":-1},\"hoveron\":\"fills+points\",\"hovertemplate\":\"\\u003cb\\u003etranscript_id:\\u003c\\u002fb\\u003e ENST00000348990\\u003cbr\\u003e\\u003cb\\u003eFeature Type:\\u003c\\u002fb\\u003e CDS\\u003cbr\\u003e\\u003cb\\u003eFeature Number:\\u003c\\u002fb\\u003e 6\\u003cbr\\u003e\\u003cb\\u003eChromosome:\\u003c\\u002fb\\u003e 21\\u003cbr\\u003e\\u003cb\\u003eStart:\\u003c\\u002fb\\u003e 26021840\\u003cbr\\u003e\\u003cb\\u003eEnd:\\u003c\\u002fb\\u003e 26022042\\u003cbr\\u003e\\u003cb\\u003eSize:\\u003c\\u002fb\\u003e 202\\u003cbr\\u003e\\u003cextra\\u003e\\u003c\\u002fextra\\u003e\",\"legendgroup\":\"protein_coding\",\"legendgrouptitle\":{\"text\":\"\"},\"line\":{\"color\":\"black\",\"width\":0.25},\"marker\":{\"opacity\":0},\"mode\":\"lines+markers\",\"name\":\"protein_coding\",\"opacity\":1,\"showlegend\":false,\"x\":[5645,5847,5847,5645,5645],\"xaxis\":\"x\",\"y\":[0.75,0.75,1.25,1.25,0.75],\"yaxis\":\"y\",\"type\":\"scatter\"},{\"fill\":\"toself\",\"fillcolor\":\"#EF553B\",\"hoverlabel\":{\"namelength\":-1},\"hoveron\":\"fills+points\",\"hovertemplate\":\"\\u003cb\\u003etranscript_id:\\u003c\\u002fb\\u003e ENST00000348990\\u003cbr\\u003e\\u003cb\\u003eFeature Type:\\u003c\\u002fb\\u003e CDS\\u003cbr\\u003e\\u003cb\\u003eFeature Number:\\u003c\\u002fb\\u003e 5\\u003cbr\\u003e\\u003cb\\u003eChromosome:\\u003c\\u002fb\\u003e 21\\u003cbr\\u003e\\u003cb\\u003eStart:\\u003c\\u002fb\\u003e 26051000\\u003cbr\\u003e\\u003cb\\u003eEnd:\\u003c\\u002fb\\u003e 26051193\\u003cbr\\u003e\\u003cb\\u003eSize:\\u003c\\u002fb\\u003e 193\\u003cbr\\u003e\\u003cextra\\u003e\\u003c\\u002fextra\\u003e\",\"legendgroup\":\"protein_coding\",\"legendgrouptitle\":{\"text\":\"\"},\"line\":{\"color\":\"black\",\"width\":0.25},\"marker\":{\"opacity\":0},\"mode\":\"lines+markers\",\"name\":\"protein_coding\",\"opacity\":1,\"showlegend\":false,\"x\":[5948,6141,6141,5948,5948],\"xaxis\":\"x\",\"y\":[0.75,0.75,1.25,1.25,0.75],\"yaxis\":\"y\",\"type\":\"scatter\"},{\"fill\":\"toself\",\"fillcolor\":\"#EF553B\",\"hoverlabel\":{\"namelength\":-1},\"hoveron\":\"fills+points\",\"hovertemplate\":\"\\u003cb\\u003etranscript_id:\\u003c\\u002fb\\u003e ENST00000348990\\u003cbr\\u003e\\u003cb\\u003eFeature Type:\\u003c\\u002fb\\u003e CDS\\u003cbr\\u003e\\u003cb\\u003eFeature Number:\\u003c\\u002fb\\u003e 4\\u003cbr\\u003e\\u003cb\\u003eChromosome:\\u003c\\u002fb\\u003e 21\\u003cbr\\u003e\\u003cb\\u003eStart:\\u003c\\u002fb\\u003e 26053236\\u003cbr\\u003e\\u003cb\\u003eEnd:\\u003c\\u002fb\\u003e 26053348\\u003cbr\\u003e\\u003cb\\u003eSize:\\u003c\\u002fb\\u003e 112\\u003cbr\\u003e\\u003cextra\\u003e\\u003c\\u002fextra\\u003e\",\"legendgroup\":\"protein_coding\",\"legendgrouptitle\":{\"text\":\"\"},\"line\":{\"color\":\"black\",\"width\":0.25},\"marker\":{\"opacity\":0},\"mode\":\"lines+markers\",\"name\":\"protein_coding\",\"opacity\":1,\"showlegend\":false,\"x\":[6242,6354,6354,6242,6242],\"xaxis\":\"x\",\"y\":[0.75,0.75,1.25,1.25,0.75],\"yaxis\":\"y\",\"type\":\"scatter\"},{\"fill\":\"toself\",\"fillcolor\":\"#EF553B\",\"hoverlabel\":{\"namelength\":-1},\"hoveron\":\"fills+points\",\"hovertemplate\":\"\\u003cb\\u003etranscript_id:\\u003c\\u002fb\\u003e ENST00000348990\\u003cbr\\u003e\\u003cb\\u003eFeature Type:\\u003c\\u002fb\\u003e CDS\\u003cbr\\u003e\\u003cb\\u003eFeature Number:\\u003c\\u002fb\\u003e 3\\u003cbr\\u003e\\u003cb\\u003eChromosome:\\u003c\\u002fb\\u003e 21\\u003cbr\\u003e\\u003cb\\u003eStart:\\u003c\\u002fb\\u003e 26089943\\u003cbr\\u003e\\u003cb\\u003eEnd:\\u003c\\u002fb\\u003e 26090072\\u003cbr\\u003e\\u003cb\\u003eSize:\\u003c\\u002fb\\u003e 129\\u003cbr\\u003e\\u003cextra\\u003e\\u003c\\u002fextra\\u003e\",\"legendgroup\":\"protein_coding\",\"legendgrouptitle\":{\"text\":\"\"},\"line\":{\"color\":\"black\",\"width\":0.25},\"marker\":{\"opacity\":0},\"mode\":\"lines+markers\",\"name\":\"protein_coding\",\"opacity\":1,\"showlegend\":false,\"x\":[7355,7484,7484,7355,7355],\"xaxis\":\"x\",\"y\":[0.75,0.75,1.25,1.25,0.75],\"yaxis\":\"y\",\"type\":\"scatter\"},{\"fill\":\"toself\",\"fillcolor\":\"#EF553B\",\"hoverlabel\":{\"namelength\":-1},\"hoveron\":\"fills+points\",\"hovertemplate\":\"\\u003cb\\u003etranscript_id:\\u003c\\u002fb\\u003e ENST00000348990\\u003cbr\\u003e\\u003cb\\u003eFeature Type:\\u003c\\u002fb\\u003e CDS\\u003cbr\\u003e\\u003cb\\u003eFeature Number:\\u003c\\u002fb\\u003e 2\\u003cbr\\u003e\\u003cb\\u003eChromosome:\\u003c\\u002fb\\u003e 21\\u003cbr\\u003e\\u003cb\\u003eStart:\\u003c\\u002fb\\u003e 26111979\\u003cbr\\u003e\\u003cb\\u003eEnd:\\u003c\\u002fb\\u003e 26112146\\u003cbr\\u003e\\u003cb\\u003eSize:\\u003c\\u002fb\\u003e 167\\u003cbr\\u003e\\u003cextra\\u003e\\u003c\\u002fextra\\u003e\",\"legendgroup\":\"protein_coding\",\"legendgrouptitle\":{\"text\":\"\"},\"line\":{\"color\":\"black\",\"width\":0.25},\"marker\":{\"opacity\":0},\"mode\":\"lines+markers\",\"name\":\"protein_coding\",\"opacity\":1,\"showlegend\":false,\"x\":[7585,7752,7752,7585,7585],\"xaxis\":\"x\",\"y\":[0.75,0.75,1.25,1.25,0.75],\"yaxis\":\"y\",\"type\":\"scatter\"},{\"fill\":\"toself\",\"fillcolor\":\"#EF553B\",\"hoverlabel\":{\"namelength\":-1},\"hoveron\":\"fills+points\",\"hovertemplate\":\"\\u003cb\\u003etranscript_id:\\u003c\\u002fb\\u003e ENST00000348990\\u003cbr\\u003e\\u003cb\\u003eFeature Type:\\u003c\\u002fb\\u003e CDS\\u003cbr\\u003e\\u003cb\\u003eFeature Number:\\u003c\\u002fb\\u003e 1\\u003cbr\\u003e\\u003cb\\u003eChromosome:\\u003c\\u002fb\\u003e 21\\u003cbr\\u003e\\u003cb\\u003eStart:\\u003c\\u002fb\\u003e 26170564\\u003cbr\\u003e\\u003cb\\u003eEnd:\\u003c\\u002fb\\u003e 26170620\\u003cbr\\u003e\\u003cb\\u003eSize:\\u003c\\u002fb\\u003e 56\\u003cbr\\u003e\\u003cextra\\u003e\\u003c\\u002fextra\\u003e\",\"legendgroup\":\"protein_coding\",\"legendgrouptitle\":{\"text\":\"\"},\"line\":{\"color\":\"black\",\"width\":0.25},\"marker\":{\"opacity\":0},\"mode\":\"lines+markers\",\"name\":\"protein_coding\",\"opacity\":1,\"showlegend\":false,\"x\":[8742,8798,8798,8742,8742],\"xaxis\":\"x\",\"y\":[0.75,0.75,1.25,1.25,0.75],\"yaxis\":\"y\",\"type\":\"scatter\"},{\"hovertemplate\":\"\\u003cb\\u003etranscript_id:\\u003c\\u002fb\\u003e ENST00000707133\\u003cbr\\u003e\\u003cb\\u003eFeature Type:\\u003c\\u002fb\\u003e intron\\u003cbr\\u003e\\u003cb\\u003eFeature Number:\\u003c\\u002fb\\u003e 5\\u003cbr\\u003e\\u003cb\\u003eChromosome:\\u003c\\u002fb\\u003e 21\\u003cbr\\u003e\\u003cb\\u003eStart:\\u003c\\u002fb\\u003e 25881771\\u003cbr\\u003e\\u003cb\\u003eEnd:\\u003c\\u002fb\\u003e 25891722\\u003cbr\\u003e\\u003cb\\u003eSize:\\u003c\\u002fb\\u003e 9951\\u003cbr\\u003e\\u003cextra\\u003e\\u003c\\u002fextra\\u003e\",\"line\":{\"color\":\"black\",\"width\":0.5},\"mode\":\"lines\",\"opacity\":1,\"showlegend\":false,\"x\":[1238,1339],\"xaxis\":\"x\",\"y\":[0,0],\"yaxis\":\"y\",\"type\":\"scatter\"},{\"hovertemplate\":\"\\u003cb\\u003etranscript_id:\\u003c\\u002fb\\u003e ENST00000707133\\u003cbr\\u003e\\u003cb\\u003eFeature Type:\\u003c\\u002fb\\u003e intron\\u003cbr\\u003e\\u003cb\\u003eFeature Number:\\u003c\\u002fb\\u003e 4\\u003cbr\\u003e\\u003cb\\u003eChromosome:\\u003c\\u002fb\\u003e 21\\u003cbr\\u003e\\u003cb\\u003eStart:\\u003c\\u002fb\\u003e 25891868\\u003cbr\\u003e\\u003cb\\u003eEnd:\\u003c\\u002fb\\u003e 25897573\\u003cbr\\u003e\\u003cb\\u003eSize:\\u003c\\u002fb\\u003e 5705\\u003cbr\\u003e\\u003cextra\\u003e\\u003c\\u002fextra\\u003e\",\"line\":{\"color\":\"black\",\"width\":0.5},\"mode\":\"lines\",\"opacity\":1,\"showlegend\":false,\"x\":[1485,1586],\"xaxis\":\"x\",\"y\":[0,0],\"yaxis\":\"y\",\"type\":\"scatter\"},{\"hovertemplate\":\"\\u003cb\\u003etranscript_id:\\u003c\\u002fb\\u003e ENST00000707133\\u003cbr\\u003e\\u003cb\\u003eFeature Type:\\u003c\\u002fb\\u003e intron\\u003cbr\\u003e\\u003cb\\u003eFeature Number:\\u003c\\u002fb\\u003e 3\\u003cbr\\u003e\\u003cb\\u003eChromosome:\\u003c\\u002fb\\u003e 21\\u003cbr\\u003e\\u003cb\\u003eStart:\\u003c\\u002fb\\u003e 25897673\\u003cbr\\u003e\\u003cb\\u003eEnd:\\u003c\\u002fb\\u003e 25905024\\u003cbr\\u003e\\u003cb\\u003eSize:\\u003c\\u002fb\\u003e 7351\\u003cbr\\u003e\\u003cextra\\u003e\\u003c\\u002fextra\\u003e\",\"line\":{\"color\":\"black\",\"width\":0.5},\"mode\":\"lines\",\"opacity\":1,\"showlegend\":false,\"x\":[1686,2097],\"xaxis\":\"x\",\"y\":[0,0],\"yaxis\":\"y\",\"type\":\"scatter\"},{\"hovertemplate\":\"\\u003cb\\u003etranscript_id:\\u003c\\u002fb\\u003e ENST00000707133\\u003cbr\\u003e\\u003cb\\u003eFeature Type:\\u003c\\u002fb\\u003e intron\\u003cbr\\u003e\\u003cb\\u003eFeature Number:\\u003c\\u002fb\\u003e 2\\u003cbr\\u003e\\u003cb\\u003eChromosome:\\u003c\\u002fb\\u003e 21\\u003cbr\\u003e\\u003cb\\u003eStart:\\u003c\\u002fb\\u003e 25905077\\u003cbr\\u003e\\u003cb\\u003eEnd:\\u003c\\u002fb\\u003e 25911741\\u003cbr\\u003e\\u003cb\\u003eSize:\\u003c\\u002fb\\u003e 6664\\u003cbr\\u003e\\u003cextra\\u003e\\u003c\\u002fextra\\u003e\",\"line\":{\"color\":\"black\",\"width\":0.5},\"mode\":\"lines\",\"opacity\":1,\"showlegend\":false,\"x\":[2150,2251],\"xaxis\":\"x\",\"y\":[0,0],\"yaxis\":\"y\",\"type\":\"scatter\"},{\"hovertemplate\":\"\\u003cb\\u003etranscript_id:\\u003c\\u002fb\\u003e ENST00000707133\\u003cbr\\u003e\\u003cb\\u003eFeature Type:\\u003c\\u002fb\\u003e intron\\u003cbr\\u003e\\u003cb\\u003eFeature Number:\\u003c\\u002fb\\u003e 1\\u003cbr\\u003e\\u003cb\\u003eChromosome:\\u003c\\u002fb\\u003e 21\\u003cbr\\u003e\\u003cb\\u003eStart:\\u003c\\u002fb\\u003e 25911962\\u003cbr\\u003e\\u003cb\\u003eEnd:\\u003c\\u002fb\\u003e 25925059\\u003cbr\\u003e\\u003cb\\u003eSize:\\u003c\\u002fb\\u003e 13097\\u003cbr\\u003e\\u003cextra\\u003e\\u003c\\u002fextra\\u003e\",\"line\":{\"color\":\"black\",\"width\":0.5},\"mode\":\"lines\",\"opacity\":1,\"showlegend\":false,\"x\":[2472,2573],\"xaxis\":\"x\",\"y\":[0,0],\"yaxis\":\"y\",\"type\":\"scatter\"},{\"hovertemplate\":\"\\u003cb\\u003etranscript_id:\\u003c\\u002fb\\u003e ENST00000348990\\u003cbr\\u003e\\u003cb\\u003eFeature Type:\\u003c\\u002fb\\u003e intron\\u003cbr\\u003e\\u003cb\\u003eFeature Number:\\u003c\\u002fb\\u003e 15\\u003cbr\\u003e\\u003cb\\u003eChromosome:\\u003c\\u002fb\\u003e 21\\u003cbr\\u003e\\u003cb\\u003eStart:\\u003c\\u002fb\\u003e 25881771\\u003cbr\\u003e\\u003cb\\u003eEnd:\\u003c\\u002fb\\u003e 25891722\\u003cbr\\u003e\\u003cb\\u003eSize:\\u003c\\u002fb\\u003e 9951\\u003cbr\\u003e\\u003cextra\\u003e\\u003c\\u002fextra\\u003e\",\"line\":{\"color\":\"black\",\"width\":0.5},\"mode\":\"lines\",\"opacity\":1,\"showlegend\":false,\"x\":[1238,1339],\"xaxis\":\"x\",\"y\":[1,1],\"yaxis\":\"y\",\"type\":\"scatter\"},{\"hovertemplate\":\"\\u003cb\\u003etranscript_id:\\u003c\\u002fb\\u003e ENST00000348990\\u003cbr\\u003e\\u003cb\\u003eFeature Type:\\u003c\\u002fb\\u003e intron\\u003cbr\\u003e\\u003cb\\u003eFeature Number:\\u003c\\u002fb\\u003e 14\\u003cbr\\u003e\\u003cb\\u003eChromosome:\\u003c\\u002fb\\u003e 21\\u003cbr\\u003e\\u003cb\\u003eStart:\\u003c\\u002fb\\u003e 25891868\\u003cbr\\u003e\\u003cb\\u003eEnd:\\u003c\\u002fb\\u003e 25897573\\u003cbr\\u003e\\u003cb\\u003eSize:\\u003c\\u002fb\\u003e 5705\\u003cbr\\u003e\\u003cextra\\u003e\\u003c\\u002fextra\\u003e\",\"line\":{\"color\":\"black\",\"width\":0.5},\"mode\":\"lines\",\"opacity\":1,\"showlegend\":false,\"x\":[1485,1586],\"xaxis\":\"x\",\"y\":[1,1],\"yaxis\":\"y\",\"type\":\"scatter\"},{\"hovertemplate\":\"\\u003cb\\u003etranscript_id:\\u003c\\u002fb\\u003e ENST00000348990\\u003cbr\\u003e\\u003cb\\u003eFeature Type:\\u003c\\u002fb\\u003e intron\\u003cbr\\u003e\\u003cb\\u003eFeature Number:\\u003c\\u002fb\\u003e 13\\u003cbr\\u003e\\u003cb\\u003eChromosome:\\u003c\\u002fb\\u003e 21\\u003cbr\\u003e\\u003cb\\u003eStart:\\u003c\\u002fb\\u003e 25897673\\u003cbr\\u003e\\u003cb\\u003eEnd:\\u003c\\u002fb\\u003e 25905024\\u003cbr\\u003e\\u003cb\\u003eSize:\\u003c\\u002fb\\u003e 7351\\u003cbr\\u003e\\u003cextra\\u003e\\u003c\\u002fextra\\u003e\",\"line\":{\"color\":\"black\",\"width\":0.5},\"mode\":\"lines\",\"opacity\":1,\"showlegend\":false,\"x\":[1686,2097],\"xaxis\":\"x\",\"y\":[1,1],\"yaxis\":\"y\",\"type\":\"scatter\"},{\"hovertemplate\":\"\\u003cb\\u003etranscript_id:\\u003c\\u002fb\\u003e ENST00000348990\\u003cbr\\u003e\\u003cb\\u003eFeature Type:\\u003c\\u002fb\\u003e intron\\u003cbr\\u003e\\u003cb\\u003eFeature Number:\\u003c\\u002fb\\u003e 12\\u003cbr\\u003e\\u003cb\\u003eChromosome:\\u003c\\u002fb\\u003e 21\\u003cbr\\u003e\\u003cb\\u003eStart:\\u003c\\u002fb\\u003e 25905077\\u003cbr\\u003e\\u003cb\\u003eEnd:\\u003c\\u002fb\\u003e 25911741\\u003cbr\\u003e\\u003cb\\u003eSize:\\u003c\\u002fb\\u003e 6664\\u003cbr\\u003e\\u003cextra\\u003e\\u003c\\u002fextra\\u003e\",\"line\":{\"color\":\"black\",\"width\":0.5},\"mode\":\"lines\",\"opacity\":1,\"showlegend\":false,\"x\":[2150,2251],\"xaxis\":\"x\",\"y\":[1,1],\"yaxis\":\"y\",\"type\":\"scatter\"},{\"hoverinfo\":\"skip\",\"marker\":{\"color\":\"black\",\"size\":7,\"symbol\":\"arrow-left\"},\"mode\":\"markers\",\"opacity\":1,\"showlegend\":false,\"x\":[2770.9285714285716],\"xaxis\":\"x\",\"y\":[1],\"yaxis\":\"y\",\"type\":\"scatter\"},{\"hovertemplate\":\"\\u003cb\\u003etranscript_id:\\u003c\\u002fb\\u003e ENST00000348990\\u003cbr\\u003e\\u003cb\\u003eFeature Type:\\u003c\\u002fb\\u003e intron\\u003cbr\\u003e\\u003cb\\u003eFeature Number:\\u003c\\u002fb\\u003e 11\\u003cbr\\u003e\\u003cb\\u003eChromosome:\\u003c\\u002fb\\u003e 21\\u003cbr\\u003e\\u003cb\\u003eStart:\\u003c\\u002fb\\u003e 25911962\\u003cbr\\u003e\\u003cb\\u003eEnd:\\u003c\\u002fb\\u003e 25954590\\u003cbr\\u003e\\u003cb\\u003eSize:\\u003c\\u002fb\\u003e 42628\\u003cbr\\u003e\\u003cextra\\u003e\\u003c\\u002fextra\\u003e\",\"line\":{\"color\":\"black\",\"width\":0.5},\"mode\":\"lines\",\"opacity\":1,\"showlegend\":false,\"x\":[2472,3309],\"xaxis\":\"x\",\"y\":[1,1],\"yaxis\":\"y\",\"type\":\"scatter\"},{\"hovertemplate\":\"\\u003cb\\u003etranscript_id:\\u003c\\u002fb\\u003e ENST00000348990\\u003cbr\\u003e\\u003cb\\u003eFeature Type:\\u003c\\u002fb\\u003e intron\\u003cbr\\u003e\\u003cb\\u003eFeature Number:\\u003c\\u002fb\\u003e 10\\u003cbr\\u003e\\u003cb\\u003eChromosome:\\u003c\\u002fb\\u003e 21\\u003cbr\\u003e\\u003cb\\u003eStart:\\u003c\\u002fb\\u003e 25954689\\u003cbr\\u003e\\u003cb\\u003eEnd:\\u003c\\u002fb\\u003e 25955627\\u003cbr\\u003e\\u003cb\\u003eSize:\\u003c\\u002fb\\u003e 938\\u003cbr\\u003e\\u003cextra\\u003e\\u003c\\u002fextra\\u003e\",\"line\":{\"color\":\"black\",\"width\":0.5},\"mode\":\"lines\",\"opacity\":1,\"showlegend\":false,\"x\":[3408,3509],\"xaxis\":\"x\",\"y\":[1,1],\"yaxis\":\"y\",\"type\":\"scatter\"},{\"hovertemplate\":\"\\u003cb\\u003etranscript_id:\\u003c\\u002fb\\u003e ENST00000348990\\u003cbr\\u003e\\u003cb\\u003eFeature Type:\\u003c\\u002fb\\u003e intron\\u003cbr\\u003e\\u003cb\\u003eFeature Number:\\u003c\\u002fb\\u003e 9\\u003cbr\\u003e\\u003cb\\u003eChromosome:\\u003c\\u002fb\\u003e 21\\u003cbr\\u003e\\u003cb\\u003eStart:\\u003c\\u002fb\\u003e 25955755\\u003cbr\\u003e\\u003cb\\u003eEnd:\\u003c\\u002fb\\u003e 25975070\\u003cbr\\u003e\\u003cb\\u003eSize:\\u003c\\u002fb\\u003e 19315\\u003cbr\\u003e\\u003cextra\\u003e\\u003c\\u002fextra\\u003e\",\"line\":{\"color\":\"black\",\"width\":0.5},\"mode\":\"lines\",\"opacity\":1,\"showlegend\":false,\"x\":[3637,3962],\"xaxis\":\"x\",\"y\":[1,1],\"yaxis\":\"y\",\"type\":\"scatter\"},{\"hovertemplate\":\"\\u003cb\\u003etranscript_id:\\u003c\\u002fb\\u003e ENST00000348990\\u003cbr\\u003e\\u003cb\\u003eFeature Type:\\u003c\\u002fb\\u003e intron\\u003cbr\\u003e\\u003cb\\u003eFeature Number:\\u003c\\u002fb\\u003e 8\\u003cbr\\u003e\\u003cb\\u003eChromosome:\\u003c\\u002fb\\u003e 21\\u003cbr\\u003e\\u003cb\\u003eStart:\\u003c\\u002fb\\u003e 25975228\\u003cbr\\u003e\\u003cb\\u003eEnd:\\u003c\\u002fb\\u003e 25975954\\u003cbr\\u003e\\u003cb\\u003eSize:\\u003c\\u002fb\\u003e 726\\u003cbr\\u003e\\u003cextra\\u003e\\u003c\\u002fextra\\u003e\",\"line\":{\"color\":\"black\",\"width\":0.5},\"mode\":\"lines\",\"opacity\":1,\"showlegend\":false,\"x\":[4120,4221],\"xaxis\":\"x\",\"y\":[1,1],\"yaxis\":\"y\",\"type\":\"scatter\"},{\"hovertemplate\":\"\\u003cb\\u003etranscript_id:\\u003c\\u002fb\\u003e ENST00000348990\\u003cbr\\u003e\\u003cb\\u003eFeature Type:\\u003c\\u002fb\\u003e intron\\u003cbr\\u003e\\u003cb\\u003eFeature Number:\\u003c\\u002fb\\u003e 7\\u003cbr\\u003e\\u003cb\\u003eChromosome:\\u003c\\u002fb\\u003e 21\\u003cbr\\u003e\\u003cb\\u003eStart:\\u003c\\u002fb\\u003e 25976028\\u003cbr\\u003e\\u003cb\\u003eEnd:\\u003c\\u002fb\\u003e 25982344\\u003cbr\\u003e\\u003cb\\u003eSize:\\u003c\\u002fb\\u003e 6316\\u003cbr\\u003e\\u003cextra\\u003e\\u003c\\u002fextra\\u003e\",\"line\":{\"color\":\"black\",\"width\":0.5},\"mode\":\"lines\",\"opacity\":1,\"showlegend\":false,\"x\":[4295,4396],\"xaxis\":\"x\",\"y\":[1,1],\"yaxis\":\"y\",\"type\":\"scatter\"},{\"hoverinfo\":\"skip\",\"marker\":{\"color\":\"black\",\"size\":7,\"symbol\":\"arrow-left\"},\"mode\":\"markers\",\"opacity\":1,\"showlegend\":false,\"x\":[4927.571428571428],\"xaxis\":\"x\",\"y\":[1],\"yaxis\":\"y\",\"type\":\"scatter\"},{\"hovertemplate\":\"\\u003cb\\u003etranscript_id:\\u003c\\u002fb\\u003e ENST00000348990\\u003cbr\\u003e\\u003cb\\u003eFeature Type:\\u003c\\u002fb\\u003e intron\\u003cbr\\u003e\\u003cb\\u003eFeature Number:\\u003c\\u002fb\\u003e 6\\u003cbr\\u003e\\u003cb\\u003eChromosome:\\u003c\\u002fb\\u003e 21\\u003cbr\\u003e\\u003cb\\u003eStart:\\u003c\\u002fb\\u003e 25982477\\u003cbr\\u003e\\u003cb\\u003eEnd:\\u003c\\u002fb\\u003e 26021840\\u003cbr\\u003e\\u003cb\\u003eSize:\\u003c\\u002fb\\u003e 39363\\u003cbr\\u003e\\u003cextra\\u003e\\u003c\\u002fextra\\u003e\",\"line\":{\"color\":\"black\",\"width\":0.5},\"mode\":\"lines\",\"opacity\":1,\"showlegend\":false,\"x\":[4529,5645],\"xaxis\":\"x\",\"y\":[1,1],\"yaxis\":\"y\",\"type\":\"scatter\"},{\"hovertemplate\":\"\\u003cb\\u003etranscript_id:\\u003c\\u002fb\\u003e ENST00000348990\\u003cbr\\u003e\\u003cb\\u003eFeature Type:\\u003c\\u002fb\\u003e intron\\u003cbr\\u003e\\u003cb\\u003eFeature Number:\\u003c\\u002fb\\u003e 5\\u003cbr\\u003e\\u003cb\\u003eChromosome:\\u003c\\u002fb\\u003e 21\\u003cbr\\u003e\\u003cb\\u003eStart:\\u003c\\u002fb\\u003e 26022042\\u003cbr\\u003e\\u003cb\\u003eEnd:\\u003c\\u002fb\\u003e 26051000\\u003cbr\\u003e\\u003cb\\u003eSize:\\u003c\\u002fb\\u003e 28958\\u003cbr\\u003e\\u003cextra\\u003e\\u003c\\u002fextra\\u003e\",\"line\":{\"color\":\"black\",\"width\":0.5},\"mode\":\"lines\",\"opacity\":1,\"showlegend\":false,\"x\":[5847,5948],\"xaxis\":\"x\",\"y\":[1,1],\"yaxis\":\"y\",\"type\":\"scatter\"},{\"hovertemplate\":\"\\u003cb\\u003etranscript_id:\\u003c\\u002fb\\u003e ENST00000348990\\u003cbr\\u003e\\u003cb\\u003eFeature Type:\\u003c\\u002fb\\u003e intron\\u003cbr\\u003e\\u003cb\\u003eFeature Number:\\u003c\\u002fb\\u003e 4\\u003cbr\\u003e\\u003cb\\u003eChromosome:\\u003c\\u002fb\\u003e 21\\u003cbr\\u003e\\u003cb\\u003eStart:\\u003c\\u002fb\\u003e 26051193\\u003cbr\\u003e\\u003cb\\u003eEnd:\\u003c\\u002fb\\u003e 26053236\\u003cbr\\u003e\\u003cb\\u003eSize:\\u003c\\u002fb\\u003e 2043\\u003cbr\\u003e\\u003cextra\\u003e\\u003c\\u002fextra\\u003e\",\"line\":{\"color\":\"black\",\"width\":0.5},\"mode\":\"lines\",\"opacity\":1,\"showlegend\":false,\"x\":[6141,6242],\"xaxis\":\"x\",\"y\":[1,1],\"yaxis\":\"y\",\"type\":\"scatter\"},{\"hoverinfo\":\"skip\",\"marker\":{\"color\":\"black\",\"size\":7,\"symbol\":\"arrow-left\"},\"mode\":\"markers\",\"opacity\":1,\"showlegend\":false,\"x\":[6711.5],\"xaxis\":\"x\",\"y\":[1],\"yaxis\":\"y\",\"type\":\"scatter\"},{\"hovertemplate\":\"\\u003cb\\u003etranscript_id:\\u003c\\u002fb\\u003e ENST00000348990\\u003cbr\\u003e\\u003cb\\u003eFeature Type:\\u003c\\u002fb\\u003e intron\\u003cbr\\u003e\\u003cb\\u003eFeature Number:\\u003c\\u002fb\\u003e 3\\u003cbr\\u003e\\u003cb\\u003eChromosome:\\u003c\\u002fb\\u003e 21\\u003cbr\\u003e\\u003cb\\u003eStart:\\u003c\\u002fb\\u003e 26053348\\u003cbr\\u003e\\u003cb\\u003eEnd:\\u003c\\u002fb\\u003e 26089943\\u003cbr\\u003e\\u003cb\\u003eSize:\\u003c\\u002fb\\u003e 36595\\u003cbr\\u003e\\u003cextra\\u003e\\u003c\\u002fextra\\u003e\",\"line\":{\"color\":\"black\",\"width\":0.5},\"mode\":\"lines\",\"opacity\":1,\"showlegend\":false,\"x\":[6354,7355],\"xaxis\":\"x\",\"y\":[1,1],\"yaxis\":\"y\",\"type\":\"scatter\"},{\"hovertemplate\":\"\\u003cb\\u003etranscript_id:\\u003c\\u002fb\\u003e ENST00000348990\\u003cbr\\u003e\\u003cb\\u003eFeature Type:\\u003c\\u002fb\\u003e intron\\u003cbr\\u003e\\u003cb\\u003eFeature Number:\\u003c\\u002fb\\u003e 2\\u003cbr\\u003e\\u003cb\\u003eChromosome:\\u003c\\u002fb\\u003e 21\\u003cbr\\u003e\\u003cb\\u003eStart:\\u003c\\u002fb\\u003e 26090072\\u003cbr\\u003e\\u003cb\\u003eEnd:\\u003c\\u002fb\\u003e 26111979\\u003cbr\\u003e\\u003cb\\u003eSize:\\u003c\\u002fb\\u003e 21907\\u003cbr\\u003e\\u003cextra\\u003e\\u003c\\u002fextra\\u003e\",\"line\":{\"color\":\"black\",\"width\":0.5},\"mode\":\"lines\",\"opacity\":1,\"showlegend\":false,\"x\":[7484,7585],\"xaxis\":\"x\",\"y\":[1,1],\"yaxis\":\"y\",\"type\":\"scatter\"},{\"hoverinfo\":\"skip\",\"marker\":{\"color\":\"black\",\"size\":7,\"symbol\":\"arrow-left\"},\"mode\":\"markers\",\"opacity\":1,\"showlegend\":false,\"x\":[8105.571428571428],\"xaxis\":\"x\",\"y\":[1],\"yaxis\":\"y\",\"type\":\"scatter\"},{\"hovertemplate\":\"\\u003cb\\u003etranscript_id:\\u003c\\u002fb\\u003e ENST00000348990\\u003cbr\\u003e\\u003cb\\u003eFeature Type:\\u003c\\u002fb\\u003e intron\\u003cbr\\u003e\\u003cb\\u003eFeature Number:\\u003c\\u002fb\\u003e 1\\u003cbr\\u003e\\u003cb\\u003eChromosome:\\u003c\\u002fb\\u003e 21\\u003cbr\\u003e\\u003cb\\u003eStart:\\u003c\\u002fb\\u003e 26112146\\u003cbr\\u003e\\u003cb\\u003eEnd:\\u003c\\u002fb\\u003e 26170564\\u003cbr\\u003e\\u003cb\\u003eSize:\\u003c\\u002fb\\u003e 58418\\u003cbr\\u003e\\u003cextra\\u003e\\u003c\\u002fextra\\u003e\",\"line\":{\"color\":\"black\",\"width\":0.5},\"mode\":\"lines\",\"opacity\":1,\"showlegend\":false,\"x\":[7752,8742],\"xaxis\":\"x\",\"y\":[1,1],\"yaxis\":\"y\",\"type\":\"scatter\"},{\"boxmean\":true,\"boxpoints\":\"all\",\"fillcolor\":\"#FECB52\",\"jitter\":0.3,\"legendgroup\":\"AD\",\"legendgrouptitle\":{\"text\":\"\\u003cb\\u003e\\u003cu\\u003eExpression Plot Hue\\u003cu\\u003e\\u003cb\\u003e\"},\"line\":{\"width\":0.5},\"marker\":{\"color\":\"black\",\"opacity\":1,\"size\":3},\"name\":\"AD\",\"offsetgroup\":\"0\",\"opacity\":1,\"orientation\":\"h\",\"pointpos\":0,\"showlegend\":true,\"text\":[\"sample_1\",\"sample_7\",\"sample_3\",\"sample_5\",\"sample_1\",\"sample_7\",\"sample_3\",\"sample_5\"],\"x\":[32000.11649,9104.24543,6801.39742,13357.82555,21.32691,6974.68126,4317.08803,158.32861],\"xaxis\":\"x2\",\"y\":[\"0\",\"0\",\"0\",\"0\",\"1\",\"1\",\"1\",\"1\"],\"yaxis\":\"y2\",\"type\":\"box\"},{\"boxmean\":true,\"boxpoints\":\"all\",\"fillcolor\":\"#FF97FF\",\"jitter\":0.3,\"legendgroup\":\"Control\",\"legendgrouptitle\":{\"text\":\"\"},\"line\":{\"width\":0.5},\"marker\":{\"color\":\"black\",\"opacity\":1,\"size\":3},\"name\":\"Control\",\"offsetgroup\":\"1\",\"opacity\":1,\"orientation\":\"h\",\"pointpos\":0,\"showlegend\":true,\"text\":[\"sample_4\",\"sample_2\",\"sample_6\",\"sample_8\",\"sample_4\",\"sample_2\",\"sample_6\",\"sample_8\"],\"x\":[281.12956,816.12674,908.42026,274.52124,20102.2553,16065.17951,22251.02963,17583.32597],\"xaxis\":\"x2\",\"y\":[\"0\",\"0\",\"0\",\"0\",\"1\",\"1\",\"1\",\"1\"],\"yaxis\":\"y2\",\"type\":\"box\"},{\"boxmean\":true,\"boxpoints\":\"all\",\"fillcolor\":\"#FECB52\",\"jitter\":0.3,\"legendgroup\":\"AD\",\"legendgrouptitle\":{\"text\":\"\"},\"line\":{\"width\":0.5},\"marker\":{\"color\":\"black\",\"opacity\":1,\"size\":3},\"name\":\"AD\",\"offsetgroup\":\"0\",\"opacity\":1,\"orientation\":\"h\",\"pointpos\":0,\"showlegend\":false,\"text\":[\"sample_1\",\"sample_7\",\"sample_3\",\"sample_5\",\"sample_1\",\"sample_7\",\"sample_3\",\"sample_5\"],\"x\":[71988.83385406894,10956.469462610521,11058.463551761188,77663.1310474987,47.9779309894219,8393.653578892136,7019.198803045317,920.5312302493958],\"xaxis\":\"x3\",\"y\":[\"0\",\"0\",\"0\",\"0\",\"1\",\"1\",\"1\",\"1\"],\"yaxis\":\"y3\",\"type\":\"box\"},{\"boxmean\":true,\"boxpoints\":\"all\",\"fillcolor\":\"#FF97FF\",\"jitter\":0.3,\"legendgroup\":\"Control\",\"legendgrouptitle\":{\"text\":\"\"},\"line\":{\"width\":0.5},\"marker\":{\"color\":\"black\",\"opacity\":1,\"size\":3},\"name\":\"Control\",\"offsetgroup\":\"1\",\"opacity\":1,\"orientation\":\"h\",\"pointpos\":0,\"showlegend\":false,\"text\":[\"sample_4\",\"sample_2\",\"sample_6\",\"sample_8\",\"sample_4\",\"sample_2\",\"sample_6\",\"sample_8\"],\"x\":[313.560844550222,882.271518078947,1011.0634183187115,382.3910896376943,22421.26423572169,17367.217148770906,24765.191915489355,24492.48435976418],\"xaxis\":\"x3\",\"y\":[\"0\",\"0\",\"0\",\"0\",\"1\",\"1\",\"1\",\"1\"],\"yaxis\":\"y3\",\"type\":\"box\"},{\"boxmean\":true,\"boxpoints\":\"all\",\"fillcolor\":\"#FECB52\",\"jitter\":0.3,\"legendgroup\":\"AD\",\"legendgrouptitle\":{\"text\":\"\"},\"line\":{\"width\":0.5},\"marker\":{\"color\":\"black\",\"opacity\":1,\"size\":3},\"name\":\"AD\",\"offsetgroup\":\"0\",\"opacity\":1,\"orientation\":\"h\",\"pointpos\":0,\"showlegend\":false,\"text\":[\"sample_1\",\"sample_7\",\"sample_3\",\"sample_5\",\"sample_1\",\"sample_7\",\"sample_3\",\"sample_5\"],\"x\":[88.30054216658372,21.961754740812506,38.42814520594384,81.56952583048364,0.0588490893877348,16.824704518918175,24.391705915588453,0.9668332315583781],\"xaxis\":\"x4\",\"y\":[\"0\",\"0\",\"0\",\"0\",\"1\",\"1\",\"1\",\"1\"],\"yaxis\":\"y4\",\"type\":\"box\"},{\"boxmean\":true,\"boxpoints\":\"all\",\"fillcolor\":\"#FF97FF\",\"jitter\":0.3,\"legendgroup\":\"Control\",\"legendgrouptitle\":{\"text\":\"\"},\"line\":{\"width\":0.5},\"marker\":{\"color\":\"black\",\"opacity\":1,\"size\":3},\"name\":\"Control\",\"offsetgroup\":\"1\",\"opacity\":1,\"orientation\":\"h\",\"pointpos\":0,\"showlegend\":false,\"text\":[\"sample_4\",\"sample_2\",\"sample_6\",\"sample_8\",\"sample_4\",\"sample_2\",\"sample_6\",\"sample_8\"],\"x\":[0.7817188777354502,2.7612895520368115,2.534584023883263,0.9732379902246824,55.897047799126874,54.355053153336044,62.08261385006002,62.33674606929601],\"xaxis\":\"x4\",\"y\":[\"0\",\"0\",\"0\",\"0\",\"1\",\"1\",\"1\",\"1\"],\"yaxis\":\"y4\",\"type\":\"box\"}],                        {\"annotations\":[{\"font\":{\"size\":16},\"showarrow\":false,\"text\":\"Transcript Structure\",\"x\":0.1175,\"xanchor\":\"center\",\"xref\":\"paper\",\"y\":1.0,\"yanchor\":\"bottom\",\"yref\":\"paper\"},{\"font\":{\"size\":16},\"showarrow\":false,\"text\":\"Counts\",\"x\":0.3725,\"xanchor\":\"center\",\"xref\":\"paper\",\"y\":1.0,\"yanchor\":\"bottom\",\"yref\":\"paper\"},{\"font\":{\"size\":16},\"showarrow\":false,\"text\":\"CPM\",\"x\":0.6275,\"xanchor\":\"center\",\"xref\":\"paper\",\"y\":1.0,\"yanchor\":\"bottom\",\"yref\":\"paper\"},{\"font\":{\"size\":16},\"showarrow\":false,\"text\":\"Relative Abundance\",\"x\":0.8824999999999998,\"xanchor\":\"center\",\"xref\":\"paper\",\"y\":1.0,\"yanchor\":\"bottom\",\"yref\":\"paper\"}],\"boxgap\":0.1,\"boxgroupgap\":0.5,\"boxmode\":\"group\",\"height\":500,\"hoverlabel\":{\"font\":{\"size\":12}},\"hovermode\":\"closest\",\"legend\":{\"font\":{\"size\":12},\"grouptitlefont\":{\"size\":14},\"tracegroupgap\":7},\"margin\":{\"b\":50,\"l\":100,\"r\":50,\"t\":100},\"showlegend\":true,\"template\":{\"data\":{\"barpolar\":[{\"marker\":{\"line\":{\"color\":\"white\",\"width\":0.5},\"pattern\":{\"fillmode\":\"overlay\",\"size\":10,\"solidity\":0.2}},\"type\":\"barpolar\"}],\"bar\":[{\"error_x\":{\"color\":\"#2a3f5f\"},\"error_y\":{\"color\":\"#2a3f5f\"},\"marker\":{\"line\":{\"color\":\"white\",\"width\":0.5},\"pattern\":{\"fillmode\":\"overlay\",\"size\":10,\"solidity\":0.2}},\"type\":\"bar\"}],\"carpet\":[{\"aaxis\":{\"endlinecolor\":\"#2a3f5f\",\"gridcolor\":\"#C8D4E3\",\"linecolor\":\"#C8D4E3\",\"minorgridcolor\":\"#C8D4E3\",\"startlinecolor\":\"#2a3f5f\"},\"baxis\":{\"endlinecolor\":\"#2a3f5f\",\"gridcolor\":\"#C8D4E3\",\"linecolor\":\"#C8D4E3\",\"minorgridcolor\":\"#C8D4E3\",\"startlinecolor\":\"#2a3f5f\"},\"type\":\"carpet\"}],\"choropleth\":[{\"colorbar\":{\"outlinewidth\":0,\"ticks\":\"\"},\"type\":\"choropleth\"}],\"contourcarpet\":[{\"colorbar\":{\"outlinewidth\":0,\"ticks\":\"\"},\"type\":\"contourcarpet\"}],\"contour\":[{\"colorbar\":{\"outlinewidth\":0,\"ticks\":\"\"},\"colorscale\":[[0.0,\"#0d0887\"],[0.1111111111111111,\"#46039f\"],[0.2222222222222222,\"#7201a8\"],[0.3333333333333333,\"#9c179e\"],[0.4444444444444444,\"#bd3786\"],[0.5555555555555556,\"#d8576b\"],[0.6666666666666666,\"#ed7953\"],[0.7777777777777778,\"#fb9f3a\"],[0.8888888888888888,\"#fdca26\"],[1.0,\"#f0f921\"]],\"type\":\"contour\"}],\"heatmapgl\":[{\"colorbar\":{\"outlinewidth\":0,\"ticks\":\"\"},\"colorscale\":[[0.0,\"#0d0887\"],[0.1111111111111111,\"#46039f\"],[0.2222222222222222,\"#7201a8\"],[0.3333333333333333,\"#9c179e\"],[0.4444444444444444,\"#bd3786\"],[0.5555555555555556,\"#d8576b\"],[0.6666666666666666,\"#ed7953\"],[0.7777777777777778,\"#fb9f3a\"],[0.8888888888888888,\"#fdca26\"],[1.0,\"#f0f921\"]],\"type\":\"heatmapgl\"}],\"heatmap\":[{\"colorbar\":{\"outlinewidth\":0,\"ticks\":\"\"},\"colorscale\":[[0.0,\"#0d0887\"],[0.1111111111111111,\"#46039f\"],[0.2222222222222222,\"#7201a8\"],[0.3333333333333333,\"#9c179e\"],[0.4444444444444444,\"#bd3786\"],[0.5555555555555556,\"#d8576b\"],[0.6666666666666666,\"#ed7953\"],[0.7777777777777778,\"#fb9f3a\"],[0.8888888888888888,\"#fdca26\"],[1.0,\"#f0f921\"]],\"type\":\"heatmap\"}],\"histogram2dcontour\":[{\"colorbar\":{\"outlinewidth\":0,\"ticks\":\"\"},\"colorscale\":[[0.0,\"#0d0887\"],[0.1111111111111111,\"#46039f\"],[0.2222222222222222,\"#7201a8\"],[0.3333333333333333,\"#9c179e\"],[0.4444444444444444,\"#bd3786\"],[0.5555555555555556,\"#d8576b\"],[0.6666666666666666,\"#ed7953\"],[0.7777777777777778,\"#fb9f3a\"],[0.8888888888888888,\"#fdca26\"],[1.0,\"#f0f921\"]],\"type\":\"histogram2dcontour\"}],\"histogram2d\":[{\"colorbar\":{\"outlinewidth\":0,\"ticks\":\"\"},\"colorscale\":[[0.0,\"#0d0887\"],[0.1111111111111111,\"#46039f\"],[0.2222222222222222,\"#7201a8\"],[0.3333333333333333,\"#9c179e\"],[0.4444444444444444,\"#bd3786\"],[0.5555555555555556,\"#d8576b\"],[0.6666666666666666,\"#ed7953\"],[0.7777777777777778,\"#fb9f3a\"],[0.8888888888888888,\"#fdca26\"],[1.0,\"#f0f921\"]],\"type\":\"histogram2d\"}],\"histogram\":[{\"marker\":{\"pattern\":{\"fillmode\":\"overlay\",\"size\":10,\"solidity\":0.2}},\"type\":\"histogram\"}],\"mesh3d\":[{\"colorbar\":{\"outlinewidth\":0,\"ticks\":\"\"},\"type\":\"mesh3d\"}],\"parcoords\":[{\"line\":{\"colorbar\":{\"outlinewidth\":0,\"ticks\":\"\"}},\"type\":\"parcoords\"}],\"pie\":[{\"automargin\":true,\"type\":\"pie\"}],\"scatter3d\":[{\"line\":{\"colorbar\":{\"outlinewidth\":0,\"ticks\":\"\"}},\"marker\":{\"colorbar\":{\"outlinewidth\":0,\"ticks\":\"\"}},\"type\":\"scatter3d\"}],\"scattercarpet\":[{\"marker\":{\"colorbar\":{\"outlinewidth\":0,\"ticks\":\"\"}},\"type\":\"scattercarpet\"}],\"scattergeo\":[{\"marker\":{\"colorbar\":{\"outlinewidth\":0,\"ticks\":\"\"}},\"type\":\"scattergeo\"}],\"scattergl\":[{\"marker\":{\"colorbar\":{\"outlinewidth\":0,\"ticks\":\"\"}},\"type\":\"scattergl\"}],\"scattermapbox\":[{\"marker\":{\"colorbar\":{\"outlinewidth\":0,\"ticks\":\"\"}},\"type\":\"scattermapbox\"}],\"scatterpolargl\":[{\"marker\":{\"colorbar\":{\"outlinewidth\":0,\"ticks\":\"\"}},\"type\":\"scatterpolargl\"}],\"scatterpolar\":[{\"marker\":{\"colorbar\":{\"outlinewidth\":0,\"ticks\":\"\"}},\"type\":\"scatterpolar\"}],\"scatter\":[{\"fillpattern\":{\"fillmode\":\"overlay\",\"size\":10,\"solidity\":0.2},\"type\":\"scatter\"}],\"scatterternary\":[{\"marker\":{\"colorbar\":{\"outlinewidth\":0,\"ticks\":\"\"}},\"type\":\"scatterternary\"}],\"surface\":[{\"colorbar\":{\"outlinewidth\":0,\"ticks\":\"\"},\"colorscale\":[[0.0,\"#0d0887\"],[0.1111111111111111,\"#46039f\"],[0.2222222222222222,\"#7201a8\"],[0.3333333333333333,\"#9c179e\"],[0.4444444444444444,\"#bd3786\"],[0.5555555555555556,\"#d8576b\"],[0.6666666666666666,\"#ed7953\"],[0.7777777777777778,\"#fb9f3a\"],[0.8888888888888888,\"#fdca26\"],[1.0,\"#f0f921\"]],\"type\":\"surface\"}],\"table\":[{\"cells\":{\"fill\":{\"color\":\"#EBF0F8\"},\"line\":{\"color\":\"white\"}},\"header\":{\"fill\":{\"color\":\"#C8D4E3\"},\"line\":{\"color\":\"white\"}},\"type\":\"table\"}]},\"layout\":{\"annotationdefaults\":{\"arrowcolor\":\"#2a3f5f\",\"arrowhead\":0,\"arrowwidth\":1},\"autotypenumbers\":\"strict\",\"coloraxis\":{\"colorbar\":{\"outlinewidth\":0,\"ticks\":\"\"}},\"colorscale\":{\"diverging\":[[0,\"#8e0152\"],[0.1,\"#c51b7d\"],[0.2,\"#de77ae\"],[0.3,\"#f1b6da\"],[0.4,\"#fde0ef\"],[0.5,\"#f7f7f7\"],[0.6,\"#e6f5d0\"],[0.7,\"#b8e186\"],[0.8,\"#7fbc41\"],[0.9,\"#4d9221\"],[1,\"#276419\"]],\"sequential\":[[0.0,\"#0d0887\"],[0.1111111111111111,\"#46039f\"],[0.2222222222222222,\"#7201a8\"],[0.3333333333333333,\"#9c179e\"],[0.4444444444444444,\"#bd3786\"],[0.5555555555555556,\"#d8576b\"],[0.6666666666666666,\"#ed7953\"],[0.7777777777777778,\"#fb9f3a\"],[0.8888888888888888,\"#fdca26\"],[1.0,\"#f0f921\"]],\"sequentialminus\":[[0.0,\"#0d0887\"],[0.1111111111111111,\"#46039f\"],[0.2222222222222222,\"#7201a8\"],[0.3333333333333333,\"#9c179e\"],[0.4444444444444444,\"#bd3786\"],[0.5555555555555556,\"#d8576b\"],[0.6666666666666666,\"#ed7953\"],[0.7777777777777778,\"#fb9f3a\"],[0.8888888888888888,\"#fdca26\"],[1.0,\"#f0f921\"]]},\"colorway\":[\"#636efa\",\"#EF553B\",\"#00cc96\",\"#ab63fa\",\"#FFA15A\",\"#19d3f3\",\"#FF6692\",\"#B6E880\",\"#FF97FF\",\"#FECB52\"],\"font\":{\"color\":\"#2a3f5f\"},\"geo\":{\"bgcolor\":\"white\",\"lakecolor\":\"white\",\"landcolor\":\"white\",\"showlakes\":true,\"showland\":true,\"subunitcolor\":\"#C8D4E3\"},\"hoverlabel\":{\"align\":\"left\"},\"hovermode\":\"closest\",\"mapbox\":{\"style\":\"light\"},\"paper_bgcolor\":\"white\",\"plot_bgcolor\":\"white\",\"polar\":{\"angularaxis\":{\"gridcolor\":\"#EBF0F8\",\"linecolor\":\"#EBF0F8\",\"ticks\":\"\"},\"bgcolor\":\"white\",\"radialaxis\":{\"gridcolor\":\"#EBF0F8\",\"linecolor\":\"#EBF0F8\",\"ticks\":\"\"}},\"scene\":{\"xaxis\":{\"backgroundcolor\":\"white\",\"gridcolor\":\"#DFE8F3\",\"gridwidth\":2,\"linecolor\":\"#EBF0F8\",\"showbackground\":true,\"ticks\":\"\",\"zerolinecolor\":\"#EBF0F8\"},\"yaxis\":{\"backgroundcolor\":\"white\",\"gridcolor\":\"#DFE8F3\",\"gridwidth\":2,\"linecolor\":\"#EBF0F8\",\"showbackground\":true,\"ticks\":\"\",\"zerolinecolor\":\"#EBF0F8\"},\"zaxis\":{\"backgroundcolor\":\"white\",\"gridcolor\":\"#DFE8F3\",\"gridwidth\":2,\"linecolor\":\"#EBF0F8\",\"showbackground\":true,\"ticks\":\"\",\"zerolinecolor\":\"#EBF0F8\"}},\"shapedefaults\":{\"line\":{\"color\":\"#2a3f5f\"}},\"ternary\":{\"aaxis\":{\"gridcolor\":\"#DFE8F3\",\"linecolor\":\"#A2B1C6\",\"ticks\":\"\"},\"baxis\":{\"gridcolor\":\"#DFE8F3\",\"linecolor\":\"#A2B1C6\",\"ticks\":\"\"},\"bgcolor\":\"white\",\"caxis\":{\"gridcolor\":\"#DFE8F3\",\"linecolor\":\"#A2B1C6\",\"ticks\":\"\"}},\"title\":{\"x\":0.05},\"xaxis\":{\"automargin\":true,\"gridcolor\":\"#EBF0F8\",\"linecolor\":\"#EBF0F8\",\"ticks\":\"\",\"title\":{\"standoff\":15},\"zerolinecolor\":\"#EBF0F8\",\"zerolinewidth\":2},\"yaxis\":{\"automargin\":true,\"gridcolor\":\"#EBF0F8\",\"linecolor\":\"#EBF0F8\",\"ticks\":\"\",\"title\":{\"standoff\":15},\"zerolinecolor\":\"#EBF0F8\",\"zerolinewidth\":2}}},\"title\":{\"text\":\"\"},\"violingap\":0.1,\"violingroupgap\":0.5,\"violinmode\":\"group\",\"width\":1200,\"xaxis\":{\"anchor\":\"y\",\"domain\":[0.0,0.235],\"showgrid\":true,\"showticklabels\":false,\"tickfont\":{\"size\":12},\"title\":{\"text\":\"\"}},\"yaxis\":{\"anchor\":\"x\",\"domain\":[0.0,1.0],\"range\":[-0.8,1.8],\"showgrid\":true,\"showticklabels\":true,\"tickfont\":{\"color\":\"black\",\"family\":\"DejaVu Sans\",\"size\":12},\"ticktext\":[\"ENST00000707133\",\"ENST00000348990\"],\"tickvals\":[0,1],\"title\":{\"text\":\"\"}},\"xaxis2\":{\"anchor\":\"y2\",\"domain\":[0.255,0.49],\"showgrid\":true,\"showticklabels\":true,\"tickfont\":{\"size\":12},\"title\":{\"text\":\"\"}},\"yaxis2\":{\"anchor\":\"x2\",\"domain\":[0.0,1.0],\"matches\":\"y\",\"range\":[-0.8,1.8],\"showgrid\":true,\"showticklabels\":false,\"ticks\":\"\",\"ticktext\":[\"ENST00000707133\",\"ENST00000348990\"],\"tickvals\":[0,1]},\"xaxis3\":{\"anchor\":\"y3\",\"domain\":[0.51,0.745],\"showgrid\":true,\"showticklabels\":true,\"tickfont\":{\"size\":12},\"title\":{\"text\":\"\"}},\"yaxis3\":{\"anchor\":\"x3\",\"domain\":[0.0,1.0],\"matches\":\"y\",\"range\":[-0.8,1.8],\"showgrid\":true,\"showticklabels\":false,\"ticks\":\"\",\"ticktext\":[\"ENST00000707133\",\"ENST00000348990\"],\"tickvals\":[0,1]},\"xaxis4\":{\"anchor\":\"y4\",\"domain\":[0.7649999999999999,0.9999999999999999],\"showgrid\":true,\"showticklabels\":true,\"tickfont\":{\"size\":12},\"title\":{\"text\":\"\"}},\"yaxis4\":{\"anchor\":\"x4\",\"domain\":[0.0,1.0],\"matches\":\"y\",\"range\":[-0.8,1.8],\"showgrid\":true,\"showticklabels\":false,\"ticks\":\"\",\"ticktext\":[\"ENST00000707133\",\"ENST00000348990\"],\"tickvals\":[0,1]}},                        {\"responsive\": true}                    ).then(function(){\n",
       "                            \n",
       "var gd = document.getElementById('47de568f-6ccf-4d8c-a3a8-e55ffe32e7e0');\n",
       "var x = new MutationObserver(function (mutations, observer) {{\n",
       "        var display = window.getComputedStyle(gd).display;\n",
       "        if (!display || display === 'none') {{\n",
       "            console.log([gd, 'removed!']);\n",
       "            Plotly.purge(gd);\n",
       "            observer.disconnect();\n",
       "        }}\n",
       "}});\n",
       "\n",
       "// Listen for the removal of the full notebook cells\n",
       "var notebookContainer = gd.closest('#notebook-container');\n",
       "if (notebookContainer) {{\n",
       "    x.observe(notebookContainer, {childList: true});\n",
       "}}\n",
       "\n",
       "// Listen for the clearing of the current output cell\n",
       "var outputEl = gd.closest('.output');\n",
       "if (outputEl) {{\n",
       "    x.observe(outputEl, {childList: true});\n",
       "}}\n",
       "\n",
       "                        })                };                });            </script>        </div>"
      ]
     },
     "metadata": {},
     "output_type": "display_data"
    }
   ],
   "source": [
    "## Path to your ENSEMBL GTF file, counts matrix file, and metadata file\n",
    "ensembl_gtf_path = \"../dash_apps/RNApysoforms/tests/test_data/Homo_sapiens_chr21_and_Y.GRCh38.110.gtf\"\n",
    "counts_matrix_path = \"../dash_apps/RNApysoforms/tests/test_data/counts_matrix_chr21_and_Y.tsv\"\n",
    "metadata_path = \"../dash_apps/RNApysoforms/tests/test_data/sample_metadata.tsv\"\n",
    "\n",
    "\n",
    "## Read ENSEMBL GTF and counts matrix with metadata and normalization\n",
    "annotation = RNApy.read_ensembl_gtf(ensembl_gtf_path)\n",
    "counts_matrix = RNApy.read_expression_matrix(expression_matrix_path=counts_matrix_path,\n",
    "                                          metadata_path=metadata_path,\n",
    "                                           cpm_normalization=True, relative_abundance=True)\n",
    "\n",
    "\n",
    "## Filter APP gene and do not filter RNA isoforms by expression\n",
    "app_annotation, app_expresison_matrix = RNApy.gene_filtering(annotation=annotation, expression_matrix=counts_matrix, target_gene=\"APP\",\n",
    "                                                        order_by_expression=True, order_by_expression_column=\"counts\")\n",
    "\n",
    "## Rescale introns\n",
    "app_annotation = RNApy.shorten_gaps(app_annotation)\n",
    "\n",
    "\n",
    "\"\"\"\n",
    "Filter only the desired transcripts and keep them on in the app_annotation.\n",
    "`make_traces()` only plots transcripts present in both the annotationa and the\n",
    "expression matrix when both are passed (it does give a warning when that happens),\n",
    "so only the transcripts you kept in the annotation will be plotted.\n",
    "\"\"\"\n",
    "transcript_to_keep = [\"ENST00000348990\", \"ENST00000707133\"]\n",
    "app_annotation = app_annotation.filter(pl.col(\"transcript_id\").is_in(transcript_to_keep))\n",
    "\n",
    "\n",
    "## Order transcripts based on `transcripts_to_keep` order\n",
    "app_annotation = app_annotation.with_columns(\n",
    "    pl.col(\"transcript_id\").cast(pl.Categorical).cast(pl.Utf8).replace(\n",
    "        {k: i for i, k in enumerate(transcript_to_keep)}).alias(\"sort_key\")\n",
    "        ).sort(\"sort_key\", descending=True).drop(\"sort_key\")\n",
    "\n",
    "\n",
    "\"\"\"\n",
    "Create traces for plotting, make sure to set the\n",
    "`order_transcripts_by_expression_matrix` to False so\n",
    "that the order of the annotation is the one that determines\n",
    "the order in which the transcripts are plotted.\n",
    "\"\"\"\n",
    "traces = RNApy.make_traces(annotation=app_annotation,  expression_matrix=app_expresison_matrix, \n",
    "                        x_start=\"rescaled_start\", x_end=\"rescaled_end\",\n",
    "                         y='transcript_id', annotation_hue=\"transcript_biotype\",\n",
    "                         hover_start=\"start\", hover_end=\"end\",\n",
    "                         expression_columns=[\"counts\", \"CPM\", \"relative_abundance\"],\n",
    "                         expression_hue=\"AD status\", marker_size=3, arrow_size=7,\n",
    "                         order_transcripts_by_expression_matrix=False ## Order by annotation order instead of expression matrix\n",
    "                         )\n",
    "\n",
    "## Put traces into figure\n",
    "fig = RNApy.make_plot(traces=traces, subplot_titles=[\"Transcript Structure\", \"Counts\", \"CPM\", \"Relative Abundance\"], \n",
    "                   width=1200, height=500, boxgap=0.1, boxgroupgap=0.5)\n",
    "\n",
    "## Show figure\n",
    "py.iplot(fig,filename=\"s5_plot\")\n"
   ]
  }
 ],
 "metadata": {
  "kernelspec": {
   "display_name": ".venv",
   "language": "python",
   "name": "python3"
  },
  "language_info": {
   "codemirror_mode": {
    "name": "ipython",
    "version": 3
   },
   "file_extension": ".py",
   "mimetype": "text/x-python",
   "name": "python",
   "nbconvert_exporter": "python",
   "pygments_lexer": "ipython3",
   "version": "3.12.5"
  }
 },
 "nbformat": 4,
 "nbformat_minor": 2
}
