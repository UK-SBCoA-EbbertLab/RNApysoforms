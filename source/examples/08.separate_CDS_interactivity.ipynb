{
 "cells": [
  {
   "cell_type": "markdown",
   "metadata": {},
   "source": [
    "## Separate CDS interactivity\n",
    "\n",
    "### Be able to click CDS regions in and out of the plot separate from the exons"
   ]
  },
  {
   "cell_type": "code",
   "execution_count": 2,
   "metadata": {},
   "outputs": [],
   "source": [
    "import RNApysoforms as RNApy\n",
    "import polars as pl"
   ]
  },
  {
   "cell_type": "code",
   "execution_count": 4,
   "metadata": {},
   "outputs": [
    {
     "data": {
      "application/vnd.plotly.v1+json": {
       "config": {
        "plotlyServerURL": "https://plot.ly"
       },
       "data": [
        {
         "fill": "toself",
         "fillcolor": "#F8766D",
         "hoverlabel": {
          "namelength": -1
         },
         "hoveron": "fills+points",
         "hovertemplate": "<b>transcript_id:</b> ENST00000346798<br><b>Feature Type:</b> exon<br><b>Feature Number:</b> 18<br><b>Chromosome:</b> 21<br><b>Start:</b> 25880550<br><b>End:</b> 25881771<br><b>Size:</b> 1221<br><extra></extra>",
         "legendgroup": "protein_coding - Exon",
         "legendgrouptitle": {
          "text": "<b><u>Transcript Structure Hue<u><b>"
         },
         "line": {
          "color": "black",
          "width": 0.25
         },
         "marker": {
          "opacity": 0
         },
         "mode": "lines+markers",
         "name": "protein_coding - Exon",
         "opacity": 1,
         "showlegend": true,
         "type": "scatter",
         "x": [
          2,
          1223,
          1223,
          2,
          2
         ],
         "xaxis": "x",
         "y": [
          -0.15,
          -0.15,
          0.15,
          0.15,
          -0.15
         ],
         "yaxis": "y"
        },
        {
         "fill": "toself",
         "fillcolor": "#F8766D",
         "hoverlabel": {
          "namelength": -1
         },
         "hoveron": "fills+points",
         "hovertemplate": "<b>transcript_id:</b> ENST00000346798<br><b>Feature Type:</b> exon<br><b>Feature Number:</b> 17<br><b>Chromosome:</b> 21<br><b>Start:</b> 25891722<br><b>End:</b> 25891868<br><b>Size:</b> 146<br><extra></extra>",
         "legendgroup": "protein_coding - Exon",
         "legendgrouptitle": {
          "text": ""
         },
         "line": {
          "color": "black",
          "width": 0.25
         },
         "marker": {
          "opacity": 0
         },
         "mode": "lines+markers",
         "name": "protein_coding - Exon",
         "opacity": 1,
         "showlegend": false,
         "type": "scatter",
         "x": [
          1324,
          1470,
          1470,
          1324,
          1324
         ],
         "xaxis": "x",
         "y": [
          -0.15,
          -0.15,
          0.15,
          0.15,
          -0.15
         ],
         "yaxis": "y"
        },
        {
         "fill": "toself",
         "fillcolor": "#F8766D",
         "hoverlabel": {
          "namelength": -1
         },
         "hoveron": "fills+points",
         "hovertemplate": "<b>transcript_id:</b> ENST00000346798<br><b>Feature Type:</b> exon<br><b>Feature Number:</b> 16<br><b>Chromosome:</b> 21<br><b>Start:</b> 25897573<br><b>End:</b> 25897673<br><b>Size:</b> 100<br><extra></extra>",
         "legendgroup": "protein_coding - Exon",
         "legendgrouptitle": {
          "text": ""
         },
         "line": {
          "color": "black",
          "width": 0.25
         },
         "marker": {
          "opacity": 0
         },
         "mode": "lines+markers",
         "name": "protein_coding - Exon",
         "opacity": 1,
         "showlegend": false,
         "type": "scatter",
         "x": [
          1571,
          1671,
          1671,
          1571,
          1571
         ],
         "xaxis": "x",
         "y": [
          -0.15,
          -0.15,
          0.15,
          0.15,
          -0.15
         ],
         "yaxis": "y"
        },
        {
         "fill": "toself",
         "fillcolor": "#F8766D",
         "hoverlabel": {
          "namelength": -1
         },
         "hoveron": "fills+points",
         "hovertemplate": "<b>transcript_id:</b> ENST00000346798<br><b>Feature Type:</b> exon<br><b>Feature Number:</b> 15<br><b>Chromosome:</b> 21<br><b>Start:</b> 25905024<br><b>End:</b> 25905077<br><b>Size:</b> 53<br><extra></extra>",
         "legendgroup": "protein_coding - Exon",
         "legendgrouptitle": {
          "text": ""
         },
         "line": {
          "color": "black",
          "width": 0.25
         },
         "marker": {
          "opacity": 0
         },
         "mode": "lines+markers",
         "name": "protein_coding - Exon",
         "opacity": 1,
         "showlegend": false,
         "type": "scatter",
         "x": [
          1772,
          1825,
          1825,
          1772,
          1772
         ],
         "xaxis": "x",
         "y": [
          -0.15,
          -0.15,
          0.15,
          0.15,
          -0.15
         ],
         "yaxis": "y"
        },
        {
         "fill": "toself",
         "fillcolor": "#F8766D",
         "hoverlabel": {
          "namelength": -1
         },
         "hoveron": "fills+points",
         "hovertemplate": "<b>transcript_id:</b> ENST00000346798<br><b>Feature Type:</b> exon<br><b>Feature Number:</b> 14<br><b>Chromosome:</b> 21<br><b>Start:</b> 25911741<br><b>End:</b> 25911962<br><b>Size:</b> 221<br><extra></extra>",
         "legendgroup": "protein_coding - Exon",
         "legendgrouptitle": {
          "text": ""
         },
         "line": {
          "color": "black",
          "width": 0.25
         },
         "marker": {
          "opacity": 0
         },
         "mode": "lines+markers",
         "name": "protein_coding - Exon",
         "opacity": 1,
         "showlegend": false,
         "type": "scatter",
         "x": [
          1926,
          2147,
          2147,
          1926,
          1926
         ],
         "xaxis": "x",
         "y": [
          -0.15,
          -0.15,
          0.15,
          0.15,
          -0.15
         ],
         "yaxis": "y"
        },
        {
         "fill": "toself",
         "fillcolor": "#F8766D",
         "hoverlabel": {
          "namelength": -1
         },
         "hoveron": "fills+points",
         "hovertemplate": "<b>transcript_id:</b> ENST00000346798<br><b>Feature Type:</b> exon<br><b>Feature Number:</b> 13<br><b>Chromosome:</b> 21<br><b>Start:</b> 25954590<br><b>End:</b> 25954689<br><b>Size:</b> 99<br><extra></extra>",
         "legendgroup": "protein_coding - Exon",
         "legendgrouptitle": {
          "text": ""
         },
         "line": {
          "color": "black",
          "width": 0.25
         },
         "marker": {
          "opacity": 0
         },
         "mode": "lines+markers",
         "name": "protein_coding - Exon",
         "opacity": 1,
         "showlegend": false,
         "type": "scatter",
         "x": [
          2432,
          2531,
          2531,
          2432,
          2432
         ],
         "xaxis": "x",
         "y": [
          -0.15,
          -0.15,
          0.15,
          0.15,
          -0.15
         ],
         "yaxis": "y"
        },
        {
         "fill": "toself",
         "fillcolor": "#F8766D",
         "hoverlabel": {
          "namelength": -1
         },
         "hoveron": "fills+points",
         "hovertemplate": "<b>transcript_id:</b> ENST00000346798<br><b>Feature Type:</b> exon<br><b>Feature Number:</b> 12<br><b>Chromosome:</b> 21<br><b>Start:</b> 25955627<br><b>End:</b> 25955755<br><b>Size:</b> 128<br><extra></extra>",
         "legendgroup": "protein_coding - Exon",
         "legendgrouptitle": {
          "text": ""
         },
         "line": {
          "color": "black",
          "width": 0.25
         },
         "marker": {
          "opacity": 0
         },
         "mode": "lines+markers",
         "name": "protein_coding - Exon",
         "opacity": 1,
         "showlegend": false,
         "type": "scatter",
         "x": [
          2632,
          2760,
          2760,
          2632,
          2632
         ],
         "xaxis": "x",
         "y": [
          -0.15,
          -0.15,
          0.15,
          0.15,
          -0.15
         ],
         "yaxis": "y"
        },
        {
         "fill": "toself",
         "fillcolor": "#F8766D",
         "hoverlabel": {
          "namelength": -1
         },
         "hoveron": "fills+points",
         "hovertemplate": "<b>transcript_id:</b> ENST00000346798<br><b>Feature Type:</b> exon<br><b>Feature Number:</b> 11<br><b>Chromosome:</b> 21<br><b>Start:</b> 25975070<br><b>End:</b> 25975228<br><b>Size:</b> 158<br><extra></extra>",
         "legendgroup": "protein_coding - Exon",
         "legendgrouptitle": {
          "text": ""
         },
         "line": {
          "color": "black",
          "width": 0.25
         },
         "marker": {
          "opacity": 0
         },
         "mode": "lines+markers",
         "name": "protein_coding - Exon",
         "opacity": 1,
         "showlegend": false,
         "type": "scatter",
         "x": [
          2861,
          3019,
          3019,
          2861,
          2861
         ],
         "xaxis": "x",
         "y": [
          -0.15,
          -0.15,
          0.15,
          0.15,
          -0.15
         ],
         "yaxis": "y"
        },
        {
         "fill": "toself",
         "fillcolor": "#F8766D",
         "hoverlabel": {
          "namelength": -1
         },
         "hoveron": "fills+points",
         "hovertemplate": "<b>transcript_id:</b> ENST00000346798<br><b>Feature Type:</b> exon<br><b>Feature Number:</b> 10<br><b>Chromosome:</b> 21<br><b>Start:</b> 25975954<br><b>End:</b> 25976028<br><b>Size:</b> 74<br><extra></extra>",
         "legendgroup": "protein_coding - Exon",
         "legendgrouptitle": {
          "text": ""
         },
         "line": {
          "color": "black",
          "width": 0.25
         },
         "marker": {
          "opacity": 0
         },
         "mode": "lines+markers",
         "name": "protein_coding - Exon",
         "opacity": 1,
         "showlegend": false,
         "type": "scatter",
         "x": [
          3120,
          3194,
          3194,
          3120,
          3120
         ],
         "xaxis": "x",
         "y": [
          -0.15,
          -0.15,
          0.15,
          0.15,
          -0.15
         ],
         "yaxis": "y"
        },
        {
         "fill": "toself",
         "fillcolor": "#F8766D",
         "hoverlabel": {
          "namelength": -1
         },
         "hoveron": "fills+points",
         "hovertemplate": "<b>transcript_id:</b> ENST00000346798<br><b>Feature Type:</b> exon<br><b>Feature Number:</b> 9<br><b>Chromosome:</b> 21<br><b>Start:</b> 25982344<br><b>End:</b> 25982477<br><b>Size:</b> 133<br><extra></extra>",
         "legendgroup": "protein_coding - Exon",
         "legendgrouptitle": {
          "text": ""
         },
         "line": {
          "color": "black",
          "width": 0.25
         },
         "marker": {
          "opacity": 0
         },
         "mode": "lines+markers",
         "name": "protein_coding - Exon",
         "opacity": 1,
         "showlegend": false,
         "type": "scatter",
         "x": [
          3295,
          3428,
          3428,
          3295,
          3295
         ],
         "xaxis": "x",
         "y": [
          -0.15,
          -0.15,
          0.15,
          0.15,
          -0.15
         ],
         "yaxis": "y"
        },
        {
         "fill": "toself",
         "fillcolor": "#F8766D",
         "hoverlabel": {
          "namelength": -1
         },
         "hoveron": "fills+points",
         "hovertemplate": "<b>transcript_id:</b> ENST00000346798<br><b>Feature Type:</b> exon<br><b>Feature Number:</b> 8<br><b>Chromosome:</b> 21<br><b>Start:</b> 25997360<br><b>End:</b> 25997416<br><b>Size:</b> 56<br><extra></extra>",
         "legendgroup": "protein_coding - Exon",
         "legendgrouptitle": {
          "text": ""
         },
         "line": {
          "color": "black",
          "width": 0.25
         },
         "marker": {
          "opacity": 0
         },
         "mode": "lines+markers",
         "name": "protein_coding - Exon",
         "opacity": 1,
         "showlegend": false,
         "type": "scatter",
         "x": [
          3529,
          3585,
          3585,
          3529,
          3529
         ],
         "xaxis": "x",
         "y": [
          -0.15,
          -0.15,
          0.15,
          0.15,
          -0.15
         ],
         "yaxis": "y"
        },
        {
         "fill": "toself",
         "fillcolor": "#F8766D",
         "hoverlabel": {
          "namelength": -1
         },
         "hoveron": "fills+points",
         "hovertemplate": "<b>transcript_id:</b> ENST00000346798<br><b>Feature Type:</b> exon<br><b>Feature Number:</b> 7<br><b>Chromosome:</b> 21<br><b>Start:</b> 26000015<br><b>End:</b> 26000182<br><b>Size:</b> 167<br><extra></extra>",
         "legendgroup": "protein_coding - Exon",
         "legendgrouptitle": {
          "text": ""
         },
         "line": {
          "color": "black",
          "width": 0.25
         },
         "marker": {
          "opacity": 0
         },
         "mode": "lines+markers",
         "name": "protein_coding - Exon",
         "opacity": 1,
         "showlegend": false,
         "type": "scatter",
         "x": [
          3686,
          3853,
          3853,
          3686,
          3686
         ],
         "xaxis": "x",
         "y": [
          -0.15,
          -0.15,
          0.15,
          0.15,
          -0.15
         ],
         "yaxis": "y"
        },
        {
         "fill": "toself",
         "fillcolor": "#F8766D",
         "hoverlabel": {
          "namelength": -1
         },
         "hoveron": "fills+points",
         "hovertemplate": "<b>transcript_id:</b> ENST00000346798<br><b>Feature Type:</b> exon<br><b>Feature Number:</b> 6<br><b>Chromosome:</b> 21<br><b>Start:</b> 26021840<br><b>End:</b> 26022042<br><b>Size:</b> 202<br><extra></extra>",
         "legendgroup": "protein_coding - Exon",
         "legendgrouptitle": {
          "text": ""
         },
         "line": {
          "color": "black",
          "width": 0.25
         },
         "marker": {
          "opacity": 0
         },
         "mode": "lines+markers",
         "name": "protein_coding - Exon",
         "opacity": 1,
         "showlegend": false,
         "type": "scatter",
         "x": [
          3954,
          4156,
          4156,
          3954,
          3954
         ],
         "xaxis": "x",
         "y": [
          -0.15,
          -0.15,
          0.15,
          0.15,
          -0.15
         ],
         "yaxis": "y"
        },
        {
         "fill": "toself",
         "fillcolor": "#F8766D",
         "hoverlabel": {
          "namelength": -1
         },
         "hoveron": "fills+points",
         "hovertemplate": "<b>transcript_id:</b> ENST00000346798<br><b>Feature Type:</b> exon<br><b>Feature Number:</b> 5<br><b>Chromosome:</b> 21<br><b>Start:</b> 26051000<br><b>End:</b> 26051193<br><b>Size:</b> 193<br><extra></extra>",
         "legendgroup": "protein_coding - Exon",
         "legendgrouptitle": {
          "text": ""
         },
         "line": {
          "color": "black",
          "width": 0.25
         },
         "marker": {
          "opacity": 0
         },
         "mode": "lines+markers",
         "name": "protein_coding - Exon",
         "opacity": 1,
         "showlegend": false,
         "type": "scatter",
         "x": [
          4257,
          4450,
          4450,
          4257,
          4257
         ],
         "xaxis": "x",
         "y": [
          -0.15,
          -0.15,
          0.15,
          0.15,
          -0.15
         ],
         "yaxis": "y"
        },
        {
         "fill": "toself",
         "fillcolor": "#F8766D",
         "hoverlabel": {
          "namelength": -1
         },
         "hoveron": "fills+points",
         "hovertemplate": "<b>transcript_id:</b> ENST00000346798<br><b>Feature Type:</b> exon<br><b>Feature Number:</b> 4<br><b>Chromosome:</b> 21<br><b>Start:</b> 26053236<br><b>End:</b> 26053348<br><b>Size:</b> 112<br><extra></extra>",
         "legendgroup": "protein_coding - Exon",
         "legendgrouptitle": {
          "text": ""
         },
         "line": {
          "color": "black",
          "width": 0.25
         },
         "marker": {
          "opacity": 0
         },
         "mode": "lines+markers",
         "name": "protein_coding - Exon",
         "opacity": 1,
         "showlegend": false,
         "type": "scatter",
         "x": [
          4551,
          4663,
          4663,
          4551,
          4551
         ],
         "xaxis": "x",
         "y": [
          -0.15,
          -0.15,
          0.15,
          0.15,
          -0.15
         ],
         "yaxis": "y"
        },
        {
         "fill": "toself",
         "fillcolor": "#F8766D",
         "hoverlabel": {
          "namelength": -1
         },
         "hoveron": "fills+points",
         "hovertemplate": "<b>transcript_id:</b> ENST00000346798<br><b>Feature Type:</b> exon<br><b>Feature Number:</b> 3<br><b>Chromosome:</b> 21<br><b>Start:</b> 26089943<br><b>End:</b> 26090072<br><b>Size:</b> 129<br><extra></extra>",
         "legendgroup": "protein_coding - Exon",
         "legendgrouptitle": {
          "text": ""
         },
         "line": {
          "color": "black",
          "width": 0.25
         },
         "marker": {
          "opacity": 0
         },
         "mode": "lines+markers",
         "name": "protein_coding - Exon",
         "opacity": 1,
         "showlegend": false,
         "type": "scatter",
         "x": [
          4764,
          4893,
          4893,
          4764,
          4764
         ],
         "xaxis": "x",
         "y": [
          -0.15,
          -0.15,
          0.15,
          0.15,
          -0.15
         ],
         "yaxis": "y"
        },
        {
         "fill": "toself",
         "fillcolor": "#F8766D",
         "hoverlabel": {
          "namelength": -1
         },
         "hoveron": "fills+points",
         "hovertemplate": "<b>transcript_id:</b> ENST00000346798<br><b>Feature Type:</b> exon<br><b>Feature Number:</b> 2<br><b>Chromosome:</b> 21<br><b>Start:</b> 26111979<br><b>End:</b> 26112146<br><b>Size:</b> 167<br><extra></extra>",
         "legendgroup": "protein_coding - Exon",
         "legendgrouptitle": {
          "text": ""
         },
         "line": {
          "color": "black",
          "width": 0.25
         },
         "marker": {
          "opacity": 0
         },
         "mode": "lines+markers",
         "name": "protein_coding - Exon",
         "opacity": 1,
         "showlegend": false,
         "type": "scatter",
         "x": [
          4994,
          5161,
          5161,
          4994,
          4994
         ],
         "xaxis": "x",
         "y": [
          -0.15,
          -0.15,
          0.15,
          0.15,
          -0.15
         ],
         "yaxis": "y"
        },
        {
         "fill": "toself",
         "fillcolor": "#F8766D",
         "hoverlabel": {
          "namelength": -1
         },
         "hoveron": "fills+points",
         "hovertemplate": "<b>transcript_id:</b> ENST00000346798<br><b>Feature Type:</b> exon<br><b>Feature Number:</b> 1<br><b>Chromosome:</b> 21<br><b>Start:</b> 26170564<br><b>End:</b> 26170770<br><b>Size:</b> 206<br><extra></extra>",
         "legendgroup": "protein_coding - Exon",
         "legendgrouptitle": {
          "text": ""
         },
         "line": {
          "color": "black",
          "width": 0.25
         },
         "marker": {
          "opacity": 0
         },
         "mode": "lines+markers",
         "name": "protein_coding - Exon",
         "opacity": 1,
         "showlegend": false,
         "type": "scatter",
         "x": [
          5262,
          5468,
          5468,
          5262,
          5262
         ],
         "xaxis": "x",
         "y": [
          -0.15,
          -0.15,
          0.15,
          0.15,
          -0.15
         ],
         "yaxis": "y"
        },
        {
         "fill": "toself",
         "fillcolor": "#F8766D",
         "hoverlabel": {
          "namelength": -1
         },
         "hoveron": "fills+points",
         "hovertemplate": "<b>transcript_id:</b> ENST00000359726<br><b>Feature Type:</b> exon<br><b>Feature Number:</b> 16<br><b>Chromosome:</b> 21<br><b>Start:</b> 25880551<br><b>End:</b> 25881771<br><b>Size:</b> 1220<br><extra></extra>",
         "legendgroup": "protein_coding - Exon",
         "legendgrouptitle": {
          "text": ""
         },
         "line": {
          "color": "black",
          "width": 0.25
         },
         "marker": {
          "opacity": 0
         },
         "mode": "lines+markers",
         "name": "protein_coding - Exon",
         "opacity": 1,
         "showlegend": false,
         "type": "scatter",
         "x": [
          3,
          1223,
          1223,
          3,
          3
         ],
         "xaxis": "x",
         "y": [
          0.85,
          0.85,
          1.15,
          1.15,
          0.85
         ],
         "yaxis": "y"
        },
        {
         "fill": "toself",
         "fillcolor": "#F8766D",
         "hoverlabel": {
          "namelength": -1
         },
         "hoveron": "fills+points",
         "hovertemplate": "<b>transcript_id:</b> ENST00000359726<br><b>Feature Type:</b> exon<br><b>Feature Number:</b> 15<br><b>Chromosome:</b> 21<br><b>Start:</b> 25891722<br><b>End:</b> 25891868<br><b>Size:</b> 146<br><extra></extra>",
         "legendgroup": "protein_coding - Exon",
         "legendgrouptitle": {
          "text": ""
         },
         "line": {
          "color": "black",
          "width": 0.25
         },
         "marker": {
          "opacity": 0
         },
         "mode": "lines+markers",
         "name": "protein_coding - Exon",
         "opacity": 1,
         "showlegend": false,
         "type": "scatter",
         "x": [
          1324,
          1470,
          1470,
          1324,
          1324
         ],
         "xaxis": "x",
         "y": [
          0.85,
          0.85,
          1.15,
          1.15,
          0.85
         ],
         "yaxis": "y"
        },
        {
         "fill": "toself",
         "fillcolor": "#F8766D",
         "hoverlabel": {
          "namelength": -1
         },
         "hoveron": "fills+points",
         "hovertemplate": "<b>transcript_id:</b> ENST00000359726<br><b>Feature Type:</b> exon<br><b>Feature Number:</b> 14<br><b>Chromosome:</b> 21<br><b>Start:</b> 25897573<br><b>End:</b> 25897673<br><b>Size:</b> 100<br><extra></extra>",
         "legendgroup": "protein_coding - Exon",
         "legendgrouptitle": {
          "text": ""
         },
         "line": {
          "color": "black",
          "width": 0.25
         },
         "marker": {
          "opacity": 0
         },
         "mode": "lines+markers",
         "name": "protein_coding - Exon",
         "opacity": 1,
         "showlegend": false,
         "type": "scatter",
         "x": [
          1571,
          1671,
          1671,
          1571,
          1571
         ],
         "xaxis": "x",
         "y": [
          0.85,
          0.85,
          1.15,
          1.15,
          0.85
         ],
         "yaxis": "y"
        },
        {
         "fill": "toself",
         "fillcolor": "#F8766D",
         "hoverlabel": {
          "namelength": -1
         },
         "hoveron": "fills+points",
         "hovertemplate": "<b>transcript_id:</b> ENST00000359726<br><b>Feature Type:</b> exon<br><b>Feature Number:</b> 13<br><b>Chromosome:</b> 21<br><b>Start:</b> 25905024<br><b>End:</b> 25905077<br><b>Size:</b> 53<br><extra></extra>",
         "legendgroup": "protein_coding - Exon",
         "legendgrouptitle": {
          "text": ""
         },
         "line": {
          "color": "black",
          "width": 0.25
         },
         "marker": {
          "opacity": 0
         },
         "mode": "lines+markers",
         "name": "protein_coding - Exon",
         "opacity": 1,
         "showlegend": false,
         "type": "scatter",
         "x": [
          1772,
          1825,
          1825,
          1772,
          1772
         ],
         "xaxis": "x",
         "y": [
          0.85,
          0.85,
          1.15,
          1.15,
          0.85
         ],
         "yaxis": "y"
        },
        {
         "fill": "toself",
         "fillcolor": "#F8766D",
         "hoverlabel": {
          "namelength": -1
         },
         "hoveron": "fills+points",
         "hovertemplate": "<b>transcript_id:</b> ENST00000359726<br><b>Feature Type:</b> exon<br><b>Feature Number:</b> 12<br><b>Chromosome:</b> 21<br><b>Start:</b> 25911741<br><b>End:</b> 25911962<br><b>Size:</b> 221<br><extra></extra>",
         "legendgroup": "protein_coding - Exon",
         "legendgrouptitle": {
          "text": ""
         },
         "line": {
          "color": "black",
          "width": 0.25
         },
         "marker": {
          "opacity": 0
         },
         "mode": "lines+markers",
         "name": "protein_coding - Exon",
         "opacity": 1,
         "showlegend": false,
         "type": "scatter",
         "x": [
          1926,
          2147,
          2147,
          1926,
          1926
         ],
         "xaxis": "x",
         "y": [
          0.85,
          0.85,
          1.15,
          1.15,
          0.85
         ],
         "yaxis": "y"
        },
        {
         "fill": "toself",
         "fillcolor": "#F8766D",
         "hoverlabel": {
          "namelength": -1
         },
         "hoveron": "fills+points",
         "hovertemplate": "<b>transcript_id:</b> ENST00000359726<br><b>Feature Type:</b> exon<br><b>Feature Number:</b> 11<br><b>Chromosome:</b> 21<br><b>Start:</b> 25954590<br><b>End:</b> 25954689<br><b>Size:</b> 99<br><extra></extra>",
         "legendgroup": "protein_coding - Exon",
         "legendgrouptitle": {
          "text": ""
         },
         "line": {
          "color": "black",
          "width": 0.25
         },
         "marker": {
          "opacity": 0
         },
         "mode": "lines+markers",
         "name": "protein_coding - Exon",
         "opacity": 1,
         "showlegend": false,
         "type": "scatter",
         "x": [
          2432,
          2531,
          2531,
          2432,
          2432
         ],
         "xaxis": "x",
         "y": [
          0.85,
          0.85,
          1.15,
          1.15,
          0.85
         ],
         "yaxis": "y"
        },
        {
         "fill": "toself",
         "fillcolor": "#F8766D",
         "hoverlabel": {
          "namelength": -1
         },
         "hoveron": "fills+points",
         "hovertemplate": "<b>transcript_id:</b> ENST00000359726<br><b>Feature Type:</b> exon<br><b>Feature Number:</b> 10<br><b>Chromosome:</b> 21<br><b>Start:</b> 25955627<br><b>End:</b> 25955755<br><b>Size:</b> 128<br><extra></extra>",
         "legendgroup": "protein_coding - Exon",
         "legendgrouptitle": {
          "text": ""
         },
         "line": {
          "color": "black",
          "width": 0.25
         },
         "marker": {
          "opacity": 0
         },
         "mode": "lines+markers",
         "name": "protein_coding - Exon",
         "opacity": 1,
         "showlegend": false,
         "type": "scatter",
         "x": [
          2632,
          2760,
          2760,
          2632,
          2632
         ],
         "xaxis": "x",
         "y": [
          0.85,
          0.85,
          1.15,
          1.15,
          0.85
         ],
         "yaxis": "y"
        },
        {
         "fill": "toself",
         "fillcolor": "#F8766D",
         "hoverlabel": {
          "namelength": -1
         },
         "hoveron": "fills+points",
         "hovertemplate": "<b>transcript_id:</b> ENST00000359726<br><b>Feature Type:</b> exon<br><b>Feature Number:</b> 9<br><b>Chromosome:</b> 21<br><b>Start:</b> 25975070<br><b>End:</b> 25975228<br><b>Size:</b> 158<br><extra></extra>",
         "legendgroup": "protein_coding - Exon",
         "legendgrouptitle": {
          "text": ""
         },
         "line": {
          "color": "black",
          "width": 0.25
         },
         "marker": {
          "opacity": 0
         },
         "mode": "lines+markers",
         "name": "protein_coding - Exon",
         "opacity": 1,
         "showlegend": false,
         "type": "scatter",
         "x": [
          2861,
          3019,
          3019,
          2861,
          2861
         ],
         "xaxis": "x",
         "y": [
          0.85,
          0.85,
          1.15,
          1.15,
          0.85
         ],
         "yaxis": "y"
        },
        {
         "fill": "toself",
         "fillcolor": "#F8766D",
         "hoverlabel": {
          "namelength": -1
         },
         "hoveron": "fills+points",
         "hovertemplate": "<b>transcript_id:</b> ENST00000359726<br><b>Feature Type:</b> exon<br><b>Feature Number:</b> 8<br><b>Chromosome:</b> 21<br><b>Start:</b> 25975954<br><b>End:</b> 25976028<br><b>Size:</b> 74<br><extra></extra>",
         "legendgroup": "protein_coding - Exon",
         "legendgrouptitle": {
          "text": ""
         },
         "line": {
          "color": "black",
          "width": 0.25
         },
         "marker": {
          "opacity": 0
         },
         "mode": "lines+markers",
         "name": "protein_coding - Exon",
         "opacity": 1,
         "showlegend": false,
         "type": "scatter",
         "x": [
          3120,
          3194,
          3194,
          3120,
          3120
         ],
         "xaxis": "x",
         "y": [
          0.85,
          0.85,
          1.15,
          1.15,
          0.85
         ],
         "yaxis": "y"
        },
        {
         "fill": "toself",
         "fillcolor": "#F8766D",
         "hoverlabel": {
          "namelength": -1
         },
         "hoveron": "fills+points",
         "hovertemplate": "<b>transcript_id:</b> ENST00000359726<br><b>Feature Type:</b> exon<br><b>Feature Number:</b> 7<br><b>Chromosome:</b> 21<br><b>Start:</b> 25982344<br><b>End:</b> 25982477<br><b>Size:</b> 133<br><extra></extra>",
         "legendgroup": "protein_coding - Exon",
         "legendgrouptitle": {
          "text": ""
         },
         "line": {
          "color": "black",
          "width": 0.25
         },
         "marker": {
          "opacity": 0
         },
         "mode": "lines+markers",
         "name": "protein_coding - Exon",
         "opacity": 1,
         "showlegend": false,
         "type": "scatter",
         "x": [
          3295,
          3428,
          3428,
          3295,
          3295
         ],
         "xaxis": "x",
         "y": [
          0.85,
          0.85,
          1.15,
          1.15,
          0.85
         ],
         "yaxis": "y"
        },
        {
         "fill": "toself",
         "fillcolor": "#F8766D",
         "hoverlabel": {
          "namelength": -1
         },
         "hoveron": "fills+points",
         "hovertemplate": "<b>transcript_id:</b> ENST00000359726<br><b>Feature Type:</b> exon<br><b>Feature Number:</b> 6<br><b>Chromosome:</b> 21<br><b>Start:</b> 26021840<br><b>End:</b> 26022042<br><b>Size:</b> 202<br><extra></extra>",
         "legendgroup": "protein_coding - Exon",
         "legendgrouptitle": {
          "text": ""
         },
         "line": {
          "color": "black",
          "width": 0.25
         },
         "marker": {
          "opacity": 0
         },
         "mode": "lines+markers",
         "name": "protein_coding - Exon",
         "opacity": 1,
         "showlegend": false,
         "type": "scatter",
         "x": [
          3954,
          4156,
          4156,
          3954,
          3954
         ],
         "xaxis": "x",
         "y": [
          0.85,
          0.85,
          1.15,
          1.15,
          0.85
         ],
         "yaxis": "y"
        },
        {
         "fill": "toself",
         "fillcolor": "#F8766D",
         "hoverlabel": {
          "namelength": -1
         },
         "hoveron": "fills+points",
         "hovertemplate": "<b>transcript_id:</b> ENST00000359726<br><b>Feature Type:</b> exon<br><b>Feature Number:</b> 5<br><b>Chromosome:</b> 21<br><b>Start:</b> 26051000<br><b>End:</b> 26051193<br><b>Size:</b> 193<br><extra></extra>",
         "legendgroup": "protein_coding - Exon",
         "legendgrouptitle": {
          "text": ""
         },
         "line": {
          "color": "black",
          "width": 0.25
         },
         "marker": {
          "opacity": 0
         },
         "mode": "lines+markers",
         "name": "protein_coding - Exon",
         "opacity": 1,
         "showlegend": false,
         "type": "scatter",
         "x": [
          4257,
          4450,
          4450,
          4257,
          4257
         ],
         "xaxis": "x",
         "y": [
          0.85,
          0.85,
          1.15,
          1.15,
          0.85
         ],
         "yaxis": "y"
        },
        {
         "fill": "toself",
         "fillcolor": "#F8766D",
         "hoverlabel": {
          "namelength": -1
         },
         "hoveron": "fills+points",
         "hovertemplate": "<b>transcript_id:</b> ENST00000359726<br><b>Feature Type:</b> exon<br><b>Feature Number:</b> 4<br><b>Chromosome:</b> 21<br><b>Start:</b> 26053236<br><b>End:</b> 26053348<br><b>Size:</b> 112<br><extra></extra>",
         "legendgroup": "protein_coding - Exon",
         "legendgrouptitle": {
          "text": ""
         },
         "line": {
          "color": "black",
          "width": 0.25
         },
         "marker": {
          "opacity": 0
         },
         "mode": "lines+markers",
         "name": "protein_coding - Exon",
         "opacity": 1,
         "showlegend": false,
         "type": "scatter",
         "x": [
          4551,
          4663,
          4663,
          4551,
          4551
         ],
         "xaxis": "x",
         "y": [
          0.85,
          0.85,
          1.15,
          1.15,
          0.85
         ],
         "yaxis": "y"
        },
        {
         "fill": "toself",
         "fillcolor": "#F8766D",
         "hoverlabel": {
          "namelength": -1
         },
         "hoveron": "fills+points",
         "hovertemplate": "<b>transcript_id:</b> ENST00000359726<br><b>Feature Type:</b> exon<br><b>Feature Number:</b> 3<br><b>Chromosome:</b> 21<br><b>Start:</b> 26089943<br><b>End:</b> 26090072<br><b>Size:</b> 129<br><extra></extra>",
         "legendgroup": "protein_coding - Exon",
         "legendgrouptitle": {
          "text": ""
         },
         "line": {
          "color": "black",
          "width": 0.25
         },
         "marker": {
          "opacity": 0
         },
         "mode": "lines+markers",
         "name": "protein_coding - Exon",
         "opacity": 1,
         "showlegend": false,
         "type": "scatter",
         "x": [
          4764,
          4893,
          4893,
          4764,
          4764
         ],
         "xaxis": "x",
         "y": [
          0.85,
          0.85,
          1.15,
          1.15,
          0.85
         ],
         "yaxis": "y"
        },
        {
         "fill": "toself",
         "fillcolor": "#F8766D",
         "hoverlabel": {
          "namelength": -1
         },
         "hoveron": "fills+points",
         "hovertemplate": "<b>transcript_id:</b> ENST00000359726<br><b>Feature Type:</b> exon<br><b>Feature Number:</b> 2<br><b>Chromosome:</b> 21<br><b>Start:</b> 26111979<br><b>End:</b> 26112146<br><b>Size:</b> 167<br><extra></extra>",
         "legendgroup": "protein_coding - Exon",
         "legendgrouptitle": {
          "text": ""
         },
         "line": {
          "color": "black",
          "width": 0.25
         },
         "marker": {
          "opacity": 0
         },
         "mode": "lines+markers",
         "name": "protein_coding - Exon",
         "opacity": 1,
         "showlegend": false,
         "type": "scatter",
         "x": [
          4994,
          5161,
          5161,
          4994,
          4994
         ],
         "xaxis": "x",
         "y": [
          0.85,
          0.85,
          1.15,
          1.15,
          0.85
         ],
         "yaxis": "y"
        },
        {
         "fill": "toself",
         "fillcolor": "#F8766D",
         "hoverlabel": {
          "namelength": -1
         },
         "hoveron": "fills+points",
         "hovertemplate": "<b>transcript_id:</b> ENST00000359726<br><b>Feature Type:</b> exon<br><b>Feature Number:</b> 1<br><b>Chromosome:</b> 21<br><b>Start:</b> 26170985<br><b>End:</b> 26171128<br><b>Size:</b> 143<br><extra></extra>",
         "legendgroup": "protein_coding - Exon",
         "legendgrouptitle": {
          "text": ""
         },
         "line": {
          "color": "black",
          "width": 0.25
         },
         "marker": {
          "opacity": 0
         },
         "mode": "lines+markers",
         "name": "protein_coding - Exon",
         "opacity": 1,
         "showlegend": false,
         "type": "scatter",
         "x": [
          5586,
          5729,
          5729,
          5586,
          5586
         ],
         "xaxis": "x",
         "y": [
          0.85,
          0.85,
          1.15,
          1.15,
          0.85
         ],
         "yaxis": "y"
        },
        {
         "fill": "toself",
         "fillcolor": "#F8766D",
         "hoverlabel": {
          "namelength": -1
         },
         "hoveron": "fills+points",
         "hovertemplate": "<b>transcript_id:</b> ENST00000357903<br><b>Feature Type:</b> exon<br><b>Feature Number:</b> 17<br><b>Chromosome:</b> 21<br><b>Start:</b> 25880550<br><b>End:</b> 25881771<br><b>Size:</b> 1221<br><extra></extra>",
         "legendgroup": "protein_coding - Exon",
         "legendgrouptitle": {
          "text": ""
         },
         "line": {
          "color": "black",
          "width": 0.25
         },
         "marker": {
          "opacity": 0
         },
         "mode": "lines+markers",
         "name": "protein_coding - Exon",
         "opacity": 1,
         "showlegend": false,
         "type": "scatter",
         "x": [
          2,
          1223,
          1223,
          2,
          2
         ],
         "xaxis": "x",
         "y": [
          1.85,
          1.85,
          2.15,
          2.15,
          1.85
         ],
         "yaxis": "y"
        },
        {
         "fill": "toself",
         "fillcolor": "#F8766D",
         "hoverlabel": {
          "namelength": -1
         },
         "hoveron": "fills+points",
         "hovertemplate": "<b>transcript_id:</b> ENST00000357903<br><b>Feature Type:</b> exon<br><b>Feature Number:</b> 16<br><b>Chromosome:</b> 21<br><b>Start:</b> 25891722<br><b>End:</b> 25891868<br><b>Size:</b> 146<br><extra></extra>",
         "legendgroup": "protein_coding - Exon",
         "legendgrouptitle": {
          "text": ""
         },
         "line": {
          "color": "black",
          "width": 0.25
         },
         "marker": {
          "opacity": 0
         },
         "mode": "lines+markers",
         "name": "protein_coding - Exon",
         "opacity": 1,
         "showlegend": false,
         "type": "scatter",
         "x": [
          1324,
          1470,
          1470,
          1324,
          1324
         ],
         "xaxis": "x",
         "y": [
          1.85,
          1.85,
          2.15,
          2.15,
          1.85
         ],
         "yaxis": "y"
        },
        {
         "fill": "toself",
         "fillcolor": "#F8766D",
         "hoverlabel": {
          "namelength": -1
         },
         "hoveron": "fills+points",
         "hovertemplate": "<b>transcript_id:</b> ENST00000357903<br><b>Feature Type:</b> exon<br><b>Feature Number:</b> 15<br><b>Chromosome:</b> 21<br><b>Start:</b> 25897573<br><b>End:</b> 25897673<br><b>Size:</b> 100<br><extra></extra>",
         "legendgroup": "protein_coding - Exon",
         "legendgrouptitle": {
          "text": ""
         },
         "line": {
          "color": "black",
          "width": 0.25
         },
         "marker": {
          "opacity": 0
         },
         "mode": "lines+markers",
         "name": "protein_coding - Exon",
         "opacity": 1,
         "showlegend": false,
         "type": "scatter",
         "x": [
          1571,
          1671,
          1671,
          1571,
          1571
         ],
         "xaxis": "x",
         "y": [
          1.85,
          1.85,
          2.15,
          2.15,
          1.85
         ],
         "yaxis": "y"
        },
        {
         "fill": "toself",
         "fillcolor": "#F8766D",
         "hoverlabel": {
          "namelength": -1
         },
         "hoveron": "fills+points",
         "hovertemplate": "<b>transcript_id:</b> ENST00000357903<br><b>Feature Type:</b> exon<br><b>Feature Number:</b> 14<br><b>Chromosome:</b> 21<br><b>Start:</b> 25905024<br><b>End:</b> 25905077<br><b>Size:</b> 53<br><extra></extra>",
         "legendgroup": "protein_coding - Exon",
         "legendgrouptitle": {
          "text": ""
         },
         "line": {
          "color": "black",
          "width": 0.25
         },
         "marker": {
          "opacity": 0
         },
         "mode": "lines+markers",
         "name": "protein_coding - Exon",
         "opacity": 1,
         "showlegend": false,
         "type": "scatter",
         "x": [
          1772,
          1825,
          1825,
          1772,
          1772
         ],
         "xaxis": "x",
         "y": [
          1.85,
          1.85,
          2.15,
          2.15,
          1.85
         ],
         "yaxis": "y"
        },
        {
         "fill": "toself",
         "fillcolor": "#F8766D",
         "hoverlabel": {
          "namelength": -1
         },
         "hoveron": "fills+points",
         "hovertemplate": "<b>transcript_id:</b> ENST00000357903<br><b>Feature Type:</b> exon<br><b>Feature Number:</b> 13<br><b>Chromosome:</b> 21<br><b>Start:</b> 25911741<br><b>End:</b> 25911962<br><b>Size:</b> 221<br><extra></extra>",
         "legendgroup": "protein_coding - Exon",
         "legendgrouptitle": {
          "text": ""
         },
         "line": {
          "color": "black",
          "width": 0.25
         },
         "marker": {
          "opacity": 0
         },
         "mode": "lines+markers",
         "name": "protein_coding - Exon",
         "opacity": 1,
         "showlegend": false,
         "type": "scatter",
         "x": [
          1926,
          2147,
          2147,
          1926,
          1926
         ],
         "xaxis": "x",
         "y": [
          1.85,
          1.85,
          2.15,
          2.15,
          1.85
         ],
         "yaxis": "y"
        },
        {
         "fill": "toself",
         "fillcolor": "#F8766D",
         "hoverlabel": {
          "namelength": -1
         },
         "hoveron": "fills+points",
         "hovertemplate": "<b>transcript_id:</b> ENST00000357903<br><b>Feature Type:</b> exon<br><b>Feature Number:</b> 12<br><b>Chromosome:</b> 21<br><b>Start:</b> 25954590<br><b>End:</b> 25954689<br><b>Size:</b> 99<br><extra></extra>",
         "legendgroup": "protein_coding - Exon",
         "legendgrouptitle": {
          "text": ""
         },
         "line": {
          "color": "black",
          "width": 0.25
         },
         "marker": {
          "opacity": 0
         },
         "mode": "lines+markers",
         "name": "protein_coding - Exon",
         "opacity": 1,
         "showlegend": false,
         "type": "scatter",
         "x": [
          2432,
          2531,
          2531,
          2432,
          2432
         ],
         "xaxis": "x",
         "y": [
          1.85,
          1.85,
          2.15,
          2.15,
          1.85
         ],
         "yaxis": "y"
        },
        {
         "fill": "toself",
         "fillcolor": "#F8766D",
         "hoverlabel": {
          "namelength": -1
         },
         "hoveron": "fills+points",
         "hovertemplate": "<b>transcript_id:</b> ENST00000357903<br><b>Feature Type:</b> exon<br><b>Feature Number:</b> 11<br><b>Chromosome:</b> 21<br><b>Start:</b> 25955627<br><b>End:</b> 25955755<br><b>Size:</b> 128<br><extra></extra>",
         "legendgroup": "protein_coding - Exon",
         "legendgrouptitle": {
          "text": ""
         },
         "line": {
          "color": "black",
          "width": 0.25
         },
         "marker": {
          "opacity": 0
         },
         "mode": "lines+markers",
         "name": "protein_coding - Exon",
         "opacity": 1,
         "showlegend": false,
         "type": "scatter",
         "x": [
          2632,
          2760,
          2760,
          2632,
          2632
         ],
         "xaxis": "x",
         "y": [
          1.85,
          1.85,
          2.15,
          2.15,
          1.85
         ],
         "yaxis": "y"
        },
        {
         "fill": "toself",
         "fillcolor": "#F8766D",
         "hoverlabel": {
          "namelength": -1
         },
         "hoveron": "fills+points",
         "hovertemplate": "<b>transcript_id:</b> ENST00000357903<br><b>Feature Type:</b> exon<br><b>Feature Number:</b> 10<br><b>Chromosome:</b> 21<br><b>Start:</b> 25975070<br><b>End:</b> 25975228<br><b>Size:</b> 158<br><extra></extra>",
         "legendgroup": "protein_coding - Exon",
         "legendgrouptitle": {
          "text": ""
         },
         "line": {
          "color": "black",
          "width": 0.25
         },
         "marker": {
          "opacity": 0
         },
         "mode": "lines+markers",
         "name": "protein_coding - Exon",
         "opacity": 1,
         "showlegend": false,
         "type": "scatter",
         "x": [
          2861,
          3019,
          3019,
          2861,
          2861
         ],
         "xaxis": "x",
         "y": [
          1.85,
          1.85,
          2.15,
          2.15,
          1.85
         ],
         "yaxis": "y"
        },
        {
         "fill": "toself",
         "fillcolor": "#F8766D",
         "hoverlabel": {
          "namelength": -1
         },
         "hoveron": "fills+points",
         "hovertemplate": "<b>transcript_id:</b> ENST00000357903<br><b>Feature Type:</b> exon<br><b>Feature Number:</b> 9<br><b>Chromosome:</b> 21<br><b>Start:</b> 25975954<br><b>End:</b> 25976028<br><b>Size:</b> 74<br><extra></extra>",
         "legendgroup": "protein_coding - Exon",
         "legendgrouptitle": {
          "text": ""
         },
         "line": {
          "color": "black",
          "width": 0.25
         },
         "marker": {
          "opacity": 0
         },
         "mode": "lines+markers",
         "name": "protein_coding - Exon",
         "opacity": 1,
         "showlegend": false,
         "type": "scatter",
         "x": [
          3120,
          3194,
          3194,
          3120,
          3120
         ],
         "xaxis": "x",
         "y": [
          1.85,
          1.85,
          2.15,
          2.15,
          1.85
         ],
         "yaxis": "y"
        },
        {
         "fill": "toself",
         "fillcolor": "#F8766D",
         "hoverlabel": {
          "namelength": -1
         },
         "hoveron": "fills+points",
         "hovertemplate": "<b>transcript_id:</b> ENST00000357903<br><b>Feature Type:</b> exon<br><b>Feature Number:</b> 8<br><b>Chromosome:</b> 21<br><b>Start:</b> 25982344<br><b>End:</b> 25982477<br><b>Size:</b> 133<br><extra></extra>",
         "legendgroup": "protein_coding - Exon",
         "legendgrouptitle": {
          "text": ""
         },
         "line": {
          "color": "black",
          "width": 0.25
         },
         "marker": {
          "opacity": 0
         },
         "mode": "lines+markers",
         "name": "protein_coding - Exon",
         "opacity": 1,
         "showlegend": false,
         "type": "scatter",
         "x": [
          3295,
          3428,
          3428,
          3295,
          3295
         ],
         "xaxis": "x",
         "y": [
          1.85,
          1.85,
          2.15,
          2.15,
          1.85
         ],
         "yaxis": "y"
        },
        {
         "fill": "toself",
         "fillcolor": "#F8766D",
         "hoverlabel": {
          "namelength": -1
         },
         "hoveron": "fills+points",
         "hovertemplate": "<b>transcript_id:</b> ENST00000357903<br><b>Feature Type:</b> exon<br><b>Feature Number:</b> 7<br><b>Chromosome:</b> 21<br><b>Start:</b> 26000015<br><b>End:</b> 26000182<br><b>Size:</b> 167<br><extra></extra>",
         "legendgroup": "protein_coding - Exon",
         "legendgrouptitle": {
          "text": ""
         },
         "line": {
          "color": "black",
          "width": 0.25
         },
         "marker": {
          "opacity": 0
         },
         "mode": "lines+markers",
         "name": "protein_coding - Exon",
         "opacity": 1,
         "showlegend": false,
         "type": "scatter",
         "x": [
          3686,
          3853,
          3853,
          3686,
          3686
         ],
         "xaxis": "x",
         "y": [
          1.85,
          1.85,
          2.15,
          2.15,
          1.85
         ],
         "yaxis": "y"
        },
        {
         "fill": "toself",
         "fillcolor": "#F8766D",
         "hoverlabel": {
          "namelength": -1
         },
         "hoveron": "fills+points",
         "hovertemplate": "<b>transcript_id:</b> ENST00000357903<br><b>Feature Type:</b> exon<br><b>Feature Number:</b> 6<br><b>Chromosome:</b> 21<br><b>Start:</b> 26021840<br><b>End:</b> 26022042<br><b>Size:</b> 202<br><extra></extra>",
         "legendgroup": "protein_coding - Exon",
         "legendgrouptitle": {
          "text": ""
         },
         "line": {
          "color": "black",
          "width": 0.25
         },
         "marker": {
          "opacity": 0
         },
         "mode": "lines+markers",
         "name": "protein_coding - Exon",
         "opacity": 1,
         "showlegend": false,
         "type": "scatter",
         "x": [
          3954,
          4156,
          4156,
          3954,
          3954
         ],
         "xaxis": "x",
         "y": [
          1.85,
          1.85,
          2.15,
          2.15,
          1.85
         ],
         "yaxis": "y"
        },
        {
         "fill": "toself",
         "fillcolor": "#F8766D",
         "hoverlabel": {
          "namelength": -1
         },
         "hoveron": "fills+points",
         "hovertemplate": "<b>transcript_id:</b> ENST00000357903<br><b>Feature Type:</b> exon<br><b>Feature Number:</b> 5<br><b>Chromosome:</b> 21<br><b>Start:</b> 26051000<br><b>End:</b> 26051193<br><b>Size:</b> 193<br><extra></extra>",
         "legendgroup": "protein_coding - Exon",
         "legendgrouptitle": {
          "text": ""
         },
         "line": {
          "color": "black",
          "width": 0.25
         },
         "marker": {
          "opacity": 0
         },
         "mode": "lines+markers",
         "name": "protein_coding - Exon",
         "opacity": 1,
         "showlegend": false,
         "type": "scatter",
         "x": [
          4257,
          4450,
          4450,
          4257,
          4257
         ],
         "xaxis": "x",
         "y": [
          1.85,
          1.85,
          2.15,
          2.15,
          1.85
         ],
         "yaxis": "y"
        },
        {
         "fill": "toself",
         "fillcolor": "#F8766D",
         "hoverlabel": {
          "namelength": -1
         },
         "hoveron": "fills+points",
         "hovertemplate": "<b>transcript_id:</b> ENST00000357903<br><b>Feature Type:</b> exon<br><b>Feature Number:</b> 4<br><b>Chromosome:</b> 21<br><b>Start:</b> 26053236<br><b>End:</b> 26053348<br><b>Size:</b> 112<br><extra></extra>",
         "legendgroup": "protein_coding - Exon",
         "legendgrouptitle": {
          "text": ""
         },
         "line": {
          "color": "black",
          "width": 0.25
         },
         "marker": {
          "opacity": 0
         },
         "mode": "lines+markers",
         "name": "protein_coding - Exon",
         "opacity": 1,
         "showlegend": false,
         "type": "scatter",
         "x": [
          4551,
          4663,
          4663,
          4551,
          4551
         ],
         "xaxis": "x",
         "y": [
          1.85,
          1.85,
          2.15,
          2.15,
          1.85
         ],
         "yaxis": "y"
        },
        {
         "fill": "toself",
         "fillcolor": "#F8766D",
         "hoverlabel": {
          "namelength": -1
         },
         "hoveron": "fills+points",
         "hovertemplate": "<b>transcript_id:</b> ENST00000357903<br><b>Feature Type:</b> exon<br><b>Feature Number:</b> 3<br><b>Chromosome:</b> 21<br><b>Start:</b> 26089943<br><b>End:</b> 26090072<br><b>Size:</b> 129<br><extra></extra>",
         "legendgroup": "protein_coding - Exon",
         "legendgrouptitle": {
          "text": ""
         },
         "line": {
          "color": "black",
          "width": 0.25
         },
         "marker": {
          "opacity": 0
         },
         "mode": "lines+markers",
         "name": "protein_coding - Exon",
         "opacity": 1,
         "showlegend": false,
         "type": "scatter",
         "x": [
          4764,
          4893,
          4893,
          4764,
          4764
         ],
         "xaxis": "x",
         "y": [
          1.85,
          1.85,
          2.15,
          2.15,
          1.85
         ],
         "yaxis": "y"
        },
        {
         "fill": "toself",
         "fillcolor": "#F8766D",
         "hoverlabel": {
          "namelength": -1
         },
         "hoveron": "fills+points",
         "hovertemplate": "<b>transcript_id:</b> ENST00000357903<br><b>Feature Type:</b> exon<br><b>Feature Number:</b> 2<br><b>Chromosome:</b> 21<br><b>Start:</b> 26111979<br><b>End:</b> 26112146<br><b>Size:</b> 167<br><extra></extra>",
         "legendgroup": "protein_coding - Exon",
         "legendgrouptitle": {
          "text": ""
         },
         "line": {
          "color": "black",
          "width": 0.25
         },
         "marker": {
          "opacity": 0
         },
         "mode": "lines+markers",
         "name": "protein_coding - Exon",
         "opacity": 1,
         "showlegend": false,
         "type": "scatter",
         "x": [
          4994,
          5161,
          5161,
          4994,
          4994
         ],
         "xaxis": "x",
         "y": [
          1.85,
          1.85,
          2.15,
          2.15,
          1.85
         ],
         "yaxis": "y"
        },
        {
         "fill": "toself",
         "fillcolor": "#F8766D",
         "hoverlabel": {
          "namelength": -1
         },
         "hoveron": "fills+points",
         "hovertemplate": "<b>transcript_id:</b> ENST00000357903<br><b>Feature Type:</b> exon<br><b>Feature Number:</b> 1<br><b>Chromosome:</b> 21<br><b>Start:</b> 26170564<br><b>End:</b> 26170787<br><b>Size:</b> 223<br><extra></extra>",
         "legendgroup": "protein_coding - Exon",
         "legendgrouptitle": {
          "text": ""
         },
         "line": {
          "color": "black",
          "width": 0.25
         },
         "marker": {
          "opacity": 0
         },
         "mode": "lines+markers",
         "name": "protein_coding - Exon",
         "opacity": 1,
         "showlegend": false,
         "type": "scatter",
         "x": [
          5262,
          5485,
          5485,
          5262,
          5262
         ],
         "xaxis": "x",
         "y": [
          1.85,
          1.85,
          2.15,
          2.15,
          1.85
         ],
         "yaxis": "y"
        },
        {
         "fill": "toself",
         "fillcolor": "#00BFC4",
         "hoverlabel": {
          "namelength": -1
         },
         "hoveron": "fills+points",
         "hovertemplate": "<b>transcript_id:</b> ENST00000707133<br><b>Feature Type:</b> exon<br><b>Feature Number:</b> 6<br><b>Chromosome:</b> 21<br><b>Start:</b> 25880550<br><b>End:</b> 25881771<br><b>Size:</b> 1221<br><extra></extra>",
         "legendgroup": "protein_coding_CDS_not_defined",
         "legendgrouptitle": {
          "text": ""
         },
         "line": {
          "color": "black",
          "width": 0.25
         },
         "marker": {
          "opacity": 0
         },
         "mode": "lines+markers",
         "name": "protein_coding_CDS_not_defined",
         "opacity": 1,
         "showlegend": true,
         "type": "scatter",
         "x": [
          2,
          1223,
          1223,
          2,
          2
         ],
         "xaxis": "x",
         "y": [
          2.85,
          2.85,
          3.15,
          3.15,
          2.85
         ],
         "yaxis": "y"
        },
        {
         "fill": "toself",
         "fillcolor": "#00BFC4",
         "hoverlabel": {
          "namelength": -1
         },
         "hoveron": "fills+points",
         "hovertemplate": "<b>transcript_id:</b> ENST00000707133<br><b>Feature Type:</b> exon<br><b>Feature Number:</b> 5<br><b>Chromosome:</b> 21<br><b>Start:</b> 25891722<br><b>End:</b> 25891868<br><b>Size:</b> 146<br><extra></extra>",
         "legendgroup": "protein_coding_CDS_not_defined",
         "legendgrouptitle": {
          "text": ""
         },
         "line": {
          "color": "black",
          "width": 0.25
         },
         "marker": {
          "opacity": 0
         },
         "mode": "lines+markers",
         "name": "protein_coding_CDS_not_defined",
         "opacity": 1,
         "showlegend": false,
         "type": "scatter",
         "x": [
          1324,
          1470,
          1470,
          1324,
          1324
         ],
         "xaxis": "x",
         "y": [
          2.85,
          2.85,
          3.15,
          3.15,
          2.85
         ],
         "yaxis": "y"
        },
        {
         "fill": "toself",
         "fillcolor": "#00BFC4",
         "hoverlabel": {
          "namelength": -1
         },
         "hoveron": "fills+points",
         "hovertemplate": "<b>transcript_id:</b> ENST00000707133<br><b>Feature Type:</b> exon<br><b>Feature Number:</b> 4<br><b>Chromosome:</b> 21<br><b>Start:</b> 25897573<br><b>End:</b> 25897673<br><b>Size:</b> 100<br><extra></extra>",
         "legendgroup": "protein_coding_CDS_not_defined",
         "legendgrouptitle": {
          "text": ""
         },
         "line": {
          "color": "black",
          "width": 0.25
         },
         "marker": {
          "opacity": 0
         },
         "mode": "lines+markers",
         "name": "protein_coding_CDS_not_defined",
         "opacity": 1,
         "showlegend": false,
         "type": "scatter",
         "x": [
          1571,
          1671,
          1671,
          1571,
          1571
         ],
         "xaxis": "x",
         "y": [
          2.85,
          2.85,
          3.15,
          3.15,
          2.85
         ],
         "yaxis": "y"
        },
        {
         "fill": "toself",
         "fillcolor": "#00BFC4",
         "hoverlabel": {
          "namelength": -1
         },
         "hoveron": "fills+points",
         "hovertemplate": "<b>transcript_id:</b> ENST00000707133<br><b>Feature Type:</b> exon<br><b>Feature Number:</b> 3<br><b>Chromosome:</b> 21<br><b>Start:</b> 25905024<br><b>End:</b> 25905077<br><b>Size:</b> 53<br><extra></extra>",
         "legendgroup": "protein_coding_CDS_not_defined",
         "legendgrouptitle": {
          "text": ""
         },
         "line": {
          "color": "black",
          "width": 0.25
         },
         "marker": {
          "opacity": 0
         },
         "mode": "lines+markers",
         "name": "protein_coding_CDS_not_defined",
         "opacity": 1,
         "showlegend": false,
         "type": "scatter",
         "x": [
          1772,
          1825,
          1825,
          1772,
          1772
         ],
         "xaxis": "x",
         "y": [
          2.85,
          2.85,
          3.15,
          3.15,
          2.85
         ],
         "yaxis": "y"
        },
        {
         "fill": "toself",
         "fillcolor": "#00BFC4",
         "hoverlabel": {
          "namelength": -1
         },
         "hoveron": "fills+points",
         "hovertemplate": "<b>transcript_id:</b> ENST00000707133<br><b>Feature Type:</b> exon<br><b>Feature Number:</b> 2<br><b>Chromosome:</b> 21<br><b>Start:</b> 25911741<br><b>End:</b> 25911962<br><b>Size:</b> 221<br><extra></extra>",
         "legendgroup": "protein_coding_CDS_not_defined",
         "legendgrouptitle": {
          "text": ""
         },
         "line": {
          "color": "black",
          "width": 0.25
         },
         "marker": {
          "opacity": 0
         },
         "mode": "lines+markers",
         "name": "protein_coding_CDS_not_defined",
         "opacity": 1,
         "showlegend": false,
         "type": "scatter",
         "x": [
          1926,
          2147,
          2147,
          1926,
          1926
         ],
         "xaxis": "x",
         "y": [
          2.85,
          2.85,
          3.15,
          3.15,
          2.85
         ],
         "yaxis": "y"
        },
        {
         "fill": "toself",
         "fillcolor": "#00BFC4",
         "hoverlabel": {
          "namelength": -1
         },
         "hoveron": "fills+points",
         "hovertemplate": "<b>transcript_id:</b> ENST00000707133<br><b>Feature Type:</b> exon<br><b>Feature Number:</b> 1<br><b>Chromosome:</b> 21<br><b>Start:</b> 25925059<br><b>End:</b> 25925142<br><b>Size:</b> 83<br><extra></extra>",
         "legendgroup": "protein_coding_CDS_not_defined",
         "legendgrouptitle": {
          "text": ""
         },
         "line": {
          "color": "black",
          "width": 0.25
         },
         "marker": {
          "opacity": 0
         },
         "mode": "lines+markers",
         "name": "protein_coding_CDS_not_defined",
         "opacity": 1,
         "showlegend": false,
         "type": "scatter",
         "x": [
          2248,
          2331,
          2331,
          2248,
          2248
         ],
         "xaxis": "x",
         "y": [
          2.85,
          2.85,
          3.15,
          3.15,
          2.85
         ],
         "yaxis": "y"
        },
        {
         "fill": "toself",
         "fillcolor": "#F8766D",
         "hoverlabel": {
          "namelength": -1
         },
         "hoveron": "fills+points",
         "hovertemplate": "<b>transcript_id:</b> ENST00000348990<br><b>Feature Type:</b> exon<br><b>Feature Number:</b> 16<br><b>Chromosome:</b> 21<br><b>Start:</b> 25880550<br><b>End:</b> 25881771<br><b>Size:</b> 1221<br><extra></extra>",
         "legendgroup": "protein_coding - Exon",
         "legendgrouptitle": {
          "text": ""
         },
         "line": {
          "color": "black",
          "width": 0.25
         },
         "marker": {
          "opacity": 0
         },
         "mode": "lines+markers",
         "name": "protein_coding - Exon",
         "opacity": 1,
         "showlegend": false,
         "type": "scatter",
         "x": [
          2,
          1223,
          1223,
          2,
          2
         ],
         "xaxis": "x",
         "y": [
          3.85,
          3.85,
          4.15,
          4.15,
          3.85
         ],
         "yaxis": "y"
        },
        {
         "fill": "toself",
         "fillcolor": "#F8766D",
         "hoverlabel": {
          "namelength": -1
         },
         "hoveron": "fills+points",
         "hovertemplate": "<b>transcript_id:</b> ENST00000348990<br><b>Feature Type:</b> exon<br><b>Feature Number:</b> 15<br><b>Chromosome:</b> 21<br><b>Start:</b> 25891722<br><b>End:</b> 25891868<br><b>Size:</b> 146<br><extra></extra>",
         "legendgroup": "protein_coding - Exon",
         "legendgrouptitle": {
          "text": ""
         },
         "line": {
          "color": "black",
          "width": 0.25
         },
         "marker": {
          "opacity": 0
         },
         "mode": "lines+markers",
         "name": "protein_coding - Exon",
         "opacity": 1,
         "showlegend": false,
         "type": "scatter",
         "x": [
          1324,
          1470,
          1470,
          1324,
          1324
         ],
         "xaxis": "x",
         "y": [
          3.85,
          3.85,
          4.15,
          4.15,
          3.85
         ],
         "yaxis": "y"
        },
        {
         "fill": "toself",
         "fillcolor": "#F8766D",
         "hoverlabel": {
          "namelength": -1
         },
         "hoveron": "fills+points",
         "hovertemplate": "<b>transcript_id:</b> ENST00000348990<br><b>Feature Type:</b> exon<br><b>Feature Number:</b> 14<br><b>Chromosome:</b> 21<br><b>Start:</b> 25897573<br><b>End:</b> 25897673<br><b>Size:</b> 100<br><extra></extra>",
         "legendgroup": "protein_coding - Exon",
         "legendgrouptitle": {
          "text": ""
         },
         "line": {
          "color": "black",
          "width": 0.25
         },
         "marker": {
          "opacity": 0
         },
         "mode": "lines+markers",
         "name": "protein_coding - Exon",
         "opacity": 1,
         "showlegend": false,
         "type": "scatter",
         "x": [
          1571,
          1671,
          1671,
          1571,
          1571
         ],
         "xaxis": "x",
         "y": [
          3.85,
          3.85,
          4.15,
          4.15,
          3.85
         ],
         "yaxis": "y"
        },
        {
         "fill": "toself",
         "fillcolor": "#F8766D",
         "hoverlabel": {
          "namelength": -1
         },
         "hoveron": "fills+points",
         "hovertemplate": "<b>transcript_id:</b> ENST00000348990<br><b>Feature Type:</b> exon<br><b>Feature Number:</b> 13<br><b>Chromosome:</b> 21<br><b>Start:</b> 25905024<br><b>End:</b> 25905077<br><b>Size:</b> 53<br><extra></extra>",
         "legendgroup": "protein_coding - Exon",
         "legendgrouptitle": {
          "text": ""
         },
         "line": {
          "color": "black",
          "width": 0.25
         },
         "marker": {
          "opacity": 0
         },
         "mode": "lines+markers",
         "name": "protein_coding - Exon",
         "opacity": 1,
         "showlegend": false,
         "type": "scatter",
         "x": [
          1772,
          1825,
          1825,
          1772,
          1772
         ],
         "xaxis": "x",
         "y": [
          3.85,
          3.85,
          4.15,
          4.15,
          3.85
         ],
         "yaxis": "y"
        },
        {
         "fill": "toself",
         "fillcolor": "#F8766D",
         "hoverlabel": {
          "namelength": -1
         },
         "hoveron": "fills+points",
         "hovertemplate": "<b>transcript_id:</b> ENST00000348990<br><b>Feature Type:</b> exon<br><b>Feature Number:</b> 12<br><b>Chromosome:</b> 21<br><b>Start:</b> 25911741<br><b>End:</b> 25911962<br><b>Size:</b> 221<br><extra></extra>",
         "legendgroup": "protein_coding - Exon",
         "legendgrouptitle": {
          "text": ""
         },
         "line": {
          "color": "black",
          "width": 0.25
         },
         "marker": {
          "opacity": 0
         },
         "mode": "lines+markers",
         "name": "protein_coding - Exon",
         "opacity": 1,
         "showlegend": false,
         "type": "scatter",
         "x": [
          1926,
          2147,
          2147,
          1926,
          1926
         ],
         "xaxis": "x",
         "y": [
          3.85,
          3.85,
          4.15,
          4.15,
          3.85
         ],
         "yaxis": "y"
        },
        {
         "fill": "toself",
         "fillcolor": "#F8766D",
         "hoverlabel": {
          "namelength": -1
         },
         "hoveron": "fills+points",
         "hovertemplate": "<b>transcript_id:</b> ENST00000348990<br><b>Feature Type:</b> exon<br><b>Feature Number:</b> 11<br><b>Chromosome:</b> 21<br><b>Start:</b> 25954590<br><b>End:</b> 25954689<br><b>Size:</b> 99<br><extra></extra>",
         "legendgroup": "protein_coding - Exon",
         "legendgrouptitle": {
          "text": ""
         },
         "line": {
          "color": "black",
          "width": 0.25
         },
         "marker": {
          "opacity": 0
         },
         "mode": "lines+markers",
         "name": "protein_coding - Exon",
         "opacity": 1,
         "showlegend": false,
         "type": "scatter",
         "x": [
          2432,
          2531,
          2531,
          2432,
          2432
         ],
         "xaxis": "x",
         "y": [
          3.85,
          3.85,
          4.15,
          4.15,
          3.85
         ],
         "yaxis": "y"
        },
        {
         "fill": "toself",
         "fillcolor": "#F8766D",
         "hoverlabel": {
          "namelength": -1
         },
         "hoveron": "fills+points",
         "hovertemplate": "<b>transcript_id:</b> ENST00000348990<br><b>Feature Type:</b> exon<br><b>Feature Number:</b> 10<br><b>Chromosome:</b> 21<br><b>Start:</b> 25955627<br><b>End:</b> 25955755<br><b>Size:</b> 128<br><extra></extra>",
         "legendgroup": "protein_coding - Exon",
         "legendgrouptitle": {
          "text": ""
         },
         "line": {
          "color": "black",
          "width": 0.25
         },
         "marker": {
          "opacity": 0
         },
         "mode": "lines+markers",
         "name": "protein_coding - Exon",
         "opacity": 1,
         "showlegend": false,
         "type": "scatter",
         "x": [
          2632,
          2760,
          2760,
          2632,
          2632
         ],
         "xaxis": "x",
         "y": [
          3.85,
          3.85,
          4.15,
          4.15,
          3.85
         ],
         "yaxis": "y"
        },
        {
         "fill": "toself",
         "fillcolor": "#F8766D",
         "hoverlabel": {
          "namelength": -1
         },
         "hoveron": "fills+points",
         "hovertemplate": "<b>transcript_id:</b> ENST00000348990<br><b>Feature Type:</b> exon<br><b>Feature Number:</b> 9<br><b>Chromosome:</b> 21<br><b>Start:</b> 25975070<br><b>End:</b> 25975228<br><b>Size:</b> 158<br><extra></extra>",
         "legendgroup": "protein_coding - Exon",
         "legendgrouptitle": {
          "text": ""
         },
         "line": {
          "color": "black",
          "width": 0.25
         },
         "marker": {
          "opacity": 0
         },
         "mode": "lines+markers",
         "name": "protein_coding - Exon",
         "opacity": 1,
         "showlegend": false,
         "type": "scatter",
         "x": [
          2861,
          3019,
          3019,
          2861,
          2861
         ],
         "xaxis": "x",
         "y": [
          3.85,
          3.85,
          4.15,
          4.15,
          3.85
         ],
         "yaxis": "y"
        },
        {
         "fill": "toself",
         "fillcolor": "#F8766D",
         "hoverlabel": {
          "namelength": -1
         },
         "hoveron": "fills+points",
         "hovertemplate": "<b>transcript_id:</b> ENST00000348990<br><b>Feature Type:</b> exon<br><b>Feature Number:</b> 8<br><b>Chromosome:</b> 21<br><b>Start:</b> 25975954<br><b>End:</b> 25976028<br><b>Size:</b> 74<br><extra></extra>",
         "legendgroup": "protein_coding - Exon",
         "legendgrouptitle": {
          "text": ""
         },
         "line": {
          "color": "black",
          "width": 0.25
         },
         "marker": {
          "opacity": 0
         },
         "mode": "lines+markers",
         "name": "protein_coding - Exon",
         "opacity": 1,
         "showlegend": false,
         "type": "scatter",
         "x": [
          3120,
          3194,
          3194,
          3120,
          3120
         ],
         "xaxis": "x",
         "y": [
          3.85,
          3.85,
          4.15,
          4.15,
          3.85
         ],
         "yaxis": "y"
        },
        {
         "fill": "toself",
         "fillcolor": "#F8766D",
         "hoverlabel": {
          "namelength": -1
         },
         "hoveron": "fills+points",
         "hovertemplate": "<b>transcript_id:</b> ENST00000348990<br><b>Feature Type:</b> exon<br><b>Feature Number:</b> 7<br><b>Chromosome:</b> 21<br><b>Start:</b> 25982344<br><b>End:</b> 25982477<br><b>Size:</b> 133<br><extra></extra>",
         "legendgroup": "protein_coding - Exon",
         "legendgrouptitle": {
          "text": ""
         },
         "line": {
          "color": "black",
          "width": 0.25
         },
         "marker": {
          "opacity": 0
         },
         "mode": "lines+markers",
         "name": "protein_coding - Exon",
         "opacity": 1,
         "showlegend": false,
         "type": "scatter",
         "x": [
          3295,
          3428,
          3428,
          3295,
          3295
         ],
         "xaxis": "x",
         "y": [
          3.85,
          3.85,
          4.15,
          4.15,
          3.85
         ],
         "yaxis": "y"
        },
        {
         "fill": "toself",
         "fillcolor": "#F8766D",
         "hoverlabel": {
          "namelength": -1
         },
         "hoveron": "fills+points",
         "hovertemplate": "<b>transcript_id:</b> ENST00000348990<br><b>Feature Type:</b> exon<br><b>Feature Number:</b> 6<br><b>Chromosome:</b> 21<br><b>Start:</b> 26021840<br><b>End:</b> 26022042<br><b>Size:</b> 202<br><extra></extra>",
         "legendgroup": "protein_coding - Exon",
         "legendgrouptitle": {
          "text": ""
         },
         "line": {
          "color": "black",
          "width": 0.25
         },
         "marker": {
          "opacity": 0
         },
         "mode": "lines+markers",
         "name": "protein_coding - Exon",
         "opacity": 1,
         "showlegend": false,
         "type": "scatter",
         "x": [
          3954,
          4156,
          4156,
          3954,
          3954
         ],
         "xaxis": "x",
         "y": [
          3.85,
          3.85,
          4.15,
          4.15,
          3.85
         ],
         "yaxis": "y"
        },
        {
         "fill": "toself",
         "fillcolor": "#F8766D",
         "hoverlabel": {
          "namelength": -1
         },
         "hoveron": "fills+points",
         "hovertemplate": "<b>transcript_id:</b> ENST00000348990<br><b>Feature Type:</b> exon<br><b>Feature Number:</b> 5<br><b>Chromosome:</b> 21<br><b>Start:</b> 26051000<br><b>End:</b> 26051193<br><b>Size:</b> 193<br><extra></extra>",
         "legendgroup": "protein_coding - Exon",
         "legendgrouptitle": {
          "text": ""
         },
         "line": {
          "color": "black",
          "width": 0.25
         },
         "marker": {
          "opacity": 0
         },
         "mode": "lines+markers",
         "name": "protein_coding - Exon",
         "opacity": 1,
         "showlegend": false,
         "type": "scatter",
         "x": [
          4257,
          4450,
          4450,
          4257,
          4257
         ],
         "xaxis": "x",
         "y": [
          3.85,
          3.85,
          4.15,
          4.15,
          3.85
         ],
         "yaxis": "y"
        },
        {
         "fill": "toself",
         "fillcolor": "#F8766D",
         "hoverlabel": {
          "namelength": -1
         },
         "hoveron": "fills+points",
         "hovertemplate": "<b>transcript_id:</b> ENST00000348990<br><b>Feature Type:</b> exon<br><b>Feature Number:</b> 4<br><b>Chromosome:</b> 21<br><b>Start:</b> 26053236<br><b>End:</b> 26053348<br><b>Size:</b> 112<br><extra></extra>",
         "legendgroup": "protein_coding - Exon",
         "legendgrouptitle": {
          "text": ""
         },
         "line": {
          "color": "black",
          "width": 0.25
         },
         "marker": {
          "opacity": 0
         },
         "mode": "lines+markers",
         "name": "protein_coding - Exon",
         "opacity": 1,
         "showlegend": false,
         "type": "scatter",
         "x": [
          4551,
          4663,
          4663,
          4551,
          4551
         ],
         "xaxis": "x",
         "y": [
          3.85,
          3.85,
          4.15,
          4.15,
          3.85
         ],
         "yaxis": "y"
        },
        {
         "fill": "toself",
         "fillcolor": "#F8766D",
         "hoverlabel": {
          "namelength": -1
         },
         "hoveron": "fills+points",
         "hovertemplate": "<b>transcript_id:</b> ENST00000348990<br><b>Feature Type:</b> exon<br><b>Feature Number:</b> 3<br><b>Chromosome:</b> 21<br><b>Start:</b> 26089943<br><b>End:</b> 26090072<br><b>Size:</b> 129<br><extra></extra>",
         "legendgroup": "protein_coding - Exon",
         "legendgrouptitle": {
          "text": ""
         },
         "line": {
          "color": "black",
          "width": 0.25
         },
         "marker": {
          "opacity": 0
         },
         "mode": "lines+markers",
         "name": "protein_coding - Exon",
         "opacity": 1,
         "showlegend": false,
         "type": "scatter",
         "x": [
          4764,
          4893,
          4893,
          4764,
          4764
         ],
         "xaxis": "x",
         "y": [
          3.85,
          3.85,
          4.15,
          4.15,
          3.85
         ],
         "yaxis": "y"
        },
        {
         "fill": "toself",
         "fillcolor": "#F8766D",
         "hoverlabel": {
          "namelength": -1
         },
         "hoveron": "fills+points",
         "hovertemplate": "<b>transcript_id:</b> ENST00000348990<br><b>Feature Type:</b> exon<br><b>Feature Number:</b> 2<br><b>Chromosome:</b> 21<br><b>Start:</b> 26111979<br><b>End:</b> 26112146<br><b>Size:</b> 167<br><extra></extra>",
         "legendgroup": "protein_coding - Exon",
         "legendgrouptitle": {
          "text": ""
         },
         "line": {
          "color": "black",
          "width": 0.25
         },
         "marker": {
          "opacity": 0
         },
         "mode": "lines+markers",
         "name": "protein_coding - Exon",
         "opacity": 1,
         "showlegend": false,
         "type": "scatter",
         "x": [
          4994,
          5161,
          5161,
          4994,
          4994
         ],
         "xaxis": "x",
         "y": [
          3.85,
          3.85,
          4.15,
          4.15,
          3.85
         ],
         "yaxis": "y"
        },
        {
         "fill": "toself",
         "fillcolor": "#F8766D",
         "hoverlabel": {
          "namelength": -1
         },
         "hoveron": "fills+points",
         "hovertemplate": "<b>transcript_id:</b> ENST00000348990<br><b>Feature Type:</b> exon<br><b>Feature Number:</b> 1<br><b>Chromosome:</b> 21<br><b>Start:</b> 26170564<br><b>End:</b> 26170767<br><b>Size:</b> 203<br><extra></extra>",
         "legendgroup": "protein_coding - Exon",
         "legendgrouptitle": {
          "text": ""
         },
         "line": {
          "color": "black",
          "width": 0.25
         },
         "marker": {
          "opacity": 0
         },
         "mode": "lines+markers",
         "name": "protein_coding - Exon",
         "opacity": 1,
         "showlegend": false,
         "type": "scatter",
         "x": [
          5262,
          5465,
          5465,
          5262,
          5262
         ],
         "xaxis": "x",
         "y": [
          3.85,
          3.85,
          4.15,
          4.15,
          3.85
         ],
         "yaxis": "y"
        },
        {
         "fill": "toself",
         "fillcolor": "#F8766D",
         "hoverlabel": {
          "namelength": -1
         },
         "hoveron": "fills+points",
         "hovertemplate": "<b>transcript_id:</b> ENST00000346798<br><b>Feature Type:</b> CDS<br><b>Feature Number:</b> 18<br><b>Chromosome:</b> 21<br><b>Start:</b> 25881673<br><b>End:</b> 25881771<br><b>Size:</b> 98<br><extra></extra>",
         "legendgroup": "protein_coding - CDS",
         "legendgrouptitle": {
          "text": ""
         },
         "line": {
          "color": "black",
          "width": 0.25
         },
         "marker": {
          "opacity": 0
         },
         "mode": "lines+markers",
         "name": "protein_coding - CDS",
         "opacity": 1,
         "showlegend": true,
         "type": "scatter",
         "x": [
          1125,
          1223,
          1223,
          1125,
          1125
         ],
         "xaxis": "x",
         "y": [
          -0.25,
          -0.25,
          0.25,
          0.25,
          -0.25
         ],
         "yaxis": "y"
        },
        {
         "fill": "toself",
         "fillcolor": "#F8766D",
         "hoverlabel": {
          "namelength": -1
         },
         "hoveron": "fills+points",
         "hovertemplate": "<b>transcript_id:</b> ENST00000346798<br><b>Feature Type:</b> CDS<br><b>Feature Number:</b> 17<br><b>Chromosome:</b> 21<br><b>Start:</b> 25891722<br><b>End:</b> 25891868<br><b>Size:</b> 146<br><extra></extra>",
         "legendgroup": "protein_coding - CDS",
         "legendgrouptitle": {
          "text": ""
         },
         "line": {
          "color": "black",
          "width": 0.25
         },
         "marker": {
          "opacity": 0
         },
         "mode": "lines+markers",
         "name": "protein_coding - CDS",
         "opacity": 1,
         "showlegend": false,
         "type": "scatter",
         "x": [
          1324,
          1470,
          1470,
          1324,
          1324
         ],
         "xaxis": "x",
         "y": [
          -0.25,
          -0.25,
          0.25,
          0.25,
          -0.25
         ],
         "yaxis": "y"
        },
        {
         "fill": "toself",
         "fillcolor": "#F8766D",
         "hoverlabel": {
          "namelength": -1
         },
         "hoveron": "fills+points",
         "hovertemplate": "<b>transcript_id:</b> ENST00000346798<br><b>Feature Type:</b> CDS<br><b>Feature Number:</b> 16<br><b>Chromosome:</b> 21<br><b>Start:</b> 25897573<br><b>End:</b> 25897673<br><b>Size:</b> 100<br><extra></extra>",
         "legendgroup": "protein_coding - CDS",
         "legendgrouptitle": {
          "text": ""
         },
         "line": {
          "color": "black",
          "width": 0.25
         },
         "marker": {
          "opacity": 0
         },
         "mode": "lines+markers",
         "name": "protein_coding - CDS",
         "opacity": 1,
         "showlegend": false,
         "type": "scatter",
         "x": [
          1571,
          1671,
          1671,
          1571,
          1571
         ],
         "xaxis": "x",
         "y": [
          -0.25,
          -0.25,
          0.25,
          0.25,
          -0.25
         ],
         "yaxis": "y"
        },
        {
         "fill": "toself",
         "fillcolor": "#F8766D",
         "hoverlabel": {
          "namelength": -1
         },
         "hoveron": "fills+points",
         "hovertemplate": "<b>transcript_id:</b> ENST00000346798<br><b>Feature Type:</b> CDS<br><b>Feature Number:</b> 15<br><b>Chromosome:</b> 21<br><b>Start:</b> 25905024<br><b>End:</b> 25905077<br><b>Size:</b> 53<br><extra></extra>",
         "legendgroup": "protein_coding - CDS",
         "legendgrouptitle": {
          "text": ""
         },
         "line": {
          "color": "black",
          "width": 0.25
         },
         "marker": {
          "opacity": 0
         },
         "mode": "lines+markers",
         "name": "protein_coding - CDS",
         "opacity": 1,
         "showlegend": false,
         "type": "scatter",
         "x": [
          1772,
          1825,
          1825,
          1772,
          1772
         ],
         "xaxis": "x",
         "y": [
          -0.25,
          -0.25,
          0.25,
          0.25,
          -0.25
         ],
         "yaxis": "y"
        },
        {
         "fill": "toself",
         "fillcolor": "#F8766D",
         "hoverlabel": {
          "namelength": -1
         },
         "hoveron": "fills+points",
         "hovertemplate": "<b>transcript_id:</b> ENST00000346798<br><b>Feature Type:</b> CDS<br><b>Feature Number:</b> 14<br><b>Chromosome:</b> 21<br><b>Start:</b> 25911741<br><b>End:</b> 25911962<br><b>Size:</b> 221<br><extra></extra>",
         "legendgroup": "protein_coding - CDS",
         "legendgrouptitle": {
          "text": ""
         },
         "line": {
          "color": "black",
          "width": 0.25
         },
         "marker": {
          "opacity": 0
         },
         "mode": "lines+markers",
         "name": "protein_coding - CDS",
         "opacity": 1,
         "showlegend": false,
         "type": "scatter",
         "x": [
          1926,
          2147,
          2147,
          1926,
          1926
         ],
         "xaxis": "x",
         "y": [
          -0.25,
          -0.25,
          0.25,
          0.25,
          -0.25
         ],
         "yaxis": "y"
        },
        {
         "fill": "toself",
         "fillcolor": "#F8766D",
         "hoverlabel": {
          "namelength": -1
         },
         "hoveron": "fills+points",
         "hovertemplate": "<b>transcript_id:</b> ENST00000346798<br><b>Feature Type:</b> CDS<br><b>Feature Number:</b> 13<br><b>Chromosome:</b> 21<br><b>Start:</b> 25954590<br><b>End:</b> 25954689<br><b>Size:</b> 99<br><extra></extra>",
         "legendgroup": "protein_coding - CDS",
         "legendgrouptitle": {
          "text": ""
         },
         "line": {
          "color": "black",
          "width": 0.25
         },
         "marker": {
          "opacity": 0
         },
         "mode": "lines+markers",
         "name": "protein_coding - CDS",
         "opacity": 1,
         "showlegend": false,
         "type": "scatter",
         "x": [
          2432,
          2531,
          2531,
          2432,
          2432
         ],
         "xaxis": "x",
         "y": [
          -0.25,
          -0.25,
          0.25,
          0.25,
          -0.25
         ],
         "yaxis": "y"
        },
        {
         "fill": "toself",
         "fillcolor": "#F8766D",
         "hoverlabel": {
          "namelength": -1
         },
         "hoveron": "fills+points",
         "hovertemplate": "<b>transcript_id:</b> ENST00000346798<br><b>Feature Type:</b> CDS<br><b>Feature Number:</b> 12<br><b>Chromosome:</b> 21<br><b>Start:</b> 25955627<br><b>End:</b> 25955755<br><b>Size:</b> 128<br><extra></extra>",
         "legendgroup": "protein_coding - CDS",
         "legendgrouptitle": {
          "text": ""
         },
         "line": {
          "color": "black",
          "width": 0.25
         },
         "marker": {
          "opacity": 0
         },
         "mode": "lines+markers",
         "name": "protein_coding - CDS",
         "opacity": 1,
         "showlegend": false,
         "type": "scatter",
         "x": [
          2632,
          2760,
          2760,
          2632,
          2632
         ],
         "xaxis": "x",
         "y": [
          -0.25,
          -0.25,
          0.25,
          0.25,
          -0.25
         ],
         "yaxis": "y"
        },
        {
         "fill": "toself",
         "fillcolor": "#F8766D",
         "hoverlabel": {
          "namelength": -1
         },
         "hoveron": "fills+points",
         "hovertemplate": "<b>transcript_id:</b> ENST00000346798<br><b>Feature Type:</b> CDS<br><b>Feature Number:</b> 11<br><b>Chromosome:</b> 21<br><b>Start:</b> 25975070<br><b>End:</b> 25975228<br><b>Size:</b> 158<br><extra></extra>",
         "legendgroup": "protein_coding - CDS",
         "legendgrouptitle": {
          "text": ""
         },
         "line": {
          "color": "black",
          "width": 0.25
         },
         "marker": {
          "opacity": 0
         },
         "mode": "lines+markers",
         "name": "protein_coding - CDS",
         "opacity": 1,
         "showlegend": false,
         "type": "scatter",
         "x": [
          2861,
          3019,
          3019,
          2861,
          2861
         ],
         "xaxis": "x",
         "y": [
          -0.25,
          -0.25,
          0.25,
          0.25,
          -0.25
         ],
         "yaxis": "y"
        },
        {
         "fill": "toself",
         "fillcolor": "#F8766D",
         "hoverlabel": {
          "namelength": -1
         },
         "hoveron": "fills+points",
         "hovertemplate": "<b>transcript_id:</b> ENST00000346798<br><b>Feature Type:</b> CDS<br><b>Feature Number:</b> 10<br><b>Chromosome:</b> 21<br><b>Start:</b> 25975954<br><b>End:</b> 25976028<br><b>Size:</b> 74<br><extra></extra>",
         "legendgroup": "protein_coding - CDS",
         "legendgrouptitle": {
          "text": ""
         },
         "line": {
          "color": "black",
          "width": 0.25
         },
         "marker": {
          "opacity": 0
         },
         "mode": "lines+markers",
         "name": "protein_coding - CDS",
         "opacity": 1,
         "showlegend": false,
         "type": "scatter",
         "x": [
          3120,
          3194,
          3194,
          3120,
          3120
         ],
         "xaxis": "x",
         "y": [
          -0.25,
          -0.25,
          0.25,
          0.25,
          -0.25
         ],
         "yaxis": "y"
        },
        {
         "fill": "toself",
         "fillcolor": "#F8766D",
         "hoverlabel": {
          "namelength": -1
         },
         "hoveron": "fills+points",
         "hovertemplate": "<b>transcript_id:</b> ENST00000346798<br><b>Feature Type:</b> CDS<br><b>Feature Number:</b> 9<br><b>Chromosome:</b> 21<br><b>Start:</b> 25982344<br><b>End:</b> 25982477<br><b>Size:</b> 133<br><extra></extra>",
         "legendgroup": "protein_coding - CDS",
         "legendgrouptitle": {
          "text": ""
         },
         "line": {
          "color": "black",
          "width": 0.25
         },
         "marker": {
          "opacity": 0
         },
         "mode": "lines+markers",
         "name": "protein_coding - CDS",
         "opacity": 1,
         "showlegend": false,
         "type": "scatter",
         "x": [
          3295,
          3428,
          3428,
          3295,
          3295
         ],
         "xaxis": "x",
         "y": [
          -0.25,
          -0.25,
          0.25,
          0.25,
          -0.25
         ],
         "yaxis": "y"
        },
        {
         "fill": "toself",
         "fillcolor": "#F8766D",
         "hoverlabel": {
          "namelength": -1
         },
         "hoveron": "fills+points",
         "hovertemplate": "<b>transcript_id:</b> ENST00000346798<br><b>Feature Type:</b> CDS<br><b>Feature Number:</b> 8<br><b>Chromosome:</b> 21<br><b>Start:</b> 25997360<br><b>End:</b> 25997416<br><b>Size:</b> 56<br><extra></extra>",
         "legendgroup": "protein_coding - CDS",
         "legendgrouptitle": {
          "text": ""
         },
         "line": {
          "color": "black",
          "width": 0.25
         },
         "marker": {
          "opacity": 0
         },
         "mode": "lines+markers",
         "name": "protein_coding - CDS",
         "opacity": 1,
         "showlegend": false,
         "type": "scatter",
         "x": [
          3529,
          3585,
          3585,
          3529,
          3529
         ],
         "xaxis": "x",
         "y": [
          -0.25,
          -0.25,
          0.25,
          0.25,
          -0.25
         ],
         "yaxis": "y"
        },
        {
         "fill": "toself",
         "fillcolor": "#F8766D",
         "hoverlabel": {
          "namelength": -1
         },
         "hoveron": "fills+points",
         "hovertemplate": "<b>transcript_id:</b> ENST00000346798<br><b>Feature Type:</b> CDS<br><b>Feature Number:</b> 7<br><b>Chromosome:</b> 21<br><b>Start:</b> 26000015<br><b>End:</b> 26000182<br><b>Size:</b> 167<br><extra></extra>",
         "legendgroup": "protein_coding - CDS",
         "legendgrouptitle": {
          "text": ""
         },
         "line": {
          "color": "black",
          "width": 0.25
         },
         "marker": {
          "opacity": 0
         },
         "mode": "lines+markers",
         "name": "protein_coding - CDS",
         "opacity": 1,
         "showlegend": false,
         "type": "scatter",
         "x": [
          3686,
          3853,
          3853,
          3686,
          3686
         ],
         "xaxis": "x",
         "y": [
          -0.25,
          -0.25,
          0.25,
          0.25,
          -0.25
         ],
         "yaxis": "y"
        },
        {
         "fill": "toself",
         "fillcolor": "#F8766D",
         "hoverlabel": {
          "namelength": -1
         },
         "hoveron": "fills+points",
         "hovertemplate": "<b>transcript_id:</b> ENST00000346798<br><b>Feature Type:</b> CDS<br><b>Feature Number:</b> 6<br><b>Chromosome:</b> 21<br><b>Start:</b> 26021840<br><b>End:</b> 26022042<br><b>Size:</b> 202<br><extra></extra>",
         "legendgroup": "protein_coding - CDS",
         "legendgrouptitle": {
          "text": ""
         },
         "line": {
          "color": "black",
          "width": 0.25
         },
         "marker": {
          "opacity": 0
         },
         "mode": "lines+markers",
         "name": "protein_coding - CDS",
         "opacity": 1,
         "showlegend": false,
         "type": "scatter",
         "x": [
          3954,
          4156,
          4156,
          3954,
          3954
         ],
         "xaxis": "x",
         "y": [
          -0.25,
          -0.25,
          0.25,
          0.25,
          -0.25
         ],
         "yaxis": "y"
        },
        {
         "fill": "toself",
         "fillcolor": "#F8766D",
         "hoverlabel": {
          "namelength": -1
         },
         "hoveron": "fills+points",
         "hovertemplate": "<b>transcript_id:</b> ENST00000346798<br><b>Feature Type:</b> CDS<br><b>Feature Number:</b> 5<br><b>Chromosome:</b> 21<br><b>Start:</b> 26051000<br><b>End:</b> 26051193<br><b>Size:</b> 193<br><extra></extra>",
         "legendgroup": "protein_coding - CDS",
         "legendgrouptitle": {
          "text": ""
         },
         "line": {
          "color": "black",
          "width": 0.25
         },
         "marker": {
          "opacity": 0
         },
         "mode": "lines+markers",
         "name": "protein_coding - CDS",
         "opacity": 1,
         "showlegend": false,
         "type": "scatter",
         "x": [
          4257,
          4450,
          4450,
          4257,
          4257
         ],
         "xaxis": "x",
         "y": [
          -0.25,
          -0.25,
          0.25,
          0.25,
          -0.25
         ],
         "yaxis": "y"
        },
        {
         "fill": "toself",
         "fillcolor": "#F8766D",
         "hoverlabel": {
          "namelength": -1
         },
         "hoveron": "fills+points",
         "hovertemplate": "<b>transcript_id:</b> ENST00000346798<br><b>Feature Type:</b> CDS<br><b>Feature Number:</b> 4<br><b>Chromosome:</b> 21<br><b>Start:</b> 26053236<br><b>End:</b> 26053348<br><b>Size:</b> 112<br><extra></extra>",
         "legendgroup": "protein_coding - CDS",
         "legendgrouptitle": {
          "text": ""
         },
         "line": {
          "color": "black",
          "width": 0.25
         },
         "marker": {
          "opacity": 0
         },
         "mode": "lines+markers",
         "name": "protein_coding - CDS",
         "opacity": 1,
         "showlegend": false,
         "type": "scatter",
         "x": [
          4551,
          4663,
          4663,
          4551,
          4551
         ],
         "xaxis": "x",
         "y": [
          -0.25,
          -0.25,
          0.25,
          0.25,
          -0.25
         ],
         "yaxis": "y"
        },
        {
         "fill": "toself",
         "fillcolor": "#F8766D",
         "hoverlabel": {
          "namelength": -1
         },
         "hoveron": "fills+points",
         "hovertemplate": "<b>transcript_id:</b> ENST00000346798<br><b>Feature Type:</b> CDS<br><b>Feature Number:</b> 3<br><b>Chromosome:</b> 21<br><b>Start:</b> 26089943<br><b>End:</b> 26090072<br><b>Size:</b> 129<br><extra></extra>",
         "legendgroup": "protein_coding - CDS",
         "legendgrouptitle": {
          "text": ""
         },
         "line": {
          "color": "black",
          "width": 0.25
         },
         "marker": {
          "opacity": 0
         },
         "mode": "lines+markers",
         "name": "protein_coding - CDS",
         "opacity": 1,
         "showlegend": false,
         "type": "scatter",
         "x": [
          4764,
          4893,
          4893,
          4764,
          4764
         ],
         "xaxis": "x",
         "y": [
          -0.25,
          -0.25,
          0.25,
          0.25,
          -0.25
         ],
         "yaxis": "y"
        },
        {
         "fill": "toself",
         "fillcolor": "#F8766D",
         "hoverlabel": {
          "namelength": -1
         },
         "hoveron": "fills+points",
         "hovertemplate": "<b>transcript_id:</b> ENST00000346798<br><b>Feature Type:</b> CDS<br><b>Feature Number:</b> 2<br><b>Chromosome:</b> 21<br><b>Start:</b> 26111979<br><b>End:</b> 26112146<br><b>Size:</b> 167<br><extra></extra>",
         "legendgroup": "protein_coding - CDS",
         "legendgrouptitle": {
          "text": ""
         },
         "line": {
          "color": "black",
          "width": 0.25
         },
         "marker": {
          "opacity": 0
         },
         "mode": "lines+markers",
         "name": "protein_coding - CDS",
         "opacity": 1,
         "showlegend": false,
         "type": "scatter",
         "x": [
          4994,
          5161,
          5161,
          4994,
          4994
         ],
         "xaxis": "x",
         "y": [
          -0.25,
          -0.25,
          0.25,
          0.25,
          -0.25
         ],
         "yaxis": "y"
        },
        {
         "fill": "toself",
         "fillcolor": "#F8766D",
         "hoverlabel": {
          "namelength": -1
         },
         "hoveron": "fills+points",
         "hovertemplate": "<b>transcript_id:</b> ENST00000346798<br><b>Feature Type:</b> CDS<br><b>Feature Number:</b> 1<br><b>Chromosome:</b> 21<br><b>Start:</b> 26170564<br><b>End:</b> 26170620<br><b>Size:</b> 56<br><extra></extra>",
         "legendgroup": "protein_coding - CDS",
         "legendgrouptitle": {
          "text": ""
         },
         "line": {
          "color": "black",
          "width": 0.25
         },
         "marker": {
          "opacity": 0
         },
         "mode": "lines+markers",
         "name": "protein_coding - CDS",
         "opacity": 1,
         "showlegend": false,
         "type": "scatter",
         "x": [
          5262,
          5318,
          5318,
          5262,
          5262
         ],
         "xaxis": "x",
         "y": [
          -0.25,
          -0.25,
          0.25,
          0.25,
          -0.25
         ],
         "yaxis": "y"
        },
        {
         "fill": "toself",
         "fillcolor": "#F8766D",
         "hoverlabel": {
          "namelength": -1
         },
         "hoveron": "fills+points",
         "hovertemplate": "<b>transcript_id:</b> ENST00000359726<br><b>Feature Type:</b> CDS<br><b>Feature Number:</b> 16<br><b>Chromosome:</b> 21<br><b>Start:</b> 25881673<br><b>End:</b> 25881771<br><b>Size:</b> 98<br><extra></extra>",
         "legendgroup": "protein_coding - CDS",
         "legendgrouptitle": {
          "text": ""
         },
         "line": {
          "color": "black",
          "width": 0.25
         },
         "marker": {
          "opacity": 0
         },
         "mode": "lines+markers",
         "name": "protein_coding - CDS",
         "opacity": 1,
         "showlegend": false,
         "type": "scatter",
         "x": [
          1125,
          1223,
          1223,
          1125,
          1125
         ],
         "xaxis": "x",
         "y": [
          0.75,
          0.75,
          1.25,
          1.25,
          0.75
         ],
         "yaxis": "y"
        },
        {
         "fill": "toself",
         "fillcolor": "#F8766D",
         "hoverlabel": {
          "namelength": -1
         },
         "hoveron": "fills+points",
         "hovertemplate": "<b>transcript_id:</b> ENST00000359726<br><b>Feature Type:</b> CDS<br><b>Feature Number:</b> 15<br><b>Chromosome:</b> 21<br><b>Start:</b> 25891722<br><b>End:</b> 25891868<br><b>Size:</b> 146<br><extra></extra>",
         "legendgroup": "protein_coding - CDS",
         "legendgrouptitle": {
          "text": ""
         },
         "line": {
          "color": "black",
          "width": 0.25
         },
         "marker": {
          "opacity": 0
         },
         "mode": "lines+markers",
         "name": "protein_coding - CDS",
         "opacity": 1,
         "showlegend": false,
         "type": "scatter",
         "x": [
          1324,
          1470,
          1470,
          1324,
          1324
         ],
         "xaxis": "x",
         "y": [
          0.75,
          0.75,
          1.25,
          1.25,
          0.75
         ],
         "yaxis": "y"
        },
        {
         "fill": "toself",
         "fillcolor": "#F8766D",
         "hoverlabel": {
          "namelength": -1
         },
         "hoveron": "fills+points",
         "hovertemplate": "<b>transcript_id:</b> ENST00000359726<br><b>Feature Type:</b> CDS<br><b>Feature Number:</b> 14<br><b>Chromosome:</b> 21<br><b>Start:</b> 25897573<br><b>End:</b> 25897673<br><b>Size:</b> 100<br><extra></extra>",
         "legendgroup": "protein_coding - CDS",
         "legendgrouptitle": {
          "text": ""
         },
         "line": {
          "color": "black",
          "width": 0.25
         },
         "marker": {
          "opacity": 0
         },
         "mode": "lines+markers",
         "name": "protein_coding - CDS",
         "opacity": 1,
         "showlegend": false,
         "type": "scatter",
         "x": [
          1571,
          1671,
          1671,
          1571,
          1571
         ],
         "xaxis": "x",
         "y": [
          0.75,
          0.75,
          1.25,
          1.25,
          0.75
         ],
         "yaxis": "y"
        },
        {
         "fill": "toself",
         "fillcolor": "#F8766D",
         "hoverlabel": {
          "namelength": -1
         },
         "hoveron": "fills+points",
         "hovertemplate": "<b>transcript_id:</b> ENST00000359726<br><b>Feature Type:</b> CDS<br><b>Feature Number:</b> 13<br><b>Chromosome:</b> 21<br><b>Start:</b> 25905024<br><b>End:</b> 25905077<br><b>Size:</b> 53<br><extra></extra>",
         "legendgroup": "protein_coding - CDS",
         "legendgrouptitle": {
          "text": ""
         },
         "line": {
          "color": "black",
          "width": 0.25
         },
         "marker": {
          "opacity": 0
         },
         "mode": "lines+markers",
         "name": "protein_coding - CDS",
         "opacity": 1,
         "showlegend": false,
         "type": "scatter",
         "x": [
          1772,
          1825,
          1825,
          1772,
          1772
         ],
         "xaxis": "x",
         "y": [
          0.75,
          0.75,
          1.25,
          1.25,
          0.75
         ],
         "yaxis": "y"
        },
        {
         "fill": "toself",
         "fillcolor": "#F8766D",
         "hoverlabel": {
          "namelength": -1
         },
         "hoveron": "fills+points",
         "hovertemplate": "<b>transcript_id:</b> ENST00000359726<br><b>Feature Type:</b> CDS<br><b>Feature Number:</b> 12<br><b>Chromosome:</b> 21<br><b>Start:</b> 25911741<br><b>End:</b> 25911962<br><b>Size:</b> 221<br><extra></extra>",
         "legendgroup": "protein_coding - CDS",
         "legendgrouptitle": {
          "text": ""
         },
         "line": {
          "color": "black",
          "width": 0.25
         },
         "marker": {
          "opacity": 0
         },
         "mode": "lines+markers",
         "name": "protein_coding - CDS",
         "opacity": 1,
         "showlegend": false,
         "type": "scatter",
         "x": [
          1926,
          2147,
          2147,
          1926,
          1926
         ],
         "xaxis": "x",
         "y": [
          0.75,
          0.75,
          1.25,
          1.25,
          0.75
         ],
         "yaxis": "y"
        },
        {
         "fill": "toself",
         "fillcolor": "#F8766D",
         "hoverlabel": {
          "namelength": -1
         },
         "hoveron": "fills+points",
         "hovertemplate": "<b>transcript_id:</b> ENST00000359726<br><b>Feature Type:</b> CDS<br><b>Feature Number:</b> 11<br><b>Chromosome:</b> 21<br><b>Start:</b> 25954590<br><b>End:</b> 25954689<br><b>Size:</b> 99<br><extra></extra>",
         "legendgroup": "protein_coding - CDS",
         "legendgrouptitle": {
          "text": ""
         },
         "line": {
          "color": "black",
          "width": 0.25
         },
         "marker": {
          "opacity": 0
         },
         "mode": "lines+markers",
         "name": "protein_coding - CDS",
         "opacity": 1,
         "showlegend": false,
         "type": "scatter",
         "x": [
          2432,
          2531,
          2531,
          2432,
          2432
         ],
         "xaxis": "x",
         "y": [
          0.75,
          0.75,
          1.25,
          1.25,
          0.75
         ],
         "yaxis": "y"
        },
        {
         "fill": "toself",
         "fillcolor": "#F8766D",
         "hoverlabel": {
          "namelength": -1
         },
         "hoveron": "fills+points",
         "hovertemplate": "<b>transcript_id:</b> ENST00000359726<br><b>Feature Type:</b> CDS<br><b>Feature Number:</b> 10<br><b>Chromosome:</b> 21<br><b>Start:</b> 25955627<br><b>End:</b> 25955755<br><b>Size:</b> 128<br><extra></extra>",
         "legendgroup": "protein_coding - CDS",
         "legendgrouptitle": {
          "text": ""
         },
         "line": {
          "color": "black",
          "width": 0.25
         },
         "marker": {
          "opacity": 0
         },
         "mode": "lines+markers",
         "name": "protein_coding - CDS",
         "opacity": 1,
         "showlegend": false,
         "type": "scatter",
         "x": [
          2632,
          2760,
          2760,
          2632,
          2632
         ],
         "xaxis": "x",
         "y": [
          0.75,
          0.75,
          1.25,
          1.25,
          0.75
         ],
         "yaxis": "y"
        },
        {
         "fill": "toself",
         "fillcolor": "#F8766D",
         "hoverlabel": {
          "namelength": -1
         },
         "hoveron": "fills+points",
         "hovertemplate": "<b>transcript_id:</b> ENST00000359726<br><b>Feature Type:</b> CDS<br><b>Feature Number:</b> 9<br><b>Chromosome:</b> 21<br><b>Start:</b> 25975070<br><b>End:</b> 25975228<br><b>Size:</b> 158<br><extra></extra>",
         "legendgroup": "protein_coding - CDS",
         "legendgrouptitle": {
          "text": ""
         },
         "line": {
          "color": "black",
          "width": 0.25
         },
         "marker": {
          "opacity": 0
         },
         "mode": "lines+markers",
         "name": "protein_coding - CDS",
         "opacity": 1,
         "showlegend": false,
         "type": "scatter",
         "x": [
          2861,
          3019,
          3019,
          2861,
          2861
         ],
         "xaxis": "x",
         "y": [
          0.75,
          0.75,
          1.25,
          1.25,
          0.75
         ],
         "yaxis": "y"
        },
        {
         "fill": "toself",
         "fillcolor": "#F8766D",
         "hoverlabel": {
          "namelength": -1
         },
         "hoveron": "fills+points",
         "hovertemplate": "<b>transcript_id:</b> ENST00000359726<br><b>Feature Type:</b> CDS<br><b>Feature Number:</b> 8<br><b>Chromosome:</b> 21<br><b>Start:</b> 25975954<br><b>End:</b> 25976028<br><b>Size:</b> 74<br><extra></extra>",
         "legendgroup": "protein_coding - CDS",
         "legendgrouptitle": {
          "text": ""
         },
         "line": {
          "color": "black",
          "width": 0.25
         },
         "marker": {
          "opacity": 0
         },
         "mode": "lines+markers",
         "name": "protein_coding - CDS",
         "opacity": 1,
         "showlegend": false,
         "type": "scatter",
         "x": [
          3120,
          3194,
          3194,
          3120,
          3120
         ],
         "xaxis": "x",
         "y": [
          0.75,
          0.75,
          1.25,
          1.25,
          0.75
         ],
         "yaxis": "y"
        },
        {
         "fill": "toself",
         "fillcolor": "#F8766D",
         "hoverlabel": {
          "namelength": -1
         },
         "hoveron": "fills+points",
         "hovertemplate": "<b>transcript_id:</b> ENST00000359726<br><b>Feature Type:</b> CDS<br><b>Feature Number:</b> 7<br><b>Chromosome:</b> 21<br><b>Start:</b> 25982344<br><b>End:</b> 25982477<br><b>Size:</b> 133<br><extra></extra>",
         "legendgroup": "protein_coding - CDS",
         "legendgrouptitle": {
          "text": ""
         },
         "line": {
          "color": "black",
          "width": 0.25
         },
         "marker": {
          "opacity": 0
         },
         "mode": "lines+markers",
         "name": "protein_coding - CDS",
         "opacity": 1,
         "showlegend": false,
         "type": "scatter",
         "x": [
          3295,
          3428,
          3428,
          3295,
          3295
         ],
         "xaxis": "x",
         "y": [
          0.75,
          0.75,
          1.25,
          1.25,
          0.75
         ],
         "yaxis": "y"
        },
        {
         "fill": "toself",
         "fillcolor": "#F8766D",
         "hoverlabel": {
          "namelength": -1
         },
         "hoveron": "fills+points",
         "hovertemplate": "<b>transcript_id:</b> ENST00000359726<br><b>Feature Type:</b> CDS<br><b>Feature Number:</b> 6<br><b>Chromosome:</b> 21<br><b>Start:</b> 26021840<br><b>End:</b> 26022042<br><b>Size:</b> 202<br><extra></extra>",
         "legendgroup": "protein_coding - CDS",
         "legendgrouptitle": {
          "text": ""
         },
         "line": {
          "color": "black",
          "width": 0.25
         },
         "marker": {
          "opacity": 0
         },
         "mode": "lines+markers",
         "name": "protein_coding - CDS",
         "opacity": 1,
         "showlegend": false,
         "type": "scatter",
         "x": [
          3954,
          4156,
          4156,
          3954,
          3954
         ],
         "xaxis": "x",
         "y": [
          0.75,
          0.75,
          1.25,
          1.25,
          0.75
         ],
         "yaxis": "y"
        },
        {
         "fill": "toself",
         "fillcolor": "#F8766D",
         "hoverlabel": {
          "namelength": -1
         },
         "hoveron": "fills+points",
         "hovertemplate": "<b>transcript_id:</b> ENST00000359726<br><b>Feature Type:</b> CDS<br><b>Feature Number:</b> 5<br><b>Chromosome:</b> 21<br><b>Start:</b> 26051000<br><b>End:</b> 26051193<br><b>Size:</b> 193<br><extra></extra>",
         "legendgroup": "protein_coding - CDS",
         "legendgrouptitle": {
          "text": ""
         },
         "line": {
          "color": "black",
          "width": 0.25
         },
         "marker": {
          "opacity": 0
         },
         "mode": "lines+markers",
         "name": "protein_coding - CDS",
         "opacity": 1,
         "showlegend": false,
         "type": "scatter",
         "x": [
          4257,
          4450,
          4450,
          4257,
          4257
         ],
         "xaxis": "x",
         "y": [
          0.75,
          0.75,
          1.25,
          1.25,
          0.75
         ],
         "yaxis": "y"
        },
        {
         "fill": "toself",
         "fillcolor": "#F8766D",
         "hoverlabel": {
          "namelength": -1
         },
         "hoveron": "fills+points",
         "hovertemplate": "<b>transcript_id:</b> ENST00000359726<br><b>Feature Type:</b> CDS<br><b>Feature Number:</b> 4<br><b>Chromosome:</b> 21<br><b>Start:</b> 26053236<br><b>End:</b> 26053348<br><b>Size:</b> 112<br><extra></extra>",
         "legendgroup": "protein_coding - CDS",
         "legendgrouptitle": {
          "text": ""
         },
         "line": {
          "color": "black",
          "width": 0.25
         },
         "marker": {
          "opacity": 0
         },
         "mode": "lines+markers",
         "name": "protein_coding - CDS",
         "opacity": 1,
         "showlegend": false,
         "type": "scatter",
         "x": [
          4551,
          4663,
          4663,
          4551,
          4551
         ],
         "xaxis": "x",
         "y": [
          0.75,
          0.75,
          1.25,
          1.25,
          0.75
         ],
         "yaxis": "y"
        },
        {
         "fill": "toself",
         "fillcolor": "#F8766D",
         "hoverlabel": {
          "namelength": -1
         },
         "hoveron": "fills+points",
         "hovertemplate": "<b>transcript_id:</b> ENST00000359726<br><b>Feature Type:</b> CDS<br><b>Feature Number:</b> 3<br><b>Chromosome:</b> 21<br><b>Start:</b> 26089943<br><b>End:</b> 26090072<br><b>Size:</b> 129<br><extra></extra>",
         "legendgroup": "protein_coding - CDS",
         "legendgrouptitle": {
          "text": ""
         },
         "line": {
          "color": "black",
          "width": 0.25
         },
         "marker": {
          "opacity": 0
         },
         "mode": "lines+markers",
         "name": "protein_coding - CDS",
         "opacity": 1,
         "showlegend": false,
         "type": "scatter",
         "x": [
          4764,
          4893,
          4893,
          4764,
          4764
         ],
         "xaxis": "x",
         "y": [
          0.75,
          0.75,
          1.25,
          1.25,
          0.75
         ],
         "yaxis": "y"
        },
        {
         "fill": "toself",
         "fillcolor": "#F8766D",
         "hoverlabel": {
          "namelength": -1
         },
         "hoveron": "fills+points",
         "hovertemplate": "<b>transcript_id:</b> ENST00000359726<br><b>Feature Type:</b> CDS<br><b>Feature Number:</b> 2<br><b>Chromosome:</b> 21<br><b>Start:</b> 26111979<br><b>End:</b> 26112098<br><b>Size:</b> 119<br><extra></extra>",
         "legendgroup": "protein_coding - CDS",
         "legendgrouptitle": {
          "text": ""
         },
         "line": {
          "color": "black",
          "width": 0.25
         },
         "marker": {
          "opacity": 0
         },
         "mode": "lines+markers",
         "name": "protein_coding - CDS",
         "opacity": 1,
         "showlegend": false,
         "type": "scatter",
         "x": [
          4994,
          5113,
          5113,
          4994,
          4994
         ],
         "xaxis": "x",
         "y": [
          0.75,
          0.75,
          1.25,
          1.25,
          0.75
         ],
         "yaxis": "y"
        },
        {
         "fill": "toself",
         "fillcolor": "#F8766D",
         "hoverlabel": {
          "namelength": -1
         },
         "hoveron": "fills+points",
         "hovertemplate": "<b>transcript_id:</b> ENST00000357903<br><b>Feature Type:</b> CDS<br><b>Feature Number:</b> 17<br><b>Chromosome:</b> 21<br><b>Start:</b> 25881673<br><b>End:</b> 25881771<br><b>Size:</b> 98<br><extra></extra>",
         "legendgroup": "protein_coding - CDS",
         "legendgrouptitle": {
          "text": ""
         },
         "line": {
          "color": "black",
          "width": 0.25
         },
         "marker": {
          "opacity": 0
         },
         "mode": "lines+markers",
         "name": "protein_coding - CDS",
         "opacity": 1,
         "showlegend": false,
         "type": "scatter",
         "x": [
          1125,
          1223,
          1223,
          1125,
          1125
         ],
         "xaxis": "x",
         "y": [
          1.75,
          1.75,
          2.25,
          2.25,
          1.75
         ],
         "yaxis": "y"
        },
        {
         "fill": "toself",
         "fillcolor": "#F8766D",
         "hoverlabel": {
          "namelength": -1
         },
         "hoveron": "fills+points",
         "hovertemplate": "<b>transcript_id:</b> ENST00000357903<br><b>Feature Type:</b> CDS<br><b>Feature Number:</b> 16<br><b>Chromosome:</b> 21<br><b>Start:</b> 25891722<br><b>End:</b> 25891868<br><b>Size:</b> 146<br><extra></extra>",
         "legendgroup": "protein_coding - CDS",
         "legendgrouptitle": {
          "text": ""
         },
         "line": {
          "color": "black",
          "width": 0.25
         },
         "marker": {
          "opacity": 0
         },
         "mode": "lines+markers",
         "name": "protein_coding - CDS",
         "opacity": 1,
         "showlegend": false,
         "type": "scatter",
         "x": [
          1324,
          1470,
          1470,
          1324,
          1324
         ],
         "xaxis": "x",
         "y": [
          1.75,
          1.75,
          2.25,
          2.25,
          1.75
         ],
         "yaxis": "y"
        },
        {
         "fill": "toself",
         "fillcolor": "#F8766D",
         "hoverlabel": {
          "namelength": -1
         },
         "hoveron": "fills+points",
         "hovertemplate": "<b>transcript_id:</b> ENST00000357903<br><b>Feature Type:</b> CDS<br><b>Feature Number:</b> 15<br><b>Chromosome:</b> 21<br><b>Start:</b> 25897573<br><b>End:</b> 25897673<br><b>Size:</b> 100<br><extra></extra>",
         "legendgroup": "protein_coding - CDS",
         "legendgrouptitle": {
          "text": ""
         },
         "line": {
          "color": "black",
          "width": 0.25
         },
         "marker": {
          "opacity": 0
         },
         "mode": "lines+markers",
         "name": "protein_coding - CDS",
         "opacity": 1,
         "showlegend": false,
         "type": "scatter",
         "x": [
          1571,
          1671,
          1671,
          1571,
          1571
         ],
         "xaxis": "x",
         "y": [
          1.75,
          1.75,
          2.25,
          2.25,
          1.75
         ],
         "yaxis": "y"
        },
        {
         "fill": "toself",
         "fillcolor": "#F8766D",
         "hoverlabel": {
          "namelength": -1
         },
         "hoveron": "fills+points",
         "hovertemplate": "<b>transcript_id:</b> ENST00000357903<br><b>Feature Type:</b> CDS<br><b>Feature Number:</b> 14<br><b>Chromosome:</b> 21<br><b>Start:</b> 25905024<br><b>End:</b> 25905077<br><b>Size:</b> 53<br><extra></extra>",
         "legendgroup": "protein_coding - CDS",
         "legendgrouptitle": {
          "text": ""
         },
         "line": {
          "color": "black",
          "width": 0.25
         },
         "marker": {
          "opacity": 0
         },
         "mode": "lines+markers",
         "name": "protein_coding - CDS",
         "opacity": 1,
         "showlegend": false,
         "type": "scatter",
         "x": [
          1772,
          1825,
          1825,
          1772,
          1772
         ],
         "xaxis": "x",
         "y": [
          1.75,
          1.75,
          2.25,
          2.25,
          1.75
         ],
         "yaxis": "y"
        },
        {
         "fill": "toself",
         "fillcolor": "#F8766D",
         "hoverlabel": {
          "namelength": -1
         },
         "hoveron": "fills+points",
         "hovertemplate": "<b>transcript_id:</b> ENST00000357903<br><b>Feature Type:</b> CDS<br><b>Feature Number:</b> 13<br><b>Chromosome:</b> 21<br><b>Start:</b> 25911741<br><b>End:</b> 25911962<br><b>Size:</b> 221<br><extra></extra>",
         "legendgroup": "protein_coding - CDS",
         "legendgrouptitle": {
          "text": ""
         },
         "line": {
          "color": "black",
          "width": 0.25
         },
         "marker": {
          "opacity": 0
         },
         "mode": "lines+markers",
         "name": "protein_coding - CDS",
         "opacity": 1,
         "showlegend": false,
         "type": "scatter",
         "x": [
          1926,
          2147,
          2147,
          1926,
          1926
         ],
         "xaxis": "x",
         "y": [
          1.75,
          1.75,
          2.25,
          2.25,
          1.75
         ],
         "yaxis": "y"
        },
        {
         "fill": "toself",
         "fillcolor": "#F8766D",
         "hoverlabel": {
          "namelength": -1
         },
         "hoveron": "fills+points",
         "hovertemplate": "<b>transcript_id:</b> ENST00000357903<br><b>Feature Type:</b> CDS<br><b>Feature Number:</b> 12<br><b>Chromosome:</b> 21<br><b>Start:</b> 25954590<br><b>End:</b> 25954689<br><b>Size:</b> 99<br><extra></extra>",
         "legendgroup": "protein_coding - CDS",
         "legendgrouptitle": {
          "text": ""
         },
         "line": {
          "color": "black",
          "width": 0.25
         },
         "marker": {
          "opacity": 0
         },
         "mode": "lines+markers",
         "name": "protein_coding - CDS",
         "opacity": 1,
         "showlegend": false,
         "type": "scatter",
         "x": [
          2432,
          2531,
          2531,
          2432,
          2432
         ],
         "xaxis": "x",
         "y": [
          1.75,
          1.75,
          2.25,
          2.25,
          1.75
         ],
         "yaxis": "y"
        },
        {
         "fill": "toself",
         "fillcolor": "#F8766D",
         "hoverlabel": {
          "namelength": -1
         },
         "hoveron": "fills+points",
         "hovertemplate": "<b>transcript_id:</b> ENST00000357903<br><b>Feature Type:</b> CDS<br><b>Feature Number:</b> 11<br><b>Chromosome:</b> 21<br><b>Start:</b> 25955627<br><b>End:</b> 25955755<br><b>Size:</b> 128<br><extra></extra>",
         "legendgroup": "protein_coding - CDS",
         "legendgrouptitle": {
          "text": ""
         },
         "line": {
          "color": "black",
          "width": 0.25
         },
         "marker": {
          "opacity": 0
         },
         "mode": "lines+markers",
         "name": "protein_coding - CDS",
         "opacity": 1,
         "showlegend": false,
         "type": "scatter",
         "x": [
          2632,
          2760,
          2760,
          2632,
          2632
         ],
         "xaxis": "x",
         "y": [
          1.75,
          1.75,
          2.25,
          2.25,
          1.75
         ],
         "yaxis": "y"
        },
        {
         "fill": "toself",
         "fillcolor": "#F8766D",
         "hoverlabel": {
          "namelength": -1
         },
         "hoveron": "fills+points",
         "hovertemplate": "<b>transcript_id:</b> ENST00000357903<br><b>Feature Type:</b> CDS<br><b>Feature Number:</b> 10<br><b>Chromosome:</b> 21<br><b>Start:</b> 25975070<br><b>End:</b> 25975228<br><b>Size:</b> 158<br><extra></extra>",
         "legendgroup": "protein_coding - CDS",
         "legendgrouptitle": {
          "text": ""
         },
         "line": {
          "color": "black",
          "width": 0.25
         },
         "marker": {
          "opacity": 0
         },
         "mode": "lines+markers",
         "name": "protein_coding - CDS",
         "opacity": 1,
         "showlegend": false,
         "type": "scatter",
         "x": [
          2861,
          3019,
          3019,
          2861,
          2861
         ],
         "xaxis": "x",
         "y": [
          1.75,
          1.75,
          2.25,
          2.25,
          1.75
         ],
         "yaxis": "y"
        },
        {
         "fill": "toself",
         "fillcolor": "#F8766D",
         "hoverlabel": {
          "namelength": -1
         },
         "hoveron": "fills+points",
         "hovertemplate": "<b>transcript_id:</b> ENST00000357903<br><b>Feature Type:</b> CDS<br><b>Feature Number:</b> 9<br><b>Chromosome:</b> 21<br><b>Start:</b> 25975954<br><b>End:</b> 25976028<br><b>Size:</b> 74<br><extra></extra>",
         "legendgroup": "protein_coding - CDS",
         "legendgrouptitle": {
          "text": ""
         },
         "line": {
          "color": "black",
          "width": 0.25
         },
         "marker": {
          "opacity": 0
         },
         "mode": "lines+markers",
         "name": "protein_coding - CDS",
         "opacity": 1,
         "showlegend": false,
         "type": "scatter",
         "x": [
          3120,
          3194,
          3194,
          3120,
          3120
         ],
         "xaxis": "x",
         "y": [
          1.75,
          1.75,
          2.25,
          2.25,
          1.75
         ],
         "yaxis": "y"
        },
        {
         "fill": "toself",
         "fillcolor": "#F8766D",
         "hoverlabel": {
          "namelength": -1
         },
         "hoveron": "fills+points",
         "hovertemplate": "<b>transcript_id:</b> ENST00000357903<br><b>Feature Type:</b> CDS<br><b>Feature Number:</b> 8<br><b>Chromosome:</b> 21<br><b>Start:</b> 25982344<br><b>End:</b> 25982477<br><b>Size:</b> 133<br><extra></extra>",
         "legendgroup": "protein_coding - CDS",
         "legendgrouptitle": {
          "text": ""
         },
         "line": {
          "color": "black",
          "width": 0.25
         },
         "marker": {
          "opacity": 0
         },
         "mode": "lines+markers",
         "name": "protein_coding - CDS",
         "opacity": 1,
         "showlegend": false,
         "type": "scatter",
         "x": [
          3295,
          3428,
          3428,
          3295,
          3295
         ],
         "xaxis": "x",
         "y": [
          1.75,
          1.75,
          2.25,
          2.25,
          1.75
         ],
         "yaxis": "y"
        },
        {
         "fill": "toself",
         "fillcolor": "#F8766D",
         "hoverlabel": {
          "namelength": -1
         },
         "hoveron": "fills+points",
         "hovertemplate": "<b>transcript_id:</b> ENST00000357903<br><b>Feature Type:</b> CDS<br><b>Feature Number:</b> 7<br><b>Chromosome:</b> 21<br><b>Start:</b> 26000015<br><b>End:</b> 26000182<br><b>Size:</b> 167<br><extra></extra>",
         "legendgroup": "protein_coding - CDS",
         "legendgrouptitle": {
          "text": ""
         },
         "line": {
          "color": "black",
          "width": 0.25
         },
         "marker": {
          "opacity": 0
         },
         "mode": "lines+markers",
         "name": "protein_coding - CDS",
         "opacity": 1,
         "showlegend": false,
         "type": "scatter",
         "x": [
          3686,
          3853,
          3853,
          3686,
          3686
         ],
         "xaxis": "x",
         "y": [
          1.75,
          1.75,
          2.25,
          2.25,
          1.75
         ],
         "yaxis": "y"
        },
        {
         "fill": "toself",
         "fillcolor": "#F8766D",
         "hoverlabel": {
          "namelength": -1
         },
         "hoveron": "fills+points",
         "hovertemplate": "<b>transcript_id:</b> ENST00000357903<br><b>Feature Type:</b> CDS<br><b>Feature Number:</b> 6<br><b>Chromosome:</b> 21<br><b>Start:</b> 26021840<br><b>End:</b> 26022042<br><b>Size:</b> 202<br><extra></extra>",
         "legendgroup": "protein_coding - CDS",
         "legendgrouptitle": {
          "text": ""
         },
         "line": {
          "color": "black",
          "width": 0.25
         },
         "marker": {
          "opacity": 0
         },
         "mode": "lines+markers",
         "name": "protein_coding - CDS",
         "opacity": 1,
         "showlegend": false,
         "type": "scatter",
         "x": [
          3954,
          4156,
          4156,
          3954,
          3954
         ],
         "xaxis": "x",
         "y": [
          1.75,
          1.75,
          2.25,
          2.25,
          1.75
         ],
         "yaxis": "y"
        },
        {
         "fill": "toself",
         "fillcolor": "#F8766D",
         "hoverlabel": {
          "namelength": -1
         },
         "hoveron": "fills+points",
         "hovertemplate": "<b>transcript_id:</b> ENST00000357903<br><b>Feature Type:</b> CDS<br><b>Feature Number:</b> 5<br><b>Chromosome:</b> 21<br><b>Start:</b> 26051000<br><b>End:</b> 26051193<br><b>Size:</b> 193<br><extra></extra>",
         "legendgroup": "protein_coding - CDS",
         "legendgrouptitle": {
          "text": ""
         },
         "line": {
          "color": "black",
          "width": 0.25
         },
         "marker": {
          "opacity": 0
         },
         "mode": "lines+markers",
         "name": "protein_coding - CDS",
         "opacity": 1,
         "showlegend": false,
         "type": "scatter",
         "x": [
          4257,
          4450,
          4450,
          4257,
          4257
         ],
         "xaxis": "x",
         "y": [
          1.75,
          1.75,
          2.25,
          2.25,
          1.75
         ],
         "yaxis": "y"
        },
        {
         "fill": "toself",
         "fillcolor": "#F8766D",
         "hoverlabel": {
          "namelength": -1
         },
         "hoveron": "fills+points",
         "hovertemplate": "<b>transcript_id:</b> ENST00000357903<br><b>Feature Type:</b> CDS<br><b>Feature Number:</b> 4<br><b>Chromosome:</b> 21<br><b>Start:</b> 26053236<br><b>End:</b> 26053348<br><b>Size:</b> 112<br><extra></extra>",
         "legendgroup": "protein_coding - CDS",
         "legendgrouptitle": {
          "text": ""
         },
         "line": {
          "color": "black",
          "width": 0.25
         },
         "marker": {
          "opacity": 0
         },
         "mode": "lines+markers",
         "name": "protein_coding - CDS",
         "opacity": 1,
         "showlegend": false,
         "type": "scatter",
         "x": [
          4551,
          4663,
          4663,
          4551,
          4551
         ],
         "xaxis": "x",
         "y": [
          1.75,
          1.75,
          2.25,
          2.25,
          1.75
         ],
         "yaxis": "y"
        },
        {
         "fill": "toself",
         "fillcolor": "#F8766D",
         "hoverlabel": {
          "namelength": -1
         },
         "hoveron": "fills+points",
         "hovertemplate": "<b>transcript_id:</b> ENST00000357903<br><b>Feature Type:</b> CDS<br><b>Feature Number:</b> 3<br><b>Chromosome:</b> 21<br><b>Start:</b> 26089943<br><b>End:</b> 26090072<br><b>Size:</b> 129<br><extra></extra>",
         "legendgroup": "protein_coding - CDS",
         "legendgrouptitle": {
          "text": ""
         },
         "line": {
          "color": "black",
          "width": 0.25
         },
         "marker": {
          "opacity": 0
         },
         "mode": "lines+markers",
         "name": "protein_coding - CDS",
         "opacity": 1,
         "showlegend": false,
         "type": "scatter",
         "x": [
          4764,
          4893,
          4893,
          4764,
          4764
         ],
         "xaxis": "x",
         "y": [
          1.75,
          1.75,
          2.25,
          2.25,
          1.75
         ],
         "yaxis": "y"
        },
        {
         "fill": "toself",
         "fillcolor": "#F8766D",
         "hoverlabel": {
          "namelength": -1
         },
         "hoveron": "fills+points",
         "hovertemplate": "<b>transcript_id:</b> ENST00000357903<br><b>Feature Type:</b> CDS<br><b>Feature Number:</b> 2<br><b>Chromosome:</b> 21<br><b>Start:</b> 26111979<br><b>End:</b> 26112146<br><b>Size:</b> 167<br><extra></extra>",
         "legendgroup": "protein_coding - CDS",
         "legendgrouptitle": {
          "text": ""
         },
         "line": {
          "color": "black",
          "width": 0.25
         },
         "marker": {
          "opacity": 0
         },
         "mode": "lines+markers",
         "name": "protein_coding - CDS",
         "opacity": 1,
         "showlegend": false,
         "type": "scatter",
         "x": [
          4994,
          5161,
          5161,
          4994,
          4994
         ],
         "xaxis": "x",
         "y": [
          1.75,
          1.75,
          2.25,
          2.25,
          1.75
         ],
         "yaxis": "y"
        },
        {
         "fill": "toself",
         "fillcolor": "#F8766D",
         "hoverlabel": {
          "namelength": -1
         },
         "hoveron": "fills+points",
         "hovertemplate": "<b>transcript_id:</b> ENST00000357903<br><b>Feature Type:</b> CDS<br><b>Feature Number:</b> 1<br><b>Chromosome:</b> 21<br><b>Start:</b> 26170564<br><b>End:</b> 26170620<br><b>Size:</b> 56<br><extra></extra>",
         "legendgroup": "protein_coding - CDS",
         "legendgrouptitle": {
          "text": ""
         },
         "line": {
          "color": "black",
          "width": 0.25
         },
         "marker": {
          "opacity": 0
         },
         "mode": "lines+markers",
         "name": "protein_coding - CDS",
         "opacity": 1,
         "showlegend": false,
         "type": "scatter",
         "x": [
          5262,
          5318,
          5318,
          5262,
          5262
         ],
         "xaxis": "x",
         "y": [
          1.75,
          1.75,
          2.25,
          2.25,
          1.75
         ],
         "yaxis": "y"
        },
        {
         "fill": "toself",
         "fillcolor": "#F8766D",
         "hoverlabel": {
          "namelength": -1
         },
         "hoveron": "fills+points",
         "hovertemplate": "<b>transcript_id:</b> ENST00000348990<br><b>Feature Type:</b> CDS<br><b>Feature Number:</b> 16<br><b>Chromosome:</b> 21<br><b>Start:</b> 25881673<br><b>End:</b> 25881771<br><b>Size:</b> 98<br><extra></extra>",
         "legendgroup": "protein_coding - CDS",
         "legendgrouptitle": {
          "text": ""
         },
         "line": {
          "color": "black",
          "width": 0.25
         },
         "marker": {
          "opacity": 0
         },
         "mode": "lines+markers",
         "name": "protein_coding - CDS",
         "opacity": 1,
         "showlegend": false,
         "type": "scatter",
         "x": [
          1125,
          1223,
          1223,
          1125,
          1125
         ],
         "xaxis": "x",
         "y": [
          3.75,
          3.75,
          4.25,
          4.25,
          3.75
         ],
         "yaxis": "y"
        },
        {
         "fill": "toself",
         "fillcolor": "#F8766D",
         "hoverlabel": {
          "namelength": -1
         },
         "hoveron": "fills+points",
         "hovertemplate": "<b>transcript_id:</b> ENST00000348990<br><b>Feature Type:</b> CDS<br><b>Feature Number:</b> 15<br><b>Chromosome:</b> 21<br><b>Start:</b> 25891722<br><b>End:</b> 25891868<br><b>Size:</b> 146<br><extra></extra>",
         "legendgroup": "protein_coding - CDS",
         "legendgrouptitle": {
          "text": ""
         },
         "line": {
          "color": "black",
          "width": 0.25
         },
         "marker": {
          "opacity": 0
         },
         "mode": "lines+markers",
         "name": "protein_coding - CDS",
         "opacity": 1,
         "showlegend": false,
         "type": "scatter",
         "x": [
          1324,
          1470,
          1470,
          1324,
          1324
         ],
         "xaxis": "x",
         "y": [
          3.75,
          3.75,
          4.25,
          4.25,
          3.75
         ],
         "yaxis": "y"
        },
        {
         "fill": "toself",
         "fillcolor": "#F8766D",
         "hoverlabel": {
          "namelength": -1
         },
         "hoveron": "fills+points",
         "hovertemplate": "<b>transcript_id:</b> ENST00000348990<br><b>Feature Type:</b> CDS<br><b>Feature Number:</b> 14<br><b>Chromosome:</b> 21<br><b>Start:</b> 25897573<br><b>End:</b> 25897673<br><b>Size:</b> 100<br><extra></extra>",
         "legendgroup": "protein_coding - CDS",
         "legendgrouptitle": {
          "text": ""
         },
         "line": {
          "color": "black",
          "width": 0.25
         },
         "marker": {
          "opacity": 0
         },
         "mode": "lines+markers",
         "name": "protein_coding - CDS",
         "opacity": 1,
         "showlegend": false,
         "type": "scatter",
         "x": [
          1571,
          1671,
          1671,
          1571,
          1571
         ],
         "xaxis": "x",
         "y": [
          3.75,
          3.75,
          4.25,
          4.25,
          3.75
         ],
         "yaxis": "y"
        },
        {
         "fill": "toself",
         "fillcolor": "#F8766D",
         "hoverlabel": {
          "namelength": -1
         },
         "hoveron": "fills+points",
         "hovertemplate": "<b>transcript_id:</b> ENST00000348990<br><b>Feature Type:</b> CDS<br><b>Feature Number:</b> 13<br><b>Chromosome:</b> 21<br><b>Start:</b> 25905024<br><b>End:</b> 25905077<br><b>Size:</b> 53<br><extra></extra>",
         "legendgroup": "protein_coding - CDS",
         "legendgrouptitle": {
          "text": ""
         },
         "line": {
          "color": "black",
          "width": 0.25
         },
         "marker": {
          "opacity": 0
         },
         "mode": "lines+markers",
         "name": "protein_coding - CDS",
         "opacity": 1,
         "showlegend": false,
         "type": "scatter",
         "x": [
          1772,
          1825,
          1825,
          1772,
          1772
         ],
         "xaxis": "x",
         "y": [
          3.75,
          3.75,
          4.25,
          4.25,
          3.75
         ],
         "yaxis": "y"
        },
        {
         "fill": "toself",
         "fillcolor": "#F8766D",
         "hoverlabel": {
          "namelength": -1
         },
         "hoveron": "fills+points",
         "hovertemplate": "<b>transcript_id:</b> ENST00000348990<br><b>Feature Type:</b> CDS<br><b>Feature Number:</b> 12<br><b>Chromosome:</b> 21<br><b>Start:</b> 25911741<br><b>End:</b> 25911962<br><b>Size:</b> 221<br><extra></extra>",
         "legendgroup": "protein_coding - CDS",
         "legendgrouptitle": {
          "text": ""
         },
         "line": {
          "color": "black",
          "width": 0.25
         },
         "marker": {
          "opacity": 0
         },
         "mode": "lines+markers",
         "name": "protein_coding - CDS",
         "opacity": 1,
         "showlegend": false,
         "type": "scatter",
         "x": [
          1926,
          2147,
          2147,
          1926,
          1926
         ],
         "xaxis": "x",
         "y": [
          3.75,
          3.75,
          4.25,
          4.25,
          3.75
         ],
         "yaxis": "y"
        },
        {
         "fill": "toself",
         "fillcolor": "#F8766D",
         "hoverlabel": {
          "namelength": -1
         },
         "hoveron": "fills+points",
         "hovertemplate": "<b>transcript_id:</b> ENST00000348990<br><b>Feature Type:</b> CDS<br><b>Feature Number:</b> 11<br><b>Chromosome:</b> 21<br><b>Start:</b> 25954590<br><b>End:</b> 25954689<br><b>Size:</b> 99<br><extra></extra>",
         "legendgroup": "protein_coding - CDS",
         "legendgrouptitle": {
          "text": ""
         },
         "line": {
          "color": "black",
          "width": 0.25
         },
         "marker": {
          "opacity": 0
         },
         "mode": "lines+markers",
         "name": "protein_coding - CDS",
         "opacity": 1,
         "showlegend": false,
         "type": "scatter",
         "x": [
          2432,
          2531,
          2531,
          2432,
          2432
         ],
         "xaxis": "x",
         "y": [
          3.75,
          3.75,
          4.25,
          4.25,
          3.75
         ],
         "yaxis": "y"
        },
        {
         "fill": "toself",
         "fillcolor": "#F8766D",
         "hoverlabel": {
          "namelength": -1
         },
         "hoveron": "fills+points",
         "hovertemplate": "<b>transcript_id:</b> ENST00000348990<br><b>Feature Type:</b> CDS<br><b>Feature Number:</b> 10<br><b>Chromosome:</b> 21<br><b>Start:</b> 25955627<br><b>End:</b> 25955755<br><b>Size:</b> 128<br><extra></extra>",
         "legendgroup": "protein_coding - CDS",
         "legendgrouptitle": {
          "text": ""
         },
         "line": {
          "color": "black",
          "width": 0.25
         },
         "marker": {
          "opacity": 0
         },
         "mode": "lines+markers",
         "name": "protein_coding - CDS",
         "opacity": 1,
         "showlegend": false,
         "type": "scatter",
         "x": [
          2632,
          2760,
          2760,
          2632,
          2632
         ],
         "xaxis": "x",
         "y": [
          3.75,
          3.75,
          4.25,
          4.25,
          3.75
         ],
         "yaxis": "y"
        },
        {
         "fill": "toself",
         "fillcolor": "#F8766D",
         "hoverlabel": {
          "namelength": -1
         },
         "hoveron": "fills+points",
         "hovertemplate": "<b>transcript_id:</b> ENST00000348990<br><b>Feature Type:</b> CDS<br><b>Feature Number:</b> 9<br><b>Chromosome:</b> 21<br><b>Start:</b> 25975070<br><b>End:</b> 25975228<br><b>Size:</b> 158<br><extra></extra>",
         "legendgroup": "protein_coding - CDS",
         "legendgrouptitle": {
          "text": ""
         },
         "line": {
          "color": "black",
          "width": 0.25
         },
         "marker": {
          "opacity": 0
         },
         "mode": "lines+markers",
         "name": "protein_coding - CDS",
         "opacity": 1,
         "showlegend": false,
         "type": "scatter",
         "x": [
          2861,
          3019,
          3019,
          2861,
          2861
         ],
         "xaxis": "x",
         "y": [
          3.75,
          3.75,
          4.25,
          4.25,
          3.75
         ],
         "yaxis": "y"
        },
        {
         "fill": "toself",
         "fillcolor": "#F8766D",
         "hoverlabel": {
          "namelength": -1
         },
         "hoveron": "fills+points",
         "hovertemplate": "<b>transcript_id:</b> ENST00000348990<br><b>Feature Type:</b> CDS<br><b>Feature Number:</b> 8<br><b>Chromosome:</b> 21<br><b>Start:</b> 25975954<br><b>End:</b> 25976028<br><b>Size:</b> 74<br><extra></extra>",
         "legendgroup": "protein_coding - CDS",
         "legendgrouptitle": {
          "text": ""
         },
         "line": {
          "color": "black",
          "width": 0.25
         },
         "marker": {
          "opacity": 0
         },
         "mode": "lines+markers",
         "name": "protein_coding - CDS",
         "opacity": 1,
         "showlegend": false,
         "type": "scatter",
         "x": [
          3120,
          3194,
          3194,
          3120,
          3120
         ],
         "xaxis": "x",
         "y": [
          3.75,
          3.75,
          4.25,
          4.25,
          3.75
         ],
         "yaxis": "y"
        },
        {
         "fill": "toself",
         "fillcolor": "#F8766D",
         "hoverlabel": {
          "namelength": -1
         },
         "hoveron": "fills+points",
         "hovertemplate": "<b>transcript_id:</b> ENST00000348990<br><b>Feature Type:</b> CDS<br><b>Feature Number:</b> 7<br><b>Chromosome:</b> 21<br><b>Start:</b> 25982344<br><b>End:</b> 25982477<br><b>Size:</b> 133<br><extra></extra>",
         "legendgroup": "protein_coding - CDS",
         "legendgrouptitle": {
          "text": ""
         },
         "line": {
          "color": "black",
          "width": 0.25
         },
         "marker": {
          "opacity": 0
         },
         "mode": "lines+markers",
         "name": "protein_coding - CDS",
         "opacity": 1,
         "showlegend": false,
         "type": "scatter",
         "x": [
          3295,
          3428,
          3428,
          3295,
          3295
         ],
         "xaxis": "x",
         "y": [
          3.75,
          3.75,
          4.25,
          4.25,
          3.75
         ],
         "yaxis": "y"
        },
        {
         "fill": "toself",
         "fillcolor": "#F8766D",
         "hoverlabel": {
          "namelength": -1
         },
         "hoveron": "fills+points",
         "hovertemplate": "<b>transcript_id:</b> ENST00000348990<br><b>Feature Type:</b> CDS<br><b>Feature Number:</b> 6<br><b>Chromosome:</b> 21<br><b>Start:</b> 26021840<br><b>End:</b> 26022042<br><b>Size:</b> 202<br><extra></extra>",
         "legendgroup": "protein_coding - CDS",
         "legendgrouptitle": {
          "text": ""
         },
         "line": {
          "color": "black",
          "width": 0.25
         },
         "marker": {
          "opacity": 0
         },
         "mode": "lines+markers",
         "name": "protein_coding - CDS",
         "opacity": 1,
         "showlegend": false,
         "type": "scatter",
         "x": [
          3954,
          4156,
          4156,
          3954,
          3954
         ],
         "xaxis": "x",
         "y": [
          3.75,
          3.75,
          4.25,
          4.25,
          3.75
         ],
         "yaxis": "y"
        },
        {
         "fill": "toself",
         "fillcolor": "#F8766D",
         "hoverlabel": {
          "namelength": -1
         },
         "hoveron": "fills+points",
         "hovertemplate": "<b>transcript_id:</b> ENST00000348990<br><b>Feature Type:</b> CDS<br><b>Feature Number:</b> 5<br><b>Chromosome:</b> 21<br><b>Start:</b> 26051000<br><b>End:</b> 26051193<br><b>Size:</b> 193<br><extra></extra>",
         "legendgroup": "protein_coding - CDS",
         "legendgrouptitle": {
          "text": ""
         },
         "line": {
          "color": "black",
          "width": 0.25
         },
         "marker": {
          "opacity": 0
         },
         "mode": "lines+markers",
         "name": "protein_coding - CDS",
         "opacity": 1,
         "showlegend": false,
         "type": "scatter",
         "x": [
          4257,
          4450,
          4450,
          4257,
          4257
         ],
         "xaxis": "x",
         "y": [
          3.75,
          3.75,
          4.25,
          4.25,
          3.75
         ],
         "yaxis": "y"
        },
        {
         "fill": "toself",
         "fillcolor": "#F8766D",
         "hoverlabel": {
          "namelength": -1
         },
         "hoveron": "fills+points",
         "hovertemplate": "<b>transcript_id:</b> ENST00000348990<br><b>Feature Type:</b> CDS<br><b>Feature Number:</b> 4<br><b>Chromosome:</b> 21<br><b>Start:</b> 26053236<br><b>End:</b> 26053348<br><b>Size:</b> 112<br><extra></extra>",
         "legendgroup": "protein_coding - CDS",
         "legendgrouptitle": {
          "text": ""
         },
         "line": {
          "color": "black",
          "width": 0.25
         },
         "marker": {
          "opacity": 0
         },
         "mode": "lines+markers",
         "name": "protein_coding - CDS",
         "opacity": 1,
         "showlegend": false,
         "type": "scatter",
         "x": [
          4551,
          4663,
          4663,
          4551,
          4551
         ],
         "xaxis": "x",
         "y": [
          3.75,
          3.75,
          4.25,
          4.25,
          3.75
         ],
         "yaxis": "y"
        },
        {
         "fill": "toself",
         "fillcolor": "#F8766D",
         "hoverlabel": {
          "namelength": -1
         },
         "hoveron": "fills+points",
         "hovertemplate": "<b>transcript_id:</b> ENST00000348990<br><b>Feature Type:</b> CDS<br><b>Feature Number:</b> 3<br><b>Chromosome:</b> 21<br><b>Start:</b> 26089943<br><b>End:</b> 26090072<br><b>Size:</b> 129<br><extra></extra>",
         "legendgroup": "protein_coding - CDS",
         "legendgrouptitle": {
          "text": ""
         },
         "line": {
          "color": "black",
          "width": 0.25
         },
         "marker": {
          "opacity": 0
         },
         "mode": "lines+markers",
         "name": "protein_coding - CDS",
         "opacity": 1,
         "showlegend": false,
         "type": "scatter",
         "x": [
          4764,
          4893,
          4893,
          4764,
          4764
         ],
         "xaxis": "x",
         "y": [
          3.75,
          3.75,
          4.25,
          4.25,
          3.75
         ],
         "yaxis": "y"
        },
        {
         "fill": "toself",
         "fillcolor": "#F8766D",
         "hoverlabel": {
          "namelength": -1
         },
         "hoveron": "fills+points",
         "hovertemplate": "<b>transcript_id:</b> ENST00000348990<br><b>Feature Type:</b> CDS<br><b>Feature Number:</b> 2<br><b>Chromosome:</b> 21<br><b>Start:</b> 26111979<br><b>End:</b> 26112146<br><b>Size:</b> 167<br><extra></extra>",
         "legendgroup": "protein_coding - CDS",
         "legendgrouptitle": {
          "text": ""
         },
         "line": {
          "color": "black",
          "width": 0.25
         },
         "marker": {
          "opacity": 0
         },
         "mode": "lines+markers",
         "name": "protein_coding - CDS",
         "opacity": 1,
         "showlegend": false,
         "type": "scatter",
         "x": [
          4994,
          5161,
          5161,
          4994,
          4994
         ],
         "xaxis": "x",
         "y": [
          3.75,
          3.75,
          4.25,
          4.25,
          3.75
         ],
         "yaxis": "y"
        },
        {
         "fill": "toself",
         "fillcolor": "#F8766D",
         "hoverlabel": {
          "namelength": -1
         },
         "hoveron": "fills+points",
         "hovertemplate": "<b>transcript_id:</b> ENST00000348990<br><b>Feature Type:</b> CDS<br><b>Feature Number:</b> 1<br><b>Chromosome:</b> 21<br><b>Start:</b> 26170564<br><b>End:</b> 26170620<br><b>Size:</b> 56<br><extra></extra>",
         "legendgroup": "protein_coding - CDS",
         "legendgrouptitle": {
          "text": ""
         },
         "line": {
          "color": "black",
          "width": 0.25
         },
         "marker": {
          "opacity": 0
         },
         "mode": "lines+markers",
         "name": "protein_coding - CDS",
         "opacity": 1,
         "showlegend": false,
         "type": "scatter",
         "x": [
          5262,
          5318,
          5318,
          5262,
          5262
         ],
         "xaxis": "x",
         "y": [
          3.75,
          3.75,
          4.25,
          4.25,
          3.75
         ],
         "yaxis": "y"
        },
        {
         "hovertemplate": "<b>transcript_id:</b> ENST00000346798<br><b>Feature Type:</b> intron<br><b>Feature Number:</b> 17<br><b>Chromosome:</b> 21<br><b>Start:</b> 25881771<br><b>End:</b> 25891722<br><b>Size:</b> 9951<br><extra></extra>",
         "line": {
          "color": "black",
          "width": 0.5
         },
         "mode": "lines",
         "opacity": 1,
         "showlegend": false,
         "type": "scatter",
         "x": [
          1223,
          1324
         ],
         "xaxis": "x",
         "y": [
          0,
          0
         ],
         "yaxis": "y"
        },
        {
         "hovertemplate": "<b>transcript_id:</b> ENST00000346798<br><b>Feature Type:</b> intron<br><b>Feature Number:</b> 16<br><b>Chromosome:</b> 21<br><b>Start:</b> 25891868<br><b>End:</b> 25897573<br><b>Size:</b> 5705<br><extra></extra>",
         "line": {
          "color": "black",
          "width": 0.5
         },
         "mode": "lines",
         "opacity": 1,
         "showlegend": false,
         "type": "scatter",
         "x": [
          1470,
          1571
         ],
         "xaxis": "x",
         "y": [
          0,
          0
         ],
         "yaxis": "y"
        },
        {
         "hovertemplate": "<b>transcript_id:</b> ENST00000346798<br><b>Feature Type:</b> intron<br><b>Feature Number:</b> 15<br><b>Chromosome:</b> 21<br><b>Start:</b> 25897673<br><b>End:</b> 25905024<br><b>Size:</b> 7351<br><extra></extra>",
         "line": {
          "color": "black",
          "width": 0.5
         },
         "mode": "lines",
         "opacity": 1,
         "showlegend": false,
         "type": "scatter",
         "x": [
          1671,
          1772
         ],
         "xaxis": "x",
         "y": [
          0,
          0
         ],
         "yaxis": "y"
        },
        {
         "hovertemplate": "<b>transcript_id:</b> ENST00000346798<br><b>Feature Type:</b> intron<br><b>Feature Number:</b> 14<br><b>Chromosome:</b> 21<br><b>Start:</b> 25905077<br><b>End:</b> 25911741<br><b>Size:</b> 6664<br><extra></extra>",
         "line": {
          "color": "black",
          "width": 0.5
         },
         "mode": "lines",
         "opacity": 1,
         "showlegend": false,
         "type": "scatter",
         "x": [
          1825,
          1926
         ],
         "xaxis": "x",
         "y": [
          0,
          0
         ],
         "yaxis": "y"
        },
        {
         "hovertemplate": "<b>transcript_id:</b> ENST00000346798<br><b>Feature Type:</b> intron<br><b>Feature Number:</b> 13<br><b>Chromosome:</b> 21<br><b>Start:</b> 25911962<br><b>End:</b> 25954590<br><b>Size:</b> 42628<br><extra></extra>",
         "line": {
          "color": "black",
          "width": 0.5
         },
         "mode": "lines",
         "opacity": 1,
         "showlegend": false,
         "type": "scatter",
         "x": [
          2147,
          2432
         ],
         "xaxis": "x",
         "y": [
          0,
          0
         ],
         "yaxis": "y"
        },
        {
         "hovertemplate": "<b>transcript_id:</b> ENST00000346798<br><b>Feature Type:</b> intron<br><b>Feature Number:</b> 12<br><b>Chromosome:</b> 21<br><b>Start:</b> 25954689<br><b>End:</b> 25955627<br><b>Size:</b> 938<br><extra></extra>",
         "line": {
          "color": "black",
          "width": 0.5
         },
         "mode": "lines",
         "opacity": 1,
         "showlegend": false,
         "type": "scatter",
         "x": [
          2531,
          2632
         ],
         "xaxis": "x",
         "y": [
          0,
          0
         ],
         "yaxis": "y"
        },
        {
         "hovertemplate": "<b>transcript_id:</b> ENST00000346798<br><b>Feature Type:</b> intron<br><b>Feature Number:</b> 11<br><b>Chromosome:</b> 21<br><b>Start:</b> 25955755<br><b>End:</b> 25975070<br><b>Size:</b> 19315<br><extra></extra>",
         "line": {
          "color": "black",
          "width": 0.5
         },
         "mode": "lines",
         "opacity": 1,
         "showlegend": false,
         "type": "scatter",
         "x": [
          2760,
          2861
         ],
         "xaxis": "x",
         "y": [
          0,
          0
         ],
         "yaxis": "y"
        },
        {
         "hovertemplate": "<b>transcript_id:</b> ENST00000346798<br><b>Feature Type:</b> intron<br><b>Feature Number:</b> 10<br><b>Chromosome:</b> 21<br><b>Start:</b> 25975228<br><b>End:</b> 25975954<br><b>Size:</b> 726<br><extra></extra>",
         "line": {
          "color": "black",
          "width": 0.5
         },
         "mode": "lines",
         "opacity": 1,
         "showlegend": false,
         "type": "scatter",
         "x": [
          3019,
          3120
         ],
         "xaxis": "x",
         "y": [
          0,
          0
         ],
         "yaxis": "y"
        },
        {
         "hovertemplate": "<b>transcript_id:</b> ENST00000346798<br><b>Feature Type:</b> intron<br><b>Feature Number:</b> 9<br><b>Chromosome:</b> 21<br><b>Start:</b> 25976028<br><b>End:</b> 25982344<br><b>Size:</b> 6316<br><extra></extra>",
         "line": {
          "color": "black",
          "width": 0.5
         },
         "mode": "lines",
         "opacity": 1,
         "showlegend": false,
         "type": "scatter",
         "x": [
          3194,
          3295
         ],
         "xaxis": "x",
         "y": [
          0,
          0
         ],
         "yaxis": "y"
        },
        {
         "hovertemplate": "<b>transcript_id:</b> ENST00000346798<br><b>Feature Type:</b> intron<br><b>Feature Number:</b> 8<br><b>Chromosome:</b> 21<br><b>Start:</b> 25982477<br><b>End:</b> 25997360<br><b>Size:</b> 14883<br><extra></extra>",
         "line": {
          "color": "black",
          "width": 0.5
         },
         "mode": "lines",
         "opacity": 1,
         "showlegend": false,
         "type": "scatter",
         "x": [
          3428,
          3529
         ],
         "xaxis": "x",
         "y": [
          0,
          0
         ],
         "yaxis": "y"
        },
        {
         "hovertemplate": "<b>transcript_id:</b> ENST00000346798<br><b>Feature Type:</b> intron<br><b>Feature Number:</b> 7<br><b>Chromosome:</b> 21<br><b>Start:</b> 25997416<br><b>End:</b> 26000015<br><b>Size:</b> 2599<br><extra></extra>",
         "line": {
          "color": "black",
          "width": 0.5
         },
         "mode": "lines",
         "opacity": 1,
         "showlegend": false,
         "type": "scatter",
         "x": [
          3585,
          3686
         ],
         "xaxis": "x",
         "y": [
          0,
          0
         ],
         "yaxis": "y"
        },
        {
         "hovertemplate": "<b>transcript_id:</b> ENST00000346798<br><b>Feature Type:</b> intron<br><b>Feature Number:</b> 6<br><b>Chromosome:</b> 21<br><b>Start:</b> 26000182<br><b>End:</b> 26021840<br><b>Size:</b> 21658<br><extra></extra>",
         "line": {
          "color": "black",
          "width": 0.5
         },
         "mode": "lines",
         "opacity": 1,
         "showlegend": false,
         "type": "scatter",
         "x": [
          3853,
          3954
         ],
         "xaxis": "x",
         "y": [
          0,
          0
         ],
         "yaxis": "y"
        },
        {
         "hovertemplate": "<b>transcript_id:</b> ENST00000346798<br><b>Feature Type:</b> intron<br><b>Feature Number:</b> 5<br><b>Chromosome:</b> 21<br><b>Start:</b> 26022042<br><b>End:</b> 26051000<br><b>Size:</b> 28958<br><extra></extra>",
         "line": {
          "color": "black",
          "width": 0.5
         },
         "mode": "lines",
         "opacity": 1,
         "showlegend": false,
         "type": "scatter",
         "x": [
          4156,
          4257
         ],
         "xaxis": "x",
         "y": [
          0,
          0
         ],
         "yaxis": "y"
        },
        {
         "hovertemplate": "<b>transcript_id:</b> ENST00000346798<br><b>Feature Type:</b> intron<br><b>Feature Number:</b> 4<br><b>Chromosome:</b> 21<br><b>Start:</b> 26051193<br><b>End:</b> 26053236<br><b>Size:</b> 2043<br><extra></extra>",
         "line": {
          "color": "black",
          "width": 0.5
         },
         "mode": "lines",
         "opacity": 1,
         "showlegend": false,
         "type": "scatter",
         "x": [
          4450,
          4551
         ],
         "xaxis": "x",
         "y": [
          0,
          0
         ],
         "yaxis": "y"
        },
        {
         "hovertemplate": "<b>transcript_id:</b> ENST00000346798<br><b>Feature Type:</b> intron<br><b>Feature Number:</b> 3<br><b>Chromosome:</b> 21<br><b>Start:</b> 26053348<br><b>End:</b> 26089943<br><b>Size:</b> 36595<br><extra></extra>",
         "line": {
          "color": "black",
          "width": 0.5
         },
         "mode": "lines",
         "opacity": 1,
         "showlegend": false,
         "type": "scatter",
         "x": [
          4663,
          4764
         ],
         "xaxis": "x",
         "y": [
          0,
          0
         ],
         "yaxis": "y"
        },
        {
         "hovertemplate": "<b>transcript_id:</b> ENST00000346798<br><b>Feature Type:</b> intron<br><b>Feature Number:</b> 2<br><b>Chromosome:</b> 21<br><b>Start:</b> 26090072<br><b>End:</b> 26111979<br><b>Size:</b> 21907<br><extra></extra>",
         "line": {
          "color": "black",
          "width": 0.5
         },
         "mode": "lines",
         "opacity": 1,
         "showlegend": false,
         "type": "scatter",
         "x": [
          4893,
          4994
         ],
         "xaxis": "x",
         "y": [
          0,
          0
         ],
         "yaxis": "y"
        },
        {
         "hovertemplate": "<b>transcript_id:</b> ENST00000346798<br><b>Feature Type:</b> intron<br><b>Feature Number:</b> 1<br><b>Chromosome:</b> 21<br><b>Start:</b> 26112146<br><b>End:</b> 26170564<br><b>Size:</b> 58418<br><extra></extra>",
         "line": {
          "color": "black",
          "width": 0.5
         },
         "mode": "lines",
         "opacity": 1,
         "showlegend": false,
         "type": "scatter",
         "x": [
          5161,
          5262
         ],
         "xaxis": "x",
         "y": [
          0,
          0
         ],
         "yaxis": "y"
        },
        {
         "hovertemplate": "<b>transcript_id:</b> ENST00000359726<br><b>Feature Type:</b> intron<br><b>Feature Number:</b> 15<br><b>Chromosome:</b> 21<br><b>Start:</b> 25881771<br><b>End:</b> 25891722<br><b>Size:</b> 9951<br><extra></extra>",
         "line": {
          "color": "black",
          "width": 0.5
         },
         "mode": "lines",
         "opacity": 1,
         "showlegend": false,
         "type": "scatter",
         "x": [
          1223,
          1324
         ],
         "xaxis": "x",
         "y": [
          1,
          1
         ],
         "yaxis": "y"
        },
        {
         "hovertemplate": "<b>transcript_id:</b> ENST00000359726<br><b>Feature Type:</b> intron<br><b>Feature Number:</b> 14<br><b>Chromosome:</b> 21<br><b>Start:</b> 25891868<br><b>End:</b> 25897573<br><b>Size:</b> 5705<br><extra></extra>",
         "line": {
          "color": "black",
          "width": 0.5
         },
         "mode": "lines",
         "opacity": 1,
         "showlegend": false,
         "type": "scatter",
         "x": [
          1470,
          1571
         ],
         "xaxis": "x",
         "y": [
          1,
          1
         ],
         "yaxis": "y"
        },
        {
         "hovertemplate": "<b>transcript_id:</b> ENST00000359726<br><b>Feature Type:</b> intron<br><b>Feature Number:</b> 13<br><b>Chromosome:</b> 21<br><b>Start:</b> 25897673<br><b>End:</b> 25905024<br><b>Size:</b> 7351<br><extra></extra>",
         "line": {
          "color": "black",
          "width": 0.5
         },
         "mode": "lines",
         "opacity": 1,
         "showlegend": false,
         "type": "scatter",
         "x": [
          1671,
          1772
         ],
         "xaxis": "x",
         "y": [
          1,
          1
         ],
         "yaxis": "y"
        },
        {
         "hovertemplate": "<b>transcript_id:</b> ENST00000359726<br><b>Feature Type:</b> intron<br><b>Feature Number:</b> 12<br><b>Chromosome:</b> 21<br><b>Start:</b> 25905077<br><b>End:</b> 25911741<br><b>Size:</b> 6664<br><extra></extra>",
         "line": {
          "color": "black",
          "width": 0.5
         },
         "mode": "lines",
         "opacity": 1,
         "showlegend": false,
         "type": "scatter",
         "x": [
          1825,
          1926
         ],
         "xaxis": "x",
         "y": [
          1,
          1
         ],
         "yaxis": "y"
        },
        {
         "hovertemplate": "<b>transcript_id:</b> ENST00000359726<br><b>Feature Type:</b> intron<br><b>Feature Number:</b> 11<br><b>Chromosome:</b> 21<br><b>Start:</b> 25911962<br><b>End:</b> 25954590<br><b>Size:</b> 42628<br><extra></extra>",
         "line": {
          "color": "black",
          "width": 0.5
         },
         "mode": "lines",
         "opacity": 1,
         "showlegend": false,
         "type": "scatter",
         "x": [
          2147,
          2432
         ],
         "xaxis": "x",
         "y": [
          1,
          1
         ],
         "yaxis": "y"
        },
        {
         "hovertemplate": "<b>transcript_id:</b> ENST00000359726<br><b>Feature Type:</b> intron<br><b>Feature Number:</b> 10<br><b>Chromosome:</b> 21<br><b>Start:</b> 25954689<br><b>End:</b> 25955627<br><b>Size:</b> 938<br><extra></extra>",
         "line": {
          "color": "black",
          "width": 0.5
         },
         "mode": "lines",
         "opacity": 1,
         "showlegend": false,
         "type": "scatter",
         "x": [
          2531,
          2632
         ],
         "xaxis": "x",
         "y": [
          1,
          1
         ],
         "yaxis": "y"
        },
        {
         "hovertemplate": "<b>transcript_id:</b> ENST00000359726<br><b>Feature Type:</b> intron<br><b>Feature Number:</b> 9<br><b>Chromosome:</b> 21<br><b>Start:</b> 25955755<br><b>End:</b> 25975070<br><b>Size:</b> 19315<br><extra></extra>",
         "line": {
          "color": "black",
          "width": 0.5
         },
         "mode": "lines",
         "opacity": 1,
         "showlegend": false,
         "type": "scatter",
         "x": [
          2760,
          2861
         ],
         "xaxis": "x",
         "y": [
          1,
          1
         ],
         "yaxis": "y"
        },
        {
         "hovertemplate": "<b>transcript_id:</b> ENST00000359726<br><b>Feature Type:</b> intron<br><b>Feature Number:</b> 8<br><b>Chromosome:</b> 21<br><b>Start:</b> 25975228<br><b>End:</b> 25975954<br><b>Size:</b> 726<br><extra></extra>",
         "line": {
          "color": "black",
          "width": 0.5
         },
         "mode": "lines",
         "opacity": 1,
         "showlegend": false,
         "type": "scatter",
         "x": [
          3019,
          3120
         ],
         "xaxis": "x",
         "y": [
          1,
          1
         ],
         "yaxis": "y"
        },
        {
         "hovertemplate": "<b>transcript_id:</b> ENST00000359726<br><b>Feature Type:</b> intron<br><b>Feature Number:</b> 7<br><b>Chromosome:</b> 21<br><b>Start:</b> 25976028<br><b>End:</b> 25982344<br><b>Size:</b> 6316<br><extra></extra>",
         "line": {
          "color": "black",
          "width": 0.5
         },
         "mode": "lines",
         "opacity": 1,
         "showlegend": false,
         "type": "scatter",
         "x": [
          3194,
          3295
         ],
         "xaxis": "x",
         "y": [
          1,
          1
         ],
         "yaxis": "y"
        },
        {
         "hoverinfo": "skip",
         "marker": {
          "color": "black",
          "size": 7,
          "symbol": "arrow-left"
         },
         "mode": "markers",
         "opacity": 1,
         "showlegend": false,
         "type": "scatter",
         "x": [
          3615.8571428571427
         ],
         "xaxis": "x",
         "y": [
          1
         ],
         "yaxis": "y"
        },
        {
         "hovertemplate": "<b>transcript_id:</b> ENST00000359726<br><b>Feature Type:</b> intron<br><b>Feature Number:</b> 6<br><b>Chromosome:</b> 21<br><b>Start:</b> 25982477<br><b>End:</b> 26021840<br><b>Size:</b> 39363<br><extra></extra>",
         "line": {
          "color": "black",
          "width": 0.5
         },
         "mode": "lines",
         "opacity": 1,
         "showlegend": false,
         "type": "scatter",
         "x": [
          3428,
          3954
         ],
         "xaxis": "x",
         "y": [
          1,
          1
         ],
         "yaxis": "y"
        },
        {
         "hovertemplate": "<b>transcript_id:</b> ENST00000359726<br><b>Feature Type:</b> intron<br><b>Feature Number:</b> 5<br><b>Chromosome:</b> 21<br><b>Start:</b> 26022042<br><b>End:</b> 26051000<br><b>Size:</b> 28958<br><extra></extra>",
         "line": {
          "color": "black",
          "width": 0.5
         },
         "mode": "lines",
         "opacity": 1,
         "showlegend": false,
         "type": "scatter",
         "x": [
          4156,
          4257
         ],
         "xaxis": "x",
         "y": [
          1,
          1
         ],
         "yaxis": "y"
        },
        {
         "hovertemplate": "<b>transcript_id:</b> ENST00000359726<br><b>Feature Type:</b> intron<br><b>Feature Number:</b> 4<br><b>Chromosome:</b> 21<br><b>Start:</b> 26051193<br><b>End:</b> 26053236<br><b>Size:</b> 2043<br><extra></extra>",
         "line": {
          "color": "black",
          "width": 0.5
         },
         "mode": "lines",
         "opacity": 1,
         "showlegend": false,
         "type": "scatter",
         "x": [
          4450,
          4551
         ],
         "xaxis": "x",
         "y": [
          1,
          1
         ],
         "yaxis": "y"
        },
        {
         "hovertemplate": "<b>transcript_id:</b> ENST00000359726<br><b>Feature Type:</b> intron<br><b>Feature Number:</b> 3<br><b>Chromosome:</b> 21<br><b>Start:</b> 26053348<br><b>End:</b> 26089943<br><b>Size:</b> 36595<br><extra></extra>",
         "line": {
          "color": "black",
          "width": 0.5
         },
         "mode": "lines",
         "opacity": 1,
         "showlegend": false,
         "type": "scatter",
         "x": [
          4663,
          4764
         ],
         "xaxis": "x",
         "y": [
          1,
          1
         ],
         "yaxis": "y"
        },
        {
         "hovertemplate": "<b>transcript_id:</b> ENST00000359726<br><b>Feature Type:</b> intron<br><b>Feature Number:</b> 2<br><b>Chromosome:</b> 21<br><b>Start:</b> 26090072<br><b>End:</b> 26111979<br><b>Size:</b> 21907<br><extra></extra>",
         "line": {
          "color": "black",
          "width": 0.5
         },
         "mode": "lines",
         "opacity": 1,
         "showlegend": false,
         "type": "scatter",
         "x": [
          4893,
          4994
         ],
         "xaxis": "x",
         "y": [
          1,
          1
         ],
         "yaxis": "y"
        },
        {
         "hoverinfo": "skip",
         "marker": {
          "color": "black",
          "size": 7,
          "symbol": "arrow-left"
         },
         "mode": "markers",
         "opacity": 1,
         "showlegend": false,
         "type": "scatter",
         "x": [
          5312.785714285715
         ],
         "xaxis": "x",
         "y": [
          1
         ],
         "yaxis": "y"
        },
        {
         "hovertemplate": "<b>transcript_id:</b> ENST00000359726<br><b>Feature Type:</b> intron<br><b>Feature Number:</b> 1<br><b>Chromosome:</b> 21<br><b>Start:</b> 26112146<br><b>End:</b> 26170985<br><b>Size:</b> 58839<br><extra></extra>",
         "line": {
          "color": "black",
          "width": 0.5
         },
         "mode": "lines",
         "opacity": 1,
         "showlegend": false,
         "type": "scatter",
         "x": [
          5161,
          5586
         ],
         "xaxis": "x",
         "y": [
          1,
          1
         ],
         "yaxis": "y"
        },
        {
         "hovertemplate": "<b>transcript_id:</b> ENST00000357903<br><b>Feature Type:</b> intron<br><b>Feature Number:</b> 16<br><b>Chromosome:</b> 21<br><b>Start:</b> 25881771<br><b>End:</b> 25891722<br><b>Size:</b> 9951<br><extra></extra>",
         "line": {
          "color": "black",
          "width": 0.5
         },
         "mode": "lines",
         "opacity": 1,
         "showlegend": false,
         "type": "scatter",
         "x": [
          1223,
          1324
         ],
         "xaxis": "x",
         "y": [
          2,
          2
         ],
         "yaxis": "y"
        },
        {
         "hovertemplate": "<b>transcript_id:</b> ENST00000357903<br><b>Feature Type:</b> intron<br><b>Feature Number:</b> 15<br><b>Chromosome:</b> 21<br><b>Start:</b> 25891868<br><b>End:</b> 25897573<br><b>Size:</b> 5705<br><extra></extra>",
         "line": {
          "color": "black",
          "width": 0.5
         },
         "mode": "lines",
         "opacity": 1,
         "showlegend": false,
         "type": "scatter",
         "x": [
          1470,
          1571
         ],
         "xaxis": "x",
         "y": [
          2,
          2
         ],
         "yaxis": "y"
        },
        {
         "hovertemplate": "<b>transcript_id:</b> ENST00000357903<br><b>Feature Type:</b> intron<br><b>Feature Number:</b> 14<br><b>Chromosome:</b> 21<br><b>Start:</b> 25897673<br><b>End:</b> 25905024<br><b>Size:</b> 7351<br><extra></extra>",
         "line": {
          "color": "black",
          "width": 0.5
         },
         "mode": "lines",
         "opacity": 1,
         "showlegend": false,
         "type": "scatter",
         "x": [
          1671,
          1772
         ],
         "xaxis": "x",
         "y": [
          2,
          2
         ],
         "yaxis": "y"
        },
        {
         "hovertemplate": "<b>transcript_id:</b> ENST00000357903<br><b>Feature Type:</b> intron<br><b>Feature Number:</b> 13<br><b>Chromosome:</b> 21<br><b>Start:</b> 25905077<br><b>End:</b> 25911741<br><b>Size:</b> 6664<br><extra></extra>",
         "line": {
          "color": "black",
          "width": 0.5
         },
         "mode": "lines",
         "opacity": 1,
         "showlegend": false,
         "type": "scatter",
         "x": [
          1825,
          1926
         ],
         "xaxis": "x",
         "y": [
          2,
          2
         ],
         "yaxis": "y"
        },
        {
         "hovertemplate": "<b>transcript_id:</b> ENST00000357903<br><b>Feature Type:</b> intron<br><b>Feature Number:</b> 12<br><b>Chromosome:</b> 21<br><b>Start:</b> 25911962<br><b>End:</b> 25954590<br><b>Size:</b> 42628<br><extra></extra>",
         "line": {
          "color": "black",
          "width": 0.5
         },
         "mode": "lines",
         "opacity": 1,
         "showlegend": false,
         "type": "scatter",
         "x": [
          2147,
          2432
         ],
         "xaxis": "x",
         "y": [
          2,
          2
         ],
         "yaxis": "y"
        },
        {
         "hovertemplate": "<b>transcript_id:</b> ENST00000357903<br><b>Feature Type:</b> intron<br><b>Feature Number:</b> 11<br><b>Chromosome:</b> 21<br><b>Start:</b> 25954689<br><b>End:</b> 25955627<br><b>Size:</b> 938<br><extra></extra>",
         "line": {
          "color": "black",
          "width": 0.5
         },
         "mode": "lines",
         "opacity": 1,
         "showlegend": false,
         "type": "scatter",
         "x": [
          2531,
          2632
         ],
         "xaxis": "x",
         "y": [
          2,
          2
         ],
         "yaxis": "y"
        },
        {
         "hovertemplate": "<b>transcript_id:</b> ENST00000357903<br><b>Feature Type:</b> intron<br><b>Feature Number:</b> 10<br><b>Chromosome:</b> 21<br><b>Start:</b> 25955755<br><b>End:</b> 25975070<br><b>Size:</b> 19315<br><extra></extra>",
         "line": {
          "color": "black",
          "width": 0.5
         },
         "mode": "lines",
         "opacity": 1,
         "showlegend": false,
         "type": "scatter",
         "x": [
          2760,
          2861
         ],
         "xaxis": "x",
         "y": [
          2,
          2
         ],
         "yaxis": "y"
        },
        {
         "hovertemplate": "<b>transcript_id:</b> ENST00000357903<br><b>Feature Type:</b> intron<br><b>Feature Number:</b> 9<br><b>Chromosome:</b> 21<br><b>Start:</b> 25975228<br><b>End:</b> 25975954<br><b>Size:</b> 726<br><extra></extra>",
         "line": {
          "color": "black",
          "width": 0.5
         },
         "mode": "lines",
         "opacity": 1,
         "showlegend": false,
         "type": "scatter",
         "x": [
          3019,
          3120
         ],
         "xaxis": "x",
         "y": [
          2,
          2
         ],
         "yaxis": "y"
        },
        {
         "hovertemplate": "<b>transcript_id:</b> ENST00000357903<br><b>Feature Type:</b> intron<br><b>Feature Number:</b> 8<br><b>Chromosome:</b> 21<br><b>Start:</b> 25976028<br><b>End:</b> 25982344<br><b>Size:</b> 6316<br><extra></extra>",
         "line": {
          "color": "black",
          "width": 0.5
         },
         "mode": "lines",
         "opacity": 1,
         "showlegend": false,
         "type": "scatter",
         "x": [
          3194,
          3295
         ],
         "xaxis": "x",
         "y": [
          2,
          2
         ],
         "yaxis": "y"
        },
        {
         "hovertemplate": "<b>transcript_id:</b> ENST00000357903<br><b>Feature Type:</b> intron<br><b>Feature Number:</b> 7<br><b>Chromosome:</b> 21<br><b>Start:</b> 25982477<br><b>End:</b> 26000015<br><b>Size:</b> 17538<br><extra></extra>",
         "line": {
          "color": "black",
          "width": 0.5
         },
         "mode": "lines",
         "opacity": 1,
         "showlegend": false,
         "type": "scatter",
         "x": [
          3428,
          3686
         ],
         "xaxis": "x",
         "y": [
          2,
          2
         ],
         "yaxis": "y"
        },
        {
         "hovertemplate": "<b>transcript_id:</b> ENST00000357903<br><b>Feature Type:</b> intron<br><b>Feature Number:</b> 6<br><b>Chromosome:</b> 21<br><b>Start:</b> 26000182<br><b>End:</b> 26021840<br><b>Size:</b> 21658<br><extra></extra>",
         "line": {
          "color": "black",
          "width": 0.5
         },
         "mode": "lines",
         "opacity": 1,
         "showlegend": false,
         "type": "scatter",
         "x": [
          3853,
          3954
         ],
         "xaxis": "x",
         "y": [
          2,
          2
         ],
         "yaxis": "y"
        },
        {
         "hovertemplate": "<b>transcript_id:</b> ENST00000357903<br><b>Feature Type:</b> intron<br><b>Feature Number:</b> 5<br><b>Chromosome:</b> 21<br><b>Start:</b> 26022042<br><b>End:</b> 26051000<br><b>Size:</b> 28958<br><extra></extra>",
         "line": {
          "color": "black",
          "width": 0.5
         },
         "mode": "lines",
         "opacity": 1,
         "showlegend": false,
         "type": "scatter",
         "x": [
          4156,
          4257
         ],
         "xaxis": "x",
         "y": [
          2,
          2
         ],
         "yaxis": "y"
        },
        {
         "hovertemplate": "<b>transcript_id:</b> ENST00000357903<br><b>Feature Type:</b> intron<br><b>Feature Number:</b> 4<br><b>Chromosome:</b> 21<br><b>Start:</b> 26051193<br><b>End:</b> 26053236<br><b>Size:</b> 2043<br><extra></extra>",
         "line": {
          "color": "black",
          "width": 0.5
         },
         "mode": "lines",
         "opacity": 1,
         "showlegend": false,
         "type": "scatter",
         "x": [
          4450,
          4551
         ],
         "xaxis": "x",
         "y": [
          2,
          2
         ],
         "yaxis": "y"
        },
        {
         "hovertemplate": "<b>transcript_id:</b> ENST00000357903<br><b>Feature Type:</b> intron<br><b>Feature Number:</b> 3<br><b>Chromosome:</b> 21<br><b>Start:</b> 26053348<br><b>End:</b> 26089943<br><b>Size:</b> 36595<br><extra></extra>",
         "line": {
          "color": "black",
          "width": 0.5
         },
         "mode": "lines",
         "opacity": 1,
         "showlegend": false,
         "type": "scatter",
         "x": [
          4663,
          4764
         ],
         "xaxis": "x",
         "y": [
          2,
          2
         ],
         "yaxis": "y"
        },
        {
         "hovertemplate": "<b>transcript_id:</b> ENST00000357903<br><b>Feature Type:</b> intron<br><b>Feature Number:</b> 2<br><b>Chromosome:</b> 21<br><b>Start:</b> 26090072<br><b>End:</b> 26111979<br><b>Size:</b> 21907<br><extra></extra>",
         "line": {
          "color": "black",
          "width": 0.5
         },
         "mode": "lines",
         "opacity": 1,
         "showlegend": false,
         "type": "scatter",
         "x": [
          4893,
          4994
         ],
         "xaxis": "x",
         "y": [
          2,
          2
         ],
         "yaxis": "y"
        },
        {
         "hovertemplate": "<b>transcript_id:</b> ENST00000357903<br><b>Feature Type:</b> intron<br><b>Feature Number:</b> 1<br><b>Chromosome:</b> 21<br><b>Start:</b> 26112146<br><b>End:</b> 26170564<br><b>Size:</b> 58418<br><extra></extra>",
         "line": {
          "color": "black",
          "width": 0.5
         },
         "mode": "lines",
         "opacity": 1,
         "showlegend": false,
         "type": "scatter",
         "x": [
          5161,
          5262
         ],
         "xaxis": "x",
         "y": [
          2,
          2
         ],
         "yaxis": "y"
        },
        {
         "hovertemplate": "<b>transcript_id:</b> ENST00000707133<br><b>Feature Type:</b> intron<br><b>Feature Number:</b> 5<br><b>Chromosome:</b> 21<br><b>Start:</b> 25881771<br><b>End:</b> 25891722<br><b>Size:</b> 9951<br><extra></extra>",
         "line": {
          "color": "black",
          "width": 0.5
         },
         "mode": "lines",
         "opacity": 1,
         "showlegend": false,
         "type": "scatter",
         "x": [
          1223,
          1324
         ],
         "xaxis": "x",
         "y": [
          3,
          3
         ],
         "yaxis": "y"
        },
        {
         "hovertemplate": "<b>transcript_id:</b> ENST00000707133<br><b>Feature Type:</b> intron<br><b>Feature Number:</b> 4<br><b>Chromosome:</b> 21<br><b>Start:</b> 25891868<br><b>End:</b> 25897573<br><b>Size:</b> 5705<br><extra></extra>",
         "line": {
          "color": "black",
          "width": 0.5
         },
         "mode": "lines",
         "opacity": 1,
         "showlegend": false,
         "type": "scatter",
         "x": [
          1470,
          1571
         ],
         "xaxis": "x",
         "y": [
          3,
          3
         ],
         "yaxis": "y"
        },
        {
         "hovertemplate": "<b>transcript_id:</b> ENST00000707133<br><b>Feature Type:</b> intron<br><b>Feature Number:</b> 3<br><b>Chromosome:</b> 21<br><b>Start:</b> 25897673<br><b>End:</b> 25905024<br><b>Size:</b> 7351<br><extra></extra>",
         "line": {
          "color": "black",
          "width": 0.5
         },
         "mode": "lines",
         "opacity": 1,
         "showlegend": false,
         "type": "scatter",
         "x": [
          1671,
          1772
         ],
         "xaxis": "x",
         "y": [
          3,
          3
         ],
         "yaxis": "y"
        },
        {
         "hovertemplate": "<b>transcript_id:</b> ENST00000707133<br><b>Feature Type:</b> intron<br><b>Feature Number:</b> 2<br><b>Chromosome:</b> 21<br><b>Start:</b> 25905077<br><b>End:</b> 25911741<br><b>Size:</b> 6664<br><extra></extra>",
         "line": {
          "color": "black",
          "width": 0.5
         },
         "mode": "lines",
         "opacity": 1,
         "showlegend": false,
         "type": "scatter",
         "x": [
          1825,
          1926
         ],
         "xaxis": "x",
         "y": [
          3,
          3
         ],
         "yaxis": "y"
        },
        {
         "hovertemplate": "<b>transcript_id:</b> ENST00000707133<br><b>Feature Type:</b> intron<br><b>Feature Number:</b> 1<br><b>Chromosome:</b> 21<br><b>Start:</b> 25911962<br><b>End:</b> 25925059<br><b>Size:</b> 13097<br><extra></extra>",
         "line": {
          "color": "black",
          "width": 0.5
         },
         "mode": "lines",
         "opacity": 1,
         "showlegend": false,
         "type": "scatter",
         "x": [
          2147,
          2248
         ],
         "xaxis": "x",
         "y": [
          3,
          3
         ],
         "yaxis": "y"
        },
        {
         "hovertemplate": "<b>transcript_id:</b> ENST00000348990<br><b>Feature Type:</b> intron<br><b>Feature Number:</b> 15<br><b>Chromosome:</b> 21<br><b>Start:</b> 25881771<br><b>End:</b> 25891722<br><b>Size:</b> 9951<br><extra></extra>",
         "line": {
          "color": "black",
          "width": 0.5
         },
         "mode": "lines",
         "opacity": 1,
         "showlegend": false,
         "type": "scatter",
         "x": [
          1223,
          1324
         ],
         "xaxis": "x",
         "y": [
          4,
          4
         ],
         "yaxis": "y"
        },
        {
         "hovertemplate": "<b>transcript_id:</b> ENST00000348990<br><b>Feature Type:</b> intron<br><b>Feature Number:</b> 14<br><b>Chromosome:</b> 21<br><b>Start:</b> 25891868<br><b>End:</b> 25897573<br><b>Size:</b> 5705<br><extra></extra>",
         "line": {
          "color": "black",
          "width": 0.5
         },
         "mode": "lines",
         "opacity": 1,
         "showlegend": false,
         "type": "scatter",
         "x": [
          1470,
          1571
         ],
         "xaxis": "x",
         "y": [
          4,
          4
         ],
         "yaxis": "y"
        },
        {
         "hovertemplate": "<b>transcript_id:</b> ENST00000348990<br><b>Feature Type:</b> intron<br><b>Feature Number:</b> 13<br><b>Chromosome:</b> 21<br><b>Start:</b> 25897673<br><b>End:</b> 25905024<br><b>Size:</b> 7351<br><extra></extra>",
         "line": {
          "color": "black",
          "width": 0.5
         },
         "mode": "lines",
         "opacity": 1,
         "showlegend": false,
         "type": "scatter",
         "x": [
          1671,
          1772
         ],
         "xaxis": "x",
         "y": [
          4,
          4
         ],
         "yaxis": "y"
        },
        {
         "hovertemplate": "<b>transcript_id:</b> ENST00000348990<br><b>Feature Type:</b> intron<br><b>Feature Number:</b> 12<br><b>Chromosome:</b> 21<br><b>Start:</b> 25905077<br><b>End:</b> 25911741<br><b>Size:</b> 6664<br><extra></extra>",
         "line": {
          "color": "black",
          "width": 0.5
         },
         "mode": "lines",
         "opacity": 1,
         "showlegend": false,
         "type": "scatter",
         "x": [
          1825,
          1926
         ],
         "xaxis": "x",
         "y": [
          4,
          4
         ],
         "yaxis": "y"
        },
        {
         "hovertemplate": "<b>transcript_id:</b> ENST00000348990<br><b>Feature Type:</b> intron<br><b>Feature Number:</b> 11<br><b>Chromosome:</b> 21<br><b>Start:</b> 25911962<br><b>End:</b> 25954590<br><b>Size:</b> 42628<br><extra></extra>",
         "line": {
          "color": "black",
          "width": 0.5
         },
         "mode": "lines",
         "opacity": 1,
         "showlegend": false,
         "type": "scatter",
         "x": [
          2147,
          2432
         ],
         "xaxis": "x",
         "y": [
          4,
          4
         ],
         "yaxis": "y"
        },
        {
         "hovertemplate": "<b>transcript_id:</b> ENST00000348990<br><b>Feature Type:</b> intron<br><b>Feature Number:</b> 10<br><b>Chromosome:</b> 21<br><b>Start:</b> 25954689<br><b>End:</b> 25955627<br><b>Size:</b> 938<br><extra></extra>",
         "line": {
          "color": "black",
          "width": 0.5
         },
         "mode": "lines",
         "opacity": 1,
         "showlegend": false,
         "type": "scatter",
         "x": [
          2531,
          2632
         ],
         "xaxis": "x",
         "y": [
          4,
          4
         ],
         "yaxis": "y"
        },
        {
         "hovertemplate": "<b>transcript_id:</b> ENST00000348990<br><b>Feature Type:</b> intron<br><b>Feature Number:</b> 9<br><b>Chromosome:</b> 21<br><b>Start:</b> 25955755<br><b>End:</b> 25975070<br><b>Size:</b> 19315<br><extra></extra>",
         "line": {
          "color": "black",
          "width": 0.5
         },
         "mode": "lines",
         "opacity": 1,
         "showlegend": false,
         "type": "scatter",
         "x": [
          2760,
          2861
         ],
         "xaxis": "x",
         "y": [
          4,
          4
         ],
         "yaxis": "y"
        },
        {
         "hovertemplate": "<b>transcript_id:</b> ENST00000348990<br><b>Feature Type:</b> intron<br><b>Feature Number:</b> 8<br><b>Chromosome:</b> 21<br><b>Start:</b> 25975228<br><b>End:</b> 25975954<br><b>Size:</b> 726<br><extra></extra>",
         "line": {
          "color": "black",
          "width": 0.5
         },
         "mode": "lines",
         "opacity": 1,
         "showlegend": false,
         "type": "scatter",
         "x": [
          3019,
          3120
         ],
         "xaxis": "x",
         "y": [
          4,
          4
         ],
         "yaxis": "y"
        },
        {
         "hovertemplate": "<b>transcript_id:</b> ENST00000348990<br><b>Feature Type:</b> intron<br><b>Feature Number:</b> 7<br><b>Chromosome:</b> 21<br><b>Start:</b> 25976028<br><b>End:</b> 25982344<br><b>Size:</b> 6316<br><extra></extra>",
         "line": {
          "color": "black",
          "width": 0.5
         },
         "mode": "lines",
         "opacity": 1,
         "showlegend": false,
         "type": "scatter",
         "x": [
          3194,
          3295
         ],
         "xaxis": "x",
         "y": [
          4,
          4
         ],
         "yaxis": "y"
        },
        {
         "hoverinfo": "skip",
         "marker": {
          "color": "black",
          "size": 7,
          "symbol": "arrow-left"
         },
         "mode": "markers",
         "opacity": 1,
         "showlegend": false,
         "type": "scatter",
         "x": [
          3615.8571428571427
         ],
         "xaxis": "x",
         "y": [
          4
         ],
         "yaxis": "y"
        },
        {
         "hovertemplate": "<b>transcript_id:</b> ENST00000348990<br><b>Feature Type:</b> intron<br><b>Feature Number:</b> 6<br><b>Chromosome:</b> 21<br><b>Start:</b> 25982477<br><b>End:</b> 26021840<br><b>Size:</b> 39363<br><extra></extra>",
         "line": {
          "color": "black",
          "width": 0.5
         },
         "mode": "lines",
         "opacity": 1,
         "showlegend": false,
         "type": "scatter",
         "x": [
          3428,
          3954
         ],
         "xaxis": "x",
         "y": [
          4,
          4
         ],
         "yaxis": "y"
        },
        {
         "hovertemplate": "<b>transcript_id:</b> ENST00000348990<br><b>Feature Type:</b> intron<br><b>Feature Number:</b> 5<br><b>Chromosome:</b> 21<br><b>Start:</b> 26022042<br><b>End:</b> 26051000<br><b>Size:</b> 28958<br><extra></extra>",
         "line": {
          "color": "black",
          "width": 0.5
         },
         "mode": "lines",
         "opacity": 1,
         "showlegend": false,
         "type": "scatter",
         "x": [
          4156,
          4257
         ],
         "xaxis": "x",
         "y": [
          4,
          4
         ],
         "yaxis": "y"
        },
        {
         "hovertemplate": "<b>transcript_id:</b> ENST00000348990<br><b>Feature Type:</b> intron<br><b>Feature Number:</b> 4<br><b>Chromosome:</b> 21<br><b>Start:</b> 26051193<br><b>End:</b> 26053236<br><b>Size:</b> 2043<br><extra></extra>",
         "line": {
          "color": "black",
          "width": 0.5
         },
         "mode": "lines",
         "opacity": 1,
         "showlegend": false,
         "type": "scatter",
         "x": [
          4450,
          4551
         ],
         "xaxis": "x",
         "y": [
          4,
          4
         ],
         "yaxis": "y"
        },
        {
         "hovertemplate": "<b>transcript_id:</b> ENST00000348990<br><b>Feature Type:</b> intron<br><b>Feature Number:</b> 3<br><b>Chromosome:</b> 21<br><b>Start:</b> 26053348<br><b>End:</b> 26089943<br><b>Size:</b> 36595<br><extra></extra>",
         "line": {
          "color": "black",
          "width": 0.5
         },
         "mode": "lines",
         "opacity": 1,
         "showlegend": false,
         "type": "scatter",
         "x": [
          4663,
          4764
         ],
         "xaxis": "x",
         "y": [
          4,
          4
         ],
         "yaxis": "y"
        },
        {
         "hovertemplate": "<b>transcript_id:</b> ENST00000348990<br><b>Feature Type:</b> intron<br><b>Feature Number:</b> 2<br><b>Chromosome:</b> 21<br><b>Start:</b> 26090072<br><b>End:</b> 26111979<br><b>Size:</b> 21907<br><extra></extra>",
         "line": {
          "color": "black",
          "width": 0.5
         },
         "mode": "lines",
         "opacity": 1,
         "showlegend": false,
         "type": "scatter",
         "x": [
          4893,
          4994
         ],
         "xaxis": "x",
         "y": [
          4,
          4
         ],
         "yaxis": "y"
        },
        {
         "hovertemplate": "<b>transcript_id:</b> ENST00000348990<br><b>Feature Type:</b> intron<br><b>Feature Number:</b> 1<br><b>Chromosome:</b> 21<br><b>Start:</b> 26112146<br><b>End:</b> 26170564<br><b>Size:</b> 58418<br><extra></extra>",
         "line": {
          "color": "black",
          "width": 0.5
         },
         "mode": "lines",
         "opacity": 1,
         "showlegend": false,
         "type": "scatter",
         "x": [
          5161,
          5262
         ],
         "xaxis": "x",
         "y": [
          4,
          4
         ],
         "yaxis": "y"
        },
        {
         "boxmean": true,
         "boxpoints": "all",
         "fillcolor": "#7CAE00",
         "jitter": 0.3,
         "legendgroup": "AD",
         "legendgrouptitle": {
          "text": "<b><u>Expression Plot Hue<u><b>"
         },
         "line": {
          "width": 0.5
         },
         "marker": {
          "color": "black",
          "opacity": 1,
          "size": 3
         },
         "name": "AD",
         "offsetgroup": "0",
         "opacity": 1,
         "orientation": "h",
         "pointpos": 0,
         "showlegend": true,
         "text": [
          "sample_1",
          "sample_7",
          "sample_3",
          "sample_5",
          "sample_1",
          "sample_7",
          "sample_3",
          "sample_5",
          "sample_1",
          "sample_7",
          "sample_3",
          "sample_5",
          "sample_1",
          "sample_7",
          "sample_3",
          "sample_5",
          "sample_1",
          "sample_7",
          "sample_3",
          "sample_5"
         ],
         "type": "box",
         "x": [
          75.03901,
          777.59199,
          1875.61735,
          57.10673,
          0,
          19375.31439,
          10.47779,
          0,
          622.78413,
          4949.323,
          4385.15006,
          817.18271,
          32000.11649,
          9104.24543,
          6801.39742,
          13357.82555,
          21.32691,
          6974.68126,
          4317.08803,
          158.32861
         ],
         "xaxis": "x2",
         "y": [
          "0",
          "0",
          "0",
          "0",
          "1",
          "1",
          "1",
          "1",
          "2",
          "2",
          "2",
          "2",
          "3",
          "3",
          "3",
          "3",
          "4",
          "4",
          "4",
          "4"
         ],
         "yaxis": "y2"
        },
        {
         "boxmean": true,
         "boxpoints": "all",
         "fillcolor": "#C77CFF",
         "jitter": 0.3,
         "legendgroup": "Control",
         "legendgrouptitle": {
          "text": ""
         },
         "line": {
          "width": 0.5
         },
         "marker": {
          "color": "black",
          "opacity": 1,
          "size": 3
         },
         "name": "Control",
         "offsetgroup": "1",
         "opacity": 1,
         "orientation": "h",
         "pointpos": 0,
         "showlegend": true,
         "text": [
          "sample_4",
          "sample_2",
          "sample_6",
          "sample_8",
          "sample_4",
          "sample_2",
          "sample_6",
          "sample_8",
          "sample_4",
          "sample_2",
          "sample_6",
          "sample_8",
          "sample_4",
          "sample_2",
          "sample_6",
          "sample_8",
          "sample_4",
          "sample_2",
          "sample_6",
          "sample_8"
         ],
         "type": "box",
         "x": [
          1659.67771,
          1172.26084,
          1414.18687,
          1177.96343,
          233.77788,
          148.49865,
          158.86607,
          168.5427,
          13165.78688,
          10659.16159,
          10079.55077,
          8614.40942,
          281.12956,
          816.12674,
          908.42026,
          274.52124,
          20102.2553,
          16065.17951,
          22251.02963,
          17583.32597
         ],
         "xaxis": "x2",
         "y": [
          "0",
          "0",
          "0",
          "0",
          "1",
          "1",
          "1",
          "1",
          "2",
          "2",
          "2",
          "2",
          "3",
          "3",
          "3",
          "3",
          "4",
          "4",
          "4",
          "4"
         ],
         "yaxis": "y2"
        },
        {
         "boxmean": true,
         "boxpoints": "all",
         "fillcolor": "#7CAE00",
         "jitter": 0.3,
         "legendgroup": "AD",
         "legendgrouptitle": {
          "text": ""
         },
         "line": {
          "width": 0.5
         },
         "marker": {
          "color": "black",
          "opacity": 1,
          "size": 3
         },
         "name": "AD",
         "offsetgroup": "0",
         "opacity": 1,
         "orientation": "h",
         "pointpos": 0,
         "showlegend": false,
         "text": [
          "sample_1",
          "sample_7",
          "sample_3",
          "sample_5",
          "sample_1",
          "sample_7",
          "sample_3",
          "sample_5",
          "sample_1",
          "sample_7",
          "sample_3",
          "sample_5",
          "sample_1",
          "sample_7",
          "sample_3",
          "sample_5",
          "sample_1",
          "sample_7",
          "sample_3",
          "sample_5"
         ],
         "type": "box",
         "x": [
          168.8109737085466,
          935.7901166341409,
          3049.58596317783,
          332.0216631878476,
          0,
          23317.148255142456,
          17.03594888857529,
          0,
          1401.0418766922708,
          5956.243900390533,
          7129.861572993243,
          4751.145136528611,
          71988.83385406894,
          10956.469462610521,
          11058.463551761188,
          77663.1310474987,
          47.9779309894219,
          8393.653578892136,
          7019.198803045317,
          920.5312302493958
         ],
         "xaxis": "x3",
         "y": [
          "0",
          "0",
          "0",
          "0",
          "1",
          "1",
          "1",
          "1",
          "2",
          "2",
          "2",
          "2",
          "3",
          "3",
          "3",
          "3",
          "4",
          "4",
          "4",
          "4"
         ],
         "yaxis": "y3"
        },
        {
         "boxmean": true,
         "boxpoints": "all",
         "fillcolor": "#C77CFF",
         "jitter": 0.3,
         "legendgroup": "Control",
         "legendgrouptitle": {
          "text": ""
         },
         "line": {
          "width": 0.5
         },
         "marker": {
          "color": "black",
          "opacity": 1,
          "size": 3
         },
         "name": "Control",
         "offsetgroup": "1",
         "opacity": 1,
         "orientation": "h",
         "pointpos": 0,
         "showlegend": false,
         "text": [
          "sample_4",
          "sample_2",
          "sample_6",
          "sample_8",
          "sample_4",
          "sample_2",
          "sample_6",
          "sample_8",
          "sample_4",
          "sample_2",
          "sample_6",
          "sample_8",
          "sample_4",
          "sample_2",
          "sample_6",
          "sample_8",
          "sample_4",
          "sample_2",
          "sample_6",
          "sample_8"
         ],
         "type": "box",
         "x": [
          1851.1391844698874,
          1267.2692857622844,
          1573.9770168970465,
          1640.830121381704,
          260.74664467856184,
          160.53404814082458,
          176.81647895992512,
          234.7695453491286,
          14684.600414346434,
          11523.05667310705,
          11218.447568125794,
          11999.33893894337,
          313.560844550222,
          882.271518078947,
          1011.0634183187115,
          382.3910896376943,
          22421.26423572169,
          17367.217148770906,
          24765.191915489355,
          24492.48435976418
         ],
         "xaxis": "x3",
         "y": [
          "0",
          "0",
          "0",
          "0",
          "1",
          "1",
          "1",
          "1",
          "2",
          "2",
          "2",
          "2",
          "3",
          "3",
          "3",
          "3",
          "4",
          "4",
          "4",
          "4"
         ],
         "yaxis": "y3"
        },
        {
         "boxmean": true,
         "boxpoints": "all",
         "fillcolor": "#7CAE00",
         "jitter": 0.3,
         "legendgroup": "AD",
         "legendgrouptitle": {
          "text": ""
         },
         "line": {
          "width": 0.5
         },
         "marker": {
          "color": "black",
          "opacity": 1,
          "size": 3
         },
         "name": "AD",
         "offsetgroup": "0",
         "opacity": 1,
         "orientation": "h",
         "pointpos": 0,
         "showlegend": false,
         "text": [
          "sample_1",
          "sample_7",
          "sample_3",
          "sample_5",
          "sample_1",
          "sample_7",
          "sample_3",
          "sample_5",
          "sample_1",
          "sample_7",
          "sample_3",
          "sample_5",
          "sample_1",
          "sample_7",
          "sample_3",
          "sample_5",
          "sample_1",
          "sample_7",
          "sample_3",
          "sample_5"
         ],
         "type": "box",
         "x": [
          0.20706128581482855,
          1.875749583433663,
          10.597306909994915,
          0.34872209330727894,
          0,
          46.73818450205326,
          0.05919989829933895,
          0,
          1.7184992544926878,
          11.939025446402358,
          24.77625888468275,
          4.99012402296043,
          88.30054216658372,
          21.961754740812506,
          38.42814520594384,
          81.56952583048364,
          0.0588490893877348,
          16.824704518918175,
          24.391705915588453,
          0.9668332315583781
         ],
         "xaxis": "x4",
         "y": [
          "0",
          "0",
          "0",
          "0",
          "1",
          "1",
          "1",
          "1",
          "2",
          "2",
          "2",
          "2",
          "3",
          "3",
          "3",
          "3",
          "4",
          "4",
          "4",
          "4"
         ],
         "yaxis": "y4"
        },
        {
         "boxmean": true,
         "boxpoints": "all",
         "fillcolor": "#C77CFF",
         "jitter": 0.3,
         "legendgroup": "Control",
         "legendgrouptitle": {
          "text": ""
         },
         "line": {
          "width": 0.5
         },
         "marker": {
          "color": "black",
          "opacity": 1,
          "size": 3
         },
         "name": "Control",
         "offsetgroup": "1",
         "opacity": 1,
         "orientation": "h",
         "pointpos": 0,
         "showlegend": false,
         "text": [
          "sample_4",
          "sample_2",
          "sample_6",
          "sample_8",
          "sample_4",
          "sample_2",
          "sample_6",
          "sample_8",
          "sample_4",
          "sample_2",
          "sample_6",
          "sample_8",
          "sample_4",
          "sample_2",
          "sample_6",
          "sample_8",
          "sample_4",
          "sample_2",
          "sample_6",
          "sample_8"
         ],
         "type": "box",
         "x": [
          4.614959013430469,
          3.966236432534849,
          3.945723807929468,
          4.1761386520451875,
          0.6500511080833078,
          0.5024314859926918,
          0.44325233670935543,
          0.5975208279513876,
          36.60925640241358,
          36.06429012721613,
          28.12296188722414,
          30.53997028023541,
          0.7817188777354502,
          2.7612895520368115,
          2.534584023883263,
          0.9732379902246824,
          55.897047799126874,
          54.355053153336044,
          62.08261385006002,
          62.33674606929601
         ],
         "xaxis": "x4",
         "y": [
          "0",
          "0",
          "0",
          "0",
          "1",
          "1",
          "1",
          "1",
          "2",
          "2",
          "2",
          "2",
          "3",
          "3",
          "3",
          "3",
          "4",
          "4",
          "4",
          "4"
         ],
         "yaxis": "y4"
        }
       ],
       "layout": {
        "annotations": [
         {
          "font": {
           "size": 16
          },
          "showarrow": false,
          "text": "Transcript Structure",
          "x": 0.1175,
          "xanchor": "center",
          "xref": "paper",
          "y": 1,
          "yanchor": "bottom",
          "yref": "paper"
         },
         {
          "font": {
           "size": 16
          },
          "showarrow": false,
          "text": "Counts",
          "x": 0.3725,
          "xanchor": "center",
          "xref": "paper",
          "y": 1,
          "yanchor": "bottom",
          "yref": "paper"
         },
         {
          "font": {
           "size": 16
          },
          "showarrow": false,
          "text": "CPM",
          "x": 0.6275,
          "xanchor": "center",
          "xref": "paper",
          "y": 1,
          "yanchor": "bottom",
          "yref": "paper"
         },
         {
          "font": {
           "size": 16
          },
          "showarrow": false,
          "text": "Relative Abundance",
          "x": 0.8824999999999998,
          "xanchor": "center",
          "xref": "paper",
          "y": 1,
          "yanchor": "bottom",
          "yref": "paper"
         }
        ],
        "boxgap": 0.2,
        "boxgroupgap": 0.8,
        "boxmode": "group",
        "height": 500,
        "hoverlabel": {
         "font": {
          "size": 12
         }
        },
        "hovermode": "closest",
        "legend": {
         "font": {
          "size": 12
         },
         "title": {
          "font": {
           "size": 14
          }
         },
         "tracegroupgap": 7
        },
        "margin": {
         "b": 50,
         "l": 100,
         "r": 50,
         "t": 100
        },
        "showlegend": true,
        "template": {
         "data": {
          "bar": [
           {
            "error_x": {
             "color": "#2a3f5f"
            },
            "error_y": {
             "color": "#2a3f5f"
            },
            "marker": {
             "line": {
              "color": "white",
              "width": 0.5
             },
             "pattern": {
              "fillmode": "overlay",
              "size": 10,
              "solidity": 0.2
             }
            },
            "type": "bar"
           }
          ],
          "barpolar": [
           {
            "marker": {
             "line": {
              "color": "white",
              "width": 0.5
             },
             "pattern": {
              "fillmode": "overlay",
              "size": 10,
              "solidity": 0.2
             }
            },
            "type": "barpolar"
           }
          ],
          "carpet": [
           {
            "aaxis": {
             "endlinecolor": "#2a3f5f",
             "gridcolor": "#C8D4E3",
             "linecolor": "#C8D4E3",
             "minorgridcolor": "#C8D4E3",
             "startlinecolor": "#2a3f5f"
            },
            "baxis": {
             "endlinecolor": "#2a3f5f",
             "gridcolor": "#C8D4E3",
             "linecolor": "#C8D4E3",
             "minorgridcolor": "#C8D4E3",
             "startlinecolor": "#2a3f5f"
            },
            "type": "carpet"
           }
          ],
          "choropleth": [
           {
            "colorbar": {
             "outlinewidth": 0,
             "ticks": ""
            },
            "type": "choropleth"
           }
          ],
          "contour": [
           {
            "colorbar": {
             "outlinewidth": 0,
             "ticks": ""
            },
            "colorscale": [
             [
              0,
              "#0d0887"
             ],
             [
              0.1111111111111111,
              "#46039f"
             ],
             [
              0.2222222222222222,
              "#7201a8"
             ],
             [
              0.3333333333333333,
              "#9c179e"
             ],
             [
              0.4444444444444444,
              "#bd3786"
             ],
             [
              0.5555555555555556,
              "#d8576b"
             ],
             [
              0.6666666666666666,
              "#ed7953"
             ],
             [
              0.7777777777777778,
              "#fb9f3a"
             ],
             [
              0.8888888888888888,
              "#fdca26"
             ],
             [
              1,
              "#f0f921"
             ]
            ],
            "type": "contour"
           }
          ],
          "contourcarpet": [
           {
            "colorbar": {
             "outlinewidth": 0,
             "ticks": ""
            },
            "type": "contourcarpet"
           }
          ],
          "heatmap": [
           {
            "colorbar": {
             "outlinewidth": 0,
             "ticks": ""
            },
            "colorscale": [
             [
              0,
              "#0d0887"
             ],
             [
              0.1111111111111111,
              "#46039f"
             ],
             [
              0.2222222222222222,
              "#7201a8"
             ],
             [
              0.3333333333333333,
              "#9c179e"
             ],
             [
              0.4444444444444444,
              "#bd3786"
             ],
             [
              0.5555555555555556,
              "#d8576b"
             ],
             [
              0.6666666666666666,
              "#ed7953"
             ],
             [
              0.7777777777777778,
              "#fb9f3a"
             ],
             [
              0.8888888888888888,
              "#fdca26"
             ],
             [
              1,
              "#f0f921"
             ]
            ],
            "type": "heatmap"
           }
          ],
          "heatmapgl": [
           {
            "colorbar": {
             "outlinewidth": 0,
             "ticks": ""
            },
            "colorscale": [
             [
              0,
              "#0d0887"
             ],
             [
              0.1111111111111111,
              "#46039f"
             ],
             [
              0.2222222222222222,
              "#7201a8"
             ],
             [
              0.3333333333333333,
              "#9c179e"
             ],
             [
              0.4444444444444444,
              "#bd3786"
             ],
             [
              0.5555555555555556,
              "#d8576b"
             ],
             [
              0.6666666666666666,
              "#ed7953"
             ],
             [
              0.7777777777777778,
              "#fb9f3a"
             ],
             [
              0.8888888888888888,
              "#fdca26"
             ],
             [
              1,
              "#f0f921"
             ]
            ],
            "type": "heatmapgl"
           }
          ],
          "histogram": [
           {
            "marker": {
             "pattern": {
              "fillmode": "overlay",
              "size": 10,
              "solidity": 0.2
             }
            },
            "type": "histogram"
           }
          ],
          "histogram2d": [
           {
            "colorbar": {
             "outlinewidth": 0,
             "ticks": ""
            },
            "colorscale": [
             [
              0,
              "#0d0887"
             ],
             [
              0.1111111111111111,
              "#46039f"
             ],
             [
              0.2222222222222222,
              "#7201a8"
             ],
             [
              0.3333333333333333,
              "#9c179e"
             ],
             [
              0.4444444444444444,
              "#bd3786"
             ],
             [
              0.5555555555555556,
              "#d8576b"
             ],
             [
              0.6666666666666666,
              "#ed7953"
             ],
             [
              0.7777777777777778,
              "#fb9f3a"
             ],
             [
              0.8888888888888888,
              "#fdca26"
             ],
             [
              1,
              "#f0f921"
             ]
            ],
            "type": "histogram2d"
           }
          ],
          "histogram2dcontour": [
           {
            "colorbar": {
             "outlinewidth": 0,
             "ticks": ""
            },
            "colorscale": [
             [
              0,
              "#0d0887"
             ],
             [
              0.1111111111111111,
              "#46039f"
             ],
             [
              0.2222222222222222,
              "#7201a8"
             ],
             [
              0.3333333333333333,
              "#9c179e"
             ],
             [
              0.4444444444444444,
              "#bd3786"
             ],
             [
              0.5555555555555556,
              "#d8576b"
             ],
             [
              0.6666666666666666,
              "#ed7953"
             ],
             [
              0.7777777777777778,
              "#fb9f3a"
             ],
             [
              0.8888888888888888,
              "#fdca26"
             ],
             [
              1,
              "#f0f921"
             ]
            ],
            "type": "histogram2dcontour"
           }
          ],
          "mesh3d": [
           {
            "colorbar": {
             "outlinewidth": 0,
             "ticks": ""
            },
            "type": "mesh3d"
           }
          ],
          "parcoords": [
           {
            "line": {
             "colorbar": {
              "outlinewidth": 0,
              "ticks": ""
             }
            },
            "type": "parcoords"
           }
          ],
          "pie": [
           {
            "automargin": true,
            "type": "pie"
           }
          ],
          "scatter": [
           {
            "fillpattern": {
             "fillmode": "overlay",
             "size": 10,
             "solidity": 0.2
            },
            "type": "scatter"
           }
          ],
          "scatter3d": [
           {
            "line": {
             "colorbar": {
              "outlinewidth": 0,
              "ticks": ""
             }
            },
            "marker": {
             "colorbar": {
              "outlinewidth": 0,
              "ticks": ""
             }
            },
            "type": "scatter3d"
           }
          ],
          "scattercarpet": [
           {
            "marker": {
             "colorbar": {
              "outlinewidth": 0,
              "ticks": ""
             }
            },
            "type": "scattercarpet"
           }
          ],
          "scattergeo": [
           {
            "marker": {
             "colorbar": {
              "outlinewidth": 0,
              "ticks": ""
             }
            },
            "type": "scattergeo"
           }
          ],
          "scattergl": [
           {
            "marker": {
             "colorbar": {
              "outlinewidth": 0,
              "ticks": ""
             }
            },
            "type": "scattergl"
           }
          ],
          "scattermapbox": [
           {
            "marker": {
             "colorbar": {
              "outlinewidth": 0,
              "ticks": ""
             }
            },
            "type": "scattermapbox"
           }
          ],
          "scatterpolar": [
           {
            "marker": {
             "colorbar": {
              "outlinewidth": 0,
              "ticks": ""
             }
            },
            "type": "scatterpolar"
           }
          ],
          "scatterpolargl": [
           {
            "marker": {
             "colorbar": {
              "outlinewidth": 0,
              "ticks": ""
             }
            },
            "type": "scatterpolargl"
           }
          ],
          "scatterternary": [
           {
            "marker": {
             "colorbar": {
              "outlinewidth": 0,
              "ticks": ""
             }
            },
            "type": "scatterternary"
           }
          ],
          "surface": [
           {
            "colorbar": {
             "outlinewidth": 0,
             "ticks": ""
            },
            "colorscale": [
             [
              0,
              "#0d0887"
             ],
             [
              0.1111111111111111,
              "#46039f"
             ],
             [
              0.2222222222222222,
              "#7201a8"
             ],
             [
              0.3333333333333333,
              "#9c179e"
             ],
             [
              0.4444444444444444,
              "#bd3786"
             ],
             [
              0.5555555555555556,
              "#d8576b"
             ],
             [
              0.6666666666666666,
              "#ed7953"
             ],
             [
              0.7777777777777778,
              "#fb9f3a"
             ],
             [
              0.8888888888888888,
              "#fdca26"
             ],
             [
              1,
              "#f0f921"
             ]
            ],
            "type": "surface"
           }
          ],
          "table": [
           {
            "cells": {
             "fill": {
              "color": "#EBF0F8"
             },
             "line": {
              "color": "white"
             }
            },
            "header": {
             "fill": {
              "color": "#C8D4E3"
             },
             "line": {
              "color": "white"
             }
            },
            "type": "table"
           }
          ]
         },
         "layout": {
          "annotationdefaults": {
           "arrowcolor": "#2a3f5f",
           "arrowhead": 0,
           "arrowwidth": 1
          },
          "autotypenumbers": "strict",
          "coloraxis": {
           "colorbar": {
            "outlinewidth": 0,
            "ticks": ""
           }
          },
          "colorscale": {
           "diverging": [
            [
             0,
             "#8e0152"
            ],
            [
             0.1,
             "#c51b7d"
            ],
            [
             0.2,
             "#de77ae"
            ],
            [
             0.3,
             "#f1b6da"
            ],
            [
             0.4,
             "#fde0ef"
            ],
            [
             0.5,
             "#f7f7f7"
            ],
            [
             0.6,
             "#e6f5d0"
            ],
            [
             0.7,
             "#b8e186"
            ],
            [
             0.8,
             "#7fbc41"
            ],
            [
             0.9,
             "#4d9221"
            ],
            [
             1,
             "#276419"
            ]
           ],
           "sequential": [
            [
             0,
             "#0d0887"
            ],
            [
             0.1111111111111111,
             "#46039f"
            ],
            [
             0.2222222222222222,
             "#7201a8"
            ],
            [
             0.3333333333333333,
             "#9c179e"
            ],
            [
             0.4444444444444444,
             "#bd3786"
            ],
            [
             0.5555555555555556,
             "#d8576b"
            ],
            [
             0.6666666666666666,
             "#ed7953"
            ],
            [
             0.7777777777777778,
             "#fb9f3a"
            ],
            [
             0.8888888888888888,
             "#fdca26"
            ],
            [
             1,
             "#f0f921"
            ]
           ],
           "sequentialminus": [
            [
             0,
             "#0d0887"
            ],
            [
             0.1111111111111111,
             "#46039f"
            ],
            [
             0.2222222222222222,
             "#7201a8"
            ],
            [
             0.3333333333333333,
             "#9c179e"
            ],
            [
             0.4444444444444444,
             "#bd3786"
            ],
            [
             0.5555555555555556,
             "#d8576b"
            ],
            [
             0.6666666666666666,
             "#ed7953"
            ],
            [
             0.7777777777777778,
             "#fb9f3a"
            ],
            [
             0.8888888888888888,
             "#fdca26"
            ],
            [
             1,
             "#f0f921"
            ]
           ]
          },
          "colorway": [
           "#636efa",
           "#EF553B",
           "#00cc96",
           "#ab63fa",
           "#FFA15A",
           "#19d3f3",
           "#FF6692",
           "#B6E880",
           "#FF97FF",
           "#FECB52"
          ],
          "font": {
           "color": "#2a3f5f"
          },
          "geo": {
           "bgcolor": "white",
           "lakecolor": "white",
           "landcolor": "white",
           "showlakes": true,
           "showland": true,
           "subunitcolor": "#C8D4E3"
          },
          "hoverlabel": {
           "align": "left"
          },
          "hovermode": "closest",
          "mapbox": {
           "style": "light"
          },
          "paper_bgcolor": "white",
          "plot_bgcolor": "white",
          "polar": {
           "angularaxis": {
            "gridcolor": "#EBF0F8",
            "linecolor": "#EBF0F8",
            "ticks": ""
           },
           "bgcolor": "white",
           "radialaxis": {
            "gridcolor": "#EBF0F8",
            "linecolor": "#EBF0F8",
            "ticks": ""
           }
          },
          "scene": {
           "xaxis": {
            "backgroundcolor": "white",
            "gridcolor": "#DFE8F3",
            "gridwidth": 2,
            "linecolor": "#EBF0F8",
            "showbackground": true,
            "ticks": "",
            "zerolinecolor": "#EBF0F8"
           },
           "yaxis": {
            "backgroundcolor": "white",
            "gridcolor": "#DFE8F3",
            "gridwidth": 2,
            "linecolor": "#EBF0F8",
            "showbackground": true,
            "ticks": "",
            "zerolinecolor": "#EBF0F8"
           },
           "zaxis": {
            "backgroundcolor": "white",
            "gridcolor": "#DFE8F3",
            "gridwidth": 2,
            "linecolor": "#EBF0F8",
            "showbackground": true,
            "ticks": "",
            "zerolinecolor": "#EBF0F8"
           }
          },
          "shapedefaults": {
           "line": {
            "color": "#2a3f5f"
           }
          },
          "ternary": {
           "aaxis": {
            "gridcolor": "#DFE8F3",
            "linecolor": "#A2B1C6",
            "ticks": ""
           },
           "baxis": {
            "gridcolor": "#DFE8F3",
            "linecolor": "#A2B1C6",
            "ticks": ""
           },
           "bgcolor": "white",
           "caxis": {
            "gridcolor": "#DFE8F3",
            "linecolor": "#A2B1C6",
            "ticks": ""
           }
          },
          "title": {
           "x": 0.05
          },
          "xaxis": {
           "automargin": true,
           "gridcolor": "#EBF0F8",
           "linecolor": "#EBF0F8",
           "ticks": "",
           "title": {
            "standoff": 15
           },
           "zerolinecolor": "#EBF0F8",
           "zerolinewidth": 2
          },
          "yaxis": {
           "automargin": true,
           "gridcolor": "#EBF0F8",
           "linecolor": "#EBF0F8",
           "ticks": "",
           "title": {
            "standoff": 15
           },
           "zerolinecolor": "#EBF0F8",
           "zerolinewidth": 2
          }
         }
        },
        "title": {
         "text": ""
        },
        "violingap": 0.2,
        "violingroupgap": 0.8,
        "violinmode": "group",
        "width": 1200,
        "xaxis": {
         "anchor": "y",
         "domain": [
          0,
          0.235
         ],
         "showgrid": true,
         "showticklabels": false,
         "tickfont": {
          "size": 12
         },
         "title": {
          "text": ""
         }
        },
        "xaxis2": {
         "anchor": "y2",
         "domain": [
          0.255,
          0.49
         ],
         "showgrid": true,
         "showticklabels": true,
         "title": {
          "text": ""
         }
        },
        "xaxis3": {
         "anchor": "y3",
         "domain": [
          0.51,
          0.745
         ],
         "showgrid": true,
         "showticklabels": true,
         "title": {
          "text": ""
         }
        },
        "xaxis4": {
         "anchor": "y4",
         "domain": [
          0.7649999999999999,
          0.9999999999999999
         ],
         "showgrid": true,
         "showticklabels": true,
         "title": {
          "text": ""
         }
        },
        "yaxis": {
         "anchor": "x",
         "domain": [
          0,
          1
         ],
         "range": [
          -0.8,
          4.8
         ],
         "showgrid": true,
         "showticklabels": true,
         "tickfont": {
          "color": "black",
          "family": "DejaVu Sans",
          "size": 12
         },
         "ticktext": [
          "ENST00000346798",
          "ENST00000359726",
          "ENST00000357903",
          "ENST00000707133",
          "ENST00000348990"
         ],
         "tickvals": [
          0,
          1,
          2,
          3,
          4
         ],
         "title": {
          "text": ""
         }
        },
        "yaxis2": {
         "anchor": "x2",
         "domain": [
          0,
          1
         ],
         "matches": "y",
         "range": [
          -0.8,
          4.8
         ],
         "showgrid": true,
         "showticklabels": false,
         "ticks": "",
         "ticktext": [
          "ENST00000346798",
          "ENST00000359726",
          "ENST00000357903",
          "ENST00000707133",
          "ENST00000348990"
         ],
         "tickvals": [
          0,
          1,
          2,
          3,
          4
         ]
        },
        "yaxis3": {
         "anchor": "x3",
         "domain": [
          0,
          1
         ],
         "matches": "y",
         "range": [
          -0.8,
          4.8
         ],
         "showgrid": true,
         "showticklabels": false,
         "ticks": "",
         "ticktext": [
          "ENST00000346798",
          "ENST00000359726",
          "ENST00000357903",
          "ENST00000707133",
          "ENST00000348990"
         ],
         "tickvals": [
          0,
          1,
          2,
          3,
          4
         ]
        },
        "yaxis4": {
         "anchor": "x4",
         "domain": [
          0,
          1
         ],
         "matches": "y",
         "range": [
          -0.8,
          4.8
         ],
         "showgrid": true,
         "showticklabels": false,
         "ticks": "",
         "ticktext": [
          "ENST00000346798",
          "ENST00000359726",
          "ENST00000357903",
          "ENST00000707133",
          "ENST00000348990"
         ],
         "tickvals": [
          0,
          1,
          2,
          3,
          4
         ]
        }
       }
      }
     },
     "metadata": {},
     "output_type": "display_data"
    }
   ],
   "source": [
    "## Path to your ENSEMBL GTF file, counts matrix file, and metadata file\n",
    "ensembl_gtf_path = \"../dash_apps/RNApysoforms/tests/test_data/Homo_sapiens_chr21_and_Y.GRCh38.110.gtf\"\n",
    "counts_matrix_path = \"../dash_apps/RNApysoforms/tests/test_data/counts_matrix_chr21_and_Y.tsv\"\n",
    "metadata_path = \"../dash_apps/RNApysoforms/tests/test_data/sample_metadata.tsv\"\n",
    "\n",
    "\n",
    "## Read ENSEMBL GTF and counts matrix with metadata and normalizations\n",
    "annotation = RNApy.read_ensembl_gtf(ensembl_gtf_path)\n",
    "counts_matrix = RNApy.read_expression_matrix(expression_matrix_path=counts_matrix_path,\n",
    "                                          metadata_path=metadata_path,\n",
    "                                           cpm_normalization=True, relative_abundance=True)\n",
    "\n",
    "\n",
    "## Filter APP gene and do not filter RNA isoforms by expression\n",
    "app_annotation, app_counts_matrix = RNApy.gene_filtering(annotation=annotation, expression_matrix=counts_matrix, target_gene=\"APP\",\n",
    "                                                        order_by_expression=True, keep_top_expressed_transcripts=5, \n",
    "                                                        order_by_expression_column=\"counts\")\n",
    "\n",
    "\n",
    "# Rescale introns\n",
    "app_annotation = RNApy.shorten_gaps(app_annotation)\n",
    "\n",
    "\"\"\"\n",
    "Add separate transcript biotype label to CDS regions and exon regions in\n",
    "protein coding transcripts so that they can be isolated when interacting with the\n",
    "plotly plots. \n",
    "\"\"\"\n",
    "app_annotation = app_annotation.with_columns(\n",
    "    pl.when(pl.col(\"type\") == \"CDS\")\n",
    "    .then(pl.lit(\"protein_coding - CDS\"))\n",
    "    .when((pl.col(\"type\") == \"exon\") & (pl.col(\"transcript_biotype\") == \"protein_coding\"))\n",
    "    .then(pl.lit(\"protein_coding - Exon\"))\n",
    "    .otherwise(pl.col(\"transcript_biotype\"))\n",
    "    .alias(\"transcript_biotype\")\n",
    ")\n",
    "\n",
    "\n",
    "\n",
    "# Define a mapping from transcript_biotype to colors\n",
    "biotype_colors = {\n",
    "    'protein_coding - Exon': '#F8766D',\n",
    "    'protein_coding - CDS': '#F8766D',\n",
    "    'protein_coding_CDS_not_defined': '#00BFC4'\n",
    "}\n",
    "\n",
    "# Define a mapping for \"AD Status\" from expression matrix\n",
    "ad_status_colors = {\n",
    "    'AD': '#7CAE00',\n",
    "    'Control': '#C77CFF',\n",
    "}\n",
    "\n",
    "\n",
    "\n",
    "\"\"\"\n",
    "Create traces, notice the `annotation_color_map` and the\n",
    "`expression_color_map` being passed to define the color maps for the different\n",
    "values contained in the `expression_hue` column from the expression matrix and \n",
    "the `annotation_hue` column from the annotation. This can be applied to ensure\n",
    "that your plot always has the same colors associated with the same\n",
    "`annotation_hue` and `expression_hue` values.\n",
    "\"\"\"\n",
    "traces = RNApy.make_traces(annotation=app_annotation,  expression_matrix=app_counts_matrix, \n",
    "                        x_start=\"rescaled_start\", x_end=\"rescaled_end\",\n",
    "                         y='transcript_id', annotation_hue=\"transcript_biotype\",\n",
    "                         hover_start=\"start\", hover_end=\"end\",\n",
    "                         expression_columns=[\"counts\", \"CPM\", \"relative_abundance\"],\n",
    "                         expression_hue=\"AD status\", marker_size=3, arrow_size=7,\n",
    "                         annotation_color_map=biotype_colors,\n",
    "                         expression_color_map=ad_status_colors)\n",
    "\n",
    "## Put traces into a figure\n",
    "fig = RNApy.make_plot(traces=traces, subplot_titles=[\"Transcript Structure\", \"Counts\", \"CPM\", \"Relative Abundance\"], \n",
    "                   width=1200, height=500)\n",
    "\n",
    "## Show figure\n",
    "fig.show()\n"
   ]
  }
 ],
 "metadata": {
  "kernelspec": {
   "display_name": ".venv",
   "language": "python",
   "name": "python3"
  },
  "language_info": {
   "codemirror_mode": {
    "name": "ipython",
    "version": 3
   },
   "file_extension": ".py",
   "mimetype": "text/x-python",
   "name": "python",
   "nbconvert_exporter": "python",
   "pygments_lexer": "ipython3",
   "version": "3.12.5"
  }
 },
 "nbformat": 4,
 "nbformat_minor": 2
}
