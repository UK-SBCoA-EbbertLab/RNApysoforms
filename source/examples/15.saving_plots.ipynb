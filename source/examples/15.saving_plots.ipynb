{
 "cells": [
  {
   "cell_type": "markdown",
   "metadata": {},
   "source": [
    "## 15. Saving plots\n",
    "\n",
    "### Basic example on how to save plots with plotly. Note that the \"kaleido\" package in included as a dependency for RNApysoforms, therefore you are able to save images as \".png\", \".pdf\", and etc without having to install extra packages."
   ]
  },
  {
   "cell_type": "markdown",
   "metadata": {},
   "source": [
    "### Kaleido has an unresolved bug that makes the saving process hang forever and never finish on some machines. If that is happening to you see this issue for guidance on how to deal with it: https://github.com/plotly/Kaleido/issues/134"
   ]
  },
  {
   "cell_type": "code",
   "execution_count": 12,
   "metadata": {},
   "outputs": [
    {
     "data": {
      "text/html": [
       "        <script type=\"text/javascript\">\n",
       "        window.PlotlyConfig = {MathJaxConfig: 'local'};\n",
       "        if (window.MathJax && window.MathJax.Hub && window.MathJax.Hub.Config) {window.MathJax.Hub.Config({SVG: {font: \"STIX-Web\"}});}\n",
       "        if (typeof require !== 'undefined') {\n",
       "        require.undef(\"plotly\");\n",
       "        requirejs.config({\n",
       "            paths: {\n",
       "                'plotly': ['https://cdn.plot.ly/plotly-2.35.2.min']\n",
       "            }\n",
       "        });\n",
       "        require(['plotly'], function(Plotly) {\n",
       "            window._Plotly = Plotly;\n",
       "        });\n",
       "        }\n",
       "        </script>\n",
       "        "
      ]
     },
     "metadata": {},
     "output_type": "display_data"
    }
   ],
   "source": [
    "import RNApysoforms as RNApy\n",
    "\n",
    "## Add import statement for kaleido\n",
    "import kaleido "
   ]
  },
  {
   "cell_type": "code",
   "execution_count": 13,
   "metadata": {},
   "outputs": [
    {
     "data": {
      "application/vnd.plotly.v1+json": {
       "config": {
        "linkText": "Export to plot.ly",
        "plotlyServerURL": "https://plot.ly",
        "showLink": false
       },
       "data": [
        {
         "fill": "toself",
         "fillcolor": "#636EFA",
         "hoverlabel": {
          "namelength": -1
         },
         "hoveron": "fills+points",
         "hovertemplate": "<b>transcript_name:</b> APP-201<br><b>Feature Type:</b> exon<br><b>Feature Number:</b> 18<br><b>Chromosome:</b> 21<br><b>Start:</b> 25880550<br><b>End:</b> 25881771<br><b>Size:</b> 1221<br><extra></extra>",
         "legendgroup": "protein_coding",
         "legendgrouptitle": {
          "text": "<b><u>Transcript Structure Hue<u><b>"
         },
         "line": {
          "color": "black",
          "width": 0.25
         },
         "marker": {
          "opacity": 0
         },
         "mode": "lines+markers",
         "name": "protein_coding",
         "opacity": 1,
         "showlegend": true,
         "type": "scatter",
         "x": [
          2,
          1223,
          1223,
          2,
          2
         ],
         "xaxis": "x",
         "y": [
          -0.15,
          -0.15,
          0.15,
          0.15,
          -0.15
         ],
         "yaxis": "y"
        },
        {
         "fill": "toself",
         "fillcolor": "#636EFA",
         "hoverlabel": {
          "namelength": -1
         },
         "hoveron": "fills+points",
         "hovertemplate": "<b>transcript_name:</b> APP-201<br><b>Feature Type:</b> exon<br><b>Feature Number:</b> 17<br><b>Chromosome:</b> 21<br><b>Start:</b> 25891722<br><b>End:</b> 25891868<br><b>Size:</b> 146<br><extra></extra>",
         "legendgroup": "protein_coding",
         "legendgrouptitle": {
          "text": ""
         },
         "line": {
          "color": "black",
          "width": 0.25
         },
         "marker": {
          "opacity": 0
         },
         "mode": "lines+markers",
         "name": "protein_coding",
         "opacity": 1,
         "showlegend": false,
         "type": "scatter",
         "x": [
          1324,
          1470,
          1470,
          1324,
          1324
         ],
         "xaxis": "x",
         "y": [
          -0.15,
          -0.15,
          0.15,
          0.15,
          -0.15
         ],
         "yaxis": "y"
        },
        {
         "fill": "toself",
         "fillcolor": "#636EFA",
         "hoverlabel": {
          "namelength": -1
         },
         "hoveron": "fills+points",
         "hovertemplate": "<b>transcript_name:</b> APP-201<br><b>Feature Type:</b> exon<br><b>Feature Number:</b> 16<br><b>Chromosome:</b> 21<br><b>Start:</b> 25897573<br><b>End:</b> 25897673<br><b>Size:</b> 100<br><extra></extra>",
         "legendgroup": "protein_coding",
         "legendgrouptitle": {
          "text": ""
         },
         "line": {
          "color": "black",
          "width": 0.25
         },
         "marker": {
          "opacity": 0
         },
         "mode": "lines+markers",
         "name": "protein_coding",
         "opacity": 1,
         "showlegend": false,
         "type": "scatter",
         "x": [
          1571,
          1671,
          1671,
          1571,
          1571
         ],
         "xaxis": "x",
         "y": [
          -0.15,
          -0.15,
          0.15,
          0.15,
          -0.15
         ],
         "yaxis": "y"
        },
        {
         "fill": "toself",
         "fillcolor": "#636EFA",
         "hoverlabel": {
          "namelength": -1
         },
         "hoveron": "fills+points",
         "hovertemplate": "<b>transcript_name:</b> APP-201<br><b>Feature Type:</b> exon<br><b>Feature Number:</b> 15<br><b>Chromosome:</b> 21<br><b>Start:</b> 25905024<br><b>End:</b> 25905077<br><b>Size:</b> 53<br><extra></extra>",
         "legendgroup": "protein_coding",
         "legendgrouptitle": {
          "text": ""
         },
         "line": {
          "color": "black",
          "width": 0.25
         },
         "marker": {
          "opacity": 0
         },
         "mode": "lines+markers",
         "name": "protein_coding",
         "opacity": 1,
         "showlegend": false,
         "type": "scatter",
         "x": [
          1772,
          1825,
          1825,
          1772,
          1772
         ],
         "xaxis": "x",
         "y": [
          -0.15,
          -0.15,
          0.15,
          0.15,
          -0.15
         ],
         "yaxis": "y"
        },
        {
         "fill": "toself",
         "fillcolor": "#636EFA",
         "hoverlabel": {
          "namelength": -1
         },
         "hoveron": "fills+points",
         "hovertemplate": "<b>transcript_name:</b> APP-201<br><b>Feature Type:</b> exon<br><b>Feature Number:</b> 14<br><b>Chromosome:</b> 21<br><b>Start:</b> 25911741<br><b>End:</b> 25911962<br><b>Size:</b> 221<br><extra></extra>",
         "legendgroup": "protein_coding",
         "legendgrouptitle": {
          "text": ""
         },
         "line": {
          "color": "black",
          "width": 0.25
         },
         "marker": {
          "opacity": 0
         },
         "mode": "lines+markers",
         "name": "protein_coding",
         "opacity": 1,
         "showlegend": false,
         "type": "scatter",
         "x": [
          1926,
          2147,
          2147,
          1926,
          1926
         ],
         "xaxis": "x",
         "y": [
          -0.15,
          -0.15,
          0.15,
          0.15,
          -0.15
         ],
         "yaxis": "y"
        },
        {
         "fill": "toself",
         "fillcolor": "#636EFA",
         "hoverlabel": {
          "namelength": -1
         },
         "hoveron": "fills+points",
         "hovertemplate": "<b>transcript_name:</b> APP-201<br><b>Feature Type:</b> exon<br><b>Feature Number:</b> 13<br><b>Chromosome:</b> 21<br><b>Start:</b> 25954590<br><b>End:</b> 25954689<br><b>Size:</b> 99<br><extra></extra>",
         "legendgroup": "protein_coding",
         "legendgrouptitle": {
          "text": ""
         },
         "line": {
          "color": "black",
          "width": 0.25
         },
         "marker": {
          "opacity": 0
         },
         "mode": "lines+markers",
         "name": "protein_coding",
         "opacity": 1,
         "showlegend": false,
         "type": "scatter",
         "x": [
          2432,
          2531,
          2531,
          2432,
          2432
         ],
         "xaxis": "x",
         "y": [
          -0.15,
          -0.15,
          0.15,
          0.15,
          -0.15
         ],
         "yaxis": "y"
        },
        {
         "fill": "toself",
         "fillcolor": "#636EFA",
         "hoverlabel": {
          "namelength": -1
         },
         "hoveron": "fills+points",
         "hovertemplate": "<b>transcript_name:</b> APP-201<br><b>Feature Type:</b> exon<br><b>Feature Number:</b> 12<br><b>Chromosome:</b> 21<br><b>Start:</b> 25955627<br><b>End:</b> 25955755<br><b>Size:</b> 128<br><extra></extra>",
         "legendgroup": "protein_coding",
         "legendgrouptitle": {
          "text": ""
         },
         "line": {
          "color": "black",
          "width": 0.25
         },
         "marker": {
          "opacity": 0
         },
         "mode": "lines+markers",
         "name": "protein_coding",
         "opacity": 1,
         "showlegend": false,
         "type": "scatter",
         "x": [
          2632,
          2760,
          2760,
          2632,
          2632
         ],
         "xaxis": "x",
         "y": [
          -0.15,
          -0.15,
          0.15,
          0.15,
          -0.15
         ],
         "yaxis": "y"
        },
        {
         "fill": "toself",
         "fillcolor": "#636EFA",
         "hoverlabel": {
          "namelength": -1
         },
         "hoveron": "fills+points",
         "hovertemplate": "<b>transcript_name:</b> APP-201<br><b>Feature Type:</b> exon<br><b>Feature Number:</b> 11<br><b>Chromosome:</b> 21<br><b>Start:</b> 25975070<br><b>End:</b> 25975228<br><b>Size:</b> 158<br><extra></extra>",
         "legendgroup": "protein_coding",
         "legendgrouptitle": {
          "text": ""
         },
         "line": {
          "color": "black",
          "width": 0.25
         },
         "marker": {
          "opacity": 0
         },
         "mode": "lines+markers",
         "name": "protein_coding",
         "opacity": 1,
         "showlegend": false,
         "type": "scatter",
         "x": [
          2861,
          3019,
          3019,
          2861,
          2861
         ],
         "xaxis": "x",
         "y": [
          -0.15,
          -0.15,
          0.15,
          0.15,
          -0.15
         ],
         "yaxis": "y"
        },
        {
         "fill": "toself",
         "fillcolor": "#636EFA",
         "hoverlabel": {
          "namelength": -1
         },
         "hoveron": "fills+points",
         "hovertemplate": "<b>transcript_name:</b> APP-201<br><b>Feature Type:</b> exon<br><b>Feature Number:</b> 10<br><b>Chromosome:</b> 21<br><b>Start:</b> 25975954<br><b>End:</b> 25976028<br><b>Size:</b> 74<br><extra></extra>",
         "legendgroup": "protein_coding",
         "legendgrouptitle": {
          "text": ""
         },
         "line": {
          "color": "black",
          "width": 0.25
         },
         "marker": {
          "opacity": 0
         },
         "mode": "lines+markers",
         "name": "protein_coding",
         "opacity": 1,
         "showlegend": false,
         "type": "scatter",
         "x": [
          3120,
          3194,
          3194,
          3120,
          3120
         ],
         "xaxis": "x",
         "y": [
          -0.15,
          -0.15,
          0.15,
          0.15,
          -0.15
         ],
         "yaxis": "y"
        },
        {
         "fill": "toself",
         "fillcolor": "#636EFA",
         "hoverlabel": {
          "namelength": -1
         },
         "hoveron": "fills+points",
         "hovertemplate": "<b>transcript_name:</b> APP-201<br><b>Feature Type:</b> exon<br><b>Feature Number:</b> 9<br><b>Chromosome:</b> 21<br><b>Start:</b> 25982344<br><b>End:</b> 25982477<br><b>Size:</b> 133<br><extra></extra>",
         "legendgroup": "protein_coding",
         "legendgrouptitle": {
          "text": ""
         },
         "line": {
          "color": "black",
          "width": 0.25
         },
         "marker": {
          "opacity": 0
         },
         "mode": "lines+markers",
         "name": "protein_coding",
         "opacity": 1,
         "showlegend": false,
         "type": "scatter",
         "x": [
          3295,
          3428,
          3428,
          3295,
          3295
         ],
         "xaxis": "x",
         "y": [
          -0.15,
          -0.15,
          0.15,
          0.15,
          -0.15
         ],
         "yaxis": "y"
        },
        {
         "fill": "toself",
         "fillcolor": "#636EFA",
         "hoverlabel": {
          "namelength": -1
         },
         "hoveron": "fills+points",
         "hovertemplate": "<b>transcript_name:</b> APP-201<br><b>Feature Type:</b> exon<br><b>Feature Number:</b> 8<br><b>Chromosome:</b> 21<br><b>Start:</b> 25997360<br><b>End:</b> 25997416<br><b>Size:</b> 56<br><extra></extra>",
         "legendgroup": "protein_coding",
         "legendgrouptitle": {
          "text": ""
         },
         "line": {
          "color": "black",
          "width": 0.25
         },
         "marker": {
          "opacity": 0
         },
         "mode": "lines+markers",
         "name": "protein_coding",
         "opacity": 1,
         "showlegend": false,
         "type": "scatter",
         "x": [
          3529,
          3585,
          3585,
          3529,
          3529
         ],
         "xaxis": "x",
         "y": [
          -0.15,
          -0.15,
          0.15,
          0.15,
          -0.15
         ],
         "yaxis": "y"
        },
        {
         "fill": "toself",
         "fillcolor": "#636EFA",
         "hoverlabel": {
          "namelength": -1
         },
         "hoveron": "fills+points",
         "hovertemplate": "<b>transcript_name:</b> APP-201<br><b>Feature Type:</b> exon<br><b>Feature Number:</b> 7<br><b>Chromosome:</b> 21<br><b>Start:</b> 26000015<br><b>End:</b> 26000182<br><b>Size:</b> 167<br><extra></extra>",
         "legendgroup": "protein_coding",
         "legendgrouptitle": {
          "text": ""
         },
         "line": {
          "color": "black",
          "width": 0.25
         },
         "marker": {
          "opacity": 0
         },
         "mode": "lines+markers",
         "name": "protein_coding",
         "opacity": 1,
         "showlegend": false,
         "type": "scatter",
         "x": [
          3686,
          3853,
          3853,
          3686,
          3686
         ],
         "xaxis": "x",
         "y": [
          -0.15,
          -0.15,
          0.15,
          0.15,
          -0.15
         ],
         "yaxis": "y"
        },
        {
         "fill": "toself",
         "fillcolor": "#636EFA",
         "hoverlabel": {
          "namelength": -1
         },
         "hoveron": "fills+points",
         "hovertemplate": "<b>transcript_name:</b> APP-201<br><b>Feature Type:</b> exon<br><b>Feature Number:</b> 6<br><b>Chromosome:</b> 21<br><b>Start:</b> 26021840<br><b>End:</b> 26022042<br><b>Size:</b> 202<br><extra></extra>",
         "legendgroup": "protein_coding",
         "legendgrouptitle": {
          "text": ""
         },
         "line": {
          "color": "black",
          "width": 0.25
         },
         "marker": {
          "opacity": 0
         },
         "mode": "lines+markers",
         "name": "protein_coding",
         "opacity": 1,
         "showlegend": false,
         "type": "scatter",
         "x": [
          3954,
          4156,
          4156,
          3954,
          3954
         ],
         "xaxis": "x",
         "y": [
          -0.15,
          -0.15,
          0.15,
          0.15,
          -0.15
         ],
         "yaxis": "y"
        },
        {
         "fill": "toself",
         "fillcolor": "#636EFA",
         "hoverlabel": {
          "namelength": -1
         },
         "hoveron": "fills+points",
         "hovertemplate": "<b>transcript_name:</b> APP-201<br><b>Feature Type:</b> exon<br><b>Feature Number:</b> 5<br><b>Chromosome:</b> 21<br><b>Start:</b> 26051000<br><b>End:</b> 26051193<br><b>Size:</b> 193<br><extra></extra>",
         "legendgroup": "protein_coding",
         "legendgrouptitle": {
          "text": ""
         },
         "line": {
          "color": "black",
          "width": 0.25
         },
         "marker": {
          "opacity": 0
         },
         "mode": "lines+markers",
         "name": "protein_coding",
         "opacity": 1,
         "showlegend": false,
         "type": "scatter",
         "x": [
          4257,
          4450,
          4450,
          4257,
          4257
         ],
         "xaxis": "x",
         "y": [
          -0.15,
          -0.15,
          0.15,
          0.15,
          -0.15
         ],
         "yaxis": "y"
        },
        {
         "fill": "toself",
         "fillcolor": "#636EFA",
         "hoverlabel": {
          "namelength": -1
         },
         "hoveron": "fills+points",
         "hovertemplate": "<b>transcript_name:</b> APP-201<br><b>Feature Type:</b> exon<br><b>Feature Number:</b> 4<br><b>Chromosome:</b> 21<br><b>Start:</b> 26053236<br><b>End:</b> 26053348<br><b>Size:</b> 112<br><extra></extra>",
         "legendgroup": "protein_coding",
         "legendgrouptitle": {
          "text": ""
         },
         "line": {
          "color": "black",
          "width": 0.25
         },
         "marker": {
          "opacity": 0
         },
         "mode": "lines+markers",
         "name": "protein_coding",
         "opacity": 1,
         "showlegend": false,
         "type": "scatter",
         "x": [
          4551,
          4663,
          4663,
          4551,
          4551
         ],
         "xaxis": "x",
         "y": [
          -0.15,
          -0.15,
          0.15,
          0.15,
          -0.15
         ],
         "yaxis": "y"
        },
        {
         "fill": "toself",
         "fillcolor": "#636EFA",
         "hoverlabel": {
          "namelength": -1
         },
         "hoveron": "fills+points",
         "hovertemplate": "<b>transcript_name:</b> APP-201<br><b>Feature Type:</b> exon<br><b>Feature Number:</b> 3<br><b>Chromosome:</b> 21<br><b>Start:</b> 26089943<br><b>End:</b> 26090072<br><b>Size:</b> 129<br><extra></extra>",
         "legendgroup": "protein_coding",
         "legendgrouptitle": {
          "text": ""
         },
         "line": {
          "color": "black",
          "width": 0.25
         },
         "marker": {
          "opacity": 0
         },
         "mode": "lines+markers",
         "name": "protein_coding",
         "opacity": 1,
         "showlegend": false,
         "type": "scatter",
         "x": [
          4764,
          4893,
          4893,
          4764,
          4764
         ],
         "xaxis": "x",
         "y": [
          -0.15,
          -0.15,
          0.15,
          0.15,
          -0.15
         ],
         "yaxis": "y"
        },
        {
         "fill": "toself",
         "fillcolor": "#636EFA",
         "hoverlabel": {
          "namelength": -1
         },
         "hoveron": "fills+points",
         "hovertemplate": "<b>transcript_name:</b> APP-201<br><b>Feature Type:</b> exon<br><b>Feature Number:</b> 2<br><b>Chromosome:</b> 21<br><b>Start:</b> 26111979<br><b>End:</b> 26112146<br><b>Size:</b> 167<br><extra></extra>",
         "legendgroup": "protein_coding",
         "legendgrouptitle": {
          "text": ""
         },
         "line": {
          "color": "black",
          "width": 0.25
         },
         "marker": {
          "opacity": 0
         },
         "mode": "lines+markers",
         "name": "protein_coding",
         "opacity": 1,
         "showlegend": false,
         "type": "scatter",
         "x": [
          4994,
          5161,
          5161,
          4994,
          4994
         ],
         "xaxis": "x",
         "y": [
          -0.15,
          -0.15,
          0.15,
          0.15,
          -0.15
         ],
         "yaxis": "y"
        },
        {
         "fill": "toself",
         "fillcolor": "#636EFA",
         "hoverlabel": {
          "namelength": -1
         },
         "hoveron": "fills+points",
         "hovertemplate": "<b>transcript_name:</b> APP-201<br><b>Feature Type:</b> exon<br><b>Feature Number:</b> 1<br><b>Chromosome:</b> 21<br><b>Start:</b> 26170564<br><b>End:</b> 26170770<br><b>Size:</b> 206<br><extra></extra>",
         "legendgroup": "protein_coding",
         "legendgrouptitle": {
          "text": ""
         },
         "line": {
          "color": "black",
          "width": 0.25
         },
         "marker": {
          "opacity": 0
         },
         "mode": "lines+markers",
         "name": "protein_coding",
         "opacity": 1,
         "showlegend": false,
         "type": "scatter",
         "x": [
          5262,
          5468,
          5468,
          5262,
          5262
         ],
         "xaxis": "x",
         "y": [
          -0.15,
          -0.15,
          0.15,
          0.15,
          -0.15
         ],
         "yaxis": "y"
        },
        {
         "fill": "toself",
         "fillcolor": "#EF553B",
         "hoverlabel": {
          "namelength": -1
         },
         "hoveron": "fills+points",
         "hovertemplate": "<b>transcript_name:</b> APP-219<br><b>Feature Type:</b> exon<br><b>Feature Number:</b> 6<br><b>Chromosome:</b> 21<br><b>Start:</b> 25880550<br><b>End:</b> 25881771<br><b>Size:</b> 1221<br><extra></extra>",
         "legendgroup": "protein_coding_CDS_not_defined",
         "legendgrouptitle": {
          "text": ""
         },
         "line": {
          "color": "black",
          "width": 0.25
         },
         "marker": {
          "opacity": 0
         },
         "mode": "lines+markers",
         "name": "protein_coding_CDS_not_defined",
         "opacity": 1,
         "showlegend": true,
         "type": "scatter",
         "x": [
          2,
          1223,
          1223,
          2,
          2
         ],
         "xaxis": "x",
         "y": [
          0.85,
          0.85,
          1.15,
          1.15,
          0.85
         ],
         "yaxis": "y"
        },
        {
         "fill": "toself",
         "fillcolor": "#EF553B",
         "hoverlabel": {
          "namelength": -1
         },
         "hoveron": "fills+points",
         "hovertemplate": "<b>transcript_name:</b> APP-219<br><b>Feature Type:</b> exon<br><b>Feature Number:</b> 5<br><b>Chromosome:</b> 21<br><b>Start:</b> 25891722<br><b>End:</b> 25891868<br><b>Size:</b> 146<br><extra></extra>",
         "legendgroup": "protein_coding_CDS_not_defined",
         "legendgrouptitle": {
          "text": ""
         },
         "line": {
          "color": "black",
          "width": 0.25
         },
         "marker": {
          "opacity": 0
         },
         "mode": "lines+markers",
         "name": "protein_coding_CDS_not_defined",
         "opacity": 1,
         "showlegend": false,
         "type": "scatter",
         "x": [
          1324,
          1470,
          1470,
          1324,
          1324
         ],
         "xaxis": "x",
         "y": [
          0.85,
          0.85,
          1.15,
          1.15,
          0.85
         ],
         "yaxis": "y"
        },
        {
         "fill": "toself",
         "fillcolor": "#EF553B",
         "hoverlabel": {
          "namelength": -1
         },
         "hoveron": "fills+points",
         "hovertemplate": "<b>transcript_name:</b> APP-219<br><b>Feature Type:</b> exon<br><b>Feature Number:</b> 4<br><b>Chromosome:</b> 21<br><b>Start:</b> 25897573<br><b>End:</b> 25897673<br><b>Size:</b> 100<br><extra></extra>",
         "legendgroup": "protein_coding_CDS_not_defined",
         "legendgrouptitle": {
          "text": ""
         },
         "line": {
          "color": "black",
          "width": 0.25
         },
         "marker": {
          "opacity": 0
         },
         "mode": "lines+markers",
         "name": "protein_coding_CDS_not_defined",
         "opacity": 1,
         "showlegend": false,
         "type": "scatter",
         "x": [
          1571,
          1671,
          1671,
          1571,
          1571
         ],
         "xaxis": "x",
         "y": [
          0.85,
          0.85,
          1.15,
          1.15,
          0.85
         ],
         "yaxis": "y"
        },
        {
         "fill": "toself",
         "fillcolor": "#EF553B",
         "hoverlabel": {
          "namelength": -1
         },
         "hoveron": "fills+points",
         "hovertemplate": "<b>transcript_name:</b> APP-219<br><b>Feature Type:</b> exon<br><b>Feature Number:</b> 3<br><b>Chromosome:</b> 21<br><b>Start:</b> 25905024<br><b>End:</b> 25905077<br><b>Size:</b> 53<br><extra></extra>",
         "legendgroup": "protein_coding_CDS_not_defined",
         "legendgrouptitle": {
          "text": ""
         },
         "line": {
          "color": "black",
          "width": 0.25
         },
         "marker": {
          "opacity": 0
         },
         "mode": "lines+markers",
         "name": "protein_coding_CDS_not_defined",
         "opacity": 1,
         "showlegend": false,
         "type": "scatter",
         "x": [
          1772,
          1825,
          1825,
          1772,
          1772
         ],
         "xaxis": "x",
         "y": [
          0.85,
          0.85,
          1.15,
          1.15,
          0.85
         ],
         "yaxis": "y"
        },
        {
         "fill": "toself",
         "fillcolor": "#EF553B",
         "hoverlabel": {
          "namelength": -1
         },
         "hoveron": "fills+points",
         "hovertemplate": "<b>transcript_name:</b> APP-219<br><b>Feature Type:</b> exon<br><b>Feature Number:</b> 2<br><b>Chromosome:</b> 21<br><b>Start:</b> 25911741<br><b>End:</b> 25911962<br><b>Size:</b> 221<br><extra></extra>",
         "legendgroup": "protein_coding_CDS_not_defined",
         "legendgrouptitle": {
          "text": ""
         },
         "line": {
          "color": "black",
          "width": 0.25
         },
         "marker": {
          "opacity": 0
         },
         "mode": "lines+markers",
         "name": "protein_coding_CDS_not_defined",
         "opacity": 1,
         "showlegend": false,
         "type": "scatter",
         "x": [
          1926,
          2147,
          2147,
          1926,
          1926
         ],
         "xaxis": "x",
         "y": [
          0.85,
          0.85,
          1.15,
          1.15,
          0.85
         ],
         "yaxis": "y"
        },
        {
         "fill": "toself",
         "fillcolor": "#EF553B",
         "hoverlabel": {
          "namelength": -1
         },
         "hoveron": "fills+points",
         "hovertemplate": "<b>transcript_name:</b> APP-219<br><b>Feature Type:</b> exon<br><b>Feature Number:</b> 1<br><b>Chromosome:</b> 21<br><b>Start:</b> 25925059<br><b>End:</b> 25925142<br><b>Size:</b> 83<br><extra></extra>",
         "legendgroup": "protein_coding_CDS_not_defined",
         "legendgrouptitle": {
          "text": ""
         },
         "line": {
          "color": "black",
          "width": 0.25
         },
         "marker": {
          "opacity": 0
         },
         "mode": "lines+markers",
         "name": "protein_coding_CDS_not_defined",
         "opacity": 1,
         "showlegend": false,
         "type": "scatter",
         "x": [
          2248,
          2331,
          2331,
          2248,
          2248
         ],
         "xaxis": "x",
         "y": [
          0.85,
          0.85,
          1.15,
          1.15,
          0.85
         ],
         "yaxis": "y"
        },
        {
         "fill": "toself",
         "fillcolor": "#636EFA",
         "hoverlabel": {
          "namelength": -1
         },
         "hoveron": "fills+points",
         "hovertemplate": "<b>transcript_name:</b> APP-206<br><b>Feature Type:</b> exon<br><b>Feature Number:</b> 16<br><b>Chromosome:</b> 21<br><b>Start:</b> 25880551<br><b>End:</b> 25881771<br><b>Size:</b> 1220<br><extra></extra>",
         "legendgroup": "protein_coding",
         "legendgrouptitle": {
          "text": ""
         },
         "line": {
          "color": "black",
          "width": 0.25
         },
         "marker": {
          "opacity": 0
         },
         "mode": "lines+markers",
         "name": "protein_coding",
         "opacity": 1,
         "showlegend": false,
         "type": "scatter",
         "x": [
          3,
          1223,
          1223,
          3,
          3
         ],
         "xaxis": "x",
         "y": [
          1.85,
          1.85,
          2.15,
          2.15,
          1.85
         ],
         "yaxis": "y"
        },
        {
         "fill": "toself",
         "fillcolor": "#636EFA",
         "hoverlabel": {
          "namelength": -1
         },
         "hoveron": "fills+points",
         "hovertemplate": "<b>transcript_name:</b> APP-206<br><b>Feature Type:</b> exon<br><b>Feature Number:</b> 15<br><b>Chromosome:</b> 21<br><b>Start:</b> 25891722<br><b>End:</b> 25891868<br><b>Size:</b> 146<br><extra></extra>",
         "legendgroup": "protein_coding",
         "legendgrouptitle": {
          "text": ""
         },
         "line": {
          "color": "black",
          "width": 0.25
         },
         "marker": {
          "opacity": 0
         },
         "mode": "lines+markers",
         "name": "protein_coding",
         "opacity": 1,
         "showlegend": false,
         "type": "scatter",
         "x": [
          1324,
          1470,
          1470,
          1324,
          1324
         ],
         "xaxis": "x",
         "y": [
          1.85,
          1.85,
          2.15,
          2.15,
          1.85
         ],
         "yaxis": "y"
        },
        {
         "fill": "toself",
         "fillcolor": "#636EFA",
         "hoverlabel": {
          "namelength": -1
         },
         "hoveron": "fills+points",
         "hovertemplate": "<b>transcript_name:</b> APP-206<br><b>Feature Type:</b> exon<br><b>Feature Number:</b> 14<br><b>Chromosome:</b> 21<br><b>Start:</b> 25897573<br><b>End:</b> 25897673<br><b>Size:</b> 100<br><extra></extra>",
         "legendgroup": "protein_coding",
         "legendgrouptitle": {
          "text": ""
         },
         "line": {
          "color": "black",
          "width": 0.25
         },
         "marker": {
          "opacity": 0
         },
         "mode": "lines+markers",
         "name": "protein_coding",
         "opacity": 1,
         "showlegend": false,
         "type": "scatter",
         "x": [
          1571,
          1671,
          1671,
          1571,
          1571
         ],
         "xaxis": "x",
         "y": [
          1.85,
          1.85,
          2.15,
          2.15,
          1.85
         ],
         "yaxis": "y"
        },
        {
         "fill": "toself",
         "fillcolor": "#636EFA",
         "hoverlabel": {
          "namelength": -1
         },
         "hoveron": "fills+points",
         "hovertemplate": "<b>transcript_name:</b> APP-206<br><b>Feature Type:</b> exon<br><b>Feature Number:</b> 13<br><b>Chromosome:</b> 21<br><b>Start:</b> 25905024<br><b>End:</b> 25905077<br><b>Size:</b> 53<br><extra></extra>",
         "legendgroup": "protein_coding",
         "legendgrouptitle": {
          "text": ""
         },
         "line": {
          "color": "black",
          "width": 0.25
         },
         "marker": {
          "opacity": 0
         },
         "mode": "lines+markers",
         "name": "protein_coding",
         "opacity": 1,
         "showlegend": false,
         "type": "scatter",
         "x": [
          1772,
          1825,
          1825,
          1772,
          1772
         ],
         "xaxis": "x",
         "y": [
          1.85,
          1.85,
          2.15,
          2.15,
          1.85
         ],
         "yaxis": "y"
        },
        {
         "fill": "toself",
         "fillcolor": "#636EFA",
         "hoverlabel": {
          "namelength": -1
         },
         "hoveron": "fills+points",
         "hovertemplate": "<b>transcript_name:</b> APP-206<br><b>Feature Type:</b> exon<br><b>Feature Number:</b> 12<br><b>Chromosome:</b> 21<br><b>Start:</b> 25911741<br><b>End:</b> 25911962<br><b>Size:</b> 221<br><extra></extra>",
         "legendgroup": "protein_coding",
         "legendgrouptitle": {
          "text": ""
         },
         "line": {
          "color": "black",
          "width": 0.25
         },
         "marker": {
          "opacity": 0
         },
         "mode": "lines+markers",
         "name": "protein_coding",
         "opacity": 1,
         "showlegend": false,
         "type": "scatter",
         "x": [
          1926,
          2147,
          2147,
          1926,
          1926
         ],
         "xaxis": "x",
         "y": [
          1.85,
          1.85,
          2.15,
          2.15,
          1.85
         ],
         "yaxis": "y"
        },
        {
         "fill": "toself",
         "fillcolor": "#636EFA",
         "hoverlabel": {
          "namelength": -1
         },
         "hoveron": "fills+points",
         "hovertemplate": "<b>transcript_name:</b> APP-206<br><b>Feature Type:</b> exon<br><b>Feature Number:</b> 11<br><b>Chromosome:</b> 21<br><b>Start:</b> 25954590<br><b>End:</b> 25954689<br><b>Size:</b> 99<br><extra></extra>",
         "legendgroup": "protein_coding",
         "legendgrouptitle": {
          "text": ""
         },
         "line": {
          "color": "black",
          "width": 0.25
         },
         "marker": {
          "opacity": 0
         },
         "mode": "lines+markers",
         "name": "protein_coding",
         "opacity": 1,
         "showlegend": false,
         "type": "scatter",
         "x": [
          2432,
          2531,
          2531,
          2432,
          2432
         ],
         "xaxis": "x",
         "y": [
          1.85,
          1.85,
          2.15,
          2.15,
          1.85
         ],
         "yaxis": "y"
        },
        {
         "fill": "toself",
         "fillcolor": "#636EFA",
         "hoverlabel": {
          "namelength": -1
         },
         "hoveron": "fills+points",
         "hovertemplate": "<b>transcript_name:</b> APP-206<br><b>Feature Type:</b> exon<br><b>Feature Number:</b> 10<br><b>Chromosome:</b> 21<br><b>Start:</b> 25955627<br><b>End:</b> 25955755<br><b>Size:</b> 128<br><extra></extra>",
         "legendgroup": "protein_coding",
         "legendgrouptitle": {
          "text": ""
         },
         "line": {
          "color": "black",
          "width": 0.25
         },
         "marker": {
          "opacity": 0
         },
         "mode": "lines+markers",
         "name": "protein_coding",
         "opacity": 1,
         "showlegend": false,
         "type": "scatter",
         "x": [
          2632,
          2760,
          2760,
          2632,
          2632
         ],
         "xaxis": "x",
         "y": [
          1.85,
          1.85,
          2.15,
          2.15,
          1.85
         ],
         "yaxis": "y"
        },
        {
         "fill": "toself",
         "fillcolor": "#636EFA",
         "hoverlabel": {
          "namelength": -1
         },
         "hoveron": "fills+points",
         "hovertemplate": "<b>transcript_name:</b> APP-206<br><b>Feature Type:</b> exon<br><b>Feature Number:</b> 9<br><b>Chromosome:</b> 21<br><b>Start:</b> 25975070<br><b>End:</b> 25975228<br><b>Size:</b> 158<br><extra></extra>",
         "legendgroup": "protein_coding",
         "legendgrouptitle": {
          "text": ""
         },
         "line": {
          "color": "black",
          "width": 0.25
         },
         "marker": {
          "opacity": 0
         },
         "mode": "lines+markers",
         "name": "protein_coding",
         "opacity": 1,
         "showlegend": false,
         "type": "scatter",
         "x": [
          2861,
          3019,
          3019,
          2861,
          2861
         ],
         "xaxis": "x",
         "y": [
          1.85,
          1.85,
          2.15,
          2.15,
          1.85
         ],
         "yaxis": "y"
        },
        {
         "fill": "toself",
         "fillcolor": "#636EFA",
         "hoverlabel": {
          "namelength": -1
         },
         "hoveron": "fills+points",
         "hovertemplate": "<b>transcript_name:</b> APP-206<br><b>Feature Type:</b> exon<br><b>Feature Number:</b> 8<br><b>Chromosome:</b> 21<br><b>Start:</b> 25975954<br><b>End:</b> 25976028<br><b>Size:</b> 74<br><extra></extra>",
         "legendgroup": "protein_coding",
         "legendgrouptitle": {
          "text": ""
         },
         "line": {
          "color": "black",
          "width": 0.25
         },
         "marker": {
          "opacity": 0
         },
         "mode": "lines+markers",
         "name": "protein_coding",
         "opacity": 1,
         "showlegend": false,
         "type": "scatter",
         "x": [
          3120,
          3194,
          3194,
          3120,
          3120
         ],
         "xaxis": "x",
         "y": [
          1.85,
          1.85,
          2.15,
          2.15,
          1.85
         ],
         "yaxis": "y"
        },
        {
         "fill": "toself",
         "fillcolor": "#636EFA",
         "hoverlabel": {
          "namelength": -1
         },
         "hoveron": "fills+points",
         "hovertemplate": "<b>transcript_name:</b> APP-206<br><b>Feature Type:</b> exon<br><b>Feature Number:</b> 7<br><b>Chromosome:</b> 21<br><b>Start:</b> 25982344<br><b>End:</b> 25982477<br><b>Size:</b> 133<br><extra></extra>",
         "legendgroup": "protein_coding",
         "legendgrouptitle": {
          "text": ""
         },
         "line": {
          "color": "black",
          "width": 0.25
         },
         "marker": {
          "opacity": 0
         },
         "mode": "lines+markers",
         "name": "protein_coding",
         "opacity": 1,
         "showlegend": false,
         "type": "scatter",
         "x": [
          3295,
          3428,
          3428,
          3295,
          3295
         ],
         "xaxis": "x",
         "y": [
          1.85,
          1.85,
          2.15,
          2.15,
          1.85
         ],
         "yaxis": "y"
        },
        {
         "fill": "toself",
         "fillcolor": "#636EFA",
         "hoverlabel": {
          "namelength": -1
         },
         "hoveron": "fills+points",
         "hovertemplate": "<b>transcript_name:</b> APP-206<br><b>Feature Type:</b> exon<br><b>Feature Number:</b> 6<br><b>Chromosome:</b> 21<br><b>Start:</b> 26021840<br><b>End:</b> 26022042<br><b>Size:</b> 202<br><extra></extra>",
         "legendgroup": "protein_coding",
         "legendgrouptitle": {
          "text": ""
         },
         "line": {
          "color": "black",
          "width": 0.25
         },
         "marker": {
          "opacity": 0
         },
         "mode": "lines+markers",
         "name": "protein_coding",
         "opacity": 1,
         "showlegend": false,
         "type": "scatter",
         "x": [
          3954,
          4156,
          4156,
          3954,
          3954
         ],
         "xaxis": "x",
         "y": [
          1.85,
          1.85,
          2.15,
          2.15,
          1.85
         ],
         "yaxis": "y"
        },
        {
         "fill": "toself",
         "fillcolor": "#636EFA",
         "hoverlabel": {
          "namelength": -1
         },
         "hoveron": "fills+points",
         "hovertemplate": "<b>transcript_name:</b> APP-206<br><b>Feature Type:</b> exon<br><b>Feature Number:</b> 5<br><b>Chromosome:</b> 21<br><b>Start:</b> 26051000<br><b>End:</b> 26051193<br><b>Size:</b> 193<br><extra></extra>",
         "legendgroup": "protein_coding",
         "legendgrouptitle": {
          "text": ""
         },
         "line": {
          "color": "black",
          "width": 0.25
         },
         "marker": {
          "opacity": 0
         },
         "mode": "lines+markers",
         "name": "protein_coding",
         "opacity": 1,
         "showlegend": false,
         "type": "scatter",
         "x": [
          4257,
          4450,
          4450,
          4257,
          4257
         ],
         "xaxis": "x",
         "y": [
          1.85,
          1.85,
          2.15,
          2.15,
          1.85
         ],
         "yaxis": "y"
        },
        {
         "fill": "toself",
         "fillcolor": "#636EFA",
         "hoverlabel": {
          "namelength": -1
         },
         "hoveron": "fills+points",
         "hovertemplate": "<b>transcript_name:</b> APP-206<br><b>Feature Type:</b> exon<br><b>Feature Number:</b> 4<br><b>Chromosome:</b> 21<br><b>Start:</b> 26053236<br><b>End:</b> 26053348<br><b>Size:</b> 112<br><extra></extra>",
         "legendgroup": "protein_coding",
         "legendgrouptitle": {
          "text": ""
         },
         "line": {
          "color": "black",
          "width": 0.25
         },
         "marker": {
          "opacity": 0
         },
         "mode": "lines+markers",
         "name": "protein_coding",
         "opacity": 1,
         "showlegend": false,
         "type": "scatter",
         "x": [
          4551,
          4663,
          4663,
          4551,
          4551
         ],
         "xaxis": "x",
         "y": [
          1.85,
          1.85,
          2.15,
          2.15,
          1.85
         ],
         "yaxis": "y"
        },
        {
         "fill": "toself",
         "fillcolor": "#636EFA",
         "hoverlabel": {
          "namelength": -1
         },
         "hoveron": "fills+points",
         "hovertemplate": "<b>transcript_name:</b> APP-206<br><b>Feature Type:</b> exon<br><b>Feature Number:</b> 3<br><b>Chromosome:</b> 21<br><b>Start:</b> 26089943<br><b>End:</b> 26090072<br><b>Size:</b> 129<br><extra></extra>",
         "legendgroup": "protein_coding",
         "legendgrouptitle": {
          "text": ""
         },
         "line": {
          "color": "black",
          "width": 0.25
         },
         "marker": {
          "opacity": 0
         },
         "mode": "lines+markers",
         "name": "protein_coding",
         "opacity": 1,
         "showlegend": false,
         "type": "scatter",
         "x": [
          4764,
          4893,
          4893,
          4764,
          4764
         ],
         "xaxis": "x",
         "y": [
          1.85,
          1.85,
          2.15,
          2.15,
          1.85
         ],
         "yaxis": "y"
        },
        {
         "fill": "toself",
         "fillcolor": "#636EFA",
         "hoverlabel": {
          "namelength": -1
         },
         "hoveron": "fills+points",
         "hovertemplate": "<b>transcript_name:</b> APP-206<br><b>Feature Type:</b> exon<br><b>Feature Number:</b> 2<br><b>Chromosome:</b> 21<br><b>Start:</b> 26111979<br><b>End:</b> 26112146<br><b>Size:</b> 167<br><extra></extra>",
         "legendgroup": "protein_coding",
         "legendgrouptitle": {
          "text": ""
         },
         "line": {
          "color": "black",
          "width": 0.25
         },
         "marker": {
          "opacity": 0
         },
         "mode": "lines+markers",
         "name": "protein_coding",
         "opacity": 1,
         "showlegend": false,
         "type": "scatter",
         "x": [
          4994,
          5161,
          5161,
          4994,
          4994
         ],
         "xaxis": "x",
         "y": [
          1.85,
          1.85,
          2.15,
          2.15,
          1.85
         ],
         "yaxis": "y"
        },
        {
         "fill": "toself",
         "fillcolor": "#636EFA",
         "hoverlabel": {
          "namelength": -1
         },
         "hoveron": "fills+points",
         "hovertemplate": "<b>transcript_name:</b> APP-206<br><b>Feature Type:</b> exon<br><b>Feature Number:</b> 1<br><b>Chromosome:</b> 21<br><b>Start:</b> 26170985<br><b>End:</b> 26171128<br><b>Size:</b> 143<br><extra></extra>",
         "legendgroup": "protein_coding",
         "legendgrouptitle": {
          "text": ""
         },
         "line": {
          "color": "black",
          "width": 0.25
         },
         "marker": {
          "opacity": 0
         },
         "mode": "lines+markers",
         "name": "protein_coding",
         "opacity": 1,
         "showlegend": false,
         "type": "scatter",
         "x": [
          5586,
          5729,
          5729,
          5586,
          5586
         ],
         "xaxis": "x",
         "y": [
          1.85,
          1.85,
          2.15,
          2.15,
          1.85
         ],
         "yaxis": "y"
        },
        {
         "fill": "toself",
         "fillcolor": "#636EFA",
         "hoverlabel": {
          "namelength": -1
         },
         "hoveron": "fills+points",
         "hovertemplate": "<b>transcript_name:</b> APP-204<br><b>Feature Type:</b> exon<br><b>Feature Number:</b> 17<br><b>Chromosome:</b> 21<br><b>Start:</b> 25880550<br><b>End:</b> 25881771<br><b>Size:</b> 1221<br><extra></extra>",
         "legendgroup": "protein_coding",
         "legendgrouptitle": {
          "text": ""
         },
         "line": {
          "color": "black",
          "width": 0.25
         },
         "marker": {
          "opacity": 0
         },
         "mode": "lines+markers",
         "name": "protein_coding",
         "opacity": 1,
         "showlegend": false,
         "type": "scatter",
         "x": [
          2,
          1223,
          1223,
          2,
          2
         ],
         "xaxis": "x",
         "y": [
          2.85,
          2.85,
          3.15,
          3.15,
          2.85
         ],
         "yaxis": "y"
        },
        {
         "fill": "toself",
         "fillcolor": "#636EFA",
         "hoverlabel": {
          "namelength": -1
         },
         "hoveron": "fills+points",
         "hovertemplate": "<b>transcript_name:</b> APP-204<br><b>Feature Type:</b> exon<br><b>Feature Number:</b> 16<br><b>Chromosome:</b> 21<br><b>Start:</b> 25891722<br><b>End:</b> 25891868<br><b>Size:</b> 146<br><extra></extra>",
         "legendgroup": "protein_coding",
         "legendgrouptitle": {
          "text": ""
         },
         "line": {
          "color": "black",
          "width": 0.25
         },
         "marker": {
          "opacity": 0
         },
         "mode": "lines+markers",
         "name": "protein_coding",
         "opacity": 1,
         "showlegend": false,
         "type": "scatter",
         "x": [
          1324,
          1470,
          1470,
          1324,
          1324
         ],
         "xaxis": "x",
         "y": [
          2.85,
          2.85,
          3.15,
          3.15,
          2.85
         ],
         "yaxis": "y"
        },
        {
         "fill": "toself",
         "fillcolor": "#636EFA",
         "hoverlabel": {
          "namelength": -1
         },
         "hoveron": "fills+points",
         "hovertemplate": "<b>transcript_name:</b> APP-204<br><b>Feature Type:</b> exon<br><b>Feature Number:</b> 15<br><b>Chromosome:</b> 21<br><b>Start:</b> 25897573<br><b>End:</b> 25897673<br><b>Size:</b> 100<br><extra></extra>",
         "legendgroup": "protein_coding",
         "legendgrouptitle": {
          "text": ""
         },
         "line": {
          "color": "black",
          "width": 0.25
         },
         "marker": {
          "opacity": 0
         },
         "mode": "lines+markers",
         "name": "protein_coding",
         "opacity": 1,
         "showlegend": false,
         "type": "scatter",
         "x": [
          1571,
          1671,
          1671,
          1571,
          1571
         ],
         "xaxis": "x",
         "y": [
          2.85,
          2.85,
          3.15,
          3.15,
          2.85
         ],
         "yaxis": "y"
        },
        {
         "fill": "toself",
         "fillcolor": "#636EFA",
         "hoverlabel": {
          "namelength": -1
         },
         "hoveron": "fills+points",
         "hovertemplate": "<b>transcript_name:</b> APP-204<br><b>Feature Type:</b> exon<br><b>Feature Number:</b> 14<br><b>Chromosome:</b> 21<br><b>Start:</b> 25905024<br><b>End:</b> 25905077<br><b>Size:</b> 53<br><extra></extra>",
         "legendgroup": "protein_coding",
         "legendgrouptitle": {
          "text": ""
         },
         "line": {
          "color": "black",
          "width": 0.25
         },
         "marker": {
          "opacity": 0
         },
         "mode": "lines+markers",
         "name": "protein_coding",
         "opacity": 1,
         "showlegend": false,
         "type": "scatter",
         "x": [
          1772,
          1825,
          1825,
          1772,
          1772
         ],
         "xaxis": "x",
         "y": [
          2.85,
          2.85,
          3.15,
          3.15,
          2.85
         ],
         "yaxis": "y"
        },
        {
         "fill": "toself",
         "fillcolor": "#636EFA",
         "hoverlabel": {
          "namelength": -1
         },
         "hoveron": "fills+points",
         "hovertemplate": "<b>transcript_name:</b> APP-204<br><b>Feature Type:</b> exon<br><b>Feature Number:</b> 13<br><b>Chromosome:</b> 21<br><b>Start:</b> 25911741<br><b>End:</b> 25911962<br><b>Size:</b> 221<br><extra></extra>",
         "legendgroup": "protein_coding",
         "legendgrouptitle": {
          "text": ""
         },
         "line": {
          "color": "black",
          "width": 0.25
         },
         "marker": {
          "opacity": 0
         },
         "mode": "lines+markers",
         "name": "protein_coding",
         "opacity": 1,
         "showlegend": false,
         "type": "scatter",
         "x": [
          1926,
          2147,
          2147,
          1926,
          1926
         ],
         "xaxis": "x",
         "y": [
          2.85,
          2.85,
          3.15,
          3.15,
          2.85
         ],
         "yaxis": "y"
        },
        {
         "fill": "toself",
         "fillcolor": "#636EFA",
         "hoverlabel": {
          "namelength": -1
         },
         "hoveron": "fills+points",
         "hovertemplate": "<b>transcript_name:</b> APP-204<br><b>Feature Type:</b> exon<br><b>Feature Number:</b> 12<br><b>Chromosome:</b> 21<br><b>Start:</b> 25954590<br><b>End:</b> 25954689<br><b>Size:</b> 99<br><extra></extra>",
         "legendgroup": "protein_coding",
         "legendgrouptitle": {
          "text": ""
         },
         "line": {
          "color": "black",
          "width": 0.25
         },
         "marker": {
          "opacity": 0
         },
         "mode": "lines+markers",
         "name": "protein_coding",
         "opacity": 1,
         "showlegend": false,
         "type": "scatter",
         "x": [
          2432,
          2531,
          2531,
          2432,
          2432
         ],
         "xaxis": "x",
         "y": [
          2.85,
          2.85,
          3.15,
          3.15,
          2.85
         ],
         "yaxis": "y"
        },
        {
         "fill": "toself",
         "fillcolor": "#636EFA",
         "hoverlabel": {
          "namelength": -1
         },
         "hoveron": "fills+points",
         "hovertemplate": "<b>transcript_name:</b> APP-204<br><b>Feature Type:</b> exon<br><b>Feature Number:</b> 11<br><b>Chromosome:</b> 21<br><b>Start:</b> 25955627<br><b>End:</b> 25955755<br><b>Size:</b> 128<br><extra></extra>",
         "legendgroup": "protein_coding",
         "legendgrouptitle": {
          "text": ""
         },
         "line": {
          "color": "black",
          "width": 0.25
         },
         "marker": {
          "opacity": 0
         },
         "mode": "lines+markers",
         "name": "protein_coding",
         "opacity": 1,
         "showlegend": false,
         "type": "scatter",
         "x": [
          2632,
          2760,
          2760,
          2632,
          2632
         ],
         "xaxis": "x",
         "y": [
          2.85,
          2.85,
          3.15,
          3.15,
          2.85
         ],
         "yaxis": "y"
        },
        {
         "fill": "toself",
         "fillcolor": "#636EFA",
         "hoverlabel": {
          "namelength": -1
         },
         "hoveron": "fills+points",
         "hovertemplate": "<b>transcript_name:</b> APP-204<br><b>Feature Type:</b> exon<br><b>Feature Number:</b> 10<br><b>Chromosome:</b> 21<br><b>Start:</b> 25975070<br><b>End:</b> 25975228<br><b>Size:</b> 158<br><extra></extra>",
         "legendgroup": "protein_coding",
         "legendgrouptitle": {
          "text": ""
         },
         "line": {
          "color": "black",
          "width": 0.25
         },
         "marker": {
          "opacity": 0
         },
         "mode": "lines+markers",
         "name": "protein_coding",
         "opacity": 1,
         "showlegend": false,
         "type": "scatter",
         "x": [
          2861,
          3019,
          3019,
          2861,
          2861
         ],
         "xaxis": "x",
         "y": [
          2.85,
          2.85,
          3.15,
          3.15,
          2.85
         ],
         "yaxis": "y"
        },
        {
         "fill": "toself",
         "fillcolor": "#636EFA",
         "hoverlabel": {
          "namelength": -1
         },
         "hoveron": "fills+points",
         "hovertemplate": "<b>transcript_name:</b> APP-204<br><b>Feature Type:</b> exon<br><b>Feature Number:</b> 9<br><b>Chromosome:</b> 21<br><b>Start:</b> 25975954<br><b>End:</b> 25976028<br><b>Size:</b> 74<br><extra></extra>",
         "legendgroup": "protein_coding",
         "legendgrouptitle": {
          "text": ""
         },
         "line": {
          "color": "black",
          "width": 0.25
         },
         "marker": {
          "opacity": 0
         },
         "mode": "lines+markers",
         "name": "protein_coding",
         "opacity": 1,
         "showlegend": false,
         "type": "scatter",
         "x": [
          3120,
          3194,
          3194,
          3120,
          3120
         ],
         "xaxis": "x",
         "y": [
          2.85,
          2.85,
          3.15,
          3.15,
          2.85
         ],
         "yaxis": "y"
        },
        {
         "fill": "toself",
         "fillcolor": "#636EFA",
         "hoverlabel": {
          "namelength": -1
         },
         "hoveron": "fills+points",
         "hovertemplate": "<b>transcript_name:</b> APP-204<br><b>Feature Type:</b> exon<br><b>Feature Number:</b> 8<br><b>Chromosome:</b> 21<br><b>Start:</b> 25982344<br><b>End:</b> 25982477<br><b>Size:</b> 133<br><extra></extra>",
         "legendgroup": "protein_coding",
         "legendgrouptitle": {
          "text": ""
         },
         "line": {
          "color": "black",
          "width": 0.25
         },
         "marker": {
          "opacity": 0
         },
         "mode": "lines+markers",
         "name": "protein_coding",
         "opacity": 1,
         "showlegend": false,
         "type": "scatter",
         "x": [
          3295,
          3428,
          3428,
          3295,
          3295
         ],
         "xaxis": "x",
         "y": [
          2.85,
          2.85,
          3.15,
          3.15,
          2.85
         ],
         "yaxis": "y"
        },
        {
         "fill": "toself",
         "fillcolor": "#636EFA",
         "hoverlabel": {
          "namelength": -1
         },
         "hoveron": "fills+points",
         "hovertemplate": "<b>transcript_name:</b> APP-204<br><b>Feature Type:</b> exon<br><b>Feature Number:</b> 7<br><b>Chromosome:</b> 21<br><b>Start:</b> 26000015<br><b>End:</b> 26000182<br><b>Size:</b> 167<br><extra></extra>",
         "legendgroup": "protein_coding",
         "legendgrouptitle": {
          "text": ""
         },
         "line": {
          "color": "black",
          "width": 0.25
         },
         "marker": {
          "opacity": 0
         },
         "mode": "lines+markers",
         "name": "protein_coding",
         "opacity": 1,
         "showlegend": false,
         "type": "scatter",
         "x": [
          3686,
          3853,
          3853,
          3686,
          3686
         ],
         "xaxis": "x",
         "y": [
          2.85,
          2.85,
          3.15,
          3.15,
          2.85
         ],
         "yaxis": "y"
        },
        {
         "fill": "toself",
         "fillcolor": "#636EFA",
         "hoverlabel": {
          "namelength": -1
         },
         "hoveron": "fills+points",
         "hovertemplate": "<b>transcript_name:</b> APP-204<br><b>Feature Type:</b> exon<br><b>Feature Number:</b> 6<br><b>Chromosome:</b> 21<br><b>Start:</b> 26021840<br><b>End:</b> 26022042<br><b>Size:</b> 202<br><extra></extra>",
         "legendgroup": "protein_coding",
         "legendgrouptitle": {
          "text": ""
         },
         "line": {
          "color": "black",
          "width": 0.25
         },
         "marker": {
          "opacity": 0
         },
         "mode": "lines+markers",
         "name": "protein_coding",
         "opacity": 1,
         "showlegend": false,
         "type": "scatter",
         "x": [
          3954,
          4156,
          4156,
          3954,
          3954
         ],
         "xaxis": "x",
         "y": [
          2.85,
          2.85,
          3.15,
          3.15,
          2.85
         ],
         "yaxis": "y"
        },
        {
         "fill": "toself",
         "fillcolor": "#636EFA",
         "hoverlabel": {
          "namelength": -1
         },
         "hoveron": "fills+points",
         "hovertemplate": "<b>transcript_name:</b> APP-204<br><b>Feature Type:</b> exon<br><b>Feature Number:</b> 5<br><b>Chromosome:</b> 21<br><b>Start:</b> 26051000<br><b>End:</b> 26051193<br><b>Size:</b> 193<br><extra></extra>",
         "legendgroup": "protein_coding",
         "legendgrouptitle": {
          "text": ""
         },
         "line": {
          "color": "black",
          "width": 0.25
         },
         "marker": {
          "opacity": 0
         },
         "mode": "lines+markers",
         "name": "protein_coding",
         "opacity": 1,
         "showlegend": false,
         "type": "scatter",
         "x": [
          4257,
          4450,
          4450,
          4257,
          4257
         ],
         "xaxis": "x",
         "y": [
          2.85,
          2.85,
          3.15,
          3.15,
          2.85
         ],
         "yaxis": "y"
        },
        {
         "fill": "toself",
         "fillcolor": "#636EFA",
         "hoverlabel": {
          "namelength": -1
         },
         "hoveron": "fills+points",
         "hovertemplate": "<b>transcript_name:</b> APP-204<br><b>Feature Type:</b> exon<br><b>Feature Number:</b> 4<br><b>Chromosome:</b> 21<br><b>Start:</b> 26053236<br><b>End:</b> 26053348<br><b>Size:</b> 112<br><extra></extra>",
         "legendgroup": "protein_coding",
         "legendgrouptitle": {
          "text": ""
         },
         "line": {
          "color": "black",
          "width": 0.25
         },
         "marker": {
          "opacity": 0
         },
         "mode": "lines+markers",
         "name": "protein_coding",
         "opacity": 1,
         "showlegend": false,
         "type": "scatter",
         "x": [
          4551,
          4663,
          4663,
          4551,
          4551
         ],
         "xaxis": "x",
         "y": [
          2.85,
          2.85,
          3.15,
          3.15,
          2.85
         ],
         "yaxis": "y"
        },
        {
         "fill": "toself",
         "fillcolor": "#636EFA",
         "hoverlabel": {
          "namelength": -1
         },
         "hoveron": "fills+points",
         "hovertemplate": "<b>transcript_name:</b> APP-204<br><b>Feature Type:</b> exon<br><b>Feature Number:</b> 3<br><b>Chromosome:</b> 21<br><b>Start:</b> 26089943<br><b>End:</b> 26090072<br><b>Size:</b> 129<br><extra></extra>",
         "legendgroup": "protein_coding",
         "legendgrouptitle": {
          "text": ""
         },
         "line": {
          "color": "black",
          "width": 0.25
         },
         "marker": {
          "opacity": 0
         },
         "mode": "lines+markers",
         "name": "protein_coding",
         "opacity": 1,
         "showlegend": false,
         "type": "scatter",
         "x": [
          4764,
          4893,
          4893,
          4764,
          4764
         ],
         "xaxis": "x",
         "y": [
          2.85,
          2.85,
          3.15,
          3.15,
          2.85
         ],
         "yaxis": "y"
        },
        {
         "fill": "toself",
         "fillcolor": "#636EFA",
         "hoverlabel": {
          "namelength": -1
         },
         "hoveron": "fills+points",
         "hovertemplate": "<b>transcript_name:</b> APP-204<br><b>Feature Type:</b> exon<br><b>Feature Number:</b> 2<br><b>Chromosome:</b> 21<br><b>Start:</b> 26111979<br><b>End:</b> 26112146<br><b>Size:</b> 167<br><extra></extra>",
         "legendgroup": "protein_coding",
         "legendgrouptitle": {
          "text": ""
         },
         "line": {
          "color": "black",
          "width": 0.25
         },
         "marker": {
          "opacity": 0
         },
         "mode": "lines+markers",
         "name": "protein_coding",
         "opacity": 1,
         "showlegend": false,
         "type": "scatter",
         "x": [
          4994,
          5161,
          5161,
          4994,
          4994
         ],
         "xaxis": "x",
         "y": [
          2.85,
          2.85,
          3.15,
          3.15,
          2.85
         ],
         "yaxis": "y"
        },
        {
         "fill": "toself",
         "fillcolor": "#636EFA",
         "hoverlabel": {
          "namelength": -1
         },
         "hoveron": "fills+points",
         "hovertemplate": "<b>transcript_name:</b> APP-204<br><b>Feature Type:</b> exon<br><b>Feature Number:</b> 1<br><b>Chromosome:</b> 21<br><b>Start:</b> 26170564<br><b>End:</b> 26170787<br><b>Size:</b> 223<br><extra></extra>",
         "legendgroup": "protein_coding",
         "legendgrouptitle": {
          "text": ""
         },
         "line": {
          "color": "black",
          "width": 0.25
         },
         "marker": {
          "opacity": 0
         },
         "mode": "lines+markers",
         "name": "protein_coding",
         "opacity": 1,
         "showlegend": false,
         "type": "scatter",
         "x": [
          5262,
          5485,
          5485,
          5262,
          5262
         ],
         "xaxis": "x",
         "y": [
          2.85,
          2.85,
          3.15,
          3.15,
          2.85
         ],
         "yaxis": "y"
        },
        {
         "fill": "toself",
         "fillcolor": "#636EFA",
         "hoverlabel": {
          "namelength": -1
         },
         "hoveron": "fills+points",
         "hovertemplate": "<b>transcript_name:</b> APP-202<br><b>Feature Type:</b> exon<br><b>Feature Number:</b> 16<br><b>Chromosome:</b> 21<br><b>Start:</b> 25880550<br><b>End:</b> 25881771<br><b>Size:</b> 1221<br><extra></extra>",
         "legendgroup": "protein_coding",
         "legendgrouptitle": {
          "text": ""
         },
         "line": {
          "color": "black",
          "width": 0.25
         },
         "marker": {
          "opacity": 0
         },
         "mode": "lines+markers",
         "name": "protein_coding",
         "opacity": 1,
         "showlegend": false,
         "type": "scatter",
         "x": [
          2,
          1223,
          1223,
          2,
          2
         ],
         "xaxis": "x",
         "y": [
          3.85,
          3.85,
          4.15,
          4.15,
          3.85
         ],
         "yaxis": "y"
        },
        {
         "fill": "toself",
         "fillcolor": "#636EFA",
         "hoverlabel": {
          "namelength": -1
         },
         "hoveron": "fills+points",
         "hovertemplate": "<b>transcript_name:</b> APP-202<br><b>Feature Type:</b> exon<br><b>Feature Number:</b> 15<br><b>Chromosome:</b> 21<br><b>Start:</b> 25891722<br><b>End:</b> 25891868<br><b>Size:</b> 146<br><extra></extra>",
         "legendgroup": "protein_coding",
         "legendgrouptitle": {
          "text": ""
         },
         "line": {
          "color": "black",
          "width": 0.25
         },
         "marker": {
          "opacity": 0
         },
         "mode": "lines+markers",
         "name": "protein_coding",
         "opacity": 1,
         "showlegend": false,
         "type": "scatter",
         "x": [
          1324,
          1470,
          1470,
          1324,
          1324
         ],
         "xaxis": "x",
         "y": [
          3.85,
          3.85,
          4.15,
          4.15,
          3.85
         ],
         "yaxis": "y"
        },
        {
         "fill": "toself",
         "fillcolor": "#636EFA",
         "hoverlabel": {
          "namelength": -1
         },
         "hoveron": "fills+points",
         "hovertemplate": "<b>transcript_name:</b> APP-202<br><b>Feature Type:</b> exon<br><b>Feature Number:</b> 14<br><b>Chromosome:</b> 21<br><b>Start:</b> 25897573<br><b>End:</b> 25897673<br><b>Size:</b> 100<br><extra></extra>",
         "legendgroup": "protein_coding",
         "legendgrouptitle": {
          "text": ""
         },
         "line": {
          "color": "black",
          "width": 0.25
         },
         "marker": {
          "opacity": 0
         },
         "mode": "lines+markers",
         "name": "protein_coding",
         "opacity": 1,
         "showlegend": false,
         "type": "scatter",
         "x": [
          1571,
          1671,
          1671,
          1571,
          1571
         ],
         "xaxis": "x",
         "y": [
          3.85,
          3.85,
          4.15,
          4.15,
          3.85
         ],
         "yaxis": "y"
        },
        {
         "fill": "toself",
         "fillcolor": "#636EFA",
         "hoverlabel": {
          "namelength": -1
         },
         "hoveron": "fills+points",
         "hovertemplate": "<b>transcript_name:</b> APP-202<br><b>Feature Type:</b> exon<br><b>Feature Number:</b> 13<br><b>Chromosome:</b> 21<br><b>Start:</b> 25905024<br><b>End:</b> 25905077<br><b>Size:</b> 53<br><extra></extra>",
         "legendgroup": "protein_coding",
         "legendgrouptitle": {
          "text": ""
         },
         "line": {
          "color": "black",
          "width": 0.25
         },
         "marker": {
          "opacity": 0
         },
         "mode": "lines+markers",
         "name": "protein_coding",
         "opacity": 1,
         "showlegend": false,
         "type": "scatter",
         "x": [
          1772,
          1825,
          1825,
          1772,
          1772
         ],
         "xaxis": "x",
         "y": [
          3.85,
          3.85,
          4.15,
          4.15,
          3.85
         ],
         "yaxis": "y"
        },
        {
         "fill": "toself",
         "fillcolor": "#636EFA",
         "hoverlabel": {
          "namelength": -1
         },
         "hoveron": "fills+points",
         "hovertemplate": "<b>transcript_name:</b> APP-202<br><b>Feature Type:</b> exon<br><b>Feature Number:</b> 12<br><b>Chromosome:</b> 21<br><b>Start:</b> 25911741<br><b>End:</b> 25911962<br><b>Size:</b> 221<br><extra></extra>",
         "legendgroup": "protein_coding",
         "legendgrouptitle": {
          "text": ""
         },
         "line": {
          "color": "black",
          "width": 0.25
         },
         "marker": {
          "opacity": 0
         },
         "mode": "lines+markers",
         "name": "protein_coding",
         "opacity": 1,
         "showlegend": false,
         "type": "scatter",
         "x": [
          1926,
          2147,
          2147,
          1926,
          1926
         ],
         "xaxis": "x",
         "y": [
          3.85,
          3.85,
          4.15,
          4.15,
          3.85
         ],
         "yaxis": "y"
        },
        {
         "fill": "toself",
         "fillcolor": "#636EFA",
         "hoverlabel": {
          "namelength": -1
         },
         "hoveron": "fills+points",
         "hovertemplate": "<b>transcript_name:</b> APP-202<br><b>Feature Type:</b> exon<br><b>Feature Number:</b> 11<br><b>Chromosome:</b> 21<br><b>Start:</b> 25954590<br><b>End:</b> 25954689<br><b>Size:</b> 99<br><extra></extra>",
         "legendgroup": "protein_coding",
         "legendgrouptitle": {
          "text": ""
         },
         "line": {
          "color": "black",
          "width": 0.25
         },
         "marker": {
          "opacity": 0
         },
         "mode": "lines+markers",
         "name": "protein_coding",
         "opacity": 1,
         "showlegend": false,
         "type": "scatter",
         "x": [
          2432,
          2531,
          2531,
          2432,
          2432
         ],
         "xaxis": "x",
         "y": [
          3.85,
          3.85,
          4.15,
          4.15,
          3.85
         ],
         "yaxis": "y"
        },
        {
         "fill": "toself",
         "fillcolor": "#636EFA",
         "hoverlabel": {
          "namelength": -1
         },
         "hoveron": "fills+points",
         "hovertemplate": "<b>transcript_name:</b> APP-202<br><b>Feature Type:</b> exon<br><b>Feature Number:</b> 10<br><b>Chromosome:</b> 21<br><b>Start:</b> 25955627<br><b>End:</b> 25955755<br><b>Size:</b> 128<br><extra></extra>",
         "legendgroup": "protein_coding",
         "legendgrouptitle": {
          "text": ""
         },
         "line": {
          "color": "black",
          "width": 0.25
         },
         "marker": {
          "opacity": 0
         },
         "mode": "lines+markers",
         "name": "protein_coding",
         "opacity": 1,
         "showlegend": false,
         "type": "scatter",
         "x": [
          2632,
          2760,
          2760,
          2632,
          2632
         ],
         "xaxis": "x",
         "y": [
          3.85,
          3.85,
          4.15,
          4.15,
          3.85
         ],
         "yaxis": "y"
        },
        {
         "fill": "toself",
         "fillcolor": "#636EFA",
         "hoverlabel": {
          "namelength": -1
         },
         "hoveron": "fills+points",
         "hovertemplate": "<b>transcript_name:</b> APP-202<br><b>Feature Type:</b> exon<br><b>Feature Number:</b> 9<br><b>Chromosome:</b> 21<br><b>Start:</b> 25975070<br><b>End:</b> 25975228<br><b>Size:</b> 158<br><extra></extra>",
         "legendgroup": "protein_coding",
         "legendgrouptitle": {
          "text": ""
         },
         "line": {
          "color": "black",
          "width": 0.25
         },
         "marker": {
          "opacity": 0
         },
         "mode": "lines+markers",
         "name": "protein_coding",
         "opacity": 1,
         "showlegend": false,
         "type": "scatter",
         "x": [
          2861,
          3019,
          3019,
          2861,
          2861
         ],
         "xaxis": "x",
         "y": [
          3.85,
          3.85,
          4.15,
          4.15,
          3.85
         ],
         "yaxis": "y"
        },
        {
         "fill": "toself",
         "fillcolor": "#636EFA",
         "hoverlabel": {
          "namelength": -1
         },
         "hoveron": "fills+points",
         "hovertemplate": "<b>transcript_name:</b> APP-202<br><b>Feature Type:</b> exon<br><b>Feature Number:</b> 8<br><b>Chromosome:</b> 21<br><b>Start:</b> 25975954<br><b>End:</b> 25976028<br><b>Size:</b> 74<br><extra></extra>",
         "legendgroup": "protein_coding",
         "legendgrouptitle": {
          "text": ""
         },
         "line": {
          "color": "black",
          "width": 0.25
         },
         "marker": {
          "opacity": 0
         },
         "mode": "lines+markers",
         "name": "protein_coding",
         "opacity": 1,
         "showlegend": false,
         "type": "scatter",
         "x": [
          3120,
          3194,
          3194,
          3120,
          3120
         ],
         "xaxis": "x",
         "y": [
          3.85,
          3.85,
          4.15,
          4.15,
          3.85
         ],
         "yaxis": "y"
        },
        {
         "fill": "toself",
         "fillcolor": "#636EFA",
         "hoverlabel": {
          "namelength": -1
         },
         "hoveron": "fills+points",
         "hovertemplate": "<b>transcript_name:</b> APP-202<br><b>Feature Type:</b> exon<br><b>Feature Number:</b> 7<br><b>Chromosome:</b> 21<br><b>Start:</b> 25982344<br><b>End:</b> 25982477<br><b>Size:</b> 133<br><extra></extra>",
         "legendgroup": "protein_coding",
         "legendgrouptitle": {
          "text": ""
         },
         "line": {
          "color": "black",
          "width": 0.25
         },
         "marker": {
          "opacity": 0
         },
         "mode": "lines+markers",
         "name": "protein_coding",
         "opacity": 1,
         "showlegend": false,
         "type": "scatter",
         "x": [
          3295,
          3428,
          3428,
          3295,
          3295
         ],
         "xaxis": "x",
         "y": [
          3.85,
          3.85,
          4.15,
          4.15,
          3.85
         ],
         "yaxis": "y"
        },
        {
         "fill": "toself",
         "fillcolor": "#636EFA",
         "hoverlabel": {
          "namelength": -1
         },
         "hoveron": "fills+points",
         "hovertemplate": "<b>transcript_name:</b> APP-202<br><b>Feature Type:</b> exon<br><b>Feature Number:</b> 6<br><b>Chromosome:</b> 21<br><b>Start:</b> 26021840<br><b>End:</b> 26022042<br><b>Size:</b> 202<br><extra></extra>",
         "legendgroup": "protein_coding",
         "legendgrouptitle": {
          "text": ""
         },
         "line": {
          "color": "black",
          "width": 0.25
         },
         "marker": {
          "opacity": 0
         },
         "mode": "lines+markers",
         "name": "protein_coding",
         "opacity": 1,
         "showlegend": false,
         "type": "scatter",
         "x": [
          3954,
          4156,
          4156,
          3954,
          3954
         ],
         "xaxis": "x",
         "y": [
          3.85,
          3.85,
          4.15,
          4.15,
          3.85
         ],
         "yaxis": "y"
        },
        {
         "fill": "toself",
         "fillcolor": "#636EFA",
         "hoverlabel": {
          "namelength": -1
         },
         "hoveron": "fills+points",
         "hovertemplate": "<b>transcript_name:</b> APP-202<br><b>Feature Type:</b> exon<br><b>Feature Number:</b> 5<br><b>Chromosome:</b> 21<br><b>Start:</b> 26051000<br><b>End:</b> 26051193<br><b>Size:</b> 193<br><extra></extra>",
         "legendgroup": "protein_coding",
         "legendgrouptitle": {
          "text": ""
         },
         "line": {
          "color": "black",
          "width": 0.25
         },
         "marker": {
          "opacity": 0
         },
         "mode": "lines+markers",
         "name": "protein_coding",
         "opacity": 1,
         "showlegend": false,
         "type": "scatter",
         "x": [
          4257,
          4450,
          4450,
          4257,
          4257
         ],
         "xaxis": "x",
         "y": [
          3.85,
          3.85,
          4.15,
          4.15,
          3.85
         ],
         "yaxis": "y"
        },
        {
         "fill": "toself",
         "fillcolor": "#636EFA",
         "hoverlabel": {
          "namelength": -1
         },
         "hoveron": "fills+points",
         "hovertemplate": "<b>transcript_name:</b> APP-202<br><b>Feature Type:</b> exon<br><b>Feature Number:</b> 4<br><b>Chromosome:</b> 21<br><b>Start:</b> 26053236<br><b>End:</b> 26053348<br><b>Size:</b> 112<br><extra></extra>",
         "legendgroup": "protein_coding",
         "legendgrouptitle": {
          "text": ""
         },
         "line": {
          "color": "black",
          "width": 0.25
         },
         "marker": {
          "opacity": 0
         },
         "mode": "lines+markers",
         "name": "protein_coding",
         "opacity": 1,
         "showlegend": false,
         "type": "scatter",
         "x": [
          4551,
          4663,
          4663,
          4551,
          4551
         ],
         "xaxis": "x",
         "y": [
          3.85,
          3.85,
          4.15,
          4.15,
          3.85
         ],
         "yaxis": "y"
        },
        {
         "fill": "toself",
         "fillcolor": "#636EFA",
         "hoverlabel": {
          "namelength": -1
         },
         "hoveron": "fills+points",
         "hovertemplate": "<b>transcript_name:</b> APP-202<br><b>Feature Type:</b> exon<br><b>Feature Number:</b> 3<br><b>Chromosome:</b> 21<br><b>Start:</b> 26089943<br><b>End:</b> 26090072<br><b>Size:</b> 129<br><extra></extra>",
         "legendgroup": "protein_coding",
         "legendgrouptitle": {
          "text": ""
         },
         "line": {
          "color": "black",
          "width": 0.25
         },
         "marker": {
          "opacity": 0
         },
         "mode": "lines+markers",
         "name": "protein_coding",
         "opacity": 1,
         "showlegend": false,
         "type": "scatter",
         "x": [
          4764,
          4893,
          4893,
          4764,
          4764
         ],
         "xaxis": "x",
         "y": [
          3.85,
          3.85,
          4.15,
          4.15,
          3.85
         ],
         "yaxis": "y"
        },
        {
         "fill": "toself",
         "fillcolor": "#636EFA",
         "hoverlabel": {
          "namelength": -1
         },
         "hoveron": "fills+points",
         "hovertemplate": "<b>transcript_name:</b> APP-202<br><b>Feature Type:</b> exon<br><b>Feature Number:</b> 2<br><b>Chromosome:</b> 21<br><b>Start:</b> 26111979<br><b>End:</b> 26112146<br><b>Size:</b> 167<br><extra></extra>",
         "legendgroup": "protein_coding",
         "legendgrouptitle": {
          "text": ""
         },
         "line": {
          "color": "black",
          "width": 0.25
         },
         "marker": {
          "opacity": 0
         },
         "mode": "lines+markers",
         "name": "protein_coding",
         "opacity": 1,
         "showlegend": false,
         "type": "scatter",
         "x": [
          4994,
          5161,
          5161,
          4994,
          4994
         ],
         "xaxis": "x",
         "y": [
          3.85,
          3.85,
          4.15,
          4.15,
          3.85
         ],
         "yaxis": "y"
        },
        {
         "fill": "toself",
         "fillcolor": "#636EFA",
         "hoverlabel": {
          "namelength": -1
         },
         "hoveron": "fills+points",
         "hovertemplate": "<b>transcript_name:</b> APP-202<br><b>Feature Type:</b> exon<br><b>Feature Number:</b> 1<br><b>Chromosome:</b> 21<br><b>Start:</b> 26170564<br><b>End:</b> 26170767<br><b>Size:</b> 203<br><extra></extra>",
         "legendgroup": "protein_coding",
         "legendgrouptitle": {
          "text": ""
         },
         "line": {
          "color": "black",
          "width": 0.25
         },
         "marker": {
          "opacity": 0
         },
         "mode": "lines+markers",
         "name": "protein_coding",
         "opacity": 1,
         "showlegend": false,
         "type": "scatter",
         "x": [
          5262,
          5465,
          5465,
          5262,
          5262
         ],
         "xaxis": "x",
         "y": [
          3.85,
          3.85,
          4.15,
          4.15,
          3.85
         ],
         "yaxis": "y"
        },
        {
         "fill": "toself",
         "fillcolor": "#636EFA",
         "hoverlabel": {
          "namelength": -1
         },
         "hoveron": "fills+points",
         "hovertemplate": "<b>transcript_name:</b> APP-201<br><b>Feature Type:</b> CDS<br><b>Feature Number:</b> 18<br><b>Chromosome:</b> 21<br><b>Start:</b> 25881673<br><b>End:</b> 25881771<br><b>Size:</b> 98<br><extra></extra>",
         "legendgroup": "protein_coding",
         "legendgrouptitle": {
          "text": ""
         },
         "line": {
          "color": "black",
          "width": 0.25
         },
         "marker": {
          "opacity": 0
         },
         "mode": "lines+markers",
         "name": "protein_coding",
         "opacity": 1,
         "showlegend": false,
         "type": "scatter",
         "x": [
          1125,
          1223,
          1223,
          1125,
          1125
         ],
         "xaxis": "x",
         "y": [
          -0.25,
          -0.25,
          0.25,
          0.25,
          -0.25
         ],
         "yaxis": "y"
        },
        {
         "fill": "toself",
         "fillcolor": "#636EFA",
         "hoverlabel": {
          "namelength": -1
         },
         "hoveron": "fills+points",
         "hovertemplate": "<b>transcript_name:</b> APP-201<br><b>Feature Type:</b> CDS<br><b>Feature Number:</b> 17<br><b>Chromosome:</b> 21<br><b>Start:</b> 25891722<br><b>End:</b> 25891868<br><b>Size:</b> 146<br><extra></extra>",
         "legendgroup": "protein_coding",
         "legendgrouptitle": {
          "text": ""
         },
         "line": {
          "color": "black",
          "width": 0.25
         },
         "marker": {
          "opacity": 0
         },
         "mode": "lines+markers",
         "name": "protein_coding",
         "opacity": 1,
         "showlegend": false,
         "type": "scatter",
         "x": [
          1324,
          1470,
          1470,
          1324,
          1324
         ],
         "xaxis": "x",
         "y": [
          -0.25,
          -0.25,
          0.25,
          0.25,
          -0.25
         ],
         "yaxis": "y"
        },
        {
         "fill": "toself",
         "fillcolor": "#636EFA",
         "hoverlabel": {
          "namelength": -1
         },
         "hoveron": "fills+points",
         "hovertemplate": "<b>transcript_name:</b> APP-201<br><b>Feature Type:</b> CDS<br><b>Feature Number:</b> 16<br><b>Chromosome:</b> 21<br><b>Start:</b> 25897573<br><b>End:</b> 25897673<br><b>Size:</b> 100<br><extra></extra>",
         "legendgroup": "protein_coding",
         "legendgrouptitle": {
          "text": ""
         },
         "line": {
          "color": "black",
          "width": 0.25
         },
         "marker": {
          "opacity": 0
         },
         "mode": "lines+markers",
         "name": "protein_coding",
         "opacity": 1,
         "showlegend": false,
         "type": "scatter",
         "x": [
          1571,
          1671,
          1671,
          1571,
          1571
         ],
         "xaxis": "x",
         "y": [
          -0.25,
          -0.25,
          0.25,
          0.25,
          -0.25
         ],
         "yaxis": "y"
        },
        {
         "fill": "toself",
         "fillcolor": "#636EFA",
         "hoverlabel": {
          "namelength": -1
         },
         "hoveron": "fills+points",
         "hovertemplate": "<b>transcript_name:</b> APP-201<br><b>Feature Type:</b> CDS<br><b>Feature Number:</b> 15<br><b>Chromosome:</b> 21<br><b>Start:</b> 25905024<br><b>End:</b> 25905077<br><b>Size:</b> 53<br><extra></extra>",
         "legendgroup": "protein_coding",
         "legendgrouptitle": {
          "text": ""
         },
         "line": {
          "color": "black",
          "width": 0.25
         },
         "marker": {
          "opacity": 0
         },
         "mode": "lines+markers",
         "name": "protein_coding",
         "opacity": 1,
         "showlegend": false,
         "type": "scatter",
         "x": [
          1772,
          1825,
          1825,
          1772,
          1772
         ],
         "xaxis": "x",
         "y": [
          -0.25,
          -0.25,
          0.25,
          0.25,
          -0.25
         ],
         "yaxis": "y"
        },
        {
         "fill": "toself",
         "fillcolor": "#636EFA",
         "hoverlabel": {
          "namelength": -1
         },
         "hoveron": "fills+points",
         "hovertemplate": "<b>transcript_name:</b> APP-201<br><b>Feature Type:</b> CDS<br><b>Feature Number:</b> 14<br><b>Chromosome:</b> 21<br><b>Start:</b> 25911741<br><b>End:</b> 25911962<br><b>Size:</b> 221<br><extra></extra>",
         "legendgroup": "protein_coding",
         "legendgrouptitle": {
          "text": ""
         },
         "line": {
          "color": "black",
          "width": 0.25
         },
         "marker": {
          "opacity": 0
         },
         "mode": "lines+markers",
         "name": "protein_coding",
         "opacity": 1,
         "showlegend": false,
         "type": "scatter",
         "x": [
          1926,
          2147,
          2147,
          1926,
          1926
         ],
         "xaxis": "x",
         "y": [
          -0.25,
          -0.25,
          0.25,
          0.25,
          -0.25
         ],
         "yaxis": "y"
        },
        {
         "fill": "toself",
         "fillcolor": "#636EFA",
         "hoverlabel": {
          "namelength": -1
         },
         "hoveron": "fills+points",
         "hovertemplate": "<b>transcript_name:</b> APP-201<br><b>Feature Type:</b> CDS<br><b>Feature Number:</b> 13<br><b>Chromosome:</b> 21<br><b>Start:</b> 25954590<br><b>End:</b> 25954689<br><b>Size:</b> 99<br><extra></extra>",
         "legendgroup": "protein_coding",
         "legendgrouptitle": {
          "text": ""
         },
         "line": {
          "color": "black",
          "width": 0.25
         },
         "marker": {
          "opacity": 0
         },
         "mode": "lines+markers",
         "name": "protein_coding",
         "opacity": 1,
         "showlegend": false,
         "type": "scatter",
         "x": [
          2432,
          2531,
          2531,
          2432,
          2432
         ],
         "xaxis": "x",
         "y": [
          -0.25,
          -0.25,
          0.25,
          0.25,
          -0.25
         ],
         "yaxis": "y"
        },
        {
         "fill": "toself",
         "fillcolor": "#636EFA",
         "hoverlabel": {
          "namelength": -1
         },
         "hoveron": "fills+points",
         "hovertemplate": "<b>transcript_name:</b> APP-201<br><b>Feature Type:</b> CDS<br><b>Feature Number:</b> 12<br><b>Chromosome:</b> 21<br><b>Start:</b> 25955627<br><b>End:</b> 25955755<br><b>Size:</b> 128<br><extra></extra>",
         "legendgroup": "protein_coding",
         "legendgrouptitle": {
          "text": ""
         },
         "line": {
          "color": "black",
          "width": 0.25
         },
         "marker": {
          "opacity": 0
         },
         "mode": "lines+markers",
         "name": "protein_coding",
         "opacity": 1,
         "showlegend": false,
         "type": "scatter",
         "x": [
          2632,
          2760,
          2760,
          2632,
          2632
         ],
         "xaxis": "x",
         "y": [
          -0.25,
          -0.25,
          0.25,
          0.25,
          -0.25
         ],
         "yaxis": "y"
        },
        {
         "fill": "toself",
         "fillcolor": "#636EFA",
         "hoverlabel": {
          "namelength": -1
         },
         "hoveron": "fills+points",
         "hovertemplate": "<b>transcript_name:</b> APP-201<br><b>Feature Type:</b> CDS<br><b>Feature Number:</b> 11<br><b>Chromosome:</b> 21<br><b>Start:</b> 25975070<br><b>End:</b> 25975228<br><b>Size:</b> 158<br><extra></extra>",
         "legendgroup": "protein_coding",
         "legendgrouptitle": {
          "text": ""
         },
         "line": {
          "color": "black",
          "width": 0.25
         },
         "marker": {
          "opacity": 0
         },
         "mode": "lines+markers",
         "name": "protein_coding",
         "opacity": 1,
         "showlegend": false,
         "type": "scatter",
         "x": [
          2861,
          3019,
          3019,
          2861,
          2861
         ],
         "xaxis": "x",
         "y": [
          -0.25,
          -0.25,
          0.25,
          0.25,
          -0.25
         ],
         "yaxis": "y"
        },
        {
         "fill": "toself",
         "fillcolor": "#636EFA",
         "hoverlabel": {
          "namelength": -1
         },
         "hoveron": "fills+points",
         "hovertemplate": "<b>transcript_name:</b> APP-201<br><b>Feature Type:</b> CDS<br><b>Feature Number:</b> 10<br><b>Chromosome:</b> 21<br><b>Start:</b> 25975954<br><b>End:</b> 25976028<br><b>Size:</b> 74<br><extra></extra>",
         "legendgroup": "protein_coding",
         "legendgrouptitle": {
          "text": ""
         },
         "line": {
          "color": "black",
          "width": 0.25
         },
         "marker": {
          "opacity": 0
         },
         "mode": "lines+markers",
         "name": "protein_coding",
         "opacity": 1,
         "showlegend": false,
         "type": "scatter",
         "x": [
          3120,
          3194,
          3194,
          3120,
          3120
         ],
         "xaxis": "x",
         "y": [
          -0.25,
          -0.25,
          0.25,
          0.25,
          -0.25
         ],
         "yaxis": "y"
        },
        {
         "fill": "toself",
         "fillcolor": "#636EFA",
         "hoverlabel": {
          "namelength": -1
         },
         "hoveron": "fills+points",
         "hovertemplate": "<b>transcript_name:</b> APP-201<br><b>Feature Type:</b> CDS<br><b>Feature Number:</b> 9<br><b>Chromosome:</b> 21<br><b>Start:</b> 25982344<br><b>End:</b> 25982477<br><b>Size:</b> 133<br><extra></extra>",
         "legendgroup": "protein_coding",
         "legendgrouptitle": {
          "text": ""
         },
         "line": {
          "color": "black",
          "width": 0.25
         },
         "marker": {
          "opacity": 0
         },
         "mode": "lines+markers",
         "name": "protein_coding",
         "opacity": 1,
         "showlegend": false,
         "type": "scatter",
         "x": [
          3295,
          3428,
          3428,
          3295,
          3295
         ],
         "xaxis": "x",
         "y": [
          -0.25,
          -0.25,
          0.25,
          0.25,
          -0.25
         ],
         "yaxis": "y"
        },
        {
         "fill": "toself",
         "fillcolor": "#636EFA",
         "hoverlabel": {
          "namelength": -1
         },
         "hoveron": "fills+points",
         "hovertemplate": "<b>transcript_name:</b> APP-201<br><b>Feature Type:</b> CDS<br><b>Feature Number:</b> 8<br><b>Chromosome:</b> 21<br><b>Start:</b> 25997360<br><b>End:</b> 25997416<br><b>Size:</b> 56<br><extra></extra>",
         "legendgroup": "protein_coding",
         "legendgrouptitle": {
          "text": ""
         },
         "line": {
          "color": "black",
          "width": 0.25
         },
         "marker": {
          "opacity": 0
         },
         "mode": "lines+markers",
         "name": "protein_coding",
         "opacity": 1,
         "showlegend": false,
         "type": "scatter",
         "x": [
          3529,
          3585,
          3585,
          3529,
          3529
         ],
         "xaxis": "x",
         "y": [
          -0.25,
          -0.25,
          0.25,
          0.25,
          -0.25
         ],
         "yaxis": "y"
        },
        {
         "fill": "toself",
         "fillcolor": "#636EFA",
         "hoverlabel": {
          "namelength": -1
         },
         "hoveron": "fills+points",
         "hovertemplate": "<b>transcript_name:</b> APP-201<br><b>Feature Type:</b> CDS<br><b>Feature Number:</b> 7<br><b>Chromosome:</b> 21<br><b>Start:</b> 26000015<br><b>End:</b> 26000182<br><b>Size:</b> 167<br><extra></extra>",
         "legendgroup": "protein_coding",
         "legendgrouptitle": {
          "text": ""
         },
         "line": {
          "color": "black",
          "width": 0.25
         },
         "marker": {
          "opacity": 0
         },
         "mode": "lines+markers",
         "name": "protein_coding",
         "opacity": 1,
         "showlegend": false,
         "type": "scatter",
         "x": [
          3686,
          3853,
          3853,
          3686,
          3686
         ],
         "xaxis": "x",
         "y": [
          -0.25,
          -0.25,
          0.25,
          0.25,
          -0.25
         ],
         "yaxis": "y"
        },
        {
         "fill": "toself",
         "fillcolor": "#636EFA",
         "hoverlabel": {
          "namelength": -1
         },
         "hoveron": "fills+points",
         "hovertemplate": "<b>transcript_name:</b> APP-201<br><b>Feature Type:</b> CDS<br><b>Feature Number:</b> 6<br><b>Chromosome:</b> 21<br><b>Start:</b> 26021840<br><b>End:</b> 26022042<br><b>Size:</b> 202<br><extra></extra>",
         "legendgroup": "protein_coding",
         "legendgrouptitle": {
          "text": ""
         },
         "line": {
          "color": "black",
          "width": 0.25
         },
         "marker": {
          "opacity": 0
         },
         "mode": "lines+markers",
         "name": "protein_coding",
         "opacity": 1,
         "showlegend": false,
         "type": "scatter",
         "x": [
          3954,
          4156,
          4156,
          3954,
          3954
         ],
         "xaxis": "x",
         "y": [
          -0.25,
          -0.25,
          0.25,
          0.25,
          -0.25
         ],
         "yaxis": "y"
        },
        {
         "fill": "toself",
         "fillcolor": "#636EFA",
         "hoverlabel": {
          "namelength": -1
         },
         "hoveron": "fills+points",
         "hovertemplate": "<b>transcript_name:</b> APP-201<br><b>Feature Type:</b> CDS<br><b>Feature Number:</b> 5<br><b>Chromosome:</b> 21<br><b>Start:</b> 26051000<br><b>End:</b> 26051193<br><b>Size:</b> 193<br><extra></extra>",
         "legendgroup": "protein_coding",
         "legendgrouptitle": {
          "text": ""
         },
         "line": {
          "color": "black",
          "width": 0.25
         },
         "marker": {
          "opacity": 0
         },
         "mode": "lines+markers",
         "name": "protein_coding",
         "opacity": 1,
         "showlegend": false,
         "type": "scatter",
         "x": [
          4257,
          4450,
          4450,
          4257,
          4257
         ],
         "xaxis": "x",
         "y": [
          -0.25,
          -0.25,
          0.25,
          0.25,
          -0.25
         ],
         "yaxis": "y"
        },
        {
         "fill": "toself",
         "fillcolor": "#636EFA",
         "hoverlabel": {
          "namelength": -1
         },
         "hoveron": "fills+points",
         "hovertemplate": "<b>transcript_name:</b> APP-201<br><b>Feature Type:</b> CDS<br><b>Feature Number:</b> 4<br><b>Chromosome:</b> 21<br><b>Start:</b> 26053236<br><b>End:</b> 26053348<br><b>Size:</b> 112<br><extra></extra>",
         "legendgroup": "protein_coding",
         "legendgrouptitle": {
          "text": ""
         },
         "line": {
          "color": "black",
          "width": 0.25
         },
         "marker": {
          "opacity": 0
         },
         "mode": "lines+markers",
         "name": "protein_coding",
         "opacity": 1,
         "showlegend": false,
         "type": "scatter",
         "x": [
          4551,
          4663,
          4663,
          4551,
          4551
         ],
         "xaxis": "x",
         "y": [
          -0.25,
          -0.25,
          0.25,
          0.25,
          -0.25
         ],
         "yaxis": "y"
        },
        {
         "fill": "toself",
         "fillcolor": "#636EFA",
         "hoverlabel": {
          "namelength": -1
         },
         "hoveron": "fills+points",
         "hovertemplate": "<b>transcript_name:</b> APP-201<br><b>Feature Type:</b> CDS<br><b>Feature Number:</b> 3<br><b>Chromosome:</b> 21<br><b>Start:</b> 26089943<br><b>End:</b> 26090072<br><b>Size:</b> 129<br><extra></extra>",
         "legendgroup": "protein_coding",
         "legendgrouptitle": {
          "text": ""
         },
         "line": {
          "color": "black",
          "width": 0.25
         },
         "marker": {
          "opacity": 0
         },
         "mode": "lines+markers",
         "name": "protein_coding",
         "opacity": 1,
         "showlegend": false,
         "type": "scatter",
         "x": [
          4764,
          4893,
          4893,
          4764,
          4764
         ],
         "xaxis": "x",
         "y": [
          -0.25,
          -0.25,
          0.25,
          0.25,
          -0.25
         ],
         "yaxis": "y"
        },
        {
         "fill": "toself",
         "fillcolor": "#636EFA",
         "hoverlabel": {
          "namelength": -1
         },
         "hoveron": "fills+points",
         "hovertemplate": "<b>transcript_name:</b> APP-201<br><b>Feature Type:</b> CDS<br><b>Feature Number:</b> 2<br><b>Chromosome:</b> 21<br><b>Start:</b> 26111979<br><b>End:</b> 26112146<br><b>Size:</b> 167<br><extra></extra>",
         "legendgroup": "protein_coding",
         "legendgrouptitle": {
          "text": ""
         },
         "line": {
          "color": "black",
          "width": 0.25
         },
         "marker": {
          "opacity": 0
         },
         "mode": "lines+markers",
         "name": "protein_coding",
         "opacity": 1,
         "showlegend": false,
         "type": "scatter",
         "x": [
          4994,
          5161,
          5161,
          4994,
          4994
         ],
         "xaxis": "x",
         "y": [
          -0.25,
          -0.25,
          0.25,
          0.25,
          -0.25
         ],
         "yaxis": "y"
        },
        {
         "fill": "toself",
         "fillcolor": "#636EFA",
         "hoverlabel": {
          "namelength": -1
         },
         "hoveron": "fills+points",
         "hovertemplate": "<b>transcript_name:</b> APP-201<br><b>Feature Type:</b> CDS<br><b>Feature Number:</b> 1<br><b>Chromosome:</b> 21<br><b>Start:</b> 26170564<br><b>End:</b> 26170620<br><b>Size:</b> 56<br><extra></extra>",
         "legendgroup": "protein_coding",
         "legendgrouptitle": {
          "text": ""
         },
         "line": {
          "color": "black",
          "width": 0.25
         },
         "marker": {
          "opacity": 0
         },
         "mode": "lines+markers",
         "name": "protein_coding",
         "opacity": 1,
         "showlegend": false,
         "type": "scatter",
         "x": [
          5262,
          5318,
          5318,
          5262,
          5262
         ],
         "xaxis": "x",
         "y": [
          -0.25,
          -0.25,
          0.25,
          0.25,
          -0.25
         ],
         "yaxis": "y"
        },
        {
         "fill": "toself",
         "fillcolor": "#636EFA",
         "hoverlabel": {
          "namelength": -1
         },
         "hoveron": "fills+points",
         "hovertemplate": "<b>transcript_name:</b> APP-206<br><b>Feature Type:</b> CDS<br><b>Feature Number:</b> 16<br><b>Chromosome:</b> 21<br><b>Start:</b> 25881673<br><b>End:</b> 25881771<br><b>Size:</b> 98<br><extra></extra>",
         "legendgroup": "protein_coding",
         "legendgrouptitle": {
          "text": ""
         },
         "line": {
          "color": "black",
          "width": 0.25
         },
         "marker": {
          "opacity": 0
         },
         "mode": "lines+markers",
         "name": "protein_coding",
         "opacity": 1,
         "showlegend": false,
         "type": "scatter",
         "x": [
          1125,
          1223,
          1223,
          1125,
          1125
         ],
         "xaxis": "x",
         "y": [
          1.75,
          1.75,
          2.25,
          2.25,
          1.75
         ],
         "yaxis": "y"
        },
        {
         "fill": "toself",
         "fillcolor": "#636EFA",
         "hoverlabel": {
          "namelength": -1
         },
         "hoveron": "fills+points",
         "hovertemplate": "<b>transcript_name:</b> APP-206<br><b>Feature Type:</b> CDS<br><b>Feature Number:</b> 15<br><b>Chromosome:</b> 21<br><b>Start:</b> 25891722<br><b>End:</b> 25891868<br><b>Size:</b> 146<br><extra></extra>",
         "legendgroup": "protein_coding",
         "legendgrouptitle": {
          "text": ""
         },
         "line": {
          "color": "black",
          "width": 0.25
         },
         "marker": {
          "opacity": 0
         },
         "mode": "lines+markers",
         "name": "protein_coding",
         "opacity": 1,
         "showlegend": false,
         "type": "scatter",
         "x": [
          1324,
          1470,
          1470,
          1324,
          1324
         ],
         "xaxis": "x",
         "y": [
          1.75,
          1.75,
          2.25,
          2.25,
          1.75
         ],
         "yaxis": "y"
        },
        {
         "fill": "toself",
         "fillcolor": "#636EFA",
         "hoverlabel": {
          "namelength": -1
         },
         "hoveron": "fills+points",
         "hovertemplate": "<b>transcript_name:</b> APP-206<br><b>Feature Type:</b> CDS<br><b>Feature Number:</b> 14<br><b>Chromosome:</b> 21<br><b>Start:</b> 25897573<br><b>End:</b> 25897673<br><b>Size:</b> 100<br><extra></extra>",
         "legendgroup": "protein_coding",
         "legendgrouptitle": {
          "text": ""
         },
         "line": {
          "color": "black",
          "width": 0.25
         },
         "marker": {
          "opacity": 0
         },
         "mode": "lines+markers",
         "name": "protein_coding",
         "opacity": 1,
         "showlegend": false,
         "type": "scatter",
         "x": [
          1571,
          1671,
          1671,
          1571,
          1571
         ],
         "xaxis": "x",
         "y": [
          1.75,
          1.75,
          2.25,
          2.25,
          1.75
         ],
         "yaxis": "y"
        },
        {
         "fill": "toself",
         "fillcolor": "#636EFA",
         "hoverlabel": {
          "namelength": -1
         },
         "hoveron": "fills+points",
         "hovertemplate": "<b>transcript_name:</b> APP-206<br><b>Feature Type:</b> CDS<br><b>Feature Number:</b> 13<br><b>Chromosome:</b> 21<br><b>Start:</b> 25905024<br><b>End:</b> 25905077<br><b>Size:</b> 53<br><extra></extra>",
         "legendgroup": "protein_coding",
         "legendgrouptitle": {
          "text": ""
         },
         "line": {
          "color": "black",
          "width": 0.25
         },
         "marker": {
          "opacity": 0
         },
         "mode": "lines+markers",
         "name": "protein_coding",
         "opacity": 1,
         "showlegend": false,
         "type": "scatter",
         "x": [
          1772,
          1825,
          1825,
          1772,
          1772
         ],
         "xaxis": "x",
         "y": [
          1.75,
          1.75,
          2.25,
          2.25,
          1.75
         ],
         "yaxis": "y"
        },
        {
         "fill": "toself",
         "fillcolor": "#636EFA",
         "hoverlabel": {
          "namelength": -1
         },
         "hoveron": "fills+points",
         "hovertemplate": "<b>transcript_name:</b> APP-206<br><b>Feature Type:</b> CDS<br><b>Feature Number:</b> 12<br><b>Chromosome:</b> 21<br><b>Start:</b> 25911741<br><b>End:</b> 25911962<br><b>Size:</b> 221<br><extra></extra>",
         "legendgroup": "protein_coding",
         "legendgrouptitle": {
          "text": ""
         },
         "line": {
          "color": "black",
          "width": 0.25
         },
         "marker": {
          "opacity": 0
         },
         "mode": "lines+markers",
         "name": "protein_coding",
         "opacity": 1,
         "showlegend": false,
         "type": "scatter",
         "x": [
          1926,
          2147,
          2147,
          1926,
          1926
         ],
         "xaxis": "x",
         "y": [
          1.75,
          1.75,
          2.25,
          2.25,
          1.75
         ],
         "yaxis": "y"
        },
        {
         "fill": "toself",
         "fillcolor": "#636EFA",
         "hoverlabel": {
          "namelength": -1
         },
         "hoveron": "fills+points",
         "hovertemplate": "<b>transcript_name:</b> APP-206<br><b>Feature Type:</b> CDS<br><b>Feature Number:</b> 11<br><b>Chromosome:</b> 21<br><b>Start:</b> 25954590<br><b>End:</b> 25954689<br><b>Size:</b> 99<br><extra></extra>",
         "legendgroup": "protein_coding",
         "legendgrouptitle": {
          "text": ""
         },
         "line": {
          "color": "black",
          "width": 0.25
         },
         "marker": {
          "opacity": 0
         },
         "mode": "lines+markers",
         "name": "protein_coding",
         "opacity": 1,
         "showlegend": false,
         "type": "scatter",
         "x": [
          2432,
          2531,
          2531,
          2432,
          2432
         ],
         "xaxis": "x",
         "y": [
          1.75,
          1.75,
          2.25,
          2.25,
          1.75
         ],
         "yaxis": "y"
        },
        {
         "fill": "toself",
         "fillcolor": "#636EFA",
         "hoverlabel": {
          "namelength": -1
         },
         "hoveron": "fills+points",
         "hovertemplate": "<b>transcript_name:</b> APP-206<br><b>Feature Type:</b> CDS<br><b>Feature Number:</b> 10<br><b>Chromosome:</b> 21<br><b>Start:</b> 25955627<br><b>End:</b> 25955755<br><b>Size:</b> 128<br><extra></extra>",
         "legendgroup": "protein_coding",
         "legendgrouptitle": {
          "text": ""
         },
         "line": {
          "color": "black",
          "width": 0.25
         },
         "marker": {
          "opacity": 0
         },
         "mode": "lines+markers",
         "name": "protein_coding",
         "opacity": 1,
         "showlegend": false,
         "type": "scatter",
         "x": [
          2632,
          2760,
          2760,
          2632,
          2632
         ],
         "xaxis": "x",
         "y": [
          1.75,
          1.75,
          2.25,
          2.25,
          1.75
         ],
         "yaxis": "y"
        },
        {
         "fill": "toself",
         "fillcolor": "#636EFA",
         "hoverlabel": {
          "namelength": -1
         },
         "hoveron": "fills+points",
         "hovertemplate": "<b>transcript_name:</b> APP-206<br><b>Feature Type:</b> CDS<br><b>Feature Number:</b> 9<br><b>Chromosome:</b> 21<br><b>Start:</b> 25975070<br><b>End:</b> 25975228<br><b>Size:</b> 158<br><extra></extra>",
         "legendgroup": "protein_coding",
         "legendgrouptitle": {
          "text": ""
         },
         "line": {
          "color": "black",
          "width": 0.25
         },
         "marker": {
          "opacity": 0
         },
         "mode": "lines+markers",
         "name": "protein_coding",
         "opacity": 1,
         "showlegend": false,
         "type": "scatter",
         "x": [
          2861,
          3019,
          3019,
          2861,
          2861
         ],
         "xaxis": "x",
         "y": [
          1.75,
          1.75,
          2.25,
          2.25,
          1.75
         ],
         "yaxis": "y"
        },
        {
         "fill": "toself",
         "fillcolor": "#636EFA",
         "hoverlabel": {
          "namelength": -1
         },
         "hoveron": "fills+points",
         "hovertemplate": "<b>transcript_name:</b> APP-206<br><b>Feature Type:</b> CDS<br><b>Feature Number:</b> 8<br><b>Chromosome:</b> 21<br><b>Start:</b> 25975954<br><b>End:</b> 25976028<br><b>Size:</b> 74<br><extra></extra>",
         "legendgroup": "protein_coding",
         "legendgrouptitle": {
          "text": ""
         },
         "line": {
          "color": "black",
          "width": 0.25
         },
         "marker": {
          "opacity": 0
         },
         "mode": "lines+markers",
         "name": "protein_coding",
         "opacity": 1,
         "showlegend": false,
         "type": "scatter",
         "x": [
          3120,
          3194,
          3194,
          3120,
          3120
         ],
         "xaxis": "x",
         "y": [
          1.75,
          1.75,
          2.25,
          2.25,
          1.75
         ],
         "yaxis": "y"
        },
        {
         "fill": "toself",
         "fillcolor": "#636EFA",
         "hoverlabel": {
          "namelength": -1
         },
         "hoveron": "fills+points",
         "hovertemplate": "<b>transcript_name:</b> APP-206<br><b>Feature Type:</b> CDS<br><b>Feature Number:</b> 7<br><b>Chromosome:</b> 21<br><b>Start:</b> 25982344<br><b>End:</b> 25982477<br><b>Size:</b> 133<br><extra></extra>",
         "legendgroup": "protein_coding",
         "legendgrouptitle": {
          "text": ""
         },
         "line": {
          "color": "black",
          "width": 0.25
         },
         "marker": {
          "opacity": 0
         },
         "mode": "lines+markers",
         "name": "protein_coding",
         "opacity": 1,
         "showlegend": false,
         "type": "scatter",
         "x": [
          3295,
          3428,
          3428,
          3295,
          3295
         ],
         "xaxis": "x",
         "y": [
          1.75,
          1.75,
          2.25,
          2.25,
          1.75
         ],
         "yaxis": "y"
        },
        {
         "fill": "toself",
         "fillcolor": "#636EFA",
         "hoverlabel": {
          "namelength": -1
         },
         "hoveron": "fills+points",
         "hovertemplate": "<b>transcript_name:</b> APP-206<br><b>Feature Type:</b> CDS<br><b>Feature Number:</b> 6<br><b>Chromosome:</b> 21<br><b>Start:</b> 26021840<br><b>End:</b> 26022042<br><b>Size:</b> 202<br><extra></extra>",
         "legendgroup": "protein_coding",
         "legendgrouptitle": {
          "text": ""
         },
         "line": {
          "color": "black",
          "width": 0.25
         },
         "marker": {
          "opacity": 0
         },
         "mode": "lines+markers",
         "name": "protein_coding",
         "opacity": 1,
         "showlegend": false,
         "type": "scatter",
         "x": [
          3954,
          4156,
          4156,
          3954,
          3954
         ],
         "xaxis": "x",
         "y": [
          1.75,
          1.75,
          2.25,
          2.25,
          1.75
         ],
         "yaxis": "y"
        },
        {
         "fill": "toself",
         "fillcolor": "#636EFA",
         "hoverlabel": {
          "namelength": -1
         },
         "hoveron": "fills+points",
         "hovertemplate": "<b>transcript_name:</b> APP-206<br><b>Feature Type:</b> CDS<br><b>Feature Number:</b> 5<br><b>Chromosome:</b> 21<br><b>Start:</b> 26051000<br><b>End:</b> 26051193<br><b>Size:</b> 193<br><extra></extra>",
         "legendgroup": "protein_coding",
         "legendgrouptitle": {
          "text": ""
         },
         "line": {
          "color": "black",
          "width": 0.25
         },
         "marker": {
          "opacity": 0
         },
         "mode": "lines+markers",
         "name": "protein_coding",
         "opacity": 1,
         "showlegend": false,
         "type": "scatter",
         "x": [
          4257,
          4450,
          4450,
          4257,
          4257
         ],
         "xaxis": "x",
         "y": [
          1.75,
          1.75,
          2.25,
          2.25,
          1.75
         ],
         "yaxis": "y"
        },
        {
         "fill": "toself",
         "fillcolor": "#636EFA",
         "hoverlabel": {
          "namelength": -1
         },
         "hoveron": "fills+points",
         "hovertemplate": "<b>transcript_name:</b> APP-206<br><b>Feature Type:</b> CDS<br><b>Feature Number:</b> 4<br><b>Chromosome:</b> 21<br><b>Start:</b> 26053236<br><b>End:</b> 26053348<br><b>Size:</b> 112<br><extra></extra>",
         "legendgroup": "protein_coding",
         "legendgrouptitle": {
          "text": ""
         },
         "line": {
          "color": "black",
          "width": 0.25
         },
         "marker": {
          "opacity": 0
         },
         "mode": "lines+markers",
         "name": "protein_coding",
         "opacity": 1,
         "showlegend": false,
         "type": "scatter",
         "x": [
          4551,
          4663,
          4663,
          4551,
          4551
         ],
         "xaxis": "x",
         "y": [
          1.75,
          1.75,
          2.25,
          2.25,
          1.75
         ],
         "yaxis": "y"
        },
        {
         "fill": "toself",
         "fillcolor": "#636EFA",
         "hoverlabel": {
          "namelength": -1
         },
         "hoveron": "fills+points",
         "hovertemplate": "<b>transcript_name:</b> APP-206<br><b>Feature Type:</b> CDS<br><b>Feature Number:</b> 3<br><b>Chromosome:</b> 21<br><b>Start:</b> 26089943<br><b>End:</b> 26090072<br><b>Size:</b> 129<br><extra></extra>",
         "legendgroup": "protein_coding",
         "legendgrouptitle": {
          "text": ""
         },
         "line": {
          "color": "black",
          "width": 0.25
         },
         "marker": {
          "opacity": 0
         },
         "mode": "lines+markers",
         "name": "protein_coding",
         "opacity": 1,
         "showlegend": false,
         "type": "scatter",
         "x": [
          4764,
          4893,
          4893,
          4764,
          4764
         ],
         "xaxis": "x",
         "y": [
          1.75,
          1.75,
          2.25,
          2.25,
          1.75
         ],
         "yaxis": "y"
        },
        {
         "fill": "toself",
         "fillcolor": "#636EFA",
         "hoverlabel": {
          "namelength": -1
         },
         "hoveron": "fills+points",
         "hovertemplate": "<b>transcript_name:</b> APP-206<br><b>Feature Type:</b> CDS<br><b>Feature Number:</b> 2<br><b>Chromosome:</b> 21<br><b>Start:</b> 26111979<br><b>End:</b> 26112098<br><b>Size:</b> 119<br><extra></extra>",
         "legendgroup": "protein_coding",
         "legendgrouptitle": {
          "text": ""
         },
         "line": {
          "color": "black",
          "width": 0.25
         },
         "marker": {
          "opacity": 0
         },
         "mode": "lines+markers",
         "name": "protein_coding",
         "opacity": 1,
         "showlegend": false,
         "type": "scatter",
         "x": [
          4994,
          5113,
          5113,
          4994,
          4994
         ],
         "xaxis": "x",
         "y": [
          1.75,
          1.75,
          2.25,
          2.25,
          1.75
         ],
         "yaxis": "y"
        },
        {
         "fill": "toself",
         "fillcolor": "#636EFA",
         "hoverlabel": {
          "namelength": -1
         },
         "hoveron": "fills+points",
         "hovertemplate": "<b>transcript_name:</b> APP-204<br><b>Feature Type:</b> CDS<br><b>Feature Number:</b> 17<br><b>Chromosome:</b> 21<br><b>Start:</b> 25881673<br><b>End:</b> 25881771<br><b>Size:</b> 98<br><extra></extra>",
         "legendgroup": "protein_coding",
         "legendgrouptitle": {
          "text": ""
         },
         "line": {
          "color": "black",
          "width": 0.25
         },
         "marker": {
          "opacity": 0
         },
         "mode": "lines+markers",
         "name": "protein_coding",
         "opacity": 1,
         "showlegend": false,
         "type": "scatter",
         "x": [
          1125,
          1223,
          1223,
          1125,
          1125
         ],
         "xaxis": "x",
         "y": [
          2.75,
          2.75,
          3.25,
          3.25,
          2.75
         ],
         "yaxis": "y"
        },
        {
         "fill": "toself",
         "fillcolor": "#636EFA",
         "hoverlabel": {
          "namelength": -1
         },
         "hoveron": "fills+points",
         "hovertemplate": "<b>transcript_name:</b> APP-204<br><b>Feature Type:</b> CDS<br><b>Feature Number:</b> 16<br><b>Chromosome:</b> 21<br><b>Start:</b> 25891722<br><b>End:</b> 25891868<br><b>Size:</b> 146<br><extra></extra>",
         "legendgroup": "protein_coding",
         "legendgrouptitle": {
          "text": ""
         },
         "line": {
          "color": "black",
          "width": 0.25
         },
         "marker": {
          "opacity": 0
         },
         "mode": "lines+markers",
         "name": "protein_coding",
         "opacity": 1,
         "showlegend": false,
         "type": "scatter",
         "x": [
          1324,
          1470,
          1470,
          1324,
          1324
         ],
         "xaxis": "x",
         "y": [
          2.75,
          2.75,
          3.25,
          3.25,
          2.75
         ],
         "yaxis": "y"
        },
        {
         "fill": "toself",
         "fillcolor": "#636EFA",
         "hoverlabel": {
          "namelength": -1
         },
         "hoveron": "fills+points",
         "hovertemplate": "<b>transcript_name:</b> APP-204<br><b>Feature Type:</b> CDS<br><b>Feature Number:</b> 15<br><b>Chromosome:</b> 21<br><b>Start:</b> 25897573<br><b>End:</b> 25897673<br><b>Size:</b> 100<br><extra></extra>",
         "legendgroup": "protein_coding",
         "legendgrouptitle": {
          "text": ""
         },
         "line": {
          "color": "black",
          "width": 0.25
         },
         "marker": {
          "opacity": 0
         },
         "mode": "lines+markers",
         "name": "protein_coding",
         "opacity": 1,
         "showlegend": false,
         "type": "scatter",
         "x": [
          1571,
          1671,
          1671,
          1571,
          1571
         ],
         "xaxis": "x",
         "y": [
          2.75,
          2.75,
          3.25,
          3.25,
          2.75
         ],
         "yaxis": "y"
        },
        {
         "fill": "toself",
         "fillcolor": "#636EFA",
         "hoverlabel": {
          "namelength": -1
         },
         "hoveron": "fills+points",
         "hovertemplate": "<b>transcript_name:</b> APP-204<br><b>Feature Type:</b> CDS<br><b>Feature Number:</b> 14<br><b>Chromosome:</b> 21<br><b>Start:</b> 25905024<br><b>End:</b> 25905077<br><b>Size:</b> 53<br><extra></extra>",
         "legendgroup": "protein_coding",
         "legendgrouptitle": {
          "text": ""
         },
         "line": {
          "color": "black",
          "width": 0.25
         },
         "marker": {
          "opacity": 0
         },
         "mode": "lines+markers",
         "name": "protein_coding",
         "opacity": 1,
         "showlegend": false,
         "type": "scatter",
         "x": [
          1772,
          1825,
          1825,
          1772,
          1772
         ],
         "xaxis": "x",
         "y": [
          2.75,
          2.75,
          3.25,
          3.25,
          2.75
         ],
         "yaxis": "y"
        },
        {
         "fill": "toself",
         "fillcolor": "#636EFA",
         "hoverlabel": {
          "namelength": -1
         },
         "hoveron": "fills+points",
         "hovertemplate": "<b>transcript_name:</b> APP-204<br><b>Feature Type:</b> CDS<br><b>Feature Number:</b> 13<br><b>Chromosome:</b> 21<br><b>Start:</b> 25911741<br><b>End:</b> 25911962<br><b>Size:</b> 221<br><extra></extra>",
         "legendgroup": "protein_coding",
         "legendgrouptitle": {
          "text": ""
         },
         "line": {
          "color": "black",
          "width": 0.25
         },
         "marker": {
          "opacity": 0
         },
         "mode": "lines+markers",
         "name": "protein_coding",
         "opacity": 1,
         "showlegend": false,
         "type": "scatter",
         "x": [
          1926,
          2147,
          2147,
          1926,
          1926
         ],
         "xaxis": "x",
         "y": [
          2.75,
          2.75,
          3.25,
          3.25,
          2.75
         ],
         "yaxis": "y"
        },
        {
         "fill": "toself",
         "fillcolor": "#636EFA",
         "hoverlabel": {
          "namelength": -1
         },
         "hoveron": "fills+points",
         "hovertemplate": "<b>transcript_name:</b> APP-204<br><b>Feature Type:</b> CDS<br><b>Feature Number:</b> 12<br><b>Chromosome:</b> 21<br><b>Start:</b> 25954590<br><b>End:</b> 25954689<br><b>Size:</b> 99<br><extra></extra>",
         "legendgroup": "protein_coding",
         "legendgrouptitle": {
          "text": ""
         },
         "line": {
          "color": "black",
          "width": 0.25
         },
         "marker": {
          "opacity": 0
         },
         "mode": "lines+markers",
         "name": "protein_coding",
         "opacity": 1,
         "showlegend": false,
         "type": "scatter",
         "x": [
          2432,
          2531,
          2531,
          2432,
          2432
         ],
         "xaxis": "x",
         "y": [
          2.75,
          2.75,
          3.25,
          3.25,
          2.75
         ],
         "yaxis": "y"
        },
        {
         "fill": "toself",
         "fillcolor": "#636EFA",
         "hoverlabel": {
          "namelength": -1
         },
         "hoveron": "fills+points",
         "hovertemplate": "<b>transcript_name:</b> APP-204<br><b>Feature Type:</b> CDS<br><b>Feature Number:</b> 11<br><b>Chromosome:</b> 21<br><b>Start:</b> 25955627<br><b>End:</b> 25955755<br><b>Size:</b> 128<br><extra></extra>",
         "legendgroup": "protein_coding",
         "legendgrouptitle": {
          "text": ""
         },
         "line": {
          "color": "black",
          "width": 0.25
         },
         "marker": {
          "opacity": 0
         },
         "mode": "lines+markers",
         "name": "protein_coding",
         "opacity": 1,
         "showlegend": false,
         "type": "scatter",
         "x": [
          2632,
          2760,
          2760,
          2632,
          2632
         ],
         "xaxis": "x",
         "y": [
          2.75,
          2.75,
          3.25,
          3.25,
          2.75
         ],
         "yaxis": "y"
        },
        {
         "fill": "toself",
         "fillcolor": "#636EFA",
         "hoverlabel": {
          "namelength": -1
         },
         "hoveron": "fills+points",
         "hovertemplate": "<b>transcript_name:</b> APP-204<br><b>Feature Type:</b> CDS<br><b>Feature Number:</b> 10<br><b>Chromosome:</b> 21<br><b>Start:</b> 25975070<br><b>End:</b> 25975228<br><b>Size:</b> 158<br><extra></extra>",
         "legendgroup": "protein_coding",
         "legendgrouptitle": {
          "text": ""
         },
         "line": {
          "color": "black",
          "width": 0.25
         },
         "marker": {
          "opacity": 0
         },
         "mode": "lines+markers",
         "name": "protein_coding",
         "opacity": 1,
         "showlegend": false,
         "type": "scatter",
         "x": [
          2861,
          3019,
          3019,
          2861,
          2861
         ],
         "xaxis": "x",
         "y": [
          2.75,
          2.75,
          3.25,
          3.25,
          2.75
         ],
         "yaxis": "y"
        },
        {
         "fill": "toself",
         "fillcolor": "#636EFA",
         "hoverlabel": {
          "namelength": -1
         },
         "hoveron": "fills+points",
         "hovertemplate": "<b>transcript_name:</b> APP-204<br><b>Feature Type:</b> CDS<br><b>Feature Number:</b> 9<br><b>Chromosome:</b> 21<br><b>Start:</b> 25975954<br><b>End:</b> 25976028<br><b>Size:</b> 74<br><extra></extra>",
         "legendgroup": "protein_coding",
         "legendgrouptitle": {
          "text": ""
         },
         "line": {
          "color": "black",
          "width": 0.25
         },
         "marker": {
          "opacity": 0
         },
         "mode": "lines+markers",
         "name": "protein_coding",
         "opacity": 1,
         "showlegend": false,
         "type": "scatter",
         "x": [
          3120,
          3194,
          3194,
          3120,
          3120
         ],
         "xaxis": "x",
         "y": [
          2.75,
          2.75,
          3.25,
          3.25,
          2.75
         ],
         "yaxis": "y"
        },
        {
         "fill": "toself",
         "fillcolor": "#636EFA",
         "hoverlabel": {
          "namelength": -1
         },
         "hoveron": "fills+points",
         "hovertemplate": "<b>transcript_name:</b> APP-204<br><b>Feature Type:</b> CDS<br><b>Feature Number:</b> 8<br><b>Chromosome:</b> 21<br><b>Start:</b> 25982344<br><b>End:</b> 25982477<br><b>Size:</b> 133<br><extra></extra>",
         "legendgroup": "protein_coding",
         "legendgrouptitle": {
          "text": ""
         },
         "line": {
          "color": "black",
          "width": 0.25
         },
         "marker": {
          "opacity": 0
         },
         "mode": "lines+markers",
         "name": "protein_coding",
         "opacity": 1,
         "showlegend": false,
         "type": "scatter",
         "x": [
          3295,
          3428,
          3428,
          3295,
          3295
         ],
         "xaxis": "x",
         "y": [
          2.75,
          2.75,
          3.25,
          3.25,
          2.75
         ],
         "yaxis": "y"
        },
        {
         "fill": "toself",
         "fillcolor": "#636EFA",
         "hoverlabel": {
          "namelength": -1
         },
         "hoveron": "fills+points",
         "hovertemplate": "<b>transcript_name:</b> APP-204<br><b>Feature Type:</b> CDS<br><b>Feature Number:</b> 7<br><b>Chromosome:</b> 21<br><b>Start:</b> 26000015<br><b>End:</b> 26000182<br><b>Size:</b> 167<br><extra></extra>",
         "legendgroup": "protein_coding",
         "legendgrouptitle": {
          "text": ""
         },
         "line": {
          "color": "black",
          "width": 0.25
         },
         "marker": {
          "opacity": 0
         },
         "mode": "lines+markers",
         "name": "protein_coding",
         "opacity": 1,
         "showlegend": false,
         "type": "scatter",
         "x": [
          3686,
          3853,
          3853,
          3686,
          3686
         ],
         "xaxis": "x",
         "y": [
          2.75,
          2.75,
          3.25,
          3.25,
          2.75
         ],
         "yaxis": "y"
        },
        {
         "fill": "toself",
         "fillcolor": "#636EFA",
         "hoverlabel": {
          "namelength": -1
         },
         "hoveron": "fills+points",
         "hovertemplate": "<b>transcript_name:</b> APP-204<br><b>Feature Type:</b> CDS<br><b>Feature Number:</b> 6<br><b>Chromosome:</b> 21<br><b>Start:</b> 26021840<br><b>End:</b> 26022042<br><b>Size:</b> 202<br><extra></extra>",
         "legendgroup": "protein_coding",
         "legendgrouptitle": {
          "text": ""
         },
         "line": {
          "color": "black",
          "width": 0.25
         },
         "marker": {
          "opacity": 0
         },
         "mode": "lines+markers",
         "name": "protein_coding",
         "opacity": 1,
         "showlegend": false,
         "type": "scatter",
         "x": [
          3954,
          4156,
          4156,
          3954,
          3954
         ],
         "xaxis": "x",
         "y": [
          2.75,
          2.75,
          3.25,
          3.25,
          2.75
         ],
         "yaxis": "y"
        },
        {
         "fill": "toself",
         "fillcolor": "#636EFA",
         "hoverlabel": {
          "namelength": -1
         },
         "hoveron": "fills+points",
         "hovertemplate": "<b>transcript_name:</b> APP-204<br><b>Feature Type:</b> CDS<br><b>Feature Number:</b> 5<br><b>Chromosome:</b> 21<br><b>Start:</b> 26051000<br><b>End:</b> 26051193<br><b>Size:</b> 193<br><extra></extra>",
         "legendgroup": "protein_coding",
         "legendgrouptitle": {
          "text": ""
         },
         "line": {
          "color": "black",
          "width": 0.25
         },
         "marker": {
          "opacity": 0
         },
         "mode": "lines+markers",
         "name": "protein_coding",
         "opacity": 1,
         "showlegend": false,
         "type": "scatter",
         "x": [
          4257,
          4450,
          4450,
          4257,
          4257
         ],
         "xaxis": "x",
         "y": [
          2.75,
          2.75,
          3.25,
          3.25,
          2.75
         ],
         "yaxis": "y"
        },
        {
         "fill": "toself",
         "fillcolor": "#636EFA",
         "hoverlabel": {
          "namelength": -1
         },
         "hoveron": "fills+points",
         "hovertemplate": "<b>transcript_name:</b> APP-204<br><b>Feature Type:</b> CDS<br><b>Feature Number:</b> 4<br><b>Chromosome:</b> 21<br><b>Start:</b> 26053236<br><b>End:</b> 26053348<br><b>Size:</b> 112<br><extra></extra>",
         "legendgroup": "protein_coding",
         "legendgrouptitle": {
          "text": ""
         },
         "line": {
          "color": "black",
          "width": 0.25
         },
         "marker": {
          "opacity": 0
         },
         "mode": "lines+markers",
         "name": "protein_coding",
         "opacity": 1,
         "showlegend": false,
         "type": "scatter",
         "x": [
          4551,
          4663,
          4663,
          4551,
          4551
         ],
         "xaxis": "x",
         "y": [
          2.75,
          2.75,
          3.25,
          3.25,
          2.75
         ],
         "yaxis": "y"
        },
        {
         "fill": "toself",
         "fillcolor": "#636EFA",
         "hoverlabel": {
          "namelength": -1
         },
         "hoveron": "fills+points",
         "hovertemplate": "<b>transcript_name:</b> APP-204<br><b>Feature Type:</b> CDS<br><b>Feature Number:</b> 3<br><b>Chromosome:</b> 21<br><b>Start:</b> 26089943<br><b>End:</b> 26090072<br><b>Size:</b> 129<br><extra></extra>",
         "legendgroup": "protein_coding",
         "legendgrouptitle": {
          "text": ""
         },
         "line": {
          "color": "black",
          "width": 0.25
         },
         "marker": {
          "opacity": 0
         },
         "mode": "lines+markers",
         "name": "protein_coding",
         "opacity": 1,
         "showlegend": false,
         "type": "scatter",
         "x": [
          4764,
          4893,
          4893,
          4764,
          4764
         ],
         "xaxis": "x",
         "y": [
          2.75,
          2.75,
          3.25,
          3.25,
          2.75
         ],
         "yaxis": "y"
        },
        {
         "fill": "toself",
         "fillcolor": "#636EFA",
         "hoverlabel": {
          "namelength": -1
         },
         "hoveron": "fills+points",
         "hovertemplate": "<b>transcript_name:</b> APP-204<br><b>Feature Type:</b> CDS<br><b>Feature Number:</b> 2<br><b>Chromosome:</b> 21<br><b>Start:</b> 26111979<br><b>End:</b> 26112146<br><b>Size:</b> 167<br><extra></extra>",
         "legendgroup": "protein_coding",
         "legendgrouptitle": {
          "text": ""
         },
         "line": {
          "color": "black",
          "width": 0.25
         },
         "marker": {
          "opacity": 0
         },
         "mode": "lines+markers",
         "name": "protein_coding",
         "opacity": 1,
         "showlegend": false,
         "type": "scatter",
         "x": [
          4994,
          5161,
          5161,
          4994,
          4994
         ],
         "xaxis": "x",
         "y": [
          2.75,
          2.75,
          3.25,
          3.25,
          2.75
         ],
         "yaxis": "y"
        },
        {
         "fill": "toself",
         "fillcolor": "#636EFA",
         "hoverlabel": {
          "namelength": -1
         },
         "hoveron": "fills+points",
         "hovertemplate": "<b>transcript_name:</b> APP-204<br><b>Feature Type:</b> CDS<br><b>Feature Number:</b> 1<br><b>Chromosome:</b> 21<br><b>Start:</b> 26170564<br><b>End:</b> 26170620<br><b>Size:</b> 56<br><extra></extra>",
         "legendgroup": "protein_coding",
         "legendgrouptitle": {
          "text": ""
         },
         "line": {
          "color": "black",
          "width": 0.25
         },
         "marker": {
          "opacity": 0
         },
         "mode": "lines+markers",
         "name": "protein_coding",
         "opacity": 1,
         "showlegend": false,
         "type": "scatter",
         "x": [
          5262,
          5318,
          5318,
          5262,
          5262
         ],
         "xaxis": "x",
         "y": [
          2.75,
          2.75,
          3.25,
          3.25,
          2.75
         ],
         "yaxis": "y"
        },
        {
         "fill": "toself",
         "fillcolor": "#636EFA",
         "hoverlabel": {
          "namelength": -1
         },
         "hoveron": "fills+points",
         "hovertemplate": "<b>transcript_name:</b> APP-202<br><b>Feature Type:</b> CDS<br><b>Feature Number:</b> 16<br><b>Chromosome:</b> 21<br><b>Start:</b> 25881673<br><b>End:</b> 25881771<br><b>Size:</b> 98<br><extra></extra>",
         "legendgroup": "protein_coding",
         "legendgrouptitle": {
          "text": ""
         },
         "line": {
          "color": "black",
          "width": 0.25
         },
         "marker": {
          "opacity": 0
         },
         "mode": "lines+markers",
         "name": "protein_coding",
         "opacity": 1,
         "showlegend": false,
         "type": "scatter",
         "x": [
          1125,
          1223,
          1223,
          1125,
          1125
         ],
         "xaxis": "x",
         "y": [
          3.75,
          3.75,
          4.25,
          4.25,
          3.75
         ],
         "yaxis": "y"
        },
        {
         "fill": "toself",
         "fillcolor": "#636EFA",
         "hoverlabel": {
          "namelength": -1
         },
         "hoveron": "fills+points",
         "hovertemplate": "<b>transcript_name:</b> APP-202<br><b>Feature Type:</b> CDS<br><b>Feature Number:</b> 15<br><b>Chromosome:</b> 21<br><b>Start:</b> 25891722<br><b>End:</b> 25891868<br><b>Size:</b> 146<br><extra></extra>",
         "legendgroup": "protein_coding",
         "legendgrouptitle": {
          "text": ""
         },
         "line": {
          "color": "black",
          "width": 0.25
         },
         "marker": {
          "opacity": 0
         },
         "mode": "lines+markers",
         "name": "protein_coding",
         "opacity": 1,
         "showlegend": false,
         "type": "scatter",
         "x": [
          1324,
          1470,
          1470,
          1324,
          1324
         ],
         "xaxis": "x",
         "y": [
          3.75,
          3.75,
          4.25,
          4.25,
          3.75
         ],
         "yaxis": "y"
        },
        {
         "fill": "toself",
         "fillcolor": "#636EFA",
         "hoverlabel": {
          "namelength": -1
         },
         "hoveron": "fills+points",
         "hovertemplate": "<b>transcript_name:</b> APP-202<br><b>Feature Type:</b> CDS<br><b>Feature Number:</b> 14<br><b>Chromosome:</b> 21<br><b>Start:</b> 25897573<br><b>End:</b> 25897673<br><b>Size:</b> 100<br><extra></extra>",
         "legendgroup": "protein_coding",
         "legendgrouptitle": {
          "text": ""
         },
         "line": {
          "color": "black",
          "width": 0.25
         },
         "marker": {
          "opacity": 0
         },
         "mode": "lines+markers",
         "name": "protein_coding",
         "opacity": 1,
         "showlegend": false,
         "type": "scatter",
         "x": [
          1571,
          1671,
          1671,
          1571,
          1571
         ],
         "xaxis": "x",
         "y": [
          3.75,
          3.75,
          4.25,
          4.25,
          3.75
         ],
         "yaxis": "y"
        },
        {
         "fill": "toself",
         "fillcolor": "#636EFA",
         "hoverlabel": {
          "namelength": -1
         },
         "hoveron": "fills+points",
         "hovertemplate": "<b>transcript_name:</b> APP-202<br><b>Feature Type:</b> CDS<br><b>Feature Number:</b> 13<br><b>Chromosome:</b> 21<br><b>Start:</b> 25905024<br><b>End:</b> 25905077<br><b>Size:</b> 53<br><extra></extra>",
         "legendgroup": "protein_coding",
         "legendgrouptitle": {
          "text": ""
         },
         "line": {
          "color": "black",
          "width": 0.25
         },
         "marker": {
          "opacity": 0
         },
         "mode": "lines+markers",
         "name": "protein_coding",
         "opacity": 1,
         "showlegend": false,
         "type": "scatter",
         "x": [
          1772,
          1825,
          1825,
          1772,
          1772
         ],
         "xaxis": "x",
         "y": [
          3.75,
          3.75,
          4.25,
          4.25,
          3.75
         ],
         "yaxis": "y"
        },
        {
         "fill": "toself",
         "fillcolor": "#636EFA",
         "hoverlabel": {
          "namelength": -1
         },
         "hoveron": "fills+points",
         "hovertemplate": "<b>transcript_name:</b> APP-202<br><b>Feature Type:</b> CDS<br><b>Feature Number:</b> 12<br><b>Chromosome:</b> 21<br><b>Start:</b> 25911741<br><b>End:</b> 25911962<br><b>Size:</b> 221<br><extra></extra>",
         "legendgroup": "protein_coding",
         "legendgrouptitle": {
          "text": ""
         },
         "line": {
          "color": "black",
          "width": 0.25
         },
         "marker": {
          "opacity": 0
         },
         "mode": "lines+markers",
         "name": "protein_coding",
         "opacity": 1,
         "showlegend": false,
         "type": "scatter",
         "x": [
          1926,
          2147,
          2147,
          1926,
          1926
         ],
         "xaxis": "x",
         "y": [
          3.75,
          3.75,
          4.25,
          4.25,
          3.75
         ],
         "yaxis": "y"
        },
        {
         "fill": "toself",
         "fillcolor": "#636EFA",
         "hoverlabel": {
          "namelength": -1
         },
         "hoveron": "fills+points",
         "hovertemplate": "<b>transcript_name:</b> APP-202<br><b>Feature Type:</b> CDS<br><b>Feature Number:</b> 11<br><b>Chromosome:</b> 21<br><b>Start:</b> 25954590<br><b>End:</b> 25954689<br><b>Size:</b> 99<br><extra></extra>",
         "legendgroup": "protein_coding",
         "legendgrouptitle": {
          "text": ""
         },
         "line": {
          "color": "black",
          "width": 0.25
         },
         "marker": {
          "opacity": 0
         },
         "mode": "lines+markers",
         "name": "protein_coding",
         "opacity": 1,
         "showlegend": false,
         "type": "scatter",
         "x": [
          2432,
          2531,
          2531,
          2432,
          2432
         ],
         "xaxis": "x",
         "y": [
          3.75,
          3.75,
          4.25,
          4.25,
          3.75
         ],
         "yaxis": "y"
        },
        {
         "fill": "toself",
         "fillcolor": "#636EFA",
         "hoverlabel": {
          "namelength": -1
         },
         "hoveron": "fills+points",
         "hovertemplate": "<b>transcript_name:</b> APP-202<br><b>Feature Type:</b> CDS<br><b>Feature Number:</b> 10<br><b>Chromosome:</b> 21<br><b>Start:</b> 25955627<br><b>End:</b> 25955755<br><b>Size:</b> 128<br><extra></extra>",
         "legendgroup": "protein_coding",
         "legendgrouptitle": {
          "text": ""
         },
         "line": {
          "color": "black",
          "width": 0.25
         },
         "marker": {
          "opacity": 0
         },
         "mode": "lines+markers",
         "name": "protein_coding",
         "opacity": 1,
         "showlegend": false,
         "type": "scatter",
         "x": [
          2632,
          2760,
          2760,
          2632,
          2632
         ],
         "xaxis": "x",
         "y": [
          3.75,
          3.75,
          4.25,
          4.25,
          3.75
         ],
         "yaxis": "y"
        },
        {
         "fill": "toself",
         "fillcolor": "#636EFA",
         "hoverlabel": {
          "namelength": -1
         },
         "hoveron": "fills+points",
         "hovertemplate": "<b>transcript_name:</b> APP-202<br><b>Feature Type:</b> CDS<br><b>Feature Number:</b> 9<br><b>Chromosome:</b> 21<br><b>Start:</b> 25975070<br><b>End:</b> 25975228<br><b>Size:</b> 158<br><extra></extra>",
         "legendgroup": "protein_coding",
         "legendgrouptitle": {
          "text": ""
         },
         "line": {
          "color": "black",
          "width": 0.25
         },
         "marker": {
          "opacity": 0
         },
         "mode": "lines+markers",
         "name": "protein_coding",
         "opacity": 1,
         "showlegend": false,
         "type": "scatter",
         "x": [
          2861,
          3019,
          3019,
          2861,
          2861
         ],
         "xaxis": "x",
         "y": [
          3.75,
          3.75,
          4.25,
          4.25,
          3.75
         ],
         "yaxis": "y"
        },
        {
         "fill": "toself",
         "fillcolor": "#636EFA",
         "hoverlabel": {
          "namelength": -1
         },
         "hoveron": "fills+points",
         "hovertemplate": "<b>transcript_name:</b> APP-202<br><b>Feature Type:</b> CDS<br><b>Feature Number:</b> 8<br><b>Chromosome:</b> 21<br><b>Start:</b> 25975954<br><b>End:</b> 25976028<br><b>Size:</b> 74<br><extra></extra>",
         "legendgroup": "protein_coding",
         "legendgrouptitle": {
          "text": ""
         },
         "line": {
          "color": "black",
          "width": 0.25
         },
         "marker": {
          "opacity": 0
         },
         "mode": "lines+markers",
         "name": "protein_coding",
         "opacity": 1,
         "showlegend": false,
         "type": "scatter",
         "x": [
          3120,
          3194,
          3194,
          3120,
          3120
         ],
         "xaxis": "x",
         "y": [
          3.75,
          3.75,
          4.25,
          4.25,
          3.75
         ],
         "yaxis": "y"
        },
        {
         "fill": "toself",
         "fillcolor": "#636EFA",
         "hoverlabel": {
          "namelength": -1
         },
         "hoveron": "fills+points",
         "hovertemplate": "<b>transcript_name:</b> APP-202<br><b>Feature Type:</b> CDS<br><b>Feature Number:</b> 7<br><b>Chromosome:</b> 21<br><b>Start:</b> 25982344<br><b>End:</b> 25982477<br><b>Size:</b> 133<br><extra></extra>",
         "legendgroup": "protein_coding",
         "legendgrouptitle": {
          "text": ""
         },
         "line": {
          "color": "black",
          "width": 0.25
         },
         "marker": {
          "opacity": 0
         },
         "mode": "lines+markers",
         "name": "protein_coding",
         "opacity": 1,
         "showlegend": false,
         "type": "scatter",
         "x": [
          3295,
          3428,
          3428,
          3295,
          3295
         ],
         "xaxis": "x",
         "y": [
          3.75,
          3.75,
          4.25,
          4.25,
          3.75
         ],
         "yaxis": "y"
        },
        {
         "fill": "toself",
         "fillcolor": "#636EFA",
         "hoverlabel": {
          "namelength": -1
         },
         "hoveron": "fills+points",
         "hovertemplate": "<b>transcript_name:</b> APP-202<br><b>Feature Type:</b> CDS<br><b>Feature Number:</b> 6<br><b>Chromosome:</b> 21<br><b>Start:</b> 26021840<br><b>End:</b> 26022042<br><b>Size:</b> 202<br><extra></extra>",
         "legendgroup": "protein_coding",
         "legendgrouptitle": {
          "text": ""
         },
         "line": {
          "color": "black",
          "width": 0.25
         },
         "marker": {
          "opacity": 0
         },
         "mode": "lines+markers",
         "name": "protein_coding",
         "opacity": 1,
         "showlegend": false,
         "type": "scatter",
         "x": [
          3954,
          4156,
          4156,
          3954,
          3954
         ],
         "xaxis": "x",
         "y": [
          3.75,
          3.75,
          4.25,
          4.25,
          3.75
         ],
         "yaxis": "y"
        },
        {
         "fill": "toself",
         "fillcolor": "#636EFA",
         "hoverlabel": {
          "namelength": -1
         },
         "hoveron": "fills+points",
         "hovertemplate": "<b>transcript_name:</b> APP-202<br><b>Feature Type:</b> CDS<br><b>Feature Number:</b> 5<br><b>Chromosome:</b> 21<br><b>Start:</b> 26051000<br><b>End:</b> 26051193<br><b>Size:</b> 193<br><extra></extra>",
         "legendgroup": "protein_coding",
         "legendgrouptitle": {
          "text": ""
         },
         "line": {
          "color": "black",
          "width": 0.25
         },
         "marker": {
          "opacity": 0
         },
         "mode": "lines+markers",
         "name": "protein_coding",
         "opacity": 1,
         "showlegend": false,
         "type": "scatter",
         "x": [
          4257,
          4450,
          4450,
          4257,
          4257
         ],
         "xaxis": "x",
         "y": [
          3.75,
          3.75,
          4.25,
          4.25,
          3.75
         ],
         "yaxis": "y"
        },
        {
         "fill": "toself",
         "fillcolor": "#636EFA",
         "hoverlabel": {
          "namelength": -1
         },
         "hoveron": "fills+points",
         "hovertemplate": "<b>transcript_name:</b> APP-202<br><b>Feature Type:</b> CDS<br><b>Feature Number:</b> 4<br><b>Chromosome:</b> 21<br><b>Start:</b> 26053236<br><b>End:</b> 26053348<br><b>Size:</b> 112<br><extra></extra>",
         "legendgroup": "protein_coding",
         "legendgrouptitle": {
          "text": ""
         },
         "line": {
          "color": "black",
          "width": 0.25
         },
         "marker": {
          "opacity": 0
         },
         "mode": "lines+markers",
         "name": "protein_coding",
         "opacity": 1,
         "showlegend": false,
         "type": "scatter",
         "x": [
          4551,
          4663,
          4663,
          4551,
          4551
         ],
         "xaxis": "x",
         "y": [
          3.75,
          3.75,
          4.25,
          4.25,
          3.75
         ],
         "yaxis": "y"
        },
        {
         "fill": "toself",
         "fillcolor": "#636EFA",
         "hoverlabel": {
          "namelength": -1
         },
         "hoveron": "fills+points",
         "hovertemplate": "<b>transcript_name:</b> APP-202<br><b>Feature Type:</b> CDS<br><b>Feature Number:</b> 3<br><b>Chromosome:</b> 21<br><b>Start:</b> 26089943<br><b>End:</b> 26090072<br><b>Size:</b> 129<br><extra></extra>",
         "legendgroup": "protein_coding",
         "legendgrouptitle": {
          "text": ""
         },
         "line": {
          "color": "black",
          "width": 0.25
         },
         "marker": {
          "opacity": 0
         },
         "mode": "lines+markers",
         "name": "protein_coding",
         "opacity": 1,
         "showlegend": false,
         "type": "scatter",
         "x": [
          4764,
          4893,
          4893,
          4764,
          4764
         ],
         "xaxis": "x",
         "y": [
          3.75,
          3.75,
          4.25,
          4.25,
          3.75
         ],
         "yaxis": "y"
        },
        {
         "fill": "toself",
         "fillcolor": "#636EFA",
         "hoverlabel": {
          "namelength": -1
         },
         "hoveron": "fills+points",
         "hovertemplate": "<b>transcript_name:</b> APP-202<br><b>Feature Type:</b> CDS<br><b>Feature Number:</b> 2<br><b>Chromosome:</b> 21<br><b>Start:</b> 26111979<br><b>End:</b> 26112146<br><b>Size:</b> 167<br><extra></extra>",
         "legendgroup": "protein_coding",
         "legendgrouptitle": {
          "text": ""
         },
         "line": {
          "color": "black",
          "width": 0.25
         },
         "marker": {
          "opacity": 0
         },
         "mode": "lines+markers",
         "name": "protein_coding",
         "opacity": 1,
         "showlegend": false,
         "type": "scatter",
         "x": [
          4994,
          5161,
          5161,
          4994,
          4994
         ],
         "xaxis": "x",
         "y": [
          3.75,
          3.75,
          4.25,
          4.25,
          3.75
         ],
         "yaxis": "y"
        },
        {
         "fill": "toself",
         "fillcolor": "#636EFA",
         "hoverlabel": {
          "namelength": -1
         },
         "hoveron": "fills+points",
         "hovertemplate": "<b>transcript_name:</b> APP-202<br><b>Feature Type:</b> CDS<br><b>Feature Number:</b> 1<br><b>Chromosome:</b> 21<br><b>Start:</b> 26170564<br><b>End:</b> 26170620<br><b>Size:</b> 56<br><extra></extra>",
         "legendgroup": "protein_coding",
         "legendgrouptitle": {
          "text": ""
         },
         "line": {
          "color": "black",
          "width": 0.25
         },
         "marker": {
          "opacity": 0
         },
         "mode": "lines+markers",
         "name": "protein_coding",
         "opacity": 1,
         "showlegend": false,
         "type": "scatter",
         "x": [
          5262,
          5318,
          5318,
          5262,
          5262
         ],
         "xaxis": "x",
         "y": [
          3.75,
          3.75,
          4.25,
          4.25,
          3.75
         ],
         "yaxis": "y"
        },
        {
         "hovertemplate": "<b>transcript_name:</b> APP-201<br><b>Feature Type:</b> intron<br><b>Feature Number:</b> 17<br><b>Chromosome:</b> 21<br><b>Start:</b> 25881771<br><b>End:</b> 25891722<br><b>Size:</b> 9951<br><extra></extra>",
         "line": {
          "color": "black",
          "width": 0.5
         },
         "mode": "lines",
         "opacity": 1,
         "showlegend": false,
         "type": "scatter",
         "x": [
          1223,
          1324
         ],
         "xaxis": "x",
         "y": [
          0,
          0
         ],
         "yaxis": "y"
        },
        {
         "hovertemplate": "<b>transcript_name:</b> APP-201<br><b>Feature Type:</b> intron<br><b>Feature Number:</b> 16<br><b>Chromosome:</b> 21<br><b>Start:</b> 25891868<br><b>End:</b> 25897573<br><b>Size:</b> 5705<br><extra></extra>",
         "line": {
          "color": "black",
          "width": 0.5
         },
         "mode": "lines",
         "opacity": 1,
         "showlegend": false,
         "type": "scatter",
         "x": [
          1470,
          1571
         ],
         "xaxis": "x",
         "y": [
          0,
          0
         ],
         "yaxis": "y"
        },
        {
         "hovertemplate": "<b>transcript_name:</b> APP-201<br><b>Feature Type:</b> intron<br><b>Feature Number:</b> 15<br><b>Chromosome:</b> 21<br><b>Start:</b> 25897673<br><b>End:</b> 25905024<br><b>Size:</b> 7351<br><extra></extra>",
         "line": {
          "color": "black",
          "width": 0.5
         },
         "mode": "lines",
         "opacity": 1,
         "showlegend": false,
         "type": "scatter",
         "x": [
          1671,
          1772
         ],
         "xaxis": "x",
         "y": [
          0,
          0
         ],
         "yaxis": "y"
        },
        {
         "hovertemplate": "<b>transcript_name:</b> APP-201<br><b>Feature Type:</b> intron<br><b>Feature Number:</b> 14<br><b>Chromosome:</b> 21<br><b>Start:</b> 25905077<br><b>End:</b> 25911741<br><b>Size:</b> 6664<br><extra></extra>",
         "line": {
          "color": "black",
          "width": 0.5
         },
         "mode": "lines",
         "opacity": 1,
         "showlegend": false,
         "type": "scatter",
         "x": [
          1825,
          1926
         ],
         "xaxis": "x",
         "y": [
          0,
          0
         ],
         "yaxis": "y"
        },
        {
         "hovertemplate": "<b>transcript_name:</b> APP-201<br><b>Feature Type:</b> intron<br><b>Feature Number:</b> 13<br><b>Chromosome:</b> 21<br><b>Start:</b> 25911962<br><b>End:</b> 25954590<br><b>Size:</b> 42628<br><extra></extra>",
         "line": {
          "color": "black",
          "width": 0.5
         },
         "mode": "lines",
         "opacity": 1,
         "showlegend": false,
         "type": "scatter",
         "x": [
          2147,
          2432
         ],
         "xaxis": "x",
         "y": [
          0,
          0
         ],
         "yaxis": "y"
        },
        {
         "hovertemplate": "<b>transcript_name:</b> APP-201<br><b>Feature Type:</b> intron<br><b>Feature Number:</b> 12<br><b>Chromosome:</b> 21<br><b>Start:</b> 25954689<br><b>End:</b> 25955627<br><b>Size:</b> 938<br><extra></extra>",
         "line": {
          "color": "black",
          "width": 0.5
         },
         "mode": "lines",
         "opacity": 1,
         "showlegend": false,
         "type": "scatter",
         "x": [
          2531,
          2632
         ],
         "xaxis": "x",
         "y": [
          0,
          0
         ],
         "yaxis": "y"
        },
        {
         "hovertemplate": "<b>transcript_name:</b> APP-201<br><b>Feature Type:</b> intron<br><b>Feature Number:</b> 11<br><b>Chromosome:</b> 21<br><b>Start:</b> 25955755<br><b>End:</b> 25975070<br><b>Size:</b> 19315<br><extra></extra>",
         "line": {
          "color": "black",
          "width": 0.5
         },
         "mode": "lines",
         "opacity": 1,
         "showlegend": false,
         "type": "scatter",
         "x": [
          2760,
          2861
         ],
         "xaxis": "x",
         "y": [
          0,
          0
         ],
         "yaxis": "y"
        },
        {
         "hovertemplate": "<b>transcript_name:</b> APP-201<br><b>Feature Type:</b> intron<br><b>Feature Number:</b> 10<br><b>Chromosome:</b> 21<br><b>Start:</b> 25975228<br><b>End:</b> 25975954<br><b>Size:</b> 726<br><extra></extra>",
         "line": {
          "color": "black",
          "width": 0.5
         },
         "mode": "lines",
         "opacity": 1,
         "showlegend": false,
         "type": "scatter",
         "x": [
          3019,
          3120
         ],
         "xaxis": "x",
         "y": [
          0,
          0
         ],
         "yaxis": "y"
        },
        {
         "hovertemplate": "<b>transcript_name:</b> APP-201<br><b>Feature Type:</b> intron<br><b>Feature Number:</b> 9<br><b>Chromosome:</b> 21<br><b>Start:</b> 25976028<br><b>End:</b> 25982344<br><b>Size:</b> 6316<br><extra></extra>",
         "line": {
          "color": "black",
          "width": 0.5
         },
         "mode": "lines",
         "opacity": 1,
         "showlegend": false,
         "type": "scatter",
         "x": [
          3194,
          3295
         ],
         "xaxis": "x",
         "y": [
          0,
          0
         ],
         "yaxis": "y"
        },
        {
         "hovertemplate": "<b>transcript_name:</b> APP-201<br><b>Feature Type:</b> intron<br><b>Feature Number:</b> 8<br><b>Chromosome:</b> 21<br><b>Start:</b> 25982477<br><b>End:</b> 25997360<br><b>Size:</b> 14883<br><extra></extra>",
         "line": {
          "color": "black",
          "width": 0.5
         },
         "mode": "lines",
         "opacity": 1,
         "showlegend": false,
         "type": "scatter",
         "x": [
          3428,
          3529
         ],
         "xaxis": "x",
         "y": [
          0,
          0
         ],
         "yaxis": "y"
        },
        {
         "hovertemplate": "<b>transcript_name:</b> APP-201<br><b>Feature Type:</b> intron<br><b>Feature Number:</b> 7<br><b>Chromosome:</b> 21<br><b>Start:</b> 25997416<br><b>End:</b> 26000015<br><b>Size:</b> 2599<br><extra></extra>",
         "line": {
          "color": "black",
          "width": 0.5
         },
         "mode": "lines",
         "opacity": 1,
         "showlegend": false,
         "type": "scatter",
         "x": [
          3585,
          3686
         ],
         "xaxis": "x",
         "y": [
          0,
          0
         ],
         "yaxis": "y"
        },
        {
         "hovertemplate": "<b>transcript_name:</b> APP-201<br><b>Feature Type:</b> intron<br><b>Feature Number:</b> 6<br><b>Chromosome:</b> 21<br><b>Start:</b> 26000182<br><b>End:</b> 26021840<br><b>Size:</b> 21658<br><extra></extra>",
         "line": {
          "color": "black",
          "width": 0.5
         },
         "mode": "lines",
         "opacity": 1,
         "showlegend": false,
         "type": "scatter",
         "x": [
          3853,
          3954
         ],
         "xaxis": "x",
         "y": [
          0,
          0
         ],
         "yaxis": "y"
        },
        {
         "hovertemplate": "<b>transcript_name:</b> APP-201<br><b>Feature Type:</b> intron<br><b>Feature Number:</b> 5<br><b>Chromosome:</b> 21<br><b>Start:</b> 26022042<br><b>End:</b> 26051000<br><b>Size:</b> 28958<br><extra></extra>",
         "line": {
          "color": "black",
          "width": 0.5
         },
         "mode": "lines",
         "opacity": 1,
         "showlegend": false,
         "type": "scatter",
         "x": [
          4156,
          4257
         ],
         "xaxis": "x",
         "y": [
          0,
          0
         ],
         "yaxis": "y"
        },
        {
         "hovertemplate": "<b>transcript_name:</b> APP-201<br><b>Feature Type:</b> intron<br><b>Feature Number:</b> 4<br><b>Chromosome:</b> 21<br><b>Start:</b> 26051193<br><b>End:</b> 26053236<br><b>Size:</b> 2043<br><extra></extra>",
         "line": {
          "color": "black",
          "width": 0.5
         },
         "mode": "lines",
         "opacity": 1,
         "showlegend": false,
         "type": "scatter",
         "x": [
          4450,
          4551
         ],
         "xaxis": "x",
         "y": [
          0,
          0
         ],
         "yaxis": "y"
        },
        {
         "hovertemplate": "<b>transcript_name:</b> APP-201<br><b>Feature Type:</b> intron<br><b>Feature Number:</b> 3<br><b>Chromosome:</b> 21<br><b>Start:</b> 26053348<br><b>End:</b> 26089943<br><b>Size:</b> 36595<br><extra></extra>",
         "line": {
          "color": "black",
          "width": 0.5
         },
         "mode": "lines",
         "opacity": 1,
         "showlegend": false,
         "type": "scatter",
         "x": [
          4663,
          4764
         ],
         "xaxis": "x",
         "y": [
          0,
          0
         ],
         "yaxis": "y"
        },
        {
         "hovertemplate": "<b>transcript_name:</b> APP-201<br><b>Feature Type:</b> intron<br><b>Feature Number:</b> 2<br><b>Chromosome:</b> 21<br><b>Start:</b> 26090072<br><b>End:</b> 26111979<br><b>Size:</b> 21907<br><extra></extra>",
         "line": {
          "color": "black",
          "width": 0.5
         },
         "mode": "lines",
         "opacity": 1,
         "showlegend": false,
         "type": "scatter",
         "x": [
          4893,
          4994
         ],
         "xaxis": "x",
         "y": [
          0,
          0
         ],
         "yaxis": "y"
        },
        {
         "hovertemplate": "<b>transcript_name:</b> APP-201<br><b>Feature Type:</b> intron<br><b>Feature Number:</b> 1<br><b>Chromosome:</b> 21<br><b>Start:</b> 26112146<br><b>End:</b> 26170564<br><b>Size:</b> 58418<br><extra></extra>",
         "line": {
          "color": "black",
          "width": 0.5
         },
         "mode": "lines",
         "opacity": 1,
         "showlegend": false,
         "type": "scatter",
         "x": [
          5161,
          5262
         ],
         "xaxis": "x",
         "y": [
          0,
          0
         ],
         "yaxis": "y"
        },
        {
         "hovertemplate": "<b>transcript_name:</b> APP-219<br><b>Feature Type:</b> intron<br><b>Feature Number:</b> 5<br><b>Chromosome:</b> 21<br><b>Start:</b> 25881771<br><b>End:</b> 25891722<br><b>Size:</b> 9951<br><extra></extra>",
         "line": {
          "color": "black",
          "width": 0.5
         },
         "mode": "lines",
         "opacity": 1,
         "showlegend": false,
         "type": "scatter",
         "x": [
          1223,
          1324
         ],
         "xaxis": "x",
         "y": [
          1,
          1
         ],
         "yaxis": "y"
        },
        {
         "hovertemplate": "<b>transcript_name:</b> APP-219<br><b>Feature Type:</b> intron<br><b>Feature Number:</b> 4<br><b>Chromosome:</b> 21<br><b>Start:</b> 25891868<br><b>End:</b> 25897573<br><b>Size:</b> 5705<br><extra></extra>",
         "line": {
          "color": "black",
          "width": 0.5
         },
         "mode": "lines",
         "opacity": 1,
         "showlegend": false,
         "type": "scatter",
         "x": [
          1470,
          1571
         ],
         "xaxis": "x",
         "y": [
          1,
          1
         ],
         "yaxis": "y"
        },
        {
         "hovertemplate": "<b>transcript_name:</b> APP-219<br><b>Feature Type:</b> intron<br><b>Feature Number:</b> 3<br><b>Chromosome:</b> 21<br><b>Start:</b> 25897673<br><b>End:</b> 25905024<br><b>Size:</b> 7351<br><extra></extra>",
         "line": {
          "color": "black",
          "width": 0.5
         },
         "mode": "lines",
         "opacity": 1,
         "showlegend": false,
         "type": "scatter",
         "x": [
          1671,
          1772
         ],
         "xaxis": "x",
         "y": [
          1,
          1
         ],
         "yaxis": "y"
        },
        {
         "hovertemplate": "<b>transcript_name:</b> APP-219<br><b>Feature Type:</b> intron<br><b>Feature Number:</b> 2<br><b>Chromosome:</b> 21<br><b>Start:</b> 25905077<br><b>End:</b> 25911741<br><b>Size:</b> 6664<br><extra></extra>",
         "line": {
          "color": "black",
          "width": 0.5
         },
         "mode": "lines",
         "opacity": 1,
         "showlegend": false,
         "type": "scatter",
         "x": [
          1825,
          1926
         ],
         "xaxis": "x",
         "y": [
          1,
          1
         ],
         "yaxis": "y"
        },
        {
         "hovertemplate": "<b>transcript_name:</b> APP-219<br><b>Feature Type:</b> intron<br><b>Feature Number:</b> 1<br><b>Chromosome:</b> 21<br><b>Start:</b> 25911962<br><b>End:</b> 25925059<br><b>Size:</b> 13097<br><extra></extra>",
         "line": {
          "color": "black",
          "width": 0.5
         },
         "mode": "lines",
         "opacity": 1,
         "showlegend": false,
         "type": "scatter",
         "x": [
          2147,
          2248
         ],
         "xaxis": "x",
         "y": [
          1,
          1
         ],
         "yaxis": "y"
        },
        {
         "hovertemplate": "<b>transcript_name:</b> APP-206<br><b>Feature Type:</b> intron<br><b>Feature Number:</b> 15<br><b>Chromosome:</b> 21<br><b>Start:</b> 25881771<br><b>End:</b> 25891722<br><b>Size:</b> 9951<br><extra></extra>",
         "line": {
          "color": "black",
          "width": 0.5
         },
         "mode": "lines",
         "opacity": 1,
         "showlegend": false,
         "type": "scatter",
         "x": [
          1223,
          1324
         ],
         "xaxis": "x",
         "y": [
          2,
          2
         ],
         "yaxis": "y"
        },
        {
         "hovertemplate": "<b>transcript_name:</b> APP-206<br><b>Feature Type:</b> intron<br><b>Feature Number:</b> 14<br><b>Chromosome:</b> 21<br><b>Start:</b> 25891868<br><b>End:</b> 25897573<br><b>Size:</b> 5705<br><extra></extra>",
         "line": {
          "color": "black",
          "width": 0.5
         },
         "mode": "lines",
         "opacity": 1,
         "showlegend": false,
         "type": "scatter",
         "x": [
          1470,
          1571
         ],
         "xaxis": "x",
         "y": [
          2,
          2
         ],
         "yaxis": "y"
        },
        {
         "hovertemplate": "<b>transcript_name:</b> APP-206<br><b>Feature Type:</b> intron<br><b>Feature Number:</b> 13<br><b>Chromosome:</b> 21<br><b>Start:</b> 25897673<br><b>End:</b> 25905024<br><b>Size:</b> 7351<br><extra></extra>",
         "line": {
          "color": "black",
          "width": 0.5
         },
         "mode": "lines",
         "opacity": 1,
         "showlegend": false,
         "type": "scatter",
         "x": [
          1671,
          1772
         ],
         "xaxis": "x",
         "y": [
          2,
          2
         ],
         "yaxis": "y"
        },
        {
         "hovertemplate": "<b>transcript_name:</b> APP-206<br><b>Feature Type:</b> intron<br><b>Feature Number:</b> 12<br><b>Chromosome:</b> 21<br><b>Start:</b> 25905077<br><b>End:</b> 25911741<br><b>Size:</b> 6664<br><extra></extra>",
         "line": {
          "color": "black",
          "width": 0.5
         },
         "mode": "lines",
         "opacity": 1,
         "showlegend": false,
         "type": "scatter",
         "x": [
          1825,
          1926
         ],
         "xaxis": "x",
         "y": [
          2,
          2
         ],
         "yaxis": "y"
        },
        {
         "hovertemplate": "<b>transcript_name:</b> APP-206<br><b>Feature Type:</b> intron<br><b>Feature Number:</b> 11<br><b>Chromosome:</b> 21<br><b>Start:</b> 25911962<br><b>End:</b> 25954590<br><b>Size:</b> 42628<br><extra></extra>",
         "line": {
          "color": "black",
          "width": 0.5
         },
         "mode": "lines",
         "opacity": 1,
         "showlegend": false,
         "type": "scatter",
         "x": [
          2147,
          2432
         ],
         "xaxis": "x",
         "y": [
          2,
          2
         ],
         "yaxis": "y"
        },
        {
         "hovertemplate": "<b>transcript_name:</b> APP-206<br><b>Feature Type:</b> intron<br><b>Feature Number:</b> 10<br><b>Chromosome:</b> 21<br><b>Start:</b> 25954689<br><b>End:</b> 25955627<br><b>Size:</b> 938<br><extra></extra>",
         "line": {
          "color": "black",
          "width": 0.5
         },
         "mode": "lines",
         "opacity": 1,
         "showlegend": false,
         "type": "scatter",
         "x": [
          2531,
          2632
         ],
         "xaxis": "x",
         "y": [
          2,
          2
         ],
         "yaxis": "y"
        },
        {
         "hovertemplate": "<b>transcript_name:</b> APP-206<br><b>Feature Type:</b> intron<br><b>Feature Number:</b> 9<br><b>Chromosome:</b> 21<br><b>Start:</b> 25955755<br><b>End:</b> 25975070<br><b>Size:</b> 19315<br><extra></extra>",
         "line": {
          "color": "black",
          "width": 0.5
         },
         "mode": "lines",
         "opacity": 1,
         "showlegend": false,
         "type": "scatter",
         "x": [
          2760,
          2861
         ],
         "xaxis": "x",
         "y": [
          2,
          2
         ],
         "yaxis": "y"
        },
        {
         "hovertemplate": "<b>transcript_name:</b> APP-206<br><b>Feature Type:</b> intron<br><b>Feature Number:</b> 8<br><b>Chromosome:</b> 21<br><b>Start:</b> 25975228<br><b>End:</b> 25975954<br><b>Size:</b> 726<br><extra></extra>",
         "line": {
          "color": "black",
          "width": 0.5
         },
         "mode": "lines",
         "opacity": 1,
         "showlegend": false,
         "type": "scatter",
         "x": [
          3019,
          3120
         ],
         "xaxis": "x",
         "y": [
          2,
          2
         ],
         "yaxis": "y"
        },
        {
         "hovertemplate": "<b>transcript_name:</b> APP-206<br><b>Feature Type:</b> intron<br><b>Feature Number:</b> 7<br><b>Chromosome:</b> 21<br><b>Start:</b> 25976028<br><b>End:</b> 25982344<br><b>Size:</b> 6316<br><extra></extra>",
         "line": {
          "color": "black",
          "width": 0.5
         },
         "mode": "lines",
         "opacity": 1,
         "showlegend": false,
         "type": "scatter",
         "x": [
          3194,
          3295
         ],
         "xaxis": "x",
         "y": [
          2,
          2
         ],
         "yaxis": "y"
        },
        {
         "hoverinfo": "skip",
         "marker": {
          "color": "black",
          "size": 6,
          "symbol": "arrow-left"
         },
         "mode": "markers",
         "opacity": 1,
         "showlegend": false,
         "type": "scatter",
         "x": [
          3615.8571428571427
         ],
         "xaxis": "x",
         "y": [
          2
         ],
         "yaxis": "y"
        },
        {
         "hovertemplate": "<b>transcript_name:</b> APP-206<br><b>Feature Type:</b> intron<br><b>Feature Number:</b> 6<br><b>Chromosome:</b> 21<br><b>Start:</b> 25982477<br><b>End:</b> 26021840<br><b>Size:</b> 39363<br><extra></extra>",
         "line": {
          "color": "black",
          "width": 0.5
         },
         "mode": "lines",
         "opacity": 1,
         "showlegend": false,
         "type": "scatter",
         "x": [
          3428,
          3954
         ],
         "xaxis": "x",
         "y": [
          2,
          2
         ],
         "yaxis": "y"
        },
        {
         "hovertemplate": "<b>transcript_name:</b> APP-206<br><b>Feature Type:</b> intron<br><b>Feature Number:</b> 5<br><b>Chromosome:</b> 21<br><b>Start:</b> 26022042<br><b>End:</b> 26051000<br><b>Size:</b> 28958<br><extra></extra>",
         "line": {
          "color": "black",
          "width": 0.5
         },
         "mode": "lines",
         "opacity": 1,
         "showlegend": false,
         "type": "scatter",
         "x": [
          4156,
          4257
         ],
         "xaxis": "x",
         "y": [
          2,
          2
         ],
         "yaxis": "y"
        },
        {
         "hovertemplate": "<b>transcript_name:</b> APP-206<br><b>Feature Type:</b> intron<br><b>Feature Number:</b> 4<br><b>Chromosome:</b> 21<br><b>Start:</b> 26051193<br><b>End:</b> 26053236<br><b>Size:</b> 2043<br><extra></extra>",
         "line": {
          "color": "black",
          "width": 0.5
         },
         "mode": "lines",
         "opacity": 1,
         "showlegend": false,
         "type": "scatter",
         "x": [
          4450,
          4551
         ],
         "xaxis": "x",
         "y": [
          2,
          2
         ],
         "yaxis": "y"
        },
        {
         "hovertemplate": "<b>transcript_name:</b> APP-206<br><b>Feature Type:</b> intron<br><b>Feature Number:</b> 3<br><b>Chromosome:</b> 21<br><b>Start:</b> 26053348<br><b>End:</b> 26089943<br><b>Size:</b> 36595<br><extra></extra>",
         "line": {
          "color": "black",
          "width": 0.5
         },
         "mode": "lines",
         "opacity": 1,
         "showlegend": false,
         "type": "scatter",
         "x": [
          4663,
          4764
         ],
         "xaxis": "x",
         "y": [
          2,
          2
         ],
         "yaxis": "y"
        },
        {
         "hovertemplate": "<b>transcript_name:</b> APP-206<br><b>Feature Type:</b> intron<br><b>Feature Number:</b> 2<br><b>Chromosome:</b> 21<br><b>Start:</b> 26090072<br><b>End:</b> 26111979<br><b>Size:</b> 21907<br><extra></extra>",
         "line": {
          "color": "black",
          "width": 0.5
         },
         "mode": "lines",
         "opacity": 1,
         "showlegend": false,
         "type": "scatter",
         "x": [
          4893,
          4994
         ],
         "xaxis": "x",
         "y": [
          2,
          2
         ],
         "yaxis": "y"
        },
        {
         "hoverinfo": "skip",
         "marker": {
          "color": "black",
          "size": 6,
          "symbol": "arrow-left"
         },
         "mode": "markers",
         "opacity": 1,
         "showlegend": false,
         "type": "scatter",
         "x": [
          5312.785714285715
         ],
         "xaxis": "x",
         "y": [
          2
         ],
         "yaxis": "y"
        },
        {
         "hovertemplate": "<b>transcript_name:</b> APP-206<br><b>Feature Type:</b> intron<br><b>Feature Number:</b> 1<br><b>Chromosome:</b> 21<br><b>Start:</b> 26112146<br><b>End:</b> 26170985<br><b>Size:</b> 58839<br><extra></extra>",
         "line": {
          "color": "black",
          "width": 0.5
         },
         "mode": "lines",
         "opacity": 1,
         "showlegend": false,
         "type": "scatter",
         "x": [
          5161,
          5586
         ],
         "xaxis": "x",
         "y": [
          2,
          2
         ],
         "yaxis": "y"
        },
        {
         "hovertemplate": "<b>transcript_name:</b> APP-204<br><b>Feature Type:</b> intron<br><b>Feature Number:</b> 16<br><b>Chromosome:</b> 21<br><b>Start:</b> 25881771<br><b>End:</b> 25891722<br><b>Size:</b> 9951<br><extra></extra>",
         "line": {
          "color": "black",
          "width": 0.5
         },
         "mode": "lines",
         "opacity": 1,
         "showlegend": false,
         "type": "scatter",
         "x": [
          1223,
          1324
         ],
         "xaxis": "x",
         "y": [
          3,
          3
         ],
         "yaxis": "y"
        },
        {
         "hovertemplate": "<b>transcript_name:</b> APP-204<br><b>Feature Type:</b> intron<br><b>Feature Number:</b> 15<br><b>Chromosome:</b> 21<br><b>Start:</b> 25891868<br><b>End:</b> 25897573<br><b>Size:</b> 5705<br><extra></extra>",
         "line": {
          "color": "black",
          "width": 0.5
         },
         "mode": "lines",
         "opacity": 1,
         "showlegend": false,
         "type": "scatter",
         "x": [
          1470,
          1571
         ],
         "xaxis": "x",
         "y": [
          3,
          3
         ],
         "yaxis": "y"
        },
        {
         "hovertemplate": "<b>transcript_name:</b> APP-204<br><b>Feature Type:</b> intron<br><b>Feature Number:</b> 14<br><b>Chromosome:</b> 21<br><b>Start:</b> 25897673<br><b>End:</b> 25905024<br><b>Size:</b> 7351<br><extra></extra>",
         "line": {
          "color": "black",
          "width": 0.5
         },
         "mode": "lines",
         "opacity": 1,
         "showlegend": false,
         "type": "scatter",
         "x": [
          1671,
          1772
         ],
         "xaxis": "x",
         "y": [
          3,
          3
         ],
         "yaxis": "y"
        },
        {
         "hovertemplate": "<b>transcript_name:</b> APP-204<br><b>Feature Type:</b> intron<br><b>Feature Number:</b> 13<br><b>Chromosome:</b> 21<br><b>Start:</b> 25905077<br><b>End:</b> 25911741<br><b>Size:</b> 6664<br><extra></extra>",
         "line": {
          "color": "black",
          "width": 0.5
         },
         "mode": "lines",
         "opacity": 1,
         "showlegend": false,
         "type": "scatter",
         "x": [
          1825,
          1926
         ],
         "xaxis": "x",
         "y": [
          3,
          3
         ],
         "yaxis": "y"
        },
        {
         "hovertemplate": "<b>transcript_name:</b> APP-204<br><b>Feature Type:</b> intron<br><b>Feature Number:</b> 12<br><b>Chromosome:</b> 21<br><b>Start:</b> 25911962<br><b>End:</b> 25954590<br><b>Size:</b> 42628<br><extra></extra>",
         "line": {
          "color": "black",
          "width": 0.5
         },
         "mode": "lines",
         "opacity": 1,
         "showlegend": false,
         "type": "scatter",
         "x": [
          2147,
          2432
         ],
         "xaxis": "x",
         "y": [
          3,
          3
         ],
         "yaxis": "y"
        },
        {
         "hovertemplate": "<b>transcript_name:</b> APP-204<br><b>Feature Type:</b> intron<br><b>Feature Number:</b> 11<br><b>Chromosome:</b> 21<br><b>Start:</b> 25954689<br><b>End:</b> 25955627<br><b>Size:</b> 938<br><extra></extra>",
         "line": {
          "color": "black",
          "width": 0.5
         },
         "mode": "lines",
         "opacity": 1,
         "showlegend": false,
         "type": "scatter",
         "x": [
          2531,
          2632
         ],
         "xaxis": "x",
         "y": [
          3,
          3
         ],
         "yaxis": "y"
        },
        {
         "hovertemplate": "<b>transcript_name:</b> APP-204<br><b>Feature Type:</b> intron<br><b>Feature Number:</b> 10<br><b>Chromosome:</b> 21<br><b>Start:</b> 25955755<br><b>End:</b> 25975070<br><b>Size:</b> 19315<br><extra></extra>",
         "line": {
          "color": "black",
          "width": 0.5
         },
         "mode": "lines",
         "opacity": 1,
         "showlegend": false,
         "type": "scatter",
         "x": [
          2760,
          2861
         ],
         "xaxis": "x",
         "y": [
          3,
          3
         ],
         "yaxis": "y"
        },
        {
         "hovertemplate": "<b>transcript_name:</b> APP-204<br><b>Feature Type:</b> intron<br><b>Feature Number:</b> 9<br><b>Chromosome:</b> 21<br><b>Start:</b> 25975228<br><b>End:</b> 25975954<br><b>Size:</b> 726<br><extra></extra>",
         "line": {
          "color": "black",
          "width": 0.5
         },
         "mode": "lines",
         "opacity": 1,
         "showlegend": false,
         "type": "scatter",
         "x": [
          3019,
          3120
         ],
         "xaxis": "x",
         "y": [
          3,
          3
         ],
         "yaxis": "y"
        },
        {
         "hovertemplate": "<b>transcript_name:</b> APP-204<br><b>Feature Type:</b> intron<br><b>Feature Number:</b> 8<br><b>Chromosome:</b> 21<br><b>Start:</b> 25976028<br><b>End:</b> 25982344<br><b>Size:</b> 6316<br><extra></extra>",
         "line": {
          "color": "black",
          "width": 0.5
         },
         "mode": "lines",
         "opacity": 1,
         "showlegend": false,
         "type": "scatter",
         "x": [
          3194,
          3295
         ],
         "xaxis": "x",
         "y": [
          3,
          3
         ],
         "yaxis": "y"
        },
        {
         "hovertemplate": "<b>transcript_name:</b> APP-204<br><b>Feature Type:</b> intron<br><b>Feature Number:</b> 7<br><b>Chromosome:</b> 21<br><b>Start:</b> 25982477<br><b>End:</b> 26000015<br><b>Size:</b> 17538<br><extra></extra>",
         "line": {
          "color": "black",
          "width": 0.5
         },
         "mode": "lines",
         "opacity": 1,
         "showlegend": false,
         "type": "scatter",
         "x": [
          3428,
          3686
         ],
         "xaxis": "x",
         "y": [
          3,
          3
         ],
         "yaxis": "y"
        },
        {
         "hovertemplate": "<b>transcript_name:</b> APP-204<br><b>Feature Type:</b> intron<br><b>Feature Number:</b> 6<br><b>Chromosome:</b> 21<br><b>Start:</b> 26000182<br><b>End:</b> 26021840<br><b>Size:</b> 21658<br><extra></extra>",
         "line": {
          "color": "black",
          "width": 0.5
         },
         "mode": "lines",
         "opacity": 1,
         "showlegend": false,
         "type": "scatter",
         "x": [
          3853,
          3954
         ],
         "xaxis": "x",
         "y": [
          3,
          3
         ],
         "yaxis": "y"
        },
        {
         "hovertemplate": "<b>transcript_name:</b> APP-204<br><b>Feature Type:</b> intron<br><b>Feature Number:</b> 5<br><b>Chromosome:</b> 21<br><b>Start:</b> 26022042<br><b>End:</b> 26051000<br><b>Size:</b> 28958<br><extra></extra>",
         "line": {
          "color": "black",
          "width": 0.5
         },
         "mode": "lines",
         "opacity": 1,
         "showlegend": false,
         "type": "scatter",
         "x": [
          4156,
          4257
         ],
         "xaxis": "x",
         "y": [
          3,
          3
         ],
         "yaxis": "y"
        },
        {
         "hovertemplate": "<b>transcript_name:</b> APP-204<br><b>Feature Type:</b> intron<br><b>Feature Number:</b> 4<br><b>Chromosome:</b> 21<br><b>Start:</b> 26051193<br><b>End:</b> 26053236<br><b>Size:</b> 2043<br><extra></extra>",
         "line": {
          "color": "black",
          "width": 0.5
         },
         "mode": "lines",
         "opacity": 1,
         "showlegend": false,
         "type": "scatter",
         "x": [
          4450,
          4551
         ],
         "xaxis": "x",
         "y": [
          3,
          3
         ],
         "yaxis": "y"
        },
        {
         "hovertemplate": "<b>transcript_name:</b> APP-204<br><b>Feature Type:</b> intron<br><b>Feature Number:</b> 3<br><b>Chromosome:</b> 21<br><b>Start:</b> 26053348<br><b>End:</b> 26089943<br><b>Size:</b> 36595<br><extra></extra>",
         "line": {
          "color": "black",
          "width": 0.5
         },
         "mode": "lines",
         "opacity": 1,
         "showlegend": false,
         "type": "scatter",
         "x": [
          4663,
          4764
         ],
         "xaxis": "x",
         "y": [
          3,
          3
         ],
         "yaxis": "y"
        },
        {
         "hovertemplate": "<b>transcript_name:</b> APP-204<br><b>Feature Type:</b> intron<br><b>Feature Number:</b> 2<br><b>Chromosome:</b> 21<br><b>Start:</b> 26090072<br><b>End:</b> 26111979<br><b>Size:</b> 21907<br><extra></extra>",
         "line": {
          "color": "black",
          "width": 0.5
         },
         "mode": "lines",
         "opacity": 1,
         "showlegend": false,
         "type": "scatter",
         "x": [
          4893,
          4994
         ],
         "xaxis": "x",
         "y": [
          3,
          3
         ],
         "yaxis": "y"
        },
        {
         "hovertemplate": "<b>transcript_name:</b> APP-204<br><b>Feature Type:</b> intron<br><b>Feature Number:</b> 1<br><b>Chromosome:</b> 21<br><b>Start:</b> 26112146<br><b>End:</b> 26170564<br><b>Size:</b> 58418<br><extra></extra>",
         "line": {
          "color": "black",
          "width": 0.5
         },
         "mode": "lines",
         "opacity": 1,
         "showlegend": false,
         "type": "scatter",
         "x": [
          5161,
          5262
         ],
         "xaxis": "x",
         "y": [
          3,
          3
         ],
         "yaxis": "y"
        },
        {
         "hovertemplate": "<b>transcript_name:</b> APP-202<br><b>Feature Type:</b> intron<br><b>Feature Number:</b> 15<br><b>Chromosome:</b> 21<br><b>Start:</b> 25881771<br><b>End:</b> 25891722<br><b>Size:</b> 9951<br><extra></extra>",
         "line": {
          "color": "black",
          "width": 0.5
         },
         "mode": "lines",
         "opacity": 1,
         "showlegend": false,
         "type": "scatter",
         "x": [
          1223,
          1324
         ],
         "xaxis": "x",
         "y": [
          4,
          4
         ],
         "yaxis": "y"
        },
        {
         "hovertemplate": "<b>transcript_name:</b> APP-202<br><b>Feature Type:</b> intron<br><b>Feature Number:</b> 14<br><b>Chromosome:</b> 21<br><b>Start:</b> 25891868<br><b>End:</b> 25897573<br><b>Size:</b> 5705<br><extra></extra>",
         "line": {
          "color": "black",
          "width": 0.5
         },
         "mode": "lines",
         "opacity": 1,
         "showlegend": false,
         "type": "scatter",
         "x": [
          1470,
          1571
         ],
         "xaxis": "x",
         "y": [
          4,
          4
         ],
         "yaxis": "y"
        },
        {
         "hovertemplate": "<b>transcript_name:</b> APP-202<br><b>Feature Type:</b> intron<br><b>Feature Number:</b> 13<br><b>Chromosome:</b> 21<br><b>Start:</b> 25897673<br><b>End:</b> 25905024<br><b>Size:</b> 7351<br><extra></extra>",
         "line": {
          "color": "black",
          "width": 0.5
         },
         "mode": "lines",
         "opacity": 1,
         "showlegend": false,
         "type": "scatter",
         "x": [
          1671,
          1772
         ],
         "xaxis": "x",
         "y": [
          4,
          4
         ],
         "yaxis": "y"
        },
        {
         "hovertemplate": "<b>transcript_name:</b> APP-202<br><b>Feature Type:</b> intron<br><b>Feature Number:</b> 12<br><b>Chromosome:</b> 21<br><b>Start:</b> 25905077<br><b>End:</b> 25911741<br><b>Size:</b> 6664<br><extra></extra>",
         "line": {
          "color": "black",
          "width": 0.5
         },
         "mode": "lines",
         "opacity": 1,
         "showlegend": false,
         "type": "scatter",
         "x": [
          1825,
          1926
         ],
         "xaxis": "x",
         "y": [
          4,
          4
         ],
         "yaxis": "y"
        },
        {
         "hovertemplate": "<b>transcript_name:</b> APP-202<br><b>Feature Type:</b> intron<br><b>Feature Number:</b> 11<br><b>Chromosome:</b> 21<br><b>Start:</b> 25911962<br><b>End:</b> 25954590<br><b>Size:</b> 42628<br><extra></extra>",
         "line": {
          "color": "black",
          "width": 0.5
         },
         "mode": "lines",
         "opacity": 1,
         "showlegend": false,
         "type": "scatter",
         "x": [
          2147,
          2432
         ],
         "xaxis": "x",
         "y": [
          4,
          4
         ],
         "yaxis": "y"
        },
        {
         "hovertemplate": "<b>transcript_name:</b> APP-202<br><b>Feature Type:</b> intron<br><b>Feature Number:</b> 10<br><b>Chromosome:</b> 21<br><b>Start:</b> 25954689<br><b>End:</b> 25955627<br><b>Size:</b> 938<br><extra></extra>",
         "line": {
          "color": "black",
          "width": 0.5
         },
         "mode": "lines",
         "opacity": 1,
         "showlegend": false,
         "type": "scatter",
         "x": [
          2531,
          2632
         ],
         "xaxis": "x",
         "y": [
          4,
          4
         ],
         "yaxis": "y"
        },
        {
         "hovertemplate": "<b>transcript_name:</b> APP-202<br><b>Feature Type:</b> intron<br><b>Feature Number:</b> 9<br><b>Chromosome:</b> 21<br><b>Start:</b> 25955755<br><b>End:</b> 25975070<br><b>Size:</b> 19315<br><extra></extra>",
         "line": {
          "color": "black",
          "width": 0.5
         },
         "mode": "lines",
         "opacity": 1,
         "showlegend": false,
         "type": "scatter",
         "x": [
          2760,
          2861
         ],
         "xaxis": "x",
         "y": [
          4,
          4
         ],
         "yaxis": "y"
        },
        {
         "hovertemplate": "<b>transcript_name:</b> APP-202<br><b>Feature Type:</b> intron<br><b>Feature Number:</b> 8<br><b>Chromosome:</b> 21<br><b>Start:</b> 25975228<br><b>End:</b> 25975954<br><b>Size:</b> 726<br><extra></extra>",
         "line": {
          "color": "black",
          "width": 0.5
         },
         "mode": "lines",
         "opacity": 1,
         "showlegend": false,
         "type": "scatter",
         "x": [
          3019,
          3120
         ],
         "xaxis": "x",
         "y": [
          4,
          4
         ],
         "yaxis": "y"
        },
        {
         "hovertemplate": "<b>transcript_name:</b> APP-202<br><b>Feature Type:</b> intron<br><b>Feature Number:</b> 7<br><b>Chromosome:</b> 21<br><b>Start:</b> 25976028<br><b>End:</b> 25982344<br><b>Size:</b> 6316<br><extra></extra>",
         "line": {
          "color": "black",
          "width": 0.5
         },
         "mode": "lines",
         "opacity": 1,
         "showlegend": false,
         "type": "scatter",
         "x": [
          3194,
          3295
         ],
         "xaxis": "x",
         "y": [
          4,
          4
         ],
         "yaxis": "y"
        },
        {
         "hoverinfo": "skip",
         "marker": {
          "color": "black",
          "size": 6,
          "symbol": "arrow-left"
         },
         "mode": "markers",
         "opacity": 1,
         "showlegend": false,
         "type": "scatter",
         "x": [
          3615.8571428571427
         ],
         "xaxis": "x",
         "y": [
          4
         ],
         "yaxis": "y"
        },
        {
         "hovertemplate": "<b>transcript_name:</b> APP-202<br><b>Feature Type:</b> intron<br><b>Feature Number:</b> 6<br><b>Chromosome:</b> 21<br><b>Start:</b> 25982477<br><b>End:</b> 26021840<br><b>Size:</b> 39363<br><extra></extra>",
         "line": {
          "color": "black",
          "width": 0.5
         },
         "mode": "lines",
         "opacity": 1,
         "showlegend": false,
         "type": "scatter",
         "x": [
          3428,
          3954
         ],
         "xaxis": "x",
         "y": [
          4,
          4
         ],
         "yaxis": "y"
        },
        {
         "hovertemplate": "<b>transcript_name:</b> APP-202<br><b>Feature Type:</b> intron<br><b>Feature Number:</b> 5<br><b>Chromosome:</b> 21<br><b>Start:</b> 26022042<br><b>End:</b> 26051000<br><b>Size:</b> 28958<br><extra></extra>",
         "line": {
          "color": "black",
          "width": 0.5
         },
         "mode": "lines",
         "opacity": 1,
         "showlegend": false,
         "type": "scatter",
         "x": [
          4156,
          4257
         ],
         "xaxis": "x",
         "y": [
          4,
          4
         ],
         "yaxis": "y"
        },
        {
         "hovertemplate": "<b>transcript_name:</b> APP-202<br><b>Feature Type:</b> intron<br><b>Feature Number:</b> 4<br><b>Chromosome:</b> 21<br><b>Start:</b> 26051193<br><b>End:</b> 26053236<br><b>Size:</b> 2043<br><extra></extra>",
         "line": {
          "color": "black",
          "width": 0.5
         },
         "mode": "lines",
         "opacity": 1,
         "showlegend": false,
         "type": "scatter",
         "x": [
          4450,
          4551
         ],
         "xaxis": "x",
         "y": [
          4,
          4
         ],
         "yaxis": "y"
        },
        {
         "hovertemplate": "<b>transcript_name:</b> APP-202<br><b>Feature Type:</b> intron<br><b>Feature Number:</b> 3<br><b>Chromosome:</b> 21<br><b>Start:</b> 26053348<br><b>End:</b> 26089943<br><b>Size:</b> 36595<br><extra></extra>",
         "line": {
          "color": "black",
          "width": 0.5
         },
         "mode": "lines",
         "opacity": 1,
         "showlegend": false,
         "type": "scatter",
         "x": [
          4663,
          4764
         ],
         "xaxis": "x",
         "y": [
          4,
          4
         ],
         "yaxis": "y"
        },
        {
         "hovertemplate": "<b>transcript_name:</b> APP-202<br><b>Feature Type:</b> intron<br><b>Feature Number:</b> 2<br><b>Chromosome:</b> 21<br><b>Start:</b> 26090072<br><b>End:</b> 26111979<br><b>Size:</b> 21907<br><extra></extra>",
         "line": {
          "color": "black",
          "width": 0.5
         },
         "mode": "lines",
         "opacity": 1,
         "showlegend": false,
         "type": "scatter",
         "x": [
          4893,
          4994
         ],
         "xaxis": "x",
         "y": [
          4,
          4
         ],
         "yaxis": "y"
        },
        {
         "hovertemplate": "<b>transcript_name:</b> APP-202<br><b>Feature Type:</b> intron<br><b>Feature Number:</b> 1<br><b>Chromosome:</b> 21<br><b>Start:</b> 26112146<br><b>End:</b> 26170564<br><b>Size:</b> 58418<br><extra></extra>",
         "line": {
          "color": "black",
          "width": 0.5
         },
         "mode": "lines",
         "opacity": 1,
         "showlegend": false,
         "type": "scatter",
         "x": [
          5161,
          5262
         ],
         "xaxis": "x",
         "y": [
          4,
          4
         ],
         "yaxis": "y"
        },
        {
         "boxmean": false,
         "boxpoints": "all",
         "fillcolor": "#FECB52",
         "jitter": 0.3,
         "legendgroup": "AD",
         "legendgrouptitle": {
          "text": "<b><u>Expression Plot Hue<u><b>"
         },
         "line": {
          "width": 0.5
         },
         "marker": {
          "color": "black",
          "opacity": 1,
          "size": 1
         },
         "name": "AD",
         "offsetgroup": "0",
         "opacity": 1,
         "orientation": "h",
         "pointpos": 0,
         "showlegend": true,
         "text": [
          "sample_1",
          "sample_7",
          "sample_3",
          "sample_5",
          "sample_1",
          "sample_7",
          "sample_3",
          "sample_5",
          "sample_1",
          "sample_7",
          "sample_3",
          "sample_5",
          "sample_1",
          "sample_7",
          "sample_3",
          "sample_5",
          "sample_1",
          "sample_7",
          "sample_3",
          "sample_5",
          "sample_1",
          "sample_7",
          "sample_3",
          "sample_5",
          "sample_1",
          "sample_7",
          "sample_3",
          "sample_5",
          "sample_1",
          "sample_7",
          "sample_3",
          "sample_5",
          "sample_1",
          "sample_7",
          "sample_3",
          "sample_5",
          "sample_1",
          "sample_7",
          "sample_3",
          "sample_5",
          "sample_1",
          "sample_7",
          "sample_3",
          "sample_5",
          "sample_1",
          "sample_7",
          "sample_3",
          "sample_5",
          "sample_1",
          "sample_7",
          "sample_3",
          "sample_5",
          "sample_1",
          "sample_7",
          "sample_3",
          "sample_5",
          "sample_1",
          "sample_7",
          "sample_3",
          "sample_5",
          "sample_1",
          "sample_7",
          "sample_3",
          "sample_5",
          "sample_1",
          "sample_7",
          "sample_3",
          "sample_5",
          "sample_1",
          "sample_7",
          "sample_3",
          "sample_5",
          "sample_1",
          "sample_7",
          "sample_3",
          "sample_5",
          "sample_1",
          "sample_7",
          "sample_3",
          "sample_5",
          "sample_1",
          "sample_7",
          "sample_3",
          "sample_5",
          "sample_1",
          "sample_7",
          "sample_3",
          "sample_5",
          "sample_1",
          "sample_7",
          "sample_3",
          "sample_5",
          "sample_1",
          "sample_7",
          "sample_3",
          "sample_5",
          "sample_1",
          "sample_7",
          "sample_3",
          "sample_5",
          "sample_1",
          "sample_7",
          "sample_3",
          "sample_5",
          "sample_1",
          "sample_7",
          "sample_3",
          "sample_5",
          "sample_1",
          "sample_7",
          "sample_3",
          "sample_5",
          "sample_1",
          "sample_7",
          "sample_3",
          "sample_5",
          "sample_1",
          "sample_7",
          "sample_3",
          "sample_5",
          "sample_1",
          "sample_7",
          "sample_3",
          "sample_5",
          "sample_1",
          "sample_7",
          "sample_3",
          "sample_5",
          "sample_1",
          "sample_7",
          "sample_3",
          "sample_5",
          "sample_1",
          "sample_7",
          "sample_3",
          "sample_5",
          "sample_1",
          "sample_7",
          "sample_3",
          "sample_5",
          "sample_1",
          "sample_7",
          "sample_3",
          "sample_5",
          "sample_1",
          "sample_7",
          "sample_3",
          "sample_5",
          "sample_1",
          "sample_7",
          "sample_3",
          "sample_5",
          "sample_1",
          "sample_7",
          "sample_3",
          "sample_5",
          "sample_1",
          "sample_7",
          "sample_3",
          "sample_5",
          "sample_1",
          "sample_7",
          "sample_3",
          "sample_5",
          "sample_1",
          "sample_7",
          "sample_3",
          "sample_5",
          "sample_1",
          "sample_7",
          "sample_3",
          "sample_5",
          "sample_1",
          "sample_7",
          "sample_3",
          "sample_5",
          "sample_1",
          "sample_7",
          "sample_3",
          "sample_5",
          "sample_1",
          "sample_7",
          "sample_3",
          "sample_5",
          "sample_1",
          "sample_7",
          "sample_3",
          "sample_5",
          "sample_1",
          "sample_7",
          "sample_3",
          "sample_5",
          "sample_1",
          "sample_7",
          "sample_3",
          "sample_5",
          "sample_1",
          "sample_7",
          "sample_3",
          "sample_5",
          "sample_1",
          "sample_7",
          "sample_3",
          "sample_5",
          "sample_1",
          "sample_7",
          "sample_3",
          "sample_5",
          "sample_1",
          "sample_7",
          "sample_3",
          "sample_5",
          "sample_1",
          "sample_7",
          "sample_3",
          "sample_5",
          "sample_1",
          "sample_7",
          "sample_3",
          "sample_5",
          "sample_1",
          "sample_7",
          "sample_3",
          "sample_5",
          "sample_1",
          "sample_7",
          "sample_3",
          "sample_5",
          "sample_1",
          "sample_7",
          "sample_3",
          "sample_5",
          "sample_1",
          "sample_7",
          "sample_3",
          "sample_5",
          "sample_1",
          "sample_7",
          "sample_3",
          "sample_5",
          "sample_1",
          "sample_7",
          "sample_3",
          "sample_5",
          "sample_1",
          "sample_7",
          "sample_3",
          "sample_5",
          "sample_1",
          "sample_7",
          "sample_3",
          "sample_5",
          "sample_1",
          "sample_7",
          "sample_3",
          "sample_5",
          "sample_1",
          "sample_7",
          "sample_3",
          "sample_5",
          "sample_1",
          "sample_7",
          "sample_3",
          "sample_5",
          "sample_1",
          "sample_7",
          "sample_3",
          "sample_5",
          "sample_1",
          "sample_7",
          "sample_3",
          "sample_5",
          "sample_1",
          "sample_7",
          "sample_3",
          "sample_5",
          "sample_1",
          "sample_7",
          "sample_3",
          "sample_5",
          "sample_1",
          "sample_7",
          "sample_3",
          "sample_5",
          "sample_1",
          "sample_7",
          "sample_3",
          "sample_5",
          "sample_1",
          "sample_7",
          "sample_3",
          "sample_5",
          "sample_1",
          "sample_7",
          "sample_3",
          "sample_5",
          "sample_1",
          "sample_7",
          "sample_3",
          "sample_5",
          "sample_1",
          "sample_7",
          "sample_3",
          "sample_5",
          "sample_1",
          "sample_7",
          "sample_3",
          "sample_5",
          "sample_1",
          "sample_7",
          "sample_3",
          "sample_5",
          "sample_1",
          "sample_7",
          "sample_3",
          "sample_5",
          "sample_1",
          "sample_7",
          "sample_3",
          "sample_5",
          "sample_1",
          "sample_7",
          "sample_3",
          "sample_5",
          "sample_1",
          "sample_7",
          "sample_3",
          "sample_5",
          "sample_1",
          "sample_7",
          "sample_3",
          "sample_5",
          "sample_1",
          "sample_7",
          "sample_3",
          "sample_5",
          "sample_1",
          "sample_7",
          "sample_3",
          "sample_5",
          "sample_1",
          "sample_7",
          "sample_3",
          "sample_5",
          "sample_1",
          "sample_7",
          "sample_3",
          "sample_5",
          "sample_1",
          "sample_7",
          "sample_3",
          "sample_5",
          "sample_1",
          "sample_7",
          "sample_3",
          "sample_5",
          "sample_1",
          "sample_7",
          "sample_3",
          "sample_5",
          "sample_1",
          "sample_7",
          "sample_3",
          "sample_5",
          "sample_1",
          "sample_7",
          "sample_3",
          "sample_5",
          "sample_1",
          "sample_7",
          "sample_3",
          "sample_5",
          "sample_1",
          "sample_7",
          "sample_3",
          "sample_5",
          "sample_1",
          "sample_7",
          "sample_3",
          "sample_5",
          "sample_1",
          "sample_7",
          "sample_3",
          "sample_5",
          "sample_1",
          "sample_7",
          "sample_3",
          "sample_5",
          "sample_1",
          "sample_7",
          "sample_3",
          "sample_5",
          "sample_1",
          "sample_7",
          "sample_3",
          "sample_5",
          "sample_1",
          "sample_7",
          "sample_3",
          "sample_5",
          "sample_1",
          "sample_7",
          "sample_3",
          "sample_5",
          "sample_1",
          "sample_7",
          "sample_3",
          "sample_5",
          "sample_1",
          "sample_7",
          "sample_3",
          "sample_5",
          "sample_1",
          "sample_7",
          "sample_3",
          "sample_5",
          "sample_1",
          "sample_7",
          "sample_3",
          "sample_5",
          "sample_1",
          "sample_7",
          "sample_3",
          "sample_5",
          "sample_1",
          "sample_7",
          "sample_3",
          "sample_5",
          "sample_1",
          "sample_7",
          "sample_3",
          "sample_5",
          "sample_1",
          "sample_7",
          "sample_3",
          "sample_5",
          "sample_1",
          "sample_7",
          "sample_3",
          "sample_5",
          "sample_1",
          "sample_7",
          "sample_3",
          "sample_5",
          "sample_1",
          "sample_7",
          "sample_3",
          "sample_5",
          "sample_1",
          "sample_7",
          "sample_3",
          "sample_5",
          "sample_1",
          "sample_7",
          "sample_3",
          "sample_5",
          "sample_1",
          "sample_7",
          "sample_3",
          "sample_5",
          "sample_1",
          "sample_7",
          "sample_3",
          "sample_5",
          "sample_1",
          "sample_7",
          "sample_3",
          "sample_5",
          "sample_1",
          "sample_7",
          "sample_3",
          "sample_5",
          "sample_1",
          "sample_7",
          "sample_3",
          "sample_5",
          "sample_1",
          "sample_7",
          "sample_3",
          "sample_5",
          "sample_1",
          "sample_7",
          "sample_3",
          "sample_5",
          "sample_1",
          "sample_7",
          "sample_3",
          "sample_5",
          "sample_1",
          "sample_7",
          "sample_3",
          "sample_5",
          "sample_1",
          "sample_7",
          "sample_3",
          "sample_5",
          "sample_1",
          "sample_7",
          "sample_3",
          "sample_5",
          "sample_1",
          "sample_7",
          "sample_3",
          "sample_5",
          "sample_1",
          "sample_7",
          "sample_3",
          "sample_5",
          "sample_1",
          "sample_7",
          "sample_3",
          "sample_5",
          "sample_1",
          "sample_7",
          "sample_3",
          "sample_5",
          "sample_1",
          "sample_7",
          "sample_3",
          "sample_5",
          "sample_1",
          "sample_7",
          "sample_3",
          "sample_5",
          "sample_1",
          "sample_7",
          "sample_3",
          "sample_5",
          "sample_1",
          "sample_7",
          "sample_3",
          "sample_5",
          "sample_1",
          "sample_7",
          "sample_3",
          "sample_5",
          "sample_1",
          "sample_7",
          "sample_3",
          "sample_5",
          "sample_1",
          "sample_7",
          "sample_3",
          "sample_5",
          "sample_1",
          "sample_7",
          "sample_3",
          "sample_5",
          "sample_1",
          "sample_7",
          "sample_3",
          "sample_5",
          "sample_1",
          "sample_7",
          "sample_3",
          "sample_5"
         ],
         "type": "box",
         "x": [
          75.03901,
          777.59199,
          1875.61735,
          57.10673,
          75.03901,
          777.59199,
          1875.61735,
          57.10673,
          75.03901,
          777.59199,
          1875.61735,
          57.10673,
          75.03901,
          777.59199,
          1875.61735,
          57.10673,
          75.03901,
          777.59199,
          1875.61735,
          57.10673,
          75.03901,
          777.59199,
          1875.61735,
          57.10673,
          75.03901,
          777.59199,
          1875.61735,
          57.10673,
          75.03901,
          777.59199,
          1875.61735,
          57.10673,
          75.03901,
          777.59199,
          1875.61735,
          57.10673,
          75.03901,
          777.59199,
          1875.61735,
          57.10673,
          75.03901,
          777.59199,
          1875.61735,
          57.10673,
          75.03901,
          777.59199,
          1875.61735,
          57.10673,
          75.03901,
          777.59199,
          1875.61735,
          57.10673,
          75.03901,
          777.59199,
          1875.61735,
          57.10673,
          75.03901,
          777.59199,
          1875.61735,
          57.10673,
          75.03901,
          777.59199,
          1875.61735,
          57.10673,
          75.03901,
          777.59199,
          1875.61735,
          57.10673,
          75.03901,
          777.59199,
          1875.61735,
          57.10673,
          75.03901,
          777.59199,
          1875.61735,
          57.10673,
          75.03901,
          777.59199,
          1875.61735,
          57.10673,
          75.03901,
          777.59199,
          1875.61735,
          57.10673,
          75.03901,
          777.59199,
          1875.61735,
          57.10673,
          75.03901,
          777.59199,
          1875.61735,
          57.10673,
          75.03901,
          777.59199,
          1875.61735,
          57.10673,
          75.03901,
          777.59199,
          1875.61735,
          57.10673,
          75.03901,
          777.59199,
          1875.61735,
          57.10673,
          75.03901,
          777.59199,
          1875.61735,
          57.10673,
          75.03901,
          777.59199,
          1875.61735,
          57.10673,
          75.03901,
          777.59199,
          1875.61735,
          57.10673,
          75.03901,
          777.59199,
          1875.61735,
          57.10673,
          75.03901,
          777.59199,
          1875.61735,
          57.10673,
          75.03901,
          777.59199,
          1875.61735,
          57.10673,
          75.03901,
          777.59199,
          1875.61735,
          57.10673,
          75.03901,
          777.59199,
          1875.61735,
          57.10673,
          75.03901,
          777.59199,
          1875.61735,
          57.10673,
          75.03901,
          777.59199,
          1875.61735,
          57.10673,
          32000.11649,
          9104.24543,
          6801.39742,
          13357.82555,
          32000.11649,
          9104.24543,
          6801.39742,
          13357.82555,
          32000.11649,
          9104.24543,
          6801.39742,
          13357.82555,
          32000.11649,
          9104.24543,
          6801.39742,
          13357.82555,
          32000.11649,
          9104.24543,
          6801.39742,
          13357.82555,
          32000.11649,
          9104.24543,
          6801.39742,
          13357.82555,
          0,
          19375.31439,
          10.47779,
          0,
          0,
          19375.31439,
          10.47779,
          0,
          0,
          19375.31439,
          10.47779,
          0,
          0,
          19375.31439,
          10.47779,
          0,
          0,
          19375.31439,
          10.47779,
          0,
          0,
          19375.31439,
          10.47779,
          0,
          0,
          19375.31439,
          10.47779,
          0,
          0,
          19375.31439,
          10.47779,
          0,
          0,
          19375.31439,
          10.47779,
          0,
          0,
          19375.31439,
          10.47779,
          0,
          0,
          19375.31439,
          10.47779,
          0,
          0,
          19375.31439,
          10.47779,
          0,
          0,
          19375.31439,
          10.47779,
          0,
          0,
          19375.31439,
          10.47779,
          0,
          0,
          19375.31439,
          10.47779,
          0,
          0,
          19375.31439,
          10.47779,
          0,
          0,
          19375.31439,
          10.47779,
          0,
          0,
          19375.31439,
          10.47779,
          0,
          0,
          19375.31439,
          10.47779,
          0,
          0,
          19375.31439,
          10.47779,
          0,
          0,
          19375.31439,
          10.47779,
          0,
          0,
          19375.31439,
          10.47779,
          0,
          0,
          19375.31439,
          10.47779,
          0,
          0,
          19375.31439,
          10.47779,
          0,
          0,
          19375.31439,
          10.47779,
          0,
          0,
          19375.31439,
          10.47779,
          0,
          0,
          19375.31439,
          10.47779,
          0,
          0,
          19375.31439,
          10.47779,
          0,
          0,
          19375.31439,
          10.47779,
          0,
          0,
          19375.31439,
          10.47779,
          0,
          0,
          19375.31439,
          10.47779,
          0,
          622.78413,
          4949.323,
          4385.15006,
          817.18271,
          622.78413,
          4949.323,
          4385.15006,
          817.18271,
          622.78413,
          4949.323,
          4385.15006,
          817.18271,
          622.78413,
          4949.323,
          4385.15006,
          817.18271,
          622.78413,
          4949.323,
          4385.15006,
          817.18271,
          622.78413,
          4949.323,
          4385.15006,
          817.18271,
          622.78413,
          4949.323,
          4385.15006,
          817.18271,
          622.78413,
          4949.323,
          4385.15006,
          817.18271,
          622.78413,
          4949.323,
          4385.15006,
          817.18271,
          622.78413,
          4949.323,
          4385.15006,
          817.18271,
          622.78413,
          4949.323,
          4385.15006,
          817.18271,
          622.78413,
          4949.323,
          4385.15006,
          817.18271,
          622.78413,
          4949.323,
          4385.15006,
          817.18271,
          622.78413,
          4949.323,
          4385.15006,
          817.18271,
          622.78413,
          4949.323,
          4385.15006,
          817.18271,
          622.78413,
          4949.323,
          4385.15006,
          817.18271,
          622.78413,
          4949.323,
          4385.15006,
          817.18271,
          622.78413,
          4949.323,
          4385.15006,
          817.18271,
          622.78413,
          4949.323,
          4385.15006,
          817.18271,
          622.78413,
          4949.323,
          4385.15006,
          817.18271,
          622.78413,
          4949.323,
          4385.15006,
          817.18271,
          622.78413,
          4949.323,
          4385.15006,
          817.18271,
          622.78413,
          4949.323,
          4385.15006,
          817.18271,
          622.78413,
          4949.323,
          4385.15006,
          817.18271,
          622.78413,
          4949.323,
          4385.15006,
          817.18271,
          622.78413,
          4949.323,
          4385.15006,
          817.18271,
          622.78413,
          4949.323,
          4385.15006,
          817.18271,
          622.78413,
          4949.323,
          4385.15006,
          817.18271,
          622.78413,
          4949.323,
          4385.15006,
          817.18271,
          622.78413,
          4949.323,
          4385.15006,
          817.18271,
          622.78413,
          4949.323,
          4385.15006,
          817.18271,
          622.78413,
          4949.323,
          4385.15006,
          817.18271,
          622.78413,
          4949.323,
          4385.15006,
          817.18271,
          622.78413,
          4949.323,
          4385.15006,
          817.18271,
          21.32691,
          6974.68126,
          4317.08803,
          158.32861,
          21.32691,
          6974.68126,
          4317.08803,
          158.32861,
          21.32691,
          6974.68126,
          4317.08803,
          158.32861,
          21.32691,
          6974.68126,
          4317.08803,
          158.32861,
          21.32691,
          6974.68126,
          4317.08803,
          158.32861,
          21.32691,
          6974.68126,
          4317.08803,
          158.32861,
          21.32691,
          6974.68126,
          4317.08803,
          158.32861,
          21.32691,
          6974.68126,
          4317.08803,
          158.32861,
          21.32691,
          6974.68126,
          4317.08803,
          158.32861,
          21.32691,
          6974.68126,
          4317.08803,
          158.32861,
          21.32691,
          6974.68126,
          4317.08803,
          158.32861,
          21.32691,
          6974.68126,
          4317.08803,
          158.32861,
          21.32691,
          6974.68126,
          4317.08803,
          158.32861,
          21.32691,
          6974.68126,
          4317.08803,
          158.32861,
          21.32691,
          6974.68126,
          4317.08803,
          158.32861,
          21.32691,
          6974.68126,
          4317.08803,
          158.32861,
          21.32691,
          6974.68126,
          4317.08803,
          158.32861,
          21.32691,
          6974.68126,
          4317.08803,
          158.32861,
          21.32691,
          6974.68126,
          4317.08803,
          158.32861,
          21.32691,
          6974.68126,
          4317.08803,
          158.32861,
          21.32691,
          6974.68126,
          4317.08803,
          158.32861,
          21.32691,
          6974.68126,
          4317.08803,
          158.32861,
          21.32691,
          6974.68126,
          4317.08803,
          158.32861,
          21.32691,
          6974.68126,
          4317.08803,
          158.32861,
          21.32691,
          6974.68126,
          4317.08803,
          158.32861,
          21.32691,
          6974.68126,
          4317.08803,
          158.32861,
          21.32691,
          6974.68126,
          4317.08803,
          158.32861,
          21.32691,
          6974.68126,
          4317.08803,
          158.32861,
          21.32691,
          6974.68126,
          4317.08803,
          158.32861,
          21.32691,
          6974.68126,
          4317.08803,
          158.32861,
          21.32691,
          6974.68126,
          4317.08803,
          158.32861,
          21.32691,
          6974.68126,
          4317.08803,
          158.32861
         ],
         "xaxis": "x2",
         "y": [
          "0",
          "0",
          "0",
          "0",
          "0",
          "0",
          "0",
          "0",
          "0",
          "0",
          "0",
          "0",
          "0",
          "0",
          "0",
          "0",
          "0",
          "0",
          "0",
          "0",
          "0",
          "0",
          "0",
          "0",
          "0",
          "0",
          "0",
          "0",
          "0",
          "0",
          "0",
          "0",
          "0",
          "0",
          "0",
          "0",
          "0",
          "0",
          "0",
          "0",
          "0",
          "0",
          "0",
          "0",
          "0",
          "0",
          "0",
          "0",
          "0",
          "0",
          "0",
          "0",
          "0",
          "0",
          "0",
          "0",
          "0",
          "0",
          "0",
          "0",
          "0",
          "0",
          "0",
          "0",
          "0",
          "0",
          "0",
          "0",
          "0",
          "0",
          "0",
          "0",
          "0",
          "0",
          "0",
          "0",
          "0",
          "0",
          "0",
          "0",
          "0",
          "0",
          "0",
          "0",
          "0",
          "0",
          "0",
          "0",
          "0",
          "0",
          "0",
          "0",
          "0",
          "0",
          "0",
          "0",
          "0",
          "0",
          "0",
          "0",
          "0",
          "0",
          "0",
          "0",
          "0",
          "0",
          "0",
          "0",
          "0",
          "0",
          "0",
          "0",
          "0",
          "0",
          "0",
          "0",
          "0",
          "0",
          "0",
          "0",
          "0",
          "0",
          "0",
          "0",
          "0",
          "0",
          "0",
          "0",
          "0",
          "0",
          "0",
          "0",
          "0",
          "0",
          "0",
          "0",
          "0",
          "0",
          "0",
          "0",
          "0",
          "0",
          "0",
          "0",
          "1",
          "1",
          "1",
          "1",
          "1",
          "1",
          "1",
          "1",
          "1",
          "1",
          "1",
          "1",
          "1",
          "1",
          "1",
          "1",
          "1",
          "1",
          "1",
          "1",
          "1",
          "1",
          "1",
          "1",
          "2",
          "2",
          "2",
          "2",
          "2",
          "2",
          "2",
          "2",
          "2",
          "2",
          "2",
          "2",
          "2",
          "2",
          "2",
          "2",
          "2",
          "2",
          "2",
          "2",
          "2",
          "2",
          "2",
          "2",
          "2",
          "2",
          "2",
          "2",
          "2",
          "2",
          "2",
          "2",
          "2",
          "2",
          "2",
          "2",
          "2",
          "2",
          "2",
          "2",
          "2",
          "2",
          "2",
          "2",
          "2",
          "2",
          "2",
          "2",
          "2",
          "2",
          "2",
          "2",
          "2",
          "2",
          "2",
          "2",
          "2",
          "2",
          "2",
          "2",
          "2",
          "2",
          "2",
          "2",
          "2",
          "2",
          "2",
          "2",
          "2",
          "2",
          "2",
          "2",
          "2",
          "2",
          "2",
          "2",
          "2",
          "2",
          "2",
          "2",
          "2",
          "2",
          "2",
          "2",
          "2",
          "2",
          "2",
          "2",
          "2",
          "2",
          "2",
          "2",
          "2",
          "2",
          "2",
          "2",
          "2",
          "2",
          "2",
          "2",
          "2",
          "2",
          "2",
          "2",
          "2",
          "2",
          "2",
          "2",
          "2",
          "2",
          "2",
          "2",
          "2",
          "2",
          "2",
          "2",
          "2",
          "2",
          "2",
          "2",
          "2",
          "2",
          "2",
          "2",
          "3",
          "3",
          "3",
          "3",
          "3",
          "3",
          "3",
          "3",
          "3",
          "3",
          "3",
          "3",
          "3",
          "3",
          "3",
          "3",
          "3",
          "3",
          "3",
          "3",
          "3",
          "3",
          "3",
          "3",
          "3",
          "3",
          "3",
          "3",
          "3",
          "3",
          "3",
          "3",
          "3",
          "3",
          "3",
          "3",
          "3",
          "3",
          "3",
          "3",
          "3",
          "3",
          "3",
          "3",
          "3",
          "3",
          "3",
          "3",
          "3",
          "3",
          "3",
          "3",
          "3",
          "3",
          "3",
          "3",
          "3",
          "3",
          "3",
          "3",
          "3",
          "3",
          "3",
          "3",
          "3",
          "3",
          "3",
          "3",
          "3",
          "3",
          "3",
          "3",
          "3",
          "3",
          "3",
          "3",
          "3",
          "3",
          "3",
          "3",
          "3",
          "3",
          "3",
          "3",
          "3",
          "3",
          "3",
          "3",
          "3",
          "3",
          "3",
          "3",
          "3",
          "3",
          "3",
          "3",
          "3",
          "3",
          "3",
          "3",
          "3",
          "3",
          "3",
          "3",
          "3",
          "3",
          "3",
          "3",
          "3",
          "3",
          "3",
          "3",
          "3",
          "3",
          "3",
          "3",
          "3",
          "3",
          "3",
          "3",
          "3",
          "3",
          "3",
          "3",
          "3",
          "3",
          "3",
          "3",
          "3",
          "3",
          "3",
          "3",
          "3",
          "3",
          "3",
          "3",
          "4",
          "4",
          "4",
          "4",
          "4",
          "4",
          "4",
          "4",
          "4",
          "4",
          "4",
          "4",
          "4",
          "4",
          "4",
          "4",
          "4",
          "4",
          "4",
          "4",
          "4",
          "4",
          "4",
          "4",
          "4",
          "4",
          "4",
          "4",
          "4",
          "4",
          "4",
          "4",
          "4",
          "4",
          "4",
          "4",
          "4",
          "4",
          "4",
          "4",
          "4",
          "4",
          "4",
          "4",
          "4",
          "4",
          "4",
          "4",
          "4",
          "4",
          "4",
          "4",
          "4",
          "4",
          "4",
          "4",
          "4",
          "4",
          "4",
          "4",
          "4",
          "4",
          "4",
          "4",
          "4",
          "4",
          "4",
          "4",
          "4",
          "4",
          "4",
          "4",
          "4",
          "4",
          "4",
          "4",
          "4",
          "4",
          "4",
          "4",
          "4",
          "4",
          "4",
          "4",
          "4",
          "4",
          "4",
          "4",
          "4",
          "4",
          "4",
          "4",
          "4",
          "4",
          "4",
          "4",
          "4",
          "4",
          "4",
          "4",
          "4",
          "4",
          "4",
          "4",
          "4",
          "4",
          "4",
          "4",
          "4",
          "4",
          "4",
          "4",
          "4",
          "4",
          "4",
          "4",
          "4",
          "4",
          "4",
          "4",
          "4",
          "4",
          "4",
          "4",
          "4",
          "4",
          "4",
          "4"
         ],
         "yaxis": "y2"
        },
        {
         "boxmean": false,
         "boxpoints": "all",
         "fillcolor": "#FF97FF",
         "jitter": 0.3,
         "legendgroup": "Control",
         "legendgrouptitle": {
          "text": ""
         },
         "line": {
          "width": 0.5
         },
         "marker": {
          "color": "black",
          "opacity": 1,
          "size": 1
         },
         "name": "Control",
         "offsetgroup": "1",
         "opacity": 1,
         "orientation": "h",
         "pointpos": 0,
         "showlegend": true,
         "text": [
          "sample_4",
          "sample_2",
          "sample_6",
          "sample_8",
          "sample_4",
          "sample_2",
          "sample_6",
          "sample_8",
          "sample_4",
          "sample_2",
          "sample_6",
          "sample_8",
          "sample_4",
          "sample_2",
          "sample_6",
          "sample_8",
          "sample_4",
          "sample_2",
          "sample_6",
          "sample_8",
          "sample_4",
          "sample_2",
          "sample_6",
          "sample_8",
          "sample_4",
          "sample_2",
          "sample_6",
          "sample_8",
          "sample_4",
          "sample_2",
          "sample_6",
          "sample_8",
          "sample_4",
          "sample_2",
          "sample_6",
          "sample_8",
          "sample_4",
          "sample_2",
          "sample_6",
          "sample_8",
          "sample_4",
          "sample_2",
          "sample_6",
          "sample_8",
          "sample_4",
          "sample_2",
          "sample_6",
          "sample_8",
          "sample_4",
          "sample_2",
          "sample_6",
          "sample_8",
          "sample_4",
          "sample_2",
          "sample_6",
          "sample_8",
          "sample_4",
          "sample_2",
          "sample_6",
          "sample_8",
          "sample_4",
          "sample_2",
          "sample_6",
          "sample_8",
          "sample_4",
          "sample_2",
          "sample_6",
          "sample_8",
          "sample_4",
          "sample_2",
          "sample_6",
          "sample_8",
          "sample_4",
          "sample_2",
          "sample_6",
          "sample_8",
          "sample_4",
          "sample_2",
          "sample_6",
          "sample_8",
          "sample_4",
          "sample_2",
          "sample_6",
          "sample_8",
          "sample_4",
          "sample_2",
          "sample_6",
          "sample_8",
          "sample_4",
          "sample_2",
          "sample_6",
          "sample_8",
          "sample_4",
          "sample_2",
          "sample_6",
          "sample_8",
          "sample_4",
          "sample_2",
          "sample_6",
          "sample_8",
          "sample_4",
          "sample_2",
          "sample_6",
          "sample_8",
          "sample_4",
          "sample_2",
          "sample_6",
          "sample_8",
          "sample_4",
          "sample_2",
          "sample_6",
          "sample_8",
          "sample_4",
          "sample_2",
          "sample_6",
          "sample_8",
          "sample_4",
          "sample_2",
          "sample_6",
          "sample_8",
          "sample_4",
          "sample_2",
          "sample_6",
          "sample_8",
          "sample_4",
          "sample_2",
          "sample_6",
          "sample_8",
          "sample_4",
          "sample_2",
          "sample_6",
          "sample_8",
          "sample_4",
          "sample_2",
          "sample_6",
          "sample_8",
          "sample_4",
          "sample_2",
          "sample_6",
          "sample_8",
          "sample_4",
          "sample_2",
          "sample_6",
          "sample_8",
          "sample_4",
          "sample_2",
          "sample_6",
          "sample_8",
          "sample_4",
          "sample_2",
          "sample_6",
          "sample_8",
          "sample_4",
          "sample_2",
          "sample_6",
          "sample_8",
          "sample_4",
          "sample_2",
          "sample_6",
          "sample_8",
          "sample_4",
          "sample_2",
          "sample_6",
          "sample_8",
          "sample_4",
          "sample_2",
          "sample_6",
          "sample_8",
          "sample_4",
          "sample_2",
          "sample_6",
          "sample_8",
          "sample_4",
          "sample_2",
          "sample_6",
          "sample_8",
          "sample_4",
          "sample_2",
          "sample_6",
          "sample_8",
          "sample_4",
          "sample_2",
          "sample_6",
          "sample_8",
          "sample_4",
          "sample_2",
          "sample_6",
          "sample_8",
          "sample_4",
          "sample_2",
          "sample_6",
          "sample_8",
          "sample_4",
          "sample_2",
          "sample_6",
          "sample_8",
          "sample_4",
          "sample_2",
          "sample_6",
          "sample_8",
          "sample_4",
          "sample_2",
          "sample_6",
          "sample_8",
          "sample_4",
          "sample_2",
          "sample_6",
          "sample_8",
          "sample_4",
          "sample_2",
          "sample_6",
          "sample_8",
          "sample_4",
          "sample_2",
          "sample_6",
          "sample_8",
          "sample_4",
          "sample_2",
          "sample_6",
          "sample_8",
          "sample_4",
          "sample_2",
          "sample_6",
          "sample_8",
          "sample_4",
          "sample_2",
          "sample_6",
          "sample_8",
          "sample_4",
          "sample_2",
          "sample_6",
          "sample_8",
          "sample_4",
          "sample_2",
          "sample_6",
          "sample_8",
          "sample_4",
          "sample_2",
          "sample_6",
          "sample_8",
          "sample_4",
          "sample_2",
          "sample_6",
          "sample_8",
          "sample_4",
          "sample_2",
          "sample_6",
          "sample_8",
          "sample_4",
          "sample_2",
          "sample_6",
          "sample_8",
          "sample_4",
          "sample_2",
          "sample_6",
          "sample_8",
          "sample_4",
          "sample_2",
          "sample_6",
          "sample_8",
          "sample_4",
          "sample_2",
          "sample_6",
          "sample_8",
          "sample_4",
          "sample_2",
          "sample_6",
          "sample_8",
          "sample_4",
          "sample_2",
          "sample_6",
          "sample_8",
          "sample_4",
          "sample_2",
          "sample_6",
          "sample_8",
          "sample_4",
          "sample_2",
          "sample_6",
          "sample_8",
          "sample_4",
          "sample_2",
          "sample_6",
          "sample_8",
          "sample_4",
          "sample_2",
          "sample_6",
          "sample_8",
          "sample_4",
          "sample_2",
          "sample_6",
          "sample_8",
          "sample_4",
          "sample_2",
          "sample_6",
          "sample_8",
          "sample_4",
          "sample_2",
          "sample_6",
          "sample_8",
          "sample_4",
          "sample_2",
          "sample_6",
          "sample_8",
          "sample_4",
          "sample_2",
          "sample_6",
          "sample_8",
          "sample_4",
          "sample_2",
          "sample_6",
          "sample_8",
          "sample_4",
          "sample_2",
          "sample_6",
          "sample_8",
          "sample_4",
          "sample_2",
          "sample_6",
          "sample_8",
          "sample_4",
          "sample_2",
          "sample_6",
          "sample_8",
          "sample_4",
          "sample_2",
          "sample_6",
          "sample_8",
          "sample_4",
          "sample_2",
          "sample_6",
          "sample_8",
          "sample_4",
          "sample_2",
          "sample_6",
          "sample_8",
          "sample_4",
          "sample_2",
          "sample_6",
          "sample_8",
          "sample_4",
          "sample_2",
          "sample_6",
          "sample_8",
          "sample_4",
          "sample_2",
          "sample_6",
          "sample_8",
          "sample_4",
          "sample_2",
          "sample_6",
          "sample_8",
          "sample_4",
          "sample_2",
          "sample_6",
          "sample_8",
          "sample_4",
          "sample_2",
          "sample_6",
          "sample_8",
          "sample_4",
          "sample_2",
          "sample_6",
          "sample_8",
          "sample_4",
          "sample_2",
          "sample_6",
          "sample_8",
          "sample_4",
          "sample_2",
          "sample_6",
          "sample_8",
          "sample_4",
          "sample_2",
          "sample_6",
          "sample_8",
          "sample_4",
          "sample_2",
          "sample_6",
          "sample_8",
          "sample_4",
          "sample_2",
          "sample_6",
          "sample_8",
          "sample_4",
          "sample_2",
          "sample_6",
          "sample_8",
          "sample_4",
          "sample_2",
          "sample_6",
          "sample_8",
          "sample_4",
          "sample_2",
          "sample_6",
          "sample_8",
          "sample_4",
          "sample_2",
          "sample_6",
          "sample_8",
          "sample_4",
          "sample_2",
          "sample_6",
          "sample_8",
          "sample_4",
          "sample_2",
          "sample_6",
          "sample_8",
          "sample_4",
          "sample_2",
          "sample_6",
          "sample_8",
          "sample_4",
          "sample_2",
          "sample_6",
          "sample_8",
          "sample_4",
          "sample_2",
          "sample_6",
          "sample_8",
          "sample_4",
          "sample_2",
          "sample_6",
          "sample_8",
          "sample_4",
          "sample_2",
          "sample_6",
          "sample_8",
          "sample_4",
          "sample_2",
          "sample_6",
          "sample_8",
          "sample_4",
          "sample_2",
          "sample_6",
          "sample_8",
          "sample_4",
          "sample_2",
          "sample_6",
          "sample_8",
          "sample_4",
          "sample_2",
          "sample_6",
          "sample_8",
          "sample_4",
          "sample_2",
          "sample_6",
          "sample_8",
          "sample_4",
          "sample_2",
          "sample_6",
          "sample_8",
          "sample_4",
          "sample_2",
          "sample_6",
          "sample_8",
          "sample_4",
          "sample_2",
          "sample_6",
          "sample_8",
          "sample_4",
          "sample_2",
          "sample_6",
          "sample_8",
          "sample_4",
          "sample_2",
          "sample_6",
          "sample_8",
          "sample_4",
          "sample_2",
          "sample_6",
          "sample_8",
          "sample_4",
          "sample_2",
          "sample_6",
          "sample_8",
          "sample_4",
          "sample_2",
          "sample_6",
          "sample_8",
          "sample_4",
          "sample_2",
          "sample_6",
          "sample_8",
          "sample_4",
          "sample_2",
          "sample_6",
          "sample_8",
          "sample_4",
          "sample_2",
          "sample_6",
          "sample_8",
          "sample_4",
          "sample_2",
          "sample_6",
          "sample_8",
          "sample_4",
          "sample_2",
          "sample_6",
          "sample_8",
          "sample_4",
          "sample_2",
          "sample_6",
          "sample_8",
          "sample_4",
          "sample_2",
          "sample_6",
          "sample_8",
          "sample_4",
          "sample_2",
          "sample_6",
          "sample_8",
          "sample_4",
          "sample_2",
          "sample_6",
          "sample_8",
          "sample_4",
          "sample_2",
          "sample_6",
          "sample_8",
          "sample_4",
          "sample_2",
          "sample_6",
          "sample_8",
          "sample_4",
          "sample_2",
          "sample_6",
          "sample_8",
          "sample_4",
          "sample_2",
          "sample_6",
          "sample_8",
          "sample_4",
          "sample_2",
          "sample_6",
          "sample_8",
          "sample_4",
          "sample_2",
          "sample_6",
          "sample_8",
          "sample_4",
          "sample_2",
          "sample_6",
          "sample_8",
          "sample_4",
          "sample_2",
          "sample_6",
          "sample_8",
          "sample_4",
          "sample_2",
          "sample_6",
          "sample_8",
          "sample_4",
          "sample_2",
          "sample_6",
          "sample_8"
         ],
         "type": "box",
         "x": [
          1659.67771,
          1172.26084,
          1414.18687,
          1177.96343,
          1659.67771,
          1172.26084,
          1414.18687,
          1177.96343,
          1659.67771,
          1172.26084,
          1414.18687,
          1177.96343,
          1659.67771,
          1172.26084,
          1414.18687,
          1177.96343,
          1659.67771,
          1172.26084,
          1414.18687,
          1177.96343,
          1659.67771,
          1172.26084,
          1414.18687,
          1177.96343,
          1659.67771,
          1172.26084,
          1414.18687,
          1177.96343,
          1659.67771,
          1172.26084,
          1414.18687,
          1177.96343,
          1659.67771,
          1172.26084,
          1414.18687,
          1177.96343,
          1659.67771,
          1172.26084,
          1414.18687,
          1177.96343,
          1659.67771,
          1172.26084,
          1414.18687,
          1177.96343,
          1659.67771,
          1172.26084,
          1414.18687,
          1177.96343,
          1659.67771,
          1172.26084,
          1414.18687,
          1177.96343,
          1659.67771,
          1172.26084,
          1414.18687,
          1177.96343,
          1659.67771,
          1172.26084,
          1414.18687,
          1177.96343,
          1659.67771,
          1172.26084,
          1414.18687,
          1177.96343,
          1659.67771,
          1172.26084,
          1414.18687,
          1177.96343,
          1659.67771,
          1172.26084,
          1414.18687,
          1177.96343,
          1659.67771,
          1172.26084,
          1414.18687,
          1177.96343,
          1659.67771,
          1172.26084,
          1414.18687,
          1177.96343,
          1659.67771,
          1172.26084,
          1414.18687,
          1177.96343,
          1659.67771,
          1172.26084,
          1414.18687,
          1177.96343,
          1659.67771,
          1172.26084,
          1414.18687,
          1177.96343,
          1659.67771,
          1172.26084,
          1414.18687,
          1177.96343,
          1659.67771,
          1172.26084,
          1414.18687,
          1177.96343,
          1659.67771,
          1172.26084,
          1414.18687,
          1177.96343,
          1659.67771,
          1172.26084,
          1414.18687,
          1177.96343,
          1659.67771,
          1172.26084,
          1414.18687,
          1177.96343,
          1659.67771,
          1172.26084,
          1414.18687,
          1177.96343,
          1659.67771,
          1172.26084,
          1414.18687,
          1177.96343,
          1659.67771,
          1172.26084,
          1414.18687,
          1177.96343,
          1659.67771,
          1172.26084,
          1414.18687,
          1177.96343,
          1659.67771,
          1172.26084,
          1414.18687,
          1177.96343,
          1659.67771,
          1172.26084,
          1414.18687,
          1177.96343,
          1659.67771,
          1172.26084,
          1414.18687,
          1177.96343,
          1659.67771,
          1172.26084,
          1414.18687,
          1177.96343,
          281.12956,
          816.12674,
          908.42026,
          274.52124,
          281.12956,
          816.12674,
          908.42026,
          274.52124,
          281.12956,
          816.12674,
          908.42026,
          274.52124,
          281.12956,
          816.12674,
          908.42026,
          274.52124,
          281.12956,
          816.12674,
          908.42026,
          274.52124,
          281.12956,
          816.12674,
          908.42026,
          274.52124,
          233.77788,
          148.49865,
          158.86607,
          168.5427,
          233.77788,
          148.49865,
          158.86607,
          168.5427,
          233.77788,
          148.49865,
          158.86607,
          168.5427,
          233.77788,
          148.49865,
          158.86607,
          168.5427,
          233.77788,
          148.49865,
          158.86607,
          168.5427,
          233.77788,
          148.49865,
          158.86607,
          168.5427,
          233.77788,
          148.49865,
          158.86607,
          168.5427,
          233.77788,
          148.49865,
          158.86607,
          168.5427,
          233.77788,
          148.49865,
          158.86607,
          168.5427,
          233.77788,
          148.49865,
          158.86607,
          168.5427,
          233.77788,
          148.49865,
          158.86607,
          168.5427,
          233.77788,
          148.49865,
          158.86607,
          168.5427,
          233.77788,
          148.49865,
          158.86607,
          168.5427,
          233.77788,
          148.49865,
          158.86607,
          168.5427,
          233.77788,
          148.49865,
          158.86607,
          168.5427,
          233.77788,
          148.49865,
          158.86607,
          168.5427,
          233.77788,
          148.49865,
          158.86607,
          168.5427,
          233.77788,
          148.49865,
          158.86607,
          168.5427,
          233.77788,
          148.49865,
          158.86607,
          168.5427,
          233.77788,
          148.49865,
          158.86607,
          168.5427,
          233.77788,
          148.49865,
          158.86607,
          168.5427,
          233.77788,
          148.49865,
          158.86607,
          168.5427,
          233.77788,
          148.49865,
          158.86607,
          168.5427,
          233.77788,
          148.49865,
          158.86607,
          168.5427,
          233.77788,
          148.49865,
          158.86607,
          168.5427,
          233.77788,
          148.49865,
          158.86607,
          168.5427,
          233.77788,
          148.49865,
          158.86607,
          168.5427,
          233.77788,
          148.49865,
          158.86607,
          168.5427,
          233.77788,
          148.49865,
          158.86607,
          168.5427,
          233.77788,
          148.49865,
          158.86607,
          168.5427,
          233.77788,
          148.49865,
          158.86607,
          168.5427,
          13165.78688,
          10659.16159,
          10079.55077,
          8614.40942,
          13165.78688,
          10659.16159,
          10079.55077,
          8614.40942,
          13165.78688,
          10659.16159,
          10079.55077,
          8614.40942,
          13165.78688,
          10659.16159,
          10079.55077,
          8614.40942,
          13165.78688,
          10659.16159,
          10079.55077,
          8614.40942,
          13165.78688,
          10659.16159,
          10079.55077,
          8614.40942,
          13165.78688,
          10659.16159,
          10079.55077,
          8614.40942,
          13165.78688,
          10659.16159,
          10079.55077,
          8614.40942,
          13165.78688,
          10659.16159,
          10079.55077,
          8614.40942,
          13165.78688,
          10659.16159,
          10079.55077,
          8614.40942,
          13165.78688,
          10659.16159,
          10079.55077,
          8614.40942,
          13165.78688,
          10659.16159,
          10079.55077,
          8614.40942,
          13165.78688,
          10659.16159,
          10079.55077,
          8614.40942,
          13165.78688,
          10659.16159,
          10079.55077,
          8614.40942,
          13165.78688,
          10659.16159,
          10079.55077,
          8614.40942,
          13165.78688,
          10659.16159,
          10079.55077,
          8614.40942,
          13165.78688,
          10659.16159,
          10079.55077,
          8614.40942,
          13165.78688,
          10659.16159,
          10079.55077,
          8614.40942,
          13165.78688,
          10659.16159,
          10079.55077,
          8614.40942,
          13165.78688,
          10659.16159,
          10079.55077,
          8614.40942,
          13165.78688,
          10659.16159,
          10079.55077,
          8614.40942,
          13165.78688,
          10659.16159,
          10079.55077,
          8614.40942,
          13165.78688,
          10659.16159,
          10079.55077,
          8614.40942,
          13165.78688,
          10659.16159,
          10079.55077,
          8614.40942,
          13165.78688,
          10659.16159,
          10079.55077,
          8614.40942,
          13165.78688,
          10659.16159,
          10079.55077,
          8614.40942,
          13165.78688,
          10659.16159,
          10079.55077,
          8614.40942,
          13165.78688,
          10659.16159,
          10079.55077,
          8614.40942,
          13165.78688,
          10659.16159,
          10079.55077,
          8614.40942,
          13165.78688,
          10659.16159,
          10079.55077,
          8614.40942,
          13165.78688,
          10659.16159,
          10079.55077,
          8614.40942,
          13165.78688,
          10659.16159,
          10079.55077,
          8614.40942,
          13165.78688,
          10659.16159,
          10079.55077,
          8614.40942,
          13165.78688,
          10659.16159,
          10079.55077,
          8614.40942,
          20102.2553,
          16065.17951,
          22251.02963,
          17583.32597,
          20102.2553,
          16065.17951,
          22251.02963,
          17583.32597,
          20102.2553,
          16065.17951,
          22251.02963,
          17583.32597,
          20102.2553,
          16065.17951,
          22251.02963,
          17583.32597,
          20102.2553,
          16065.17951,
          22251.02963,
          17583.32597,
          20102.2553,
          16065.17951,
          22251.02963,
          17583.32597,
          20102.2553,
          16065.17951,
          22251.02963,
          17583.32597,
          20102.2553,
          16065.17951,
          22251.02963,
          17583.32597,
          20102.2553,
          16065.17951,
          22251.02963,
          17583.32597,
          20102.2553,
          16065.17951,
          22251.02963,
          17583.32597,
          20102.2553,
          16065.17951,
          22251.02963,
          17583.32597,
          20102.2553,
          16065.17951,
          22251.02963,
          17583.32597,
          20102.2553,
          16065.17951,
          22251.02963,
          17583.32597,
          20102.2553,
          16065.17951,
          22251.02963,
          17583.32597,
          20102.2553,
          16065.17951,
          22251.02963,
          17583.32597,
          20102.2553,
          16065.17951,
          22251.02963,
          17583.32597,
          20102.2553,
          16065.17951,
          22251.02963,
          17583.32597,
          20102.2553,
          16065.17951,
          22251.02963,
          17583.32597,
          20102.2553,
          16065.17951,
          22251.02963,
          17583.32597,
          20102.2553,
          16065.17951,
          22251.02963,
          17583.32597,
          20102.2553,
          16065.17951,
          22251.02963,
          17583.32597,
          20102.2553,
          16065.17951,
          22251.02963,
          17583.32597,
          20102.2553,
          16065.17951,
          22251.02963,
          17583.32597,
          20102.2553,
          16065.17951,
          22251.02963,
          17583.32597,
          20102.2553,
          16065.17951,
          22251.02963,
          17583.32597,
          20102.2553,
          16065.17951,
          22251.02963,
          17583.32597,
          20102.2553,
          16065.17951,
          22251.02963,
          17583.32597,
          20102.2553,
          16065.17951,
          22251.02963,
          17583.32597,
          20102.2553,
          16065.17951,
          22251.02963,
          17583.32597,
          20102.2553,
          16065.17951,
          22251.02963,
          17583.32597,
          20102.2553,
          16065.17951,
          22251.02963,
          17583.32597,
          20102.2553,
          16065.17951,
          22251.02963,
          17583.32597
         ],
         "xaxis": "x2",
         "y": [
          "0",
          "0",
          "0",
          "0",
          "0",
          "0",
          "0",
          "0",
          "0",
          "0",
          "0",
          "0",
          "0",
          "0",
          "0",
          "0",
          "0",
          "0",
          "0",
          "0",
          "0",
          "0",
          "0",
          "0",
          "0",
          "0",
          "0",
          "0",
          "0",
          "0",
          "0",
          "0",
          "0",
          "0",
          "0",
          "0",
          "0",
          "0",
          "0",
          "0",
          "0",
          "0",
          "0",
          "0",
          "0",
          "0",
          "0",
          "0",
          "0",
          "0",
          "0",
          "0",
          "0",
          "0",
          "0",
          "0",
          "0",
          "0",
          "0",
          "0",
          "0",
          "0",
          "0",
          "0",
          "0",
          "0",
          "0",
          "0",
          "0",
          "0",
          "0",
          "0",
          "0",
          "0",
          "0",
          "0",
          "0",
          "0",
          "0",
          "0",
          "0",
          "0",
          "0",
          "0",
          "0",
          "0",
          "0",
          "0",
          "0",
          "0",
          "0",
          "0",
          "0",
          "0",
          "0",
          "0",
          "0",
          "0",
          "0",
          "0",
          "0",
          "0",
          "0",
          "0",
          "0",
          "0",
          "0",
          "0",
          "0",
          "0",
          "0",
          "0",
          "0",
          "0",
          "0",
          "0",
          "0",
          "0",
          "0",
          "0",
          "0",
          "0",
          "0",
          "0",
          "0",
          "0",
          "0",
          "0",
          "0",
          "0",
          "0",
          "0",
          "0",
          "0",
          "0",
          "0",
          "0",
          "0",
          "0",
          "0",
          "0",
          "0",
          "0",
          "0",
          "1",
          "1",
          "1",
          "1",
          "1",
          "1",
          "1",
          "1",
          "1",
          "1",
          "1",
          "1",
          "1",
          "1",
          "1",
          "1",
          "1",
          "1",
          "1",
          "1",
          "1",
          "1",
          "1",
          "1",
          "2",
          "2",
          "2",
          "2",
          "2",
          "2",
          "2",
          "2",
          "2",
          "2",
          "2",
          "2",
          "2",
          "2",
          "2",
          "2",
          "2",
          "2",
          "2",
          "2",
          "2",
          "2",
          "2",
          "2",
          "2",
          "2",
          "2",
          "2",
          "2",
          "2",
          "2",
          "2",
          "2",
          "2",
          "2",
          "2",
          "2",
          "2",
          "2",
          "2",
          "2",
          "2",
          "2",
          "2",
          "2",
          "2",
          "2",
          "2",
          "2",
          "2",
          "2",
          "2",
          "2",
          "2",
          "2",
          "2",
          "2",
          "2",
          "2",
          "2",
          "2",
          "2",
          "2",
          "2",
          "2",
          "2",
          "2",
          "2",
          "2",
          "2",
          "2",
          "2",
          "2",
          "2",
          "2",
          "2",
          "2",
          "2",
          "2",
          "2",
          "2",
          "2",
          "2",
          "2",
          "2",
          "2",
          "2",
          "2",
          "2",
          "2",
          "2",
          "2",
          "2",
          "2",
          "2",
          "2",
          "2",
          "2",
          "2",
          "2",
          "2",
          "2",
          "2",
          "2",
          "2",
          "2",
          "2",
          "2",
          "2",
          "2",
          "2",
          "2",
          "2",
          "2",
          "2",
          "2",
          "2",
          "2",
          "2",
          "2",
          "2",
          "2",
          "2",
          "2",
          "3",
          "3",
          "3",
          "3",
          "3",
          "3",
          "3",
          "3",
          "3",
          "3",
          "3",
          "3",
          "3",
          "3",
          "3",
          "3",
          "3",
          "3",
          "3",
          "3",
          "3",
          "3",
          "3",
          "3",
          "3",
          "3",
          "3",
          "3",
          "3",
          "3",
          "3",
          "3",
          "3",
          "3",
          "3",
          "3",
          "3",
          "3",
          "3",
          "3",
          "3",
          "3",
          "3",
          "3",
          "3",
          "3",
          "3",
          "3",
          "3",
          "3",
          "3",
          "3",
          "3",
          "3",
          "3",
          "3",
          "3",
          "3",
          "3",
          "3",
          "3",
          "3",
          "3",
          "3",
          "3",
          "3",
          "3",
          "3",
          "3",
          "3",
          "3",
          "3",
          "3",
          "3",
          "3",
          "3",
          "3",
          "3",
          "3",
          "3",
          "3",
          "3",
          "3",
          "3",
          "3",
          "3",
          "3",
          "3",
          "3",
          "3",
          "3",
          "3",
          "3",
          "3",
          "3",
          "3",
          "3",
          "3",
          "3",
          "3",
          "3",
          "3",
          "3",
          "3",
          "3",
          "3",
          "3",
          "3",
          "3",
          "3",
          "3",
          "3",
          "3",
          "3",
          "3",
          "3",
          "3",
          "3",
          "3",
          "3",
          "3",
          "3",
          "3",
          "3",
          "3",
          "3",
          "3",
          "3",
          "3",
          "3",
          "3",
          "3",
          "3",
          "3",
          "3",
          "3",
          "4",
          "4",
          "4",
          "4",
          "4",
          "4",
          "4",
          "4",
          "4",
          "4",
          "4",
          "4",
          "4",
          "4",
          "4",
          "4",
          "4",
          "4",
          "4",
          "4",
          "4",
          "4",
          "4",
          "4",
          "4",
          "4",
          "4",
          "4",
          "4",
          "4",
          "4",
          "4",
          "4",
          "4",
          "4",
          "4",
          "4",
          "4",
          "4",
          "4",
          "4",
          "4",
          "4",
          "4",
          "4",
          "4",
          "4",
          "4",
          "4",
          "4",
          "4",
          "4",
          "4",
          "4",
          "4",
          "4",
          "4",
          "4",
          "4",
          "4",
          "4",
          "4",
          "4",
          "4",
          "4",
          "4",
          "4",
          "4",
          "4",
          "4",
          "4",
          "4",
          "4",
          "4",
          "4",
          "4",
          "4",
          "4",
          "4",
          "4",
          "4",
          "4",
          "4",
          "4",
          "4",
          "4",
          "4",
          "4",
          "4",
          "4",
          "4",
          "4",
          "4",
          "4",
          "4",
          "4",
          "4",
          "4",
          "4",
          "4",
          "4",
          "4",
          "4",
          "4",
          "4",
          "4",
          "4",
          "4",
          "4",
          "4",
          "4",
          "4",
          "4",
          "4",
          "4",
          "4",
          "4",
          "4",
          "4",
          "4",
          "4",
          "4",
          "4",
          "4",
          "4",
          "4",
          "4",
          "4"
         ],
         "yaxis": "y2"
        },
        {
         "boxmean": false,
         "boxpoints": "all",
         "fillcolor": "#FECB52",
         "jitter": 0.3,
         "legendgroup": "AD",
         "legendgrouptitle": {
          "text": ""
         },
         "line": {
          "width": 0.5
         },
         "marker": {
          "color": "black",
          "opacity": 1,
          "size": 1
         },
         "name": "AD",
         "offsetgroup": "0",
         "opacity": 1,
         "orientation": "h",
         "pointpos": 0,
         "showlegend": false,
         "text": [
          "sample_1",
          "sample_7",
          "sample_3",
          "sample_5",
          "sample_1",
          "sample_7",
          "sample_3",
          "sample_5",
          "sample_1",
          "sample_7",
          "sample_3",
          "sample_5",
          "sample_1",
          "sample_7",
          "sample_3",
          "sample_5",
          "sample_1",
          "sample_7",
          "sample_3",
          "sample_5",
          "sample_1",
          "sample_7",
          "sample_3",
          "sample_5",
          "sample_1",
          "sample_7",
          "sample_3",
          "sample_5",
          "sample_1",
          "sample_7",
          "sample_3",
          "sample_5",
          "sample_1",
          "sample_7",
          "sample_3",
          "sample_5",
          "sample_1",
          "sample_7",
          "sample_3",
          "sample_5",
          "sample_1",
          "sample_7",
          "sample_3",
          "sample_5",
          "sample_1",
          "sample_7",
          "sample_3",
          "sample_5",
          "sample_1",
          "sample_7",
          "sample_3",
          "sample_5",
          "sample_1",
          "sample_7",
          "sample_3",
          "sample_5",
          "sample_1",
          "sample_7",
          "sample_3",
          "sample_5",
          "sample_1",
          "sample_7",
          "sample_3",
          "sample_5",
          "sample_1",
          "sample_7",
          "sample_3",
          "sample_5",
          "sample_1",
          "sample_7",
          "sample_3",
          "sample_5",
          "sample_1",
          "sample_7",
          "sample_3",
          "sample_5",
          "sample_1",
          "sample_7",
          "sample_3",
          "sample_5",
          "sample_1",
          "sample_7",
          "sample_3",
          "sample_5",
          "sample_1",
          "sample_7",
          "sample_3",
          "sample_5",
          "sample_1",
          "sample_7",
          "sample_3",
          "sample_5",
          "sample_1",
          "sample_7",
          "sample_3",
          "sample_5",
          "sample_1",
          "sample_7",
          "sample_3",
          "sample_5",
          "sample_1",
          "sample_7",
          "sample_3",
          "sample_5",
          "sample_1",
          "sample_7",
          "sample_3",
          "sample_5",
          "sample_1",
          "sample_7",
          "sample_3",
          "sample_5",
          "sample_1",
          "sample_7",
          "sample_3",
          "sample_5",
          "sample_1",
          "sample_7",
          "sample_3",
          "sample_5",
          "sample_1",
          "sample_7",
          "sample_3",
          "sample_5",
          "sample_1",
          "sample_7",
          "sample_3",
          "sample_5",
          "sample_1",
          "sample_7",
          "sample_3",
          "sample_5",
          "sample_1",
          "sample_7",
          "sample_3",
          "sample_5",
          "sample_1",
          "sample_7",
          "sample_3",
          "sample_5",
          "sample_1",
          "sample_7",
          "sample_3",
          "sample_5",
          "sample_1",
          "sample_7",
          "sample_3",
          "sample_5",
          "sample_1",
          "sample_7",
          "sample_3",
          "sample_5",
          "sample_1",
          "sample_7",
          "sample_3",
          "sample_5",
          "sample_1",
          "sample_7",
          "sample_3",
          "sample_5",
          "sample_1",
          "sample_7",
          "sample_3",
          "sample_5",
          "sample_1",
          "sample_7",
          "sample_3",
          "sample_5",
          "sample_1",
          "sample_7",
          "sample_3",
          "sample_5",
          "sample_1",
          "sample_7",
          "sample_3",
          "sample_5",
          "sample_1",
          "sample_7",
          "sample_3",
          "sample_5",
          "sample_1",
          "sample_7",
          "sample_3",
          "sample_5",
          "sample_1",
          "sample_7",
          "sample_3",
          "sample_5",
          "sample_1",
          "sample_7",
          "sample_3",
          "sample_5",
          "sample_1",
          "sample_7",
          "sample_3",
          "sample_5",
          "sample_1",
          "sample_7",
          "sample_3",
          "sample_5",
          "sample_1",
          "sample_7",
          "sample_3",
          "sample_5",
          "sample_1",
          "sample_7",
          "sample_3",
          "sample_5",
          "sample_1",
          "sample_7",
          "sample_3",
          "sample_5",
          "sample_1",
          "sample_7",
          "sample_3",
          "sample_5",
          "sample_1",
          "sample_7",
          "sample_3",
          "sample_5",
          "sample_1",
          "sample_7",
          "sample_3",
          "sample_5",
          "sample_1",
          "sample_7",
          "sample_3",
          "sample_5",
          "sample_1",
          "sample_7",
          "sample_3",
          "sample_5",
          "sample_1",
          "sample_7",
          "sample_3",
          "sample_5",
          "sample_1",
          "sample_7",
          "sample_3",
          "sample_5",
          "sample_1",
          "sample_7",
          "sample_3",
          "sample_5",
          "sample_1",
          "sample_7",
          "sample_3",
          "sample_5",
          "sample_1",
          "sample_7",
          "sample_3",
          "sample_5",
          "sample_1",
          "sample_7",
          "sample_3",
          "sample_5",
          "sample_1",
          "sample_7",
          "sample_3",
          "sample_5",
          "sample_1",
          "sample_7",
          "sample_3",
          "sample_5",
          "sample_1",
          "sample_7",
          "sample_3",
          "sample_5",
          "sample_1",
          "sample_7",
          "sample_3",
          "sample_5",
          "sample_1",
          "sample_7",
          "sample_3",
          "sample_5",
          "sample_1",
          "sample_7",
          "sample_3",
          "sample_5",
          "sample_1",
          "sample_7",
          "sample_3",
          "sample_5",
          "sample_1",
          "sample_7",
          "sample_3",
          "sample_5",
          "sample_1",
          "sample_7",
          "sample_3",
          "sample_5",
          "sample_1",
          "sample_7",
          "sample_3",
          "sample_5",
          "sample_1",
          "sample_7",
          "sample_3",
          "sample_5",
          "sample_1",
          "sample_7",
          "sample_3",
          "sample_5",
          "sample_1",
          "sample_7",
          "sample_3",
          "sample_5",
          "sample_1",
          "sample_7",
          "sample_3",
          "sample_5",
          "sample_1",
          "sample_7",
          "sample_3",
          "sample_5",
          "sample_1",
          "sample_7",
          "sample_3",
          "sample_5",
          "sample_1",
          "sample_7",
          "sample_3",
          "sample_5",
          "sample_1",
          "sample_7",
          "sample_3",
          "sample_5",
          "sample_1",
          "sample_7",
          "sample_3",
          "sample_5",
          "sample_1",
          "sample_7",
          "sample_3",
          "sample_5",
          "sample_1",
          "sample_7",
          "sample_3",
          "sample_5",
          "sample_1",
          "sample_7",
          "sample_3",
          "sample_5",
          "sample_1",
          "sample_7",
          "sample_3",
          "sample_5",
          "sample_1",
          "sample_7",
          "sample_3",
          "sample_5",
          "sample_1",
          "sample_7",
          "sample_3",
          "sample_5",
          "sample_1",
          "sample_7",
          "sample_3",
          "sample_5",
          "sample_1",
          "sample_7",
          "sample_3",
          "sample_5",
          "sample_1",
          "sample_7",
          "sample_3",
          "sample_5",
          "sample_1",
          "sample_7",
          "sample_3",
          "sample_5",
          "sample_1",
          "sample_7",
          "sample_3",
          "sample_5",
          "sample_1",
          "sample_7",
          "sample_3",
          "sample_5",
          "sample_1",
          "sample_7",
          "sample_3",
          "sample_5",
          "sample_1",
          "sample_7",
          "sample_3",
          "sample_5",
          "sample_1",
          "sample_7",
          "sample_3",
          "sample_5",
          "sample_1",
          "sample_7",
          "sample_3",
          "sample_5",
          "sample_1",
          "sample_7",
          "sample_3",
          "sample_5",
          "sample_1",
          "sample_7",
          "sample_3",
          "sample_5",
          "sample_1",
          "sample_7",
          "sample_3",
          "sample_5",
          "sample_1",
          "sample_7",
          "sample_3",
          "sample_5",
          "sample_1",
          "sample_7",
          "sample_3",
          "sample_5",
          "sample_1",
          "sample_7",
          "sample_3",
          "sample_5",
          "sample_1",
          "sample_7",
          "sample_3",
          "sample_5",
          "sample_1",
          "sample_7",
          "sample_3",
          "sample_5",
          "sample_1",
          "sample_7",
          "sample_3",
          "sample_5",
          "sample_1",
          "sample_7",
          "sample_3",
          "sample_5",
          "sample_1",
          "sample_7",
          "sample_3",
          "sample_5",
          "sample_1",
          "sample_7",
          "sample_3",
          "sample_5",
          "sample_1",
          "sample_7",
          "sample_3",
          "sample_5",
          "sample_1",
          "sample_7",
          "sample_3",
          "sample_5",
          "sample_1",
          "sample_7",
          "sample_3",
          "sample_5",
          "sample_1",
          "sample_7",
          "sample_3",
          "sample_5",
          "sample_1",
          "sample_7",
          "sample_3",
          "sample_5",
          "sample_1",
          "sample_7",
          "sample_3",
          "sample_5",
          "sample_1",
          "sample_7",
          "sample_3",
          "sample_5",
          "sample_1",
          "sample_7",
          "sample_3",
          "sample_5",
          "sample_1",
          "sample_7",
          "sample_3",
          "sample_5",
          "sample_1",
          "sample_7",
          "sample_3",
          "sample_5",
          "sample_1",
          "sample_7",
          "sample_3",
          "sample_5",
          "sample_1",
          "sample_7",
          "sample_3",
          "sample_5",
          "sample_1",
          "sample_7",
          "sample_3",
          "sample_5",
          "sample_1",
          "sample_7",
          "sample_3",
          "sample_5",
          "sample_1",
          "sample_7",
          "sample_3",
          "sample_5",
          "sample_1",
          "sample_7",
          "sample_3",
          "sample_5",
          "sample_1",
          "sample_7",
          "sample_3",
          "sample_5",
          "sample_1",
          "sample_7",
          "sample_3",
          "sample_5",
          "sample_1",
          "sample_7",
          "sample_3",
          "sample_5",
          "sample_1",
          "sample_7",
          "sample_3",
          "sample_5",
          "sample_1",
          "sample_7",
          "sample_3",
          "sample_5",
          "sample_1",
          "sample_7",
          "sample_3",
          "sample_5",
          "sample_1",
          "sample_7",
          "sample_3",
          "sample_5",
          "sample_1",
          "sample_7",
          "sample_3",
          "sample_5",
          "sample_1",
          "sample_7",
          "sample_3",
          "sample_5",
          "sample_1",
          "sample_7",
          "sample_3",
          "sample_5",
          "sample_1",
          "sample_7",
          "sample_3",
          "sample_5",
          "sample_1",
          "sample_7",
          "sample_3",
          "sample_5"
         ],
         "type": "box",
         "x": [
          0.20706128581482855,
          1.875749583433663,
          10.597306909994915,
          0.34872209330727894,
          0.20706128581482855,
          1.875749583433663,
          10.597306909994915,
          0.34872209330727894,
          0.20706128581482855,
          1.875749583433663,
          10.597306909994915,
          0.34872209330727894,
          0.20706128581482855,
          1.875749583433663,
          10.597306909994915,
          0.34872209330727894,
          0.20706128581482855,
          1.875749583433663,
          10.597306909994915,
          0.34872209330727894,
          0.20706128581482855,
          1.875749583433663,
          10.597306909994915,
          0.34872209330727894,
          0.20706128581482855,
          1.875749583433663,
          10.597306909994915,
          0.34872209330727894,
          0.20706128581482855,
          1.875749583433663,
          10.597306909994915,
          0.34872209330727894,
          0.20706128581482855,
          1.875749583433663,
          10.597306909994915,
          0.34872209330727894,
          0.20706128581482855,
          1.875749583433663,
          10.597306909994915,
          0.34872209330727894,
          0.20706128581482855,
          1.875749583433663,
          10.597306909994915,
          0.34872209330727894,
          0.20706128581482855,
          1.875749583433663,
          10.597306909994915,
          0.34872209330727894,
          0.20706128581482855,
          1.875749583433663,
          10.597306909994915,
          0.34872209330727894,
          0.20706128581482855,
          1.875749583433663,
          10.597306909994915,
          0.34872209330727894,
          0.20706128581482855,
          1.875749583433663,
          10.597306909994915,
          0.34872209330727894,
          0.20706128581482855,
          1.875749583433663,
          10.597306909994915,
          0.34872209330727894,
          0.20706128581482855,
          1.875749583433663,
          10.597306909994915,
          0.34872209330727894,
          0.20706128581482855,
          1.875749583433663,
          10.597306909994915,
          0.34872209330727894,
          0.20706128581482855,
          1.875749583433663,
          10.597306909994915,
          0.34872209330727894,
          0.20706128581482855,
          1.875749583433663,
          10.597306909994915,
          0.34872209330727894,
          0.20706128581482855,
          1.875749583433663,
          10.597306909994915,
          0.34872209330727894,
          0.20706128581482855,
          1.875749583433663,
          10.597306909994915,
          0.34872209330727894,
          0.20706128581482855,
          1.875749583433663,
          10.597306909994915,
          0.34872209330727894,
          0.20706128581482855,
          1.875749583433663,
          10.597306909994915,
          0.34872209330727894,
          0.20706128581482855,
          1.875749583433663,
          10.597306909994915,
          0.34872209330727894,
          0.20706128581482855,
          1.875749583433663,
          10.597306909994915,
          0.34872209330727894,
          0.20706128581482855,
          1.875749583433663,
          10.597306909994915,
          0.34872209330727894,
          0.20706128581482855,
          1.875749583433663,
          10.597306909994915,
          0.34872209330727894,
          0.20706128581482855,
          1.875749583433663,
          10.597306909994915,
          0.34872209330727894,
          0.20706128581482855,
          1.875749583433663,
          10.597306909994915,
          0.34872209330727894,
          0.20706128581482855,
          1.875749583433663,
          10.597306909994915,
          0.34872209330727894,
          0.20706128581482855,
          1.875749583433663,
          10.597306909994915,
          0.34872209330727894,
          0.20706128581482855,
          1.875749583433663,
          10.597306909994915,
          0.34872209330727894,
          0.20706128581482855,
          1.875749583433663,
          10.597306909994915,
          0.34872209330727894,
          0.20706128581482855,
          1.875749583433663,
          10.597306909994915,
          0.34872209330727894,
          0.20706128581482855,
          1.875749583433663,
          10.597306909994915,
          0.34872209330727894,
          88.30054216658372,
          21.961754740812506,
          38.42814520594384,
          81.56952583048364,
          88.30054216658372,
          21.961754740812506,
          38.42814520594384,
          81.56952583048364,
          88.30054216658372,
          21.961754740812506,
          38.42814520594384,
          81.56952583048364,
          88.30054216658372,
          21.961754740812506,
          38.42814520594384,
          81.56952583048364,
          88.30054216658372,
          21.961754740812506,
          38.42814520594384,
          81.56952583048364,
          88.30054216658372,
          21.961754740812506,
          38.42814520594384,
          81.56952583048364,
          0,
          46.73818450205326,
          0.05919989829933895,
          0,
          0,
          46.73818450205326,
          0.05919989829933895,
          0,
          0,
          46.73818450205326,
          0.05919989829933895,
          0,
          0,
          46.73818450205326,
          0.05919989829933895,
          0,
          0,
          46.73818450205326,
          0.05919989829933895,
          0,
          0,
          46.73818450205326,
          0.05919989829933895,
          0,
          0,
          46.73818450205326,
          0.05919989829933895,
          0,
          0,
          46.73818450205326,
          0.05919989829933895,
          0,
          0,
          46.73818450205326,
          0.05919989829933895,
          0,
          0,
          46.73818450205326,
          0.05919989829933895,
          0,
          0,
          46.73818450205326,
          0.05919989829933895,
          0,
          0,
          46.73818450205326,
          0.05919989829933895,
          0,
          0,
          46.73818450205326,
          0.05919989829933895,
          0,
          0,
          46.73818450205326,
          0.05919989829933895,
          0,
          0,
          46.73818450205326,
          0.05919989829933895,
          0,
          0,
          46.73818450205326,
          0.05919989829933895,
          0,
          0,
          46.73818450205326,
          0.05919989829933895,
          0,
          0,
          46.73818450205326,
          0.05919989829933895,
          0,
          0,
          46.73818450205326,
          0.05919989829933895,
          0,
          0,
          46.73818450205326,
          0.05919989829933895,
          0,
          0,
          46.73818450205326,
          0.05919989829933895,
          0,
          0,
          46.73818450205326,
          0.05919989829933895,
          0,
          0,
          46.73818450205326,
          0.05919989829933895,
          0,
          0,
          46.73818450205326,
          0.05919989829933895,
          0,
          0,
          46.73818450205326,
          0.05919989829933895,
          0,
          0,
          46.73818450205326,
          0.05919989829933895,
          0,
          0,
          46.73818450205326,
          0.05919989829933895,
          0,
          0,
          46.73818450205326,
          0.05919989829933895,
          0,
          0,
          46.73818450205326,
          0.05919989829933895,
          0,
          0,
          46.73818450205326,
          0.05919989829933895,
          0,
          0,
          46.73818450205326,
          0.05919989829933895,
          0,
          1.7184992544926878,
          11.939025446402358,
          24.77625888468275,
          4.99012402296043,
          1.7184992544926878,
          11.939025446402358,
          24.77625888468275,
          4.99012402296043,
          1.7184992544926878,
          11.939025446402358,
          24.77625888468275,
          4.99012402296043,
          1.7184992544926878,
          11.939025446402358,
          24.77625888468275,
          4.99012402296043,
          1.7184992544926878,
          11.939025446402358,
          24.77625888468275,
          4.99012402296043,
          1.7184992544926878,
          11.939025446402358,
          24.77625888468275,
          4.99012402296043,
          1.7184992544926878,
          11.939025446402358,
          24.77625888468275,
          4.99012402296043,
          1.7184992544926878,
          11.939025446402358,
          24.77625888468275,
          4.99012402296043,
          1.7184992544926878,
          11.939025446402358,
          24.77625888468275,
          4.99012402296043,
          1.7184992544926878,
          11.939025446402358,
          24.77625888468275,
          4.99012402296043,
          1.7184992544926878,
          11.939025446402358,
          24.77625888468275,
          4.99012402296043,
          1.7184992544926878,
          11.939025446402358,
          24.77625888468275,
          4.99012402296043,
          1.7184992544926878,
          11.939025446402358,
          24.77625888468275,
          4.99012402296043,
          1.7184992544926878,
          11.939025446402358,
          24.77625888468275,
          4.99012402296043,
          1.7184992544926878,
          11.939025446402358,
          24.77625888468275,
          4.99012402296043,
          1.7184992544926878,
          11.939025446402358,
          24.77625888468275,
          4.99012402296043,
          1.7184992544926878,
          11.939025446402358,
          24.77625888468275,
          4.99012402296043,
          1.7184992544926878,
          11.939025446402358,
          24.77625888468275,
          4.99012402296043,
          1.7184992544926878,
          11.939025446402358,
          24.77625888468275,
          4.99012402296043,
          1.7184992544926878,
          11.939025446402358,
          24.77625888468275,
          4.99012402296043,
          1.7184992544926878,
          11.939025446402358,
          24.77625888468275,
          4.99012402296043,
          1.7184992544926878,
          11.939025446402358,
          24.77625888468275,
          4.99012402296043,
          1.7184992544926878,
          11.939025446402358,
          24.77625888468275,
          4.99012402296043,
          1.7184992544926878,
          11.939025446402358,
          24.77625888468275,
          4.99012402296043,
          1.7184992544926878,
          11.939025446402358,
          24.77625888468275,
          4.99012402296043,
          1.7184992544926878,
          11.939025446402358,
          24.77625888468275,
          4.99012402296043,
          1.7184992544926878,
          11.939025446402358,
          24.77625888468275,
          4.99012402296043,
          1.7184992544926878,
          11.939025446402358,
          24.77625888468275,
          4.99012402296043,
          1.7184992544926878,
          11.939025446402358,
          24.77625888468275,
          4.99012402296043,
          1.7184992544926878,
          11.939025446402358,
          24.77625888468275,
          4.99012402296043,
          1.7184992544926878,
          11.939025446402358,
          24.77625888468275,
          4.99012402296043,
          1.7184992544926878,
          11.939025446402358,
          24.77625888468275,
          4.99012402296043,
          1.7184992544926878,
          11.939025446402358,
          24.77625888468275,
          4.99012402296043,
          1.7184992544926878,
          11.939025446402358,
          24.77625888468275,
          4.99012402296043,
          0.0588490893877348,
          16.824704518918175,
          24.391705915588453,
          0.9668332315583781,
          0.0588490893877348,
          16.824704518918175,
          24.391705915588453,
          0.9668332315583781,
          0.0588490893877348,
          16.824704518918175,
          24.391705915588453,
          0.9668332315583781,
          0.0588490893877348,
          16.824704518918175,
          24.391705915588453,
          0.9668332315583781,
          0.0588490893877348,
          16.824704518918175,
          24.391705915588453,
          0.9668332315583781,
          0.0588490893877348,
          16.824704518918175,
          24.391705915588453,
          0.9668332315583781,
          0.0588490893877348,
          16.824704518918175,
          24.391705915588453,
          0.9668332315583781,
          0.0588490893877348,
          16.824704518918175,
          24.391705915588453,
          0.9668332315583781,
          0.0588490893877348,
          16.824704518918175,
          24.391705915588453,
          0.9668332315583781,
          0.0588490893877348,
          16.824704518918175,
          24.391705915588453,
          0.9668332315583781,
          0.0588490893877348,
          16.824704518918175,
          24.391705915588453,
          0.9668332315583781,
          0.0588490893877348,
          16.824704518918175,
          24.391705915588453,
          0.9668332315583781,
          0.0588490893877348,
          16.824704518918175,
          24.391705915588453,
          0.9668332315583781,
          0.0588490893877348,
          16.824704518918175,
          24.391705915588453,
          0.9668332315583781,
          0.0588490893877348,
          16.824704518918175,
          24.391705915588453,
          0.9668332315583781,
          0.0588490893877348,
          16.824704518918175,
          24.391705915588453,
          0.9668332315583781,
          0.0588490893877348,
          16.824704518918175,
          24.391705915588453,
          0.9668332315583781,
          0.0588490893877348,
          16.824704518918175,
          24.391705915588453,
          0.9668332315583781,
          0.0588490893877348,
          16.824704518918175,
          24.391705915588453,
          0.9668332315583781,
          0.0588490893877348,
          16.824704518918175,
          24.391705915588453,
          0.9668332315583781,
          0.0588490893877348,
          16.824704518918175,
          24.391705915588453,
          0.9668332315583781,
          0.0588490893877348,
          16.824704518918175,
          24.391705915588453,
          0.9668332315583781,
          0.0588490893877348,
          16.824704518918175,
          24.391705915588453,
          0.9668332315583781,
          0.0588490893877348,
          16.824704518918175,
          24.391705915588453,
          0.9668332315583781,
          0.0588490893877348,
          16.824704518918175,
          24.391705915588453,
          0.9668332315583781,
          0.0588490893877348,
          16.824704518918175,
          24.391705915588453,
          0.9668332315583781,
          0.0588490893877348,
          16.824704518918175,
          24.391705915588453,
          0.9668332315583781,
          0.0588490893877348,
          16.824704518918175,
          24.391705915588453,
          0.9668332315583781,
          0.0588490893877348,
          16.824704518918175,
          24.391705915588453,
          0.9668332315583781,
          0.0588490893877348,
          16.824704518918175,
          24.391705915588453,
          0.9668332315583781,
          0.0588490893877348,
          16.824704518918175,
          24.391705915588453,
          0.9668332315583781,
          0.0588490893877348,
          16.824704518918175,
          24.391705915588453,
          0.9668332315583781
         ],
         "xaxis": "x3",
         "y": [
          "0",
          "0",
          "0",
          "0",
          "0",
          "0",
          "0",
          "0",
          "0",
          "0",
          "0",
          "0",
          "0",
          "0",
          "0",
          "0",
          "0",
          "0",
          "0",
          "0",
          "0",
          "0",
          "0",
          "0",
          "0",
          "0",
          "0",
          "0",
          "0",
          "0",
          "0",
          "0",
          "0",
          "0",
          "0",
          "0",
          "0",
          "0",
          "0",
          "0",
          "0",
          "0",
          "0",
          "0",
          "0",
          "0",
          "0",
          "0",
          "0",
          "0",
          "0",
          "0",
          "0",
          "0",
          "0",
          "0",
          "0",
          "0",
          "0",
          "0",
          "0",
          "0",
          "0",
          "0",
          "0",
          "0",
          "0",
          "0",
          "0",
          "0",
          "0",
          "0",
          "0",
          "0",
          "0",
          "0",
          "0",
          "0",
          "0",
          "0",
          "0",
          "0",
          "0",
          "0",
          "0",
          "0",
          "0",
          "0",
          "0",
          "0",
          "0",
          "0",
          "0",
          "0",
          "0",
          "0",
          "0",
          "0",
          "0",
          "0",
          "0",
          "0",
          "0",
          "0",
          "0",
          "0",
          "0",
          "0",
          "0",
          "0",
          "0",
          "0",
          "0",
          "0",
          "0",
          "0",
          "0",
          "0",
          "0",
          "0",
          "0",
          "0",
          "0",
          "0",
          "0",
          "0",
          "0",
          "0",
          "0",
          "0",
          "0",
          "0",
          "0",
          "0",
          "0",
          "0",
          "0",
          "0",
          "0",
          "0",
          "0",
          "0",
          "0",
          "0",
          "1",
          "1",
          "1",
          "1",
          "1",
          "1",
          "1",
          "1",
          "1",
          "1",
          "1",
          "1",
          "1",
          "1",
          "1",
          "1",
          "1",
          "1",
          "1",
          "1",
          "1",
          "1",
          "1",
          "1",
          "2",
          "2",
          "2",
          "2",
          "2",
          "2",
          "2",
          "2",
          "2",
          "2",
          "2",
          "2",
          "2",
          "2",
          "2",
          "2",
          "2",
          "2",
          "2",
          "2",
          "2",
          "2",
          "2",
          "2",
          "2",
          "2",
          "2",
          "2",
          "2",
          "2",
          "2",
          "2",
          "2",
          "2",
          "2",
          "2",
          "2",
          "2",
          "2",
          "2",
          "2",
          "2",
          "2",
          "2",
          "2",
          "2",
          "2",
          "2",
          "2",
          "2",
          "2",
          "2",
          "2",
          "2",
          "2",
          "2",
          "2",
          "2",
          "2",
          "2",
          "2",
          "2",
          "2",
          "2",
          "2",
          "2",
          "2",
          "2",
          "2",
          "2",
          "2",
          "2",
          "2",
          "2",
          "2",
          "2",
          "2",
          "2",
          "2",
          "2",
          "2",
          "2",
          "2",
          "2",
          "2",
          "2",
          "2",
          "2",
          "2",
          "2",
          "2",
          "2",
          "2",
          "2",
          "2",
          "2",
          "2",
          "2",
          "2",
          "2",
          "2",
          "2",
          "2",
          "2",
          "2",
          "2",
          "2",
          "2",
          "2",
          "2",
          "2",
          "2",
          "2",
          "2",
          "2",
          "2",
          "2",
          "2",
          "2",
          "2",
          "2",
          "2",
          "2",
          "2",
          "3",
          "3",
          "3",
          "3",
          "3",
          "3",
          "3",
          "3",
          "3",
          "3",
          "3",
          "3",
          "3",
          "3",
          "3",
          "3",
          "3",
          "3",
          "3",
          "3",
          "3",
          "3",
          "3",
          "3",
          "3",
          "3",
          "3",
          "3",
          "3",
          "3",
          "3",
          "3",
          "3",
          "3",
          "3",
          "3",
          "3",
          "3",
          "3",
          "3",
          "3",
          "3",
          "3",
          "3",
          "3",
          "3",
          "3",
          "3",
          "3",
          "3",
          "3",
          "3",
          "3",
          "3",
          "3",
          "3",
          "3",
          "3",
          "3",
          "3",
          "3",
          "3",
          "3",
          "3",
          "3",
          "3",
          "3",
          "3",
          "3",
          "3",
          "3",
          "3",
          "3",
          "3",
          "3",
          "3",
          "3",
          "3",
          "3",
          "3",
          "3",
          "3",
          "3",
          "3",
          "3",
          "3",
          "3",
          "3",
          "3",
          "3",
          "3",
          "3",
          "3",
          "3",
          "3",
          "3",
          "3",
          "3",
          "3",
          "3",
          "3",
          "3",
          "3",
          "3",
          "3",
          "3",
          "3",
          "3",
          "3",
          "3",
          "3",
          "3",
          "3",
          "3",
          "3",
          "3",
          "3",
          "3",
          "3",
          "3",
          "3",
          "3",
          "3",
          "3",
          "3",
          "3",
          "3",
          "3",
          "3",
          "3",
          "3",
          "3",
          "3",
          "3",
          "3",
          "3",
          "4",
          "4",
          "4",
          "4",
          "4",
          "4",
          "4",
          "4",
          "4",
          "4",
          "4",
          "4",
          "4",
          "4",
          "4",
          "4",
          "4",
          "4",
          "4",
          "4",
          "4",
          "4",
          "4",
          "4",
          "4",
          "4",
          "4",
          "4",
          "4",
          "4",
          "4",
          "4",
          "4",
          "4",
          "4",
          "4",
          "4",
          "4",
          "4",
          "4",
          "4",
          "4",
          "4",
          "4",
          "4",
          "4",
          "4",
          "4",
          "4",
          "4",
          "4",
          "4",
          "4",
          "4",
          "4",
          "4",
          "4",
          "4",
          "4",
          "4",
          "4",
          "4",
          "4",
          "4",
          "4",
          "4",
          "4",
          "4",
          "4",
          "4",
          "4",
          "4",
          "4",
          "4",
          "4",
          "4",
          "4",
          "4",
          "4",
          "4",
          "4",
          "4",
          "4",
          "4",
          "4",
          "4",
          "4",
          "4",
          "4",
          "4",
          "4",
          "4",
          "4",
          "4",
          "4",
          "4",
          "4",
          "4",
          "4",
          "4",
          "4",
          "4",
          "4",
          "4",
          "4",
          "4",
          "4",
          "4",
          "4",
          "4",
          "4",
          "4",
          "4",
          "4",
          "4",
          "4",
          "4",
          "4",
          "4",
          "4",
          "4",
          "4",
          "4",
          "4",
          "4",
          "4",
          "4",
          "4"
         ],
         "yaxis": "y3"
        },
        {
         "boxmean": false,
         "boxpoints": "all",
         "fillcolor": "#FF97FF",
         "jitter": 0.3,
         "legendgroup": "Control",
         "legendgrouptitle": {
          "text": ""
         },
         "line": {
          "width": 0.5
         },
         "marker": {
          "color": "black",
          "opacity": 1,
          "size": 1
         },
         "name": "Control",
         "offsetgroup": "1",
         "opacity": 1,
         "orientation": "h",
         "pointpos": 0,
         "showlegend": false,
         "text": [
          "sample_4",
          "sample_2",
          "sample_6",
          "sample_8",
          "sample_4",
          "sample_2",
          "sample_6",
          "sample_8",
          "sample_4",
          "sample_2",
          "sample_6",
          "sample_8",
          "sample_4",
          "sample_2",
          "sample_6",
          "sample_8",
          "sample_4",
          "sample_2",
          "sample_6",
          "sample_8",
          "sample_4",
          "sample_2",
          "sample_6",
          "sample_8",
          "sample_4",
          "sample_2",
          "sample_6",
          "sample_8",
          "sample_4",
          "sample_2",
          "sample_6",
          "sample_8",
          "sample_4",
          "sample_2",
          "sample_6",
          "sample_8",
          "sample_4",
          "sample_2",
          "sample_6",
          "sample_8",
          "sample_4",
          "sample_2",
          "sample_6",
          "sample_8",
          "sample_4",
          "sample_2",
          "sample_6",
          "sample_8",
          "sample_4",
          "sample_2",
          "sample_6",
          "sample_8",
          "sample_4",
          "sample_2",
          "sample_6",
          "sample_8",
          "sample_4",
          "sample_2",
          "sample_6",
          "sample_8",
          "sample_4",
          "sample_2",
          "sample_6",
          "sample_8",
          "sample_4",
          "sample_2",
          "sample_6",
          "sample_8",
          "sample_4",
          "sample_2",
          "sample_6",
          "sample_8",
          "sample_4",
          "sample_2",
          "sample_6",
          "sample_8",
          "sample_4",
          "sample_2",
          "sample_6",
          "sample_8",
          "sample_4",
          "sample_2",
          "sample_6",
          "sample_8",
          "sample_4",
          "sample_2",
          "sample_6",
          "sample_8",
          "sample_4",
          "sample_2",
          "sample_6",
          "sample_8",
          "sample_4",
          "sample_2",
          "sample_6",
          "sample_8",
          "sample_4",
          "sample_2",
          "sample_6",
          "sample_8",
          "sample_4",
          "sample_2",
          "sample_6",
          "sample_8",
          "sample_4",
          "sample_2",
          "sample_6",
          "sample_8",
          "sample_4",
          "sample_2",
          "sample_6",
          "sample_8",
          "sample_4",
          "sample_2",
          "sample_6",
          "sample_8",
          "sample_4",
          "sample_2",
          "sample_6",
          "sample_8",
          "sample_4",
          "sample_2",
          "sample_6",
          "sample_8",
          "sample_4",
          "sample_2",
          "sample_6",
          "sample_8",
          "sample_4",
          "sample_2",
          "sample_6",
          "sample_8",
          "sample_4",
          "sample_2",
          "sample_6",
          "sample_8",
          "sample_4",
          "sample_2",
          "sample_6",
          "sample_8",
          "sample_4",
          "sample_2",
          "sample_6",
          "sample_8",
          "sample_4",
          "sample_2",
          "sample_6",
          "sample_8",
          "sample_4",
          "sample_2",
          "sample_6",
          "sample_8",
          "sample_4",
          "sample_2",
          "sample_6",
          "sample_8",
          "sample_4",
          "sample_2",
          "sample_6",
          "sample_8",
          "sample_4",
          "sample_2",
          "sample_6",
          "sample_8",
          "sample_4",
          "sample_2",
          "sample_6",
          "sample_8",
          "sample_4",
          "sample_2",
          "sample_6",
          "sample_8",
          "sample_4",
          "sample_2",
          "sample_6",
          "sample_8",
          "sample_4",
          "sample_2",
          "sample_6",
          "sample_8",
          "sample_4",
          "sample_2",
          "sample_6",
          "sample_8",
          "sample_4",
          "sample_2",
          "sample_6",
          "sample_8",
          "sample_4",
          "sample_2",
          "sample_6",
          "sample_8",
          "sample_4",
          "sample_2",
          "sample_6",
          "sample_8",
          "sample_4",
          "sample_2",
          "sample_6",
          "sample_8",
          "sample_4",
          "sample_2",
          "sample_6",
          "sample_8",
          "sample_4",
          "sample_2",
          "sample_6",
          "sample_8",
          "sample_4",
          "sample_2",
          "sample_6",
          "sample_8",
          "sample_4",
          "sample_2",
          "sample_6",
          "sample_8",
          "sample_4",
          "sample_2",
          "sample_6",
          "sample_8",
          "sample_4",
          "sample_2",
          "sample_6",
          "sample_8",
          "sample_4",
          "sample_2",
          "sample_6",
          "sample_8",
          "sample_4",
          "sample_2",
          "sample_6",
          "sample_8",
          "sample_4",
          "sample_2",
          "sample_6",
          "sample_8",
          "sample_4",
          "sample_2",
          "sample_6",
          "sample_8",
          "sample_4",
          "sample_2",
          "sample_6",
          "sample_8",
          "sample_4",
          "sample_2",
          "sample_6",
          "sample_8",
          "sample_4",
          "sample_2",
          "sample_6",
          "sample_8",
          "sample_4",
          "sample_2",
          "sample_6",
          "sample_8",
          "sample_4",
          "sample_2",
          "sample_6",
          "sample_8",
          "sample_4",
          "sample_2",
          "sample_6",
          "sample_8",
          "sample_4",
          "sample_2",
          "sample_6",
          "sample_8",
          "sample_4",
          "sample_2",
          "sample_6",
          "sample_8",
          "sample_4",
          "sample_2",
          "sample_6",
          "sample_8",
          "sample_4",
          "sample_2",
          "sample_6",
          "sample_8",
          "sample_4",
          "sample_2",
          "sample_6",
          "sample_8",
          "sample_4",
          "sample_2",
          "sample_6",
          "sample_8",
          "sample_4",
          "sample_2",
          "sample_6",
          "sample_8",
          "sample_4",
          "sample_2",
          "sample_6",
          "sample_8",
          "sample_4",
          "sample_2",
          "sample_6",
          "sample_8",
          "sample_4",
          "sample_2",
          "sample_6",
          "sample_8",
          "sample_4",
          "sample_2",
          "sample_6",
          "sample_8",
          "sample_4",
          "sample_2",
          "sample_6",
          "sample_8",
          "sample_4",
          "sample_2",
          "sample_6",
          "sample_8",
          "sample_4",
          "sample_2",
          "sample_6",
          "sample_8",
          "sample_4",
          "sample_2",
          "sample_6",
          "sample_8",
          "sample_4",
          "sample_2",
          "sample_6",
          "sample_8",
          "sample_4",
          "sample_2",
          "sample_6",
          "sample_8",
          "sample_4",
          "sample_2",
          "sample_6",
          "sample_8",
          "sample_4",
          "sample_2",
          "sample_6",
          "sample_8",
          "sample_4",
          "sample_2",
          "sample_6",
          "sample_8",
          "sample_4",
          "sample_2",
          "sample_6",
          "sample_8",
          "sample_4",
          "sample_2",
          "sample_6",
          "sample_8",
          "sample_4",
          "sample_2",
          "sample_6",
          "sample_8",
          "sample_4",
          "sample_2",
          "sample_6",
          "sample_8",
          "sample_4",
          "sample_2",
          "sample_6",
          "sample_8",
          "sample_4",
          "sample_2",
          "sample_6",
          "sample_8",
          "sample_4",
          "sample_2",
          "sample_6",
          "sample_8",
          "sample_4",
          "sample_2",
          "sample_6",
          "sample_8",
          "sample_4",
          "sample_2",
          "sample_6",
          "sample_8",
          "sample_4",
          "sample_2",
          "sample_6",
          "sample_8",
          "sample_4",
          "sample_2",
          "sample_6",
          "sample_8",
          "sample_4",
          "sample_2",
          "sample_6",
          "sample_8",
          "sample_4",
          "sample_2",
          "sample_6",
          "sample_8",
          "sample_4",
          "sample_2",
          "sample_6",
          "sample_8",
          "sample_4",
          "sample_2",
          "sample_6",
          "sample_8",
          "sample_4",
          "sample_2",
          "sample_6",
          "sample_8",
          "sample_4",
          "sample_2",
          "sample_6",
          "sample_8",
          "sample_4",
          "sample_2",
          "sample_6",
          "sample_8",
          "sample_4",
          "sample_2",
          "sample_6",
          "sample_8",
          "sample_4",
          "sample_2",
          "sample_6",
          "sample_8",
          "sample_4",
          "sample_2",
          "sample_6",
          "sample_8",
          "sample_4",
          "sample_2",
          "sample_6",
          "sample_8",
          "sample_4",
          "sample_2",
          "sample_6",
          "sample_8",
          "sample_4",
          "sample_2",
          "sample_6",
          "sample_8",
          "sample_4",
          "sample_2",
          "sample_6",
          "sample_8",
          "sample_4",
          "sample_2",
          "sample_6",
          "sample_8",
          "sample_4",
          "sample_2",
          "sample_6",
          "sample_8",
          "sample_4",
          "sample_2",
          "sample_6",
          "sample_8",
          "sample_4",
          "sample_2",
          "sample_6",
          "sample_8",
          "sample_4",
          "sample_2",
          "sample_6",
          "sample_8",
          "sample_4",
          "sample_2",
          "sample_6",
          "sample_8",
          "sample_4",
          "sample_2",
          "sample_6",
          "sample_8",
          "sample_4",
          "sample_2",
          "sample_6",
          "sample_8",
          "sample_4",
          "sample_2",
          "sample_6",
          "sample_8",
          "sample_4",
          "sample_2",
          "sample_6",
          "sample_8",
          "sample_4",
          "sample_2",
          "sample_6",
          "sample_8",
          "sample_4",
          "sample_2",
          "sample_6",
          "sample_8",
          "sample_4",
          "sample_2",
          "sample_6",
          "sample_8",
          "sample_4",
          "sample_2",
          "sample_6",
          "sample_8",
          "sample_4",
          "sample_2",
          "sample_6",
          "sample_8",
          "sample_4",
          "sample_2",
          "sample_6",
          "sample_8",
          "sample_4",
          "sample_2",
          "sample_6",
          "sample_8",
          "sample_4",
          "sample_2",
          "sample_6",
          "sample_8",
          "sample_4",
          "sample_2",
          "sample_6",
          "sample_8",
          "sample_4",
          "sample_2",
          "sample_6",
          "sample_8",
          "sample_4",
          "sample_2",
          "sample_6",
          "sample_8",
          "sample_4",
          "sample_2",
          "sample_6",
          "sample_8",
          "sample_4",
          "sample_2",
          "sample_6",
          "sample_8",
          "sample_4",
          "sample_2",
          "sample_6",
          "sample_8",
          "sample_4",
          "sample_2",
          "sample_6",
          "sample_8",
          "sample_4",
          "sample_2",
          "sample_6",
          "sample_8",
          "sample_4",
          "sample_2",
          "sample_6",
          "sample_8",
          "sample_4",
          "sample_2",
          "sample_6",
          "sample_8"
         ],
         "type": "box",
         "x": [
          4.614959013430469,
          3.966236432534849,
          3.945723807929468,
          4.1761386520451875,
          4.614959013430469,
          3.966236432534849,
          3.945723807929468,
          4.1761386520451875,
          4.614959013430469,
          3.966236432534849,
          3.945723807929468,
          4.1761386520451875,
          4.614959013430469,
          3.966236432534849,
          3.945723807929468,
          4.1761386520451875,
          4.614959013430469,
          3.966236432534849,
          3.945723807929468,
          4.1761386520451875,
          4.614959013430469,
          3.966236432534849,
          3.945723807929468,
          4.1761386520451875,
          4.614959013430469,
          3.966236432534849,
          3.945723807929468,
          4.1761386520451875,
          4.614959013430469,
          3.966236432534849,
          3.945723807929468,
          4.1761386520451875,
          4.614959013430469,
          3.966236432534849,
          3.945723807929468,
          4.1761386520451875,
          4.614959013430469,
          3.966236432534849,
          3.945723807929468,
          4.1761386520451875,
          4.614959013430469,
          3.966236432534849,
          3.945723807929468,
          4.1761386520451875,
          4.614959013430469,
          3.966236432534849,
          3.945723807929468,
          4.1761386520451875,
          4.614959013430469,
          3.966236432534849,
          3.945723807929468,
          4.1761386520451875,
          4.614959013430469,
          3.966236432534849,
          3.945723807929468,
          4.1761386520451875,
          4.614959013430469,
          3.966236432534849,
          3.945723807929468,
          4.1761386520451875,
          4.614959013430469,
          3.966236432534849,
          3.945723807929468,
          4.1761386520451875,
          4.614959013430469,
          3.966236432534849,
          3.945723807929468,
          4.1761386520451875,
          4.614959013430469,
          3.966236432534849,
          3.945723807929468,
          4.1761386520451875,
          4.614959013430469,
          3.966236432534849,
          3.945723807929468,
          4.1761386520451875,
          4.614959013430469,
          3.966236432534849,
          3.945723807929468,
          4.1761386520451875,
          4.614959013430469,
          3.966236432534849,
          3.945723807929468,
          4.1761386520451875,
          4.614959013430469,
          3.966236432534849,
          3.945723807929468,
          4.1761386520451875,
          4.614959013430469,
          3.966236432534849,
          3.945723807929468,
          4.1761386520451875,
          4.614959013430469,
          3.966236432534849,
          3.945723807929468,
          4.1761386520451875,
          4.614959013430469,
          3.966236432534849,
          3.945723807929468,
          4.1761386520451875,
          4.614959013430469,
          3.966236432534849,
          3.945723807929468,
          4.1761386520451875,
          4.614959013430469,
          3.966236432534849,
          3.945723807929468,
          4.1761386520451875,
          4.614959013430469,
          3.966236432534849,
          3.945723807929468,
          4.1761386520451875,
          4.614959013430469,
          3.966236432534849,
          3.945723807929468,
          4.1761386520451875,
          4.614959013430469,
          3.966236432534849,
          3.945723807929468,
          4.1761386520451875,
          4.614959013430469,
          3.966236432534849,
          3.945723807929468,
          4.1761386520451875,
          4.614959013430469,
          3.966236432534849,
          3.945723807929468,
          4.1761386520451875,
          4.614959013430469,
          3.966236432534849,
          3.945723807929468,
          4.1761386520451875,
          4.614959013430469,
          3.966236432534849,
          3.945723807929468,
          4.1761386520451875,
          4.614959013430469,
          3.966236432534849,
          3.945723807929468,
          4.1761386520451875,
          4.614959013430469,
          3.966236432534849,
          3.945723807929468,
          4.1761386520451875,
          0.7817188777354502,
          2.7612895520368115,
          2.534584023883263,
          0.9732379902246824,
          0.7817188777354502,
          2.7612895520368115,
          2.534584023883263,
          0.9732379902246824,
          0.7817188777354502,
          2.7612895520368115,
          2.534584023883263,
          0.9732379902246824,
          0.7817188777354502,
          2.7612895520368115,
          2.534584023883263,
          0.9732379902246824,
          0.7817188777354502,
          2.7612895520368115,
          2.534584023883263,
          0.9732379902246824,
          0.7817188777354502,
          2.7612895520368115,
          2.534584023883263,
          0.9732379902246824,
          0.6500511080833078,
          0.5024314859926918,
          0.44325233670935543,
          0.5975208279513876,
          0.6500511080833078,
          0.5024314859926918,
          0.44325233670935543,
          0.5975208279513876,
          0.6500511080833078,
          0.5024314859926918,
          0.44325233670935543,
          0.5975208279513876,
          0.6500511080833078,
          0.5024314859926918,
          0.44325233670935543,
          0.5975208279513876,
          0.6500511080833078,
          0.5024314859926918,
          0.44325233670935543,
          0.5975208279513876,
          0.6500511080833078,
          0.5024314859926918,
          0.44325233670935543,
          0.5975208279513876,
          0.6500511080833078,
          0.5024314859926918,
          0.44325233670935543,
          0.5975208279513876,
          0.6500511080833078,
          0.5024314859926918,
          0.44325233670935543,
          0.5975208279513876,
          0.6500511080833078,
          0.5024314859926918,
          0.44325233670935543,
          0.5975208279513876,
          0.6500511080833078,
          0.5024314859926918,
          0.44325233670935543,
          0.5975208279513876,
          0.6500511080833078,
          0.5024314859926918,
          0.44325233670935543,
          0.5975208279513876,
          0.6500511080833078,
          0.5024314859926918,
          0.44325233670935543,
          0.5975208279513876,
          0.6500511080833078,
          0.5024314859926918,
          0.44325233670935543,
          0.5975208279513876,
          0.6500511080833078,
          0.5024314859926918,
          0.44325233670935543,
          0.5975208279513876,
          0.6500511080833078,
          0.5024314859926918,
          0.44325233670935543,
          0.5975208279513876,
          0.6500511080833078,
          0.5024314859926918,
          0.44325233670935543,
          0.5975208279513876,
          0.6500511080833078,
          0.5024314859926918,
          0.44325233670935543,
          0.5975208279513876,
          0.6500511080833078,
          0.5024314859926918,
          0.44325233670935543,
          0.5975208279513876,
          0.6500511080833078,
          0.5024314859926918,
          0.44325233670935543,
          0.5975208279513876,
          0.6500511080833078,
          0.5024314859926918,
          0.44325233670935543,
          0.5975208279513876,
          0.6500511080833078,
          0.5024314859926918,
          0.44325233670935543,
          0.5975208279513876,
          0.6500511080833078,
          0.5024314859926918,
          0.44325233670935543,
          0.5975208279513876,
          0.6500511080833078,
          0.5024314859926918,
          0.44325233670935543,
          0.5975208279513876,
          0.6500511080833078,
          0.5024314859926918,
          0.44325233670935543,
          0.5975208279513876,
          0.6500511080833078,
          0.5024314859926918,
          0.44325233670935543,
          0.5975208279513876,
          0.6500511080833078,
          0.5024314859926918,
          0.44325233670935543,
          0.5975208279513876,
          0.6500511080833078,
          0.5024314859926918,
          0.44325233670935543,
          0.5975208279513876,
          0.6500511080833078,
          0.5024314859926918,
          0.44325233670935543,
          0.5975208279513876,
          0.6500511080833078,
          0.5024314859926918,
          0.44325233670935543,
          0.5975208279513876,
          0.6500511080833078,
          0.5024314859926918,
          0.44325233670935543,
          0.5975208279513876,
          0.6500511080833078,
          0.5024314859926918,
          0.44325233670935543,
          0.5975208279513876,
          36.60925640241358,
          36.06429012721613,
          28.12296188722414,
          30.53997028023541,
          36.60925640241358,
          36.06429012721613,
          28.12296188722414,
          30.53997028023541,
          36.60925640241358,
          36.06429012721613,
          28.12296188722414,
          30.53997028023541,
          36.60925640241358,
          36.06429012721613,
          28.12296188722414,
          30.53997028023541,
          36.60925640241358,
          36.06429012721613,
          28.12296188722414,
          30.53997028023541,
          36.60925640241358,
          36.06429012721613,
          28.12296188722414,
          30.53997028023541,
          36.60925640241358,
          36.06429012721613,
          28.12296188722414,
          30.53997028023541,
          36.60925640241358,
          36.06429012721613,
          28.12296188722414,
          30.53997028023541,
          36.60925640241358,
          36.06429012721613,
          28.12296188722414,
          30.53997028023541,
          36.60925640241358,
          36.06429012721613,
          28.12296188722414,
          30.53997028023541,
          36.60925640241358,
          36.06429012721613,
          28.12296188722414,
          30.53997028023541,
          36.60925640241358,
          36.06429012721613,
          28.12296188722414,
          30.53997028023541,
          36.60925640241358,
          36.06429012721613,
          28.12296188722414,
          30.53997028023541,
          36.60925640241358,
          36.06429012721613,
          28.12296188722414,
          30.53997028023541,
          36.60925640241358,
          36.06429012721613,
          28.12296188722414,
          30.53997028023541,
          36.60925640241358,
          36.06429012721613,
          28.12296188722414,
          30.53997028023541,
          36.60925640241358,
          36.06429012721613,
          28.12296188722414,
          30.53997028023541,
          36.60925640241358,
          36.06429012721613,
          28.12296188722414,
          30.53997028023541,
          36.60925640241358,
          36.06429012721613,
          28.12296188722414,
          30.53997028023541,
          36.60925640241358,
          36.06429012721613,
          28.12296188722414,
          30.53997028023541,
          36.60925640241358,
          36.06429012721613,
          28.12296188722414,
          30.53997028023541,
          36.60925640241358,
          36.06429012721613,
          28.12296188722414,
          30.53997028023541,
          36.60925640241358,
          36.06429012721613,
          28.12296188722414,
          30.53997028023541,
          36.60925640241358,
          36.06429012721613,
          28.12296188722414,
          30.53997028023541,
          36.60925640241358,
          36.06429012721613,
          28.12296188722414,
          30.53997028023541,
          36.60925640241358,
          36.06429012721613,
          28.12296188722414,
          30.53997028023541,
          36.60925640241358,
          36.06429012721613,
          28.12296188722414,
          30.53997028023541,
          36.60925640241358,
          36.06429012721613,
          28.12296188722414,
          30.53997028023541,
          36.60925640241358,
          36.06429012721613,
          28.12296188722414,
          30.53997028023541,
          36.60925640241358,
          36.06429012721613,
          28.12296188722414,
          30.53997028023541,
          36.60925640241358,
          36.06429012721613,
          28.12296188722414,
          30.53997028023541,
          36.60925640241358,
          36.06429012721613,
          28.12296188722414,
          30.53997028023541,
          36.60925640241358,
          36.06429012721613,
          28.12296188722414,
          30.53997028023541,
          36.60925640241358,
          36.06429012721613,
          28.12296188722414,
          30.53997028023541,
          55.897047799126874,
          54.355053153336044,
          62.08261385006002,
          62.33674606929601,
          55.897047799126874,
          54.355053153336044,
          62.08261385006002,
          62.33674606929601,
          55.897047799126874,
          54.355053153336044,
          62.08261385006002,
          62.33674606929601,
          55.897047799126874,
          54.355053153336044,
          62.08261385006002,
          62.33674606929601,
          55.897047799126874,
          54.355053153336044,
          62.08261385006002,
          62.33674606929601,
          55.897047799126874,
          54.355053153336044,
          62.08261385006002,
          62.33674606929601,
          55.897047799126874,
          54.355053153336044,
          62.08261385006002,
          62.33674606929601,
          55.897047799126874,
          54.355053153336044,
          62.08261385006002,
          62.33674606929601,
          55.897047799126874,
          54.355053153336044,
          62.08261385006002,
          62.33674606929601,
          55.897047799126874,
          54.355053153336044,
          62.08261385006002,
          62.33674606929601,
          55.897047799126874,
          54.355053153336044,
          62.08261385006002,
          62.33674606929601,
          55.897047799126874,
          54.355053153336044,
          62.08261385006002,
          62.33674606929601,
          55.897047799126874,
          54.355053153336044,
          62.08261385006002,
          62.33674606929601,
          55.897047799126874,
          54.355053153336044,
          62.08261385006002,
          62.33674606929601,
          55.897047799126874,
          54.355053153336044,
          62.08261385006002,
          62.33674606929601,
          55.897047799126874,
          54.355053153336044,
          62.08261385006002,
          62.33674606929601,
          55.897047799126874,
          54.355053153336044,
          62.08261385006002,
          62.33674606929601,
          55.897047799126874,
          54.355053153336044,
          62.08261385006002,
          62.33674606929601,
          55.897047799126874,
          54.355053153336044,
          62.08261385006002,
          62.33674606929601,
          55.897047799126874,
          54.355053153336044,
          62.08261385006002,
          62.33674606929601,
          55.897047799126874,
          54.355053153336044,
          62.08261385006002,
          62.33674606929601,
          55.897047799126874,
          54.355053153336044,
          62.08261385006002,
          62.33674606929601,
          55.897047799126874,
          54.355053153336044,
          62.08261385006002,
          62.33674606929601,
          55.897047799126874,
          54.355053153336044,
          62.08261385006002,
          62.33674606929601,
          55.897047799126874,
          54.355053153336044,
          62.08261385006002,
          62.33674606929601,
          55.897047799126874,
          54.355053153336044,
          62.08261385006002,
          62.33674606929601,
          55.897047799126874,
          54.355053153336044,
          62.08261385006002,
          62.33674606929601,
          55.897047799126874,
          54.355053153336044,
          62.08261385006002,
          62.33674606929601,
          55.897047799126874,
          54.355053153336044,
          62.08261385006002,
          62.33674606929601,
          55.897047799126874,
          54.355053153336044,
          62.08261385006002,
          62.33674606929601,
          55.897047799126874,
          54.355053153336044,
          62.08261385006002,
          62.33674606929601,
          55.897047799126874,
          54.355053153336044,
          62.08261385006002,
          62.33674606929601
         ],
         "xaxis": "x3",
         "y": [
          "0",
          "0",
          "0",
          "0",
          "0",
          "0",
          "0",
          "0",
          "0",
          "0",
          "0",
          "0",
          "0",
          "0",
          "0",
          "0",
          "0",
          "0",
          "0",
          "0",
          "0",
          "0",
          "0",
          "0",
          "0",
          "0",
          "0",
          "0",
          "0",
          "0",
          "0",
          "0",
          "0",
          "0",
          "0",
          "0",
          "0",
          "0",
          "0",
          "0",
          "0",
          "0",
          "0",
          "0",
          "0",
          "0",
          "0",
          "0",
          "0",
          "0",
          "0",
          "0",
          "0",
          "0",
          "0",
          "0",
          "0",
          "0",
          "0",
          "0",
          "0",
          "0",
          "0",
          "0",
          "0",
          "0",
          "0",
          "0",
          "0",
          "0",
          "0",
          "0",
          "0",
          "0",
          "0",
          "0",
          "0",
          "0",
          "0",
          "0",
          "0",
          "0",
          "0",
          "0",
          "0",
          "0",
          "0",
          "0",
          "0",
          "0",
          "0",
          "0",
          "0",
          "0",
          "0",
          "0",
          "0",
          "0",
          "0",
          "0",
          "0",
          "0",
          "0",
          "0",
          "0",
          "0",
          "0",
          "0",
          "0",
          "0",
          "0",
          "0",
          "0",
          "0",
          "0",
          "0",
          "0",
          "0",
          "0",
          "0",
          "0",
          "0",
          "0",
          "0",
          "0",
          "0",
          "0",
          "0",
          "0",
          "0",
          "0",
          "0",
          "0",
          "0",
          "0",
          "0",
          "0",
          "0",
          "0",
          "0",
          "0",
          "0",
          "0",
          "0",
          "1",
          "1",
          "1",
          "1",
          "1",
          "1",
          "1",
          "1",
          "1",
          "1",
          "1",
          "1",
          "1",
          "1",
          "1",
          "1",
          "1",
          "1",
          "1",
          "1",
          "1",
          "1",
          "1",
          "1",
          "2",
          "2",
          "2",
          "2",
          "2",
          "2",
          "2",
          "2",
          "2",
          "2",
          "2",
          "2",
          "2",
          "2",
          "2",
          "2",
          "2",
          "2",
          "2",
          "2",
          "2",
          "2",
          "2",
          "2",
          "2",
          "2",
          "2",
          "2",
          "2",
          "2",
          "2",
          "2",
          "2",
          "2",
          "2",
          "2",
          "2",
          "2",
          "2",
          "2",
          "2",
          "2",
          "2",
          "2",
          "2",
          "2",
          "2",
          "2",
          "2",
          "2",
          "2",
          "2",
          "2",
          "2",
          "2",
          "2",
          "2",
          "2",
          "2",
          "2",
          "2",
          "2",
          "2",
          "2",
          "2",
          "2",
          "2",
          "2",
          "2",
          "2",
          "2",
          "2",
          "2",
          "2",
          "2",
          "2",
          "2",
          "2",
          "2",
          "2",
          "2",
          "2",
          "2",
          "2",
          "2",
          "2",
          "2",
          "2",
          "2",
          "2",
          "2",
          "2",
          "2",
          "2",
          "2",
          "2",
          "2",
          "2",
          "2",
          "2",
          "2",
          "2",
          "2",
          "2",
          "2",
          "2",
          "2",
          "2",
          "2",
          "2",
          "2",
          "2",
          "2",
          "2",
          "2",
          "2",
          "2",
          "2",
          "2",
          "2",
          "2",
          "2",
          "2",
          "2",
          "3",
          "3",
          "3",
          "3",
          "3",
          "3",
          "3",
          "3",
          "3",
          "3",
          "3",
          "3",
          "3",
          "3",
          "3",
          "3",
          "3",
          "3",
          "3",
          "3",
          "3",
          "3",
          "3",
          "3",
          "3",
          "3",
          "3",
          "3",
          "3",
          "3",
          "3",
          "3",
          "3",
          "3",
          "3",
          "3",
          "3",
          "3",
          "3",
          "3",
          "3",
          "3",
          "3",
          "3",
          "3",
          "3",
          "3",
          "3",
          "3",
          "3",
          "3",
          "3",
          "3",
          "3",
          "3",
          "3",
          "3",
          "3",
          "3",
          "3",
          "3",
          "3",
          "3",
          "3",
          "3",
          "3",
          "3",
          "3",
          "3",
          "3",
          "3",
          "3",
          "3",
          "3",
          "3",
          "3",
          "3",
          "3",
          "3",
          "3",
          "3",
          "3",
          "3",
          "3",
          "3",
          "3",
          "3",
          "3",
          "3",
          "3",
          "3",
          "3",
          "3",
          "3",
          "3",
          "3",
          "3",
          "3",
          "3",
          "3",
          "3",
          "3",
          "3",
          "3",
          "3",
          "3",
          "3",
          "3",
          "3",
          "3",
          "3",
          "3",
          "3",
          "3",
          "3",
          "3",
          "3",
          "3",
          "3",
          "3",
          "3",
          "3",
          "3",
          "3",
          "3",
          "3",
          "3",
          "3",
          "3",
          "3",
          "3",
          "3",
          "3",
          "3",
          "3",
          "3",
          "4",
          "4",
          "4",
          "4",
          "4",
          "4",
          "4",
          "4",
          "4",
          "4",
          "4",
          "4",
          "4",
          "4",
          "4",
          "4",
          "4",
          "4",
          "4",
          "4",
          "4",
          "4",
          "4",
          "4",
          "4",
          "4",
          "4",
          "4",
          "4",
          "4",
          "4",
          "4",
          "4",
          "4",
          "4",
          "4",
          "4",
          "4",
          "4",
          "4",
          "4",
          "4",
          "4",
          "4",
          "4",
          "4",
          "4",
          "4",
          "4",
          "4",
          "4",
          "4",
          "4",
          "4",
          "4",
          "4",
          "4",
          "4",
          "4",
          "4",
          "4",
          "4",
          "4",
          "4",
          "4",
          "4",
          "4",
          "4",
          "4",
          "4",
          "4",
          "4",
          "4",
          "4",
          "4",
          "4",
          "4",
          "4",
          "4",
          "4",
          "4",
          "4",
          "4",
          "4",
          "4",
          "4",
          "4",
          "4",
          "4",
          "4",
          "4",
          "4",
          "4",
          "4",
          "4",
          "4",
          "4",
          "4",
          "4",
          "4",
          "4",
          "4",
          "4",
          "4",
          "4",
          "4",
          "4",
          "4",
          "4",
          "4",
          "4",
          "4",
          "4",
          "4",
          "4",
          "4",
          "4",
          "4",
          "4",
          "4",
          "4",
          "4",
          "4",
          "4",
          "4",
          "4",
          "4",
          "4"
         ],
         "yaxis": "y3"
        }
       ],
       "layout": {
        "annotations": [
         {
          "font": {
           "size": 16
          },
          "showarrow": false,
          "text": "Transcript Structure",
          "x": 0.15999999999999998,
          "xanchor": "center",
          "xref": "paper",
          "y": 1,
          "yanchor": "bottom",
          "yref": "paper"
         },
         {
          "font": {
           "size": 16
          },
          "showarrow": false,
          "text": "Counts",
          "x": 0.49999999999999994,
          "xanchor": "center",
          "xref": "paper",
          "y": 1,
          "yanchor": "bottom",
          "yref": "paper"
         },
         {
          "font": {
           "size": 16
          },
          "showarrow": false,
          "text": "Relative Abundance (%)",
          "x": 0.8399999999999999,
          "xanchor": "center",
          "xref": "paper",
          "y": 1,
          "yanchor": "bottom",
          "yref": "paper"
         }
        ],
        "boxgap": 0.2,
        "boxgroupgap": 0.8,
        "boxmode": "group",
        "height": 500,
        "hoverlabel": {
         "font": {
          "size": 12
         }
        },
        "hovermode": "closest",
        "legend": {
         "font": {
          "size": 12
         },
         "grouptitlefont": {
          "size": 14
         },
         "tracegroupgap": 7
        },
        "margin": {
         "b": 50,
         "l": 100,
         "r": 50,
         "t": 100
        },
        "showlegend": true,
        "template": {
         "data": {
          "bar": [
           {
            "error_x": {
             "color": "#2a3f5f"
            },
            "error_y": {
             "color": "#2a3f5f"
            },
            "marker": {
             "line": {
              "color": "white",
              "width": 0.5
             },
             "pattern": {
              "fillmode": "overlay",
              "size": 10,
              "solidity": 0.2
             }
            },
            "type": "bar"
           }
          ],
          "barpolar": [
           {
            "marker": {
             "line": {
              "color": "white",
              "width": 0.5
             },
             "pattern": {
              "fillmode": "overlay",
              "size": 10,
              "solidity": 0.2
             }
            },
            "type": "barpolar"
           }
          ],
          "carpet": [
           {
            "aaxis": {
             "endlinecolor": "#2a3f5f",
             "gridcolor": "#C8D4E3",
             "linecolor": "#C8D4E3",
             "minorgridcolor": "#C8D4E3",
             "startlinecolor": "#2a3f5f"
            },
            "baxis": {
             "endlinecolor": "#2a3f5f",
             "gridcolor": "#C8D4E3",
             "linecolor": "#C8D4E3",
             "minorgridcolor": "#C8D4E3",
             "startlinecolor": "#2a3f5f"
            },
            "type": "carpet"
           }
          ],
          "choropleth": [
           {
            "colorbar": {
             "outlinewidth": 0,
             "ticks": ""
            },
            "type": "choropleth"
           }
          ],
          "contour": [
           {
            "colorbar": {
             "outlinewidth": 0,
             "ticks": ""
            },
            "colorscale": [
             [
              0,
              "#0d0887"
             ],
             [
              0.1111111111111111,
              "#46039f"
             ],
             [
              0.2222222222222222,
              "#7201a8"
             ],
             [
              0.3333333333333333,
              "#9c179e"
             ],
             [
              0.4444444444444444,
              "#bd3786"
             ],
             [
              0.5555555555555556,
              "#d8576b"
             ],
             [
              0.6666666666666666,
              "#ed7953"
             ],
             [
              0.7777777777777778,
              "#fb9f3a"
             ],
             [
              0.8888888888888888,
              "#fdca26"
             ],
             [
              1,
              "#f0f921"
             ]
            ],
            "type": "contour"
           }
          ],
          "contourcarpet": [
           {
            "colorbar": {
             "outlinewidth": 0,
             "ticks": ""
            },
            "type": "contourcarpet"
           }
          ],
          "heatmap": [
           {
            "colorbar": {
             "outlinewidth": 0,
             "ticks": ""
            },
            "colorscale": [
             [
              0,
              "#0d0887"
             ],
             [
              0.1111111111111111,
              "#46039f"
             ],
             [
              0.2222222222222222,
              "#7201a8"
             ],
             [
              0.3333333333333333,
              "#9c179e"
             ],
             [
              0.4444444444444444,
              "#bd3786"
             ],
             [
              0.5555555555555556,
              "#d8576b"
             ],
             [
              0.6666666666666666,
              "#ed7953"
             ],
             [
              0.7777777777777778,
              "#fb9f3a"
             ],
             [
              0.8888888888888888,
              "#fdca26"
             ],
             [
              1,
              "#f0f921"
             ]
            ],
            "type": "heatmap"
           }
          ],
          "heatmapgl": [
           {
            "colorbar": {
             "outlinewidth": 0,
             "ticks": ""
            },
            "colorscale": [
             [
              0,
              "#0d0887"
             ],
             [
              0.1111111111111111,
              "#46039f"
             ],
             [
              0.2222222222222222,
              "#7201a8"
             ],
             [
              0.3333333333333333,
              "#9c179e"
             ],
             [
              0.4444444444444444,
              "#bd3786"
             ],
             [
              0.5555555555555556,
              "#d8576b"
             ],
             [
              0.6666666666666666,
              "#ed7953"
             ],
             [
              0.7777777777777778,
              "#fb9f3a"
             ],
             [
              0.8888888888888888,
              "#fdca26"
             ],
             [
              1,
              "#f0f921"
             ]
            ],
            "type": "heatmapgl"
           }
          ],
          "histogram": [
           {
            "marker": {
             "pattern": {
              "fillmode": "overlay",
              "size": 10,
              "solidity": 0.2
             }
            },
            "type": "histogram"
           }
          ],
          "histogram2d": [
           {
            "colorbar": {
             "outlinewidth": 0,
             "ticks": ""
            },
            "colorscale": [
             [
              0,
              "#0d0887"
             ],
             [
              0.1111111111111111,
              "#46039f"
             ],
             [
              0.2222222222222222,
              "#7201a8"
             ],
             [
              0.3333333333333333,
              "#9c179e"
             ],
             [
              0.4444444444444444,
              "#bd3786"
             ],
             [
              0.5555555555555556,
              "#d8576b"
             ],
             [
              0.6666666666666666,
              "#ed7953"
             ],
             [
              0.7777777777777778,
              "#fb9f3a"
             ],
             [
              0.8888888888888888,
              "#fdca26"
             ],
             [
              1,
              "#f0f921"
             ]
            ],
            "type": "histogram2d"
           }
          ],
          "histogram2dcontour": [
           {
            "colorbar": {
             "outlinewidth": 0,
             "ticks": ""
            },
            "colorscale": [
             [
              0,
              "#0d0887"
             ],
             [
              0.1111111111111111,
              "#46039f"
             ],
             [
              0.2222222222222222,
              "#7201a8"
             ],
             [
              0.3333333333333333,
              "#9c179e"
             ],
             [
              0.4444444444444444,
              "#bd3786"
             ],
             [
              0.5555555555555556,
              "#d8576b"
             ],
             [
              0.6666666666666666,
              "#ed7953"
             ],
             [
              0.7777777777777778,
              "#fb9f3a"
             ],
             [
              0.8888888888888888,
              "#fdca26"
             ],
             [
              1,
              "#f0f921"
             ]
            ],
            "type": "histogram2dcontour"
           }
          ],
          "mesh3d": [
           {
            "colorbar": {
             "outlinewidth": 0,
             "ticks": ""
            },
            "type": "mesh3d"
           }
          ],
          "parcoords": [
           {
            "line": {
             "colorbar": {
              "outlinewidth": 0,
              "ticks": ""
             }
            },
            "type": "parcoords"
           }
          ],
          "pie": [
           {
            "automargin": true,
            "type": "pie"
           }
          ],
          "scatter": [
           {
            "fillpattern": {
             "fillmode": "overlay",
             "size": 10,
             "solidity": 0.2
            },
            "type": "scatter"
           }
          ],
          "scatter3d": [
           {
            "line": {
             "colorbar": {
              "outlinewidth": 0,
              "ticks": ""
             }
            },
            "marker": {
             "colorbar": {
              "outlinewidth": 0,
              "ticks": ""
             }
            },
            "type": "scatter3d"
           }
          ],
          "scattercarpet": [
           {
            "marker": {
             "colorbar": {
              "outlinewidth": 0,
              "ticks": ""
             }
            },
            "type": "scattercarpet"
           }
          ],
          "scattergeo": [
           {
            "marker": {
             "colorbar": {
              "outlinewidth": 0,
              "ticks": ""
             }
            },
            "type": "scattergeo"
           }
          ],
          "scattergl": [
           {
            "marker": {
             "colorbar": {
              "outlinewidth": 0,
              "ticks": ""
             }
            },
            "type": "scattergl"
           }
          ],
          "scattermapbox": [
           {
            "marker": {
             "colorbar": {
              "outlinewidth": 0,
              "ticks": ""
             }
            },
            "type": "scattermapbox"
           }
          ],
          "scatterpolar": [
           {
            "marker": {
             "colorbar": {
              "outlinewidth": 0,
              "ticks": ""
             }
            },
            "type": "scatterpolar"
           }
          ],
          "scatterpolargl": [
           {
            "marker": {
             "colorbar": {
              "outlinewidth": 0,
              "ticks": ""
             }
            },
            "type": "scatterpolargl"
           }
          ],
          "scatterternary": [
           {
            "marker": {
             "colorbar": {
              "outlinewidth": 0,
              "ticks": ""
             }
            },
            "type": "scatterternary"
           }
          ],
          "surface": [
           {
            "colorbar": {
             "outlinewidth": 0,
             "ticks": ""
            },
            "colorscale": [
             [
              0,
              "#0d0887"
             ],
             [
              0.1111111111111111,
              "#46039f"
             ],
             [
              0.2222222222222222,
              "#7201a8"
             ],
             [
              0.3333333333333333,
              "#9c179e"
             ],
             [
              0.4444444444444444,
              "#bd3786"
             ],
             [
              0.5555555555555556,
              "#d8576b"
             ],
             [
              0.6666666666666666,
              "#ed7953"
             ],
             [
              0.7777777777777778,
              "#fb9f3a"
             ],
             [
              0.8888888888888888,
              "#fdca26"
             ],
             [
              1,
              "#f0f921"
             ]
            ],
            "type": "surface"
           }
          ],
          "table": [
           {
            "cells": {
             "fill": {
              "color": "#EBF0F8"
             },
             "line": {
              "color": "white"
             }
            },
            "header": {
             "fill": {
              "color": "#C8D4E3"
             },
             "line": {
              "color": "white"
             }
            },
            "type": "table"
           }
          ]
         },
         "layout": {
          "annotationdefaults": {
           "arrowcolor": "#2a3f5f",
           "arrowhead": 0,
           "arrowwidth": 1
          },
          "autotypenumbers": "strict",
          "coloraxis": {
           "colorbar": {
            "outlinewidth": 0,
            "ticks": ""
           }
          },
          "colorscale": {
           "diverging": [
            [
             0,
             "#8e0152"
            ],
            [
             0.1,
             "#c51b7d"
            ],
            [
             0.2,
             "#de77ae"
            ],
            [
             0.3,
             "#f1b6da"
            ],
            [
             0.4,
             "#fde0ef"
            ],
            [
             0.5,
             "#f7f7f7"
            ],
            [
             0.6,
             "#e6f5d0"
            ],
            [
             0.7,
             "#b8e186"
            ],
            [
             0.8,
             "#7fbc41"
            ],
            [
             0.9,
             "#4d9221"
            ],
            [
             1,
             "#276419"
            ]
           ],
           "sequential": [
            [
             0,
             "#0d0887"
            ],
            [
             0.1111111111111111,
             "#46039f"
            ],
            [
             0.2222222222222222,
             "#7201a8"
            ],
            [
             0.3333333333333333,
             "#9c179e"
            ],
            [
             0.4444444444444444,
             "#bd3786"
            ],
            [
             0.5555555555555556,
             "#d8576b"
            ],
            [
             0.6666666666666666,
             "#ed7953"
            ],
            [
             0.7777777777777778,
             "#fb9f3a"
            ],
            [
             0.8888888888888888,
             "#fdca26"
            ],
            [
             1,
             "#f0f921"
            ]
           ],
           "sequentialminus": [
            [
             0,
             "#0d0887"
            ],
            [
             0.1111111111111111,
             "#46039f"
            ],
            [
             0.2222222222222222,
             "#7201a8"
            ],
            [
             0.3333333333333333,
             "#9c179e"
            ],
            [
             0.4444444444444444,
             "#bd3786"
            ],
            [
             0.5555555555555556,
             "#d8576b"
            ],
            [
             0.6666666666666666,
             "#ed7953"
            ],
            [
             0.7777777777777778,
             "#fb9f3a"
            ],
            [
             0.8888888888888888,
             "#fdca26"
            ],
            [
             1,
             "#f0f921"
            ]
           ]
          },
          "colorway": [
           "#636efa",
           "#EF553B",
           "#00cc96",
           "#ab63fa",
           "#FFA15A",
           "#19d3f3",
           "#FF6692",
           "#B6E880",
           "#FF97FF",
           "#FECB52"
          ],
          "font": {
           "color": "#2a3f5f"
          },
          "geo": {
           "bgcolor": "white",
           "lakecolor": "white",
           "landcolor": "white",
           "showlakes": true,
           "showland": true,
           "subunitcolor": "#C8D4E3"
          },
          "hoverlabel": {
           "align": "left"
          },
          "hovermode": "closest",
          "mapbox": {
           "style": "light"
          },
          "paper_bgcolor": "white",
          "plot_bgcolor": "white",
          "polar": {
           "angularaxis": {
            "gridcolor": "#EBF0F8",
            "linecolor": "#EBF0F8",
            "ticks": ""
           },
           "bgcolor": "white",
           "radialaxis": {
            "gridcolor": "#EBF0F8",
            "linecolor": "#EBF0F8",
            "ticks": ""
           }
          },
          "scene": {
           "xaxis": {
            "backgroundcolor": "white",
            "gridcolor": "#DFE8F3",
            "gridwidth": 2,
            "linecolor": "#EBF0F8",
            "showbackground": true,
            "ticks": "",
            "zerolinecolor": "#EBF0F8"
           },
           "yaxis": {
            "backgroundcolor": "white",
            "gridcolor": "#DFE8F3",
            "gridwidth": 2,
            "linecolor": "#EBF0F8",
            "showbackground": true,
            "ticks": "",
            "zerolinecolor": "#EBF0F8"
           },
           "zaxis": {
            "backgroundcolor": "white",
            "gridcolor": "#DFE8F3",
            "gridwidth": 2,
            "linecolor": "#EBF0F8",
            "showbackground": true,
            "ticks": "",
            "zerolinecolor": "#EBF0F8"
           }
          },
          "shapedefaults": {
           "line": {
            "color": "#2a3f5f"
           }
          },
          "ternary": {
           "aaxis": {
            "gridcolor": "#DFE8F3",
            "linecolor": "#A2B1C6",
            "ticks": ""
           },
           "baxis": {
            "gridcolor": "#DFE8F3",
            "linecolor": "#A2B1C6",
            "ticks": ""
           },
           "bgcolor": "white",
           "caxis": {
            "gridcolor": "#DFE8F3",
            "linecolor": "#A2B1C6",
            "ticks": ""
           }
          },
          "title": {
           "x": 0.05
          },
          "xaxis": {
           "automargin": true,
           "gridcolor": "#EBF0F8",
           "linecolor": "#EBF0F8",
           "ticks": "",
           "title": {
            "standoff": 15
           },
           "zerolinecolor": "#EBF0F8",
           "zerolinewidth": 2
          },
          "yaxis": {
           "automargin": true,
           "gridcolor": "#EBF0F8",
           "linecolor": "#EBF0F8",
           "ticks": "",
           "title": {
            "standoff": 15
           },
           "zerolinecolor": "#EBF0F8",
           "zerolinewidth": 2
          }
         }
        },
        "title": {
         "text": ""
        },
        "violingap": 0.2,
        "violingroupgap": 0.8,
        "violinmode": "group",
        "width": 1200,
        "xaxis": {
         "anchor": "y",
         "domain": [
          0,
          0.31999999999999995
         ],
         "showgrid": true,
         "showticklabels": false,
         "tickfont": {
          "size": 12
         },
         "title": {
          "text": ""
         }
        },
        "xaxis2": {
         "anchor": "y2",
         "domain": [
          0.33999999999999997,
          0.6599999999999999
         ],
         "showgrid": true,
         "showticklabels": true,
         "tickfont": {
          "size": 12
         },
         "title": {
          "text": ""
         }
        },
        "xaxis3": {
         "anchor": "y3",
         "domain": [
          0.6799999999999999,
          0.9999999999999999
         ],
         "showgrid": true,
         "showticklabels": true,
         "tickfont": {
          "size": 12
         },
         "title": {
          "text": ""
         }
        },
        "yaxis": {
         "anchor": "x",
         "domain": [
          0,
          1
         ],
         "range": [
          -0.8,
          4.8
         ],
         "showgrid": true,
         "showticklabels": true,
         "tickfont": {
          "color": "black",
          "family": "DejaVu Sans",
          "size": 12
         },
         "ticktext": [
          "APP-201",
          "APP-219",
          "APP-206",
          "APP-204",
          "APP-202"
         ],
         "tickvals": [
          0,
          1,
          2,
          3,
          4
         ],
         "title": {
          "text": ""
         }
        },
        "yaxis2": {
         "anchor": "x2",
         "domain": [
          0,
          1
         ],
         "matches": "y",
         "range": [
          -0.8,
          4.8
         ],
         "showgrid": true,
         "showticklabels": false,
         "ticks": "",
         "ticktext": [
          "APP-201",
          "APP-219",
          "APP-206",
          "APP-204",
          "APP-202"
         ],
         "tickvals": [
          0,
          1,
          2,
          3,
          4
         ]
        },
        "yaxis3": {
         "anchor": "x3",
         "domain": [
          0,
          1
         ],
         "matches": "y",
         "range": [
          -0.8,
          4.8
         ],
         "showgrid": true,
         "showticklabels": false,
         "ticks": "",
         "ticktext": [
          "APP-201",
          "APP-219",
          "APP-206",
          "APP-204",
          "APP-202"
         ],
         "tickvals": [
          0,
          1,
          2,
          3,
          4
         ]
        }
       }
      },
      "text/html": [
       "<div>                            <div id=\"e6355894-c39e-421b-afff-b3cce283c631\" class=\"plotly-graph-div\" style=\"height:500px; width:1200px;\"></div>            <script type=\"text/javascript\">                require([\"plotly\"], function(Plotly) {                    window.PLOTLYENV=window.PLOTLYENV || {};                                    if (document.getElementById(\"e6355894-c39e-421b-afff-b3cce283c631\")) {                    Plotly.newPlot(                        \"e6355894-c39e-421b-afff-b3cce283c631\",                        [{\"fill\":\"toself\",\"fillcolor\":\"#636EFA\",\"hoverlabel\":{\"namelength\":-1},\"hoveron\":\"fills+points\",\"hovertemplate\":\"\\u003cb\\u003etranscript_name:\\u003c\\u002fb\\u003e APP-201\\u003cbr\\u003e\\u003cb\\u003eFeature Type:\\u003c\\u002fb\\u003e exon\\u003cbr\\u003e\\u003cb\\u003eFeature Number:\\u003c\\u002fb\\u003e 18\\u003cbr\\u003e\\u003cb\\u003eChromosome:\\u003c\\u002fb\\u003e 21\\u003cbr\\u003e\\u003cb\\u003eStart:\\u003c\\u002fb\\u003e 25880550\\u003cbr\\u003e\\u003cb\\u003eEnd:\\u003c\\u002fb\\u003e 25881771\\u003cbr\\u003e\\u003cb\\u003eSize:\\u003c\\u002fb\\u003e 1221\\u003cbr\\u003e\\u003cextra\\u003e\\u003c\\u002fextra\\u003e\",\"legendgroup\":\"protein_coding\",\"legendgrouptitle\":{\"text\":\"\\u003cb\\u003e\\u003cu\\u003eTranscript Structure Hue\\u003cu\\u003e\\u003cb\\u003e\"},\"line\":{\"color\":\"black\",\"width\":0.25},\"marker\":{\"opacity\":0},\"mode\":\"lines+markers\",\"name\":\"protein_coding\",\"opacity\":1,\"showlegend\":true,\"x\":[2,1223,1223,2,2],\"xaxis\":\"x\",\"y\":[-0.15,-0.15,0.15,0.15,-0.15],\"yaxis\":\"y\",\"type\":\"scatter\"},{\"fill\":\"toself\",\"fillcolor\":\"#636EFA\",\"hoverlabel\":{\"namelength\":-1},\"hoveron\":\"fills+points\",\"hovertemplate\":\"\\u003cb\\u003etranscript_name:\\u003c\\u002fb\\u003e APP-201\\u003cbr\\u003e\\u003cb\\u003eFeature Type:\\u003c\\u002fb\\u003e exon\\u003cbr\\u003e\\u003cb\\u003eFeature Number:\\u003c\\u002fb\\u003e 17\\u003cbr\\u003e\\u003cb\\u003eChromosome:\\u003c\\u002fb\\u003e 21\\u003cbr\\u003e\\u003cb\\u003eStart:\\u003c\\u002fb\\u003e 25891722\\u003cbr\\u003e\\u003cb\\u003eEnd:\\u003c\\u002fb\\u003e 25891868\\u003cbr\\u003e\\u003cb\\u003eSize:\\u003c\\u002fb\\u003e 146\\u003cbr\\u003e\\u003cextra\\u003e\\u003c\\u002fextra\\u003e\",\"legendgroup\":\"protein_coding\",\"legendgrouptitle\":{\"text\":\"\"},\"line\":{\"color\":\"black\",\"width\":0.25},\"marker\":{\"opacity\":0},\"mode\":\"lines+markers\",\"name\":\"protein_coding\",\"opacity\":1,\"showlegend\":false,\"x\":[1324,1470,1470,1324,1324],\"xaxis\":\"x\",\"y\":[-0.15,-0.15,0.15,0.15,-0.15],\"yaxis\":\"y\",\"type\":\"scatter\"},{\"fill\":\"toself\",\"fillcolor\":\"#636EFA\",\"hoverlabel\":{\"namelength\":-1},\"hoveron\":\"fills+points\",\"hovertemplate\":\"\\u003cb\\u003etranscript_name:\\u003c\\u002fb\\u003e APP-201\\u003cbr\\u003e\\u003cb\\u003eFeature Type:\\u003c\\u002fb\\u003e exon\\u003cbr\\u003e\\u003cb\\u003eFeature Number:\\u003c\\u002fb\\u003e 16\\u003cbr\\u003e\\u003cb\\u003eChromosome:\\u003c\\u002fb\\u003e 21\\u003cbr\\u003e\\u003cb\\u003eStart:\\u003c\\u002fb\\u003e 25897573\\u003cbr\\u003e\\u003cb\\u003eEnd:\\u003c\\u002fb\\u003e 25897673\\u003cbr\\u003e\\u003cb\\u003eSize:\\u003c\\u002fb\\u003e 100\\u003cbr\\u003e\\u003cextra\\u003e\\u003c\\u002fextra\\u003e\",\"legendgroup\":\"protein_coding\",\"legendgrouptitle\":{\"text\":\"\"},\"line\":{\"color\":\"black\",\"width\":0.25},\"marker\":{\"opacity\":0},\"mode\":\"lines+markers\",\"name\":\"protein_coding\",\"opacity\":1,\"showlegend\":false,\"x\":[1571,1671,1671,1571,1571],\"xaxis\":\"x\",\"y\":[-0.15,-0.15,0.15,0.15,-0.15],\"yaxis\":\"y\",\"type\":\"scatter\"},{\"fill\":\"toself\",\"fillcolor\":\"#636EFA\",\"hoverlabel\":{\"namelength\":-1},\"hoveron\":\"fills+points\",\"hovertemplate\":\"\\u003cb\\u003etranscript_name:\\u003c\\u002fb\\u003e APP-201\\u003cbr\\u003e\\u003cb\\u003eFeature Type:\\u003c\\u002fb\\u003e exon\\u003cbr\\u003e\\u003cb\\u003eFeature Number:\\u003c\\u002fb\\u003e 15\\u003cbr\\u003e\\u003cb\\u003eChromosome:\\u003c\\u002fb\\u003e 21\\u003cbr\\u003e\\u003cb\\u003eStart:\\u003c\\u002fb\\u003e 25905024\\u003cbr\\u003e\\u003cb\\u003eEnd:\\u003c\\u002fb\\u003e 25905077\\u003cbr\\u003e\\u003cb\\u003eSize:\\u003c\\u002fb\\u003e 53\\u003cbr\\u003e\\u003cextra\\u003e\\u003c\\u002fextra\\u003e\",\"legendgroup\":\"protein_coding\",\"legendgrouptitle\":{\"text\":\"\"},\"line\":{\"color\":\"black\",\"width\":0.25},\"marker\":{\"opacity\":0},\"mode\":\"lines+markers\",\"name\":\"protein_coding\",\"opacity\":1,\"showlegend\":false,\"x\":[1772,1825,1825,1772,1772],\"xaxis\":\"x\",\"y\":[-0.15,-0.15,0.15,0.15,-0.15],\"yaxis\":\"y\",\"type\":\"scatter\"},{\"fill\":\"toself\",\"fillcolor\":\"#636EFA\",\"hoverlabel\":{\"namelength\":-1},\"hoveron\":\"fills+points\",\"hovertemplate\":\"\\u003cb\\u003etranscript_name:\\u003c\\u002fb\\u003e APP-201\\u003cbr\\u003e\\u003cb\\u003eFeature Type:\\u003c\\u002fb\\u003e exon\\u003cbr\\u003e\\u003cb\\u003eFeature Number:\\u003c\\u002fb\\u003e 14\\u003cbr\\u003e\\u003cb\\u003eChromosome:\\u003c\\u002fb\\u003e 21\\u003cbr\\u003e\\u003cb\\u003eStart:\\u003c\\u002fb\\u003e 25911741\\u003cbr\\u003e\\u003cb\\u003eEnd:\\u003c\\u002fb\\u003e 25911962\\u003cbr\\u003e\\u003cb\\u003eSize:\\u003c\\u002fb\\u003e 221\\u003cbr\\u003e\\u003cextra\\u003e\\u003c\\u002fextra\\u003e\",\"legendgroup\":\"protein_coding\",\"legendgrouptitle\":{\"text\":\"\"},\"line\":{\"color\":\"black\",\"width\":0.25},\"marker\":{\"opacity\":0},\"mode\":\"lines+markers\",\"name\":\"protein_coding\",\"opacity\":1,\"showlegend\":false,\"x\":[1926,2147,2147,1926,1926],\"xaxis\":\"x\",\"y\":[-0.15,-0.15,0.15,0.15,-0.15],\"yaxis\":\"y\",\"type\":\"scatter\"},{\"fill\":\"toself\",\"fillcolor\":\"#636EFA\",\"hoverlabel\":{\"namelength\":-1},\"hoveron\":\"fills+points\",\"hovertemplate\":\"\\u003cb\\u003etranscript_name:\\u003c\\u002fb\\u003e APP-201\\u003cbr\\u003e\\u003cb\\u003eFeature Type:\\u003c\\u002fb\\u003e exon\\u003cbr\\u003e\\u003cb\\u003eFeature Number:\\u003c\\u002fb\\u003e 13\\u003cbr\\u003e\\u003cb\\u003eChromosome:\\u003c\\u002fb\\u003e 21\\u003cbr\\u003e\\u003cb\\u003eStart:\\u003c\\u002fb\\u003e 25954590\\u003cbr\\u003e\\u003cb\\u003eEnd:\\u003c\\u002fb\\u003e 25954689\\u003cbr\\u003e\\u003cb\\u003eSize:\\u003c\\u002fb\\u003e 99\\u003cbr\\u003e\\u003cextra\\u003e\\u003c\\u002fextra\\u003e\",\"legendgroup\":\"protein_coding\",\"legendgrouptitle\":{\"text\":\"\"},\"line\":{\"color\":\"black\",\"width\":0.25},\"marker\":{\"opacity\":0},\"mode\":\"lines+markers\",\"name\":\"protein_coding\",\"opacity\":1,\"showlegend\":false,\"x\":[2432,2531,2531,2432,2432],\"xaxis\":\"x\",\"y\":[-0.15,-0.15,0.15,0.15,-0.15],\"yaxis\":\"y\",\"type\":\"scatter\"},{\"fill\":\"toself\",\"fillcolor\":\"#636EFA\",\"hoverlabel\":{\"namelength\":-1},\"hoveron\":\"fills+points\",\"hovertemplate\":\"\\u003cb\\u003etranscript_name:\\u003c\\u002fb\\u003e APP-201\\u003cbr\\u003e\\u003cb\\u003eFeature Type:\\u003c\\u002fb\\u003e exon\\u003cbr\\u003e\\u003cb\\u003eFeature Number:\\u003c\\u002fb\\u003e 12\\u003cbr\\u003e\\u003cb\\u003eChromosome:\\u003c\\u002fb\\u003e 21\\u003cbr\\u003e\\u003cb\\u003eStart:\\u003c\\u002fb\\u003e 25955627\\u003cbr\\u003e\\u003cb\\u003eEnd:\\u003c\\u002fb\\u003e 25955755\\u003cbr\\u003e\\u003cb\\u003eSize:\\u003c\\u002fb\\u003e 128\\u003cbr\\u003e\\u003cextra\\u003e\\u003c\\u002fextra\\u003e\",\"legendgroup\":\"protein_coding\",\"legendgrouptitle\":{\"text\":\"\"},\"line\":{\"color\":\"black\",\"width\":0.25},\"marker\":{\"opacity\":0},\"mode\":\"lines+markers\",\"name\":\"protein_coding\",\"opacity\":1,\"showlegend\":false,\"x\":[2632,2760,2760,2632,2632],\"xaxis\":\"x\",\"y\":[-0.15,-0.15,0.15,0.15,-0.15],\"yaxis\":\"y\",\"type\":\"scatter\"},{\"fill\":\"toself\",\"fillcolor\":\"#636EFA\",\"hoverlabel\":{\"namelength\":-1},\"hoveron\":\"fills+points\",\"hovertemplate\":\"\\u003cb\\u003etranscript_name:\\u003c\\u002fb\\u003e APP-201\\u003cbr\\u003e\\u003cb\\u003eFeature Type:\\u003c\\u002fb\\u003e exon\\u003cbr\\u003e\\u003cb\\u003eFeature Number:\\u003c\\u002fb\\u003e 11\\u003cbr\\u003e\\u003cb\\u003eChromosome:\\u003c\\u002fb\\u003e 21\\u003cbr\\u003e\\u003cb\\u003eStart:\\u003c\\u002fb\\u003e 25975070\\u003cbr\\u003e\\u003cb\\u003eEnd:\\u003c\\u002fb\\u003e 25975228\\u003cbr\\u003e\\u003cb\\u003eSize:\\u003c\\u002fb\\u003e 158\\u003cbr\\u003e\\u003cextra\\u003e\\u003c\\u002fextra\\u003e\",\"legendgroup\":\"protein_coding\",\"legendgrouptitle\":{\"text\":\"\"},\"line\":{\"color\":\"black\",\"width\":0.25},\"marker\":{\"opacity\":0},\"mode\":\"lines+markers\",\"name\":\"protein_coding\",\"opacity\":1,\"showlegend\":false,\"x\":[2861,3019,3019,2861,2861],\"xaxis\":\"x\",\"y\":[-0.15,-0.15,0.15,0.15,-0.15],\"yaxis\":\"y\",\"type\":\"scatter\"},{\"fill\":\"toself\",\"fillcolor\":\"#636EFA\",\"hoverlabel\":{\"namelength\":-1},\"hoveron\":\"fills+points\",\"hovertemplate\":\"\\u003cb\\u003etranscript_name:\\u003c\\u002fb\\u003e APP-201\\u003cbr\\u003e\\u003cb\\u003eFeature Type:\\u003c\\u002fb\\u003e exon\\u003cbr\\u003e\\u003cb\\u003eFeature Number:\\u003c\\u002fb\\u003e 10\\u003cbr\\u003e\\u003cb\\u003eChromosome:\\u003c\\u002fb\\u003e 21\\u003cbr\\u003e\\u003cb\\u003eStart:\\u003c\\u002fb\\u003e 25975954\\u003cbr\\u003e\\u003cb\\u003eEnd:\\u003c\\u002fb\\u003e 25976028\\u003cbr\\u003e\\u003cb\\u003eSize:\\u003c\\u002fb\\u003e 74\\u003cbr\\u003e\\u003cextra\\u003e\\u003c\\u002fextra\\u003e\",\"legendgroup\":\"protein_coding\",\"legendgrouptitle\":{\"text\":\"\"},\"line\":{\"color\":\"black\",\"width\":0.25},\"marker\":{\"opacity\":0},\"mode\":\"lines+markers\",\"name\":\"protein_coding\",\"opacity\":1,\"showlegend\":false,\"x\":[3120,3194,3194,3120,3120],\"xaxis\":\"x\",\"y\":[-0.15,-0.15,0.15,0.15,-0.15],\"yaxis\":\"y\",\"type\":\"scatter\"},{\"fill\":\"toself\",\"fillcolor\":\"#636EFA\",\"hoverlabel\":{\"namelength\":-1},\"hoveron\":\"fills+points\",\"hovertemplate\":\"\\u003cb\\u003etranscript_name:\\u003c\\u002fb\\u003e APP-201\\u003cbr\\u003e\\u003cb\\u003eFeature Type:\\u003c\\u002fb\\u003e exon\\u003cbr\\u003e\\u003cb\\u003eFeature Number:\\u003c\\u002fb\\u003e 9\\u003cbr\\u003e\\u003cb\\u003eChromosome:\\u003c\\u002fb\\u003e 21\\u003cbr\\u003e\\u003cb\\u003eStart:\\u003c\\u002fb\\u003e 25982344\\u003cbr\\u003e\\u003cb\\u003eEnd:\\u003c\\u002fb\\u003e 25982477\\u003cbr\\u003e\\u003cb\\u003eSize:\\u003c\\u002fb\\u003e 133\\u003cbr\\u003e\\u003cextra\\u003e\\u003c\\u002fextra\\u003e\",\"legendgroup\":\"protein_coding\",\"legendgrouptitle\":{\"text\":\"\"},\"line\":{\"color\":\"black\",\"width\":0.25},\"marker\":{\"opacity\":0},\"mode\":\"lines+markers\",\"name\":\"protein_coding\",\"opacity\":1,\"showlegend\":false,\"x\":[3295,3428,3428,3295,3295],\"xaxis\":\"x\",\"y\":[-0.15,-0.15,0.15,0.15,-0.15],\"yaxis\":\"y\",\"type\":\"scatter\"},{\"fill\":\"toself\",\"fillcolor\":\"#636EFA\",\"hoverlabel\":{\"namelength\":-1},\"hoveron\":\"fills+points\",\"hovertemplate\":\"\\u003cb\\u003etranscript_name:\\u003c\\u002fb\\u003e APP-201\\u003cbr\\u003e\\u003cb\\u003eFeature Type:\\u003c\\u002fb\\u003e exon\\u003cbr\\u003e\\u003cb\\u003eFeature Number:\\u003c\\u002fb\\u003e 8\\u003cbr\\u003e\\u003cb\\u003eChromosome:\\u003c\\u002fb\\u003e 21\\u003cbr\\u003e\\u003cb\\u003eStart:\\u003c\\u002fb\\u003e 25997360\\u003cbr\\u003e\\u003cb\\u003eEnd:\\u003c\\u002fb\\u003e 25997416\\u003cbr\\u003e\\u003cb\\u003eSize:\\u003c\\u002fb\\u003e 56\\u003cbr\\u003e\\u003cextra\\u003e\\u003c\\u002fextra\\u003e\",\"legendgroup\":\"protein_coding\",\"legendgrouptitle\":{\"text\":\"\"},\"line\":{\"color\":\"black\",\"width\":0.25},\"marker\":{\"opacity\":0},\"mode\":\"lines+markers\",\"name\":\"protein_coding\",\"opacity\":1,\"showlegend\":false,\"x\":[3529,3585,3585,3529,3529],\"xaxis\":\"x\",\"y\":[-0.15,-0.15,0.15,0.15,-0.15],\"yaxis\":\"y\",\"type\":\"scatter\"},{\"fill\":\"toself\",\"fillcolor\":\"#636EFA\",\"hoverlabel\":{\"namelength\":-1},\"hoveron\":\"fills+points\",\"hovertemplate\":\"\\u003cb\\u003etranscript_name:\\u003c\\u002fb\\u003e APP-201\\u003cbr\\u003e\\u003cb\\u003eFeature Type:\\u003c\\u002fb\\u003e exon\\u003cbr\\u003e\\u003cb\\u003eFeature Number:\\u003c\\u002fb\\u003e 7\\u003cbr\\u003e\\u003cb\\u003eChromosome:\\u003c\\u002fb\\u003e 21\\u003cbr\\u003e\\u003cb\\u003eStart:\\u003c\\u002fb\\u003e 26000015\\u003cbr\\u003e\\u003cb\\u003eEnd:\\u003c\\u002fb\\u003e 26000182\\u003cbr\\u003e\\u003cb\\u003eSize:\\u003c\\u002fb\\u003e 167\\u003cbr\\u003e\\u003cextra\\u003e\\u003c\\u002fextra\\u003e\",\"legendgroup\":\"protein_coding\",\"legendgrouptitle\":{\"text\":\"\"},\"line\":{\"color\":\"black\",\"width\":0.25},\"marker\":{\"opacity\":0},\"mode\":\"lines+markers\",\"name\":\"protein_coding\",\"opacity\":1,\"showlegend\":false,\"x\":[3686,3853,3853,3686,3686],\"xaxis\":\"x\",\"y\":[-0.15,-0.15,0.15,0.15,-0.15],\"yaxis\":\"y\",\"type\":\"scatter\"},{\"fill\":\"toself\",\"fillcolor\":\"#636EFA\",\"hoverlabel\":{\"namelength\":-1},\"hoveron\":\"fills+points\",\"hovertemplate\":\"\\u003cb\\u003etranscript_name:\\u003c\\u002fb\\u003e APP-201\\u003cbr\\u003e\\u003cb\\u003eFeature Type:\\u003c\\u002fb\\u003e exon\\u003cbr\\u003e\\u003cb\\u003eFeature Number:\\u003c\\u002fb\\u003e 6\\u003cbr\\u003e\\u003cb\\u003eChromosome:\\u003c\\u002fb\\u003e 21\\u003cbr\\u003e\\u003cb\\u003eStart:\\u003c\\u002fb\\u003e 26021840\\u003cbr\\u003e\\u003cb\\u003eEnd:\\u003c\\u002fb\\u003e 26022042\\u003cbr\\u003e\\u003cb\\u003eSize:\\u003c\\u002fb\\u003e 202\\u003cbr\\u003e\\u003cextra\\u003e\\u003c\\u002fextra\\u003e\",\"legendgroup\":\"protein_coding\",\"legendgrouptitle\":{\"text\":\"\"},\"line\":{\"color\":\"black\",\"width\":0.25},\"marker\":{\"opacity\":0},\"mode\":\"lines+markers\",\"name\":\"protein_coding\",\"opacity\":1,\"showlegend\":false,\"x\":[3954,4156,4156,3954,3954],\"xaxis\":\"x\",\"y\":[-0.15,-0.15,0.15,0.15,-0.15],\"yaxis\":\"y\",\"type\":\"scatter\"},{\"fill\":\"toself\",\"fillcolor\":\"#636EFA\",\"hoverlabel\":{\"namelength\":-1},\"hoveron\":\"fills+points\",\"hovertemplate\":\"\\u003cb\\u003etranscript_name:\\u003c\\u002fb\\u003e APP-201\\u003cbr\\u003e\\u003cb\\u003eFeature Type:\\u003c\\u002fb\\u003e exon\\u003cbr\\u003e\\u003cb\\u003eFeature Number:\\u003c\\u002fb\\u003e 5\\u003cbr\\u003e\\u003cb\\u003eChromosome:\\u003c\\u002fb\\u003e 21\\u003cbr\\u003e\\u003cb\\u003eStart:\\u003c\\u002fb\\u003e 26051000\\u003cbr\\u003e\\u003cb\\u003eEnd:\\u003c\\u002fb\\u003e 26051193\\u003cbr\\u003e\\u003cb\\u003eSize:\\u003c\\u002fb\\u003e 193\\u003cbr\\u003e\\u003cextra\\u003e\\u003c\\u002fextra\\u003e\",\"legendgroup\":\"protein_coding\",\"legendgrouptitle\":{\"text\":\"\"},\"line\":{\"color\":\"black\",\"width\":0.25},\"marker\":{\"opacity\":0},\"mode\":\"lines+markers\",\"name\":\"protein_coding\",\"opacity\":1,\"showlegend\":false,\"x\":[4257,4450,4450,4257,4257],\"xaxis\":\"x\",\"y\":[-0.15,-0.15,0.15,0.15,-0.15],\"yaxis\":\"y\",\"type\":\"scatter\"},{\"fill\":\"toself\",\"fillcolor\":\"#636EFA\",\"hoverlabel\":{\"namelength\":-1},\"hoveron\":\"fills+points\",\"hovertemplate\":\"\\u003cb\\u003etranscript_name:\\u003c\\u002fb\\u003e APP-201\\u003cbr\\u003e\\u003cb\\u003eFeature Type:\\u003c\\u002fb\\u003e exon\\u003cbr\\u003e\\u003cb\\u003eFeature Number:\\u003c\\u002fb\\u003e 4\\u003cbr\\u003e\\u003cb\\u003eChromosome:\\u003c\\u002fb\\u003e 21\\u003cbr\\u003e\\u003cb\\u003eStart:\\u003c\\u002fb\\u003e 26053236\\u003cbr\\u003e\\u003cb\\u003eEnd:\\u003c\\u002fb\\u003e 26053348\\u003cbr\\u003e\\u003cb\\u003eSize:\\u003c\\u002fb\\u003e 112\\u003cbr\\u003e\\u003cextra\\u003e\\u003c\\u002fextra\\u003e\",\"legendgroup\":\"protein_coding\",\"legendgrouptitle\":{\"text\":\"\"},\"line\":{\"color\":\"black\",\"width\":0.25},\"marker\":{\"opacity\":0},\"mode\":\"lines+markers\",\"name\":\"protein_coding\",\"opacity\":1,\"showlegend\":false,\"x\":[4551,4663,4663,4551,4551],\"xaxis\":\"x\",\"y\":[-0.15,-0.15,0.15,0.15,-0.15],\"yaxis\":\"y\",\"type\":\"scatter\"},{\"fill\":\"toself\",\"fillcolor\":\"#636EFA\",\"hoverlabel\":{\"namelength\":-1},\"hoveron\":\"fills+points\",\"hovertemplate\":\"\\u003cb\\u003etranscript_name:\\u003c\\u002fb\\u003e APP-201\\u003cbr\\u003e\\u003cb\\u003eFeature Type:\\u003c\\u002fb\\u003e exon\\u003cbr\\u003e\\u003cb\\u003eFeature Number:\\u003c\\u002fb\\u003e 3\\u003cbr\\u003e\\u003cb\\u003eChromosome:\\u003c\\u002fb\\u003e 21\\u003cbr\\u003e\\u003cb\\u003eStart:\\u003c\\u002fb\\u003e 26089943\\u003cbr\\u003e\\u003cb\\u003eEnd:\\u003c\\u002fb\\u003e 26090072\\u003cbr\\u003e\\u003cb\\u003eSize:\\u003c\\u002fb\\u003e 129\\u003cbr\\u003e\\u003cextra\\u003e\\u003c\\u002fextra\\u003e\",\"legendgroup\":\"protein_coding\",\"legendgrouptitle\":{\"text\":\"\"},\"line\":{\"color\":\"black\",\"width\":0.25},\"marker\":{\"opacity\":0},\"mode\":\"lines+markers\",\"name\":\"protein_coding\",\"opacity\":1,\"showlegend\":false,\"x\":[4764,4893,4893,4764,4764],\"xaxis\":\"x\",\"y\":[-0.15,-0.15,0.15,0.15,-0.15],\"yaxis\":\"y\",\"type\":\"scatter\"},{\"fill\":\"toself\",\"fillcolor\":\"#636EFA\",\"hoverlabel\":{\"namelength\":-1},\"hoveron\":\"fills+points\",\"hovertemplate\":\"\\u003cb\\u003etranscript_name:\\u003c\\u002fb\\u003e APP-201\\u003cbr\\u003e\\u003cb\\u003eFeature Type:\\u003c\\u002fb\\u003e exon\\u003cbr\\u003e\\u003cb\\u003eFeature Number:\\u003c\\u002fb\\u003e 2\\u003cbr\\u003e\\u003cb\\u003eChromosome:\\u003c\\u002fb\\u003e 21\\u003cbr\\u003e\\u003cb\\u003eStart:\\u003c\\u002fb\\u003e 26111979\\u003cbr\\u003e\\u003cb\\u003eEnd:\\u003c\\u002fb\\u003e 26112146\\u003cbr\\u003e\\u003cb\\u003eSize:\\u003c\\u002fb\\u003e 167\\u003cbr\\u003e\\u003cextra\\u003e\\u003c\\u002fextra\\u003e\",\"legendgroup\":\"protein_coding\",\"legendgrouptitle\":{\"text\":\"\"},\"line\":{\"color\":\"black\",\"width\":0.25},\"marker\":{\"opacity\":0},\"mode\":\"lines+markers\",\"name\":\"protein_coding\",\"opacity\":1,\"showlegend\":false,\"x\":[4994,5161,5161,4994,4994],\"xaxis\":\"x\",\"y\":[-0.15,-0.15,0.15,0.15,-0.15],\"yaxis\":\"y\",\"type\":\"scatter\"},{\"fill\":\"toself\",\"fillcolor\":\"#636EFA\",\"hoverlabel\":{\"namelength\":-1},\"hoveron\":\"fills+points\",\"hovertemplate\":\"\\u003cb\\u003etranscript_name:\\u003c\\u002fb\\u003e APP-201\\u003cbr\\u003e\\u003cb\\u003eFeature Type:\\u003c\\u002fb\\u003e exon\\u003cbr\\u003e\\u003cb\\u003eFeature Number:\\u003c\\u002fb\\u003e 1\\u003cbr\\u003e\\u003cb\\u003eChromosome:\\u003c\\u002fb\\u003e 21\\u003cbr\\u003e\\u003cb\\u003eStart:\\u003c\\u002fb\\u003e 26170564\\u003cbr\\u003e\\u003cb\\u003eEnd:\\u003c\\u002fb\\u003e 26170770\\u003cbr\\u003e\\u003cb\\u003eSize:\\u003c\\u002fb\\u003e 206\\u003cbr\\u003e\\u003cextra\\u003e\\u003c\\u002fextra\\u003e\",\"legendgroup\":\"protein_coding\",\"legendgrouptitle\":{\"text\":\"\"},\"line\":{\"color\":\"black\",\"width\":0.25},\"marker\":{\"opacity\":0},\"mode\":\"lines+markers\",\"name\":\"protein_coding\",\"opacity\":1,\"showlegend\":false,\"x\":[5262,5468,5468,5262,5262],\"xaxis\":\"x\",\"y\":[-0.15,-0.15,0.15,0.15,-0.15],\"yaxis\":\"y\",\"type\":\"scatter\"},{\"fill\":\"toself\",\"fillcolor\":\"#EF553B\",\"hoverlabel\":{\"namelength\":-1},\"hoveron\":\"fills+points\",\"hovertemplate\":\"\\u003cb\\u003etranscript_name:\\u003c\\u002fb\\u003e APP-219\\u003cbr\\u003e\\u003cb\\u003eFeature Type:\\u003c\\u002fb\\u003e exon\\u003cbr\\u003e\\u003cb\\u003eFeature Number:\\u003c\\u002fb\\u003e 6\\u003cbr\\u003e\\u003cb\\u003eChromosome:\\u003c\\u002fb\\u003e 21\\u003cbr\\u003e\\u003cb\\u003eStart:\\u003c\\u002fb\\u003e 25880550\\u003cbr\\u003e\\u003cb\\u003eEnd:\\u003c\\u002fb\\u003e 25881771\\u003cbr\\u003e\\u003cb\\u003eSize:\\u003c\\u002fb\\u003e 1221\\u003cbr\\u003e\\u003cextra\\u003e\\u003c\\u002fextra\\u003e\",\"legendgroup\":\"protein_coding_CDS_not_defined\",\"legendgrouptitle\":{\"text\":\"\"},\"line\":{\"color\":\"black\",\"width\":0.25},\"marker\":{\"opacity\":0},\"mode\":\"lines+markers\",\"name\":\"protein_coding_CDS_not_defined\",\"opacity\":1,\"showlegend\":true,\"x\":[2,1223,1223,2,2],\"xaxis\":\"x\",\"y\":[0.85,0.85,1.15,1.15,0.85],\"yaxis\":\"y\",\"type\":\"scatter\"},{\"fill\":\"toself\",\"fillcolor\":\"#EF553B\",\"hoverlabel\":{\"namelength\":-1},\"hoveron\":\"fills+points\",\"hovertemplate\":\"\\u003cb\\u003etranscript_name:\\u003c\\u002fb\\u003e APP-219\\u003cbr\\u003e\\u003cb\\u003eFeature Type:\\u003c\\u002fb\\u003e exon\\u003cbr\\u003e\\u003cb\\u003eFeature Number:\\u003c\\u002fb\\u003e 5\\u003cbr\\u003e\\u003cb\\u003eChromosome:\\u003c\\u002fb\\u003e 21\\u003cbr\\u003e\\u003cb\\u003eStart:\\u003c\\u002fb\\u003e 25891722\\u003cbr\\u003e\\u003cb\\u003eEnd:\\u003c\\u002fb\\u003e 25891868\\u003cbr\\u003e\\u003cb\\u003eSize:\\u003c\\u002fb\\u003e 146\\u003cbr\\u003e\\u003cextra\\u003e\\u003c\\u002fextra\\u003e\",\"legendgroup\":\"protein_coding_CDS_not_defined\",\"legendgrouptitle\":{\"text\":\"\"},\"line\":{\"color\":\"black\",\"width\":0.25},\"marker\":{\"opacity\":0},\"mode\":\"lines+markers\",\"name\":\"protein_coding_CDS_not_defined\",\"opacity\":1,\"showlegend\":false,\"x\":[1324,1470,1470,1324,1324],\"xaxis\":\"x\",\"y\":[0.85,0.85,1.15,1.15,0.85],\"yaxis\":\"y\",\"type\":\"scatter\"},{\"fill\":\"toself\",\"fillcolor\":\"#EF553B\",\"hoverlabel\":{\"namelength\":-1},\"hoveron\":\"fills+points\",\"hovertemplate\":\"\\u003cb\\u003etranscript_name:\\u003c\\u002fb\\u003e APP-219\\u003cbr\\u003e\\u003cb\\u003eFeature Type:\\u003c\\u002fb\\u003e exon\\u003cbr\\u003e\\u003cb\\u003eFeature Number:\\u003c\\u002fb\\u003e 4\\u003cbr\\u003e\\u003cb\\u003eChromosome:\\u003c\\u002fb\\u003e 21\\u003cbr\\u003e\\u003cb\\u003eStart:\\u003c\\u002fb\\u003e 25897573\\u003cbr\\u003e\\u003cb\\u003eEnd:\\u003c\\u002fb\\u003e 25897673\\u003cbr\\u003e\\u003cb\\u003eSize:\\u003c\\u002fb\\u003e 100\\u003cbr\\u003e\\u003cextra\\u003e\\u003c\\u002fextra\\u003e\",\"legendgroup\":\"protein_coding_CDS_not_defined\",\"legendgrouptitle\":{\"text\":\"\"},\"line\":{\"color\":\"black\",\"width\":0.25},\"marker\":{\"opacity\":0},\"mode\":\"lines+markers\",\"name\":\"protein_coding_CDS_not_defined\",\"opacity\":1,\"showlegend\":false,\"x\":[1571,1671,1671,1571,1571],\"xaxis\":\"x\",\"y\":[0.85,0.85,1.15,1.15,0.85],\"yaxis\":\"y\",\"type\":\"scatter\"},{\"fill\":\"toself\",\"fillcolor\":\"#EF553B\",\"hoverlabel\":{\"namelength\":-1},\"hoveron\":\"fills+points\",\"hovertemplate\":\"\\u003cb\\u003etranscript_name:\\u003c\\u002fb\\u003e APP-219\\u003cbr\\u003e\\u003cb\\u003eFeature Type:\\u003c\\u002fb\\u003e exon\\u003cbr\\u003e\\u003cb\\u003eFeature Number:\\u003c\\u002fb\\u003e 3\\u003cbr\\u003e\\u003cb\\u003eChromosome:\\u003c\\u002fb\\u003e 21\\u003cbr\\u003e\\u003cb\\u003eStart:\\u003c\\u002fb\\u003e 25905024\\u003cbr\\u003e\\u003cb\\u003eEnd:\\u003c\\u002fb\\u003e 25905077\\u003cbr\\u003e\\u003cb\\u003eSize:\\u003c\\u002fb\\u003e 53\\u003cbr\\u003e\\u003cextra\\u003e\\u003c\\u002fextra\\u003e\",\"legendgroup\":\"protein_coding_CDS_not_defined\",\"legendgrouptitle\":{\"text\":\"\"},\"line\":{\"color\":\"black\",\"width\":0.25},\"marker\":{\"opacity\":0},\"mode\":\"lines+markers\",\"name\":\"protein_coding_CDS_not_defined\",\"opacity\":1,\"showlegend\":false,\"x\":[1772,1825,1825,1772,1772],\"xaxis\":\"x\",\"y\":[0.85,0.85,1.15,1.15,0.85],\"yaxis\":\"y\",\"type\":\"scatter\"},{\"fill\":\"toself\",\"fillcolor\":\"#EF553B\",\"hoverlabel\":{\"namelength\":-1},\"hoveron\":\"fills+points\",\"hovertemplate\":\"\\u003cb\\u003etranscript_name:\\u003c\\u002fb\\u003e APP-219\\u003cbr\\u003e\\u003cb\\u003eFeature Type:\\u003c\\u002fb\\u003e exon\\u003cbr\\u003e\\u003cb\\u003eFeature Number:\\u003c\\u002fb\\u003e 2\\u003cbr\\u003e\\u003cb\\u003eChromosome:\\u003c\\u002fb\\u003e 21\\u003cbr\\u003e\\u003cb\\u003eStart:\\u003c\\u002fb\\u003e 25911741\\u003cbr\\u003e\\u003cb\\u003eEnd:\\u003c\\u002fb\\u003e 25911962\\u003cbr\\u003e\\u003cb\\u003eSize:\\u003c\\u002fb\\u003e 221\\u003cbr\\u003e\\u003cextra\\u003e\\u003c\\u002fextra\\u003e\",\"legendgroup\":\"protein_coding_CDS_not_defined\",\"legendgrouptitle\":{\"text\":\"\"},\"line\":{\"color\":\"black\",\"width\":0.25},\"marker\":{\"opacity\":0},\"mode\":\"lines+markers\",\"name\":\"protein_coding_CDS_not_defined\",\"opacity\":1,\"showlegend\":false,\"x\":[1926,2147,2147,1926,1926],\"xaxis\":\"x\",\"y\":[0.85,0.85,1.15,1.15,0.85],\"yaxis\":\"y\",\"type\":\"scatter\"},{\"fill\":\"toself\",\"fillcolor\":\"#EF553B\",\"hoverlabel\":{\"namelength\":-1},\"hoveron\":\"fills+points\",\"hovertemplate\":\"\\u003cb\\u003etranscript_name:\\u003c\\u002fb\\u003e APP-219\\u003cbr\\u003e\\u003cb\\u003eFeature Type:\\u003c\\u002fb\\u003e exon\\u003cbr\\u003e\\u003cb\\u003eFeature Number:\\u003c\\u002fb\\u003e 1\\u003cbr\\u003e\\u003cb\\u003eChromosome:\\u003c\\u002fb\\u003e 21\\u003cbr\\u003e\\u003cb\\u003eStart:\\u003c\\u002fb\\u003e 25925059\\u003cbr\\u003e\\u003cb\\u003eEnd:\\u003c\\u002fb\\u003e 25925142\\u003cbr\\u003e\\u003cb\\u003eSize:\\u003c\\u002fb\\u003e 83\\u003cbr\\u003e\\u003cextra\\u003e\\u003c\\u002fextra\\u003e\",\"legendgroup\":\"protein_coding_CDS_not_defined\",\"legendgrouptitle\":{\"text\":\"\"},\"line\":{\"color\":\"black\",\"width\":0.25},\"marker\":{\"opacity\":0},\"mode\":\"lines+markers\",\"name\":\"protein_coding_CDS_not_defined\",\"opacity\":1,\"showlegend\":false,\"x\":[2248,2331,2331,2248,2248],\"xaxis\":\"x\",\"y\":[0.85,0.85,1.15,1.15,0.85],\"yaxis\":\"y\",\"type\":\"scatter\"},{\"fill\":\"toself\",\"fillcolor\":\"#636EFA\",\"hoverlabel\":{\"namelength\":-1},\"hoveron\":\"fills+points\",\"hovertemplate\":\"\\u003cb\\u003etranscript_name:\\u003c\\u002fb\\u003e APP-206\\u003cbr\\u003e\\u003cb\\u003eFeature Type:\\u003c\\u002fb\\u003e exon\\u003cbr\\u003e\\u003cb\\u003eFeature Number:\\u003c\\u002fb\\u003e 16\\u003cbr\\u003e\\u003cb\\u003eChromosome:\\u003c\\u002fb\\u003e 21\\u003cbr\\u003e\\u003cb\\u003eStart:\\u003c\\u002fb\\u003e 25880551\\u003cbr\\u003e\\u003cb\\u003eEnd:\\u003c\\u002fb\\u003e 25881771\\u003cbr\\u003e\\u003cb\\u003eSize:\\u003c\\u002fb\\u003e 1220\\u003cbr\\u003e\\u003cextra\\u003e\\u003c\\u002fextra\\u003e\",\"legendgroup\":\"protein_coding\",\"legendgrouptitle\":{\"text\":\"\"},\"line\":{\"color\":\"black\",\"width\":0.25},\"marker\":{\"opacity\":0},\"mode\":\"lines+markers\",\"name\":\"protein_coding\",\"opacity\":1,\"showlegend\":false,\"x\":[3,1223,1223,3,3],\"xaxis\":\"x\",\"y\":[1.85,1.85,2.15,2.15,1.85],\"yaxis\":\"y\",\"type\":\"scatter\"},{\"fill\":\"toself\",\"fillcolor\":\"#636EFA\",\"hoverlabel\":{\"namelength\":-1},\"hoveron\":\"fills+points\",\"hovertemplate\":\"\\u003cb\\u003etranscript_name:\\u003c\\u002fb\\u003e APP-206\\u003cbr\\u003e\\u003cb\\u003eFeature Type:\\u003c\\u002fb\\u003e exon\\u003cbr\\u003e\\u003cb\\u003eFeature Number:\\u003c\\u002fb\\u003e 15\\u003cbr\\u003e\\u003cb\\u003eChromosome:\\u003c\\u002fb\\u003e 21\\u003cbr\\u003e\\u003cb\\u003eStart:\\u003c\\u002fb\\u003e 25891722\\u003cbr\\u003e\\u003cb\\u003eEnd:\\u003c\\u002fb\\u003e 25891868\\u003cbr\\u003e\\u003cb\\u003eSize:\\u003c\\u002fb\\u003e 146\\u003cbr\\u003e\\u003cextra\\u003e\\u003c\\u002fextra\\u003e\",\"legendgroup\":\"protein_coding\",\"legendgrouptitle\":{\"text\":\"\"},\"line\":{\"color\":\"black\",\"width\":0.25},\"marker\":{\"opacity\":0},\"mode\":\"lines+markers\",\"name\":\"protein_coding\",\"opacity\":1,\"showlegend\":false,\"x\":[1324,1470,1470,1324,1324],\"xaxis\":\"x\",\"y\":[1.85,1.85,2.15,2.15,1.85],\"yaxis\":\"y\",\"type\":\"scatter\"},{\"fill\":\"toself\",\"fillcolor\":\"#636EFA\",\"hoverlabel\":{\"namelength\":-1},\"hoveron\":\"fills+points\",\"hovertemplate\":\"\\u003cb\\u003etranscript_name:\\u003c\\u002fb\\u003e APP-206\\u003cbr\\u003e\\u003cb\\u003eFeature Type:\\u003c\\u002fb\\u003e exon\\u003cbr\\u003e\\u003cb\\u003eFeature Number:\\u003c\\u002fb\\u003e 14\\u003cbr\\u003e\\u003cb\\u003eChromosome:\\u003c\\u002fb\\u003e 21\\u003cbr\\u003e\\u003cb\\u003eStart:\\u003c\\u002fb\\u003e 25897573\\u003cbr\\u003e\\u003cb\\u003eEnd:\\u003c\\u002fb\\u003e 25897673\\u003cbr\\u003e\\u003cb\\u003eSize:\\u003c\\u002fb\\u003e 100\\u003cbr\\u003e\\u003cextra\\u003e\\u003c\\u002fextra\\u003e\",\"legendgroup\":\"protein_coding\",\"legendgrouptitle\":{\"text\":\"\"},\"line\":{\"color\":\"black\",\"width\":0.25},\"marker\":{\"opacity\":0},\"mode\":\"lines+markers\",\"name\":\"protein_coding\",\"opacity\":1,\"showlegend\":false,\"x\":[1571,1671,1671,1571,1571],\"xaxis\":\"x\",\"y\":[1.85,1.85,2.15,2.15,1.85],\"yaxis\":\"y\",\"type\":\"scatter\"},{\"fill\":\"toself\",\"fillcolor\":\"#636EFA\",\"hoverlabel\":{\"namelength\":-1},\"hoveron\":\"fills+points\",\"hovertemplate\":\"\\u003cb\\u003etranscript_name:\\u003c\\u002fb\\u003e APP-206\\u003cbr\\u003e\\u003cb\\u003eFeature Type:\\u003c\\u002fb\\u003e exon\\u003cbr\\u003e\\u003cb\\u003eFeature Number:\\u003c\\u002fb\\u003e 13\\u003cbr\\u003e\\u003cb\\u003eChromosome:\\u003c\\u002fb\\u003e 21\\u003cbr\\u003e\\u003cb\\u003eStart:\\u003c\\u002fb\\u003e 25905024\\u003cbr\\u003e\\u003cb\\u003eEnd:\\u003c\\u002fb\\u003e 25905077\\u003cbr\\u003e\\u003cb\\u003eSize:\\u003c\\u002fb\\u003e 53\\u003cbr\\u003e\\u003cextra\\u003e\\u003c\\u002fextra\\u003e\",\"legendgroup\":\"protein_coding\",\"legendgrouptitle\":{\"text\":\"\"},\"line\":{\"color\":\"black\",\"width\":0.25},\"marker\":{\"opacity\":0},\"mode\":\"lines+markers\",\"name\":\"protein_coding\",\"opacity\":1,\"showlegend\":false,\"x\":[1772,1825,1825,1772,1772],\"xaxis\":\"x\",\"y\":[1.85,1.85,2.15,2.15,1.85],\"yaxis\":\"y\",\"type\":\"scatter\"},{\"fill\":\"toself\",\"fillcolor\":\"#636EFA\",\"hoverlabel\":{\"namelength\":-1},\"hoveron\":\"fills+points\",\"hovertemplate\":\"\\u003cb\\u003etranscript_name:\\u003c\\u002fb\\u003e APP-206\\u003cbr\\u003e\\u003cb\\u003eFeature Type:\\u003c\\u002fb\\u003e exon\\u003cbr\\u003e\\u003cb\\u003eFeature Number:\\u003c\\u002fb\\u003e 12\\u003cbr\\u003e\\u003cb\\u003eChromosome:\\u003c\\u002fb\\u003e 21\\u003cbr\\u003e\\u003cb\\u003eStart:\\u003c\\u002fb\\u003e 25911741\\u003cbr\\u003e\\u003cb\\u003eEnd:\\u003c\\u002fb\\u003e 25911962\\u003cbr\\u003e\\u003cb\\u003eSize:\\u003c\\u002fb\\u003e 221\\u003cbr\\u003e\\u003cextra\\u003e\\u003c\\u002fextra\\u003e\",\"legendgroup\":\"protein_coding\",\"legendgrouptitle\":{\"text\":\"\"},\"line\":{\"color\":\"black\",\"width\":0.25},\"marker\":{\"opacity\":0},\"mode\":\"lines+markers\",\"name\":\"protein_coding\",\"opacity\":1,\"showlegend\":false,\"x\":[1926,2147,2147,1926,1926],\"xaxis\":\"x\",\"y\":[1.85,1.85,2.15,2.15,1.85],\"yaxis\":\"y\",\"type\":\"scatter\"},{\"fill\":\"toself\",\"fillcolor\":\"#636EFA\",\"hoverlabel\":{\"namelength\":-1},\"hoveron\":\"fills+points\",\"hovertemplate\":\"\\u003cb\\u003etranscript_name:\\u003c\\u002fb\\u003e APP-206\\u003cbr\\u003e\\u003cb\\u003eFeature Type:\\u003c\\u002fb\\u003e exon\\u003cbr\\u003e\\u003cb\\u003eFeature Number:\\u003c\\u002fb\\u003e 11\\u003cbr\\u003e\\u003cb\\u003eChromosome:\\u003c\\u002fb\\u003e 21\\u003cbr\\u003e\\u003cb\\u003eStart:\\u003c\\u002fb\\u003e 25954590\\u003cbr\\u003e\\u003cb\\u003eEnd:\\u003c\\u002fb\\u003e 25954689\\u003cbr\\u003e\\u003cb\\u003eSize:\\u003c\\u002fb\\u003e 99\\u003cbr\\u003e\\u003cextra\\u003e\\u003c\\u002fextra\\u003e\",\"legendgroup\":\"protein_coding\",\"legendgrouptitle\":{\"text\":\"\"},\"line\":{\"color\":\"black\",\"width\":0.25},\"marker\":{\"opacity\":0},\"mode\":\"lines+markers\",\"name\":\"protein_coding\",\"opacity\":1,\"showlegend\":false,\"x\":[2432,2531,2531,2432,2432],\"xaxis\":\"x\",\"y\":[1.85,1.85,2.15,2.15,1.85],\"yaxis\":\"y\",\"type\":\"scatter\"},{\"fill\":\"toself\",\"fillcolor\":\"#636EFA\",\"hoverlabel\":{\"namelength\":-1},\"hoveron\":\"fills+points\",\"hovertemplate\":\"\\u003cb\\u003etranscript_name:\\u003c\\u002fb\\u003e APP-206\\u003cbr\\u003e\\u003cb\\u003eFeature Type:\\u003c\\u002fb\\u003e exon\\u003cbr\\u003e\\u003cb\\u003eFeature Number:\\u003c\\u002fb\\u003e 10\\u003cbr\\u003e\\u003cb\\u003eChromosome:\\u003c\\u002fb\\u003e 21\\u003cbr\\u003e\\u003cb\\u003eStart:\\u003c\\u002fb\\u003e 25955627\\u003cbr\\u003e\\u003cb\\u003eEnd:\\u003c\\u002fb\\u003e 25955755\\u003cbr\\u003e\\u003cb\\u003eSize:\\u003c\\u002fb\\u003e 128\\u003cbr\\u003e\\u003cextra\\u003e\\u003c\\u002fextra\\u003e\",\"legendgroup\":\"protein_coding\",\"legendgrouptitle\":{\"text\":\"\"},\"line\":{\"color\":\"black\",\"width\":0.25},\"marker\":{\"opacity\":0},\"mode\":\"lines+markers\",\"name\":\"protein_coding\",\"opacity\":1,\"showlegend\":false,\"x\":[2632,2760,2760,2632,2632],\"xaxis\":\"x\",\"y\":[1.85,1.85,2.15,2.15,1.85],\"yaxis\":\"y\",\"type\":\"scatter\"},{\"fill\":\"toself\",\"fillcolor\":\"#636EFA\",\"hoverlabel\":{\"namelength\":-1},\"hoveron\":\"fills+points\",\"hovertemplate\":\"\\u003cb\\u003etranscript_name:\\u003c\\u002fb\\u003e APP-206\\u003cbr\\u003e\\u003cb\\u003eFeature Type:\\u003c\\u002fb\\u003e exon\\u003cbr\\u003e\\u003cb\\u003eFeature Number:\\u003c\\u002fb\\u003e 9\\u003cbr\\u003e\\u003cb\\u003eChromosome:\\u003c\\u002fb\\u003e 21\\u003cbr\\u003e\\u003cb\\u003eStart:\\u003c\\u002fb\\u003e 25975070\\u003cbr\\u003e\\u003cb\\u003eEnd:\\u003c\\u002fb\\u003e 25975228\\u003cbr\\u003e\\u003cb\\u003eSize:\\u003c\\u002fb\\u003e 158\\u003cbr\\u003e\\u003cextra\\u003e\\u003c\\u002fextra\\u003e\",\"legendgroup\":\"protein_coding\",\"legendgrouptitle\":{\"text\":\"\"},\"line\":{\"color\":\"black\",\"width\":0.25},\"marker\":{\"opacity\":0},\"mode\":\"lines+markers\",\"name\":\"protein_coding\",\"opacity\":1,\"showlegend\":false,\"x\":[2861,3019,3019,2861,2861],\"xaxis\":\"x\",\"y\":[1.85,1.85,2.15,2.15,1.85],\"yaxis\":\"y\",\"type\":\"scatter\"},{\"fill\":\"toself\",\"fillcolor\":\"#636EFA\",\"hoverlabel\":{\"namelength\":-1},\"hoveron\":\"fills+points\",\"hovertemplate\":\"\\u003cb\\u003etranscript_name:\\u003c\\u002fb\\u003e APP-206\\u003cbr\\u003e\\u003cb\\u003eFeature Type:\\u003c\\u002fb\\u003e exon\\u003cbr\\u003e\\u003cb\\u003eFeature Number:\\u003c\\u002fb\\u003e 8\\u003cbr\\u003e\\u003cb\\u003eChromosome:\\u003c\\u002fb\\u003e 21\\u003cbr\\u003e\\u003cb\\u003eStart:\\u003c\\u002fb\\u003e 25975954\\u003cbr\\u003e\\u003cb\\u003eEnd:\\u003c\\u002fb\\u003e 25976028\\u003cbr\\u003e\\u003cb\\u003eSize:\\u003c\\u002fb\\u003e 74\\u003cbr\\u003e\\u003cextra\\u003e\\u003c\\u002fextra\\u003e\",\"legendgroup\":\"protein_coding\",\"legendgrouptitle\":{\"text\":\"\"},\"line\":{\"color\":\"black\",\"width\":0.25},\"marker\":{\"opacity\":0},\"mode\":\"lines+markers\",\"name\":\"protein_coding\",\"opacity\":1,\"showlegend\":false,\"x\":[3120,3194,3194,3120,3120],\"xaxis\":\"x\",\"y\":[1.85,1.85,2.15,2.15,1.85],\"yaxis\":\"y\",\"type\":\"scatter\"},{\"fill\":\"toself\",\"fillcolor\":\"#636EFA\",\"hoverlabel\":{\"namelength\":-1},\"hoveron\":\"fills+points\",\"hovertemplate\":\"\\u003cb\\u003etranscript_name:\\u003c\\u002fb\\u003e APP-206\\u003cbr\\u003e\\u003cb\\u003eFeature Type:\\u003c\\u002fb\\u003e exon\\u003cbr\\u003e\\u003cb\\u003eFeature Number:\\u003c\\u002fb\\u003e 7\\u003cbr\\u003e\\u003cb\\u003eChromosome:\\u003c\\u002fb\\u003e 21\\u003cbr\\u003e\\u003cb\\u003eStart:\\u003c\\u002fb\\u003e 25982344\\u003cbr\\u003e\\u003cb\\u003eEnd:\\u003c\\u002fb\\u003e 25982477\\u003cbr\\u003e\\u003cb\\u003eSize:\\u003c\\u002fb\\u003e 133\\u003cbr\\u003e\\u003cextra\\u003e\\u003c\\u002fextra\\u003e\",\"legendgroup\":\"protein_coding\",\"legendgrouptitle\":{\"text\":\"\"},\"line\":{\"color\":\"black\",\"width\":0.25},\"marker\":{\"opacity\":0},\"mode\":\"lines+markers\",\"name\":\"protein_coding\",\"opacity\":1,\"showlegend\":false,\"x\":[3295,3428,3428,3295,3295],\"xaxis\":\"x\",\"y\":[1.85,1.85,2.15,2.15,1.85],\"yaxis\":\"y\",\"type\":\"scatter\"},{\"fill\":\"toself\",\"fillcolor\":\"#636EFA\",\"hoverlabel\":{\"namelength\":-1},\"hoveron\":\"fills+points\",\"hovertemplate\":\"\\u003cb\\u003etranscript_name:\\u003c\\u002fb\\u003e APP-206\\u003cbr\\u003e\\u003cb\\u003eFeature Type:\\u003c\\u002fb\\u003e exon\\u003cbr\\u003e\\u003cb\\u003eFeature Number:\\u003c\\u002fb\\u003e 6\\u003cbr\\u003e\\u003cb\\u003eChromosome:\\u003c\\u002fb\\u003e 21\\u003cbr\\u003e\\u003cb\\u003eStart:\\u003c\\u002fb\\u003e 26021840\\u003cbr\\u003e\\u003cb\\u003eEnd:\\u003c\\u002fb\\u003e 26022042\\u003cbr\\u003e\\u003cb\\u003eSize:\\u003c\\u002fb\\u003e 202\\u003cbr\\u003e\\u003cextra\\u003e\\u003c\\u002fextra\\u003e\",\"legendgroup\":\"protein_coding\",\"legendgrouptitle\":{\"text\":\"\"},\"line\":{\"color\":\"black\",\"width\":0.25},\"marker\":{\"opacity\":0},\"mode\":\"lines+markers\",\"name\":\"protein_coding\",\"opacity\":1,\"showlegend\":false,\"x\":[3954,4156,4156,3954,3954],\"xaxis\":\"x\",\"y\":[1.85,1.85,2.15,2.15,1.85],\"yaxis\":\"y\",\"type\":\"scatter\"},{\"fill\":\"toself\",\"fillcolor\":\"#636EFA\",\"hoverlabel\":{\"namelength\":-1},\"hoveron\":\"fills+points\",\"hovertemplate\":\"\\u003cb\\u003etranscript_name:\\u003c\\u002fb\\u003e APP-206\\u003cbr\\u003e\\u003cb\\u003eFeature Type:\\u003c\\u002fb\\u003e exon\\u003cbr\\u003e\\u003cb\\u003eFeature Number:\\u003c\\u002fb\\u003e 5\\u003cbr\\u003e\\u003cb\\u003eChromosome:\\u003c\\u002fb\\u003e 21\\u003cbr\\u003e\\u003cb\\u003eStart:\\u003c\\u002fb\\u003e 26051000\\u003cbr\\u003e\\u003cb\\u003eEnd:\\u003c\\u002fb\\u003e 26051193\\u003cbr\\u003e\\u003cb\\u003eSize:\\u003c\\u002fb\\u003e 193\\u003cbr\\u003e\\u003cextra\\u003e\\u003c\\u002fextra\\u003e\",\"legendgroup\":\"protein_coding\",\"legendgrouptitle\":{\"text\":\"\"},\"line\":{\"color\":\"black\",\"width\":0.25},\"marker\":{\"opacity\":0},\"mode\":\"lines+markers\",\"name\":\"protein_coding\",\"opacity\":1,\"showlegend\":false,\"x\":[4257,4450,4450,4257,4257],\"xaxis\":\"x\",\"y\":[1.85,1.85,2.15,2.15,1.85],\"yaxis\":\"y\",\"type\":\"scatter\"},{\"fill\":\"toself\",\"fillcolor\":\"#636EFA\",\"hoverlabel\":{\"namelength\":-1},\"hoveron\":\"fills+points\",\"hovertemplate\":\"\\u003cb\\u003etranscript_name:\\u003c\\u002fb\\u003e APP-206\\u003cbr\\u003e\\u003cb\\u003eFeature Type:\\u003c\\u002fb\\u003e exon\\u003cbr\\u003e\\u003cb\\u003eFeature Number:\\u003c\\u002fb\\u003e 4\\u003cbr\\u003e\\u003cb\\u003eChromosome:\\u003c\\u002fb\\u003e 21\\u003cbr\\u003e\\u003cb\\u003eStart:\\u003c\\u002fb\\u003e 26053236\\u003cbr\\u003e\\u003cb\\u003eEnd:\\u003c\\u002fb\\u003e 26053348\\u003cbr\\u003e\\u003cb\\u003eSize:\\u003c\\u002fb\\u003e 112\\u003cbr\\u003e\\u003cextra\\u003e\\u003c\\u002fextra\\u003e\",\"legendgroup\":\"protein_coding\",\"legendgrouptitle\":{\"text\":\"\"},\"line\":{\"color\":\"black\",\"width\":0.25},\"marker\":{\"opacity\":0},\"mode\":\"lines+markers\",\"name\":\"protein_coding\",\"opacity\":1,\"showlegend\":false,\"x\":[4551,4663,4663,4551,4551],\"xaxis\":\"x\",\"y\":[1.85,1.85,2.15,2.15,1.85],\"yaxis\":\"y\",\"type\":\"scatter\"},{\"fill\":\"toself\",\"fillcolor\":\"#636EFA\",\"hoverlabel\":{\"namelength\":-1},\"hoveron\":\"fills+points\",\"hovertemplate\":\"\\u003cb\\u003etranscript_name:\\u003c\\u002fb\\u003e APP-206\\u003cbr\\u003e\\u003cb\\u003eFeature Type:\\u003c\\u002fb\\u003e exon\\u003cbr\\u003e\\u003cb\\u003eFeature Number:\\u003c\\u002fb\\u003e 3\\u003cbr\\u003e\\u003cb\\u003eChromosome:\\u003c\\u002fb\\u003e 21\\u003cbr\\u003e\\u003cb\\u003eStart:\\u003c\\u002fb\\u003e 26089943\\u003cbr\\u003e\\u003cb\\u003eEnd:\\u003c\\u002fb\\u003e 26090072\\u003cbr\\u003e\\u003cb\\u003eSize:\\u003c\\u002fb\\u003e 129\\u003cbr\\u003e\\u003cextra\\u003e\\u003c\\u002fextra\\u003e\",\"legendgroup\":\"protein_coding\",\"legendgrouptitle\":{\"text\":\"\"},\"line\":{\"color\":\"black\",\"width\":0.25},\"marker\":{\"opacity\":0},\"mode\":\"lines+markers\",\"name\":\"protein_coding\",\"opacity\":1,\"showlegend\":false,\"x\":[4764,4893,4893,4764,4764],\"xaxis\":\"x\",\"y\":[1.85,1.85,2.15,2.15,1.85],\"yaxis\":\"y\",\"type\":\"scatter\"},{\"fill\":\"toself\",\"fillcolor\":\"#636EFA\",\"hoverlabel\":{\"namelength\":-1},\"hoveron\":\"fills+points\",\"hovertemplate\":\"\\u003cb\\u003etranscript_name:\\u003c\\u002fb\\u003e APP-206\\u003cbr\\u003e\\u003cb\\u003eFeature Type:\\u003c\\u002fb\\u003e exon\\u003cbr\\u003e\\u003cb\\u003eFeature Number:\\u003c\\u002fb\\u003e 2\\u003cbr\\u003e\\u003cb\\u003eChromosome:\\u003c\\u002fb\\u003e 21\\u003cbr\\u003e\\u003cb\\u003eStart:\\u003c\\u002fb\\u003e 26111979\\u003cbr\\u003e\\u003cb\\u003eEnd:\\u003c\\u002fb\\u003e 26112146\\u003cbr\\u003e\\u003cb\\u003eSize:\\u003c\\u002fb\\u003e 167\\u003cbr\\u003e\\u003cextra\\u003e\\u003c\\u002fextra\\u003e\",\"legendgroup\":\"protein_coding\",\"legendgrouptitle\":{\"text\":\"\"},\"line\":{\"color\":\"black\",\"width\":0.25},\"marker\":{\"opacity\":0},\"mode\":\"lines+markers\",\"name\":\"protein_coding\",\"opacity\":1,\"showlegend\":false,\"x\":[4994,5161,5161,4994,4994],\"xaxis\":\"x\",\"y\":[1.85,1.85,2.15,2.15,1.85],\"yaxis\":\"y\",\"type\":\"scatter\"},{\"fill\":\"toself\",\"fillcolor\":\"#636EFA\",\"hoverlabel\":{\"namelength\":-1},\"hoveron\":\"fills+points\",\"hovertemplate\":\"\\u003cb\\u003etranscript_name:\\u003c\\u002fb\\u003e APP-206\\u003cbr\\u003e\\u003cb\\u003eFeature Type:\\u003c\\u002fb\\u003e exon\\u003cbr\\u003e\\u003cb\\u003eFeature Number:\\u003c\\u002fb\\u003e 1\\u003cbr\\u003e\\u003cb\\u003eChromosome:\\u003c\\u002fb\\u003e 21\\u003cbr\\u003e\\u003cb\\u003eStart:\\u003c\\u002fb\\u003e 26170985\\u003cbr\\u003e\\u003cb\\u003eEnd:\\u003c\\u002fb\\u003e 26171128\\u003cbr\\u003e\\u003cb\\u003eSize:\\u003c\\u002fb\\u003e 143\\u003cbr\\u003e\\u003cextra\\u003e\\u003c\\u002fextra\\u003e\",\"legendgroup\":\"protein_coding\",\"legendgrouptitle\":{\"text\":\"\"},\"line\":{\"color\":\"black\",\"width\":0.25},\"marker\":{\"opacity\":0},\"mode\":\"lines+markers\",\"name\":\"protein_coding\",\"opacity\":1,\"showlegend\":false,\"x\":[5586,5729,5729,5586,5586],\"xaxis\":\"x\",\"y\":[1.85,1.85,2.15,2.15,1.85],\"yaxis\":\"y\",\"type\":\"scatter\"},{\"fill\":\"toself\",\"fillcolor\":\"#636EFA\",\"hoverlabel\":{\"namelength\":-1},\"hoveron\":\"fills+points\",\"hovertemplate\":\"\\u003cb\\u003etranscript_name:\\u003c\\u002fb\\u003e APP-204\\u003cbr\\u003e\\u003cb\\u003eFeature Type:\\u003c\\u002fb\\u003e exon\\u003cbr\\u003e\\u003cb\\u003eFeature Number:\\u003c\\u002fb\\u003e 17\\u003cbr\\u003e\\u003cb\\u003eChromosome:\\u003c\\u002fb\\u003e 21\\u003cbr\\u003e\\u003cb\\u003eStart:\\u003c\\u002fb\\u003e 25880550\\u003cbr\\u003e\\u003cb\\u003eEnd:\\u003c\\u002fb\\u003e 25881771\\u003cbr\\u003e\\u003cb\\u003eSize:\\u003c\\u002fb\\u003e 1221\\u003cbr\\u003e\\u003cextra\\u003e\\u003c\\u002fextra\\u003e\",\"legendgroup\":\"protein_coding\",\"legendgrouptitle\":{\"text\":\"\"},\"line\":{\"color\":\"black\",\"width\":0.25},\"marker\":{\"opacity\":0},\"mode\":\"lines+markers\",\"name\":\"protein_coding\",\"opacity\":1,\"showlegend\":false,\"x\":[2,1223,1223,2,2],\"xaxis\":\"x\",\"y\":[2.85,2.85,3.15,3.15,2.85],\"yaxis\":\"y\",\"type\":\"scatter\"},{\"fill\":\"toself\",\"fillcolor\":\"#636EFA\",\"hoverlabel\":{\"namelength\":-1},\"hoveron\":\"fills+points\",\"hovertemplate\":\"\\u003cb\\u003etranscript_name:\\u003c\\u002fb\\u003e APP-204\\u003cbr\\u003e\\u003cb\\u003eFeature Type:\\u003c\\u002fb\\u003e exon\\u003cbr\\u003e\\u003cb\\u003eFeature Number:\\u003c\\u002fb\\u003e 16\\u003cbr\\u003e\\u003cb\\u003eChromosome:\\u003c\\u002fb\\u003e 21\\u003cbr\\u003e\\u003cb\\u003eStart:\\u003c\\u002fb\\u003e 25891722\\u003cbr\\u003e\\u003cb\\u003eEnd:\\u003c\\u002fb\\u003e 25891868\\u003cbr\\u003e\\u003cb\\u003eSize:\\u003c\\u002fb\\u003e 146\\u003cbr\\u003e\\u003cextra\\u003e\\u003c\\u002fextra\\u003e\",\"legendgroup\":\"protein_coding\",\"legendgrouptitle\":{\"text\":\"\"},\"line\":{\"color\":\"black\",\"width\":0.25},\"marker\":{\"opacity\":0},\"mode\":\"lines+markers\",\"name\":\"protein_coding\",\"opacity\":1,\"showlegend\":false,\"x\":[1324,1470,1470,1324,1324],\"xaxis\":\"x\",\"y\":[2.85,2.85,3.15,3.15,2.85],\"yaxis\":\"y\",\"type\":\"scatter\"},{\"fill\":\"toself\",\"fillcolor\":\"#636EFA\",\"hoverlabel\":{\"namelength\":-1},\"hoveron\":\"fills+points\",\"hovertemplate\":\"\\u003cb\\u003etranscript_name:\\u003c\\u002fb\\u003e APP-204\\u003cbr\\u003e\\u003cb\\u003eFeature Type:\\u003c\\u002fb\\u003e exon\\u003cbr\\u003e\\u003cb\\u003eFeature Number:\\u003c\\u002fb\\u003e 15\\u003cbr\\u003e\\u003cb\\u003eChromosome:\\u003c\\u002fb\\u003e 21\\u003cbr\\u003e\\u003cb\\u003eStart:\\u003c\\u002fb\\u003e 25897573\\u003cbr\\u003e\\u003cb\\u003eEnd:\\u003c\\u002fb\\u003e 25897673\\u003cbr\\u003e\\u003cb\\u003eSize:\\u003c\\u002fb\\u003e 100\\u003cbr\\u003e\\u003cextra\\u003e\\u003c\\u002fextra\\u003e\",\"legendgroup\":\"protein_coding\",\"legendgrouptitle\":{\"text\":\"\"},\"line\":{\"color\":\"black\",\"width\":0.25},\"marker\":{\"opacity\":0},\"mode\":\"lines+markers\",\"name\":\"protein_coding\",\"opacity\":1,\"showlegend\":false,\"x\":[1571,1671,1671,1571,1571],\"xaxis\":\"x\",\"y\":[2.85,2.85,3.15,3.15,2.85],\"yaxis\":\"y\",\"type\":\"scatter\"},{\"fill\":\"toself\",\"fillcolor\":\"#636EFA\",\"hoverlabel\":{\"namelength\":-1},\"hoveron\":\"fills+points\",\"hovertemplate\":\"\\u003cb\\u003etranscript_name:\\u003c\\u002fb\\u003e APP-204\\u003cbr\\u003e\\u003cb\\u003eFeature Type:\\u003c\\u002fb\\u003e exon\\u003cbr\\u003e\\u003cb\\u003eFeature Number:\\u003c\\u002fb\\u003e 14\\u003cbr\\u003e\\u003cb\\u003eChromosome:\\u003c\\u002fb\\u003e 21\\u003cbr\\u003e\\u003cb\\u003eStart:\\u003c\\u002fb\\u003e 25905024\\u003cbr\\u003e\\u003cb\\u003eEnd:\\u003c\\u002fb\\u003e 25905077\\u003cbr\\u003e\\u003cb\\u003eSize:\\u003c\\u002fb\\u003e 53\\u003cbr\\u003e\\u003cextra\\u003e\\u003c\\u002fextra\\u003e\",\"legendgroup\":\"protein_coding\",\"legendgrouptitle\":{\"text\":\"\"},\"line\":{\"color\":\"black\",\"width\":0.25},\"marker\":{\"opacity\":0},\"mode\":\"lines+markers\",\"name\":\"protein_coding\",\"opacity\":1,\"showlegend\":false,\"x\":[1772,1825,1825,1772,1772],\"xaxis\":\"x\",\"y\":[2.85,2.85,3.15,3.15,2.85],\"yaxis\":\"y\",\"type\":\"scatter\"},{\"fill\":\"toself\",\"fillcolor\":\"#636EFA\",\"hoverlabel\":{\"namelength\":-1},\"hoveron\":\"fills+points\",\"hovertemplate\":\"\\u003cb\\u003etranscript_name:\\u003c\\u002fb\\u003e APP-204\\u003cbr\\u003e\\u003cb\\u003eFeature Type:\\u003c\\u002fb\\u003e exon\\u003cbr\\u003e\\u003cb\\u003eFeature Number:\\u003c\\u002fb\\u003e 13\\u003cbr\\u003e\\u003cb\\u003eChromosome:\\u003c\\u002fb\\u003e 21\\u003cbr\\u003e\\u003cb\\u003eStart:\\u003c\\u002fb\\u003e 25911741\\u003cbr\\u003e\\u003cb\\u003eEnd:\\u003c\\u002fb\\u003e 25911962\\u003cbr\\u003e\\u003cb\\u003eSize:\\u003c\\u002fb\\u003e 221\\u003cbr\\u003e\\u003cextra\\u003e\\u003c\\u002fextra\\u003e\",\"legendgroup\":\"protein_coding\",\"legendgrouptitle\":{\"text\":\"\"},\"line\":{\"color\":\"black\",\"width\":0.25},\"marker\":{\"opacity\":0},\"mode\":\"lines+markers\",\"name\":\"protein_coding\",\"opacity\":1,\"showlegend\":false,\"x\":[1926,2147,2147,1926,1926],\"xaxis\":\"x\",\"y\":[2.85,2.85,3.15,3.15,2.85],\"yaxis\":\"y\",\"type\":\"scatter\"},{\"fill\":\"toself\",\"fillcolor\":\"#636EFA\",\"hoverlabel\":{\"namelength\":-1},\"hoveron\":\"fills+points\",\"hovertemplate\":\"\\u003cb\\u003etranscript_name:\\u003c\\u002fb\\u003e APP-204\\u003cbr\\u003e\\u003cb\\u003eFeature Type:\\u003c\\u002fb\\u003e exon\\u003cbr\\u003e\\u003cb\\u003eFeature Number:\\u003c\\u002fb\\u003e 12\\u003cbr\\u003e\\u003cb\\u003eChromosome:\\u003c\\u002fb\\u003e 21\\u003cbr\\u003e\\u003cb\\u003eStart:\\u003c\\u002fb\\u003e 25954590\\u003cbr\\u003e\\u003cb\\u003eEnd:\\u003c\\u002fb\\u003e 25954689\\u003cbr\\u003e\\u003cb\\u003eSize:\\u003c\\u002fb\\u003e 99\\u003cbr\\u003e\\u003cextra\\u003e\\u003c\\u002fextra\\u003e\",\"legendgroup\":\"protein_coding\",\"legendgrouptitle\":{\"text\":\"\"},\"line\":{\"color\":\"black\",\"width\":0.25},\"marker\":{\"opacity\":0},\"mode\":\"lines+markers\",\"name\":\"protein_coding\",\"opacity\":1,\"showlegend\":false,\"x\":[2432,2531,2531,2432,2432],\"xaxis\":\"x\",\"y\":[2.85,2.85,3.15,3.15,2.85],\"yaxis\":\"y\",\"type\":\"scatter\"},{\"fill\":\"toself\",\"fillcolor\":\"#636EFA\",\"hoverlabel\":{\"namelength\":-1},\"hoveron\":\"fills+points\",\"hovertemplate\":\"\\u003cb\\u003etranscript_name:\\u003c\\u002fb\\u003e APP-204\\u003cbr\\u003e\\u003cb\\u003eFeature Type:\\u003c\\u002fb\\u003e exon\\u003cbr\\u003e\\u003cb\\u003eFeature Number:\\u003c\\u002fb\\u003e 11\\u003cbr\\u003e\\u003cb\\u003eChromosome:\\u003c\\u002fb\\u003e 21\\u003cbr\\u003e\\u003cb\\u003eStart:\\u003c\\u002fb\\u003e 25955627\\u003cbr\\u003e\\u003cb\\u003eEnd:\\u003c\\u002fb\\u003e 25955755\\u003cbr\\u003e\\u003cb\\u003eSize:\\u003c\\u002fb\\u003e 128\\u003cbr\\u003e\\u003cextra\\u003e\\u003c\\u002fextra\\u003e\",\"legendgroup\":\"protein_coding\",\"legendgrouptitle\":{\"text\":\"\"},\"line\":{\"color\":\"black\",\"width\":0.25},\"marker\":{\"opacity\":0},\"mode\":\"lines+markers\",\"name\":\"protein_coding\",\"opacity\":1,\"showlegend\":false,\"x\":[2632,2760,2760,2632,2632],\"xaxis\":\"x\",\"y\":[2.85,2.85,3.15,3.15,2.85],\"yaxis\":\"y\",\"type\":\"scatter\"},{\"fill\":\"toself\",\"fillcolor\":\"#636EFA\",\"hoverlabel\":{\"namelength\":-1},\"hoveron\":\"fills+points\",\"hovertemplate\":\"\\u003cb\\u003etranscript_name:\\u003c\\u002fb\\u003e APP-204\\u003cbr\\u003e\\u003cb\\u003eFeature Type:\\u003c\\u002fb\\u003e exon\\u003cbr\\u003e\\u003cb\\u003eFeature Number:\\u003c\\u002fb\\u003e 10\\u003cbr\\u003e\\u003cb\\u003eChromosome:\\u003c\\u002fb\\u003e 21\\u003cbr\\u003e\\u003cb\\u003eStart:\\u003c\\u002fb\\u003e 25975070\\u003cbr\\u003e\\u003cb\\u003eEnd:\\u003c\\u002fb\\u003e 25975228\\u003cbr\\u003e\\u003cb\\u003eSize:\\u003c\\u002fb\\u003e 158\\u003cbr\\u003e\\u003cextra\\u003e\\u003c\\u002fextra\\u003e\",\"legendgroup\":\"protein_coding\",\"legendgrouptitle\":{\"text\":\"\"},\"line\":{\"color\":\"black\",\"width\":0.25},\"marker\":{\"opacity\":0},\"mode\":\"lines+markers\",\"name\":\"protein_coding\",\"opacity\":1,\"showlegend\":false,\"x\":[2861,3019,3019,2861,2861],\"xaxis\":\"x\",\"y\":[2.85,2.85,3.15,3.15,2.85],\"yaxis\":\"y\",\"type\":\"scatter\"},{\"fill\":\"toself\",\"fillcolor\":\"#636EFA\",\"hoverlabel\":{\"namelength\":-1},\"hoveron\":\"fills+points\",\"hovertemplate\":\"\\u003cb\\u003etranscript_name:\\u003c\\u002fb\\u003e APP-204\\u003cbr\\u003e\\u003cb\\u003eFeature Type:\\u003c\\u002fb\\u003e exon\\u003cbr\\u003e\\u003cb\\u003eFeature Number:\\u003c\\u002fb\\u003e 9\\u003cbr\\u003e\\u003cb\\u003eChromosome:\\u003c\\u002fb\\u003e 21\\u003cbr\\u003e\\u003cb\\u003eStart:\\u003c\\u002fb\\u003e 25975954\\u003cbr\\u003e\\u003cb\\u003eEnd:\\u003c\\u002fb\\u003e 25976028\\u003cbr\\u003e\\u003cb\\u003eSize:\\u003c\\u002fb\\u003e 74\\u003cbr\\u003e\\u003cextra\\u003e\\u003c\\u002fextra\\u003e\",\"legendgroup\":\"protein_coding\",\"legendgrouptitle\":{\"text\":\"\"},\"line\":{\"color\":\"black\",\"width\":0.25},\"marker\":{\"opacity\":0},\"mode\":\"lines+markers\",\"name\":\"protein_coding\",\"opacity\":1,\"showlegend\":false,\"x\":[3120,3194,3194,3120,3120],\"xaxis\":\"x\",\"y\":[2.85,2.85,3.15,3.15,2.85],\"yaxis\":\"y\",\"type\":\"scatter\"},{\"fill\":\"toself\",\"fillcolor\":\"#636EFA\",\"hoverlabel\":{\"namelength\":-1},\"hoveron\":\"fills+points\",\"hovertemplate\":\"\\u003cb\\u003etranscript_name:\\u003c\\u002fb\\u003e APP-204\\u003cbr\\u003e\\u003cb\\u003eFeature Type:\\u003c\\u002fb\\u003e exon\\u003cbr\\u003e\\u003cb\\u003eFeature Number:\\u003c\\u002fb\\u003e 8\\u003cbr\\u003e\\u003cb\\u003eChromosome:\\u003c\\u002fb\\u003e 21\\u003cbr\\u003e\\u003cb\\u003eStart:\\u003c\\u002fb\\u003e 25982344\\u003cbr\\u003e\\u003cb\\u003eEnd:\\u003c\\u002fb\\u003e 25982477\\u003cbr\\u003e\\u003cb\\u003eSize:\\u003c\\u002fb\\u003e 133\\u003cbr\\u003e\\u003cextra\\u003e\\u003c\\u002fextra\\u003e\",\"legendgroup\":\"protein_coding\",\"legendgrouptitle\":{\"text\":\"\"},\"line\":{\"color\":\"black\",\"width\":0.25},\"marker\":{\"opacity\":0},\"mode\":\"lines+markers\",\"name\":\"protein_coding\",\"opacity\":1,\"showlegend\":false,\"x\":[3295,3428,3428,3295,3295],\"xaxis\":\"x\",\"y\":[2.85,2.85,3.15,3.15,2.85],\"yaxis\":\"y\",\"type\":\"scatter\"},{\"fill\":\"toself\",\"fillcolor\":\"#636EFA\",\"hoverlabel\":{\"namelength\":-1},\"hoveron\":\"fills+points\",\"hovertemplate\":\"\\u003cb\\u003etranscript_name:\\u003c\\u002fb\\u003e APP-204\\u003cbr\\u003e\\u003cb\\u003eFeature Type:\\u003c\\u002fb\\u003e exon\\u003cbr\\u003e\\u003cb\\u003eFeature Number:\\u003c\\u002fb\\u003e 7\\u003cbr\\u003e\\u003cb\\u003eChromosome:\\u003c\\u002fb\\u003e 21\\u003cbr\\u003e\\u003cb\\u003eStart:\\u003c\\u002fb\\u003e 26000015\\u003cbr\\u003e\\u003cb\\u003eEnd:\\u003c\\u002fb\\u003e 26000182\\u003cbr\\u003e\\u003cb\\u003eSize:\\u003c\\u002fb\\u003e 167\\u003cbr\\u003e\\u003cextra\\u003e\\u003c\\u002fextra\\u003e\",\"legendgroup\":\"protein_coding\",\"legendgrouptitle\":{\"text\":\"\"},\"line\":{\"color\":\"black\",\"width\":0.25},\"marker\":{\"opacity\":0},\"mode\":\"lines+markers\",\"name\":\"protein_coding\",\"opacity\":1,\"showlegend\":false,\"x\":[3686,3853,3853,3686,3686],\"xaxis\":\"x\",\"y\":[2.85,2.85,3.15,3.15,2.85],\"yaxis\":\"y\",\"type\":\"scatter\"},{\"fill\":\"toself\",\"fillcolor\":\"#636EFA\",\"hoverlabel\":{\"namelength\":-1},\"hoveron\":\"fills+points\",\"hovertemplate\":\"\\u003cb\\u003etranscript_name:\\u003c\\u002fb\\u003e APP-204\\u003cbr\\u003e\\u003cb\\u003eFeature Type:\\u003c\\u002fb\\u003e exon\\u003cbr\\u003e\\u003cb\\u003eFeature Number:\\u003c\\u002fb\\u003e 6\\u003cbr\\u003e\\u003cb\\u003eChromosome:\\u003c\\u002fb\\u003e 21\\u003cbr\\u003e\\u003cb\\u003eStart:\\u003c\\u002fb\\u003e 26021840\\u003cbr\\u003e\\u003cb\\u003eEnd:\\u003c\\u002fb\\u003e 26022042\\u003cbr\\u003e\\u003cb\\u003eSize:\\u003c\\u002fb\\u003e 202\\u003cbr\\u003e\\u003cextra\\u003e\\u003c\\u002fextra\\u003e\",\"legendgroup\":\"protein_coding\",\"legendgrouptitle\":{\"text\":\"\"},\"line\":{\"color\":\"black\",\"width\":0.25},\"marker\":{\"opacity\":0},\"mode\":\"lines+markers\",\"name\":\"protein_coding\",\"opacity\":1,\"showlegend\":false,\"x\":[3954,4156,4156,3954,3954],\"xaxis\":\"x\",\"y\":[2.85,2.85,3.15,3.15,2.85],\"yaxis\":\"y\",\"type\":\"scatter\"},{\"fill\":\"toself\",\"fillcolor\":\"#636EFA\",\"hoverlabel\":{\"namelength\":-1},\"hoveron\":\"fills+points\",\"hovertemplate\":\"\\u003cb\\u003etranscript_name:\\u003c\\u002fb\\u003e APP-204\\u003cbr\\u003e\\u003cb\\u003eFeature Type:\\u003c\\u002fb\\u003e exon\\u003cbr\\u003e\\u003cb\\u003eFeature Number:\\u003c\\u002fb\\u003e 5\\u003cbr\\u003e\\u003cb\\u003eChromosome:\\u003c\\u002fb\\u003e 21\\u003cbr\\u003e\\u003cb\\u003eStart:\\u003c\\u002fb\\u003e 26051000\\u003cbr\\u003e\\u003cb\\u003eEnd:\\u003c\\u002fb\\u003e 26051193\\u003cbr\\u003e\\u003cb\\u003eSize:\\u003c\\u002fb\\u003e 193\\u003cbr\\u003e\\u003cextra\\u003e\\u003c\\u002fextra\\u003e\",\"legendgroup\":\"protein_coding\",\"legendgrouptitle\":{\"text\":\"\"},\"line\":{\"color\":\"black\",\"width\":0.25},\"marker\":{\"opacity\":0},\"mode\":\"lines+markers\",\"name\":\"protein_coding\",\"opacity\":1,\"showlegend\":false,\"x\":[4257,4450,4450,4257,4257],\"xaxis\":\"x\",\"y\":[2.85,2.85,3.15,3.15,2.85],\"yaxis\":\"y\",\"type\":\"scatter\"},{\"fill\":\"toself\",\"fillcolor\":\"#636EFA\",\"hoverlabel\":{\"namelength\":-1},\"hoveron\":\"fills+points\",\"hovertemplate\":\"\\u003cb\\u003etranscript_name:\\u003c\\u002fb\\u003e APP-204\\u003cbr\\u003e\\u003cb\\u003eFeature Type:\\u003c\\u002fb\\u003e exon\\u003cbr\\u003e\\u003cb\\u003eFeature Number:\\u003c\\u002fb\\u003e 4\\u003cbr\\u003e\\u003cb\\u003eChromosome:\\u003c\\u002fb\\u003e 21\\u003cbr\\u003e\\u003cb\\u003eStart:\\u003c\\u002fb\\u003e 26053236\\u003cbr\\u003e\\u003cb\\u003eEnd:\\u003c\\u002fb\\u003e 26053348\\u003cbr\\u003e\\u003cb\\u003eSize:\\u003c\\u002fb\\u003e 112\\u003cbr\\u003e\\u003cextra\\u003e\\u003c\\u002fextra\\u003e\",\"legendgroup\":\"protein_coding\",\"legendgrouptitle\":{\"text\":\"\"},\"line\":{\"color\":\"black\",\"width\":0.25},\"marker\":{\"opacity\":0},\"mode\":\"lines+markers\",\"name\":\"protein_coding\",\"opacity\":1,\"showlegend\":false,\"x\":[4551,4663,4663,4551,4551],\"xaxis\":\"x\",\"y\":[2.85,2.85,3.15,3.15,2.85],\"yaxis\":\"y\",\"type\":\"scatter\"},{\"fill\":\"toself\",\"fillcolor\":\"#636EFA\",\"hoverlabel\":{\"namelength\":-1},\"hoveron\":\"fills+points\",\"hovertemplate\":\"\\u003cb\\u003etranscript_name:\\u003c\\u002fb\\u003e APP-204\\u003cbr\\u003e\\u003cb\\u003eFeature Type:\\u003c\\u002fb\\u003e exon\\u003cbr\\u003e\\u003cb\\u003eFeature Number:\\u003c\\u002fb\\u003e 3\\u003cbr\\u003e\\u003cb\\u003eChromosome:\\u003c\\u002fb\\u003e 21\\u003cbr\\u003e\\u003cb\\u003eStart:\\u003c\\u002fb\\u003e 26089943\\u003cbr\\u003e\\u003cb\\u003eEnd:\\u003c\\u002fb\\u003e 26090072\\u003cbr\\u003e\\u003cb\\u003eSize:\\u003c\\u002fb\\u003e 129\\u003cbr\\u003e\\u003cextra\\u003e\\u003c\\u002fextra\\u003e\",\"legendgroup\":\"protein_coding\",\"legendgrouptitle\":{\"text\":\"\"},\"line\":{\"color\":\"black\",\"width\":0.25},\"marker\":{\"opacity\":0},\"mode\":\"lines+markers\",\"name\":\"protein_coding\",\"opacity\":1,\"showlegend\":false,\"x\":[4764,4893,4893,4764,4764],\"xaxis\":\"x\",\"y\":[2.85,2.85,3.15,3.15,2.85],\"yaxis\":\"y\",\"type\":\"scatter\"},{\"fill\":\"toself\",\"fillcolor\":\"#636EFA\",\"hoverlabel\":{\"namelength\":-1},\"hoveron\":\"fills+points\",\"hovertemplate\":\"\\u003cb\\u003etranscript_name:\\u003c\\u002fb\\u003e APP-204\\u003cbr\\u003e\\u003cb\\u003eFeature Type:\\u003c\\u002fb\\u003e exon\\u003cbr\\u003e\\u003cb\\u003eFeature Number:\\u003c\\u002fb\\u003e 2\\u003cbr\\u003e\\u003cb\\u003eChromosome:\\u003c\\u002fb\\u003e 21\\u003cbr\\u003e\\u003cb\\u003eStart:\\u003c\\u002fb\\u003e 26111979\\u003cbr\\u003e\\u003cb\\u003eEnd:\\u003c\\u002fb\\u003e 26112146\\u003cbr\\u003e\\u003cb\\u003eSize:\\u003c\\u002fb\\u003e 167\\u003cbr\\u003e\\u003cextra\\u003e\\u003c\\u002fextra\\u003e\",\"legendgroup\":\"protein_coding\",\"legendgrouptitle\":{\"text\":\"\"},\"line\":{\"color\":\"black\",\"width\":0.25},\"marker\":{\"opacity\":0},\"mode\":\"lines+markers\",\"name\":\"protein_coding\",\"opacity\":1,\"showlegend\":false,\"x\":[4994,5161,5161,4994,4994],\"xaxis\":\"x\",\"y\":[2.85,2.85,3.15,3.15,2.85],\"yaxis\":\"y\",\"type\":\"scatter\"},{\"fill\":\"toself\",\"fillcolor\":\"#636EFA\",\"hoverlabel\":{\"namelength\":-1},\"hoveron\":\"fills+points\",\"hovertemplate\":\"\\u003cb\\u003etranscript_name:\\u003c\\u002fb\\u003e APP-204\\u003cbr\\u003e\\u003cb\\u003eFeature Type:\\u003c\\u002fb\\u003e exon\\u003cbr\\u003e\\u003cb\\u003eFeature Number:\\u003c\\u002fb\\u003e 1\\u003cbr\\u003e\\u003cb\\u003eChromosome:\\u003c\\u002fb\\u003e 21\\u003cbr\\u003e\\u003cb\\u003eStart:\\u003c\\u002fb\\u003e 26170564\\u003cbr\\u003e\\u003cb\\u003eEnd:\\u003c\\u002fb\\u003e 26170787\\u003cbr\\u003e\\u003cb\\u003eSize:\\u003c\\u002fb\\u003e 223\\u003cbr\\u003e\\u003cextra\\u003e\\u003c\\u002fextra\\u003e\",\"legendgroup\":\"protein_coding\",\"legendgrouptitle\":{\"text\":\"\"},\"line\":{\"color\":\"black\",\"width\":0.25},\"marker\":{\"opacity\":0},\"mode\":\"lines+markers\",\"name\":\"protein_coding\",\"opacity\":1,\"showlegend\":false,\"x\":[5262,5485,5485,5262,5262],\"xaxis\":\"x\",\"y\":[2.85,2.85,3.15,3.15,2.85],\"yaxis\":\"y\",\"type\":\"scatter\"},{\"fill\":\"toself\",\"fillcolor\":\"#636EFA\",\"hoverlabel\":{\"namelength\":-1},\"hoveron\":\"fills+points\",\"hovertemplate\":\"\\u003cb\\u003etranscript_name:\\u003c\\u002fb\\u003e APP-202\\u003cbr\\u003e\\u003cb\\u003eFeature Type:\\u003c\\u002fb\\u003e exon\\u003cbr\\u003e\\u003cb\\u003eFeature Number:\\u003c\\u002fb\\u003e 16\\u003cbr\\u003e\\u003cb\\u003eChromosome:\\u003c\\u002fb\\u003e 21\\u003cbr\\u003e\\u003cb\\u003eStart:\\u003c\\u002fb\\u003e 25880550\\u003cbr\\u003e\\u003cb\\u003eEnd:\\u003c\\u002fb\\u003e 25881771\\u003cbr\\u003e\\u003cb\\u003eSize:\\u003c\\u002fb\\u003e 1221\\u003cbr\\u003e\\u003cextra\\u003e\\u003c\\u002fextra\\u003e\",\"legendgroup\":\"protein_coding\",\"legendgrouptitle\":{\"text\":\"\"},\"line\":{\"color\":\"black\",\"width\":0.25},\"marker\":{\"opacity\":0},\"mode\":\"lines+markers\",\"name\":\"protein_coding\",\"opacity\":1,\"showlegend\":false,\"x\":[2,1223,1223,2,2],\"xaxis\":\"x\",\"y\":[3.85,3.85,4.15,4.15,3.85],\"yaxis\":\"y\",\"type\":\"scatter\"},{\"fill\":\"toself\",\"fillcolor\":\"#636EFA\",\"hoverlabel\":{\"namelength\":-1},\"hoveron\":\"fills+points\",\"hovertemplate\":\"\\u003cb\\u003etranscript_name:\\u003c\\u002fb\\u003e APP-202\\u003cbr\\u003e\\u003cb\\u003eFeature Type:\\u003c\\u002fb\\u003e exon\\u003cbr\\u003e\\u003cb\\u003eFeature Number:\\u003c\\u002fb\\u003e 15\\u003cbr\\u003e\\u003cb\\u003eChromosome:\\u003c\\u002fb\\u003e 21\\u003cbr\\u003e\\u003cb\\u003eStart:\\u003c\\u002fb\\u003e 25891722\\u003cbr\\u003e\\u003cb\\u003eEnd:\\u003c\\u002fb\\u003e 25891868\\u003cbr\\u003e\\u003cb\\u003eSize:\\u003c\\u002fb\\u003e 146\\u003cbr\\u003e\\u003cextra\\u003e\\u003c\\u002fextra\\u003e\",\"legendgroup\":\"protein_coding\",\"legendgrouptitle\":{\"text\":\"\"},\"line\":{\"color\":\"black\",\"width\":0.25},\"marker\":{\"opacity\":0},\"mode\":\"lines+markers\",\"name\":\"protein_coding\",\"opacity\":1,\"showlegend\":false,\"x\":[1324,1470,1470,1324,1324],\"xaxis\":\"x\",\"y\":[3.85,3.85,4.15,4.15,3.85],\"yaxis\":\"y\",\"type\":\"scatter\"},{\"fill\":\"toself\",\"fillcolor\":\"#636EFA\",\"hoverlabel\":{\"namelength\":-1},\"hoveron\":\"fills+points\",\"hovertemplate\":\"\\u003cb\\u003etranscript_name:\\u003c\\u002fb\\u003e APP-202\\u003cbr\\u003e\\u003cb\\u003eFeature Type:\\u003c\\u002fb\\u003e exon\\u003cbr\\u003e\\u003cb\\u003eFeature Number:\\u003c\\u002fb\\u003e 14\\u003cbr\\u003e\\u003cb\\u003eChromosome:\\u003c\\u002fb\\u003e 21\\u003cbr\\u003e\\u003cb\\u003eStart:\\u003c\\u002fb\\u003e 25897573\\u003cbr\\u003e\\u003cb\\u003eEnd:\\u003c\\u002fb\\u003e 25897673\\u003cbr\\u003e\\u003cb\\u003eSize:\\u003c\\u002fb\\u003e 100\\u003cbr\\u003e\\u003cextra\\u003e\\u003c\\u002fextra\\u003e\",\"legendgroup\":\"protein_coding\",\"legendgrouptitle\":{\"text\":\"\"},\"line\":{\"color\":\"black\",\"width\":0.25},\"marker\":{\"opacity\":0},\"mode\":\"lines+markers\",\"name\":\"protein_coding\",\"opacity\":1,\"showlegend\":false,\"x\":[1571,1671,1671,1571,1571],\"xaxis\":\"x\",\"y\":[3.85,3.85,4.15,4.15,3.85],\"yaxis\":\"y\",\"type\":\"scatter\"},{\"fill\":\"toself\",\"fillcolor\":\"#636EFA\",\"hoverlabel\":{\"namelength\":-1},\"hoveron\":\"fills+points\",\"hovertemplate\":\"\\u003cb\\u003etranscript_name:\\u003c\\u002fb\\u003e APP-202\\u003cbr\\u003e\\u003cb\\u003eFeature Type:\\u003c\\u002fb\\u003e exon\\u003cbr\\u003e\\u003cb\\u003eFeature Number:\\u003c\\u002fb\\u003e 13\\u003cbr\\u003e\\u003cb\\u003eChromosome:\\u003c\\u002fb\\u003e 21\\u003cbr\\u003e\\u003cb\\u003eStart:\\u003c\\u002fb\\u003e 25905024\\u003cbr\\u003e\\u003cb\\u003eEnd:\\u003c\\u002fb\\u003e 25905077\\u003cbr\\u003e\\u003cb\\u003eSize:\\u003c\\u002fb\\u003e 53\\u003cbr\\u003e\\u003cextra\\u003e\\u003c\\u002fextra\\u003e\",\"legendgroup\":\"protein_coding\",\"legendgrouptitle\":{\"text\":\"\"},\"line\":{\"color\":\"black\",\"width\":0.25},\"marker\":{\"opacity\":0},\"mode\":\"lines+markers\",\"name\":\"protein_coding\",\"opacity\":1,\"showlegend\":false,\"x\":[1772,1825,1825,1772,1772],\"xaxis\":\"x\",\"y\":[3.85,3.85,4.15,4.15,3.85],\"yaxis\":\"y\",\"type\":\"scatter\"},{\"fill\":\"toself\",\"fillcolor\":\"#636EFA\",\"hoverlabel\":{\"namelength\":-1},\"hoveron\":\"fills+points\",\"hovertemplate\":\"\\u003cb\\u003etranscript_name:\\u003c\\u002fb\\u003e APP-202\\u003cbr\\u003e\\u003cb\\u003eFeature Type:\\u003c\\u002fb\\u003e exon\\u003cbr\\u003e\\u003cb\\u003eFeature Number:\\u003c\\u002fb\\u003e 12\\u003cbr\\u003e\\u003cb\\u003eChromosome:\\u003c\\u002fb\\u003e 21\\u003cbr\\u003e\\u003cb\\u003eStart:\\u003c\\u002fb\\u003e 25911741\\u003cbr\\u003e\\u003cb\\u003eEnd:\\u003c\\u002fb\\u003e 25911962\\u003cbr\\u003e\\u003cb\\u003eSize:\\u003c\\u002fb\\u003e 221\\u003cbr\\u003e\\u003cextra\\u003e\\u003c\\u002fextra\\u003e\",\"legendgroup\":\"protein_coding\",\"legendgrouptitle\":{\"text\":\"\"},\"line\":{\"color\":\"black\",\"width\":0.25},\"marker\":{\"opacity\":0},\"mode\":\"lines+markers\",\"name\":\"protein_coding\",\"opacity\":1,\"showlegend\":false,\"x\":[1926,2147,2147,1926,1926],\"xaxis\":\"x\",\"y\":[3.85,3.85,4.15,4.15,3.85],\"yaxis\":\"y\",\"type\":\"scatter\"},{\"fill\":\"toself\",\"fillcolor\":\"#636EFA\",\"hoverlabel\":{\"namelength\":-1},\"hoveron\":\"fills+points\",\"hovertemplate\":\"\\u003cb\\u003etranscript_name:\\u003c\\u002fb\\u003e APP-202\\u003cbr\\u003e\\u003cb\\u003eFeature Type:\\u003c\\u002fb\\u003e exon\\u003cbr\\u003e\\u003cb\\u003eFeature Number:\\u003c\\u002fb\\u003e 11\\u003cbr\\u003e\\u003cb\\u003eChromosome:\\u003c\\u002fb\\u003e 21\\u003cbr\\u003e\\u003cb\\u003eStart:\\u003c\\u002fb\\u003e 25954590\\u003cbr\\u003e\\u003cb\\u003eEnd:\\u003c\\u002fb\\u003e 25954689\\u003cbr\\u003e\\u003cb\\u003eSize:\\u003c\\u002fb\\u003e 99\\u003cbr\\u003e\\u003cextra\\u003e\\u003c\\u002fextra\\u003e\",\"legendgroup\":\"protein_coding\",\"legendgrouptitle\":{\"text\":\"\"},\"line\":{\"color\":\"black\",\"width\":0.25},\"marker\":{\"opacity\":0},\"mode\":\"lines+markers\",\"name\":\"protein_coding\",\"opacity\":1,\"showlegend\":false,\"x\":[2432,2531,2531,2432,2432],\"xaxis\":\"x\",\"y\":[3.85,3.85,4.15,4.15,3.85],\"yaxis\":\"y\",\"type\":\"scatter\"},{\"fill\":\"toself\",\"fillcolor\":\"#636EFA\",\"hoverlabel\":{\"namelength\":-1},\"hoveron\":\"fills+points\",\"hovertemplate\":\"\\u003cb\\u003etranscript_name:\\u003c\\u002fb\\u003e APP-202\\u003cbr\\u003e\\u003cb\\u003eFeature Type:\\u003c\\u002fb\\u003e exon\\u003cbr\\u003e\\u003cb\\u003eFeature Number:\\u003c\\u002fb\\u003e 10\\u003cbr\\u003e\\u003cb\\u003eChromosome:\\u003c\\u002fb\\u003e 21\\u003cbr\\u003e\\u003cb\\u003eStart:\\u003c\\u002fb\\u003e 25955627\\u003cbr\\u003e\\u003cb\\u003eEnd:\\u003c\\u002fb\\u003e 25955755\\u003cbr\\u003e\\u003cb\\u003eSize:\\u003c\\u002fb\\u003e 128\\u003cbr\\u003e\\u003cextra\\u003e\\u003c\\u002fextra\\u003e\",\"legendgroup\":\"protein_coding\",\"legendgrouptitle\":{\"text\":\"\"},\"line\":{\"color\":\"black\",\"width\":0.25},\"marker\":{\"opacity\":0},\"mode\":\"lines+markers\",\"name\":\"protein_coding\",\"opacity\":1,\"showlegend\":false,\"x\":[2632,2760,2760,2632,2632],\"xaxis\":\"x\",\"y\":[3.85,3.85,4.15,4.15,3.85],\"yaxis\":\"y\",\"type\":\"scatter\"},{\"fill\":\"toself\",\"fillcolor\":\"#636EFA\",\"hoverlabel\":{\"namelength\":-1},\"hoveron\":\"fills+points\",\"hovertemplate\":\"\\u003cb\\u003etranscript_name:\\u003c\\u002fb\\u003e APP-202\\u003cbr\\u003e\\u003cb\\u003eFeature Type:\\u003c\\u002fb\\u003e exon\\u003cbr\\u003e\\u003cb\\u003eFeature Number:\\u003c\\u002fb\\u003e 9\\u003cbr\\u003e\\u003cb\\u003eChromosome:\\u003c\\u002fb\\u003e 21\\u003cbr\\u003e\\u003cb\\u003eStart:\\u003c\\u002fb\\u003e 25975070\\u003cbr\\u003e\\u003cb\\u003eEnd:\\u003c\\u002fb\\u003e 25975228\\u003cbr\\u003e\\u003cb\\u003eSize:\\u003c\\u002fb\\u003e 158\\u003cbr\\u003e\\u003cextra\\u003e\\u003c\\u002fextra\\u003e\",\"legendgroup\":\"protein_coding\",\"legendgrouptitle\":{\"text\":\"\"},\"line\":{\"color\":\"black\",\"width\":0.25},\"marker\":{\"opacity\":0},\"mode\":\"lines+markers\",\"name\":\"protein_coding\",\"opacity\":1,\"showlegend\":false,\"x\":[2861,3019,3019,2861,2861],\"xaxis\":\"x\",\"y\":[3.85,3.85,4.15,4.15,3.85],\"yaxis\":\"y\",\"type\":\"scatter\"},{\"fill\":\"toself\",\"fillcolor\":\"#636EFA\",\"hoverlabel\":{\"namelength\":-1},\"hoveron\":\"fills+points\",\"hovertemplate\":\"\\u003cb\\u003etranscript_name:\\u003c\\u002fb\\u003e APP-202\\u003cbr\\u003e\\u003cb\\u003eFeature Type:\\u003c\\u002fb\\u003e exon\\u003cbr\\u003e\\u003cb\\u003eFeature Number:\\u003c\\u002fb\\u003e 8\\u003cbr\\u003e\\u003cb\\u003eChromosome:\\u003c\\u002fb\\u003e 21\\u003cbr\\u003e\\u003cb\\u003eStart:\\u003c\\u002fb\\u003e 25975954\\u003cbr\\u003e\\u003cb\\u003eEnd:\\u003c\\u002fb\\u003e 25976028\\u003cbr\\u003e\\u003cb\\u003eSize:\\u003c\\u002fb\\u003e 74\\u003cbr\\u003e\\u003cextra\\u003e\\u003c\\u002fextra\\u003e\",\"legendgroup\":\"protein_coding\",\"legendgrouptitle\":{\"text\":\"\"},\"line\":{\"color\":\"black\",\"width\":0.25},\"marker\":{\"opacity\":0},\"mode\":\"lines+markers\",\"name\":\"protein_coding\",\"opacity\":1,\"showlegend\":false,\"x\":[3120,3194,3194,3120,3120],\"xaxis\":\"x\",\"y\":[3.85,3.85,4.15,4.15,3.85],\"yaxis\":\"y\",\"type\":\"scatter\"},{\"fill\":\"toself\",\"fillcolor\":\"#636EFA\",\"hoverlabel\":{\"namelength\":-1},\"hoveron\":\"fills+points\",\"hovertemplate\":\"\\u003cb\\u003etranscript_name:\\u003c\\u002fb\\u003e APP-202\\u003cbr\\u003e\\u003cb\\u003eFeature Type:\\u003c\\u002fb\\u003e exon\\u003cbr\\u003e\\u003cb\\u003eFeature Number:\\u003c\\u002fb\\u003e 7\\u003cbr\\u003e\\u003cb\\u003eChromosome:\\u003c\\u002fb\\u003e 21\\u003cbr\\u003e\\u003cb\\u003eStart:\\u003c\\u002fb\\u003e 25982344\\u003cbr\\u003e\\u003cb\\u003eEnd:\\u003c\\u002fb\\u003e 25982477\\u003cbr\\u003e\\u003cb\\u003eSize:\\u003c\\u002fb\\u003e 133\\u003cbr\\u003e\\u003cextra\\u003e\\u003c\\u002fextra\\u003e\",\"legendgroup\":\"protein_coding\",\"legendgrouptitle\":{\"text\":\"\"},\"line\":{\"color\":\"black\",\"width\":0.25},\"marker\":{\"opacity\":0},\"mode\":\"lines+markers\",\"name\":\"protein_coding\",\"opacity\":1,\"showlegend\":false,\"x\":[3295,3428,3428,3295,3295],\"xaxis\":\"x\",\"y\":[3.85,3.85,4.15,4.15,3.85],\"yaxis\":\"y\",\"type\":\"scatter\"},{\"fill\":\"toself\",\"fillcolor\":\"#636EFA\",\"hoverlabel\":{\"namelength\":-1},\"hoveron\":\"fills+points\",\"hovertemplate\":\"\\u003cb\\u003etranscript_name:\\u003c\\u002fb\\u003e APP-202\\u003cbr\\u003e\\u003cb\\u003eFeature Type:\\u003c\\u002fb\\u003e exon\\u003cbr\\u003e\\u003cb\\u003eFeature Number:\\u003c\\u002fb\\u003e 6\\u003cbr\\u003e\\u003cb\\u003eChromosome:\\u003c\\u002fb\\u003e 21\\u003cbr\\u003e\\u003cb\\u003eStart:\\u003c\\u002fb\\u003e 26021840\\u003cbr\\u003e\\u003cb\\u003eEnd:\\u003c\\u002fb\\u003e 26022042\\u003cbr\\u003e\\u003cb\\u003eSize:\\u003c\\u002fb\\u003e 202\\u003cbr\\u003e\\u003cextra\\u003e\\u003c\\u002fextra\\u003e\",\"legendgroup\":\"protein_coding\",\"legendgrouptitle\":{\"text\":\"\"},\"line\":{\"color\":\"black\",\"width\":0.25},\"marker\":{\"opacity\":0},\"mode\":\"lines+markers\",\"name\":\"protein_coding\",\"opacity\":1,\"showlegend\":false,\"x\":[3954,4156,4156,3954,3954],\"xaxis\":\"x\",\"y\":[3.85,3.85,4.15,4.15,3.85],\"yaxis\":\"y\",\"type\":\"scatter\"},{\"fill\":\"toself\",\"fillcolor\":\"#636EFA\",\"hoverlabel\":{\"namelength\":-1},\"hoveron\":\"fills+points\",\"hovertemplate\":\"\\u003cb\\u003etranscript_name:\\u003c\\u002fb\\u003e APP-202\\u003cbr\\u003e\\u003cb\\u003eFeature Type:\\u003c\\u002fb\\u003e exon\\u003cbr\\u003e\\u003cb\\u003eFeature Number:\\u003c\\u002fb\\u003e 5\\u003cbr\\u003e\\u003cb\\u003eChromosome:\\u003c\\u002fb\\u003e 21\\u003cbr\\u003e\\u003cb\\u003eStart:\\u003c\\u002fb\\u003e 26051000\\u003cbr\\u003e\\u003cb\\u003eEnd:\\u003c\\u002fb\\u003e 26051193\\u003cbr\\u003e\\u003cb\\u003eSize:\\u003c\\u002fb\\u003e 193\\u003cbr\\u003e\\u003cextra\\u003e\\u003c\\u002fextra\\u003e\",\"legendgroup\":\"protein_coding\",\"legendgrouptitle\":{\"text\":\"\"},\"line\":{\"color\":\"black\",\"width\":0.25},\"marker\":{\"opacity\":0},\"mode\":\"lines+markers\",\"name\":\"protein_coding\",\"opacity\":1,\"showlegend\":false,\"x\":[4257,4450,4450,4257,4257],\"xaxis\":\"x\",\"y\":[3.85,3.85,4.15,4.15,3.85],\"yaxis\":\"y\",\"type\":\"scatter\"},{\"fill\":\"toself\",\"fillcolor\":\"#636EFA\",\"hoverlabel\":{\"namelength\":-1},\"hoveron\":\"fills+points\",\"hovertemplate\":\"\\u003cb\\u003etranscript_name:\\u003c\\u002fb\\u003e APP-202\\u003cbr\\u003e\\u003cb\\u003eFeature Type:\\u003c\\u002fb\\u003e exon\\u003cbr\\u003e\\u003cb\\u003eFeature Number:\\u003c\\u002fb\\u003e 4\\u003cbr\\u003e\\u003cb\\u003eChromosome:\\u003c\\u002fb\\u003e 21\\u003cbr\\u003e\\u003cb\\u003eStart:\\u003c\\u002fb\\u003e 26053236\\u003cbr\\u003e\\u003cb\\u003eEnd:\\u003c\\u002fb\\u003e 26053348\\u003cbr\\u003e\\u003cb\\u003eSize:\\u003c\\u002fb\\u003e 112\\u003cbr\\u003e\\u003cextra\\u003e\\u003c\\u002fextra\\u003e\",\"legendgroup\":\"protein_coding\",\"legendgrouptitle\":{\"text\":\"\"},\"line\":{\"color\":\"black\",\"width\":0.25},\"marker\":{\"opacity\":0},\"mode\":\"lines+markers\",\"name\":\"protein_coding\",\"opacity\":1,\"showlegend\":false,\"x\":[4551,4663,4663,4551,4551],\"xaxis\":\"x\",\"y\":[3.85,3.85,4.15,4.15,3.85],\"yaxis\":\"y\",\"type\":\"scatter\"},{\"fill\":\"toself\",\"fillcolor\":\"#636EFA\",\"hoverlabel\":{\"namelength\":-1},\"hoveron\":\"fills+points\",\"hovertemplate\":\"\\u003cb\\u003etranscript_name:\\u003c\\u002fb\\u003e APP-202\\u003cbr\\u003e\\u003cb\\u003eFeature Type:\\u003c\\u002fb\\u003e exon\\u003cbr\\u003e\\u003cb\\u003eFeature Number:\\u003c\\u002fb\\u003e 3\\u003cbr\\u003e\\u003cb\\u003eChromosome:\\u003c\\u002fb\\u003e 21\\u003cbr\\u003e\\u003cb\\u003eStart:\\u003c\\u002fb\\u003e 26089943\\u003cbr\\u003e\\u003cb\\u003eEnd:\\u003c\\u002fb\\u003e 26090072\\u003cbr\\u003e\\u003cb\\u003eSize:\\u003c\\u002fb\\u003e 129\\u003cbr\\u003e\\u003cextra\\u003e\\u003c\\u002fextra\\u003e\",\"legendgroup\":\"protein_coding\",\"legendgrouptitle\":{\"text\":\"\"},\"line\":{\"color\":\"black\",\"width\":0.25},\"marker\":{\"opacity\":0},\"mode\":\"lines+markers\",\"name\":\"protein_coding\",\"opacity\":1,\"showlegend\":false,\"x\":[4764,4893,4893,4764,4764],\"xaxis\":\"x\",\"y\":[3.85,3.85,4.15,4.15,3.85],\"yaxis\":\"y\",\"type\":\"scatter\"},{\"fill\":\"toself\",\"fillcolor\":\"#636EFA\",\"hoverlabel\":{\"namelength\":-1},\"hoveron\":\"fills+points\",\"hovertemplate\":\"\\u003cb\\u003etranscript_name:\\u003c\\u002fb\\u003e APP-202\\u003cbr\\u003e\\u003cb\\u003eFeature Type:\\u003c\\u002fb\\u003e exon\\u003cbr\\u003e\\u003cb\\u003eFeature Number:\\u003c\\u002fb\\u003e 2\\u003cbr\\u003e\\u003cb\\u003eChromosome:\\u003c\\u002fb\\u003e 21\\u003cbr\\u003e\\u003cb\\u003eStart:\\u003c\\u002fb\\u003e 26111979\\u003cbr\\u003e\\u003cb\\u003eEnd:\\u003c\\u002fb\\u003e 26112146\\u003cbr\\u003e\\u003cb\\u003eSize:\\u003c\\u002fb\\u003e 167\\u003cbr\\u003e\\u003cextra\\u003e\\u003c\\u002fextra\\u003e\",\"legendgroup\":\"protein_coding\",\"legendgrouptitle\":{\"text\":\"\"},\"line\":{\"color\":\"black\",\"width\":0.25},\"marker\":{\"opacity\":0},\"mode\":\"lines+markers\",\"name\":\"protein_coding\",\"opacity\":1,\"showlegend\":false,\"x\":[4994,5161,5161,4994,4994],\"xaxis\":\"x\",\"y\":[3.85,3.85,4.15,4.15,3.85],\"yaxis\":\"y\",\"type\":\"scatter\"},{\"fill\":\"toself\",\"fillcolor\":\"#636EFA\",\"hoverlabel\":{\"namelength\":-1},\"hoveron\":\"fills+points\",\"hovertemplate\":\"\\u003cb\\u003etranscript_name:\\u003c\\u002fb\\u003e APP-202\\u003cbr\\u003e\\u003cb\\u003eFeature Type:\\u003c\\u002fb\\u003e exon\\u003cbr\\u003e\\u003cb\\u003eFeature Number:\\u003c\\u002fb\\u003e 1\\u003cbr\\u003e\\u003cb\\u003eChromosome:\\u003c\\u002fb\\u003e 21\\u003cbr\\u003e\\u003cb\\u003eStart:\\u003c\\u002fb\\u003e 26170564\\u003cbr\\u003e\\u003cb\\u003eEnd:\\u003c\\u002fb\\u003e 26170767\\u003cbr\\u003e\\u003cb\\u003eSize:\\u003c\\u002fb\\u003e 203\\u003cbr\\u003e\\u003cextra\\u003e\\u003c\\u002fextra\\u003e\",\"legendgroup\":\"protein_coding\",\"legendgrouptitle\":{\"text\":\"\"},\"line\":{\"color\":\"black\",\"width\":0.25},\"marker\":{\"opacity\":0},\"mode\":\"lines+markers\",\"name\":\"protein_coding\",\"opacity\":1,\"showlegend\":false,\"x\":[5262,5465,5465,5262,5262],\"xaxis\":\"x\",\"y\":[3.85,3.85,4.15,4.15,3.85],\"yaxis\":\"y\",\"type\":\"scatter\"},{\"fill\":\"toself\",\"fillcolor\":\"#636EFA\",\"hoverlabel\":{\"namelength\":-1},\"hoveron\":\"fills+points\",\"hovertemplate\":\"\\u003cb\\u003etranscript_name:\\u003c\\u002fb\\u003e APP-201\\u003cbr\\u003e\\u003cb\\u003eFeature Type:\\u003c\\u002fb\\u003e CDS\\u003cbr\\u003e\\u003cb\\u003eFeature Number:\\u003c\\u002fb\\u003e 18\\u003cbr\\u003e\\u003cb\\u003eChromosome:\\u003c\\u002fb\\u003e 21\\u003cbr\\u003e\\u003cb\\u003eStart:\\u003c\\u002fb\\u003e 25881673\\u003cbr\\u003e\\u003cb\\u003eEnd:\\u003c\\u002fb\\u003e 25881771\\u003cbr\\u003e\\u003cb\\u003eSize:\\u003c\\u002fb\\u003e 98\\u003cbr\\u003e\\u003cextra\\u003e\\u003c\\u002fextra\\u003e\",\"legendgroup\":\"protein_coding\",\"legendgrouptitle\":{\"text\":\"\"},\"line\":{\"color\":\"black\",\"width\":0.25},\"marker\":{\"opacity\":0},\"mode\":\"lines+markers\",\"name\":\"protein_coding\",\"opacity\":1,\"showlegend\":false,\"x\":[1125,1223,1223,1125,1125],\"xaxis\":\"x\",\"y\":[-0.25,-0.25,0.25,0.25,-0.25],\"yaxis\":\"y\",\"type\":\"scatter\"},{\"fill\":\"toself\",\"fillcolor\":\"#636EFA\",\"hoverlabel\":{\"namelength\":-1},\"hoveron\":\"fills+points\",\"hovertemplate\":\"\\u003cb\\u003etranscript_name:\\u003c\\u002fb\\u003e APP-201\\u003cbr\\u003e\\u003cb\\u003eFeature Type:\\u003c\\u002fb\\u003e CDS\\u003cbr\\u003e\\u003cb\\u003eFeature Number:\\u003c\\u002fb\\u003e 17\\u003cbr\\u003e\\u003cb\\u003eChromosome:\\u003c\\u002fb\\u003e 21\\u003cbr\\u003e\\u003cb\\u003eStart:\\u003c\\u002fb\\u003e 25891722\\u003cbr\\u003e\\u003cb\\u003eEnd:\\u003c\\u002fb\\u003e 25891868\\u003cbr\\u003e\\u003cb\\u003eSize:\\u003c\\u002fb\\u003e 146\\u003cbr\\u003e\\u003cextra\\u003e\\u003c\\u002fextra\\u003e\",\"legendgroup\":\"protein_coding\",\"legendgrouptitle\":{\"text\":\"\"},\"line\":{\"color\":\"black\",\"width\":0.25},\"marker\":{\"opacity\":0},\"mode\":\"lines+markers\",\"name\":\"protein_coding\",\"opacity\":1,\"showlegend\":false,\"x\":[1324,1470,1470,1324,1324],\"xaxis\":\"x\",\"y\":[-0.25,-0.25,0.25,0.25,-0.25],\"yaxis\":\"y\",\"type\":\"scatter\"},{\"fill\":\"toself\",\"fillcolor\":\"#636EFA\",\"hoverlabel\":{\"namelength\":-1},\"hoveron\":\"fills+points\",\"hovertemplate\":\"\\u003cb\\u003etranscript_name:\\u003c\\u002fb\\u003e APP-201\\u003cbr\\u003e\\u003cb\\u003eFeature Type:\\u003c\\u002fb\\u003e CDS\\u003cbr\\u003e\\u003cb\\u003eFeature Number:\\u003c\\u002fb\\u003e 16\\u003cbr\\u003e\\u003cb\\u003eChromosome:\\u003c\\u002fb\\u003e 21\\u003cbr\\u003e\\u003cb\\u003eStart:\\u003c\\u002fb\\u003e 25897573\\u003cbr\\u003e\\u003cb\\u003eEnd:\\u003c\\u002fb\\u003e 25897673\\u003cbr\\u003e\\u003cb\\u003eSize:\\u003c\\u002fb\\u003e 100\\u003cbr\\u003e\\u003cextra\\u003e\\u003c\\u002fextra\\u003e\",\"legendgroup\":\"protein_coding\",\"legendgrouptitle\":{\"text\":\"\"},\"line\":{\"color\":\"black\",\"width\":0.25},\"marker\":{\"opacity\":0},\"mode\":\"lines+markers\",\"name\":\"protein_coding\",\"opacity\":1,\"showlegend\":false,\"x\":[1571,1671,1671,1571,1571],\"xaxis\":\"x\",\"y\":[-0.25,-0.25,0.25,0.25,-0.25],\"yaxis\":\"y\",\"type\":\"scatter\"},{\"fill\":\"toself\",\"fillcolor\":\"#636EFA\",\"hoverlabel\":{\"namelength\":-1},\"hoveron\":\"fills+points\",\"hovertemplate\":\"\\u003cb\\u003etranscript_name:\\u003c\\u002fb\\u003e APP-201\\u003cbr\\u003e\\u003cb\\u003eFeature Type:\\u003c\\u002fb\\u003e CDS\\u003cbr\\u003e\\u003cb\\u003eFeature Number:\\u003c\\u002fb\\u003e 15\\u003cbr\\u003e\\u003cb\\u003eChromosome:\\u003c\\u002fb\\u003e 21\\u003cbr\\u003e\\u003cb\\u003eStart:\\u003c\\u002fb\\u003e 25905024\\u003cbr\\u003e\\u003cb\\u003eEnd:\\u003c\\u002fb\\u003e 25905077\\u003cbr\\u003e\\u003cb\\u003eSize:\\u003c\\u002fb\\u003e 53\\u003cbr\\u003e\\u003cextra\\u003e\\u003c\\u002fextra\\u003e\",\"legendgroup\":\"protein_coding\",\"legendgrouptitle\":{\"text\":\"\"},\"line\":{\"color\":\"black\",\"width\":0.25},\"marker\":{\"opacity\":0},\"mode\":\"lines+markers\",\"name\":\"protein_coding\",\"opacity\":1,\"showlegend\":false,\"x\":[1772,1825,1825,1772,1772],\"xaxis\":\"x\",\"y\":[-0.25,-0.25,0.25,0.25,-0.25],\"yaxis\":\"y\",\"type\":\"scatter\"},{\"fill\":\"toself\",\"fillcolor\":\"#636EFA\",\"hoverlabel\":{\"namelength\":-1},\"hoveron\":\"fills+points\",\"hovertemplate\":\"\\u003cb\\u003etranscript_name:\\u003c\\u002fb\\u003e APP-201\\u003cbr\\u003e\\u003cb\\u003eFeature Type:\\u003c\\u002fb\\u003e CDS\\u003cbr\\u003e\\u003cb\\u003eFeature Number:\\u003c\\u002fb\\u003e 14\\u003cbr\\u003e\\u003cb\\u003eChromosome:\\u003c\\u002fb\\u003e 21\\u003cbr\\u003e\\u003cb\\u003eStart:\\u003c\\u002fb\\u003e 25911741\\u003cbr\\u003e\\u003cb\\u003eEnd:\\u003c\\u002fb\\u003e 25911962\\u003cbr\\u003e\\u003cb\\u003eSize:\\u003c\\u002fb\\u003e 221\\u003cbr\\u003e\\u003cextra\\u003e\\u003c\\u002fextra\\u003e\",\"legendgroup\":\"protein_coding\",\"legendgrouptitle\":{\"text\":\"\"},\"line\":{\"color\":\"black\",\"width\":0.25},\"marker\":{\"opacity\":0},\"mode\":\"lines+markers\",\"name\":\"protein_coding\",\"opacity\":1,\"showlegend\":false,\"x\":[1926,2147,2147,1926,1926],\"xaxis\":\"x\",\"y\":[-0.25,-0.25,0.25,0.25,-0.25],\"yaxis\":\"y\",\"type\":\"scatter\"},{\"fill\":\"toself\",\"fillcolor\":\"#636EFA\",\"hoverlabel\":{\"namelength\":-1},\"hoveron\":\"fills+points\",\"hovertemplate\":\"\\u003cb\\u003etranscript_name:\\u003c\\u002fb\\u003e APP-201\\u003cbr\\u003e\\u003cb\\u003eFeature Type:\\u003c\\u002fb\\u003e CDS\\u003cbr\\u003e\\u003cb\\u003eFeature Number:\\u003c\\u002fb\\u003e 13\\u003cbr\\u003e\\u003cb\\u003eChromosome:\\u003c\\u002fb\\u003e 21\\u003cbr\\u003e\\u003cb\\u003eStart:\\u003c\\u002fb\\u003e 25954590\\u003cbr\\u003e\\u003cb\\u003eEnd:\\u003c\\u002fb\\u003e 25954689\\u003cbr\\u003e\\u003cb\\u003eSize:\\u003c\\u002fb\\u003e 99\\u003cbr\\u003e\\u003cextra\\u003e\\u003c\\u002fextra\\u003e\",\"legendgroup\":\"protein_coding\",\"legendgrouptitle\":{\"text\":\"\"},\"line\":{\"color\":\"black\",\"width\":0.25},\"marker\":{\"opacity\":0},\"mode\":\"lines+markers\",\"name\":\"protein_coding\",\"opacity\":1,\"showlegend\":false,\"x\":[2432,2531,2531,2432,2432],\"xaxis\":\"x\",\"y\":[-0.25,-0.25,0.25,0.25,-0.25],\"yaxis\":\"y\",\"type\":\"scatter\"},{\"fill\":\"toself\",\"fillcolor\":\"#636EFA\",\"hoverlabel\":{\"namelength\":-1},\"hoveron\":\"fills+points\",\"hovertemplate\":\"\\u003cb\\u003etranscript_name:\\u003c\\u002fb\\u003e APP-201\\u003cbr\\u003e\\u003cb\\u003eFeature Type:\\u003c\\u002fb\\u003e CDS\\u003cbr\\u003e\\u003cb\\u003eFeature Number:\\u003c\\u002fb\\u003e 12\\u003cbr\\u003e\\u003cb\\u003eChromosome:\\u003c\\u002fb\\u003e 21\\u003cbr\\u003e\\u003cb\\u003eStart:\\u003c\\u002fb\\u003e 25955627\\u003cbr\\u003e\\u003cb\\u003eEnd:\\u003c\\u002fb\\u003e 25955755\\u003cbr\\u003e\\u003cb\\u003eSize:\\u003c\\u002fb\\u003e 128\\u003cbr\\u003e\\u003cextra\\u003e\\u003c\\u002fextra\\u003e\",\"legendgroup\":\"protein_coding\",\"legendgrouptitle\":{\"text\":\"\"},\"line\":{\"color\":\"black\",\"width\":0.25},\"marker\":{\"opacity\":0},\"mode\":\"lines+markers\",\"name\":\"protein_coding\",\"opacity\":1,\"showlegend\":false,\"x\":[2632,2760,2760,2632,2632],\"xaxis\":\"x\",\"y\":[-0.25,-0.25,0.25,0.25,-0.25],\"yaxis\":\"y\",\"type\":\"scatter\"},{\"fill\":\"toself\",\"fillcolor\":\"#636EFA\",\"hoverlabel\":{\"namelength\":-1},\"hoveron\":\"fills+points\",\"hovertemplate\":\"\\u003cb\\u003etranscript_name:\\u003c\\u002fb\\u003e APP-201\\u003cbr\\u003e\\u003cb\\u003eFeature Type:\\u003c\\u002fb\\u003e CDS\\u003cbr\\u003e\\u003cb\\u003eFeature Number:\\u003c\\u002fb\\u003e 11\\u003cbr\\u003e\\u003cb\\u003eChromosome:\\u003c\\u002fb\\u003e 21\\u003cbr\\u003e\\u003cb\\u003eStart:\\u003c\\u002fb\\u003e 25975070\\u003cbr\\u003e\\u003cb\\u003eEnd:\\u003c\\u002fb\\u003e 25975228\\u003cbr\\u003e\\u003cb\\u003eSize:\\u003c\\u002fb\\u003e 158\\u003cbr\\u003e\\u003cextra\\u003e\\u003c\\u002fextra\\u003e\",\"legendgroup\":\"protein_coding\",\"legendgrouptitle\":{\"text\":\"\"},\"line\":{\"color\":\"black\",\"width\":0.25},\"marker\":{\"opacity\":0},\"mode\":\"lines+markers\",\"name\":\"protein_coding\",\"opacity\":1,\"showlegend\":false,\"x\":[2861,3019,3019,2861,2861],\"xaxis\":\"x\",\"y\":[-0.25,-0.25,0.25,0.25,-0.25],\"yaxis\":\"y\",\"type\":\"scatter\"},{\"fill\":\"toself\",\"fillcolor\":\"#636EFA\",\"hoverlabel\":{\"namelength\":-1},\"hoveron\":\"fills+points\",\"hovertemplate\":\"\\u003cb\\u003etranscript_name:\\u003c\\u002fb\\u003e APP-201\\u003cbr\\u003e\\u003cb\\u003eFeature Type:\\u003c\\u002fb\\u003e CDS\\u003cbr\\u003e\\u003cb\\u003eFeature Number:\\u003c\\u002fb\\u003e 10\\u003cbr\\u003e\\u003cb\\u003eChromosome:\\u003c\\u002fb\\u003e 21\\u003cbr\\u003e\\u003cb\\u003eStart:\\u003c\\u002fb\\u003e 25975954\\u003cbr\\u003e\\u003cb\\u003eEnd:\\u003c\\u002fb\\u003e 25976028\\u003cbr\\u003e\\u003cb\\u003eSize:\\u003c\\u002fb\\u003e 74\\u003cbr\\u003e\\u003cextra\\u003e\\u003c\\u002fextra\\u003e\",\"legendgroup\":\"protein_coding\",\"legendgrouptitle\":{\"text\":\"\"},\"line\":{\"color\":\"black\",\"width\":0.25},\"marker\":{\"opacity\":0},\"mode\":\"lines+markers\",\"name\":\"protein_coding\",\"opacity\":1,\"showlegend\":false,\"x\":[3120,3194,3194,3120,3120],\"xaxis\":\"x\",\"y\":[-0.25,-0.25,0.25,0.25,-0.25],\"yaxis\":\"y\",\"type\":\"scatter\"},{\"fill\":\"toself\",\"fillcolor\":\"#636EFA\",\"hoverlabel\":{\"namelength\":-1},\"hoveron\":\"fills+points\",\"hovertemplate\":\"\\u003cb\\u003etranscript_name:\\u003c\\u002fb\\u003e APP-201\\u003cbr\\u003e\\u003cb\\u003eFeature Type:\\u003c\\u002fb\\u003e CDS\\u003cbr\\u003e\\u003cb\\u003eFeature Number:\\u003c\\u002fb\\u003e 9\\u003cbr\\u003e\\u003cb\\u003eChromosome:\\u003c\\u002fb\\u003e 21\\u003cbr\\u003e\\u003cb\\u003eStart:\\u003c\\u002fb\\u003e 25982344\\u003cbr\\u003e\\u003cb\\u003eEnd:\\u003c\\u002fb\\u003e 25982477\\u003cbr\\u003e\\u003cb\\u003eSize:\\u003c\\u002fb\\u003e 133\\u003cbr\\u003e\\u003cextra\\u003e\\u003c\\u002fextra\\u003e\",\"legendgroup\":\"protein_coding\",\"legendgrouptitle\":{\"text\":\"\"},\"line\":{\"color\":\"black\",\"width\":0.25},\"marker\":{\"opacity\":0},\"mode\":\"lines+markers\",\"name\":\"protein_coding\",\"opacity\":1,\"showlegend\":false,\"x\":[3295,3428,3428,3295,3295],\"xaxis\":\"x\",\"y\":[-0.25,-0.25,0.25,0.25,-0.25],\"yaxis\":\"y\",\"type\":\"scatter\"},{\"fill\":\"toself\",\"fillcolor\":\"#636EFA\",\"hoverlabel\":{\"namelength\":-1},\"hoveron\":\"fills+points\",\"hovertemplate\":\"\\u003cb\\u003etranscript_name:\\u003c\\u002fb\\u003e APP-201\\u003cbr\\u003e\\u003cb\\u003eFeature Type:\\u003c\\u002fb\\u003e CDS\\u003cbr\\u003e\\u003cb\\u003eFeature Number:\\u003c\\u002fb\\u003e 8\\u003cbr\\u003e\\u003cb\\u003eChromosome:\\u003c\\u002fb\\u003e 21\\u003cbr\\u003e\\u003cb\\u003eStart:\\u003c\\u002fb\\u003e 25997360\\u003cbr\\u003e\\u003cb\\u003eEnd:\\u003c\\u002fb\\u003e 25997416\\u003cbr\\u003e\\u003cb\\u003eSize:\\u003c\\u002fb\\u003e 56\\u003cbr\\u003e\\u003cextra\\u003e\\u003c\\u002fextra\\u003e\",\"legendgroup\":\"protein_coding\",\"legendgrouptitle\":{\"text\":\"\"},\"line\":{\"color\":\"black\",\"width\":0.25},\"marker\":{\"opacity\":0},\"mode\":\"lines+markers\",\"name\":\"protein_coding\",\"opacity\":1,\"showlegend\":false,\"x\":[3529,3585,3585,3529,3529],\"xaxis\":\"x\",\"y\":[-0.25,-0.25,0.25,0.25,-0.25],\"yaxis\":\"y\",\"type\":\"scatter\"},{\"fill\":\"toself\",\"fillcolor\":\"#636EFA\",\"hoverlabel\":{\"namelength\":-1},\"hoveron\":\"fills+points\",\"hovertemplate\":\"\\u003cb\\u003etranscript_name:\\u003c\\u002fb\\u003e APP-201\\u003cbr\\u003e\\u003cb\\u003eFeature Type:\\u003c\\u002fb\\u003e CDS\\u003cbr\\u003e\\u003cb\\u003eFeature Number:\\u003c\\u002fb\\u003e 7\\u003cbr\\u003e\\u003cb\\u003eChromosome:\\u003c\\u002fb\\u003e 21\\u003cbr\\u003e\\u003cb\\u003eStart:\\u003c\\u002fb\\u003e 26000015\\u003cbr\\u003e\\u003cb\\u003eEnd:\\u003c\\u002fb\\u003e 26000182\\u003cbr\\u003e\\u003cb\\u003eSize:\\u003c\\u002fb\\u003e 167\\u003cbr\\u003e\\u003cextra\\u003e\\u003c\\u002fextra\\u003e\",\"legendgroup\":\"protein_coding\",\"legendgrouptitle\":{\"text\":\"\"},\"line\":{\"color\":\"black\",\"width\":0.25},\"marker\":{\"opacity\":0},\"mode\":\"lines+markers\",\"name\":\"protein_coding\",\"opacity\":1,\"showlegend\":false,\"x\":[3686,3853,3853,3686,3686],\"xaxis\":\"x\",\"y\":[-0.25,-0.25,0.25,0.25,-0.25],\"yaxis\":\"y\",\"type\":\"scatter\"},{\"fill\":\"toself\",\"fillcolor\":\"#636EFA\",\"hoverlabel\":{\"namelength\":-1},\"hoveron\":\"fills+points\",\"hovertemplate\":\"\\u003cb\\u003etranscript_name:\\u003c\\u002fb\\u003e APP-201\\u003cbr\\u003e\\u003cb\\u003eFeature Type:\\u003c\\u002fb\\u003e CDS\\u003cbr\\u003e\\u003cb\\u003eFeature Number:\\u003c\\u002fb\\u003e 6\\u003cbr\\u003e\\u003cb\\u003eChromosome:\\u003c\\u002fb\\u003e 21\\u003cbr\\u003e\\u003cb\\u003eStart:\\u003c\\u002fb\\u003e 26021840\\u003cbr\\u003e\\u003cb\\u003eEnd:\\u003c\\u002fb\\u003e 26022042\\u003cbr\\u003e\\u003cb\\u003eSize:\\u003c\\u002fb\\u003e 202\\u003cbr\\u003e\\u003cextra\\u003e\\u003c\\u002fextra\\u003e\",\"legendgroup\":\"protein_coding\",\"legendgrouptitle\":{\"text\":\"\"},\"line\":{\"color\":\"black\",\"width\":0.25},\"marker\":{\"opacity\":0},\"mode\":\"lines+markers\",\"name\":\"protein_coding\",\"opacity\":1,\"showlegend\":false,\"x\":[3954,4156,4156,3954,3954],\"xaxis\":\"x\",\"y\":[-0.25,-0.25,0.25,0.25,-0.25],\"yaxis\":\"y\",\"type\":\"scatter\"},{\"fill\":\"toself\",\"fillcolor\":\"#636EFA\",\"hoverlabel\":{\"namelength\":-1},\"hoveron\":\"fills+points\",\"hovertemplate\":\"\\u003cb\\u003etranscript_name:\\u003c\\u002fb\\u003e APP-201\\u003cbr\\u003e\\u003cb\\u003eFeature Type:\\u003c\\u002fb\\u003e CDS\\u003cbr\\u003e\\u003cb\\u003eFeature Number:\\u003c\\u002fb\\u003e 5\\u003cbr\\u003e\\u003cb\\u003eChromosome:\\u003c\\u002fb\\u003e 21\\u003cbr\\u003e\\u003cb\\u003eStart:\\u003c\\u002fb\\u003e 26051000\\u003cbr\\u003e\\u003cb\\u003eEnd:\\u003c\\u002fb\\u003e 26051193\\u003cbr\\u003e\\u003cb\\u003eSize:\\u003c\\u002fb\\u003e 193\\u003cbr\\u003e\\u003cextra\\u003e\\u003c\\u002fextra\\u003e\",\"legendgroup\":\"protein_coding\",\"legendgrouptitle\":{\"text\":\"\"},\"line\":{\"color\":\"black\",\"width\":0.25},\"marker\":{\"opacity\":0},\"mode\":\"lines+markers\",\"name\":\"protein_coding\",\"opacity\":1,\"showlegend\":false,\"x\":[4257,4450,4450,4257,4257],\"xaxis\":\"x\",\"y\":[-0.25,-0.25,0.25,0.25,-0.25],\"yaxis\":\"y\",\"type\":\"scatter\"},{\"fill\":\"toself\",\"fillcolor\":\"#636EFA\",\"hoverlabel\":{\"namelength\":-1},\"hoveron\":\"fills+points\",\"hovertemplate\":\"\\u003cb\\u003etranscript_name:\\u003c\\u002fb\\u003e APP-201\\u003cbr\\u003e\\u003cb\\u003eFeature Type:\\u003c\\u002fb\\u003e CDS\\u003cbr\\u003e\\u003cb\\u003eFeature Number:\\u003c\\u002fb\\u003e 4\\u003cbr\\u003e\\u003cb\\u003eChromosome:\\u003c\\u002fb\\u003e 21\\u003cbr\\u003e\\u003cb\\u003eStart:\\u003c\\u002fb\\u003e 26053236\\u003cbr\\u003e\\u003cb\\u003eEnd:\\u003c\\u002fb\\u003e 26053348\\u003cbr\\u003e\\u003cb\\u003eSize:\\u003c\\u002fb\\u003e 112\\u003cbr\\u003e\\u003cextra\\u003e\\u003c\\u002fextra\\u003e\",\"legendgroup\":\"protein_coding\",\"legendgrouptitle\":{\"text\":\"\"},\"line\":{\"color\":\"black\",\"width\":0.25},\"marker\":{\"opacity\":0},\"mode\":\"lines+markers\",\"name\":\"protein_coding\",\"opacity\":1,\"showlegend\":false,\"x\":[4551,4663,4663,4551,4551],\"xaxis\":\"x\",\"y\":[-0.25,-0.25,0.25,0.25,-0.25],\"yaxis\":\"y\",\"type\":\"scatter\"},{\"fill\":\"toself\",\"fillcolor\":\"#636EFA\",\"hoverlabel\":{\"namelength\":-1},\"hoveron\":\"fills+points\",\"hovertemplate\":\"\\u003cb\\u003etranscript_name:\\u003c\\u002fb\\u003e APP-201\\u003cbr\\u003e\\u003cb\\u003eFeature Type:\\u003c\\u002fb\\u003e CDS\\u003cbr\\u003e\\u003cb\\u003eFeature Number:\\u003c\\u002fb\\u003e 3\\u003cbr\\u003e\\u003cb\\u003eChromosome:\\u003c\\u002fb\\u003e 21\\u003cbr\\u003e\\u003cb\\u003eStart:\\u003c\\u002fb\\u003e 26089943\\u003cbr\\u003e\\u003cb\\u003eEnd:\\u003c\\u002fb\\u003e 26090072\\u003cbr\\u003e\\u003cb\\u003eSize:\\u003c\\u002fb\\u003e 129\\u003cbr\\u003e\\u003cextra\\u003e\\u003c\\u002fextra\\u003e\",\"legendgroup\":\"protein_coding\",\"legendgrouptitle\":{\"text\":\"\"},\"line\":{\"color\":\"black\",\"width\":0.25},\"marker\":{\"opacity\":0},\"mode\":\"lines+markers\",\"name\":\"protein_coding\",\"opacity\":1,\"showlegend\":false,\"x\":[4764,4893,4893,4764,4764],\"xaxis\":\"x\",\"y\":[-0.25,-0.25,0.25,0.25,-0.25],\"yaxis\":\"y\",\"type\":\"scatter\"},{\"fill\":\"toself\",\"fillcolor\":\"#636EFA\",\"hoverlabel\":{\"namelength\":-1},\"hoveron\":\"fills+points\",\"hovertemplate\":\"\\u003cb\\u003etranscript_name:\\u003c\\u002fb\\u003e APP-201\\u003cbr\\u003e\\u003cb\\u003eFeature Type:\\u003c\\u002fb\\u003e CDS\\u003cbr\\u003e\\u003cb\\u003eFeature Number:\\u003c\\u002fb\\u003e 2\\u003cbr\\u003e\\u003cb\\u003eChromosome:\\u003c\\u002fb\\u003e 21\\u003cbr\\u003e\\u003cb\\u003eStart:\\u003c\\u002fb\\u003e 26111979\\u003cbr\\u003e\\u003cb\\u003eEnd:\\u003c\\u002fb\\u003e 26112146\\u003cbr\\u003e\\u003cb\\u003eSize:\\u003c\\u002fb\\u003e 167\\u003cbr\\u003e\\u003cextra\\u003e\\u003c\\u002fextra\\u003e\",\"legendgroup\":\"protein_coding\",\"legendgrouptitle\":{\"text\":\"\"},\"line\":{\"color\":\"black\",\"width\":0.25},\"marker\":{\"opacity\":0},\"mode\":\"lines+markers\",\"name\":\"protein_coding\",\"opacity\":1,\"showlegend\":false,\"x\":[4994,5161,5161,4994,4994],\"xaxis\":\"x\",\"y\":[-0.25,-0.25,0.25,0.25,-0.25],\"yaxis\":\"y\",\"type\":\"scatter\"},{\"fill\":\"toself\",\"fillcolor\":\"#636EFA\",\"hoverlabel\":{\"namelength\":-1},\"hoveron\":\"fills+points\",\"hovertemplate\":\"\\u003cb\\u003etranscript_name:\\u003c\\u002fb\\u003e APP-201\\u003cbr\\u003e\\u003cb\\u003eFeature Type:\\u003c\\u002fb\\u003e CDS\\u003cbr\\u003e\\u003cb\\u003eFeature Number:\\u003c\\u002fb\\u003e 1\\u003cbr\\u003e\\u003cb\\u003eChromosome:\\u003c\\u002fb\\u003e 21\\u003cbr\\u003e\\u003cb\\u003eStart:\\u003c\\u002fb\\u003e 26170564\\u003cbr\\u003e\\u003cb\\u003eEnd:\\u003c\\u002fb\\u003e 26170620\\u003cbr\\u003e\\u003cb\\u003eSize:\\u003c\\u002fb\\u003e 56\\u003cbr\\u003e\\u003cextra\\u003e\\u003c\\u002fextra\\u003e\",\"legendgroup\":\"protein_coding\",\"legendgrouptitle\":{\"text\":\"\"},\"line\":{\"color\":\"black\",\"width\":0.25},\"marker\":{\"opacity\":0},\"mode\":\"lines+markers\",\"name\":\"protein_coding\",\"opacity\":1,\"showlegend\":false,\"x\":[5262,5318,5318,5262,5262],\"xaxis\":\"x\",\"y\":[-0.25,-0.25,0.25,0.25,-0.25],\"yaxis\":\"y\",\"type\":\"scatter\"},{\"fill\":\"toself\",\"fillcolor\":\"#636EFA\",\"hoverlabel\":{\"namelength\":-1},\"hoveron\":\"fills+points\",\"hovertemplate\":\"\\u003cb\\u003etranscript_name:\\u003c\\u002fb\\u003e APP-206\\u003cbr\\u003e\\u003cb\\u003eFeature Type:\\u003c\\u002fb\\u003e CDS\\u003cbr\\u003e\\u003cb\\u003eFeature Number:\\u003c\\u002fb\\u003e 16\\u003cbr\\u003e\\u003cb\\u003eChromosome:\\u003c\\u002fb\\u003e 21\\u003cbr\\u003e\\u003cb\\u003eStart:\\u003c\\u002fb\\u003e 25881673\\u003cbr\\u003e\\u003cb\\u003eEnd:\\u003c\\u002fb\\u003e 25881771\\u003cbr\\u003e\\u003cb\\u003eSize:\\u003c\\u002fb\\u003e 98\\u003cbr\\u003e\\u003cextra\\u003e\\u003c\\u002fextra\\u003e\",\"legendgroup\":\"protein_coding\",\"legendgrouptitle\":{\"text\":\"\"},\"line\":{\"color\":\"black\",\"width\":0.25},\"marker\":{\"opacity\":0},\"mode\":\"lines+markers\",\"name\":\"protein_coding\",\"opacity\":1,\"showlegend\":false,\"x\":[1125,1223,1223,1125,1125],\"xaxis\":\"x\",\"y\":[1.75,1.75,2.25,2.25,1.75],\"yaxis\":\"y\",\"type\":\"scatter\"},{\"fill\":\"toself\",\"fillcolor\":\"#636EFA\",\"hoverlabel\":{\"namelength\":-1},\"hoveron\":\"fills+points\",\"hovertemplate\":\"\\u003cb\\u003etranscript_name:\\u003c\\u002fb\\u003e APP-206\\u003cbr\\u003e\\u003cb\\u003eFeature Type:\\u003c\\u002fb\\u003e CDS\\u003cbr\\u003e\\u003cb\\u003eFeature Number:\\u003c\\u002fb\\u003e 15\\u003cbr\\u003e\\u003cb\\u003eChromosome:\\u003c\\u002fb\\u003e 21\\u003cbr\\u003e\\u003cb\\u003eStart:\\u003c\\u002fb\\u003e 25891722\\u003cbr\\u003e\\u003cb\\u003eEnd:\\u003c\\u002fb\\u003e 25891868\\u003cbr\\u003e\\u003cb\\u003eSize:\\u003c\\u002fb\\u003e 146\\u003cbr\\u003e\\u003cextra\\u003e\\u003c\\u002fextra\\u003e\",\"legendgroup\":\"protein_coding\",\"legendgrouptitle\":{\"text\":\"\"},\"line\":{\"color\":\"black\",\"width\":0.25},\"marker\":{\"opacity\":0},\"mode\":\"lines+markers\",\"name\":\"protein_coding\",\"opacity\":1,\"showlegend\":false,\"x\":[1324,1470,1470,1324,1324],\"xaxis\":\"x\",\"y\":[1.75,1.75,2.25,2.25,1.75],\"yaxis\":\"y\",\"type\":\"scatter\"},{\"fill\":\"toself\",\"fillcolor\":\"#636EFA\",\"hoverlabel\":{\"namelength\":-1},\"hoveron\":\"fills+points\",\"hovertemplate\":\"\\u003cb\\u003etranscript_name:\\u003c\\u002fb\\u003e APP-206\\u003cbr\\u003e\\u003cb\\u003eFeature Type:\\u003c\\u002fb\\u003e CDS\\u003cbr\\u003e\\u003cb\\u003eFeature Number:\\u003c\\u002fb\\u003e 14\\u003cbr\\u003e\\u003cb\\u003eChromosome:\\u003c\\u002fb\\u003e 21\\u003cbr\\u003e\\u003cb\\u003eStart:\\u003c\\u002fb\\u003e 25897573\\u003cbr\\u003e\\u003cb\\u003eEnd:\\u003c\\u002fb\\u003e 25897673\\u003cbr\\u003e\\u003cb\\u003eSize:\\u003c\\u002fb\\u003e 100\\u003cbr\\u003e\\u003cextra\\u003e\\u003c\\u002fextra\\u003e\",\"legendgroup\":\"protein_coding\",\"legendgrouptitle\":{\"text\":\"\"},\"line\":{\"color\":\"black\",\"width\":0.25},\"marker\":{\"opacity\":0},\"mode\":\"lines+markers\",\"name\":\"protein_coding\",\"opacity\":1,\"showlegend\":false,\"x\":[1571,1671,1671,1571,1571],\"xaxis\":\"x\",\"y\":[1.75,1.75,2.25,2.25,1.75],\"yaxis\":\"y\",\"type\":\"scatter\"},{\"fill\":\"toself\",\"fillcolor\":\"#636EFA\",\"hoverlabel\":{\"namelength\":-1},\"hoveron\":\"fills+points\",\"hovertemplate\":\"\\u003cb\\u003etranscript_name:\\u003c\\u002fb\\u003e APP-206\\u003cbr\\u003e\\u003cb\\u003eFeature Type:\\u003c\\u002fb\\u003e CDS\\u003cbr\\u003e\\u003cb\\u003eFeature Number:\\u003c\\u002fb\\u003e 13\\u003cbr\\u003e\\u003cb\\u003eChromosome:\\u003c\\u002fb\\u003e 21\\u003cbr\\u003e\\u003cb\\u003eStart:\\u003c\\u002fb\\u003e 25905024\\u003cbr\\u003e\\u003cb\\u003eEnd:\\u003c\\u002fb\\u003e 25905077\\u003cbr\\u003e\\u003cb\\u003eSize:\\u003c\\u002fb\\u003e 53\\u003cbr\\u003e\\u003cextra\\u003e\\u003c\\u002fextra\\u003e\",\"legendgroup\":\"protein_coding\",\"legendgrouptitle\":{\"text\":\"\"},\"line\":{\"color\":\"black\",\"width\":0.25},\"marker\":{\"opacity\":0},\"mode\":\"lines+markers\",\"name\":\"protein_coding\",\"opacity\":1,\"showlegend\":false,\"x\":[1772,1825,1825,1772,1772],\"xaxis\":\"x\",\"y\":[1.75,1.75,2.25,2.25,1.75],\"yaxis\":\"y\",\"type\":\"scatter\"},{\"fill\":\"toself\",\"fillcolor\":\"#636EFA\",\"hoverlabel\":{\"namelength\":-1},\"hoveron\":\"fills+points\",\"hovertemplate\":\"\\u003cb\\u003etranscript_name:\\u003c\\u002fb\\u003e APP-206\\u003cbr\\u003e\\u003cb\\u003eFeature Type:\\u003c\\u002fb\\u003e CDS\\u003cbr\\u003e\\u003cb\\u003eFeature Number:\\u003c\\u002fb\\u003e 12\\u003cbr\\u003e\\u003cb\\u003eChromosome:\\u003c\\u002fb\\u003e 21\\u003cbr\\u003e\\u003cb\\u003eStart:\\u003c\\u002fb\\u003e 25911741\\u003cbr\\u003e\\u003cb\\u003eEnd:\\u003c\\u002fb\\u003e 25911962\\u003cbr\\u003e\\u003cb\\u003eSize:\\u003c\\u002fb\\u003e 221\\u003cbr\\u003e\\u003cextra\\u003e\\u003c\\u002fextra\\u003e\",\"legendgroup\":\"protein_coding\",\"legendgrouptitle\":{\"text\":\"\"},\"line\":{\"color\":\"black\",\"width\":0.25},\"marker\":{\"opacity\":0},\"mode\":\"lines+markers\",\"name\":\"protein_coding\",\"opacity\":1,\"showlegend\":false,\"x\":[1926,2147,2147,1926,1926],\"xaxis\":\"x\",\"y\":[1.75,1.75,2.25,2.25,1.75],\"yaxis\":\"y\",\"type\":\"scatter\"},{\"fill\":\"toself\",\"fillcolor\":\"#636EFA\",\"hoverlabel\":{\"namelength\":-1},\"hoveron\":\"fills+points\",\"hovertemplate\":\"\\u003cb\\u003etranscript_name:\\u003c\\u002fb\\u003e APP-206\\u003cbr\\u003e\\u003cb\\u003eFeature Type:\\u003c\\u002fb\\u003e CDS\\u003cbr\\u003e\\u003cb\\u003eFeature Number:\\u003c\\u002fb\\u003e 11\\u003cbr\\u003e\\u003cb\\u003eChromosome:\\u003c\\u002fb\\u003e 21\\u003cbr\\u003e\\u003cb\\u003eStart:\\u003c\\u002fb\\u003e 25954590\\u003cbr\\u003e\\u003cb\\u003eEnd:\\u003c\\u002fb\\u003e 25954689\\u003cbr\\u003e\\u003cb\\u003eSize:\\u003c\\u002fb\\u003e 99\\u003cbr\\u003e\\u003cextra\\u003e\\u003c\\u002fextra\\u003e\",\"legendgroup\":\"protein_coding\",\"legendgrouptitle\":{\"text\":\"\"},\"line\":{\"color\":\"black\",\"width\":0.25},\"marker\":{\"opacity\":0},\"mode\":\"lines+markers\",\"name\":\"protein_coding\",\"opacity\":1,\"showlegend\":false,\"x\":[2432,2531,2531,2432,2432],\"xaxis\":\"x\",\"y\":[1.75,1.75,2.25,2.25,1.75],\"yaxis\":\"y\",\"type\":\"scatter\"},{\"fill\":\"toself\",\"fillcolor\":\"#636EFA\",\"hoverlabel\":{\"namelength\":-1},\"hoveron\":\"fills+points\",\"hovertemplate\":\"\\u003cb\\u003etranscript_name:\\u003c\\u002fb\\u003e APP-206\\u003cbr\\u003e\\u003cb\\u003eFeature Type:\\u003c\\u002fb\\u003e CDS\\u003cbr\\u003e\\u003cb\\u003eFeature Number:\\u003c\\u002fb\\u003e 10\\u003cbr\\u003e\\u003cb\\u003eChromosome:\\u003c\\u002fb\\u003e 21\\u003cbr\\u003e\\u003cb\\u003eStart:\\u003c\\u002fb\\u003e 25955627\\u003cbr\\u003e\\u003cb\\u003eEnd:\\u003c\\u002fb\\u003e 25955755\\u003cbr\\u003e\\u003cb\\u003eSize:\\u003c\\u002fb\\u003e 128\\u003cbr\\u003e\\u003cextra\\u003e\\u003c\\u002fextra\\u003e\",\"legendgroup\":\"protein_coding\",\"legendgrouptitle\":{\"text\":\"\"},\"line\":{\"color\":\"black\",\"width\":0.25},\"marker\":{\"opacity\":0},\"mode\":\"lines+markers\",\"name\":\"protein_coding\",\"opacity\":1,\"showlegend\":false,\"x\":[2632,2760,2760,2632,2632],\"xaxis\":\"x\",\"y\":[1.75,1.75,2.25,2.25,1.75],\"yaxis\":\"y\",\"type\":\"scatter\"},{\"fill\":\"toself\",\"fillcolor\":\"#636EFA\",\"hoverlabel\":{\"namelength\":-1},\"hoveron\":\"fills+points\",\"hovertemplate\":\"\\u003cb\\u003etranscript_name:\\u003c\\u002fb\\u003e APP-206\\u003cbr\\u003e\\u003cb\\u003eFeature Type:\\u003c\\u002fb\\u003e CDS\\u003cbr\\u003e\\u003cb\\u003eFeature Number:\\u003c\\u002fb\\u003e 9\\u003cbr\\u003e\\u003cb\\u003eChromosome:\\u003c\\u002fb\\u003e 21\\u003cbr\\u003e\\u003cb\\u003eStart:\\u003c\\u002fb\\u003e 25975070\\u003cbr\\u003e\\u003cb\\u003eEnd:\\u003c\\u002fb\\u003e 25975228\\u003cbr\\u003e\\u003cb\\u003eSize:\\u003c\\u002fb\\u003e 158\\u003cbr\\u003e\\u003cextra\\u003e\\u003c\\u002fextra\\u003e\",\"legendgroup\":\"protein_coding\",\"legendgrouptitle\":{\"text\":\"\"},\"line\":{\"color\":\"black\",\"width\":0.25},\"marker\":{\"opacity\":0},\"mode\":\"lines+markers\",\"name\":\"protein_coding\",\"opacity\":1,\"showlegend\":false,\"x\":[2861,3019,3019,2861,2861],\"xaxis\":\"x\",\"y\":[1.75,1.75,2.25,2.25,1.75],\"yaxis\":\"y\",\"type\":\"scatter\"},{\"fill\":\"toself\",\"fillcolor\":\"#636EFA\",\"hoverlabel\":{\"namelength\":-1},\"hoveron\":\"fills+points\",\"hovertemplate\":\"\\u003cb\\u003etranscript_name:\\u003c\\u002fb\\u003e APP-206\\u003cbr\\u003e\\u003cb\\u003eFeature Type:\\u003c\\u002fb\\u003e CDS\\u003cbr\\u003e\\u003cb\\u003eFeature Number:\\u003c\\u002fb\\u003e 8\\u003cbr\\u003e\\u003cb\\u003eChromosome:\\u003c\\u002fb\\u003e 21\\u003cbr\\u003e\\u003cb\\u003eStart:\\u003c\\u002fb\\u003e 25975954\\u003cbr\\u003e\\u003cb\\u003eEnd:\\u003c\\u002fb\\u003e 25976028\\u003cbr\\u003e\\u003cb\\u003eSize:\\u003c\\u002fb\\u003e 74\\u003cbr\\u003e\\u003cextra\\u003e\\u003c\\u002fextra\\u003e\",\"legendgroup\":\"protein_coding\",\"legendgrouptitle\":{\"text\":\"\"},\"line\":{\"color\":\"black\",\"width\":0.25},\"marker\":{\"opacity\":0},\"mode\":\"lines+markers\",\"name\":\"protein_coding\",\"opacity\":1,\"showlegend\":false,\"x\":[3120,3194,3194,3120,3120],\"xaxis\":\"x\",\"y\":[1.75,1.75,2.25,2.25,1.75],\"yaxis\":\"y\",\"type\":\"scatter\"},{\"fill\":\"toself\",\"fillcolor\":\"#636EFA\",\"hoverlabel\":{\"namelength\":-1},\"hoveron\":\"fills+points\",\"hovertemplate\":\"\\u003cb\\u003etranscript_name:\\u003c\\u002fb\\u003e APP-206\\u003cbr\\u003e\\u003cb\\u003eFeature Type:\\u003c\\u002fb\\u003e CDS\\u003cbr\\u003e\\u003cb\\u003eFeature Number:\\u003c\\u002fb\\u003e 7\\u003cbr\\u003e\\u003cb\\u003eChromosome:\\u003c\\u002fb\\u003e 21\\u003cbr\\u003e\\u003cb\\u003eStart:\\u003c\\u002fb\\u003e 25982344\\u003cbr\\u003e\\u003cb\\u003eEnd:\\u003c\\u002fb\\u003e 25982477\\u003cbr\\u003e\\u003cb\\u003eSize:\\u003c\\u002fb\\u003e 133\\u003cbr\\u003e\\u003cextra\\u003e\\u003c\\u002fextra\\u003e\",\"legendgroup\":\"protein_coding\",\"legendgrouptitle\":{\"text\":\"\"},\"line\":{\"color\":\"black\",\"width\":0.25},\"marker\":{\"opacity\":0},\"mode\":\"lines+markers\",\"name\":\"protein_coding\",\"opacity\":1,\"showlegend\":false,\"x\":[3295,3428,3428,3295,3295],\"xaxis\":\"x\",\"y\":[1.75,1.75,2.25,2.25,1.75],\"yaxis\":\"y\",\"type\":\"scatter\"},{\"fill\":\"toself\",\"fillcolor\":\"#636EFA\",\"hoverlabel\":{\"namelength\":-1},\"hoveron\":\"fills+points\",\"hovertemplate\":\"\\u003cb\\u003etranscript_name:\\u003c\\u002fb\\u003e APP-206\\u003cbr\\u003e\\u003cb\\u003eFeature Type:\\u003c\\u002fb\\u003e CDS\\u003cbr\\u003e\\u003cb\\u003eFeature Number:\\u003c\\u002fb\\u003e 6\\u003cbr\\u003e\\u003cb\\u003eChromosome:\\u003c\\u002fb\\u003e 21\\u003cbr\\u003e\\u003cb\\u003eStart:\\u003c\\u002fb\\u003e 26021840\\u003cbr\\u003e\\u003cb\\u003eEnd:\\u003c\\u002fb\\u003e 26022042\\u003cbr\\u003e\\u003cb\\u003eSize:\\u003c\\u002fb\\u003e 202\\u003cbr\\u003e\\u003cextra\\u003e\\u003c\\u002fextra\\u003e\",\"legendgroup\":\"protein_coding\",\"legendgrouptitle\":{\"text\":\"\"},\"line\":{\"color\":\"black\",\"width\":0.25},\"marker\":{\"opacity\":0},\"mode\":\"lines+markers\",\"name\":\"protein_coding\",\"opacity\":1,\"showlegend\":false,\"x\":[3954,4156,4156,3954,3954],\"xaxis\":\"x\",\"y\":[1.75,1.75,2.25,2.25,1.75],\"yaxis\":\"y\",\"type\":\"scatter\"},{\"fill\":\"toself\",\"fillcolor\":\"#636EFA\",\"hoverlabel\":{\"namelength\":-1},\"hoveron\":\"fills+points\",\"hovertemplate\":\"\\u003cb\\u003etranscript_name:\\u003c\\u002fb\\u003e APP-206\\u003cbr\\u003e\\u003cb\\u003eFeature Type:\\u003c\\u002fb\\u003e CDS\\u003cbr\\u003e\\u003cb\\u003eFeature Number:\\u003c\\u002fb\\u003e 5\\u003cbr\\u003e\\u003cb\\u003eChromosome:\\u003c\\u002fb\\u003e 21\\u003cbr\\u003e\\u003cb\\u003eStart:\\u003c\\u002fb\\u003e 26051000\\u003cbr\\u003e\\u003cb\\u003eEnd:\\u003c\\u002fb\\u003e 26051193\\u003cbr\\u003e\\u003cb\\u003eSize:\\u003c\\u002fb\\u003e 193\\u003cbr\\u003e\\u003cextra\\u003e\\u003c\\u002fextra\\u003e\",\"legendgroup\":\"protein_coding\",\"legendgrouptitle\":{\"text\":\"\"},\"line\":{\"color\":\"black\",\"width\":0.25},\"marker\":{\"opacity\":0},\"mode\":\"lines+markers\",\"name\":\"protein_coding\",\"opacity\":1,\"showlegend\":false,\"x\":[4257,4450,4450,4257,4257],\"xaxis\":\"x\",\"y\":[1.75,1.75,2.25,2.25,1.75],\"yaxis\":\"y\",\"type\":\"scatter\"},{\"fill\":\"toself\",\"fillcolor\":\"#636EFA\",\"hoverlabel\":{\"namelength\":-1},\"hoveron\":\"fills+points\",\"hovertemplate\":\"\\u003cb\\u003etranscript_name:\\u003c\\u002fb\\u003e APP-206\\u003cbr\\u003e\\u003cb\\u003eFeature Type:\\u003c\\u002fb\\u003e CDS\\u003cbr\\u003e\\u003cb\\u003eFeature Number:\\u003c\\u002fb\\u003e 4\\u003cbr\\u003e\\u003cb\\u003eChromosome:\\u003c\\u002fb\\u003e 21\\u003cbr\\u003e\\u003cb\\u003eStart:\\u003c\\u002fb\\u003e 26053236\\u003cbr\\u003e\\u003cb\\u003eEnd:\\u003c\\u002fb\\u003e 26053348\\u003cbr\\u003e\\u003cb\\u003eSize:\\u003c\\u002fb\\u003e 112\\u003cbr\\u003e\\u003cextra\\u003e\\u003c\\u002fextra\\u003e\",\"legendgroup\":\"protein_coding\",\"legendgrouptitle\":{\"text\":\"\"},\"line\":{\"color\":\"black\",\"width\":0.25},\"marker\":{\"opacity\":0},\"mode\":\"lines+markers\",\"name\":\"protein_coding\",\"opacity\":1,\"showlegend\":false,\"x\":[4551,4663,4663,4551,4551],\"xaxis\":\"x\",\"y\":[1.75,1.75,2.25,2.25,1.75],\"yaxis\":\"y\",\"type\":\"scatter\"},{\"fill\":\"toself\",\"fillcolor\":\"#636EFA\",\"hoverlabel\":{\"namelength\":-1},\"hoveron\":\"fills+points\",\"hovertemplate\":\"\\u003cb\\u003etranscript_name:\\u003c\\u002fb\\u003e APP-206\\u003cbr\\u003e\\u003cb\\u003eFeature Type:\\u003c\\u002fb\\u003e CDS\\u003cbr\\u003e\\u003cb\\u003eFeature Number:\\u003c\\u002fb\\u003e 3\\u003cbr\\u003e\\u003cb\\u003eChromosome:\\u003c\\u002fb\\u003e 21\\u003cbr\\u003e\\u003cb\\u003eStart:\\u003c\\u002fb\\u003e 26089943\\u003cbr\\u003e\\u003cb\\u003eEnd:\\u003c\\u002fb\\u003e 26090072\\u003cbr\\u003e\\u003cb\\u003eSize:\\u003c\\u002fb\\u003e 129\\u003cbr\\u003e\\u003cextra\\u003e\\u003c\\u002fextra\\u003e\",\"legendgroup\":\"protein_coding\",\"legendgrouptitle\":{\"text\":\"\"},\"line\":{\"color\":\"black\",\"width\":0.25},\"marker\":{\"opacity\":0},\"mode\":\"lines+markers\",\"name\":\"protein_coding\",\"opacity\":1,\"showlegend\":false,\"x\":[4764,4893,4893,4764,4764],\"xaxis\":\"x\",\"y\":[1.75,1.75,2.25,2.25,1.75],\"yaxis\":\"y\",\"type\":\"scatter\"},{\"fill\":\"toself\",\"fillcolor\":\"#636EFA\",\"hoverlabel\":{\"namelength\":-1},\"hoveron\":\"fills+points\",\"hovertemplate\":\"\\u003cb\\u003etranscript_name:\\u003c\\u002fb\\u003e APP-206\\u003cbr\\u003e\\u003cb\\u003eFeature Type:\\u003c\\u002fb\\u003e CDS\\u003cbr\\u003e\\u003cb\\u003eFeature Number:\\u003c\\u002fb\\u003e 2\\u003cbr\\u003e\\u003cb\\u003eChromosome:\\u003c\\u002fb\\u003e 21\\u003cbr\\u003e\\u003cb\\u003eStart:\\u003c\\u002fb\\u003e 26111979\\u003cbr\\u003e\\u003cb\\u003eEnd:\\u003c\\u002fb\\u003e 26112098\\u003cbr\\u003e\\u003cb\\u003eSize:\\u003c\\u002fb\\u003e 119\\u003cbr\\u003e\\u003cextra\\u003e\\u003c\\u002fextra\\u003e\",\"legendgroup\":\"protein_coding\",\"legendgrouptitle\":{\"text\":\"\"},\"line\":{\"color\":\"black\",\"width\":0.25},\"marker\":{\"opacity\":0},\"mode\":\"lines+markers\",\"name\":\"protein_coding\",\"opacity\":1,\"showlegend\":false,\"x\":[4994,5113,5113,4994,4994],\"xaxis\":\"x\",\"y\":[1.75,1.75,2.25,2.25,1.75],\"yaxis\":\"y\",\"type\":\"scatter\"},{\"fill\":\"toself\",\"fillcolor\":\"#636EFA\",\"hoverlabel\":{\"namelength\":-1},\"hoveron\":\"fills+points\",\"hovertemplate\":\"\\u003cb\\u003etranscript_name:\\u003c\\u002fb\\u003e APP-204\\u003cbr\\u003e\\u003cb\\u003eFeature Type:\\u003c\\u002fb\\u003e CDS\\u003cbr\\u003e\\u003cb\\u003eFeature Number:\\u003c\\u002fb\\u003e 17\\u003cbr\\u003e\\u003cb\\u003eChromosome:\\u003c\\u002fb\\u003e 21\\u003cbr\\u003e\\u003cb\\u003eStart:\\u003c\\u002fb\\u003e 25881673\\u003cbr\\u003e\\u003cb\\u003eEnd:\\u003c\\u002fb\\u003e 25881771\\u003cbr\\u003e\\u003cb\\u003eSize:\\u003c\\u002fb\\u003e 98\\u003cbr\\u003e\\u003cextra\\u003e\\u003c\\u002fextra\\u003e\",\"legendgroup\":\"protein_coding\",\"legendgrouptitle\":{\"text\":\"\"},\"line\":{\"color\":\"black\",\"width\":0.25},\"marker\":{\"opacity\":0},\"mode\":\"lines+markers\",\"name\":\"protein_coding\",\"opacity\":1,\"showlegend\":false,\"x\":[1125,1223,1223,1125,1125],\"xaxis\":\"x\",\"y\":[2.75,2.75,3.25,3.25,2.75],\"yaxis\":\"y\",\"type\":\"scatter\"},{\"fill\":\"toself\",\"fillcolor\":\"#636EFA\",\"hoverlabel\":{\"namelength\":-1},\"hoveron\":\"fills+points\",\"hovertemplate\":\"\\u003cb\\u003etranscript_name:\\u003c\\u002fb\\u003e APP-204\\u003cbr\\u003e\\u003cb\\u003eFeature Type:\\u003c\\u002fb\\u003e CDS\\u003cbr\\u003e\\u003cb\\u003eFeature Number:\\u003c\\u002fb\\u003e 16\\u003cbr\\u003e\\u003cb\\u003eChromosome:\\u003c\\u002fb\\u003e 21\\u003cbr\\u003e\\u003cb\\u003eStart:\\u003c\\u002fb\\u003e 25891722\\u003cbr\\u003e\\u003cb\\u003eEnd:\\u003c\\u002fb\\u003e 25891868\\u003cbr\\u003e\\u003cb\\u003eSize:\\u003c\\u002fb\\u003e 146\\u003cbr\\u003e\\u003cextra\\u003e\\u003c\\u002fextra\\u003e\",\"legendgroup\":\"protein_coding\",\"legendgrouptitle\":{\"text\":\"\"},\"line\":{\"color\":\"black\",\"width\":0.25},\"marker\":{\"opacity\":0},\"mode\":\"lines+markers\",\"name\":\"protein_coding\",\"opacity\":1,\"showlegend\":false,\"x\":[1324,1470,1470,1324,1324],\"xaxis\":\"x\",\"y\":[2.75,2.75,3.25,3.25,2.75],\"yaxis\":\"y\",\"type\":\"scatter\"},{\"fill\":\"toself\",\"fillcolor\":\"#636EFA\",\"hoverlabel\":{\"namelength\":-1},\"hoveron\":\"fills+points\",\"hovertemplate\":\"\\u003cb\\u003etranscript_name:\\u003c\\u002fb\\u003e APP-204\\u003cbr\\u003e\\u003cb\\u003eFeature Type:\\u003c\\u002fb\\u003e CDS\\u003cbr\\u003e\\u003cb\\u003eFeature Number:\\u003c\\u002fb\\u003e 15\\u003cbr\\u003e\\u003cb\\u003eChromosome:\\u003c\\u002fb\\u003e 21\\u003cbr\\u003e\\u003cb\\u003eStart:\\u003c\\u002fb\\u003e 25897573\\u003cbr\\u003e\\u003cb\\u003eEnd:\\u003c\\u002fb\\u003e 25897673\\u003cbr\\u003e\\u003cb\\u003eSize:\\u003c\\u002fb\\u003e 100\\u003cbr\\u003e\\u003cextra\\u003e\\u003c\\u002fextra\\u003e\",\"legendgroup\":\"protein_coding\",\"legendgrouptitle\":{\"text\":\"\"},\"line\":{\"color\":\"black\",\"width\":0.25},\"marker\":{\"opacity\":0},\"mode\":\"lines+markers\",\"name\":\"protein_coding\",\"opacity\":1,\"showlegend\":false,\"x\":[1571,1671,1671,1571,1571],\"xaxis\":\"x\",\"y\":[2.75,2.75,3.25,3.25,2.75],\"yaxis\":\"y\",\"type\":\"scatter\"},{\"fill\":\"toself\",\"fillcolor\":\"#636EFA\",\"hoverlabel\":{\"namelength\":-1},\"hoveron\":\"fills+points\",\"hovertemplate\":\"\\u003cb\\u003etranscript_name:\\u003c\\u002fb\\u003e APP-204\\u003cbr\\u003e\\u003cb\\u003eFeature Type:\\u003c\\u002fb\\u003e CDS\\u003cbr\\u003e\\u003cb\\u003eFeature Number:\\u003c\\u002fb\\u003e 14\\u003cbr\\u003e\\u003cb\\u003eChromosome:\\u003c\\u002fb\\u003e 21\\u003cbr\\u003e\\u003cb\\u003eStart:\\u003c\\u002fb\\u003e 25905024\\u003cbr\\u003e\\u003cb\\u003eEnd:\\u003c\\u002fb\\u003e 25905077\\u003cbr\\u003e\\u003cb\\u003eSize:\\u003c\\u002fb\\u003e 53\\u003cbr\\u003e\\u003cextra\\u003e\\u003c\\u002fextra\\u003e\",\"legendgroup\":\"protein_coding\",\"legendgrouptitle\":{\"text\":\"\"},\"line\":{\"color\":\"black\",\"width\":0.25},\"marker\":{\"opacity\":0},\"mode\":\"lines+markers\",\"name\":\"protein_coding\",\"opacity\":1,\"showlegend\":false,\"x\":[1772,1825,1825,1772,1772],\"xaxis\":\"x\",\"y\":[2.75,2.75,3.25,3.25,2.75],\"yaxis\":\"y\",\"type\":\"scatter\"},{\"fill\":\"toself\",\"fillcolor\":\"#636EFA\",\"hoverlabel\":{\"namelength\":-1},\"hoveron\":\"fills+points\",\"hovertemplate\":\"\\u003cb\\u003etranscript_name:\\u003c\\u002fb\\u003e APP-204\\u003cbr\\u003e\\u003cb\\u003eFeature Type:\\u003c\\u002fb\\u003e CDS\\u003cbr\\u003e\\u003cb\\u003eFeature Number:\\u003c\\u002fb\\u003e 13\\u003cbr\\u003e\\u003cb\\u003eChromosome:\\u003c\\u002fb\\u003e 21\\u003cbr\\u003e\\u003cb\\u003eStart:\\u003c\\u002fb\\u003e 25911741\\u003cbr\\u003e\\u003cb\\u003eEnd:\\u003c\\u002fb\\u003e 25911962\\u003cbr\\u003e\\u003cb\\u003eSize:\\u003c\\u002fb\\u003e 221\\u003cbr\\u003e\\u003cextra\\u003e\\u003c\\u002fextra\\u003e\",\"legendgroup\":\"protein_coding\",\"legendgrouptitle\":{\"text\":\"\"},\"line\":{\"color\":\"black\",\"width\":0.25},\"marker\":{\"opacity\":0},\"mode\":\"lines+markers\",\"name\":\"protein_coding\",\"opacity\":1,\"showlegend\":false,\"x\":[1926,2147,2147,1926,1926],\"xaxis\":\"x\",\"y\":[2.75,2.75,3.25,3.25,2.75],\"yaxis\":\"y\",\"type\":\"scatter\"},{\"fill\":\"toself\",\"fillcolor\":\"#636EFA\",\"hoverlabel\":{\"namelength\":-1},\"hoveron\":\"fills+points\",\"hovertemplate\":\"\\u003cb\\u003etranscript_name:\\u003c\\u002fb\\u003e APP-204\\u003cbr\\u003e\\u003cb\\u003eFeature Type:\\u003c\\u002fb\\u003e CDS\\u003cbr\\u003e\\u003cb\\u003eFeature Number:\\u003c\\u002fb\\u003e 12\\u003cbr\\u003e\\u003cb\\u003eChromosome:\\u003c\\u002fb\\u003e 21\\u003cbr\\u003e\\u003cb\\u003eStart:\\u003c\\u002fb\\u003e 25954590\\u003cbr\\u003e\\u003cb\\u003eEnd:\\u003c\\u002fb\\u003e 25954689\\u003cbr\\u003e\\u003cb\\u003eSize:\\u003c\\u002fb\\u003e 99\\u003cbr\\u003e\\u003cextra\\u003e\\u003c\\u002fextra\\u003e\",\"legendgroup\":\"protein_coding\",\"legendgrouptitle\":{\"text\":\"\"},\"line\":{\"color\":\"black\",\"width\":0.25},\"marker\":{\"opacity\":0},\"mode\":\"lines+markers\",\"name\":\"protein_coding\",\"opacity\":1,\"showlegend\":false,\"x\":[2432,2531,2531,2432,2432],\"xaxis\":\"x\",\"y\":[2.75,2.75,3.25,3.25,2.75],\"yaxis\":\"y\",\"type\":\"scatter\"},{\"fill\":\"toself\",\"fillcolor\":\"#636EFA\",\"hoverlabel\":{\"namelength\":-1},\"hoveron\":\"fills+points\",\"hovertemplate\":\"\\u003cb\\u003etranscript_name:\\u003c\\u002fb\\u003e APP-204\\u003cbr\\u003e\\u003cb\\u003eFeature Type:\\u003c\\u002fb\\u003e CDS\\u003cbr\\u003e\\u003cb\\u003eFeature Number:\\u003c\\u002fb\\u003e 11\\u003cbr\\u003e\\u003cb\\u003eChromosome:\\u003c\\u002fb\\u003e 21\\u003cbr\\u003e\\u003cb\\u003eStart:\\u003c\\u002fb\\u003e 25955627\\u003cbr\\u003e\\u003cb\\u003eEnd:\\u003c\\u002fb\\u003e 25955755\\u003cbr\\u003e\\u003cb\\u003eSize:\\u003c\\u002fb\\u003e 128\\u003cbr\\u003e\\u003cextra\\u003e\\u003c\\u002fextra\\u003e\",\"legendgroup\":\"protein_coding\",\"legendgrouptitle\":{\"text\":\"\"},\"line\":{\"color\":\"black\",\"width\":0.25},\"marker\":{\"opacity\":0},\"mode\":\"lines+markers\",\"name\":\"protein_coding\",\"opacity\":1,\"showlegend\":false,\"x\":[2632,2760,2760,2632,2632],\"xaxis\":\"x\",\"y\":[2.75,2.75,3.25,3.25,2.75],\"yaxis\":\"y\",\"type\":\"scatter\"},{\"fill\":\"toself\",\"fillcolor\":\"#636EFA\",\"hoverlabel\":{\"namelength\":-1},\"hoveron\":\"fills+points\",\"hovertemplate\":\"\\u003cb\\u003etranscript_name:\\u003c\\u002fb\\u003e APP-204\\u003cbr\\u003e\\u003cb\\u003eFeature Type:\\u003c\\u002fb\\u003e CDS\\u003cbr\\u003e\\u003cb\\u003eFeature Number:\\u003c\\u002fb\\u003e 10\\u003cbr\\u003e\\u003cb\\u003eChromosome:\\u003c\\u002fb\\u003e 21\\u003cbr\\u003e\\u003cb\\u003eStart:\\u003c\\u002fb\\u003e 25975070\\u003cbr\\u003e\\u003cb\\u003eEnd:\\u003c\\u002fb\\u003e 25975228\\u003cbr\\u003e\\u003cb\\u003eSize:\\u003c\\u002fb\\u003e 158\\u003cbr\\u003e\\u003cextra\\u003e\\u003c\\u002fextra\\u003e\",\"legendgroup\":\"protein_coding\",\"legendgrouptitle\":{\"text\":\"\"},\"line\":{\"color\":\"black\",\"width\":0.25},\"marker\":{\"opacity\":0},\"mode\":\"lines+markers\",\"name\":\"protein_coding\",\"opacity\":1,\"showlegend\":false,\"x\":[2861,3019,3019,2861,2861],\"xaxis\":\"x\",\"y\":[2.75,2.75,3.25,3.25,2.75],\"yaxis\":\"y\",\"type\":\"scatter\"},{\"fill\":\"toself\",\"fillcolor\":\"#636EFA\",\"hoverlabel\":{\"namelength\":-1},\"hoveron\":\"fills+points\",\"hovertemplate\":\"\\u003cb\\u003etranscript_name:\\u003c\\u002fb\\u003e APP-204\\u003cbr\\u003e\\u003cb\\u003eFeature Type:\\u003c\\u002fb\\u003e CDS\\u003cbr\\u003e\\u003cb\\u003eFeature Number:\\u003c\\u002fb\\u003e 9\\u003cbr\\u003e\\u003cb\\u003eChromosome:\\u003c\\u002fb\\u003e 21\\u003cbr\\u003e\\u003cb\\u003eStart:\\u003c\\u002fb\\u003e 25975954\\u003cbr\\u003e\\u003cb\\u003eEnd:\\u003c\\u002fb\\u003e 25976028\\u003cbr\\u003e\\u003cb\\u003eSize:\\u003c\\u002fb\\u003e 74\\u003cbr\\u003e\\u003cextra\\u003e\\u003c\\u002fextra\\u003e\",\"legendgroup\":\"protein_coding\",\"legendgrouptitle\":{\"text\":\"\"},\"line\":{\"color\":\"black\",\"width\":0.25},\"marker\":{\"opacity\":0},\"mode\":\"lines+markers\",\"name\":\"protein_coding\",\"opacity\":1,\"showlegend\":false,\"x\":[3120,3194,3194,3120,3120],\"xaxis\":\"x\",\"y\":[2.75,2.75,3.25,3.25,2.75],\"yaxis\":\"y\",\"type\":\"scatter\"},{\"fill\":\"toself\",\"fillcolor\":\"#636EFA\",\"hoverlabel\":{\"namelength\":-1},\"hoveron\":\"fills+points\",\"hovertemplate\":\"\\u003cb\\u003etranscript_name:\\u003c\\u002fb\\u003e APP-204\\u003cbr\\u003e\\u003cb\\u003eFeature Type:\\u003c\\u002fb\\u003e CDS\\u003cbr\\u003e\\u003cb\\u003eFeature Number:\\u003c\\u002fb\\u003e 8\\u003cbr\\u003e\\u003cb\\u003eChromosome:\\u003c\\u002fb\\u003e 21\\u003cbr\\u003e\\u003cb\\u003eStart:\\u003c\\u002fb\\u003e 25982344\\u003cbr\\u003e\\u003cb\\u003eEnd:\\u003c\\u002fb\\u003e 25982477\\u003cbr\\u003e\\u003cb\\u003eSize:\\u003c\\u002fb\\u003e 133\\u003cbr\\u003e\\u003cextra\\u003e\\u003c\\u002fextra\\u003e\",\"legendgroup\":\"protein_coding\",\"legendgrouptitle\":{\"text\":\"\"},\"line\":{\"color\":\"black\",\"width\":0.25},\"marker\":{\"opacity\":0},\"mode\":\"lines+markers\",\"name\":\"protein_coding\",\"opacity\":1,\"showlegend\":false,\"x\":[3295,3428,3428,3295,3295],\"xaxis\":\"x\",\"y\":[2.75,2.75,3.25,3.25,2.75],\"yaxis\":\"y\",\"type\":\"scatter\"},{\"fill\":\"toself\",\"fillcolor\":\"#636EFA\",\"hoverlabel\":{\"namelength\":-1},\"hoveron\":\"fills+points\",\"hovertemplate\":\"\\u003cb\\u003etranscript_name:\\u003c\\u002fb\\u003e APP-204\\u003cbr\\u003e\\u003cb\\u003eFeature Type:\\u003c\\u002fb\\u003e CDS\\u003cbr\\u003e\\u003cb\\u003eFeature Number:\\u003c\\u002fb\\u003e 7\\u003cbr\\u003e\\u003cb\\u003eChromosome:\\u003c\\u002fb\\u003e 21\\u003cbr\\u003e\\u003cb\\u003eStart:\\u003c\\u002fb\\u003e 26000015\\u003cbr\\u003e\\u003cb\\u003eEnd:\\u003c\\u002fb\\u003e 26000182\\u003cbr\\u003e\\u003cb\\u003eSize:\\u003c\\u002fb\\u003e 167\\u003cbr\\u003e\\u003cextra\\u003e\\u003c\\u002fextra\\u003e\",\"legendgroup\":\"protein_coding\",\"legendgrouptitle\":{\"text\":\"\"},\"line\":{\"color\":\"black\",\"width\":0.25},\"marker\":{\"opacity\":0},\"mode\":\"lines+markers\",\"name\":\"protein_coding\",\"opacity\":1,\"showlegend\":false,\"x\":[3686,3853,3853,3686,3686],\"xaxis\":\"x\",\"y\":[2.75,2.75,3.25,3.25,2.75],\"yaxis\":\"y\",\"type\":\"scatter\"},{\"fill\":\"toself\",\"fillcolor\":\"#636EFA\",\"hoverlabel\":{\"namelength\":-1},\"hoveron\":\"fills+points\",\"hovertemplate\":\"\\u003cb\\u003etranscript_name:\\u003c\\u002fb\\u003e APP-204\\u003cbr\\u003e\\u003cb\\u003eFeature Type:\\u003c\\u002fb\\u003e CDS\\u003cbr\\u003e\\u003cb\\u003eFeature Number:\\u003c\\u002fb\\u003e 6\\u003cbr\\u003e\\u003cb\\u003eChromosome:\\u003c\\u002fb\\u003e 21\\u003cbr\\u003e\\u003cb\\u003eStart:\\u003c\\u002fb\\u003e 26021840\\u003cbr\\u003e\\u003cb\\u003eEnd:\\u003c\\u002fb\\u003e 26022042\\u003cbr\\u003e\\u003cb\\u003eSize:\\u003c\\u002fb\\u003e 202\\u003cbr\\u003e\\u003cextra\\u003e\\u003c\\u002fextra\\u003e\",\"legendgroup\":\"protein_coding\",\"legendgrouptitle\":{\"text\":\"\"},\"line\":{\"color\":\"black\",\"width\":0.25},\"marker\":{\"opacity\":0},\"mode\":\"lines+markers\",\"name\":\"protein_coding\",\"opacity\":1,\"showlegend\":false,\"x\":[3954,4156,4156,3954,3954],\"xaxis\":\"x\",\"y\":[2.75,2.75,3.25,3.25,2.75],\"yaxis\":\"y\",\"type\":\"scatter\"},{\"fill\":\"toself\",\"fillcolor\":\"#636EFA\",\"hoverlabel\":{\"namelength\":-1},\"hoveron\":\"fills+points\",\"hovertemplate\":\"\\u003cb\\u003etranscript_name:\\u003c\\u002fb\\u003e APP-204\\u003cbr\\u003e\\u003cb\\u003eFeature Type:\\u003c\\u002fb\\u003e CDS\\u003cbr\\u003e\\u003cb\\u003eFeature Number:\\u003c\\u002fb\\u003e 5\\u003cbr\\u003e\\u003cb\\u003eChromosome:\\u003c\\u002fb\\u003e 21\\u003cbr\\u003e\\u003cb\\u003eStart:\\u003c\\u002fb\\u003e 26051000\\u003cbr\\u003e\\u003cb\\u003eEnd:\\u003c\\u002fb\\u003e 26051193\\u003cbr\\u003e\\u003cb\\u003eSize:\\u003c\\u002fb\\u003e 193\\u003cbr\\u003e\\u003cextra\\u003e\\u003c\\u002fextra\\u003e\",\"legendgroup\":\"protein_coding\",\"legendgrouptitle\":{\"text\":\"\"},\"line\":{\"color\":\"black\",\"width\":0.25},\"marker\":{\"opacity\":0},\"mode\":\"lines+markers\",\"name\":\"protein_coding\",\"opacity\":1,\"showlegend\":false,\"x\":[4257,4450,4450,4257,4257],\"xaxis\":\"x\",\"y\":[2.75,2.75,3.25,3.25,2.75],\"yaxis\":\"y\",\"type\":\"scatter\"},{\"fill\":\"toself\",\"fillcolor\":\"#636EFA\",\"hoverlabel\":{\"namelength\":-1},\"hoveron\":\"fills+points\",\"hovertemplate\":\"\\u003cb\\u003etranscript_name:\\u003c\\u002fb\\u003e APP-204\\u003cbr\\u003e\\u003cb\\u003eFeature Type:\\u003c\\u002fb\\u003e CDS\\u003cbr\\u003e\\u003cb\\u003eFeature Number:\\u003c\\u002fb\\u003e 4\\u003cbr\\u003e\\u003cb\\u003eChromosome:\\u003c\\u002fb\\u003e 21\\u003cbr\\u003e\\u003cb\\u003eStart:\\u003c\\u002fb\\u003e 26053236\\u003cbr\\u003e\\u003cb\\u003eEnd:\\u003c\\u002fb\\u003e 26053348\\u003cbr\\u003e\\u003cb\\u003eSize:\\u003c\\u002fb\\u003e 112\\u003cbr\\u003e\\u003cextra\\u003e\\u003c\\u002fextra\\u003e\",\"legendgroup\":\"protein_coding\",\"legendgrouptitle\":{\"text\":\"\"},\"line\":{\"color\":\"black\",\"width\":0.25},\"marker\":{\"opacity\":0},\"mode\":\"lines+markers\",\"name\":\"protein_coding\",\"opacity\":1,\"showlegend\":false,\"x\":[4551,4663,4663,4551,4551],\"xaxis\":\"x\",\"y\":[2.75,2.75,3.25,3.25,2.75],\"yaxis\":\"y\",\"type\":\"scatter\"},{\"fill\":\"toself\",\"fillcolor\":\"#636EFA\",\"hoverlabel\":{\"namelength\":-1},\"hoveron\":\"fills+points\",\"hovertemplate\":\"\\u003cb\\u003etranscript_name:\\u003c\\u002fb\\u003e APP-204\\u003cbr\\u003e\\u003cb\\u003eFeature Type:\\u003c\\u002fb\\u003e CDS\\u003cbr\\u003e\\u003cb\\u003eFeature Number:\\u003c\\u002fb\\u003e 3\\u003cbr\\u003e\\u003cb\\u003eChromosome:\\u003c\\u002fb\\u003e 21\\u003cbr\\u003e\\u003cb\\u003eStart:\\u003c\\u002fb\\u003e 26089943\\u003cbr\\u003e\\u003cb\\u003eEnd:\\u003c\\u002fb\\u003e 26090072\\u003cbr\\u003e\\u003cb\\u003eSize:\\u003c\\u002fb\\u003e 129\\u003cbr\\u003e\\u003cextra\\u003e\\u003c\\u002fextra\\u003e\",\"legendgroup\":\"protein_coding\",\"legendgrouptitle\":{\"text\":\"\"},\"line\":{\"color\":\"black\",\"width\":0.25},\"marker\":{\"opacity\":0},\"mode\":\"lines+markers\",\"name\":\"protein_coding\",\"opacity\":1,\"showlegend\":false,\"x\":[4764,4893,4893,4764,4764],\"xaxis\":\"x\",\"y\":[2.75,2.75,3.25,3.25,2.75],\"yaxis\":\"y\",\"type\":\"scatter\"},{\"fill\":\"toself\",\"fillcolor\":\"#636EFA\",\"hoverlabel\":{\"namelength\":-1},\"hoveron\":\"fills+points\",\"hovertemplate\":\"\\u003cb\\u003etranscript_name:\\u003c\\u002fb\\u003e APP-204\\u003cbr\\u003e\\u003cb\\u003eFeature Type:\\u003c\\u002fb\\u003e CDS\\u003cbr\\u003e\\u003cb\\u003eFeature Number:\\u003c\\u002fb\\u003e 2\\u003cbr\\u003e\\u003cb\\u003eChromosome:\\u003c\\u002fb\\u003e 21\\u003cbr\\u003e\\u003cb\\u003eStart:\\u003c\\u002fb\\u003e 26111979\\u003cbr\\u003e\\u003cb\\u003eEnd:\\u003c\\u002fb\\u003e 26112146\\u003cbr\\u003e\\u003cb\\u003eSize:\\u003c\\u002fb\\u003e 167\\u003cbr\\u003e\\u003cextra\\u003e\\u003c\\u002fextra\\u003e\",\"legendgroup\":\"protein_coding\",\"legendgrouptitle\":{\"text\":\"\"},\"line\":{\"color\":\"black\",\"width\":0.25},\"marker\":{\"opacity\":0},\"mode\":\"lines+markers\",\"name\":\"protein_coding\",\"opacity\":1,\"showlegend\":false,\"x\":[4994,5161,5161,4994,4994],\"xaxis\":\"x\",\"y\":[2.75,2.75,3.25,3.25,2.75],\"yaxis\":\"y\",\"type\":\"scatter\"},{\"fill\":\"toself\",\"fillcolor\":\"#636EFA\",\"hoverlabel\":{\"namelength\":-1},\"hoveron\":\"fills+points\",\"hovertemplate\":\"\\u003cb\\u003etranscript_name:\\u003c\\u002fb\\u003e APP-204\\u003cbr\\u003e\\u003cb\\u003eFeature Type:\\u003c\\u002fb\\u003e CDS\\u003cbr\\u003e\\u003cb\\u003eFeature Number:\\u003c\\u002fb\\u003e 1\\u003cbr\\u003e\\u003cb\\u003eChromosome:\\u003c\\u002fb\\u003e 21\\u003cbr\\u003e\\u003cb\\u003eStart:\\u003c\\u002fb\\u003e 26170564\\u003cbr\\u003e\\u003cb\\u003eEnd:\\u003c\\u002fb\\u003e 26170620\\u003cbr\\u003e\\u003cb\\u003eSize:\\u003c\\u002fb\\u003e 56\\u003cbr\\u003e\\u003cextra\\u003e\\u003c\\u002fextra\\u003e\",\"legendgroup\":\"protein_coding\",\"legendgrouptitle\":{\"text\":\"\"},\"line\":{\"color\":\"black\",\"width\":0.25},\"marker\":{\"opacity\":0},\"mode\":\"lines+markers\",\"name\":\"protein_coding\",\"opacity\":1,\"showlegend\":false,\"x\":[5262,5318,5318,5262,5262],\"xaxis\":\"x\",\"y\":[2.75,2.75,3.25,3.25,2.75],\"yaxis\":\"y\",\"type\":\"scatter\"},{\"fill\":\"toself\",\"fillcolor\":\"#636EFA\",\"hoverlabel\":{\"namelength\":-1},\"hoveron\":\"fills+points\",\"hovertemplate\":\"\\u003cb\\u003etranscript_name:\\u003c\\u002fb\\u003e APP-202\\u003cbr\\u003e\\u003cb\\u003eFeature Type:\\u003c\\u002fb\\u003e CDS\\u003cbr\\u003e\\u003cb\\u003eFeature Number:\\u003c\\u002fb\\u003e 16\\u003cbr\\u003e\\u003cb\\u003eChromosome:\\u003c\\u002fb\\u003e 21\\u003cbr\\u003e\\u003cb\\u003eStart:\\u003c\\u002fb\\u003e 25881673\\u003cbr\\u003e\\u003cb\\u003eEnd:\\u003c\\u002fb\\u003e 25881771\\u003cbr\\u003e\\u003cb\\u003eSize:\\u003c\\u002fb\\u003e 98\\u003cbr\\u003e\\u003cextra\\u003e\\u003c\\u002fextra\\u003e\",\"legendgroup\":\"protein_coding\",\"legendgrouptitle\":{\"text\":\"\"},\"line\":{\"color\":\"black\",\"width\":0.25},\"marker\":{\"opacity\":0},\"mode\":\"lines+markers\",\"name\":\"protein_coding\",\"opacity\":1,\"showlegend\":false,\"x\":[1125,1223,1223,1125,1125],\"xaxis\":\"x\",\"y\":[3.75,3.75,4.25,4.25,3.75],\"yaxis\":\"y\",\"type\":\"scatter\"},{\"fill\":\"toself\",\"fillcolor\":\"#636EFA\",\"hoverlabel\":{\"namelength\":-1},\"hoveron\":\"fills+points\",\"hovertemplate\":\"\\u003cb\\u003etranscript_name:\\u003c\\u002fb\\u003e APP-202\\u003cbr\\u003e\\u003cb\\u003eFeature Type:\\u003c\\u002fb\\u003e CDS\\u003cbr\\u003e\\u003cb\\u003eFeature Number:\\u003c\\u002fb\\u003e 15\\u003cbr\\u003e\\u003cb\\u003eChromosome:\\u003c\\u002fb\\u003e 21\\u003cbr\\u003e\\u003cb\\u003eStart:\\u003c\\u002fb\\u003e 25891722\\u003cbr\\u003e\\u003cb\\u003eEnd:\\u003c\\u002fb\\u003e 25891868\\u003cbr\\u003e\\u003cb\\u003eSize:\\u003c\\u002fb\\u003e 146\\u003cbr\\u003e\\u003cextra\\u003e\\u003c\\u002fextra\\u003e\",\"legendgroup\":\"protein_coding\",\"legendgrouptitle\":{\"text\":\"\"},\"line\":{\"color\":\"black\",\"width\":0.25},\"marker\":{\"opacity\":0},\"mode\":\"lines+markers\",\"name\":\"protein_coding\",\"opacity\":1,\"showlegend\":false,\"x\":[1324,1470,1470,1324,1324],\"xaxis\":\"x\",\"y\":[3.75,3.75,4.25,4.25,3.75],\"yaxis\":\"y\",\"type\":\"scatter\"},{\"fill\":\"toself\",\"fillcolor\":\"#636EFA\",\"hoverlabel\":{\"namelength\":-1},\"hoveron\":\"fills+points\",\"hovertemplate\":\"\\u003cb\\u003etranscript_name:\\u003c\\u002fb\\u003e APP-202\\u003cbr\\u003e\\u003cb\\u003eFeature Type:\\u003c\\u002fb\\u003e CDS\\u003cbr\\u003e\\u003cb\\u003eFeature Number:\\u003c\\u002fb\\u003e 14\\u003cbr\\u003e\\u003cb\\u003eChromosome:\\u003c\\u002fb\\u003e 21\\u003cbr\\u003e\\u003cb\\u003eStart:\\u003c\\u002fb\\u003e 25897573\\u003cbr\\u003e\\u003cb\\u003eEnd:\\u003c\\u002fb\\u003e 25897673\\u003cbr\\u003e\\u003cb\\u003eSize:\\u003c\\u002fb\\u003e 100\\u003cbr\\u003e\\u003cextra\\u003e\\u003c\\u002fextra\\u003e\",\"legendgroup\":\"protein_coding\",\"legendgrouptitle\":{\"text\":\"\"},\"line\":{\"color\":\"black\",\"width\":0.25},\"marker\":{\"opacity\":0},\"mode\":\"lines+markers\",\"name\":\"protein_coding\",\"opacity\":1,\"showlegend\":false,\"x\":[1571,1671,1671,1571,1571],\"xaxis\":\"x\",\"y\":[3.75,3.75,4.25,4.25,3.75],\"yaxis\":\"y\",\"type\":\"scatter\"},{\"fill\":\"toself\",\"fillcolor\":\"#636EFA\",\"hoverlabel\":{\"namelength\":-1},\"hoveron\":\"fills+points\",\"hovertemplate\":\"\\u003cb\\u003etranscript_name:\\u003c\\u002fb\\u003e APP-202\\u003cbr\\u003e\\u003cb\\u003eFeature Type:\\u003c\\u002fb\\u003e CDS\\u003cbr\\u003e\\u003cb\\u003eFeature Number:\\u003c\\u002fb\\u003e 13\\u003cbr\\u003e\\u003cb\\u003eChromosome:\\u003c\\u002fb\\u003e 21\\u003cbr\\u003e\\u003cb\\u003eStart:\\u003c\\u002fb\\u003e 25905024\\u003cbr\\u003e\\u003cb\\u003eEnd:\\u003c\\u002fb\\u003e 25905077\\u003cbr\\u003e\\u003cb\\u003eSize:\\u003c\\u002fb\\u003e 53\\u003cbr\\u003e\\u003cextra\\u003e\\u003c\\u002fextra\\u003e\",\"legendgroup\":\"protein_coding\",\"legendgrouptitle\":{\"text\":\"\"},\"line\":{\"color\":\"black\",\"width\":0.25},\"marker\":{\"opacity\":0},\"mode\":\"lines+markers\",\"name\":\"protein_coding\",\"opacity\":1,\"showlegend\":false,\"x\":[1772,1825,1825,1772,1772],\"xaxis\":\"x\",\"y\":[3.75,3.75,4.25,4.25,3.75],\"yaxis\":\"y\",\"type\":\"scatter\"},{\"fill\":\"toself\",\"fillcolor\":\"#636EFA\",\"hoverlabel\":{\"namelength\":-1},\"hoveron\":\"fills+points\",\"hovertemplate\":\"\\u003cb\\u003etranscript_name:\\u003c\\u002fb\\u003e APP-202\\u003cbr\\u003e\\u003cb\\u003eFeature Type:\\u003c\\u002fb\\u003e CDS\\u003cbr\\u003e\\u003cb\\u003eFeature Number:\\u003c\\u002fb\\u003e 12\\u003cbr\\u003e\\u003cb\\u003eChromosome:\\u003c\\u002fb\\u003e 21\\u003cbr\\u003e\\u003cb\\u003eStart:\\u003c\\u002fb\\u003e 25911741\\u003cbr\\u003e\\u003cb\\u003eEnd:\\u003c\\u002fb\\u003e 25911962\\u003cbr\\u003e\\u003cb\\u003eSize:\\u003c\\u002fb\\u003e 221\\u003cbr\\u003e\\u003cextra\\u003e\\u003c\\u002fextra\\u003e\",\"legendgroup\":\"protein_coding\",\"legendgrouptitle\":{\"text\":\"\"},\"line\":{\"color\":\"black\",\"width\":0.25},\"marker\":{\"opacity\":0},\"mode\":\"lines+markers\",\"name\":\"protein_coding\",\"opacity\":1,\"showlegend\":false,\"x\":[1926,2147,2147,1926,1926],\"xaxis\":\"x\",\"y\":[3.75,3.75,4.25,4.25,3.75],\"yaxis\":\"y\",\"type\":\"scatter\"},{\"fill\":\"toself\",\"fillcolor\":\"#636EFA\",\"hoverlabel\":{\"namelength\":-1},\"hoveron\":\"fills+points\",\"hovertemplate\":\"\\u003cb\\u003etranscript_name:\\u003c\\u002fb\\u003e APP-202\\u003cbr\\u003e\\u003cb\\u003eFeature Type:\\u003c\\u002fb\\u003e CDS\\u003cbr\\u003e\\u003cb\\u003eFeature Number:\\u003c\\u002fb\\u003e 11\\u003cbr\\u003e\\u003cb\\u003eChromosome:\\u003c\\u002fb\\u003e 21\\u003cbr\\u003e\\u003cb\\u003eStart:\\u003c\\u002fb\\u003e 25954590\\u003cbr\\u003e\\u003cb\\u003eEnd:\\u003c\\u002fb\\u003e 25954689\\u003cbr\\u003e\\u003cb\\u003eSize:\\u003c\\u002fb\\u003e 99\\u003cbr\\u003e\\u003cextra\\u003e\\u003c\\u002fextra\\u003e\",\"legendgroup\":\"protein_coding\",\"legendgrouptitle\":{\"text\":\"\"},\"line\":{\"color\":\"black\",\"width\":0.25},\"marker\":{\"opacity\":0},\"mode\":\"lines+markers\",\"name\":\"protein_coding\",\"opacity\":1,\"showlegend\":false,\"x\":[2432,2531,2531,2432,2432],\"xaxis\":\"x\",\"y\":[3.75,3.75,4.25,4.25,3.75],\"yaxis\":\"y\",\"type\":\"scatter\"},{\"fill\":\"toself\",\"fillcolor\":\"#636EFA\",\"hoverlabel\":{\"namelength\":-1},\"hoveron\":\"fills+points\",\"hovertemplate\":\"\\u003cb\\u003etranscript_name:\\u003c\\u002fb\\u003e APP-202\\u003cbr\\u003e\\u003cb\\u003eFeature Type:\\u003c\\u002fb\\u003e CDS\\u003cbr\\u003e\\u003cb\\u003eFeature Number:\\u003c\\u002fb\\u003e 10\\u003cbr\\u003e\\u003cb\\u003eChromosome:\\u003c\\u002fb\\u003e 21\\u003cbr\\u003e\\u003cb\\u003eStart:\\u003c\\u002fb\\u003e 25955627\\u003cbr\\u003e\\u003cb\\u003eEnd:\\u003c\\u002fb\\u003e 25955755\\u003cbr\\u003e\\u003cb\\u003eSize:\\u003c\\u002fb\\u003e 128\\u003cbr\\u003e\\u003cextra\\u003e\\u003c\\u002fextra\\u003e\",\"legendgroup\":\"protein_coding\",\"legendgrouptitle\":{\"text\":\"\"},\"line\":{\"color\":\"black\",\"width\":0.25},\"marker\":{\"opacity\":0},\"mode\":\"lines+markers\",\"name\":\"protein_coding\",\"opacity\":1,\"showlegend\":false,\"x\":[2632,2760,2760,2632,2632],\"xaxis\":\"x\",\"y\":[3.75,3.75,4.25,4.25,3.75],\"yaxis\":\"y\",\"type\":\"scatter\"},{\"fill\":\"toself\",\"fillcolor\":\"#636EFA\",\"hoverlabel\":{\"namelength\":-1},\"hoveron\":\"fills+points\",\"hovertemplate\":\"\\u003cb\\u003etranscript_name:\\u003c\\u002fb\\u003e APP-202\\u003cbr\\u003e\\u003cb\\u003eFeature Type:\\u003c\\u002fb\\u003e CDS\\u003cbr\\u003e\\u003cb\\u003eFeature Number:\\u003c\\u002fb\\u003e 9\\u003cbr\\u003e\\u003cb\\u003eChromosome:\\u003c\\u002fb\\u003e 21\\u003cbr\\u003e\\u003cb\\u003eStart:\\u003c\\u002fb\\u003e 25975070\\u003cbr\\u003e\\u003cb\\u003eEnd:\\u003c\\u002fb\\u003e 25975228\\u003cbr\\u003e\\u003cb\\u003eSize:\\u003c\\u002fb\\u003e 158\\u003cbr\\u003e\\u003cextra\\u003e\\u003c\\u002fextra\\u003e\",\"legendgroup\":\"protein_coding\",\"legendgrouptitle\":{\"text\":\"\"},\"line\":{\"color\":\"black\",\"width\":0.25},\"marker\":{\"opacity\":0},\"mode\":\"lines+markers\",\"name\":\"protein_coding\",\"opacity\":1,\"showlegend\":false,\"x\":[2861,3019,3019,2861,2861],\"xaxis\":\"x\",\"y\":[3.75,3.75,4.25,4.25,3.75],\"yaxis\":\"y\",\"type\":\"scatter\"},{\"fill\":\"toself\",\"fillcolor\":\"#636EFA\",\"hoverlabel\":{\"namelength\":-1},\"hoveron\":\"fills+points\",\"hovertemplate\":\"\\u003cb\\u003etranscript_name:\\u003c\\u002fb\\u003e APP-202\\u003cbr\\u003e\\u003cb\\u003eFeature Type:\\u003c\\u002fb\\u003e CDS\\u003cbr\\u003e\\u003cb\\u003eFeature Number:\\u003c\\u002fb\\u003e 8\\u003cbr\\u003e\\u003cb\\u003eChromosome:\\u003c\\u002fb\\u003e 21\\u003cbr\\u003e\\u003cb\\u003eStart:\\u003c\\u002fb\\u003e 25975954\\u003cbr\\u003e\\u003cb\\u003eEnd:\\u003c\\u002fb\\u003e 25976028\\u003cbr\\u003e\\u003cb\\u003eSize:\\u003c\\u002fb\\u003e 74\\u003cbr\\u003e\\u003cextra\\u003e\\u003c\\u002fextra\\u003e\",\"legendgroup\":\"protein_coding\",\"legendgrouptitle\":{\"text\":\"\"},\"line\":{\"color\":\"black\",\"width\":0.25},\"marker\":{\"opacity\":0},\"mode\":\"lines+markers\",\"name\":\"protein_coding\",\"opacity\":1,\"showlegend\":false,\"x\":[3120,3194,3194,3120,3120],\"xaxis\":\"x\",\"y\":[3.75,3.75,4.25,4.25,3.75],\"yaxis\":\"y\",\"type\":\"scatter\"},{\"fill\":\"toself\",\"fillcolor\":\"#636EFA\",\"hoverlabel\":{\"namelength\":-1},\"hoveron\":\"fills+points\",\"hovertemplate\":\"\\u003cb\\u003etranscript_name:\\u003c\\u002fb\\u003e APP-202\\u003cbr\\u003e\\u003cb\\u003eFeature Type:\\u003c\\u002fb\\u003e CDS\\u003cbr\\u003e\\u003cb\\u003eFeature Number:\\u003c\\u002fb\\u003e 7\\u003cbr\\u003e\\u003cb\\u003eChromosome:\\u003c\\u002fb\\u003e 21\\u003cbr\\u003e\\u003cb\\u003eStart:\\u003c\\u002fb\\u003e 25982344\\u003cbr\\u003e\\u003cb\\u003eEnd:\\u003c\\u002fb\\u003e 25982477\\u003cbr\\u003e\\u003cb\\u003eSize:\\u003c\\u002fb\\u003e 133\\u003cbr\\u003e\\u003cextra\\u003e\\u003c\\u002fextra\\u003e\",\"legendgroup\":\"protein_coding\",\"legendgrouptitle\":{\"text\":\"\"},\"line\":{\"color\":\"black\",\"width\":0.25},\"marker\":{\"opacity\":0},\"mode\":\"lines+markers\",\"name\":\"protein_coding\",\"opacity\":1,\"showlegend\":false,\"x\":[3295,3428,3428,3295,3295],\"xaxis\":\"x\",\"y\":[3.75,3.75,4.25,4.25,3.75],\"yaxis\":\"y\",\"type\":\"scatter\"},{\"fill\":\"toself\",\"fillcolor\":\"#636EFA\",\"hoverlabel\":{\"namelength\":-1},\"hoveron\":\"fills+points\",\"hovertemplate\":\"\\u003cb\\u003etranscript_name:\\u003c\\u002fb\\u003e APP-202\\u003cbr\\u003e\\u003cb\\u003eFeature Type:\\u003c\\u002fb\\u003e CDS\\u003cbr\\u003e\\u003cb\\u003eFeature Number:\\u003c\\u002fb\\u003e 6\\u003cbr\\u003e\\u003cb\\u003eChromosome:\\u003c\\u002fb\\u003e 21\\u003cbr\\u003e\\u003cb\\u003eStart:\\u003c\\u002fb\\u003e 26021840\\u003cbr\\u003e\\u003cb\\u003eEnd:\\u003c\\u002fb\\u003e 26022042\\u003cbr\\u003e\\u003cb\\u003eSize:\\u003c\\u002fb\\u003e 202\\u003cbr\\u003e\\u003cextra\\u003e\\u003c\\u002fextra\\u003e\",\"legendgroup\":\"protein_coding\",\"legendgrouptitle\":{\"text\":\"\"},\"line\":{\"color\":\"black\",\"width\":0.25},\"marker\":{\"opacity\":0},\"mode\":\"lines+markers\",\"name\":\"protein_coding\",\"opacity\":1,\"showlegend\":false,\"x\":[3954,4156,4156,3954,3954],\"xaxis\":\"x\",\"y\":[3.75,3.75,4.25,4.25,3.75],\"yaxis\":\"y\",\"type\":\"scatter\"},{\"fill\":\"toself\",\"fillcolor\":\"#636EFA\",\"hoverlabel\":{\"namelength\":-1},\"hoveron\":\"fills+points\",\"hovertemplate\":\"\\u003cb\\u003etranscript_name:\\u003c\\u002fb\\u003e APP-202\\u003cbr\\u003e\\u003cb\\u003eFeature Type:\\u003c\\u002fb\\u003e CDS\\u003cbr\\u003e\\u003cb\\u003eFeature Number:\\u003c\\u002fb\\u003e 5\\u003cbr\\u003e\\u003cb\\u003eChromosome:\\u003c\\u002fb\\u003e 21\\u003cbr\\u003e\\u003cb\\u003eStart:\\u003c\\u002fb\\u003e 26051000\\u003cbr\\u003e\\u003cb\\u003eEnd:\\u003c\\u002fb\\u003e 26051193\\u003cbr\\u003e\\u003cb\\u003eSize:\\u003c\\u002fb\\u003e 193\\u003cbr\\u003e\\u003cextra\\u003e\\u003c\\u002fextra\\u003e\",\"legendgroup\":\"protein_coding\",\"legendgrouptitle\":{\"text\":\"\"},\"line\":{\"color\":\"black\",\"width\":0.25},\"marker\":{\"opacity\":0},\"mode\":\"lines+markers\",\"name\":\"protein_coding\",\"opacity\":1,\"showlegend\":false,\"x\":[4257,4450,4450,4257,4257],\"xaxis\":\"x\",\"y\":[3.75,3.75,4.25,4.25,3.75],\"yaxis\":\"y\",\"type\":\"scatter\"},{\"fill\":\"toself\",\"fillcolor\":\"#636EFA\",\"hoverlabel\":{\"namelength\":-1},\"hoveron\":\"fills+points\",\"hovertemplate\":\"\\u003cb\\u003etranscript_name:\\u003c\\u002fb\\u003e APP-202\\u003cbr\\u003e\\u003cb\\u003eFeature Type:\\u003c\\u002fb\\u003e CDS\\u003cbr\\u003e\\u003cb\\u003eFeature Number:\\u003c\\u002fb\\u003e 4\\u003cbr\\u003e\\u003cb\\u003eChromosome:\\u003c\\u002fb\\u003e 21\\u003cbr\\u003e\\u003cb\\u003eStart:\\u003c\\u002fb\\u003e 26053236\\u003cbr\\u003e\\u003cb\\u003eEnd:\\u003c\\u002fb\\u003e 26053348\\u003cbr\\u003e\\u003cb\\u003eSize:\\u003c\\u002fb\\u003e 112\\u003cbr\\u003e\\u003cextra\\u003e\\u003c\\u002fextra\\u003e\",\"legendgroup\":\"protein_coding\",\"legendgrouptitle\":{\"text\":\"\"},\"line\":{\"color\":\"black\",\"width\":0.25},\"marker\":{\"opacity\":0},\"mode\":\"lines+markers\",\"name\":\"protein_coding\",\"opacity\":1,\"showlegend\":false,\"x\":[4551,4663,4663,4551,4551],\"xaxis\":\"x\",\"y\":[3.75,3.75,4.25,4.25,3.75],\"yaxis\":\"y\",\"type\":\"scatter\"},{\"fill\":\"toself\",\"fillcolor\":\"#636EFA\",\"hoverlabel\":{\"namelength\":-1},\"hoveron\":\"fills+points\",\"hovertemplate\":\"\\u003cb\\u003etranscript_name:\\u003c\\u002fb\\u003e APP-202\\u003cbr\\u003e\\u003cb\\u003eFeature Type:\\u003c\\u002fb\\u003e CDS\\u003cbr\\u003e\\u003cb\\u003eFeature Number:\\u003c\\u002fb\\u003e 3\\u003cbr\\u003e\\u003cb\\u003eChromosome:\\u003c\\u002fb\\u003e 21\\u003cbr\\u003e\\u003cb\\u003eStart:\\u003c\\u002fb\\u003e 26089943\\u003cbr\\u003e\\u003cb\\u003eEnd:\\u003c\\u002fb\\u003e 26090072\\u003cbr\\u003e\\u003cb\\u003eSize:\\u003c\\u002fb\\u003e 129\\u003cbr\\u003e\\u003cextra\\u003e\\u003c\\u002fextra\\u003e\",\"legendgroup\":\"protein_coding\",\"legendgrouptitle\":{\"text\":\"\"},\"line\":{\"color\":\"black\",\"width\":0.25},\"marker\":{\"opacity\":0},\"mode\":\"lines+markers\",\"name\":\"protein_coding\",\"opacity\":1,\"showlegend\":false,\"x\":[4764,4893,4893,4764,4764],\"xaxis\":\"x\",\"y\":[3.75,3.75,4.25,4.25,3.75],\"yaxis\":\"y\",\"type\":\"scatter\"},{\"fill\":\"toself\",\"fillcolor\":\"#636EFA\",\"hoverlabel\":{\"namelength\":-1},\"hoveron\":\"fills+points\",\"hovertemplate\":\"\\u003cb\\u003etranscript_name:\\u003c\\u002fb\\u003e APP-202\\u003cbr\\u003e\\u003cb\\u003eFeature Type:\\u003c\\u002fb\\u003e CDS\\u003cbr\\u003e\\u003cb\\u003eFeature Number:\\u003c\\u002fb\\u003e 2\\u003cbr\\u003e\\u003cb\\u003eChromosome:\\u003c\\u002fb\\u003e 21\\u003cbr\\u003e\\u003cb\\u003eStart:\\u003c\\u002fb\\u003e 26111979\\u003cbr\\u003e\\u003cb\\u003eEnd:\\u003c\\u002fb\\u003e 26112146\\u003cbr\\u003e\\u003cb\\u003eSize:\\u003c\\u002fb\\u003e 167\\u003cbr\\u003e\\u003cextra\\u003e\\u003c\\u002fextra\\u003e\",\"legendgroup\":\"protein_coding\",\"legendgrouptitle\":{\"text\":\"\"},\"line\":{\"color\":\"black\",\"width\":0.25},\"marker\":{\"opacity\":0},\"mode\":\"lines+markers\",\"name\":\"protein_coding\",\"opacity\":1,\"showlegend\":false,\"x\":[4994,5161,5161,4994,4994],\"xaxis\":\"x\",\"y\":[3.75,3.75,4.25,4.25,3.75],\"yaxis\":\"y\",\"type\":\"scatter\"},{\"fill\":\"toself\",\"fillcolor\":\"#636EFA\",\"hoverlabel\":{\"namelength\":-1},\"hoveron\":\"fills+points\",\"hovertemplate\":\"\\u003cb\\u003etranscript_name:\\u003c\\u002fb\\u003e APP-202\\u003cbr\\u003e\\u003cb\\u003eFeature Type:\\u003c\\u002fb\\u003e CDS\\u003cbr\\u003e\\u003cb\\u003eFeature Number:\\u003c\\u002fb\\u003e 1\\u003cbr\\u003e\\u003cb\\u003eChromosome:\\u003c\\u002fb\\u003e 21\\u003cbr\\u003e\\u003cb\\u003eStart:\\u003c\\u002fb\\u003e 26170564\\u003cbr\\u003e\\u003cb\\u003eEnd:\\u003c\\u002fb\\u003e 26170620\\u003cbr\\u003e\\u003cb\\u003eSize:\\u003c\\u002fb\\u003e 56\\u003cbr\\u003e\\u003cextra\\u003e\\u003c\\u002fextra\\u003e\",\"legendgroup\":\"protein_coding\",\"legendgrouptitle\":{\"text\":\"\"},\"line\":{\"color\":\"black\",\"width\":0.25},\"marker\":{\"opacity\":0},\"mode\":\"lines+markers\",\"name\":\"protein_coding\",\"opacity\":1,\"showlegend\":false,\"x\":[5262,5318,5318,5262,5262],\"xaxis\":\"x\",\"y\":[3.75,3.75,4.25,4.25,3.75],\"yaxis\":\"y\",\"type\":\"scatter\"},{\"hovertemplate\":\"\\u003cb\\u003etranscript_name:\\u003c\\u002fb\\u003e APP-201\\u003cbr\\u003e\\u003cb\\u003eFeature Type:\\u003c\\u002fb\\u003e intron\\u003cbr\\u003e\\u003cb\\u003eFeature Number:\\u003c\\u002fb\\u003e 17\\u003cbr\\u003e\\u003cb\\u003eChromosome:\\u003c\\u002fb\\u003e 21\\u003cbr\\u003e\\u003cb\\u003eStart:\\u003c\\u002fb\\u003e 25881771\\u003cbr\\u003e\\u003cb\\u003eEnd:\\u003c\\u002fb\\u003e 25891722\\u003cbr\\u003e\\u003cb\\u003eSize:\\u003c\\u002fb\\u003e 9951\\u003cbr\\u003e\\u003cextra\\u003e\\u003c\\u002fextra\\u003e\",\"line\":{\"color\":\"black\",\"width\":0.5},\"mode\":\"lines\",\"opacity\":1,\"showlegend\":false,\"x\":[1223,1324],\"xaxis\":\"x\",\"y\":[0,0],\"yaxis\":\"y\",\"type\":\"scatter\"},{\"hovertemplate\":\"\\u003cb\\u003etranscript_name:\\u003c\\u002fb\\u003e APP-201\\u003cbr\\u003e\\u003cb\\u003eFeature Type:\\u003c\\u002fb\\u003e intron\\u003cbr\\u003e\\u003cb\\u003eFeature Number:\\u003c\\u002fb\\u003e 16\\u003cbr\\u003e\\u003cb\\u003eChromosome:\\u003c\\u002fb\\u003e 21\\u003cbr\\u003e\\u003cb\\u003eStart:\\u003c\\u002fb\\u003e 25891868\\u003cbr\\u003e\\u003cb\\u003eEnd:\\u003c\\u002fb\\u003e 25897573\\u003cbr\\u003e\\u003cb\\u003eSize:\\u003c\\u002fb\\u003e 5705\\u003cbr\\u003e\\u003cextra\\u003e\\u003c\\u002fextra\\u003e\",\"line\":{\"color\":\"black\",\"width\":0.5},\"mode\":\"lines\",\"opacity\":1,\"showlegend\":false,\"x\":[1470,1571],\"xaxis\":\"x\",\"y\":[0,0],\"yaxis\":\"y\",\"type\":\"scatter\"},{\"hovertemplate\":\"\\u003cb\\u003etranscript_name:\\u003c\\u002fb\\u003e APP-201\\u003cbr\\u003e\\u003cb\\u003eFeature Type:\\u003c\\u002fb\\u003e intron\\u003cbr\\u003e\\u003cb\\u003eFeature Number:\\u003c\\u002fb\\u003e 15\\u003cbr\\u003e\\u003cb\\u003eChromosome:\\u003c\\u002fb\\u003e 21\\u003cbr\\u003e\\u003cb\\u003eStart:\\u003c\\u002fb\\u003e 25897673\\u003cbr\\u003e\\u003cb\\u003eEnd:\\u003c\\u002fb\\u003e 25905024\\u003cbr\\u003e\\u003cb\\u003eSize:\\u003c\\u002fb\\u003e 7351\\u003cbr\\u003e\\u003cextra\\u003e\\u003c\\u002fextra\\u003e\",\"line\":{\"color\":\"black\",\"width\":0.5},\"mode\":\"lines\",\"opacity\":1,\"showlegend\":false,\"x\":[1671,1772],\"xaxis\":\"x\",\"y\":[0,0],\"yaxis\":\"y\",\"type\":\"scatter\"},{\"hovertemplate\":\"\\u003cb\\u003etranscript_name:\\u003c\\u002fb\\u003e APP-201\\u003cbr\\u003e\\u003cb\\u003eFeature Type:\\u003c\\u002fb\\u003e intron\\u003cbr\\u003e\\u003cb\\u003eFeature Number:\\u003c\\u002fb\\u003e 14\\u003cbr\\u003e\\u003cb\\u003eChromosome:\\u003c\\u002fb\\u003e 21\\u003cbr\\u003e\\u003cb\\u003eStart:\\u003c\\u002fb\\u003e 25905077\\u003cbr\\u003e\\u003cb\\u003eEnd:\\u003c\\u002fb\\u003e 25911741\\u003cbr\\u003e\\u003cb\\u003eSize:\\u003c\\u002fb\\u003e 6664\\u003cbr\\u003e\\u003cextra\\u003e\\u003c\\u002fextra\\u003e\",\"line\":{\"color\":\"black\",\"width\":0.5},\"mode\":\"lines\",\"opacity\":1,\"showlegend\":false,\"x\":[1825,1926],\"xaxis\":\"x\",\"y\":[0,0],\"yaxis\":\"y\",\"type\":\"scatter\"},{\"hovertemplate\":\"\\u003cb\\u003etranscript_name:\\u003c\\u002fb\\u003e APP-201\\u003cbr\\u003e\\u003cb\\u003eFeature Type:\\u003c\\u002fb\\u003e intron\\u003cbr\\u003e\\u003cb\\u003eFeature Number:\\u003c\\u002fb\\u003e 13\\u003cbr\\u003e\\u003cb\\u003eChromosome:\\u003c\\u002fb\\u003e 21\\u003cbr\\u003e\\u003cb\\u003eStart:\\u003c\\u002fb\\u003e 25911962\\u003cbr\\u003e\\u003cb\\u003eEnd:\\u003c\\u002fb\\u003e 25954590\\u003cbr\\u003e\\u003cb\\u003eSize:\\u003c\\u002fb\\u003e 42628\\u003cbr\\u003e\\u003cextra\\u003e\\u003c\\u002fextra\\u003e\",\"line\":{\"color\":\"black\",\"width\":0.5},\"mode\":\"lines\",\"opacity\":1,\"showlegend\":false,\"x\":[2147,2432],\"xaxis\":\"x\",\"y\":[0,0],\"yaxis\":\"y\",\"type\":\"scatter\"},{\"hovertemplate\":\"\\u003cb\\u003etranscript_name:\\u003c\\u002fb\\u003e APP-201\\u003cbr\\u003e\\u003cb\\u003eFeature Type:\\u003c\\u002fb\\u003e intron\\u003cbr\\u003e\\u003cb\\u003eFeature Number:\\u003c\\u002fb\\u003e 12\\u003cbr\\u003e\\u003cb\\u003eChromosome:\\u003c\\u002fb\\u003e 21\\u003cbr\\u003e\\u003cb\\u003eStart:\\u003c\\u002fb\\u003e 25954689\\u003cbr\\u003e\\u003cb\\u003eEnd:\\u003c\\u002fb\\u003e 25955627\\u003cbr\\u003e\\u003cb\\u003eSize:\\u003c\\u002fb\\u003e 938\\u003cbr\\u003e\\u003cextra\\u003e\\u003c\\u002fextra\\u003e\",\"line\":{\"color\":\"black\",\"width\":0.5},\"mode\":\"lines\",\"opacity\":1,\"showlegend\":false,\"x\":[2531,2632],\"xaxis\":\"x\",\"y\":[0,0],\"yaxis\":\"y\",\"type\":\"scatter\"},{\"hovertemplate\":\"\\u003cb\\u003etranscript_name:\\u003c\\u002fb\\u003e APP-201\\u003cbr\\u003e\\u003cb\\u003eFeature Type:\\u003c\\u002fb\\u003e intron\\u003cbr\\u003e\\u003cb\\u003eFeature Number:\\u003c\\u002fb\\u003e 11\\u003cbr\\u003e\\u003cb\\u003eChromosome:\\u003c\\u002fb\\u003e 21\\u003cbr\\u003e\\u003cb\\u003eStart:\\u003c\\u002fb\\u003e 25955755\\u003cbr\\u003e\\u003cb\\u003eEnd:\\u003c\\u002fb\\u003e 25975070\\u003cbr\\u003e\\u003cb\\u003eSize:\\u003c\\u002fb\\u003e 19315\\u003cbr\\u003e\\u003cextra\\u003e\\u003c\\u002fextra\\u003e\",\"line\":{\"color\":\"black\",\"width\":0.5},\"mode\":\"lines\",\"opacity\":1,\"showlegend\":false,\"x\":[2760,2861],\"xaxis\":\"x\",\"y\":[0,0],\"yaxis\":\"y\",\"type\":\"scatter\"},{\"hovertemplate\":\"\\u003cb\\u003etranscript_name:\\u003c\\u002fb\\u003e APP-201\\u003cbr\\u003e\\u003cb\\u003eFeature Type:\\u003c\\u002fb\\u003e intron\\u003cbr\\u003e\\u003cb\\u003eFeature Number:\\u003c\\u002fb\\u003e 10\\u003cbr\\u003e\\u003cb\\u003eChromosome:\\u003c\\u002fb\\u003e 21\\u003cbr\\u003e\\u003cb\\u003eStart:\\u003c\\u002fb\\u003e 25975228\\u003cbr\\u003e\\u003cb\\u003eEnd:\\u003c\\u002fb\\u003e 25975954\\u003cbr\\u003e\\u003cb\\u003eSize:\\u003c\\u002fb\\u003e 726\\u003cbr\\u003e\\u003cextra\\u003e\\u003c\\u002fextra\\u003e\",\"line\":{\"color\":\"black\",\"width\":0.5},\"mode\":\"lines\",\"opacity\":1,\"showlegend\":false,\"x\":[3019,3120],\"xaxis\":\"x\",\"y\":[0,0],\"yaxis\":\"y\",\"type\":\"scatter\"},{\"hovertemplate\":\"\\u003cb\\u003etranscript_name:\\u003c\\u002fb\\u003e APP-201\\u003cbr\\u003e\\u003cb\\u003eFeature Type:\\u003c\\u002fb\\u003e intron\\u003cbr\\u003e\\u003cb\\u003eFeature Number:\\u003c\\u002fb\\u003e 9\\u003cbr\\u003e\\u003cb\\u003eChromosome:\\u003c\\u002fb\\u003e 21\\u003cbr\\u003e\\u003cb\\u003eStart:\\u003c\\u002fb\\u003e 25976028\\u003cbr\\u003e\\u003cb\\u003eEnd:\\u003c\\u002fb\\u003e 25982344\\u003cbr\\u003e\\u003cb\\u003eSize:\\u003c\\u002fb\\u003e 6316\\u003cbr\\u003e\\u003cextra\\u003e\\u003c\\u002fextra\\u003e\",\"line\":{\"color\":\"black\",\"width\":0.5},\"mode\":\"lines\",\"opacity\":1,\"showlegend\":false,\"x\":[3194,3295],\"xaxis\":\"x\",\"y\":[0,0],\"yaxis\":\"y\",\"type\":\"scatter\"},{\"hovertemplate\":\"\\u003cb\\u003etranscript_name:\\u003c\\u002fb\\u003e APP-201\\u003cbr\\u003e\\u003cb\\u003eFeature Type:\\u003c\\u002fb\\u003e intron\\u003cbr\\u003e\\u003cb\\u003eFeature Number:\\u003c\\u002fb\\u003e 8\\u003cbr\\u003e\\u003cb\\u003eChromosome:\\u003c\\u002fb\\u003e 21\\u003cbr\\u003e\\u003cb\\u003eStart:\\u003c\\u002fb\\u003e 25982477\\u003cbr\\u003e\\u003cb\\u003eEnd:\\u003c\\u002fb\\u003e 25997360\\u003cbr\\u003e\\u003cb\\u003eSize:\\u003c\\u002fb\\u003e 14883\\u003cbr\\u003e\\u003cextra\\u003e\\u003c\\u002fextra\\u003e\",\"line\":{\"color\":\"black\",\"width\":0.5},\"mode\":\"lines\",\"opacity\":1,\"showlegend\":false,\"x\":[3428,3529],\"xaxis\":\"x\",\"y\":[0,0],\"yaxis\":\"y\",\"type\":\"scatter\"},{\"hovertemplate\":\"\\u003cb\\u003etranscript_name:\\u003c\\u002fb\\u003e APP-201\\u003cbr\\u003e\\u003cb\\u003eFeature Type:\\u003c\\u002fb\\u003e intron\\u003cbr\\u003e\\u003cb\\u003eFeature Number:\\u003c\\u002fb\\u003e 7\\u003cbr\\u003e\\u003cb\\u003eChromosome:\\u003c\\u002fb\\u003e 21\\u003cbr\\u003e\\u003cb\\u003eStart:\\u003c\\u002fb\\u003e 25997416\\u003cbr\\u003e\\u003cb\\u003eEnd:\\u003c\\u002fb\\u003e 26000015\\u003cbr\\u003e\\u003cb\\u003eSize:\\u003c\\u002fb\\u003e 2599\\u003cbr\\u003e\\u003cextra\\u003e\\u003c\\u002fextra\\u003e\",\"line\":{\"color\":\"black\",\"width\":0.5},\"mode\":\"lines\",\"opacity\":1,\"showlegend\":false,\"x\":[3585,3686],\"xaxis\":\"x\",\"y\":[0,0],\"yaxis\":\"y\",\"type\":\"scatter\"},{\"hovertemplate\":\"\\u003cb\\u003etranscript_name:\\u003c\\u002fb\\u003e APP-201\\u003cbr\\u003e\\u003cb\\u003eFeature Type:\\u003c\\u002fb\\u003e intron\\u003cbr\\u003e\\u003cb\\u003eFeature Number:\\u003c\\u002fb\\u003e 6\\u003cbr\\u003e\\u003cb\\u003eChromosome:\\u003c\\u002fb\\u003e 21\\u003cbr\\u003e\\u003cb\\u003eStart:\\u003c\\u002fb\\u003e 26000182\\u003cbr\\u003e\\u003cb\\u003eEnd:\\u003c\\u002fb\\u003e 26021840\\u003cbr\\u003e\\u003cb\\u003eSize:\\u003c\\u002fb\\u003e 21658\\u003cbr\\u003e\\u003cextra\\u003e\\u003c\\u002fextra\\u003e\",\"line\":{\"color\":\"black\",\"width\":0.5},\"mode\":\"lines\",\"opacity\":1,\"showlegend\":false,\"x\":[3853,3954],\"xaxis\":\"x\",\"y\":[0,0],\"yaxis\":\"y\",\"type\":\"scatter\"},{\"hovertemplate\":\"\\u003cb\\u003etranscript_name:\\u003c\\u002fb\\u003e APP-201\\u003cbr\\u003e\\u003cb\\u003eFeature Type:\\u003c\\u002fb\\u003e intron\\u003cbr\\u003e\\u003cb\\u003eFeature Number:\\u003c\\u002fb\\u003e 5\\u003cbr\\u003e\\u003cb\\u003eChromosome:\\u003c\\u002fb\\u003e 21\\u003cbr\\u003e\\u003cb\\u003eStart:\\u003c\\u002fb\\u003e 26022042\\u003cbr\\u003e\\u003cb\\u003eEnd:\\u003c\\u002fb\\u003e 26051000\\u003cbr\\u003e\\u003cb\\u003eSize:\\u003c\\u002fb\\u003e 28958\\u003cbr\\u003e\\u003cextra\\u003e\\u003c\\u002fextra\\u003e\",\"line\":{\"color\":\"black\",\"width\":0.5},\"mode\":\"lines\",\"opacity\":1,\"showlegend\":false,\"x\":[4156,4257],\"xaxis\":\"x\",\"y\":[0,0],\"yaxis\":\"y\",\"type\":\"scatter\"},{\"hovertemplate\":\"\\u003cb\\u003etranscript_name:\\u003c\\u002fb\\u003e APP-201\\u003cbr\\u003e\\u003cb\\u003eFeature Type:\\u003c\\u002fb\\u003e intron\\u003cbr\\u003e\\u003cb\\u003eFeature Number:\\u003c\\u002fb\\u003e 4\\u003cbr\\u003e\\u003cb\\u003eChromosome:\\u003c\\u002fb\\u003e 21\\u003cbr\\u003e\\u003cb\\u003eStart:\\u003c\\u002fb\\u003e 26051193\\u003cbr\\u003e\\u003cb\\u003eEnd:\\u003c\\u002fb\\u003e 26053236\\u003cbr\\u003e\\u003cb\\u003eSize:\\u003c\\u002fb\\u003e 2043\\u003cbr\\u003e\\u003cextra\\u003e\\u003c\\u002fextra\\u003e\",\"line\":{\"color\":\"black\",\"width\":0.5},\"mode\":\"lines\",\"opacity\":1,\"showlegend\":false,\"x\":[4450,4551],\"xaxis\":\"x\",\"y\":[0,0],\"yaxis\":\"y\",\"type\":\"scatter\"},{\"hovertemplate\":\"\\u003cb\\u003etranscript_name:\\u003c\\u002fb\\u003e APP-201\\u003cbr\\u003e\\u003cb\\u003eFeature Type:\\u003c\\u002fb\\u003e intron\\u003cbr\\u003e\\u003cb\\u003eFeature Number:\\u003c\\u002fb\\u003e 3\\u003cbr\\u003e\\u003cb\\u003eChromosome:\\u003c\\u002fb\\u003e 21\\u003cbr\\u003e\\u003cb\\u003eStart:\\u003c\\u002fb\\u003e 26053348\\u003cbr\\u003e\\u003cb\\u003eEnd:\\u003c\\u002fb\\u003e 26089943\\u003cbr\\u003e\\u003cb\\u003eSize:\\u003c\\u002fb\\u003e 36595\\u003cbr\\u003e\\u003cextra\\u003e\\u003c\\u002fextra\\u003e\",\"line\":{\"color\":\"black\",\"width\":0.5},\"mode\":\"lines\",\"opacity\":1,\"showlegend\":false,\"x\":[4663,4764],\"xaxis\":\"x\",\"y\":[0,0],\"yaxis\":\"y\",\"type\":\"scatter\"},{\"hovertemplate\":\"\\u003cb\\u003etranscript_name:\\u003c\\u002fb\\u003e APP-201\\u003cbr\\u003e\\u003cb\\u003eFeature Type:\\u003c\\u002fb\\u003e intron\\u003cbr\\u003e\\u003cb\\u003eFeature Number:\\u003c\\u002fb\\u003e 2\\u003cbr\\u003e\\u003cb\\u003eChromosome:\\u003c\\u002fb\\u003e 21\\u003cbr\\u003e\\u003cb\\u003eStart:\\u003c\\u002fb\\u003e 26090072\\u003cbr\\u003e\\u003cb\\u003eEnd:\\u003c\\u002fb\\u003e 26111979\\u003cbr\\u003e\\u003cb\\u003eSize:\\u003c\\u002fb\\u003e 21907\\u003cbr\\u003e\\u003cextra\\u003e\\u003c\\u002fextra\\u003e\",\"line\":{\"color\":\"black\",\"width\":0.5},\"mode\":\"lines\",\"opacity\":1,\"showlegend\":false,\"x\":[4893,4994],\"xaxis\":\"x\",\"y\":[0,0],\"yaxis\":\"y\",\"type\":\"scatter\"},{\"hovertemplate\":\"\\u003cb\\u003etranscript_name:\\u003c\\u002fb\\u003e APP-201\\u003cbr\\u003e\\u003cb\\u003eFeature Type:\\u003c\\u002fb\\u003e intron\\u003cbr\\u003e\\u003cb\\u003eFeature Number:\\u003c\\u002fb\\u003e 1\\u003cbr\\u003e\\u003cb\\u003eChromosome:\\u003c\\u002fb\\u003e 21\\u003cbr\\u003e\\u003cb\\u003eStart:\\u003c\\u002fb\\u003e 26112146\\u003cbr\\u003e\\u003cb\\u003eEnd:\\u003c\\u002fb\\u003e 26170564\\u003cbr\\u003e\\u003cb\\u003eSize:\\u003c\\u002fb\\u003e 58418\\u003cbr\\u003e\\u003cextra\\u003e\\u003c\\u002fextra\\u003e\",\"line\":{\"color\":\"black\",\"width\":0.5},\"mode\":\"lines\",\"opacity\":1,\"showlegend\":false,\"x\":[5161,5262],\"xaxis\":\"x\",\"y\":[0,0],\"yaxis\":\"y\",\"type\":\"scatter\"},{\"hovertemplate\":\"\\u003cb\\u003etranscript_name:\\u003c\\u002fb\\u003e APP-219\\u003cbr\\u003e\\u003cb\\u003eFeature Type:\\u003c\\u002fb\\u003e intron\\u003cbr\\u003e\\u003cb\\u003eFeature Number:\\u003c\\u002fb\\u003e 5\\u003cbr\\u003e\\u003cb\\u003eChromosome:\\u003c\\u002fb\\u003e 21\\u003cbr\\u003e\\u003cb\\u003eStart:\\u003c\\u002fb\\u003e 25881771\\u003cbr\\u003e\\u003cb\\u003eEnd:\\u003c\\u002fb\\u003e 25891722\\u003cbr\\u003e\\u003cb\\u003eSize:\\u003c\\u002fb\\u003e 9951\\u003cbr\\u003e\\u003cextra\\u003e\\u003c\\u002fextra\\u003e\",\"line\":{\"color\":\"black\",\"width\":0.5},\"mode\":\"lines\",\"opacity\":1,\"showlegend\":false,\"x\":[1223,1324],\"xaxis\":\"x\",\"y\":[1,1],\"yaxis\":\"y\",\"type\":\"scatter\"},{\"hovertemplate\":\"\\u003cb\\u003etranscript_name:\\u003c\\u002fb\\u003e APP-219\\u003cbr\\u003e\\u003cb\\u003eFeature Type:\\u003c\\u002fb\\u003e intron\\u003cbr\\u003e\\u003cb\\u003eFeature Number:\\u003c\\u002fb\\u003e 4\\u003cbr\\u003e\\u003cb\\u003eChromosome:\\u003c\\u002fb\\u003e 21\\u003cbr\\u003e\\u003cb\\u003eStart:\\u003c\\u002fb\\u003e 25891868\\u003cbr\\u003e\\u003cb\\u003eEnd:\\u003c\\u002fb\\u003e 25897573\\u003cbr\\u003e\\u003cb\\u003eSize:\\u003c\\u002fb\\u003e 5705\\u003cbr\\u003e\\u003cextra\\u003e\\u003c\\u002fextra\\u003e\",\"line\":{\"color\":\"black\",\"width\":0.5},\"mode\":\"lines\",\"opacity\":1,\"showlegend\":false,\"x\":[1470,1571],\"xaxis\":\"x\",\"y\":[1,1],\"yaxis\":\"y\",\"type\":\"scatter\"},{\"hovertemplate\":\"\\u003cb\\u003etranscript_name:\\u003c\\u002fb\\u003e APP-219\\u003cbr\\u003e\\u003cb\\u003eFeature Type:\\u003c\\u002fb\\u003e intron\\u003cbr\\u003e\\u003cb\\u003eFeature Number:\\u003c\\u002fb\\u003e 3\\u003cbr\\u003e\\u003cb\\u003eChromosome:\\u003c\\u002fb\\u003e 21\\u003cbr\\u003e\\u003cb\\u003eStart:\\u003c\\u002fb\\u003e 25897673\\u003cbr\\u003e\\u003cb\\u003eEnd:\\u003c\\u002fb\\u003e 25905024\\u003cbr\\u003e\\u003cb\\u003eSize:\\u003c\\u002fb\\u003e 7351\\u003cbr\\u003e\\u003cextra\\u003e\\u003c\\u002fextra\\u003e\",\"line\":{\"color\":\"black\",\"width\":0.5},\"mode\":\"lines\",\"opacity\":1,\"showlegend\":false,\"x\":[1671,1772],\"xaxis\":\"x\",\"y\":[1,1],\"yaxis\":\"y\",\"type\":\"scatter\"},{\"hovertemplate\":\"\\u003cb\\u003etranscript_name:\\u003c\\u002fb\\u003e APP-219\\u003cbr\\u003e\\u003cb\\u003eFeature Type:\\u003c\\u002fb\\u003e intron\\u003cbr\\u003e\\u003cb\\u003eFeature Number:\\u003c\\u002fb\\u003e 2\\u003cbr\\u003e\\u003cb\\u003eChromosome:\\u003c\\u002fb\\u003e 21\\u003cbr\\u003e\\u003cb\\u003eStart:\\u003c\\u002fb\\u003e 25905077\\u003cbr\\u003e\\u003cb\\u003eEnd:\\u003c\\u002fb\\u003e 25911741\\u003cbr\\u003e\\u003cb\\u003eSize:\\u003c\\u002fb\\u003e 6664\\u003cbr\\u003e\\u003cextra\\u003e\\u003c\\u002fextra\\u003e\",\"line\":{\"color\":\"black\",\"width\":0.5},\"mode\":\"lines\",\"opacity\":1,\"showlegend\":false,\"x\":[1825,1926],\"xaxis\":\"x\",\"y\":[1,1],\"yaxis\":\"y\",\"type\":\"scatter\"},{\"hovertemplate\":\"\\u003cb\\u003etranscript_name:\\u003c\\u002fb\\u003e APP-219\\u003cbr\\u003e\\u003cb\\u003eFeature Type:\\u003c\\u002fb\\u003e intron\\u003cbr\\u003e\\u003cb\\u003eFeature Number:\\u003c\\u002fb\\u003e 1\\u003cbr\\u003e\\u003cb\\u003eChromosome:\\u003c\\u002fb\\u003e 21\\u003cbr\\u003e\\u003cb\\u003eStart:\\u003c\\u002fb\\u003e 25911962\\u003cbr\\u003e\\u003cb\\u003eEnd:\\u003c\\u002fb\\u003e 25925059\\u003cbr\\u003e\\u003cb\\u003eSize:\\u003c\\u002fb\\u003e 13097\\u003cbr\\u003e\\u003cextra\\u003e\\u003c\\u002fextra\\u003e\",\"line\":{\"color\":\"black\",\"width\":0.5},\"mode\":\"lines\",\"opacity\":1,\"showlegend\":false,\"x\":[2147,2248],\"xaxis\":\"x\",\"y\":[1,1],\"yaxis\":\"y\",\"type\":\"scatter\"},{\"hovertemplate\":\"\\u003cb\\u003etranscript_name:\\u003c\\u002fb\\u003e APP-206\\u003cbr\\u003e\\u003cb\\u003eFeature Type:\\u003c\\u002fb\\u003e intron\\u003cbr\\u003e\\u003cb\\u003eFeature Number:\\u003c\\u002fb\\u003e 15\\u003cbr\\u003e\\u003cb\\u003eChromosome:\\u003c\\u002fb\\u003e 21\\u003cbr\\u003e\\u003cb\\u003eStart:\\u003c\\u002fb\\u003e 25881771\\u003cbr\\u003e\\u003cb\\u003eEnd:\\u003c\\u002fb\\u003e 25891722\\u003cbr\\u003e\\u003cb\\u003eSize:\\u003c\\u002fb\\u003e 9951\\u003cbr\\u003e\\u003cextra\\u003e\\u003c\\u002fextra\\u003e\",\"line\":{\"color\":\"black\",\"width\":0.5},\"mode\":\"lines\",\"opacity\":1,\"showlegend\":false,\"x\":[1223,1324],\"xaxis\":\"x\",\"y\":[2,2],\"yaxis\":\"y\",\"type\":\"scatter\"},{\"hovertemplate\":\"\\u003cb\\u003etranscript_name:\\u003c\\u002fb\\u003e APP-206\\u003cbr\\u003e\\u003cb\\u003eFeature Type:\\u003c\\u002fb\\u003e intron\\u003cbr\\u003e\\u003cb\\u003eFeature Number:\\u003c\\u002fb\\u003e 14\\u003cbr\\u003e\\u003cb\\u003eChromosome:\\u003c\\u002fb\\u003e 21\\u003cbr\\u003e\\u003cb\\u003eStart:\\u003c\\u002fb\\u003e 25891868\\u003cbr\\u003e\\u003cb\\u003eEnd:\\u003c\\u002fb\\u003e 25897573\\u003cbr\\u003e\\u003cb\\u003eSize:\\u003c\\u002fb\\u003e 5705\\u003cbr\\u003e\\u003cextra\\u003e\\u003c\\u002fextra\\u003e\",\"line\":{\"color\":\"black\",\"width\":0.5},\"mode\":\"lines\",\"opacity\":1,\"showlegend\":false,\"x\":[1470,1571],\"xaxis\":\"x\",\"y\":[2,2],\"yaxis\":\"y\",\"type\":\"scatter\"},{\"hovertemplate\":\"\\u003cb\\u003etranscript_name:\\u003c\\u002fb\\u003e APP-206\\u003cbr\\u003e\\u003cb\\u003eFeature Type:\\u003c\\u002fb\\u003e intron\\u003cbr\\u003e\\u003cb\\u003eFeature Number:\\u003c\\u002fb\\u003e 13\\u003cbr\\u003e\\u003cb\\u003eChromosome:\\u003c\\u002fb\\u003e 21\\u003cbr\\u003e\\u003cb\\u003eStart:\\u003c\\u002fb\\u003e 25897673\\u003cbr\\u003e\\u003cb\\u003eEnd:\\u003c\\u002fb\\u003e 25905024\\u003cbr\\u003e\\u003cb\\u003eSize:\\u003c\\u002fb\\u003e 7351\\u003cbr\\u003e\\u003cextra\\u003e\\u003c\\u002fextra\\u003e\",\"line\":{\"color\":\"black\",\"width\":0.5},\"mode\":\"lines\",\"opacity\":1,\"showlegend\":false,\"x\":[1671,1772],\"xaxis\":\"x\",\"y\":[2,2],\"yaxis\":\"y\",\"type\":\"scatter\"},{\"hovertemplate\":\"\\u003cb\\u003etranscript_name:\\u003c\\u002fb\\u003e APP-206\\u003cbr\\u003e\\u003cb\\u003eFeature Type:\\u003c\\u002fb\\u003e intron\\u003cbr\\u003e\\u003cb\\u003eFeature Number:\\u003c\\u002fb\\u003e 12\\u003cbr\\u003e\\u003cb\\u003eChromosome:\\u003c\\u002fb\\u003e 21\\u003cbr\\u003e\\u003cb\\u003eStart:\\u003c\\u002fb\\u003e 25905077\\u003cbr\\u003e\\u003cb\\u003eEnd:\\u003c\\u002fb\\u003e 25911741\\u003cbr\\u003e\\u003cb\\u003eSize:\\u003c\\u002fb\\u003e 6664\\u003cbr\\u003e\\u003cextra\\u003e\\u003c\\u002fextra\\u003e\",\"line\":{\"color\":\"black\",\"width\":0.5},\"mode\":\"lines\",\"opacity\":1,\"showlegend\":false,\"x\":[1825,1926],\"xaxis\":\"x\",\"y\":[2,2],\"yaxis\":\"y\",\"type\":\"scatter\"},{\"hovertemplate\":\"\\u003cb\\u003etranscript_name:\\u003c\\u002fb\\u003e APP-206\\u003cbr\\u003e\\u003cb\\u003eFeature Type:\\u003c\\u002fb\\u003e intron\\u003cbr\\u003e\\u003cb\\u003eFeature Number:\\u003c\\u002fb\\u003e 11\\u003cbr\\u003e\\u003cb\\u003eChromosome:\\u003c\\u002fb\\u003e 21\\u003cbr\\u003e\\u003cb\\u003eStart:\\u003c\\u002fb\\u003e 25911962\\u003cbr\\u003e\\u003cb\\u003eEnd:\\u003c\\u002fb\\u003e 25954590\\u003cbr\\u003e\\u003cb\\u003eSize:\\u003c\\u002fb\\u003e 42628\\u003cbr\\u003e\\u003cextra\\u003e\\u003c\\u002fextra\\u003e\",\"line\":{\"color\":\"black\",\"width\":0.5},\"mode\":\"lines\",\"opacity\":1,\"showlegend\":false,\"x\":[2147,2432],\"xaxis\":\"x\",\"y\":[2,2],\"yaxis\":\"y\",\"type\":\"scatter\"},{\"hovertemplate\":\"\\u003cb\\u003etranscript_name:\\u003c\\u002fb\\u003e APP-206\\u003cbr\\u003e\\u003cb\\u003eFeature Type:\\u003c\\u002fb\\u003e intron\\u003cbr\\u003e\\u003cb\\u003eFeature Number:\\u003c\\u002fb\\u003e 10\\u003cbr\\u003e\\u003cb\\u003eChromosome:\\u003c\\u002fb\\u003e 21\\u003cbr\\u003e\\u003cb\\u003eStart:\\u003c\\u002fb\\u003e 25954689\\u003cbr\\u003e\\u003cb\\u003eEnd:\\u003c\\u002fb\\u003e 25955627\\u003cbr\\u003e\\u003cb\\u003eSize:\\u003c\\u002fb\\u003e 938\\u003cbr\\u003e\\u003cextra\\u003e\\u003c\\u002fextra\\u003e\",\"line\":{\"color\":\"black\",\"width\":0.5},\"mode\":\"lines\",\"opacity\":1,\"showlegend\":false,\"x\":[2531,2632],\"xaxis\":\"x\",\"y\":[2,2],\"yaxis\":\"y\",\"type\":\"scatter\"},{\"hovertemplate\":\"\\u003cb\\u003etranscript_name:\\u003c\\u002fb\\u003e APP-206\\u003cbr\\u003e\\u003cb\\u003eFeature Type:\\u003c\\u002fb\\u003e intron\\u003cbr\\u003e\\u003cb\\u003eFeature Number:\\u003c\\u002fb\\u003e 9\\u003cbr\\u003e\\u003cb\\u003eChromosome:\\u003c\\u002fb\\u003e 21\\u003cbr\\u003e\\u003cb\\u003eStart:\\u003c\\u002fb\\u003e 25955755\\u003cbr\\u003e\\u003cb\\u003eEnd:\\u003c\\u002fb\\u003e 25975070\\u003cbr\\u003e\\u003cb\\u003eSize:\\u003c\\u002fb\\u003e 19315\\u003cbr\\u003e\\u003cextra\\u003e\\u003c\\u002fextra\\u003e\",\"line\":{\"color\":\"black\",\"width\":0.5},\"mode\":\"lines\",\"opacity\":1,\"showlegend\":false,\"x\":[2760,2861],\"xaxis\":\"x\",\"y\":[2,2],\"yaxis\":\"y\",\"type\":\"scatter\"},{\"hovertemplate\":\"\\u003cb\\u003etranscript_name:\\u003c\\u002fb\\u003e APP-206\\u003cbr\\u003e\\u003cb\\u003eFeature Type:\\u003c\\u002fb\\u003e intron\\u003cbr\\u003e\\u003cb\\u003eFeature Number:\\u003c\\u002fb\\u003e 8\\u003cbr\\u003e\\u003cb\\u003eChromosome:\\u003c\\u002fb\\u003e 21\\u003cbr\\u003e\\u003cb\\u003eStart:\\u003c\\u002fb\\u003e 25975228\\u003cbr\\u003e\\u003cb\\u003eEnd:\\u003c\\u002fb\\u003e 25975954\\u003cbr\\u003e\\u003cb\\u003eSize:\\u003c\\u002fb\\u003e 726\\u003cbr\\u003e\\u003cextra\\u003e\\u003c\\u002fextra\\u003e\",\"line\":{\"color\":\"black\",\"width\":0.5},\"mode\":\"lines\",\"opacity\":1,\"showlegend\":false,\"x\":[3019,3120],\"xaxis\":\"x\",\"y\":[2,2],\"yaxis\":\"y\",\"type\":\"scatter\"},{\"hovertemplate\":\"\\u003cb\\u003etranscript_name:\\u003c\\u002fb\\u003e APP-206\\u003cbr\\u003e\\u003cb\\u003eFeature Type:\\u003c\\u002fb\\u003e intron\\u003cbr\\u003e\\u003cb\\u003eFeature Number:\\u003c\\u002fb\\u003e 7\\u003cbr\\u003e\\u003cb\\u003eChromosome:\\u003c\\u002fb\\u003e 21\\u003cbr\\u003e\\u003cb\\u003eStart:\\u003c\\u002fb\\u003e 25976028\\u003cbr\\u003e\\u003cb\\u003eEnd:\\u003c\\u002fb\\u003e 25982344\\u003cbr\\u003e\\u003cb\\u003eSize:\\u003c\\u002fb\\u003e 6316\\u003cbr\\u003e\\u003cextra\\u003e\\u003c\\u002fextra\\u003e\",\"line\":{\"color\":\"black\",\"width\":0.5},\"mode\":\"lines\",\"opacity\":1,\"showlegend\":false,\"x\":[3194,3295],\"xaxis\":\"x\",\"y\":[2,2],\"yaxis\":\"y\",\"type\":\"scatter\"},{\"hoverinfo\":\"skip\",\"marker\":{\"color\":\"black\",\"size\":6,\"symbol\":\"arrow-left\"},\"mode\":\"markers\",\"opacity\":1,\"showlegend\":false,\"x\":[3615.8571428571427],\"xaxis\":\"x\",\"y\":[2],\"yaxis\":\"y\",\"type\":\"scatter\"},{\"hovertemplate\":\"\\u003cb\\u003etranscript_name:\\u003c\\u002fb\\u003e APP-206\\u003cbr\\u003e\\u003cb\\u003eFeature Type:\\u003c\\u002fb\\u003e intron\\u003cbr\\u003e\\u003cb\\u003eFeature Number:\\u003c\\u002fb\\u003e 6\\u003cbr\\u003e\\u003cb\\u003eChromosome:\\u003c\\u002fb\\u003e 21\\u003cbr\\u003e\\u003cb\\u003eStart:\\u003c\\u002fb\\u003e 25982477\\u003cbr\\u003e\\u003cb\\u003eEnd:\\u003c\\u002fb\\u003e 26021840\\u003cbr\\u003e\\u003cb\\u003eSize:\\u003c\\u002fb\\u003e 39363\\u003cbr\\u003e\\u003cextra\\u003e\\u003c\\u002fextra\\u003e\",\"line\":{\"color\":\"black\",\"width\":0.5},\"mode\":\"lines\",\"opacity\":1,\"showlegend\":false,\"x\":[3428,3954],\"xaxis\":\"x\",\"y\":[2,2],\"yaxis\":\"y\",\"type\":\"scatter\"},{\"hovertemplate\":\"\\u003cb\\u003etranscript_name:\\u003c\\u002fb\\u003e APP-206\\u003cbr\\u003e\\u003cb\\u003eFeature Type:\\u003c\\u002fb\\u003e intron\\u003cbr\\u003e\\u003cb\\u003eFeature Number:\\u003c\\u002fb\\u003e 5\\u003cbr\\u003e\\u003cb\\u003eChromosome:\\u003c\\u002fb\\u003e 21\\u003cbr\\u003e\\u003cb\\u003eStart:\\u003c\\u002fb\\u003e 26022042\\u003cbr\\u003e\\u003cb\\u003eEnd:\\u003c\\u002fb\\u003e 26051000\\u003cbr\\u003e\\u003cb\\u003eSize:\\u003c\\u002fb\\u003e 28958\\u003cbr\\u003e\\u003cextra\\u003e\\u003c\\u002fextra\\u003e\",\"line\":{\"color\":\"black\",\"width\":0.5},\"mode\":\"lines\",\"opacity\":1,\"showlegend\":false,\"x\":[4156,4257],\"xaxis\":\"x\",\"y\":[2,2],\"yaxis\":\"y\",\"type\":\"scatter\"},{\"hovertemplate\":\"\\u003cb\\u003etranscript_name:\\u003c\\u002fb\\u003e APP-206\\u003cbr\\u003e\\u003cb\\u003eFeature Type:\\u003c\\u002fb\\u003e intron\\u003cbr\\u003e\\u003cb\\u003eFeature Number:\\u003c\\u002fb\\u003e 4\\u003cbr\\u003e\\u003cb\\u003eChromosome:\\u003c\\u002fb\\u003e 21\\u003cbr\\u003e\\u003cb\\u003eStart:\\u003c\\u002fb\\u003e 26051193\\u003cbr\\u003e\\u003cb\\u003eEnd:\\u003c\\u002fb\\u003e 26053236\\u003cbr\\u003e\\u003cb\\u003eSize:\\u003c\\u002fb\\u003e 2043\\u003cbr\\u003e\\u003cextra\\u003e\\u003c\\u002fextra\\u003e\",\"line\":{\"color\":\"black\",\"width\":0.5},\"mode\":\"lines\",\"opacity\":1,\"showlegend\":false,\"x\":[4450,4551],\"xaxis\":\"x\",\"y\":[2,2],\"yaxis\":\"y\",\"type\":\"scatter\"},{\"hovertemplate\":\"\\u003cb\\u003etranscript_name:\\u003c\\u002fb\\u003e APP-206\\u003cbr\\u003e\\u003cb\\u003eFeature Type:\\u003c\\u002fb\\u003e intron\\u003cbr\\u003e\\u003cb\\u003eFeature Number:\\u003c\\u002fb\\u003e 3\\u003cbr\\u003e\\u003cb\\u003eChromosome:\\u003c\\u002fb\\u003e 21\\u003cbr\\u003e\\u003cb\\u003eStart:\\u003c\\u002fb\\u003e 26053348\\u003cbr\\u003e\\u003cb\\u003eEnd:\\u003c\\u002fb\\u003e 26089943\\u003cbr\\u003e\\u003cb\\u003eSize:\\u003c\\u002fb\\u003e 36595\\u003cbr\\u003e\\u003cextra\\u003e\\u003c\\u002fextra\\u003e\",\"line\":{\"color\":\"black\",\"width\":0.5},\"mode\":\"lines\",\"opacity\":1,\"showlegend\":false,\"x\":[4663,4764],\"xaxis\":\"x\",\"y\":[2,2],\"yaxis\":\"y\",\"type\":\"scatter\"},{\"hovertemplate\":\"\\u003cb\\u003etranscript_name:\\u003c\\u002fb\\u003e APP-206\\u003cbr\\u003e\\u003cb\\u003eFeature Type:\\u003c\\u002fb\\u003e intron\\u003cbr\\u003e\\u003cb\\u003eFeature Number:\\u003c\\u002fb\\u003e 2\\u003cbr\\u003e\\u003cb\\u003eChromosome:\\u003c\\u002fb\\u003e 21\\u003cbr\\u003e\\u003cb\\u003eStart:\\u003c\\u002fb\\u003e 26090072\\u003cbr\\u003e\\u003cb\\u003eEnd:\\u003c\\u002fb\\u003e 26111979\\u003cbr\\u003e\\u003cb\\u003eSize:\\u003c\\u002fb\\u003e 21907\\u003cbr\\u003e\\u003cextra\\u003e\\u003c\\u002fextra\\u003e\",\"line\":{\"color\":\"black\",\"width\":0.5},\"mode\":\"lines\",\"opacity\":1,\"showlegend\":false,\"x\":[4893,4994],\"xaxis\":\"x\",\"y\":[2,2],\"yaxis\":\"y\",\"type\":\"scatter\"},{\"hoverinfo\":\"skip\",\"marker\":{\"color\":\"black\",\"size\":6,\"symbol\":\"arrow-left\"},\"mode\":\"markers\",\"opacity\":1,\"showlegend\":false,\"x\":[5312.785714285715],\"xaxis\":\"x\",\"y\":[2],\"yaxis\":\"y\",\"type\":\"scatter\"},{\"hovertemplate\":\"\\u003cb\\u003etranscript_name:\\u003c\\u002fb\\u003e APP-206\\u003cbr\\u003e\\u003cb\\u003eFeature Type:\\u003c\\u002fb\\u003e intron\\u003cbr\\u003e\\u003cb\\u003eFeature Number:\\u003c\\u002fb\\u003e 1\\u003cbr\\u003e\\u003cb\\u003eChromosome:\\u003c\\u002fb\\u003e 21\\u003cbr\\u003e\\u003cb\\u003eStart:\\u003c\\u002fb\\u003e 26112146\\u003cbr\\u003e\\u003cb\\u003eEnd:\\u003c\\u002fb\\u003e 26170985\\u003cbr\\u003e\\u003cb\\u003eSize:\\u003c\\u002fb\\u003e 58839\\u003cbr\\u003e\\u003cextra\\u003e\\u003c\\u002fextra\\u003e\",\"line\":{\"color\":\"black\",\"width\":0.5},\"mode\":\"lines\",\"opacity\":1,\"showlegend\":false,\"x\":[5161,5586],\"xaxis\":\"x\",\"y\":[2,2],\"yaxis\":\"y\",\"type\":\"scatter\"},{\"hovertemplate\":\"\\u003cb\\u003etranscript_name:\\u003c\\u002fb\\u003e APP-204\\u003cbr\\u003e\\u003cb\\u003eFeature Type:\\u003c\\u002fb\\u003e intron\\u003cbr\\u003e\\u003cb\\u003eFeature Number:\\u003c\\u002fb\\u003e 16\\u003cbr\\u003e\\u003cb\\u003eChromosome:\\u003c\\u002fb\\u003e 21\\u003cbr\\u003e\\u003cb\\u003eStart:\\u003c\\u002fb\\u003e 25881771\\u003cbr\\u003e\\u003cb\\u003eEnd:\\u003c\\u002fb\\u003e 25891722\\u003cbr\\u003e\\u003cb\\u003eSize:\\u003c\\u002fb\\u003e 9951\\u003cbr\\u003e\\u003cextra\\u003e\\u003c\\u002fextra\\u003e\",\"line\":{\"color\":\"black\",\"width\":0.5},\"mode\":\"lines\",\"opacity\":1,\"showlegend\":false,\"x\":[1223,1324],\"xaxis\":\"x\",\"y\":[3,3],\"yaxis\":\"y\",\"type\":\"scatter\"},{\"hovertemplate\":\"\\u003cb\\u003etranscript_name:\\u003c\\u002fb\\u003e APP-204\\u003cbr\\u003e\\u003cb\\u003eFeature Type:\\u003c\\u002fb\\u003e intron\\u003cbr\\u003e\\u003cb\\u003eFeature Number:\\u003c\\u002fb\\u003e 15\\u003cbr\\u003e\\u003cb\\u003eChromosome:\\u003c\\u002fb\\u003e 21\\u003cbr\\u003e\\u003cb\\u003eStart:\\u003c\\u002fb\\u003e 25891868\\u003cbr\\u003e\\u003cb\\u003eEnd:\\u003c\\u002fb\\u003e 25897573\\u003cbr\\u003e\\u003cb\\u003eSize:\\u003c\\u002fb\\u003e 5705\\u003cbr\\u003e\\u003cextra\\u003e\\u003c\\u002fextra\\u003e\",\"line\":{\"color\":\"black\",\"width\":0.5},\"mode\":\"lines\",\"opacity\":1,\"showlegend\":false,\"x\":[1470,1571],\"xaxis\":\"x\",\"y\":[3,3],\"yaxis\":\"y\",\"type\":\"scatter\"},{\"hovertemplate\":\"\\u003cb\\u003etranscript_name:\\u003c\\u002fb\\u003e APP-204\\u003cbr\\u003e\\u003cb\\u003eFeature Type:\\u003c\\u002fb\\u003e intron\\u003cbr\\u003e\\u003cb\\u003eFeature Number:\\u003c\\u002fb\\u003e 14\\u003cbr\\u003e\\u003cb\\u003eChromosome:\\u003c\\u002fb\\u003e 21\\u003cbr\\u003e\\u003cb\\u003eStart:\\u003c\\u002fb\\u003e 25897673\\u003cbr\\u003e\\u003cb\\u003eEnd:\\u003c\\u002fb\\u003e 25905024\\u003cbr\\u003e\\u003cb\\u003eSize:\\u003c\\u002fb\\u003e 7351\\u003cbr\\u003e\\u003cextra\\u003e\\u003c\\u002fextra\\u003e\",\"line\":{\"color\":\"black\",\"width\":0.5},\"mode\":\"lines\",\"opacity\":1,\"showlegend\":false,\"x\":[1671,1772],\"xaxis\":\"x\",\"y\":[3,3],\"yaxis\":\"y\",\"type\":\"scatter\"},{\"hovertemplate\":\"\\u003cb\\u003etranscript_name:\\u003c\\u002fb\\u003e APP-204\\u003cbr\\u003e\\u003cb\\u003eFeature Type:\\u003c\\u002fb\\u003e intron\\u003cbr\\u003e\\u003cb\\u003eFeature Number:\\u003c\\u002fb\\u003e 13\\u003cbr\\u003e\\u003cb\\u003eChromosome:\\u003c\\u002fb\\u003e 21\\u003cbr\\u003e\\u003cb\\u003eStart:\\u003c\\u002fb\\u003e 25905077\\u003cbr\\u003e\\u003cb\\u003eEnd:\\u003c\\u002fb\\u003e 25911741\\u003cbr\\u003e\\u003cb\\u003eSize:\\u003c\\u002fb\\u003e 6664\\u003cbr\\u003e\\u003cextra\\u003e\\u003c\\u002fextra\\u003e\",\"line\":{\"color\":\"black\",\"width\":0.5},\"mode\":\"lines\",\"opacity\":1,\"showlegend\":false,\"x\":[1825,1926],\"xaxis\":\"x\",\"y\":[3,3],\"yaxis\":\"y\",\"type\":\"scatter\"},{\"hovertemplate\":\"\\u003cb\\u003etranscript_name:\\u003c\\u002fb\\u003e APP-204\\u003cbr\\u003e\\u003cb\\u003eFeature Type:\\u003c\\u002fb\\u003e intron\\u003cbr\\u003e\\u003cb\\u003eFeature Number:\\u003c\\u002fb\\u003e 12\\u003cbr\\u003e\\u003cb\\u003eChromosome:\\u003c\\u002fb\\u003e 21\\u003cbr\\u003e\\u003cb\\u003eStart:\\u003c\\u002fb\\u003e 25911962\\u003cbr\\u003e\\u003cb\\u003eEnd:\\u003c\\u002fb\\u003e 25954590\\u003cbr\\u003e\\u003cb\\u003eSize:\\u003c\\u002fb\\u003e 42628\\u003cbr\\u003e\\u003cextra\\u003e\\u003c\\u002fextra\\u003e\",\"line\":{\"color\":\"black\",\"width\":0.5},\"mode\":\"lines\",\"opacity\":1,\"showlegend\":false,\"x\":[2147,2432],\"xaxis\":\"x\",\"y\":[3,3],\"yaxis\":\"y\",\"type\":\"scatter\"},{\"hovertemplate\":\"\\u003cb\\u003etranscript_name:\\u003c\\u002fb\\u003e APP-204\\u003cbr\\u003e\\u003cb\\u003eFeature Type:\\u003c\\u002fb\\u003e intron\\u003cbr\\u003e\\u003cb\\u003eFeature Number:\\u003c\\u002fb\\u003e 11\\u003cbr\\u003e\\u003cb\\u003eChromosome:\\u003c\\u002fb\\u003e 21\\u003cbr\\u003e\\u003cb\\u003eStart:\\u003c\\u002fb\\u003e 25954689\\u003cbr\\u003e\\u003cb\\u003eEnd:\\u003c\\u002fb\\u003e 25955627\\u003cbr\\u003e\\u003cb\\u003eSize:\\u003c\\u002fb\\u003e 938\\u003cbr\\u003e\\u003cextra\\u003e\\u003c\\u002fextra\\u003e\",\"line\":{\"color\":\"black\",\"width\":0.5},\"mode\":\"lines\",\"opacity\":1,\"showlegend\":false,\"x\":[2531,2632],\"xaxis\":\"x\",\"y\":[3,3],\"yaxis\":\"y\",\"type\":\"scatter\"},{\"hovertemplate\":\"\\u003cb\\u003etranscript_name:\\u003c\\u002fb\\u003e APP-204\\u003cbr\\u003e\\u003cb\\u003eFeature Type:\\u003c\\u002fb\\u003e intron\\u003cbr\\u003e\\u003cb\\u003eFeature Number:\\u003c\\u002fb\\u003e 10\\u003cbr\\u003e\\u003cb\\u003eChromosome:\\u003c\\u002fb\\u003e 21\\u003cbr\\u003e\\u003cb\\u003eStart:\\u003c\\u002fb\\u003e 25955755\\u003cbr\\u003e\\u003cb\\u003eEnd:\\u003c\\u002fb\\u003e 25975070\\u003cbr\\u003e\\u003cb\\u003eSize:\\u003c\\u002fb\\u003e 19315\\u003cbr\\u003e\\u003cextra\\u003e\\u003c\\u002fextra\\u003e\",\"line\":{\"color\":\"black\",\"width\":0.5},\"mode\":\"lines\",\"opacity\":1,\"showlegend\":false,\"x\":[2760,2861],\"xaxis\":\"x\",\"y\":[3,3],\"yaxis\":\"y\",\"type\":\"scatter\"},{\"hovertemplate\":\"\\u003cb\\u003etranscript_name:\\u003c\\u002fb\\u003e APP-204\\u003cbr\\u003e\\u003cb\\u003eFeature Type:\\u003c\\u002fb\\u003e intron\\u003cbr\\u003e\\u003cb\\u003eFeature Number:\\u003c\\u002fb\\u003e 9\\u003cbr\\u003e\\u003cb\\u003eChromosome:\\u003c\\u002fb\\u003e 21\\u003cbr\\u003e\\u003cb\\u003eStart:\\u003c\\u002fb\\u003e 25975228\\u003cbr\\u003e\\u003cb\\u003eEnd:\\u003c\\u002fb\\u003e 25975954\\u003cbr\\u003e\\u003cb\\u003eSize:\\u003c\\u002fb\\u003e 726\\u003cbr\\u003e\\u003cextra\\u003e\\u003c\\u002fextra\\u003e\",\"line\":{\"color\":\"black\",\"width\":0.5},\"mode\":\"lines\",\"opacity\":1,\"showlegend\":false,\"x\":[3019,3120],\"xaxis\":\"x\",\"y\":[3,3],\"yaxis\":\"y\",\"type\":\"scatter\"},{\"hovertemplate\":\"\\u003cb\\u003etranscript_name:\\u003c\\u002fb\\u003e APP-204\\u003cbr\\u003e\\u003cb\\u003eFeature Type:\\u003c\\u002fb\\u003e intron\\u003cbr\\u003e\\u003cb\\u003eFeature Number:\\u003c\\u002fb\\u003e 8\\u003cbr\\u003e\\u003cb\\u003eChromosome:\\u003c\\u002fb\\u003e 21\\u003cbr\\u003e\\u003cb\\u003eStart:\\u003c\\u002fb\\u003e 25976028\\u003cbr\\u003e\\u003cb\\u003eEnd:\\u003c\\u002fb\\u003e 25982344\\u003cbr\\u003e\\u003cb\\u003eSize:\\u003c\\u002fb\\u003e 6316\\u003cbr\\u003e\\u003cextra\\u003e\\u003c\\u002fextra\\u003e\",\"line\":{\"color\":\"black\",\"width\":0.5},\"mode\":\"lines\",\"opacity\":1,\"showlegend\":false,\"x\":[3194,3295],\"xaxis\":\"x\",\"y\":[3,3],\"yaxis\":\"y\",\"type\":\"scatter\"},{\"hovertemplate\":\"\\u003cb\\u003etranscript_name:\\u003c\\u002fb\\u003e APP-204\\u003cbr\\u003e\\u003cb\\u003eFeature Type:\\u003c\\u002fb\\u003e intron\\u003cbr\\u003e\\u003cb\\u003eFeature Number:\\u003c\\u002fb\\u003e 7\\u003cbr\\u003e\\u003cb\\u003eChromosome:\\u003c\\u002fb\\u003e 21\\u003cbr\\u003e\\u003cb\\u003eStart:\\u003c\\u002fb\\u003e 25982477\\u003cbr\\u003e\\u003cb\\u003eEnd:\\u003c\\u002fb\\u003e 26000015\\u003cbr\\u003e\\u003cb\\u003eSize:\\u003c\\u002fb\\u003e 17538\\u003cbr\\u003e\\u003cextra\\u003e\\u003c\\u002fextra\\u003e\",\"line\":{\"color\":\"black\",\"width\":0.5},\"mode\":\"lines\",\"opacity\":1,\"showlegend\":false,\"x\":[3428,3686],\"xaxis\":\"x\",\"y\":[3,3],\"yaxis\":\"y\",\"type\":\"scatter\"},{\"hovertemplate\":\"\\u003cb\\u003etranscript_name:\\u003c\\u002fb\\u003e APP-204\\u003cbr\\u003e\\u003cb\\u003eFeature Type:\\u003c\\u002fb\\u003e intron\\u003cbr\\u003e\\u003cb\\u003eFeature Number:\\u003c\\u002fb\\u003e 6\\u003cbr\\u003e\\u003cb\\u003eChromosome:\\u003c\\u002fb\\u003e 21\\u003cbr\\u003e\\u003cb\\u003eStart:\\u003c\\u002fb\\u003e 26000182\\u003cbr\\u003e\\u003cb\\u003eEnd:\\u003c\\u002fb\\u003e 26021840\\u003cbr\\u003e\\u003cb\\u003eSize:\\u003c\\u002fb\\u003e 21658\\u003cbr\\u003e\\u003cextra\\u003e\\u003c\\u002fextra\\u003e\",\"line\":{\"color\":\"black\",\"width\":0.5},\"mode\":\"lines\",\"opacity\":1,\"showlegend\":false,\"x\":[3853,3954],\"xaxis\":\"x\",\"y\":[3,3],\"yaxis\":\"y\",\"type\":\"scatter\"},{\"hovertemplate\":\"\\u003cb\\u003etranscript_name:\\u003c\\u002fb\\u003e APP-204\\u003cbr\\u003e\\u003cb\\u003eFeature Type:\\u003c\\u002fb\\u003e intron\\u003cbr\\u003e\\u003cb\\u003eFeature Number:\\u003c\\u002fb\\u003e 5\\u003cbr\\u003e\\u003cb\\u003eChromosome:\\u003c\\u002fb\\u003e 21\\u003cbr\\u003e\\u003cb\\u003eStart:\\u003c\\u002fb\\u003e 26022042\\u003cbr\\u003e\\u003cb\\u003eEnd:\\u003c\\u002fb\\u003e 26051000\\u003cbr\\u003e\\u003cb\\u003eSize:\\u003c\\u002fb\\u003e 28958\\u003cbr\\u003e\\u003cextra\\u003e\\u003c\\u002fextra\\u003e\",\"line\":{\"color\":\"black\",\"width\":0.5},\"mode\":\"lines\",\"opacity\":1,\"showlegend\":false,\"x\":[4156,4257],\"xaxis\":\"x\",\"y\":[3,3],\"yaxis\":\"y\",\"type\":\"scatter\"},{\"hovertemplate\":\"\\u003cb\\u003etranscript_name:\\u003c\\u002fb\\u003e APP-204\\u003cbr\\u003e\\u003cb\\u003eFeature Type:\\u003c\\u002fb\\u003e intron\\u003cbr\\u003e\\u003cb\\u003eFeature Number:\\u003c\\u002fb\\u003e 4\\u003cbr\\u003e\\u003cb\\u003eChromosome:\\u003c\\u002fb\\u003e 21\\u003cbr\\u003e\\u003cb\\u003eStart:\\u003c\\u002fb\\u003e 26051193\\u003cbr\\u003e\\u003cb\\u003eEnd:\\u003c\\u002fb\\u003e 26053236\\u003cbr\\u003e\\u003cb\\u003eSize:\\u003c\\u002fb\\u003e 2043\\u003cbr\\u003e\\u003cextra\\u003e\\u003c\\u002fextra\\u003e\",\"line\":{\"color\":\"black\",\"width\":0.5},\"mode\":\"lines\",\"opacity\":1,\"showlegend\":false,\"x\":[4450,4551],\"xaxis\":\"x\",\"y\":[3,3],\"yaxis\":\"y\",\"type\":\"scatter\"},{\"hovertemplate\":\"\\u003cb\\u003etranscript_name:\\u003c\\u002fb\\u003e APP-204\\u003cbr\\u003e\\u003cb\\u003eFeature Type:\\u003c\\u002fb\\u003e intron\\u003cbr\\u003e\\u003cb\\u003eFeature Number:\\u003c\\u002fb\\u003e 3\\u003cbr\\u003e\\u003cb\\u003eChromosome:\\u003c\\u002fb\\u003e 21\\u003cbr\\u003e\\u003cb\\u003eStart:\\u003c\\u002fb\\u003e 26053348\\u003cbr\\u003e\\u003cb\\u003eEnd:\\u003c\\u002fb\\u003e 26089943\\u003cbr\\u003e\\u003cb\\u003eSize:\\u003c\\u002fb\\u003e 36595\\u003cbr\\u003e\\u003cextra\\u003e\\u003c\\u002fextra\\u003e\",\"line\":{\"color\":\"black\",\"width\":0.5},\"mode\":\"lines\",\"opacity\":1,\"showlegend\":false,\"x\":[4663,4764],\"xaxis\":\"x\",\"y\":[3,3],\"yaxis\":\"y\",\"type\":\"scatter\"},{\"hovertemplate\":\"\\u003cb\\u003etranscript_name:\\u003c\\u002fb\\u003e APP-204\\u003cbr\\u003e\\u003cb\\u003eFeature Type:\\u003c\\u002fb\\u003e intron\\u003cbr\\u003e\\u003cb\\u003eFeature Number:\\u003c\\u002fb\\u003e 2\\u003cbr\\u003e\\u003cb\\u003eChromosome:\\u003c\\u002fb\\u003e 21\\u003cbr\\u003e\\u003cb\\u003eStart:\\u003c\\u002fb\\u003e 26090072\\u003cbr\\u003e\\u003cb\\u003eEnd:\\u003c\\u002fb\\u003e 26111979\\u003cbr\\u003e\\u003cb\\u003eSize:\\u003c\\u002fb\\u003e 21907\\u003cbr\\u003e\\u003cextra\\u003e\\u003c\\u002fextra\\u003e\",\"line\":{\"color\":\"black\",\"width\":0.5},\"mode\":\"lines\",\"opacity\":1,\"showlegend\":false,\"x\":[4893,4994],\"xaxis\":\"x\",\"y\":[3,3],\"yaxis\":\"y\",\"type\":\"scatter\"},{\"hovertemplate\":\"\\u003cb\\u003etranscript_name:\\u003c\\u002fb\\u003e APP-204\\u003cbr\\u003e\\u003cb\\u003eFeature Type:\\u003c\\u002fb\\u003e intron\\u003cbr\\u003e\\u003cb\\u003eFeature Number:\\u003c\\u002fb\\u003e 1\\u003cbr\\u003e\\u003cb\\u003eChromosome:\\u003c\\u002fb\\u003e 21\\u003cbr\\u003e\\u003cb\\u003eStart:\\u003c\\u002fb\\u003e 26112146\\u003cbr\\u003e\\u003cb\\u003eEnd:\\u003c\\u002fb\\u003e 26170564\\u003cbr\\u003e\\u003cb\\u003eSize:\\u003c\\u002fb\\u003e 58418\\u003cbr\\u003e\\u003cextra\\u003e\\u003c\\u002fextra\\u003e\",\"line\":{\"color\":\"black\",\"width\":0.5},\"mode\":\"lines\",\"opacity\":1,\"showlegend\":false,\"x\":[5161,5262],\"xaxis\":\"x\",\"y\":[3,3],\"yaxis\":\"y\",\"type\":\"scatter\"},{\"hovertemplate\":\"\\u003cb\\u003etranscript_name:\\u003c\\u002fb\\u003e APP-202\\u003cbr\\u003e\\u003cb\\u003eFeature Type:\\u003c\\u002fb\\u003e intron\\u003cbr\\u003e\\u003cb\\u003eFeature Number:\\u003c\\u002fb\\u003e 15\\u003cbr\\u003e\\u003cb\\u003eChromosome:\\u003c\\u002fb\\u003e 21\\u003cbr\\u003e\\u003cb\\u003eStart:\\u003c\\u002fb\\u003e 25881771\\u003cbr\\u003e\\u003cb\\u003eEnd:\\u003c\\u002fb\\u003e 25891722\\u003cbr\\u003e\\u003cb\\u003eSize:\\u003c\\u002fb\\u003e 9951\\u003cbr\\u003e\\u003cextra\\u003e\\u003c\\u002fextra\\u003e\",\"line\":{\"color\":\"black\",\"width\":0.5},\"mode\":\"lines\",\"opacity\":1,\"showlegend\":false,\"x\":[1223,1324],\"xaxis\":\"x\",\"y\":[4,4],\"yaxis\":\"y\",\"type\":\"scatter\"},{\"hovertemplate\":\"\\u003cb\\u003etranscript_name:\\u003c\\u002fb\\u003e APP-202\\u003cbr\\u003e\\u003cb\\u003eFeature Type:\\u003c\\u002fb\\u003e intron\\u003cbr\\u003e\\u003cb\\u003eFeature Number:\\u003c\\u002fb\\u003e 14\\u003cbr\\u003e\\u003cb\\u003eChromosome:\\u003c\\u002fb\\u003e 21\\u003cbr\\u003e\\u003cb\\u003eStart:\\u003c\\u002fb\\u003e 25891868\\u003cbr\\u003e\\u003cb\\u003eEnd:\\u003c\\u002fb\\u003e 25897573\\u003cbr\\u003e\\u003cb\\u003eSize:\\u003c\\u002fb\\u003e 5705\\u003cbr\\u003e\\u003cextra\\u003e\\u003c\\u002fextra\\u003e\",\"line\":{\"color\":\"black\",\"width\":0.5},\"mode\":\"lines\",\"opacity\":1,\"showlegend\":false,\"x\":[1470,1571],\"xaxis\":\"x\",\"y\":[4,4],\"yaxis\":\"y\",\"type\":\"scatter\"},{\"hovertemplate\":\"\\u003cb\\u003etranscript_name:\\u003c\\u002fb\\u003e APP-202\\u003cbr\\u003e\\u003cb\\u003eFeature Type:\\u003c\\u002fb\\u003e intron\\u003cbr\\u003e\\u003cb\\u003eFeature Number:\\u003c\\u002fb\\u003e 13\\u003cbr\\u003e\\u003cb\\u003eChromosome:\\u003c\\u002fb\\u003e 21\\u003cbr\\u003e\\u003cb\\u003eStart:\\u003c\\u002fb\\u003e 25897673\\u003cbr\\u003e\\u003cb\\u003eEnd:\\u003c\\u002fb\\u003e 25905024\\u003cbr\\u003e\\u003cb\\u003eSize:\\u003c\\u002fb\\u003e 7351\\u003cbr\\u003e\\u003cextra\\u003e\\u003c\\u002fextra\\u003e\",\"line\":{\"color\":\"black\",\"width\":0.5},\"mode\":\"lines\",\"opacity\":1,\"showlegend\":false,\"x\":[1671,1772],\"xaxis\":\"x\",\"y\":[4,4],\"yaxis\":\"y\",\"type\":\"scatter\"},{\"hovertemplate\":\"\\u003cb\\u003etranscript_name:\\u003c\\u002fb\\u003e APP-202\\u003cbr\\u003e\\u003cb\\u003eFeature Type:\\u003c\\u002fb\\u003e intron\\u003cbr\\u003e\\u003cb\\u003eFeature Number:\\u003c\\u002fb\\u003e 12\\u003cbr\\u003e\\u003cb\\u003eChromosome:\\u003c\\u002fb\\u003e 21\\u003cbr\\u003e\\u003cb\\u003eStart:\\u003c\\u002fb\\u003e 25905077\\u003cbr\\u003e\\u003cb\\u003eEnd:\\u003c\\u002fb\\u003e 25911741\\u003cbr\\u003e\\u003cb\\u003eSize:\\u003c\\u002fb\\u003e 6664\\u003cbr\\u003e\\u003cextra\\u003e\\u003c\\u002fextra\\u003e\",\"line\":{\"color\":\"black\",\"width\":0.5},\"mode\":\"lines\",\"opacity\":1,\"showlegend\":false,\"x\":[1825,1926],\"xaxis\":\"x\",\"y\":[4,4],\"yaxis\":\"y\",\"type\":\"scatter\"},{\"hovertemplate\":\"\\u003cb\\u003etranscript_name:\\u003c\\u002fb\\u003e APP-202\\u003cbr\\u003e\\u003cb\\u003eFeature Type:\\u003c\\u002fb\\u003e intron\\u003cbr\\u003e\\u003cb\\u003eFeature Number:\\u003c\\u002fb\\u003e 11\\u003cbr\\u003e\\u003cb\\u003eChromosome:\\u003c\\u002fb\\u003e 21\\u003cbr\\u003e\\u003cb\\u003eStart:\\u003c\\u002fb\\u003e 25911962\\u003cbr\\u003e\\u003cb\\u003eEnd:\\u003c\\u002fb\\u003e 25954590\\u003cbr\\u003e\\u003cb\\u003eSize:\\u003c\\u002fb\\u003e 42628\\u003cbr\\u003e\\u003cextra\\u003e\\u003c\\u002fextra\\u003e\",\"line\":{\"color\":\"black\",\"width\":0.5},\"mode\":\"lines\",\"opacity\":1,\"showlegend\":false,\"x\":[2147,2432],\"xaxis\":\"x\",\"y\":[4,4],\"yaxis\":\"y\",\"type\":\"scatter\"},{\"hovertemplate\":\"\\u003cb\\u003etranscript_name:\\u003c\\u002fb\\u003e APP-202\\u003cbr\\u003e\\u003cb\\u003eFeature Type:\\u003c\\u002fb\\u003e intron\\u003cbr\\u003e\\u003cb\\u003eFeature Number:\\u003c\\u002fb\\u003e 10\\u003cbr\\u003e\\u003cb\\u003eChromosome:\\u003c\\u002fb\\u003e 21\\u003cbr\\u003e\\u003cb\\u003eStart:\\u003c\\u002fb\\u003e 25954689\\u003cbr\\u003e\\u003cb\\u003eEnd:\\u003c\\u002fb\\u003e 25955627\\u003cbr\\u003e\\u003cb\\u003eSize:\\u003c\\u002fb\\u003e 938\\u003cbr\\u003e\\u003cextra\\u003e\\u003c\\u002fextra\\u003e\",\"line\":{\"color\":\"black\",\"width\":0.5},\"mode\":\"lines\",\"opacity\":1,\"showlegend\":false,\"x\":[2531,2632],\"xaxis\":\"x\",\"y\":[4,4],\"yaxis\":\"y\",\"type\":\"scatter\"},{\"hovertemplate\":\"\\u003cb\\u003etranscript_name:\\u003c\\u002fb\\u003e APP-202\\u003cbr\\u003e\\u003cb\\u003eFeature Type:\\u003c\\u002fb\\u003e intron\\u003cbr\\u003e\\u003cb\\u003eFeature Number:\\u003c\\u002fb\\u003e 9\\u003cbr\\u003e\\u003cb\\u003eChromosome:\\u003c\\u002fb\\u003e 21\\u003cbr\\u003e\\u003cb\\u003eStart:\\u003c\\u002fb\\u003e 25955755\\u003cbr\\u003e\\u003cb\\u003eEnd:\\u003c\\u002fb\\u003e 25975070\\u003cbr\\u003e\\u003cb\\u003eSize:\\u003c\\u002fb\\u003e 19315\\u003cbr\\u003e\\u003cextra\\u003e\\u003c\\u002fextra\\u003e\",\"line\":{\"color\":\"black\",\"width\":0.5},\"mode\":\"lines\",\"opacity\":1,\"showlegend\":false,\"x\":[2760,2861],\"xaxis\":\"x\",\"y\":[4,4],\"yaxis\":\"y\",\"type\":\"scatter\"},{\"hovertemplate\":\"\\u003cb\\u003etranscript_name:\\u003c\\u002fb\\u003e APP-202\\u003cbr\\u003e\\u003cb\\u003eFeature Type:\\u003c\\u002fb\\u003e intron\\u003cbr\\u003e\\u003cb\\u003eFeature Number:\\u003c\\u002fb\\u003e 8\\u003cbr\\u003e\\u003cb\\u003eChromosome:\\u003c\\u002fb\\u003e 21\\u003cbr\\u003e\\u003cb\\u003eStart:\\u003c\\u002fb\\u003e 25975228\\u003cbr\\u003e\\u003cb\\u003eEnd:\\u003c\\u002fb\\u003e 25975954\\u003cbr\\u003e\\u003cb\\u003eSize:\\u003c\\u002fb\\u003e 726\\u003cbr\\u003e\\u003cextra\\u003e\\u003c\\u002fextra\\u003e\",\"line\":{\"color\":\"black\",\"width\":0.5},\"mode\":\"lines\",\"opacity\":1,\"showlegend\":false,\"x\":[3019,3120],\"xaxis\":\"x\",\"y\":[4,4],\"yaxis\":\"y\",\"type\":\"scatter\"},{\"hovertemplate\":\"\\u003cb\\u003etranscript_name:\\u003c\\u002fb\\u003e APP-202\\u003cbr\\u003e\\u003cb\\u003eFeature Type:\\u003c\\u002fb\\u003e intron\\u003cbr\\u003e\\u003cb\\u003eFeature Number:\\u003c\\u002fb\\u003e 7\\u003cbr\\u003e\\u003cb\\u003eChromosome:\\u003c\\u002fb\\u003e 21\\u003cbr\\u003e\\u003cb\\u003eStart:\\u003c\\u002fb\\u003e 25976028\\u003cbr\\u003e\\u003cb\\u003eEnd:\\u003c\\u002fb\\u003e 25982344\\u003cbr\\u003e\\u003cb\\u003eSize:\\u003c\\u002fb\\u003e 6316\\u003cbr\\u003e\\u003cextra\\u003e\\u003c\\u002fextra\\u003e\",\"line\":{\"color\":\"black\",\"width\":0.5},\"mode\":\"lines\",\"opacity\":1,\"showlegend\":false,\"x\":[3194,3295],\"xaxis\":\"x\",\"y\":[4,4],\"yaxis\":\"y\",\"type\":\"scatter\"},{\"hoverinfo\":\"skip\",\"marker\":{\"color\":\"black\",\"size\":6,\"symbol\":\"arrow-left\"},\"mode\":\"markers\",\"opacity\":1,\"showlegend\":false,\"x\":[3615.8571428571427],\"xaxis\":\"x\",\"y\":[4],\"yaxis\":\"y\",\"type\":\"scatter\"},{\"hovertemplate\":\"\\u003cb\\u003etranscript_name:\\u003c\\u002fb\\u003e APP-202\\u003cbr\\u003e\\u003cb\\u003eFeature Type:\\u003c\\u002fb\\u003e intron\\u003cbr\\u003e\\u003cb\\u003eFeature Number:\\u003c\\u002fb\\u003e 6\\u003cbr\\u003e\\u003cb\\u003eChromosome:\\u003c\\u002fb\\u003e 21\\u003cbr\\u003e\\u003cb\\u003eStart:\\u003c\\u002fb\\u003e 25982477\\u003cbr\\u003e\\u003cb\\u003eEnd:\\u003c\\u002fb\\u003e 26021840\\u003cbr\\u003e\\u003cb\\u003eSize:\\u003c\\u002fb\\u003e 39363\\u003cbr\\u003e\\u003cextra\\u003e\\u003c\\u002fextra\\u003e\",\"line\":{\"color\":\"black\",\"width\":0.5},\"mode\":\"lines\",\"opacity\":1,\"showlegend\":false,\"x\":[3428,3954],\"xaxis\":\"x\",\"y\":[4,4],\"yaxis\":\"y\",\"type\":\"scatter\"},{\"hovertemplate\":\"\\u003cb\\u003etranscript_name:\\u003c\\u002fb\\u003e APP-202\\u003cbr\\u003e\\u003cb\\u003eFeature Type:\\u003c\\u002fb\\u003e intron\\u003cbr\\u003e\\u003cb\\u003eFeature Number:\\u003c\\u002fb\\u003e 5\\u003cbr\\u003e\\u003cb\\u003eChromosome:\\u003c\\u002fb\\u003e 21\\u003cbr\\u003e\\u003cb\\u003eStart:\\u003c\\u002fb\\u003e 26022042\\u003cbr\\u003e\\u003cb\\u003eEnd:\\u003c\\u002fb\\u003e 26051000\\u003cbr\\u003e\\u003cb\\u003eSize:\\u003c\\u002fb\\u003e 28958\\u003cbr\\u003e\\u003cextra\\u003e\\u003c\\u002fextra\\u003e\",\"line\":{\"color\":\"black\",\"width\":0.5},\"mode\":\"lines\",\"opacity\":1,\"showlegend\":false,\"x\":[4156,4257],\"xaxis\":\"x\",\"y\":[4,4],\"yaxis\":\"y\",\"type\":\"scatter\"},{\"hovertemplate\":\"\\u003cb\\u003etranscript_name:\\u003c\\u002fb\\u003e APP-202\\u003cbr\\u003e\\u003cb\\u003eFeature Type:\\u003c\\u002fb\\u003e intron\\u003cbr\\u003e\\u003cb\\u003eFeature Number:\\u003c\\u002fb\\u003e 4\\u003cbr\\u003e\\u003cb\\u003eChromosome:\\u003c\\u002fb\\u003e 21\\u003cbr\\u003e\\u003cb\\u003eStart:\\u003c\\u002fb\\u003e 26051193\\u003cbr\\u003e\\u003cb\\u003eEnd:\\u003c\\u002fb\\u003e 26053236\\u003cbr\\u003e\\u003cb\\u003eSize:\\u003c\\u002fb\\u003e 2043\\u003cbr\\u003e\\u003cextra\\u003e\\u003c\\u002fextra\\u003e\",\"line\":{\"color\":\"black\",\"width\":0.5},\"mode\":\"lines\",\"opacity\":1,\"showlegend\":false,\"x\":[4450,4551],\"xaxis\":\"x\",\"y\":[4,4],\"yaxis\":\"y\",\"type\":\"scatter\"},{\"hovertemplate\":\"\\u003cb\\u003etranscript_name:\\u003c\\u002fb\\u003e APP-202\\u003cbr\\u003e\\u003cb\\u003eFeature Type:\\u003c\\u002fb\\u003e intron\\u003cbr\\u003e\\u003cb\\u003eFeature Number:\\u003c\\u002fb\\u003e 3\\u003cbr\\u003e\\u003cb\\u003eChromosome:\\u003c\\u002fb\\u003e 21\\u003cbr\\u003e\\u003cb\\u003eStart:\\u003c\\u002fb\\u003e 26053348\\u003cbr\\u003e\\u003cb\\u003eEnd:\\u003c\\u002fb\\u003e 26089943\\u003cbr\\u003e\\u003cb\\u003eSize:\\u003c\\u002fb\\u003e 36595\\u003cbr\\u003e\\u003cextra\\u003e\\u003c\\u002fextra\\u003e\",\"line\":{\"color\":\"black\",\"width\":0.5},\"mode\":\"lines\",\"opacity\":1,\"showlegend\":false,\"x\":[4663,4764],\"xaxis\":\"x\",\"y\":[4,4],\"yaxis\":\"y\",\"type\":\"scatter\"},{\"hovertemplate\":\"\\u003cb\\u003etranscript_name:\\u003c\\u002fb\\u003e APP-202\\u003cbr\\u003e\\u003cb\\u003eFeature Type:\\u003c\\u002fb\\u003e intron\\u003cbr\\u003e\\u003cb\\u003eFeature Number:\\u003c\\u002fb\\u003e 2\\u003cbr\\u003e\\u003cb\\u003eChromosome:\\u003c\\u002fb\\u003e 21\\u003cbr\\u003e\\u003cb\\u003eStart:\\u003c\\u002fb\\u003e 26090072\\u003cbr\\u003e\\u003cb\\u003eEnd:\\u003c\\u002fb\\u003e 26111979\\u003cbr\\u003e\\u003cb\\u003eSize:\\u003c\\u002fb\\u003e 21907\\u003cbr\\u003e\\u003cextra\\u003e\\u003c\\u002fextra\\u003e\",\"line\":{\"color\":\"black\",\"width\":0.5},\"mode\":\"lines\",\"opacity\":1,\"showlegend\":false,\"x\":[4893,4994],\"xaxis\":\"x\",\"y\":[4,4],\"yaxis\":\"y\",\"type\":\"scatter\"},{\"hovertemplate\":\"\\u003cb\\u003etranscript_name:\\u003c\\u002fb\\u003e APP-202\\u003cbr\\u003e\\u003cb\\u003eFeature Type:\\u003c\\u002fb\\u003e intron\\u003cbr\\u003e\\u003cb\\u003eFeature Number:\\u003c\\u002fb\\u003e 1\\u003cbr\\u003e\\u003cb\\u003eChromosome:\\u003c\\u002fb\\u003e 21\\u003cbr\\u003e\\u003cb\\u003eStart:\\u003c\\u002fb\\u003e 26112146\\u003cbr\\u003e\\u003cb\\u003eEnd:\\u003c\\u002fb\\u003e 26170564\\u003cbr\\u003e\\u003cb\\u003eSize:\\u003c\\u002fb\\u003e 58418\\u003cbr\\u003e\\u003cextra\\u003e\\u003c\\u002fextra\\u003e\",\"line\":{\"color\":\"black\",\"width\":0.5},\"mode\":\"lines\",\"opacity\":1,\"showlegend\":false,\"x\":[5161,5262],\"xaxis\":\"x\",\"y\":[4,4],\"yaxis\":\"y\",\"type\":\"scatter\"},{\"boxmean\":false,\"boxpoints\":\"all\",\"fillcolor\":\"#FECB52\",\"jitter\":0.3,\"legendgroup\":\"AD\",\"legendgrouptitle\":{\"text\":\"\\u003cb\\u003e\\u003cu\\u003eExpression Plot Hue\\u003cu\\u003e\\u003cb\\u003e\"},\"line\":{\"width\":0.5},\"marker\":{\"color\":\"black\",\"opacity\":1,\"size\":1},\"name\":\"AD\",\"offsetgroup\":\"0\",\"opacity\":1,\"orientation\":\"h\",\"pointpos\":0,\"showlegend\":true,\"text\":[\"sample_1\",\"sample_7\",\"sample_3\",\"sample_5\",\"sample_1\",\"sample_7\",\"sample_3\",\"sample_5\",\"sample_1\",\"sample_7\",\"sample_3\",\"sample_5\",\"sample_1\",\"sample_7\",\"sample_3\",\"sample_5\",\"sample_1\",\"sample_7\",\"sample_3\",\"sample_5\",\"sample_1\",\"sample_7\",\"sample_3\",\"sample_5\",\"sample_1\",\"sample_7\",\"sample_3\",\"sample_5\",\"sample_1\",\"sample_7\",\"sample_3\",\"sample_5\",\"sample_1\",\"sample_7\",\"sample_3\",\"sample_5\",\"sample_1\",\"sample_7\",\"sample_3\",\"sample_5\",\"sample_1\",\"sample_7\",\"sample_3\",\"sample_5\",\"sample_1\",\"sample_7\",\"sample_3\",\"sample_5\",\"sample_1\",\"sample_7\",\"sample_3\",\"sample_5\",\"sample_1\",\"sample_7\",\"sample_3\",\"sample_5\",\"sample_1\",\"sample_7\",\"sample_3\",\"sample_5\",\"sample_1\",\"sample_7\",\"sample_3\",\"sample_5\",\"sample_1\",\"sample_7\",\"sample_3\",\"sample_5\",\"sample_1\",\"sample_7\",\"sample_3\",\"sample_5\",\"sample_1\",\"sample_7\",\"sample_3\",\"sample_5\",\"sample_1\",\"sample_7\",\"sample_3\",\"sample_5\",\"sample_1\",\"sample_7\",\"sample_3\",\"sample_5\",\"sample_1\",\"sample_7\",\"sample_3\",\"sample_5\",\"sample_1\",\"sample_7\",\"sample_3\",\"sample_5\",\"sample_1\",\"sample_7\",\"sample_3\",\"sample_5\",\"sample_1\",\"sample_7\",\"sample_3\",\"sample_5\",\"sample_1\",\"sample_7\",\"sample_3\",\"sample_5\",\"sample_1\",\"sample_7\",\"sample_3\",\"sample_5\",\"sample_1\",\"sample_7\",\"sample_3\",\"sample_5\",\"sample_1\",\"sample_7\",\"sample_3\",\"sample_5\",\"sample_1\",\"sample_7\",\"sample_3\",\"sample_5\",\"sample_1\",\"sample_7\",\"sample_3\",\"sample_5\",\"sample_1\",\"sample_7\",\"sample_3\",\"sample_5\",\"sample_1\",\"sample_7\",\"sample_3\",\"sample_5\",\"sample_1\",\"sample_7\",\"sample_3\",\"sample_5\",\"sample_1\",\"sample_7\",\"sample_3\",\"sample_5\",\"sample_1\",\"sample_7\",\"sample_3\",\"sample_5\",\"sample_1\",\"sample_7\",\"sample_3\",\"sample_5\",\"sample_1\",\"sample_7\",\"sample_3\",\"sample_5\",\"sample_1\",\"sample_7\",\"sample_3\",\"sample_5\",\"sample_1\",\"sample_7\",\"sample_3\",\"sample_5\",\"sample_1\",\"sample_7\",\"sample_3\",\"sample_5\",\"sample_1\",\"sample_7\",\"sample_3\",\"sample_5\",\"sample_1\",\"sample_7\",\"sample_3\",\"sample_5\",\"sample_1\",\"sample_7\",\"sample_3\",\"sample_5\",\"sample_1\",\"sample_7\",\"sample_3\",\"sample_5\",\"sample_1\",\"sample_7\",\"sample_3\",\"sample_5\",\"sample_1\",\"sample_7\",\"sample_3\",\"sample_5\",\"sample_1\",\"sample_7\",\"sample_3\",\"sample_5\",\"sample_1\",\"sample_7\",\"sample_3\",\"sample_5\",\"sample_1\",\"sample_7\",\"sample_3\",\"sample_5\",\"sample_1\",\"sample_7\",\"sample_3\",\"sample_5\",\"sample_1\",\"sample_7\",\"sample_3\",\"sample_5\",\"sample_1\",\"sample_7\",\"sample_3\",\"sample_5\",\"sample_1\",\"sample_7\",\"sample_3\",\"sample_5\",\"sample_1\",\"sample_7\",\"sample_3\",\"sample_5\",\"sample_1\",\"sample_7\",\"sample_3\",\"sample_5\",\"sample_1\",\"sample_7\",\"sample_3\",\"sample_5\",\"sample_1\",\"sample_7\",\"sample_3\",\"sample_5\",\"sample_1\",\"sample_7\",\"sample_3\",\"sample_5\",\"sample_1\",\"sample_7\",\"sample_3\",\"sample_5\",\"sample_1\",\"sample_7\",\"sample_3\",\"sample_5\",\"sample_1\",\"sample_7\",\"sample_3\",\"sample_5\",\"sample_1\",\"sample_7\",\"sample_3\",\"sample_5\",\"sample_1\",\"sample_7\",\"sample_3\",\"sample_5\",\"sample_1\",\"sample_7\",\"sample_3\",\"sample_5\",\"sample_1\",\"sample_7\",\"sample_3\",\"sample_5\",\"sample_1\",\"sample_7\",\"sample_3\",\"sample_5\",\"sample_1\",\"sample_7\",\"sample_3\",\"sample_5\",\"sample_1\",\"sample_7\",\"sample_3\",\"sample_5\",\"sample_1\",\"sample_7\",\"sample_3\",\"sample_5\",\"sample_1\",\"sample_7\",\"sample_3\",\"sample_5\",\"sample_1\",\"sample_7\",\"sample_3\",\"sample_5\",\"sample_1\",\"sample_7\",\"sample_3\",\"sample_5\",\"sample_1\",\"sample_7\",\"sample_3\",\"sample_5\",\"sample_1\",\"sample_7\",\"sample_3\",\"sample_5\",\"sample_1\",\"sample_7\",\"sample_3\",\"sample_5\",\"sample_1\",\"sample_7\",\"sample_3\",\"sample_5\",\"sample_1\",\"sample_7\",\"sample_3\",\"sample_5\",\"sample_1\",\"sample_7\",\"sample_3\",\"sample_5\",\"sample_1\",\"sample_7\",\"sample_3\",\"sample_5\",\"sample_1\",\"sample_7\",\"sample_3\",\"sample_5\",\"sample_1\",\"sample_7\",\"sample_3\",\"sample_5\",\"sample_1\",\"sample_7\",\"sample_3\",\"sample_5\",\"sample_1\",\"sample_7\",\"sample_3\",\"sample_5\",\"sample_1\",\"sample_7\",\"sample_3\",\"sample_5\",\"sample_1\",\"sample_7\",\"sample_3\",\"sample_5\",\"sample_1\",\"sample_7\",\"sample_3\",\"sample_5\",\"sample_1\",\"sample_7\",\"sample_3\",\"sample_5\",\"sample_1\",\"sample_7\",\"sample_3\",\"sample_5\",\"sample_1\",\"sample_7\",\"sample_3\",\"sample_5\",\"sample_1\",\"sample_7\",\"sample_3\",\"sample_5\",\"sample_1\",\"sample_7\",\"sample_3\",\"sample_5\",\"sample_1\",\"sample_7\",\"sample_3\",\"sample_5\",\"sample_1\",\"sample_7\",\"sample_3\",\"sample_5\",\"sample_1\",\"sample_7\",\"sample_3\",\"sample_5\",\"sample_1\",\"sample_7\",\"sample_3\",\"sample_5\",\"sample_1\",\"sample_7\",\"sample_3\",\"sample_5\",\"sample_1\",\"sample_7\",\"sample_3\",\"sample_5\",\"sample_1\",\"sample_7\",\"sample_3\",\"sample_5\",\"sample_1\",\"sample_7\",\"sample_3\",\"sample_5\",\"sample_1\",\"sample_7\",\"sample_3\",\"sample_5\",\"sample_1\",\"sample_7\",\"sample_3\",\"sample_5\",\"sample_1\",\"sample_7\",\"sample_3\",\"sample_5\",\"sample_1\",\"sample_7\",\"sample_3\",\"sample_5\",\"sample_1\",\"sample_7\",\"sample_3\",\"sample_5\",\"sample_1\",\"sample_7\",\"sample_3\",\"sample_5\",\"sample_1\",\"sample_7\",\"sample_3\",\"sample_5\",\"sample_1\",\"sample_7\",\"sample_3\",\"sample_5\",\"sample_1\",\"sample_7\",\"sample_3\",\"sample_5\",\"sample_1\",\"sample_7\",\"sample_3\",\"sample_5\",\"sample_1\",\"sample_7\",\"sample_3\",\"sample_5\",\"sample_1\",\"sample_7\",\"sample_3\",\"sample_5\",\"sample_1\",\"sample_7\",\"sample_3\",\"sample_5\",\"sample_1\",\"sample_7\",\"sample_3\",\"sample_5\",\"sample_1\",\"sample_7\",\"sample_3\",\"sample_5\",\"sample_1\",\"sample_7\",\"sample_3\",\"sample_5\",\"sample_1\",\"sample_7\",\"sample_3\",\"sample_5\",\"sample_1\",\"sample_7\",\"sample_3\",\"sample_5\",\"sample_1\",\"sample_7\",\"sample_3\",\"sample_5\",\"sample_1\",\"sample_7\",\"sample_3\",\"sample_5\",\"sample_1\",\"sample_7\",\"sample_3\",\"sample_5\",\"sample_1\",\"sample_7\",\"sample_3\",\"sample_5\",\"sample_1\",\"sample_7\",\"sample_3\",\"sample_5\",\"sample_1\",\"sample_7\",\"sample_3\",\"sample_5\",\"sample_1\",\"sample_7\",\"sample_3\",\"sample_5\",\"sample_1\",\"sample_7\",\"sample_3\",\"sample_5\",\"sample_1\",\"sample_7\",\"sample_3\",\"sample_5\",\"sample_1\",\"sample_7\",\"sample_3\",\"sample_5\",\"sample_1\",\"sample_7\",\"sample_3\",\"sample_5\",\"sample_1\",\"sample_7\",\"sample_3\",\"sample_5\",\"sample_1\",\"sample_7\",\"sample_3\",\"sample_5\",\"sample_1\",\"sample_7\",\"sample_3\",\"sample_5\",\"sample_1\",\"sample_7\",\"sample_3\",\"sample_5\",\"sample_1\",\"sample_7\",\"sample_3\",\"sample_5\",\"sample_1\",\"sample_7\",\"sample_3\",\"sample_5\",\"sample_1\",\"sample_7\",\"sample_3\",\"sample_5\",\"sample_1\",\"sample_7\",\"sample_3\",\"sample_5\",\"sample_1\",\"sample_7\",\"sample_3\",\"sample_5\",\"sample_1\",\"sample_7\",\"sample_3\",\"sample_5\"],\"x\":[75.03901,777.59199,1875.61735,57.10673,75.03901,777.59199,1875.61735,57.10673,75.03901,777.59199,1875.61735,57.10673,75.03901,777.59199,1875.61735,57.10673,75.03901,777.59199,1875.61735,57.10673,75.03901,777.59199,1875.61735,57.10673,75.03901,777.59199,1875.61735,57.10673,75.03901,777.59199,1875.61735,57.10673,75.03901,777.59199,1875.61735,57.10673,75.03901,777.59199,1875.61735,57.10673,75.03901,777.59199,1875.61735,57.10673,75.03901,777.59199,1875.61735,57.10673,75.03901,777.59199,1875.61735,57.10673,75.03901,777.59199,1875.61735,57.10673,75.03901,777.59199,1875.61735,57.10673,75.03901,777.59199,1875.61735,57.10673,75.03901,777.59199,1875.61735,57.10673,75.03901,777.59199,1875.61735,57.10673,75.03901,777.59199,1875.61735,57.10673,75.03901,777.59199,1875.61735,57.10673,75.03901,777.59199,1875.61735,57.10673,75.03901,777.59199,1875.61735,57.10673,75.03901,777.59199,1875.61735,57.10673,75.03901,777.59199,1875.61735,57.10673,75.03901,777.59199,1875.61735,57.10673,75.03901,777.59199,1875.61735,57.10673,75.03901,777.59199,1875.61735,57.10673,75.03901,777.59199,1875.61735,57.10673,75.03901,777.59199,1875.61735,57.10673,75.03901,777.59199,1875.61735,57.10673,75.03901,777.59199,1875.61735,57.10673,75.03901,777.59199,1875.61735,57.10673,75.03901,777.59199,1875.61735,57.10673,75.03901,777.59199,1875.61735,57.10673,75.03901,777.59199,1875.61735,57.10673,75.03901,777.59199,1875.61735,57.10673,32000.11649,9104.24543,6801.39742,13357.82555,32000.11649,9104.24543,6801.39742,13357.82555,32000.11649,9104.24543,6801.39742,13357.82555,32000.11649,9104.24543,6801.39742,13357.82555,32000.11649,9104.24543,6801.39742,13357.82555,32000.11649,9104.24543,6801.39742,13357.82555,0.0,19375.31439,10.47779,0.0,0.0,19375.31439,10.47779,0.0,0.0,19375.31439,10.47779,0.0,0.0,19375.31439,10.47779,0.0,0.0,19375.31439,10.47779,0.0,0.0,19375.31439,10.47779,0.0,0.0,19375.31439,10.47779,0.0,0.0,19375.31439,10.47779,0.0,0.0,19375.31439,10.47779,0.0,0.0,19375.31439,10.47779,0.0,0.0,19375.31439,10.47779,0.0,0.0,19375.31439,10.47779,0.0,0.0,19375.31439,10.47779,0.0,0.0,19375.31439,10.47779,0.0,0.0,19375.31439,10.47779,0.0,0.0,19375.31439,10.47779,0.0,0.0,19375.31439,10.47779,0.0,0.0,19375.31439,10.47779,0.0,0.0,19375.31439,10.47779,0.0,0.0,19375.31439,10.47779,0.0,0.0,19375.31439,10.47779,0.0,0.0,19375.31439,10.47779,0.0,0.0,19375.31439,10.47779,0.0,0.0,19375.31439,10.47779,0.0,0.0,19375.31439,10.47779,0.0,0.0,19375.31439,10.47779,0.0,0.0,19375.31439,10.47779,0.0,0.0,19375.31439,10.47779,0.0,0.0,19375.31439,10.47779,0.0,0.0,19375.31439,10.47779,0.0,0.0,19375.31439,10.47779,0.0,622.78413,4949.323,4385.15006,817.18271,622.78413,4949.323,4385.15006,817.18271,622.78413,4949.323,4385.15006,817.18271,622.78413,4949.323,4385.15006,817.18271,622.78413,4949.323,4385.15006,817.18271,622.78413,4949.323,4385.15006,817.18271,622.78413,4949.323,4385.15006,817.18271,622.78413,4949.323,4385.15006,817.18271,622.78413,4949.323,4385.15006,817.18271,622.78413,4949.323,4385.15006,817.18271,622.78413,4949.323,4385.15006,817.18271,622.78413,4949.323,4385.15006,817.18271,622.78413,4949.323,4385.15006,817.18271,622.78413,4949.323,4385.15006,817.18271,622.78413,4949.323,4385.15006,817.18271,622.78413,4949.323,4385.15006,817.18271,622.78413,4949.323,4385.15006,817.18271,622.78413,4949.323,4385.15006,817.18271,622.78413,4949.323,4385.15006,817.18271,622.78413,4949.323,4385.15006,817.18271,622.78413,4949.323,4385.15006,817.18271,622.78413,4949.323,4385.15006,817.18271,622.78413,4949.323,4385.15006,817.18271,622.78413,4949.323,4385.15006,817.18271,622.78413,4949.323,4385.15006,817.18271,622.78413,4949.323,4385.15006,817.18271,622.78413,4949.323,4385.15006,817.18271,622.78413,4949.323,4385.15006,817.18271,622.78413,4949.323,4385.15006,817.18271,622.78413,4949.323,4385.15006,817.18271,622.78413,4949.323,4385.15006,817.18271,622.78413,4949.323,4385.15006,817.18271,622.78413,4949.323,4385.15006,817.18271,622.78413,4949.323,4385.15006,817.18271,21.32691,6974.68126,4317.08803,158.32861,21.32691,6974.68126,4317.08803,158.32861,21.32691,6974.68126,4317.08803,158.32861,21.32691,6974.68126,4317.08803,158.32861,21.32691,6974.68126,4317.08803,158.32861,21.32691,6974.68126,4317.08803,158.32861,21.32691,6974.68126,4317.08803,158.32861,21.32691,6974.68126,4317.08803,158.32861,21.32691,6974.68126,4317.08803,158.32861,21.32691,6974.68126,4317.08803,158.32861,21.32691,6974.68126,4317.08803,158.32861,21.32691,6974.68126,4317.08803,158.32861,21.32691,6974.68126,4317.08803,158.32861,21.32691,6974.68126,4317.08803,158.32861,21.32691,6974.68126,4317.08803,158.32861,21.32691,6974.68126,4317.08803,158.32861,21.32691,6974.68126,4317.08803,158.32861,21.32691,6974.68126,4317.08803,158.32861,21.32691,6974.68126,4317.08803,158.32861,21.32691,6974.68126,4317.08803,158.32861,21.32691,6974.68126,4317.08803,158.32861,21.32691,6974.68126,4317.08803,158.32861,21.32691,6974.68126,4317.08803,158.32861,21.32691,6974.68126,4317.08803,158.32861,21.32691,6974.68126,4317.08803,158.32861,21.32691,6974.68126,4317.08803,158.32861,21.32691,6974.68126,4317.08803,158.32861,21.32691,6974.68126,4317.08803,158.32861,21.32691,6974.68126,4317.08803,158.32861,21.32691,6974.68126,4317.08803,158.32861,21.32691,6974.68126,4317.08803,158.32861,21.32691,6974.68126,4317.08803,158.32861],\"xaxis\":\"x2\",\"y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yaxis\":\"y2\",\"type\":\"box\"},{\"boxmean\":false,\"boxpoints\":\"all\",\"fillcolor\":\"#FF97FF\",\"jitter\":0.3,\"legendgroup\":\"Control\",\"legendgrouptitle\":{\"text\":\"\"},\"line\":{\"width\":0.5},\"marker\":{\"color\":\"black\",\"opacity\":1,\"size\":1},\"name\":\"Control\",\"offsetgroup\":\"1\",\"opacity\":1,\"orientation\":\"h\",\"pointpos\":0,\"showlegend\":true,\"text\":[\"sample_4\",\"sample_2\",\"sample_6\",\"sample_8\",\"sample_4\",\"sample_2\",\"sample_6\",\"sample_8\",\"sample_4\",\"sample_2\",\"sample_6\",\"sample_8\",\"sample_4\",\"sample_2\",\"sample_6\",\"sample_8\",\"sample_4\",\"sample_2\",\"sample_6\",\"sample_8\",\"sample_4\",\"sample_2\",\"sample_6\",\"sample_8\",\"sample_4\",\"sample_2\",\"sample_6\",\"sample_8\",\"sample_4\",\"sample_2\",\"sample_6\",\"sample_8\",\"sample_4\",\"sample_2\",\"sample_6\",\"sample_8\",\"sample_4\",\"sample_2\",\"sample_6\",\"sample_8\",\"sample_4\",\"sample_2\",\"sample_6\",\"sample_8\",\"sample_4\",\"sample_2\",\"sample_6\",\"sample_8\",\"sample_4\",\"sample_2\",\"sample_6\",\"sample_8\",\"sample_4\",\"sample_2\",\"sample_6\",\"sample_8\",\"sample_4\",\"sample_2\",\"sample_6\",\"sample_8\",\"sample_4\",\"sample_2\",\"sample_6\",\"sample_8\",\"sample_4\",\"sample_2\",\"sample_6\",\"sample_8\",\"sample_4\",\"sample_2\",\"sample_6\",\"sample_8\",\"sample_4\",\"sample_2\",\"sample_6\",\"sample_8\",\"sample_4\",\"sample_2\",\"sample_6\",\"sample_8\",\"sample_4\",\"sample_2\",\"sample_6\",\"sample_8\",\"sample_4\",\"sample_2\",\"sample_6\",\"sample_8\",\"sample_4\",\"sample_2\",\"sample_6\",\"sample_8\",\"sample_4\",\"sample_2\",\"sample_6\",\"sample_8\",\"sample_4\",\"sample_2\",\"sample_6\",\"sample_8\",\"sample_4\",\"sample_2\",\"sample_6\",\"sample_8\",\"sample_4\",\"sample_2\",\"sample_6\",\"sample_8\",\"sample_4\",\"sample_2\",\"sample_6\",\"sample_8\",\"sample_4\",\"sample_2\",\"sample_6\",\"sample_8\",\"sample_4\",\"sample_2\",\"sample_6\",\"sample_8\",\"sample_4\",\"sample_2\",\"sample_6\",\"sample_8\",\"sample_4\",\"sample_2\",\"sample_6\",\"sample_8\",\"sample_4\",\"sample_2\",\"sample_6\",\"sample_8\",\"sample_4\",\"sample_2\",\"sample_6\",\"sample_8\",\"sample_4\",\"sample_2\",\"sample_6\",\"sample_8\",\"sample_4\",\"sample_2\",\"sample_6\",\"sample_8\",\"sample_4\",\"sample_2\",\"sample_6\",\"sample_8\",\"sample_4\",\"sample_2\",\"sample_6\",\"sample_8\",\"sample_4\",\"sample_2\",\"sample_6\",\"sample_8\",\"sample_4\",\"sample_2\",\"sample_6\",\"sample_8\",\"sample_4\",\"sample_2\",\"sample_6\",\"sample_8\",\"sample_4\",\"sample_2\",\"sample_6\",\"sample_8\",\"sample_4\",\"sample_2\",\"sample_6\",\"sample_8\",\"sample_4\",\"sample_2\",\"sample_6\",\"sample_8\",\"sample_4\",\"sample_2\",\"sample_6\",\"sample_8\",\"sample_4\",\"sample_2\",\"sample_6\",\"sample_8\",\"sample_4\",\"sample_2\",\"sample_6\",\"sample_8\",\"sample_4\",\"sample_2\",\"sample_6\",\"sample_8\",\"sample_4\",\"sample_2\",\"sample_6\",\"sample_8\",\"sample_4\",\"sample_2\",\"sample_6\",\"sample_8\",\"sample_4\",\"sample_2\",\"sample_6\",\"sample_8\",\"sample_4\",\"sample_2\",\"sample_6\",\"sample_8\",\"sample_4\",\"sample_2\",\"sample_6\",\"sample_8\",\"sample_4\",\"sample_2\",\"sample_6\",\"sample_8\",\"sample_4\",\"sample_2\",\"sample_6\",\"sample_8\",\"sample_4\",\"sample_2\",\"sample_6\",\"sample_8\",\"sample_4\",\"sample_2\",\"sample_6\",\"sample_8\",\"sample_4\",\"sample_2\",\"sample_6\",\"sample_8\",\"sample_4\",\"sample_2\",\"sample_6\",\"sample_8\",\"sample_4\",\"sample_2\",\"sample_6\",\"sample_8\",\"sample_4\",\"sample_2\",\"sample_6\",\"sample_8\",\"sample_4\",\"sample_2\",\"sample_6\",\"sample_8\",\"sample_4\",\"sample_2\",\"sample_6\",\"sample_8\",\"sample_4\",\"sample_2\",\"sample_6\",\"sample_8\",\"sample_4\",\"sample_2\",\"sample_6\",\"sample_8\",\"sample_4\",\"sample_2\",\"sample_6\",\"sample_8\",\"sample_4\",\"sample_2\",\"sample_6\",\"sample_8\",\"sample_4\",\"sample_2\",\"sample_6\",\"sample_8\",\"sample_4\",\"sample_2\",\"sample_6\",\"sample_8\",\"sample_4\",\"sample_2\",\"sample_6\",\"sample_8\",\"sample_4\",\"sample_2\",\"sample_6\",\"sample_8\",\"sample_4\",\"sample_2\",\"sample_6\",\"sample_8\",\"sample_4\",\"sample_2\",\"sample_6\",\"sample_8\",\"sample_4\",\"sample_2\",\"sample_6\",\"sample_8\",\"sample_4\",\"sample_2\",\"sample_6\",\"sample_8\",\"sample_4\",\"sample_2\",\"sample_6\",\"sample_8\",\"sample_4\",\"sample_2\",\"sample_6\",\"sample_8\",\"sample_4\",\"sample_2\",\"sample_6\",\"sample_8\",\"sample_4\",\"sample_2\",\"sample_6\",\"sample_8\",\"sample_4\",\"sample_2\",\"sample_6\",\"sample_8\",\"sample_4\",\"sample_2\",\"sample_6\",\"sample_8\",\"sample_4\",\"sample_2\",\"sample_6\",\"sample_8\",\"sample_4\",\"sample_2\",\"sample_6\",\"sample_8\",\"sample_4\",\"sample_2\",\"sample_6\",\"sample_8\",\"sample_4\",\"sample_2\",\"sample_6\",\"sample_8\",\"sample_4\",\"sample_2\",\"sample_6\",\"sample_8\",\"sample_4\",\"sample_2\",\"sample_6\",\"sample_8\",\"sample_4\",\"sample_2\",\"sample_6\",\"sample_8\",\"sample_4\",\"sample_2\",\"sample_6\",\"sample_8\",\"sample_4\",\"sample_2\",\"sample_6\",\"sample_8\",\"sample_4\",\"sample_2\",\"sample_6\",\"sample_8\",\"sample_4\",\"sample_2\",\"sample_6\",\"sample_8\",\"sample_4\",\"sample_2\",\"sample_6\",\"sample_8\",\"sample_4\",\"sample_2\",\"sample_6\",\"sample_8\",\"sample_4\",\"sample_2\",\"sample_6\",\"sample_8\",\"sample_4\",\"sample_2\",\"sample_6\",\"sample_8\",\"sample_4\",\"sample_2\",\"sample_6\",\"sample_8\",\"sample_4\",\"sample_2\",\"sample_6\",\"sample_8\",\"sample_4\",\"sample_2\",\"sample_6\",\"sample_8\",\"sample_4\",\"sample_2\",\"sample_6\",\"sample_8\",\"sample_4\",\"sample_2\",\"sample_6\",\"sample_8\",\"sample_4\",\"sample_2\",\"sample_6\",\"sample_8\",\"sample_4\",\"sample_2\",\"sample_6\",\"sample_8\",\"sample_4\",\"sample_2\",\"sample_6\",\"sample_8\",\"sample_4\",\"sample_2\",\"sample_6\",\"sample_8\",\"sample_4\",\"sample_2\",\"sample_6\",\"sample_8\",\"sample_4\",\"sample_2\",\"sample_6\",\"sample_8\",\"sample_4\",\"sample_2\",\"sample_6\",\"sample_8\",\"sample_4\",\"sample_2\",\"sample_6\",\"sample_8\",\"sample_4\",\"sample_2\",\"sample_6\",\"sample_8\",\"sample_4\",\"sample_2\",\"sample_6\",\"sample_8\",\"sample_4\",\"sample_2\",\"sample_6\",\"sample_8\",\"sample_4\",\"sample_2\",\"sample_6\",\"sample_8\",\"sample_4\",\"sample_2\",\"sample_6\",\"sample_8\",\"sample_4\",\"sample_2\",\"sample_6\",\"sample_8\",\"sample_4\",\"sample_2\",\"sample_6\",\"sample_8\",\"sample_4\",\"sample_2\",\"sample_6\",\"sample_8\",\"sample_4\",\"sample_2\",\"sample_6\",\"sample_8\",\"sample_4\",\"sample_2\",\"sample_6\",\"sample_8\",\"sample_4\",\"sample_2\",\"sample_6\",\"sample_8\",\"sample_4\",\"sample_2\",\"sample_6\",\"sample_8\",\"sample_4\",\"sample_2\",\"sample_6\",\"sample_8\",\"sample_4\",\"sample_2\",\"sample_6\",\"sample_8\",\"sample_4\",\"sample_2\",\"sample_6\",\"sample_8\",\"sample_4\",\"sample_2\",\"sample_6\",\"sample_8\",\"sample_4\",\"sample_2\",\"sample_6\",\"sample_8\",\"sample_4\",\"sample_2\",\"sample_6\",\"sample_8\",\"sample_4\",\"sample_2\",\"sample_6\",\"sample_8\",\"sample_4\",\"sample_2\",\"sample_6\",\"sample_8\",\"sample_4\",\"sample_2\",\"sample_6\",\"sample_8\",\"sample_4\",\"sample_2\",\"sample_6\",\"sample_8\",\"sample_4\",\"sample_2\",\"sample_6\",\"sample_8\",\"sample_4\",\"sample_2\",\"sample_6\",\"sample_8\",\"sample_4\",\"sample_2\",\"sample_6\",\"sample_8\",\"sample_4\",\"sample_2\",\"sample_6\",\"sample_8\",\"sample_4\",\"sample_2\",\"sample_6\",\"sample_8\",\"sample_4\",\"sample_2\",\"sample_6\",\"sample_8\",\"sample_4\",\"sample_2\",\"sample_6\",\"sample_8\",\"sample_4\",\"sample_2\",\"sample_6\",\"sample_8\"],\"x\":[1659.67771,1172.26084,1414.18687,1177.96343,1659.67771,1172.26084,1414.18687,1177.96343,1659.67771,1172.26084,1414.18687,1177.96343,1659.67771,1172.26084,1414.18687,1177.96343,1659.67771,1172.26084,1414.18687,1177.96343,1659.67771,1172.26084,1414.18687,1177.96343,1659.67771,1172.26084,1414.18687,1177.96343,1659.67771,1172.26084,1414.18687,1177.96343,1659.67771,1172.26084,1414.18687,1177.96343,1659.67771,1172.26084,1414.18687,1177.96343,1659.67771,1172.26084,1414.18687,1177.96343,1659.67771,1172.26084,1414.18687,1177.96343,1659.67771,1172.26084,1414.18687,1177.96343,1659.67771,1172.26084,1414.18687,1177.96343,1659.67771,1172.26084,1414.18687,1177.96343,1659.67771,1172.26084,1414.18687,1177.96343,1659.67771,1172.26084,1414.18687,1177.96343,1659.67771,1172.26084,1414.18687,1177.96343,1659.67771,1172.26084,1414.18687,1177.96343,1659.67771,1172.26084,1414.18687,1177.96343,1659.67771,1172.26084,1414.18687,1177.96343,1659.67771,1172.26084,1414.18687,1177.96343,1659.67771,1172.26084,1414.18687,1177.96343,1659.67771,1172.26084,1414.18687,1177.96343,1659.67771,1172.26084,1414.18687,1177.96343,1659.67771,1172.26084,1414.18687,1177.96343,1659.67771,1172.26084,1414.18687,1177.96343,1659.67771,1172.26084,1414.18687,1177.96343,1659.67771,1172.26084,1414.18687,1177.96343,1659.67771,1172.26084,1414.18687,1177.96343,1659.67771,1172.26084,1414.18687,1177.96343,1659.67771,1172.26084,1414.18687,1177.96343,1659.67771,1172.26084,1414.18687,1177.96343,1659.67771,1172.26084,1414.18687,1177.96343,1659.67771,1172.26084,1414.18687,1177.96343,1659.67771,1172.26084,1414.18687,1177.96343,281.12956,816.12674,908.42026,274.52124,281.12956,816.12674,908.42026,274.52124,281.12956,816.12674,908.42026,274.52124,281.12956,816.12674,908.42026,274.52124,281.12956,816.12674,908.42026,274.52124,281.12956,816.12674,908.42026,274.52124,233.77788,148.49865,158.86607,168.5427,233.77788,148.49865,158.86607,168.5427,233.77788,148.49865,158.86607,168.5427,233.77788,148.49865,158.86607,168.5427,233.77788,148.49865,158.86607,168.5427,233.77788,148.49865,158.86607,168.5427,233.77788,148.49865,158.86607,168.5427,233.77788,148.49865,158.86607,168.5427,233.77788,148.49865,158.86607,168.5427,233.77788,148.49865,158.86607,168.5427,233.77788,148.49865,158.86607,168.5427,233.77788,148.49865,158.86607,168.5427,233.77788,148.49865,158.86607,168.5427,233.77788,148.49865,158.86607,168.5427,233.77788,148.49865,158.86607,168.5427,233.77788,148.49865,158.86607,168.5427,233.77788,148.49865,158.86607,168.5427,233.77788,148.49865,158.86607,168.5427,233.77788,148.49865,158.86607,168.5427,233.77788,148.49865,158.86607,168.5427,233.77788,148.49865,158.86607,168.5427,233.77788,148.49865,158.86607,168.5427,233.77788,148.49865,158.86607,168.5427,233.77788,148.49865,158.86607,168.5427,233.77788,148.49865,158.86607,168.5427,233.77788,148.49865,158.86607,168.5427,233.77788,148.49865,158.86607,168.5427,233.77788,148.49865,158.86607,168.5427,233.77788,148.49865,158.86607,168.5427,233.77788,148.49865,158.86607,168.5427,233.77788,148.49865,158.86607,168.5427,13165.78688,10659.16159,10079.55077,8614.40942,13165.78688,10659.16159,10079.55077,8614.40942,13165.78688,10659.16159,10079.55077,8614.40942,13165.78688,10659.16159,10079.55077,8614.40942,13165.78688,10659.16159,10079.55077,8614.40942,13165.78688,10659.16159,10079.55077,8614.40942,13165.78688,10659.16159,10079.55077,8614.40942,13165.78688,10659.16159,10079.55077,8614.40942,13165.78688,10659.16159,10079.55077,8614.40942,13165.78688,10659.16159,10079.55077,8614.40942,13165.78688,10659.16159,10079.55077,8614.40942,13165.78688,10659.16159,10079.55077,8614.40942,13165.78688,10659.16159,10079.55077,8614.40942,13165.78688,10659.16159,10079.55077,8614.40942,13165.78688,10659.16159,10079.55077,8614.40942,13165.78688,10659.16159,10079.55077,8614.40942,13165.78688,10659.16159,10079.55077,8614.40942,13165.78688,10659.16159,10079.55077,8614.40942,13165.78688,10659.16159,10079.55077,8614.40942,13165.78688,10659.16159,10079.55077,8614.40942,13165.78688,10659.16159,10079.55077,8614.40942,13165.78688,10659.16159,10079.55077,8614.40942,13165.78688,10659.16159,10079.55077,8614.40942,13165.78688,10659.16159,10079.55077,8614.40942,13165.78688,10659.16159,10079.55077,8614.40942,13165.78688,10659.16159,10079.55077,8614.40942,13165.78688,10659.16159,10079.55077,8614.40942,13165.78688,10659.16159,10079.55077,8614.40942,13165.78688,10659.16159,10079.55077,8614.40942,13165.78688,10659.16159,10079.55077,8614.40942,13165.78688,10659.16159,10079.55077,8614.40942,13165.78688,10659.16159,10079.55077,8614.40942,13165.78688,10659.16159,10079.55077,8614.40942,13165.78688,10659.16159,10079.55077,8614.40942,20102.2553,16065.17951,22251.02963,17583.32597,20102.2553,16065.17951,22251.02963,17583.32597,20102.2553,16065.17951,22251.02963,17583.32597,20102.2553,16065.17951,22251.02963,17583.32597,20102.2553,16065.17951,22251.02963,17583.32597,20102.2553,16065.17951,22251.02963,17583.32597,20102.2553,16065.17951,22251.02963,17583.32597,20102.2553,16065.17951,22251.02963,17583.32597,20102.2553,16065.17951,22251.02963,17583.32597,20102.2553,16065.17951,22251.02963,17583.32597,20102.2553,16065.17951,22251.02963,17583.32597,20102.2553,16065.17951,22251.02963,17583.32597,20102.2553,16065.17951,22251.02963,17583.32597,20102.2553,16065.17951,22251.02963,17583.32597,20102.2553,16065.17951,22251.02963,17583.32597,20102.2553,16065.17951,22251.02963,17583.32597,20102.2553,16065.17951,22251.02963,17583.32597,20102.2553,16065.17951,22251.02963,17583.32597,20102.2553,16065.17951,22251.02963,17583.32597,20102.2553,16065.17951,22251.02963,17583.32597,20102.2553,16065.17951,22251.02963,17583.32597,20102.2553,16065.17951,22251.02963,17583.32597,20102.2553,16065.17951,22251.02963,17583.32597,20102.2553,16065.17951,22251.02963,17583.32597,20102.2553,16065.17951,22251.02963,17583.32597,20102.2553,16065.17951,22251.02963,17583.32597,20102.2553,16065.17951,22251.02963,17583.32597,20102.2553,16065.17951,22251.02963,17583.32597,20102.2553,16065.17951,22251.02963,17583.32597,20102.2553,16065.17951,22251.02963,17583.32597,20102.2553,16065.17951,22251.02963,17583.32597,20102.2553,16065.17951,22251.02963,17583.32597],\"xaxis\":\"x2\",\"y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yaxis\":\"y2\",\"type\":\"box\"},{\"boxmean\":false,\"boxpoints\":\"all\",\"fillcolor\":\"#FECB52\",\"jitter\":0.3,\"legendgroup\":\"AD\",\"legendgrouptitle\":{\"text\":\"\"},\"line\":{\"width\":0.5},\"marker\":{\"color\":\"black\",\"opacity\":1,\"size\":1},\"name\":\"AD\",\"offsetgroup\":\"0\",\"opacity\":1,\"orientation\":\"h\",\"pointpos\":0,\"showlegend\":false,\"text\":[\"sample_1\",\"sample_7\",\"sample_3\",\"sample_5\",\"sample_1\",\"sample_7\",\"sample_3\",\"sample_5\",\"sample_1\",\"sample_7\",\"sample_3\",\"sample_5\",\"sample_1\",\"sample_7\",\"sample_3\",\"sample_5\",\"sample_1\",\"sample_7\",\"sample_3\",\"sample_5\",\"sample_1\",\"sample_7\",\"sample_3\",\"sample_5\",\"sample_1\",\"sample_7\",\"sample_3\",\"sample_5\",\"sample_1\",\"sample_7\",\"sample_3\",\"sample_5\",\"sample_1\",\"sample_7\",\"sample_3\",\"sample_5\",\"sample_1\",\"sample_7\",\"sample_3\",\"sample_5\",\"sample_1\",\"sample_7\",\"sample_3\",\"sample_5\",\"sample_1\",\"sample_7\",\"sample_3\",\"sample_5\",\"sample_1\",\"sample_7\",\"sample_3\",\"sample_5\",\"sample_1\",\"sample_7\",\"sample_3\",\"sample_5\",\"sample_1\",\"sample_7\",\"sample_3\",\"sample_5\",\"sample_1\",\"sample_7\",\"sample_3\",\"sample_5\",\"sample_1\",\"sample_7\",\"sample_3\",\"sample_5\",\"sample_1\",\"sample_7\",\"sample_3\",\"sample_5\",\"sample_1\",\"sample_7\",\"sample_3\",\"sample_5\",\"sample_1\",\"sample_7\",\"sample_3\",\"sample_5\",\"sample_1\",\"sample_7\",\"sample_3\",\"sample_5\",\"sample_1\",\"sample_7\",\"sample_3\",\"sample_5\",\"sample_1\",\"sample_7\",\"sample_3\",\"sample_5\",\"sample_1\",\"sample_7\",\"sample_3\",\"sample_5\",\"sample_1\",\"sample_7\",\"sample_3\",\"sample_5\",\"sample_1\",\"sample_7\",\"sample_3\",\"sample_5\",\"sample_1\",\"sample_7\",\"sample_3\",\"sample_5\",\"sample_1\",\"sample_7\",\"sample_3\",\"sample_5\",\"sample_1\",\"sample_7\",\"sample_3\",\"sample_5\",\"sample_1\",\"sample_7\",\"sample_3\",\"sample_5\",\"sample_1\",\"sample_7\",\"sample_3\",\"sample_5\",\"sample_1\",\"sample_7\",\"sample_3\",\"sample_5\",\"sample_1\",\"sample_7\",\"sample_3\",\"sample_5\",\"sample_1\",\"sample_7\",\"sample_3\",\"sample_5\",\"sample_1\",\"sample_7\",\"sample_3\",\"sample_5\",\"sample_1\",\"sample_7\",\"sample_3\",\"sample_5\",\"sample_1\",\"sample_7\",\"sample_3\",\"sample_5\",\"sample_1\",\"sample_7\",\"sample_3\",\"sample_5\",\"sample_1\",\"sample_7\",\"sample_3\",\"sample_5\",\"sample_1\",\"sample_7\",\"sample_3\",\"sample_5\",\"sample_1\",\"sample_7\",\"sample_3\",\"sample_5\",\"sample_1\",\"sample_7\",\"sample_3\",\"sample_5\",\"sample_1\",\"sample_7\",\"sample_3\",\"sample_5\",\"sample_1\",\"sample_7\",\"sample_3\",\"sample_5\",\"sample_1\",\"sample_7\",\"sample_3\",\"sample_5\",\"sample_1\",\"sample_7\",\"sample_3\",\"sample_5\",\"sample_1\",\"sample_7\",\"sample_3\",\"sample_5\",\"sample_1\",\"sample_7\",\"sample_3\",\"sample_5\",\"sample_1\",\"sample_7\",\"sample_3\",\"sample_5\",\"sample_1\",\"sample_7\",\"sample_3\",\"sample_5\",\"sample_1\",\"sample_7\",\"sample_3\",\"sample_5\",\"sample_1\",\"sample_7\",\"sample_3\",\"sample_5\",\"sample_1\",\"sample_7\",\"sample_3\",\"sample_5\",\"sample_1\",\"sample_7\",\"sample_3\",\"sample_5\",\"sample_1\",\"sample_7\",\"sample_3\",\"sample_5\",\"sample_1\",\"sample_7\",\"sample_3\",\"sample_5\",\"sample_1\",\"sample_7\",\"sample_3\",\"sample_5\",\"sample_1\",\"sample_7\",\"sample_3\",\"sample_5\",\"sample_1\",\"sample_7\",\"sample_3\",\"sample_5\",\"sample_1\",\"sample_7\",\"sample_3\",\"sample_5\",\"sample_1\",\"sample_7\",\"sample_3\",\"sample_5\",\"sample_1\",\"sample_7\",\"sample_3\",\"sample_5\",\"sample_1\",\"sample_7\",\"sample_3\",\"sample_5\",\"sample_1\",\"sample_7\",\"sample_3\",\"sample_5\",\"sample_1\",\"sample_7\",\"sample_3\",\"sample_5\",\"sample_1\",\"sample_7\",\"sample_3\",\"sample_5\",\"sample_1\",\"sample_7\",\"sample_3\",\"sample_5\",\"sample_1\",\"sample_7\",\"sample_3\",\"sample_5\",\"sample_1\",\"sample_7\",\"sample_3\",\"sample_5\",\"sample_1\",\"sample_7\",\"sample_3\",\"sample_5\",\"sample_1\",\"sample_7\",\"sample_3\",\"sample_5\",\"sample_1\",\"sample_7\",\"sample_3\",\"sample_5\",\"sample_1\",\"sample_7\",\"sample_3\",\"sample_5\",\"sample_1\",\"sample_7\",\"sample_3\",\"sample_5\",\"sample_1\",\"sample_7\",\"sample_3\",\"sample_5\",\"sample_1\",\"sample_7\",\"sample_3\",\"sample_5\",\"sample_1\",\"sample_7\",\"sample_3\",\"sample_5\",\"sample_1\",\"sample_7\",\"sample_3\",\"sample_5\",\"sample_1\",\"sample_7\",\"sample_3\",\"sample_5\",\"sample_1\",\"sample_7\",\"sample_3\",\"sample_5\",\"sample_1\",\"sample_7\",\"sample_3\",\"sample_5\",\"sample_1\",\"sample_7\",\"sample_3\",\"sample_5\",\"sample_1\",\"sample_7\",\"sample_3\",\"sample_5\",\"sample_1\",\"sample_7\",\"sample_3\",\"sample_5\",\"sample_1\",\"sample_7\",\"sample_3\",\"sample_5\",\"sample_1\",\"sample_7\",\"sample_3\",\"sample_5\",\"sample_1\",\"sample_7\",\"sample_3\",\"sample_5\",\"sample_1\",\"sample_7\",\"sample_3\",\"sample_5\",\"sample_1\",\"sample_7\",\"sample_3\",\"sample_5\",\"sample_1\",\"sample_7\",\"sample_3\",\"sample_5\",\"sample_1\",\"sample_7\",\"sample_3\",\"sample_5\",\"sample_1\",\"sample_7\",\"sample_3\",\"sample_5\",\"sample_1\",\"sample_7\",\"sample_3\",\"sample_5\",\"sample_1\",\"sample_7\",\"sample_3\",\"sample_5\",\"sample_1\",\"sample_7\",\"sample_3\",\"sample_5\",\"sample_1\",\"sample_7\",\"sample_3\",\"sample_5\",\"sample_1\",\"sample_7\",\"sample_3\",\"sample_5\",\"sample_1\",\"sample_7\",\"sample_3\",\"sample_5\",\"sample_1\",\"sample_7\",\"sample_3\",\"sample_5\",\"sample_1\",\"sample_7\",\"sample_3\",\"sample_5\",\"sample_1\",\"sample_7\",\"sample_3\",\"sample_5\",\"sample_1\",\"sample_7\",\"sample_3\",\"sample_5\",\"sample_1\",\"sample_7\",\"sample_3\",\"sample_5\",\"sample_1\",\"sample_7\",\"sample_3\",\"sample_5\",\"sample_1\",\"sample_7\",\"sample_3\",\"sample_5\",\"sample_1\",\"sample_7\",\"sample_3\",\"sample_5\",\"sample_1\",\"sample_7\",\"sample_3\",\"sample_5\",\"sample_1\",\"sample_7\",\"sample_3\",\"sample_5\",\"sample_1\",\"sample_7\",\"sample_3\",\"sample_5\",\"sample_1\",\"sample_7\",\"sample_3\",\"sample_5\",\"sample_1\",\"sample_7\",\"sample_3\",\"sample_5\",\"sample_1\",\"sample_7\",\"sample_3\",\"sample_5\",\"sample_1\",\"sample_7\",\"sample_3\",\"sample_5\",\"sample_1\",\"sample_7\",\"sample_3\",\"sample_5\",\"sample_1\",\"sample_7\",\"sample_3\",\"sample_5\",\"sample_1\",\"sample_7\",\"sample_3\",\"sample_5\",\"sample_1\",\"sample_7\",\"sample_3\",\"sample_5\",\"sample_1\",\"sample_7\",\"sample_3\",\"sample_5\",\"sample_1\",\"sample_7\",\"sample_3\",\"sample_5\",\"sample_1\",\"sample_7\",\"sample_3\",\"sample_5\",\"sample_1\",\"sample_7\",\"sample_3\",\"sample_5\",\"sample_1\",\"sample_7\",\"sample_3\",\"sample_5\",\"sample_1\",\"sample_7\",\"sample_3\",\"sample_5\",\"sample_1\",\"sample_7\",\"sample_3\",\"sample_5\",\"sample_1\",\"sample_7\",\"sample_3\",\"sample_5\",\"sample_1\",\"sample_7\",\"sample_3\",\"sample_5\",\"sample_1\",\"sample_7\",\"sample_3\",\"sample_5\",\"sample_1\",\"sample_7\",\"sample_3\",\"sample_5\",\"sample_1\",\"sample_7\",\"sample_3\",\"sample_5\",\"sample_1\",\"sample_7\",\"sample_3\",\"sample_5\",\"sample_1\",\"sample_7\",\"sample_3\",\"sample_5\",\"sample_1\",\"sample_7\",\"sample_3\",\"sample_5\",\"sample_1\",\"sample_7\",\"sample_3\",\"sample_5\",\"sample_1\",\"sample_7\",\"sample_3\",\"sample_5\",\"sample_1\",\"sample_7\",\"sample_3\",\"sample_5\",\"sample_1\",\"sample_7\",\"sample_3\",\"sample_5\",\"sample_1\",\"sample_7\",\"sample_3\",\"sample_5\",\"sample_1\",\"sample_7\",\"sample_3\",\"sample_5\",\"sample_1\",\"sample_7\",\"sample_3\",\"sample_5\"],\"x\":[0.20706128581482855,1.875749583433663,10.597306909994915,0.34872209330727894,0.20706128581482855,1.875749583433663,10.597306909994915,0.34872209330727894,0.20706128581482855,1.875749583433663,10.597306909994915,0.34872209330727894,0.20706128581482855,1.875749583433663,10.597306909994915,0.34872209330727894,0.20706128581482855,1.875749583433663,10.597306909994915,0.34872209330727894,0.20706128581482855,1.875749583433663,10.597306909994915,0.34872209330727894,0.20706128581482855,1.875749583433663,10.597306909994915,0.34872209330727894,0.20706128581482855,1.875749583433663,10.597306909994915,0.34872209330727894,0.20706128581482855,1.875749583433663,10.597306909994915,0.34872209330727894,0.20706128581482855,1.875749583433663,10.597306909994915,0.34872209330727894,0.20706128581482855,1.875749583433663,10.597306909994915,0.34872209330727894,0.20706128581482855,1.875749583433663,10.597306909994915,0.34872209330727894,0.20706128581482855,1.875749583433663,10.597306909994915,0.34872209330727894,0.20706128581482855,1.875749583433663,10.597306909994915,0.34872209330727894,0.20706128581482855,1.875749583433663,10.597306909994915,0.34872209330727894,0.20706128581482855,1.875749583433663,10.597306909994915,0.34872209330727894,0.20706128581482855,1.875749583433663,10.597306909994915,0.34872209330727894,0.20706128581482855,1.875749583433663,10.597306909994915,0.34872209330727894,0.20706128581482855,1.875749583433663,10.597306909994915,0.34872209330727894,0.20706128581482855,1.875749583433663,10.597306909994915,0.34872209330727894,0.20706128581482855,1.875749583433663,10.597306909994915,0.34872209330727894,0.20706128581482855,1.875749583433663,10.597306909994915,0.34872209330727894,0.20706128581482855,1.875749583433663,10.597306909994915,0.34872209330727894,0.20706128581482855,1.875749583433663,10.597306909994915,0.34872209330727894,0.20706128581482855,1.875749583433663,10.597306909994915,0.34872209330727894,0.20706128581482855,1.875749583433663,10.597306909994915,0.34872209330727894,0.20706128581482855,1.875749583433663,10.597306909994915,0.34872209330727894,0.20706128581482855,1.875749583433663,10.597306909994915,0.34872209330727894,0.20706128581482855,1.875749583433663,10.597306909994915,0.34872209330727894,0.20706128581482855,1.875749583433663,10.597306909994915,0.34872209330727894,0.20706128581482855,1.875749583433663,10.597306909994915,0.34872209330727894,0.20706128581482855,1.875749583433663,10.597306909994915,0.34872209330727894,0.20706128581482855,1.875749583433663,10.597306909994915,0.34872209330727894,0.20706128581482855,1.875749583433663,10.597306909994915,0.34872209330727894,0.20706128581482855,1.875749583433663,10.597306909994915,0.34872209330727894,0.20706128581482855,1.875749583433663,10.597306909994915,0.34872209330727894,88.30054216658372,21.961754740812506,38.42814520594384,81.56952583048364,88.30054216658372,21.961754740812506,38.42814520594384,81.56952583048364,88.30054216658372,21.961754740812506,38.42814520594384,81.56952583048364,88.30054216658372,21.961754740812506,38.42814520594384,81.56952583048364,88.30054216658372,21.961754740812506,38.42814520594384,81.56952583048364,88.30054216658372,21.961754740812506,38.42814520594384,81.56952583048364,0.0,46.73818450205326,0.05919989829933895,0.0,0.0,46.73818450205326,0.05919989829933895,0.0,0.0,46.73818450205326,0.05919989829933895,0.0,0.0,46.73818450205326,0.05919989829933895,0.0,0.0,46.73818450205326,0.05919989829933895,0.0,0.0,46.73818450205326,0.05919989829933895,0.0,0.0,46.73818450205326,0.05919989829933895,0.0,0.0,46.73818450205326,0.05919989829933895,0.0,0.0,46.73818450205326,0.05919989829933895,0.0,0.0,46.73818450205326,0.05919989829933895,0.0,0.0,46.73818450205326,0.05919989829933895,0.0,0.0,46.73818450205326,0.05919989829933895,0.0,0.0,46.73818450205326,0.05919989829933895,0.0,0.0,46.73818450205326,0.05919989829933895,0.0,0.0,46.73818450205326,0.05919989829933895,0.0,0.0,46.73818450205326,0.05919989829933895,0.0,0.0,46.73818450205326,0.05919989829933895,0.0,0.0,46.73818450205326,0.05919989829933895,0.0,0.0,46.73818450205326,0.05919989829933895,0.0,0.0,46.73818450205326,0.05919989829933895,0.0,0.0,46.73818450205326,0.05919989829933895,0.0,0.0,46.73818450205326,0.05919989829933895,0.0,0.0,46.73818450205326,0.05919989829933895,0.0,0.0,46.73818450205326,0.05919989829933895,0.0,0.0,46.73818450205326,0.05919989829933895,0.0,0.0,46.73818450205326,0.05919989829933895,0.0,0.0,46.73818450205326,0.05919989829933895,0.0,0.0,46.73818450205326,0.05919989829933895,0.0,0.0,46.73818450205326,0.05919989829933895,0.0,0.0,46.73818450205326,0.05919989829933895,0.0,0.0,46.73818450205326,0.05919989829933895,0.0,1.7184992544926878,11.939025446402358,24.77625888468275,4.99012402296043,1.7184992544926878,11.939025446402358,24.77625888468275,4.99012402296043,1.7184992544926878,11.939025446402358,24.77625888468275,4.99012402296043,1.7184992544926878,11.939025446402358,24.77625888468275,4.99012402296043,1.7184992544926878,11.939025446402358,24.77625888468275,4.99012402296043,1.7184992544926878,11.939025446402358,24.77625888468275,4.99012402296043,1.7184992544926878,11.939025446402358,24.77625888468275,4.99012402296043,1.7184992544926878,11.939025446402358,24.77625888468275,4.99012402296043,1.7184992544926878,11.939025446402358,24.77625888468275,4.99012402296043,1.7184992544926878,11.939025446402358,24.77625888468275,4.99012402296043,1.7184992544926878,11.939025446402358,24.77625888468275,4.99012402296043,1.7184992544926878,11.939025446402358,24.77625888468275,4.99012402296043,1.7184992544926878,11.939025446402358,24.77625888468275,4.99012402296043,1.7184992544926878,11.939025446402358,24.77625888468275,4.99012402296043,1.7184992544926878,11.939025446402358,24.77625888468275,4.99012402296043,1.7184992544926878,11.939025446402358,24.77625888468275,4.99012402296043,1.7184992544926878,11.939025446402358,24.77625888468275,4.99012402296043,1.7184992544926878,11.939025446402358,24.77625888468275,4.99012402296043,1.7184992544926878,11.939025446402358,24.77625888468275,4.99012402296043,1.7184992544926878,11.939025446402358,24.77625888468275,4.99012402296043,1.7184992544926878,11.939025446402358,24.77625888468275,4.99012402296043,1.7184992544926878,11.939025446402358,24.77625888468275,4.99012402296043,1.7184992544926878,11.939025446402358,24.77625888468275,4.99012402296043,1.7184992544926878,11.939025446402358,24.77625888468275,4.99012402296043,1.7184992544926878,11.939025446402358,24.77625888468275,4.99012402296043,1.7184992544926878,11.939025446402358,24.77625888468275,4.99012402296043,1.7184992544926878,11.939025446402358,24.77625888468275,4.99012402296043,1.7184992544926878,11.939025446402358,24.77625888468275,4.99012402296043,1.7184992544926878,11.939025446402358,24.77625888468275,4.99012402296043,1.7184992544926878,11.939025446402358,24.77625888468275,4.99012402296043,1.7184992544926878,11.939025446402358,24.77625888468275,4.99012402296043,1.7184992544926878,11.939025446402358,24.77625888468275,4.99012402296043,1.7184992544926878,11.939025446402358,24.77625888468275,4.99012402296043,1.7184992544926878,11.939025446402358,24.77625888468275,4.99012402296043,0.0588490893877348,16.824704518918175,24.391705915588453,0.9668332315583781,0.0588490893877348,16.824704518918175,24.391705915588453,0.9668332315583781,0.0588490893877348,16.824704518918175,24.391705915588453,0.9668332315583781,0.0588490893877348,16.824704518918175,24.391705915588453,0.9668332315583781,0.0588490893877348,16.824704518918175,24.391705915588453,0.9668332315583781,0.0588490893877348,16.824704518918175,24.391705915588453,0.9668332315583781,0.0588490893877348,16.824704518918175,24.391705915588453,0.9668332315583781,0.0588490893877348,16.824704518918175,24.391705915588453,0.9668332315583781,0.0588490893877348,16.824704518918175,24.391705915588453,0.9668332315583781,0.0588490893877348,16.824704518918175,24.391705915588453,0.9668332315583781,0.0588490893877348,16.824704518918175,24.391705915588453,0.9668332315583781,0.0588490893877348,16.824704518918175,24.391705915588453,0.9668332315583781,0.0588490893877348,16.824704518918175,24.391705915588453,0.9668332315583781,0.0588490893877348,16.824704518918175,24.391705915588453,0.9668332315583781,0.0588490893877348,16.824704518918175,24.391705915588453,0.9668332315583781,0.0588490893877348,16.824704518918175,24.391705915588453,0.9668332315583781,0.0588490893877348,16.824704518918175,24.391705915588453,0.9668332315583781,0.0588490893877348,16.824704518918175,24.391705915588453,0.9668332315583781,0.0588490893877348,16.824704518918175,24.391705915588453,0.9668332315583781,0.0588490893877348,16.824704518918175,24.391705915588453,0.9668332315583781,0.0588490893877348,16.824704518918175,24.391705915588453,0.9668332315583781,0.0588490893877348,16.824704518918175,24.391705915588453,0.9668332315583781,0.0588490893877348,16.824704518918175,24.391705915588453,0.9668332315583781,0.0588490893877348,16.824704518918175,24.391705915588453,0.9668332315583781,0.0588490893877348,16.824704518918175,24.391705915588453,0.9668332315583781,0.0588490893877348,16.824704518918175,24.391705915588453,0.9668332315583781,0.0588490893877348,16.824704518918175,24.391705915588453,0.9668332315583781,0.0588490893877348,16.824704518918175,24.391705915588453,0.9668332315583781,0.0588490893877348,16.824704518918175,24.391705915588453,0.9668332315583781,0.0588490893877348,16.824704518918175,24.391705915588453,0.9668332315583781,0.0588490893877348,16.824704518918175,24.391705915588453,0.9668332315583781,0.0588490893877348,16.824704518918175,24.391705915588453,0.9668332315583781],\"xaxis\":\"x3\",\"y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yaxis\":\"y3\",\"type\":\"box\"},{\"boxmean\":false,\"boxpoints\":\"all\",\"fillcolor\":\"#FF97FF\",\"jitter\":0.3,\"legendgroup\":\"Control\",\"legendgrouptitle\":{\"text\":\"\"},\"line\":{\"width\":0.5},\"marker\":{\"color\":\"black\",\"opacity\":1,\"size\":1},\"name\":\"Control\",\"offsetgroup\":\"1\",\"opacity\":1,\"orientation\":\"h\",\"pointpos\":0,\"showlegend\":false,\"text\":[\"sample_4\",\"sample_2\",\"sample_6\",\"sample_8\",\"sample_4\",\"sample_2\",\"sample_6\",\"sample_8\",\"sample_4\",\"sample_2\",\"sample_6\",\"sample_8\",\"sample_4\",\"sample_2\",\"sample_6\",\"sample_8\",\"sample_4\",\"sample_2\",\"sample_6\",\"sample_8\",\"sample_4\",\"sample_2\",\"sample_6\",\"sample_8\",\"sample_4\",\"sample_2\",\"sample_6\",\"sample_8\",\"sample_4\",\"sample_2\",\"sample_6\",\"sample_8\",\"sample_4\",\"sample_2\",\"sample_6\",\"sample_8\",\"sample_4\",\"sample_2\",\"sample_6\",\"sample_8\",\"sample_4\",\"sample_2\",\"sample_6\",\"sample_8\",\"sample_4\",\"sample_2\",\"sample_6\",\"sample_8\",\"sample_4\",\"sample_2\",\"sample_6\",\"sample_8\",\"sample_4\",\"sample_2\",\"sample_6\",\"sample_8\",\"sample_4\",\"sample_2\",\"sample_6\",\"sample_8\",\"sample_4\",\"sample_2\",\"sample_6\",\"sample_8\",\"sample_4\",\"sample_2\",\"sample_6\",\"sample_8\",\"sample_4\",\"sample_2\",\"sample_6\",\"sample_8\",\"sample_4\",\"sample_2\",\"sample_6\",\"sample_8\",\"sample_4\",\"sample_2\",\"sample_6\",\"sample_8\",\"sample_4\",\"sample_2\",\"sample_6\",\"sample_8\",\"sample_4\",\"sample_2\",\"sample_6\",\"sample_8\",\"sample_4\",\"sample_2\",\"sample_6\",\"sample_8\",\"sample_4\",\"sample_2\",\"sample_6\",\"sample_8\",\"sample_4\",\"sample_2\",\"sample_6\",\"sample_8\",\"sample_4\",\"sample_2\",\"sample_6\",\"sample_8\",\"sample_4\",\"sample_2\",\"sample_6\",\"sample_8\",\"sample_4\",\"sample_2\",\"sample_6\",\"sample_8\",\"sample_4\",\"sample_2\",\"sample_6\",\"sample_8\",\"sample_4\",\"sample_2\",\"sample_6\",\"sample_8\",\"sample_4\",\"sample_2\",\"sample_6\",\"sample_8\",\"sample_4\",\"sample_2\",\"sample_6\",\"sample_8\",\"sample_4\",\"sample_2\",\"sample_6\",\"sample_8\",\"sample_4\",\"sample_2\",\"sample_6\",\"sample_8\",\"sample_4\",\"sample_2\",\"sample_6\",\"sample_8\",\"sample_4\",\"sample_2\",\"sample_6\",\"sample_8\",\"sample_4\",\"sample_2\",\"sample_6\",\"sample_8\",\"sample_4\",\"sample_2\",\"sample_6\",\"sample_8\",\"sample_4\",\"sample_2\",\"sample_6\",\"sample_8\",\"sample_4\",\"sample_2\",\"sample_6\",\"sample_8\",\"sample_4\",\"sample_2\",\"sample_6\",\"sample_8\",\"sample_4\",\"sample_2\",\"sample_6\",\"sample_8\",\"sample_4\",\"sample_2\",\"sample_6\",\"sample_8\",\"sample_4\",\"sample_2\",\"sample_6\",\"sample_8\",\"sample_4\",\"sample_2\",\"sample_6\",\"sample_8\",\"sample_4\",\"sample_2\",\"sample_6\",\"sample_8\",\"sample_4\",\"sample_2\",\"sample_6\",\"sample_8\",\"sample_4\",\"sample_2\",\"sample_6\",\"sample_8\",\"sample_4\",\"sample_2\",\"sample_6\",\"sample_8\",\"sample_4\",\"sample_2\",\"sample_6\",\"sample_8\",\"sample_4\",\"sample_2\",\"sample_6\",\"sample_8\",\"sample_4\",\"sample_2\",\"sample_6\",\"sample_8\",\"sample_4\",\"sample_2\",\"sample_6\",\"sample_8\",\"sample_4\",\"sample_2\",\"sample_6\",\"sample_8\",\"sample_4\",\"sample_2\",\"sample_6\",\"sample_8\",\"sample_4\",\"sample_2\",\"sample_6\",\"sample_8\",\"sample_4\",\"sample_2\",\"sample_6\",\"sample_8\",\"sample_4\",\"sample_2\",\"sample_6\",\"sample_8\",\"sample_4\",\"sample_2\",\"sample_6\",\"sample_8\",\"sample_4\",\"sample_2\",\"sample_6\",\"sample_8\",\"sample_4\",\"sample_2\",\"sample_6\",\"sample_8\",\"sample_4\",\"sample_2\",\"sample_6\",\"sample_8\",\"sample_4\",\"sample_2\",\"sample_6\",\"sample_8\",\"sample_4\",\"sample_2\",\"sample_6\",\"sample_8\",\"sample_4\",\"sample_2\",\"sample_6\",\"sample_8\",\"sample_4\",\"sample_2\",\"sample_6\",\"sample_8\",\"sample_4\",\"sample_2\",\"sample_6\",\"sample_8\",\"sample_4\",\"sample_2\",\"sample_6\",\"sample_8\",\"sample_4\",\"sample_2\",\"sample_6\",\"sample_8\",\"sample_4\",\"sample_2\",\"sample_6\",\"sample_8\",\"sample_4\",\"sample_2\",\"sample_6\",\"sample_8\",\"sample_4\",\"sample_2\",\"sample_6\",\"sample_8\",\"sample_4\",\"sample_2\",\"sample_6\",\"sample_8\",\"sample_4\",\"sample_2\",\"sample_6\",\"sample_8\",\"sample_4\",\"sample_2\",\"sample_6\",\"sample_8\",\"sample_4\",\"sample_2\",\"sample_6\",\"sample_8\",\"sample_4\",\"sample_2\",\"sample_6\",\"sample_8\",\"sample_4\",\"sample_2\",\"sample_6\",\"sample_8\",\"sample_4\",\"sample_2\",\"sample_6\",\"sample_8\",\"sample_4\",\"sample_2\",\"sample_6\",\"sample_8\",\"sample_4\",\"sample_2\",\"sample_6\",\"sample_8\",\"sample_4\",\"sample_2\",\"sample_6\",\"sample_8\",\"sample_4\",\"sample_2\",\"sample_6\",\"sample_8\",\"sample_4\",\"sample_2\",\"sample_6\",\"sample_8\",\"sample_4\",\"sample_2\",\"sample_6\",\"sample_8\",\"sample_4\",\"sample_2\",\"sample_6\",\"sample_8\",\"sample_4\",\"sample_2\",\"sample_6\",\"sample_8\",\"sample_4\",\"sample_2\",\"sample_6\",\"sample_8\",\"sample_4\",\"sample_2\",\"sample_6\",\"sample_8\",\"sample_4\",\"sample_2\",\"sample_6\",\"sample_8\",\"sample_4\",\"sample_2\",\"sample_6\",\"sample_8\",\"sample_4\",\"sample_2\",\"sample_6\",\"sample_8\",\"sample_4\",\"sample_2\",\"sample_6\",\"sample_8\",\"sample_4\",\"sample_2\",\"sample_6\",\"sample_8\",\"sample_4\",\"sample_2\",\"sample_6\",\"sample_8\",\"sample_4\",\"sample_2\",\"sample_6\",\"sample_8\",\"sample_4\",\"sample_2\",\"sample_6\",\"sample_8\",\"sample_4\",\"sample_2\",\"sample_6\",\"sample_8\",\"sample_4\",\"sample_2\",\"sample_6\",\"sample_8\",\"sample_4\",\"sample_2\",\"sample_6\",\"sample_8\",\"sample_4\",\"sample_2\",\"sample_6\",\"sample_8\",\"sample_4\",\"sample_2\",\"sample_6\",\"sample_8\",\"sample_4\",\"sample_2\",\"sample_6\",\"sample_8\",\"sample_4\",\"sample_2\",\"sample_6\",\"sample_8\",\"sample_4\",\"sample_2\",\"sample_6\",\"sample_8\",\"sample_4\",\"sample_2\",\"sample_6\",\"sample_8\",\"sample_4\",\"sample_2\",\"sample_6\",\"sample_8\",\"sample_4\",\"sample_2\",\"sample_6\",\"sample_8\",\"sample_4\",\"sample_2\",\"sample_6\",\"sample_8\",\"sample_4\",\"sample_2\",\"sample_6\",\"sample_8\",\"sample_4\",\"sample_2\",\"sample_6\",\"sample_8\",\"sample_4\",\"sample_2\",\"sample_6\",\"sample_8\",\"sample_4\",\"sample_2\",\"sample_6\",\"sample_8\",\"sample_4\",\"sample_2\",\"sample_6\",\"sample_8\",\"sample_4\",\"sample_2\",\"sample_6\",\"sample_8\",\"sample_4\",\"sample_2\",\"sample_6\",\"sample_8\",\"sample_4\",\"sample_2\",\"sample_6\",\"sample_8\",\"sample_4\",\"sample_2\",\"sample_6\",\"sample_8\",\"sample_4\",\"sample_2\",\"sample_6\",\"sample_8\",\"sample_4\",\"sample_2\",\"sample_6\",\"sample_8\",\"sample_4\",\"sample_2\",\"sample_6\",\"sample_8\",\"sample_4\",\"sample_2\",\"sample_6\",\"sample_8\",\"sample_4\",\"sample_2\",\"sample_6\",\"sample_8\",\"sample_4\",\"sample_2\",\"sample_6\",\"sample_8\",\"sample_4\",\"sample_2\",\"sample_6\",\"sample_8\",\"sample_4\",\"sample_2\",\"sample_6\",\"sample_8\",\"sample_4\",\"sample_2\",\"sample_6\",\"sample_8\",\"sample_4\",\"sample_2\",\"sample_6\",\"sample_8\",\"sample_4\",\"sample_2\",\"sample_6\",\"sample_8\",\"sample_4\",\"sample_2\",\"sample_6\",\"sample_8\",\"sample_4\",\"sample_2\",\"sample_6\",\"sample_8\",\"sample_4\",\"sample_2\",\"sample_6\",\"sample_8\",\"sample_4\",\"sample_2\",\"sample_6\",\"sample_8\",\"sample_4\",\"sample_2\",\"sample_6\",\"sample_8\",\"sample_4\",\"sample_2\",\"sample_6\",\"sample_8\",\"sample_4\",\"sample_2\",\"sample_6\",\"sample_8\",\"sample_4\",\"sample_2\",\"sample_6\",\"sample_8\",\"sample_4\",\"sample_2\",\"sample_6\",\"sample_8\",\"sample_4\",\"sample_2\",\"sample_6\",\"sample_8\"],\"x\":[4.614959013430469,3.966236432534849,3.945723807929468,4.1761386520451875,4.614959013430469,3.966236432534849,3.945723807929468,4.1761386520451875,4.614959013430469,3.966236432534849,3.945723807929468,4.1761386520451875,4.614959013430469,3.966236432534849,3.945723807929468,4.1761386520451875,4.614959013430469,3.966236432534849,3.945723807929468,4.1761386520451875,4.614959013430469,3.966236432534849,3.945723807929468,4.1761386520451875,4.614959013430469,3.966236432534849,3.945723807929468,4.1761386520451875,4.614959013430469,3.966236432534849,3.945723807929468,4.1761386520451875,4.614959013430469,3.966236432534849,3.945723807929468,4.1761386520451875,4.614959013430469,3.966236432534849,3.945723807929468,4.1761386520451875,4.614959013430469,3.966236432534849,3.945723807929468,4.1761386520451875,4.614959013430469,3.966236432534849,3.945723807929468,4.1761386520451875,4.614959013430469,3.966236432534849,3.945723807929468,4.1761386520451875,4.614959013430469,3.966236432534849,3.945723807929468,4.1761386520451875,4.614959013430469,3.966236432534849,3.945723807929468,4.1761386520451875,4.614959013430469,3.966236432534849,3.945723807929468,4.1761386520451875,4.614959013430469,3.966236432534849,3.945723807929468,4.1761386520451875,4.614959013430469,3.966236432534849,3.945723807929468,4.1761386520451875,4.614959013430469,3.966236432534849,3.945723807929468,4.1761386520451875,4.614959013430469,3.966236432534849,3.945723807929468,4.1761386520451875,4.614959013430469,3.966236432534849,3.945723807929468,4.1761386520451875,4.614959013430469,3.966236432534849,3.945723807929468,4.1761386520451875,4.614959013430469,3.966236432534849,3.945723807929468,4.1761386520451875,4.614959013430469,3.966236432534849,3.945723807929468,4.1761386520451875,4.614959013430469,3.966236432534849,3.945723807929468,4.1761386520451875,4.614959013430469,3.966236432534849,3.945723807929468,4.1761386520451875,4.614959013430469,3.966236432534849,3.945723807929468,4.1761386520451875,4.614959013430469,3.966236432534849,3.945723807929468,4.1761386520451875,4.614959013430469,3.966236432534849,3.945723807929468,4.1761386520451875,4.614959013430469,3.966236432534849,3.945723807929468,4.1761386520451875,4.614959013430469,3.966236432534849,3.945723807929468,4.1761386520451875,4.614959013430469,3.966236432534849,3.945723807929468,4.1761386520451875,4.614959013430469,3.966236432534849,3.945723807929468,4.1761386520451875,4.614959013430469,3.966236432534849,3.945723807929468,4.1761386520451875,4.614959013430469,3.966236432534849,3.945723807929468,4.1761386520451875,4.614959013430469,3.966236432534849,3.945723807929468,4.1761386520451875,0.7817188777354502,2.7612895520368115,2.534584023883263,0.9732379902246824,0.7817188777354502,2.7612895520368115,2.534584023883263,0.9732379902246824,0.7817188777354502,2.7612895520368115,2.534584023883263,0.9732379902246824,0.7817188777354502,2.7612895520368115,2.534584023883263,0.9732379902246824,0.7817188777354502,2.7612895520368115,2.534584023883263,0.9732379902246824,0.7817188777354502,2.7612895520368115,2.534584023883263,0.9732379902246824,0.6500511080833078,0.5024314859926918,0.44325233670935543,0.5975208279513876,0.6500511080833078,0.5024314859926918,0.44325233670935543,0.5975208279513876,0.6500511080833078,0.5024314859926918,0.44325233670935543,0.5975208279513876,0.6500511080833078,0.5024314859926918,0.44325233670935543,0.5975208279513876,0.6500511080833078,0.5024314859926918,0.44325233670935543,0.5975208279513876,0.6500511080833078,0.5024314859926918,0.44325233670935543,0.5975208279513876,0.6500511080833078,0.5024314859926918,0.44325233670935543,0.5975208279513876,0.6500511080833078,0.5024314859926918,0.44325233670935543,0.5975208279513876,0.6500511080833078,0.5024314859926918,0.44325233670935543,0.5975208279513876,0.6500511080833078,0.5024314859926918,0.44325233670935543,0.5975208279513876,0.6500511080833078,0.5024314859926918,0.44325233670935543,0.5975208279513876,0.6500511080833078,0.5024314859926918,0.44325233670935543,0.5975208279513876,0.6500511080833078,0.5024314859926918,0.44325233670935543,0.5975208279513876,0.6500511080833078,0.5024314859926918,0.44325233670935543,0.5975208279513876,0.6500511080833078,0.5024314859926918,0.44325233670935543,0.5975208279513876,0.6500511080833078,0.5024314859926918,0.44325233670935543,0.5975208279513876,0.6500511080833078,0.5024314859926918,0.44325233670935543,0.5975208279513876,0.6500511080833078,0.5024314859926918,0.44325233670935543,0.5975208279513876,0.6500511080833078,0.5024314859926918,0.44325233670935543,0.5975208279513876,0.6500511080833078,0.5024314859926918,0.44325233670935543,0.5975208279513876,0.6500511080833078,0.5024314859926918,0.44325233670935543,0.5975208279513876,0.6500511080833078,0.5024314859926918,0.44325233670935543,0.5975208279513876,0.6500511080833078,0.5024314859926918,0.44325233670935543,0.5975208279513876,0.6500511080833078,0.5024314859926918,0.44325233670935543,0.5975208279513876,0.6500511080833078,0.5024314859926918,0.44325233670935543,0.5975208279513876,0.6500511080833078,0.5024314859926918,0.44325233670935543,0.5975208279513876,0.6500511080833078,0.5024314859926918,0.44325233670935543,0.5975208279513876,0.6500511080833078,0.5024314859926918,0.44325233670935543,0.5975208279513876,0.6500511080833078,0.5024314859926918,0.44325233670935543,0.5975208279513876,0.6500511080833078,0.5024314859926918,0.44325233670935543,0.5975208279513876,0.6500511080833078,0.5024314859926918,0.44325233670935543,0.5975208279513876,36.60925640241358,36.06429012721613,28.12296188722414,30.53997028023541,36.60925640241358,36.06429012721613,28.12296188722414,30.53997028023541,36.60925640241358,36.06429012721613,28.12296188722414,30.53997028023541,36.60925640241358,36.06429012721613,28.12296188722414,30.53997028023541,36.60925640241358,36.06429012721613,28.12296188722414,30.53997028023541,36.60925640241358,36.06429012721613,28.12296188722414,30.53997028023541,36.60925640241358,36.06429012721613,28.12296188722414,30.53997028023541,36.60925640241358,36.06429012721613,28.12296188722414,30.53997028023541,36.60925640241358,36.06429012721613,28.12296188722414,30.53997028023541,36.60925640241358,36.06429012721613,28.12296188722414,30.53997028023541,36.60925640241358,36.06429012721613,28.12296188722414,30.53997028023541,36.60925640241358,36.06429012721613,28.12296188722414,30.53997028023541,36.60925640241358,36.06429012721613,28.12296188722414,30.53997028023541,36.60925640241358,36.06429012721613,28.12296188722414,30.53997028023541,36.60925640241358,36.06429012721613,28.12296188722414,30.53997028023541,36.60925640241358,36.06429012721613,28.12296188722414,30.53997028023541,36.60925640241358,36.06429012721613,28.12296188722414,30.53997028023541,36.60925640241358,36.06429012721613,28.12296188722414,30.53997028023541,36.60925640241358,36.06429012721613,28.12296188722414,30.53997028023541,36.60925640241358,36.06429012721613,28.12296188722414,30.53997028023541,36.60925640241358,36.06429012721613,28.12296188722414,30.53997028023541,36.60925640241358,36.06429012721613,28.12296188722414,30.53997028023541,36.60925640241358,36.06429012721613,28.12296188722414,30.53997028023541,36.60925640241358,36.06429012721613,28.12296188722414,30.53997028023541,36.60925640241358,36.06429012721613,28.12296188722414,30.53997028023541,36.60925640241358,36.06429012721613,28.12296188722414,30.53997028023541,36.60925640241358,36.06429012721613,28.12296188722414,30.53997028023541,36.60925640241358,36.06429012721613,28.12296188722414,30.53997028023541,36.60925640241358,36.06429012721613,28.12296188722414,30.53997028023541,36.60925640241358,36.06429012721613,28.12296188722414,30.53997028023541,36.60925640241358,36.06429012721613,28.12296188722414,30.53997028023541,36.60925640241358,36.06429012721613,28.12296188722414,30.53997028023541,36.60925640241358,36.06429012721613,28.12296188722414,30.53997028023541,36.60925640241358,36.06429012721613,28.12296188722414,30.53997028023541,55.897047799126874,54.355053153336044,62.08261385006002,62.33674606929601,55.897047799126874,54.355053153336044,62.08261385006002,62.33674606929601,55.897047799126874,54.355053153336044,62.08261385006002,62.33674606929601,55.897047799126874,54.355053153336044,62.08261385006002,62.33674606929601,55.897047799126874,54.355053153336044,62.08261385006002,62.33674606929601,55.897047799126874,54.355053153336044,62.08261385006002,62.33674606929601,55.897047799126874,54.355053153336044,62.08261385006002,62.33674606929601,55.897047799126874,54.355053153336044,62.08261385006002,62.33674606929601,55.897047799126874,54.355053153336044,62.08261385006002,62.33674606929601,55.897047799126874,54.355053153336044,62.08261385006002,62.33674606929601,55.897047799126874,54.355053153336044,62.08261385006002,62.33674606929601,55.897047799126874,54.355053153336044,62.08261385006002,62.33674606929601,55.897047799126874,54.355053153336044,62.08261385006002,62.33674606929601,55.897047799126874,54.355053153336044,62.08261385006002,62.33674606929601,55.897047799126874,54.355053153336044,62.08261385006002,62.33674606929601,55.897047799126874,54.355053153336044,62.08261385006002,62.33674606929601,55.897047799126874,54.355053153336044,62.08261385006002,62.33674606929601,55.897047799126874,54.355053153336044,62.08261385006002,62.33674606929601,55.897047799126874,54.355053153336044,62.08261385006002,62.33674606929601,55.897047799126874,54.355053153336044,62.08261385006002,62.33674606929601,55.897047799126874,54.355053153336044,62.08261385006002,62.33674606929601,55.897047799126874,54.355053153336044,62.08261385006002,62.33674606929601,55.897047799126874,54.355053153336044,62.08261385006002,62.33674606929601,55.897047799126874,54.355053153336044,62.08261385006002,62.33674606929601,55.897047799126874,54.355053153336044,62.08261385006002,62.33674606929601,55.897047799126874,54.355053153336044,62.08261385006002,62.33674606929601,55.897047799126874,54.355053153336044,62.08261385006002,62.33674606929601,55.897047799126874,54.355053153336044,62.08261385006002,62.33674606929601,55.897047799126874,54.355053153336044,62.08261385006002,62.33674606929601,55.897047799126874,54.355053153336044,62.08261385006002,62.33674606929601,55.897047799126874,54.355053153336044,62.08261385006002,62.33674606929601,55.897047799126874,54.355053153336044,62.08261385006002,62.33674606929601],\"xaxis\":\"x3\",\"y\":[\"0\",\"0\",\"0\",\"0\",\"0\",\"0\",\"0\",\"0\",\"0\",\"0\",\"0\",\"0\",\"0\",\"0\",\"0\",\"0\",\"0\",\"0\",\"0\",\"0\",\"0\",\"0\",\"0\",\"0\",\"0\",\"0\",\"0\",\"0\",\"0\",\"0\",\"0\",\"0\",\"0\",\"0\",\"0\",\"0\",\"0\",\"0\",\"0\",\"0\",\"0\",\"0\",\"0\",\"0\",\"0\",\"0\",\"0\",\"0\",\"0\",\"0\",\"0\",\"0\",\"0\",\"0\",\"0\",\"0\",\"0\",\"0\",\"0\",\"0\",\"0\",\"0\",\"0\",\"0\",\"0\",\"0\",\"0\",\"0\",\"0\",\"0\",\"0\",\"0\",\"0\",\"0\",\"0\",\"0\",\"0\",\"0\",\"0\",\"0\",\"0\",\"0\",\"0\",\"0\",\"0\",\"0\",\"0\",\"0\",\"0\",\"0\",\"0\",\"0\",\"0\",\"0\",\"0\",\"0\",\"0\",\"0\",\"0\",\"0\",\"0\",\"0\",\"0\",\"0\",\"0\",\"0\",\"0\",\"0\",\"0\",\"0\",\"0\",\"0\",\"0\",\"0\",\"0\",\"0\",\"0\",\"0\",\"0\",\"0\",\"0\",\"0\",\"0\",\"0\",\"0\",\"0\",\"0\",\"0\",\"0\",\"0\",\"0\",\"0\",\"0\",\"0\",\"0\",\"0\",\"0\",\"0\",\"0\",\"0\",\"0\",\"0\",\"0\",\"0\",\"1\",\"1\",\"1\",\"1\",\"1\",\"1\",\"1\",\"1\",\"1\",\"1\",\"1\",\"1\",\"1\",\"1\",\"1\",\"1\",\"1\",\"1\",\"1\",\"1\",\"1\",\"1\",\"1\",\"1\",\"2\",\"2\",\"2\",\"2\",\"2\",\"2\",\"2\",\"2\",\"2\",\"2\",\"2\",\"2\",\"2\",\"2\",\"2\",\"2\",\"2\",\"2\",\"2\",\"2\",\"2\",\"2\",\"2\",\"2\",\"2\",\"2\",\"2\",\"2\",\"2\",\"2\",\"2\",\"2\",\"2\",\"2\",\"2\",\"2\",\"2\",\"2\",\"2\",\"2\",\"2\",\"2\",\"2\",\"2\",\"2\",\"2\",\"2\",\"2\",\"2\",\"2\",\"2\",\"2\",\"2\",\"2\",\"2\",\"2\",\"2\",\"2\",\"2\",\"2\",\"2\",\"2\",\"2\",\"2\",\"2\",\"2\",\"2\",\"2\",\"2\",\"2\",\"2\",\"2\",\"2\",\"2\",\"2\",\"2\",\"2\",\"2\",\"2\",\"2\",\"2\",\"2\",\"2\",\"2\",\"2\",\"2\",\"2\",\"2\",\"2\",\"2\",\"2\",\"2\",\"2\",\"2\",\"2\",\"2\",\"2\",\"2\",\"2\",\"2\",\"2\",\"2\",\"2\",\"2\",\"2\",\"2\",\"2\",\"2\",\"2\",\"2\",\"2\",\"2\",\"2\",\"2\",\"2\",\"2\",\"2\",\"2\",\"2\",\"2\",\"2\",\"2\",\"2\",\"2\",\"3\",\"3\",\"3\",\"3\",\"3\",\"3\",\"3\",\"3\",\"3\",\"3\",\"3\",\"3\",\"3\",\"3\",\"3\",\"3\",\"3\",\"3\",\"3\",\"3\",\"3\",\"3\",\"3\",\"3\",\"3\",\"3\",\"3\",\"3\",\"3\",\"3\",\"3\",\"3\",\"3\",\"3\",\"3\",\"3\",\"3\",\"3\",\"3\",\"3\",\"3\",\"3\",\"3\",\"3\",\"3\",\"3\",\"3\",\"3\",\"3\",\"3\",\"3\",\"3\",\"3\",\"3\",\"3\",\"3\",\"3\",\"3\",\"3\",\"3\",\"3\",\"3\",\"3\",\"3\",\"3\",\"3\",\"3\",\"3\",\"3\",\"3\",\"3\",\"3\",\"3\",\"3\",\"3\",\"3\",\"3\",\"3\",\"3\",\"3\",\"3\",\"3\",\"3\",\"3\",\"3\",\"3\",\"3\",\"3\",\"3\",\"3\",\"3\",\"3\",\"3\",\"3\",\"3\",\"3\",\"3\",\"3\",\"3\",\"3\",\"3\",\"3\",\"3\",\"3\",\"3\",\"3\",\"3\",\"3\",\"3\",\"3\",\"3\",\"3\",\"3\",\"3\",\"3\",\"3\",\"3\",\"3\",\"3\",\"3\",\"3\",\"3\",\"3\",\"3\",\"3\",\"3\",\"3\",\"3\",\"3\",\"3\",\"3\",\"3\",\"3\",\"3\",\"3\",\"3\",\"4\",\"4\",\"4\",\"4\",\"4\",\"4\",\"4\",\"4\",\"4\",\"4\",\"4\",\"4\",\"4\",\"4\",\"4\",\"4\",\"4\",\"4\",\"4\",\"4\",\"4\",\"4\",\"4\",\"4\",\"4\",\"4\",\"4\",\"4\",\"4\",\"4\",\"4\",\"4\",\"4\",\"4\",\"4\",\"4\",\"4\",\"4\",\"4\",\"4\",\"4\",\"4\",\"4\",\"4\",\"4\",\"4\",\"4\",\"4\",\"4\",\"4\",\"4\",\"4\",\"4\",\"4\",\"4\",\"4\",\"4\",\"4\",\"4\",\"4\",\"4\",\"4\",\"4\",\"4\",\"4\",\"4\",\"4\",\"4\",\"4\",\"4\",\"4\",\"4\",\"4\",\"4\",\"4\",\"4\",\"4\",\"4\",\"4\",\"4\",\"4\",\"4\",\"4\",\"4\",\"4\",\"4\",\"4\",\"4\",\"4\",\"4\",\"4\",\"4\",\"4\",\"4\",\"4\",\"4\",\"4\",\"4\",\"4\",\"4\",\"4\",\"4\",\"4\",\"4\",\"4\",\"4\",\"4\",\"4\",\"4\",\"4\",\"4\",\"4\",\"4\",\"4\",\"4\",\"4\",\"4\",\"4\",\"4\",\"4\",\"4\",\"4\",\"4\",\"4\",\"4\",\"4\",\"4\",\"4\"],\"yaxis\":\"y3\",\"type\":\"box\"}],                        {\"annotations\":[{\"font\":{\"size\":16},\"showarrow\":false,\"text\":\"Transcript Structure\",\"x\":0.15999999999999998,\"xanchor\":\"center\",\"xref\":\"paper\",\"y\":1.0,\"yanchor\":\"bottom\",\"yref\":\"paper\"},{\"font\":{\"size\":16},\"showarrow\":false,\"text\":\"Counts\",\"x\":0.49999999999999994,\"xanchor\":\"center\",\"xref\":\"paper\",\"y\":1.0,\"yanchor\":\"bottom\",\"yref\":\"paper\"},{\"font\":{\"size\":16},\"showarrow\":false,\"text\":\"Relative Abundance (%)\",\"x\":0.8399999999999999,\"xanchor\":\"center\",\"xref\":\"paper\",\"y\":1.0,\"yanchor\":\"bottom\",\"yref\":\"paper\"}],\"boxgap\":0.2,\"boxgroupgap\":0.8,\"boxmode\":\"group\",\"height\":500,\"hoverlabel\":{\"font\":{\"size\":12}},\"hovermode\":\"closest\",\"legend\":{\"font\":{\"size\":12},\"grouptitlefont\":{\"size\":14},\"tracegroupgap\":7},\"margin\":{\"b\":50,\"l\":100,\"r\":50,\"t\":100},\"showlegend\":true,\"template\":{\"data\":{\"barpolar\":[{\"marker\":{\"line\":{\"color\":\"white\",\"width\":0.5},\"pattern\":{\"fillmode\":\"overlay\",\"size\":10,\"solidity\":0.2}},\"type\":\"barpolar\"}],\"bar\":[{\"error_x\":{\"color\":\"#2a3f5f\"},\"error_y\":{\"color\":\"#2a3f5f\"},\"marker\":{\"line\":{\"color\":\"white\",\"width\":0.5},\"pattern\":{\"fillmode\":\"overlay\",\"size\":10,\"solidity\":0.2}},\"type\":\"bar\"}],\"carpet\":[{\"aaxis\":{\"endlinecolor\":\"#2a3f5f\",\"gridcolor\":\"#C8D4E3\",\"linecolor\":\"#C8D4E3\",\"minorgridcolor\":\"#C8D4E3\",\"startlinecolor\":\"#2a3f5f\"},\"baxis\":{\"endlinecolor\":\"#2a3f5f\",\"gridcolor\":\"#C8D4E3\",\"linecolor\":\"#C8D4E3\",\"minorgridcolor\":\"#C8D4E3\",\"startlinecolor\":\"#2a3f5f\"},\"type\":\"carpet\"}],\"choropleth\":[{\"colorbar\":{\"outlinewidth\":0,\"ticks\":\"\"},\"type\":\"choropleth\"}],\"contourcarpet\":[{\"colorbar\":{\"outlinewidth\":0,\"ticks\":\"\"},\"type\":\"contourcarpet\"}],\"contour\":[{\"colorbar\":{\"outlinewidth\":0,\"ticks\":\"\"},\"colorscale\":[[0.0,\"#0d0887\"],[0.1111111111111111,\"#46039f\"],[0.2222222222222222,\"#7201a8\"],[0.3333333333333333,\"#9c179e\"],[0.4444444444444444,\"#bd3786\"],[0.5555555555555556,\"#d8576b\"],[0.6666666666666666,\"#ed7953\"],[0.7777777777777778,\"#fb9f3a\"],[0.8888888888888888,\"#fdca26\"],[1.0,\"#f0f921\"]],\"type\":\"contour\"}],\"heatmapgl\":[{\"colorbar\":{\"outlinewidth\":0,\"ticks\":\"\"},\"colorscale\":[[0.0,\"#0d0887\"],[0.1111111111111111,\"#46039f\"],[0.2222222222222222,\"#7201a8\"],[0.3333333333333333,\"#9c179e\"],[0.4444444444444444,\"#bd3786\"],[0.5555555555555556,\"#d8576b\"],[0.6666666666666666,\"#ed7953\"],[0.7777777777777778,\"#fb9f3a\"],[0.8888888888888888,\"#fdca26\"],[1.0,\"#f0f921\"]],\"type\":\"heatmapgl\"}],\"heatmap\":[{\"colorbar\":{\"outlinewidth\":0,\"ticks\":\"\"},\"colorscale\":[[0.0,\"#0d0887\"],[0.1111111111111111,\"#46039f\"],[0.2222222222222222,\"#7201a8\"],[0.3333333333333333,\"#9c179e\"],[0.4444444444444444,\"#bd3786\"],[0.5555555555555556,\"#d8576b\"],[0.6666666666666666,\"#ed7953\"],[0.7777777777777778,\"#fb9f3a\"],[0.8888888888888888,\"#fdca26\"],[1.0,\"#f0f921\"]],\"type\":\"heatmap\"}],\"histogram2dcontour\":[{\"colorbar\":{\"outlinewidth\":0,\"ticks\":\"\"},\"colorscale\":[[0.0,\"#0d0887\"],[0.1111111111111111,\"#46039f\"],[0.2222222222222222,\"#7201a8\"],[0.3333333333333333,\"#9c179e\"],[0.4444444444444444,\"#bd3786\"],[0.5555555555555556,\"#d8576b\"],[0.6666666666666666,\"#ed7953\"],[0.7777777777777778,\"#fb9f3a\"],[0.8888888888888888,\"#fdca26\"],[1.0,\"#f0f921\"]],\"type\":\"histogram2dcontour\"}],\"histogram2d\":[{\"colorbar\":{\"outlinewidth\":0,\"ticks\":\"\"},\"colorscale\":[[0.0,\"#0d0887\"],[0.1111111111111111,\"#46039f\"],[0.2222222222222222,\"#7201a8\"],[0.3333333333333333,\"#9c179e\"],[0.4444444444444444,\"#bd3786\"],[0.5555555555555556,\"#d8576b\"],[0.6666666666666666,\"#ed7953\"],[0.7777777777777778,\"#fb9f3a\"],[0.8888888888888888,\"#fdca26\"],[1.0,\"#f0f921\"]],\"type\":\"histogram2d\"}],\"histogram\":[{\"marker\":{\"pattern\":{\"fillmode\":\"overlay\",\"size\":10,\"solidity\":0.2}},\"type\":\"histogram\"}],\"mesh3d\":[{\"colorbar\":{\"outlinewidth\":0,\"ticks\":\"\"},\"type\":\"mesh3d\"}],\"parcoords\":[{\"line\":{\"colorbar\":{\"outlinewidth\":0,\"ticks\":\"\"}},\"type\":\"parcoords\"}],\"pie\":[{\"automargin\":true,\"type\":\"pie\"}],\"scatter3d\":[{\"line\":{\"colorbar\":{\"outlinewidth\":0,\"ticks\":\"\"}},\"marker\":{\"colorbar\":{\"outlinewidth\":0,\"ticks\":\"\"}},\"type\":\"scatter3d\"}],\"scattercarpet\":[{\"marker\":{\"colorbar\":{\"outlinewidth\":0,\"ticks\":\"\"}},\"type\":\"scattercarpet\"}],\"scattergeo\":[{\"marker\":{\"colorbar\":{\"outlinewidth\":0,\"ticks\":\"\"}},\"type\":\"scattergeo\"}],\"scattergl\":[{\"marker\":{\"colorbar\":{\"outlinewidth\":0,\"ticks\":\"\"}},\"type\":\"scattergl\"}],\"scattermapbox\":[{\"marker\":{\"colorbar\":{\"outlinewidth\":0,\"ticks\":\"\"}},\"type\":\"scattermapbox\"}],\"scatterpolargl\":[{\"marker\":{\"colorbar\":{\"outlinewidth\":0,\"ticks\":\"\"}},\"type\":\"scatterpolargl\"}],\"scatterpolar\":[{\"marker\":{\"colorbar\":{\"outlinewidth\":0,\"ticks\":\"\"}},\"type\":\"scatterpolar\"}],\"scatter\":[{\"fillpattern\":{\"fillmode\":\"overlay\",\"size\":10,\"solidity\":0.2},\"type\":\"scatter\"}],\"scatterternary\":[{\"marker\":{\"colorbar\":{\"outlinewidth\":0,\"ticks\":\"\"}},\"type\":\"scatterternary\"}],\"surface\":[{\"colorbar\":{\"outlinewidth\":0,\"ticks\":\"\"},\"colorscale\":[[0.0,\"#0d0887\"],[0.1111111111111111,\"#46039f\"],[0.2222222222222222,\"#7201a8\"],[0.3333333333333333,\"#9c179e\"],[0.4444444444444444,\"#bd3786\"],[0.5555555555555556,\"#d8576b\"],[0.6666666666666666,\"#ed7953\"],[0.7777777777777778,\"#fb9f3a\"],[0.8888888888888888,\"#fdca26\"],[1.0,\"#f0f921\"]],\"type\":\"surface\"}],\"table\":[{\"cells\":{\"fill\":{\"color\":\"#EBF0F8\"},\"line\":{\"color\":\"white\"}},\"header\":{\"fill\":{\"color\":\"#C8D4E3\"},\"line\":{\"color\":\"white\"}},\"type\":\"table\"}]},\"layout\":{\"annotationdefaults\":{\"arrowcolor\":\"#2a3f5f\",\"arrowhead\":0,\"arrowwidth\":1},\"autotypenumbers\":\"strict\",\"coloraxis\":{\"colorbar\":{\"outlinewidth\":0,\"ticks\":\"\"}},\"colorscale\":{\"diverging\":[[0,\"#8e0152\"],[0.1,\"#c51b7d\"],[0.2,\"#de77ae\"],[0.3,\"#f1b6da\"],[0.4,\"#fde0ef\"],[0.5,\"#f7f7f7\"],[0.6,\"#e6f5d0\"],[0.7,\"#b8e186\"],[0.8,\"#7fbc41\"],[0.9,\"#4d9221\"],[1,\"#276419\"]],\"sequential\":[[0.0,\"#0d0887\"],[0.1111111111111111,\"#46039f\"],[0.2222222222222222,\"#7201a8\"],[0.3333333333333333,\"#9c179e\"],[0.4444444444444444,\"#bd3786\"],[0.5555555555555556,\"#d8576b\"],[0.6666666666666666,\"#ed7953\"],[0.7777777777777778,\"#fb9f3a\"],[0.8888888888888888,\"#fdca26\"],[1.0,\"#f0f921\"]],\"sequentialminus\":[[0.0,\"#0d0887\"],[0.1111111111111111,\"#46039f\"],[0.2222222222222222,\"#7201a8\"],[0.3333333333333333,\"#9c179e\"],[0.4444444444444444,\"#bd3786\"],[0.5555555555555556,\"#d8576b\"],[0.6666666666666666,\"#ed7953\"],[0.7777777777777778,\"#fb9f3a\"],[0.8888888888888888,\"#fdca26\"],[1.0,\"#f0f921\"]]},\"colorway\":[\"#636efa\",\"#EF553B\",\"#00cc96\",\"#ab63fa\",\"#FFA15A\",\"#19d3f3\",\"#FF6692\",\"#B6E880\",\"#FF97FF\",\"#FECB52\"],\"font\":{\"color\":\"#2a3f5f\"},\"geo\":{\"bgcolor\":\"white\",\"lakecolor\":\"white\",\"landcolor\":\"white\",\"showlakes\":true,\"showland\":true,\"subunitcolor\":\"#C8D4E3\"},\"hoverlabel\":{\"align\":\"left\"},\"hovermode\":\"closest\",\"mapbox\":{\"style\":\"light\"},\"paper_bgcolor\":\"white\",\"plot_bgcolor\":\"white\",\"polar\":{\"angularaxis\":{\"gridcolor\":\"#EBF0F8\",\"linecolor\":\"#EBF0F8\",\"ticks\":\"\"},\"bgcolor\":\"white\",\"radialaxis\":{\"gridcolor\":\"#EBF0F8\",\"linecolor\":\"#EBF0F8\",\"ticks\":\"\"}},\"scene\":{\"xaxis\":{\"backgroundcolor\":\"white\",\"gridcolor\":\"#DFE8F3\",\"gridwidth\":2,\"linecolor\":\"#EBF0F8\",\"showbackground\":true,\"ticks\":\"\",\"zerolinecolor\":\"#EBF0F8\"},\"yaxis\":{\"backgroundcolor\":\"white\",\"gridcolor\":\"#DFE8F3\",\"gridwidth\":2,\"linecolor\":\"#EBF0F8\",\"showbackground\":true,\"ticks\":\"\",\"zerolinecolor\":\"#EBF0F8\"},\"zaxis\":{\"backgroundcolor\":\"white\",\"gridcolor\":\"#DFE8F3\",\"gridwidth\":2,\"linecolor\":\"#EBF0F8\",\"showbackground\":true,\"ticks\":\"\",\"zerolinecolor\":\"#EBF0F8\"}},\"shapedefaults\":{\"line\":{\"color\":\"#2a3f5f\"}},\"ternary\":{\"aaxis\":{\"gridcolor\":\"#DFE8F3\",\"linecolor\":\"#A2B1C6\",\"ticks\":\"\"},\"baxis\":{\"gridcolor\":\"#DFE8F3\",\"linecolor\":\"#A2B1C6\",\"ticks\":\"\"},\"bgcolor\":\"white\",\"caxis\":{\"gridcolor\":\"#DFE8F3\",\"linecolor\":\"#A2B1C6\",\"ticks\":\"\"}},\"title\":{\"x\":0.05},\"xaxis\":{\"automargin\":true,\"gridcolor\":\"#EBF0F8\",\"linecolor\":\"#EBF0F8\",\"ticks\":\"\",\"title\":{\"standoff\":15},\"zerolinecolor\":\"#EBF0F8\",\"zerolinewidth\":2},\"yaxis\":{\"automargin\":true,\"gridcolor\":\"#EBF0F8\",\"linecolor\":\"#EBF0F8\",\"ticks\":\"\",\"title\":{\"standoff\":15},\"zerolinecolor\":\"#EBF0F8\",\"zerolinewidth\":2}}},\"title\":{\"text\":\"\"},\"violingap\":0.2,\"violingroupgap\":0.8,\"violinmode\":\"group\",\"width\":1200,\"xaxis\":{\"anchor\":\"y\",\"domain\":[0.0,0.31999999999999995],\"showgrid\":true,\"showticklabels\":false,\"tickfont\":{\"size\":12},\"title\":{\"text\":\"\"}},\"yaxis\":{\"anchor\":\"x\",\"domain\":[0.0,1.0],\"range\":[-0.8,4.8],\"showgrid\":true,\"showticklabels\":true,\"tickfont\":{\"color\":\"black\",\"family\":\"DejaVu Sans\",\"size\":12},\"ticktext\":[\"APP-201\",\"APP-219\",\"APP-206\",\"APP-204\",\"APP-202\"],\"tickvals\":[0,1,2,3,4],\"title\":{\"text\":\"\"}},\"xaxis2\":{\"anchor\":\"y2\",\"domain\":[0.33999999999999997,0.6599999999999999],\"showgrid\":true,\"showticklabels\":true,\"tickfont\":{\"size\":12},\"title\":{\"text\":\"\"}},\"yaxis2\":{\"anchor\":\"x2\",\"domain\":[0.0,1.0],\"matches\":\"y\",\"range\":[-0.8,4.8],\"showgrid\":true,\"showticklabels\":false,\"ticks\":\"\",\"ticktext\":[\"APP-201\",\"APP-219\",\"APP-206\",\"APP-204\",\"APP-202\"],\"tickvals\":[0,1,2,3,4]},\"xaxis3\":{\"anchor\":\"y3\",\"domain\":[0.6799999999999999,0.9999999999999999],\"showgrid\":true,\"showticklabels\":true,\"tickfont\":{\"size\":12},\"title\":{\"text\":\"\"}},\"yaxis3\":{\"anchor\":\"x3\",\"domain\":[0.0,1.0],\"matches\":\"y\",\"range\":[-0.8,4.8],\"showgrid\":true,\"showticklabels\":false,\"ticks\":\"\",\"ticktext\":[\"APP-201\",\"APP-219\",\"APP-206\",\"APP-204\",\"APP-202\"],\"tickvals\":[0,1,2,3,4]}},                        {\"responsive\": true}                    ).then(function(){\n",
       "                            \n",
       "var gd = document.getElementById('e6355894-c39e-421b-afff-b3cce283c631');\n",
       "var x = new MutationObserver(function (mutations, observer) {{\n",
       "        var display = window.getComputedStyle(gd).display;\n",
       "        if (!display || display === 'none') {{\n",
       "            console.log([gd, 'removed!']);\n",
       "            Plotly.purge(gd);\n",
       "            observer.disconnect();\n",
       "        }}\n",
       "}});\n",
       "\n",
       "// Listen for the removal of the full notebook cells\n",
       "var notebookContainer = gd.closest('#notebook-container');\n",
       "if (notebookContainer) {{\n",
       "    x.observe(notebookContainer, {childList: true});\n",
       "}}\n",
       "\n",
       "// Listen for the clearing of the current output cell\n",
       "var outputEl = gd.closest('.output');\n",
       "if (outputEl) {{\n",
       "    x.observe(outputEl, {childList: true});\n",
       "}}\n",
       "\n",
       "                        })                };                });            </script>        </div>"
      ]
     },
     "metadata": {},
     "output_type": "display_data"
    }
   ],
   "source": [
    "## Path to your ENSEMBL GTF file, counts matrix file, and metadata file\n",
    "ensembl_gtf_path = \"../../dash_apps/RNApysoforms/tests/test_data/Homo_sapiens_chr21_and_Y.GRCh38.110.gtf\"\n",
    "counts_matrix_path = \"../../dash_apps/RNApysoforms/tests/test_data/counts_matrix_chr21_and_Y.tsv\"\n",
    "metadata_path = \"../../dash_apps/RNApysoforms/tests/test_data/sample_metadata.tsv\"\n",
    "\n",
    "## Process annotation and expression matrix\n",
    "annotation = RNApy.read_ensembl_gtf(ensembl_gtf_path)\n",
    "expression_matrix = RNApy.read_expression_matrix(expression_matrix_path=counts_matrix_path,\n",
    "                                          metadata_path=metadata_path,\n",
    "                                           cpm_normalization=True, relative_abundance=True)\n",
    "\n",
    "## Add transcript name\n",
    "expression_matrix = expression_matrix.join(annotation[[\"transcript_id\", \"transcript_name\"]].clone(), \n",
    "                                                   on=\"transcript_id\", how=\"inner\")\n",
    "\n",
    "## Filter APP data\n",
    "app_annotation, app_expression_matrix = RNApy.gene_filtering(annotation=annotation, expression_matrix=expression_matrix, target_gene=\"APP\",\n",
    "                                                        order_by_expression=True, keep_top_expressed_transcripts=5,\n",
    "                                                        order_by_expression_column=\"counts\", transcript_id_column=\"transcript_name\")\n",
    "\n",
    "# Rescale introns\n",
    "app_annotation = RNApy.shorten_gaps(app_annotation)\n",
    "\n",
    "\n",
    "## Make traces for APP figures\n",
    "traces = RNApy.make_traces(annotation=app_annotation,  expression_matrix=app_expression_matrix,\n",
    "                            x_start=\"rescaled_start\", x_end=\"rescaled_end\",\n",
    "                            y='transcript_name', annotation_hue=\"transcript_biotype\",\n",
    "                            hover_start=\"start\", hover_end=\"end\",\n",
    "                            expression_columns=[\"counts\", \"relative_abundance\"],\n",
    "                            expression_hue=\"AD status\", marker_size=1, arrow_size=6,\n",
    "                            show_box_mean=False)\n",
    "\n",
    "## Make figure\n",
    "fig = RNApy.make_plot(traces=traces, subplot_titles=[\"Transcript Structure\", \"Counts\", \"Relative Abundance (%)\"], \n",
    "                   width=1200, height=500)\n",
    "\n",
    "\n",
    "\n",
    "\n",
    "## Show figure\n",
    "fig.show()\n",
    "\n",
    "\n",
    "## Save figure as HTML, PDF, and PNG\n",
    "\n",
    "# Save as HTML\n",
    "fig.write_html(\"./RNApysoforms.html\")\n",
    "\n",
    "# Save as PDF\n",
    "fig.write_image(\"./RNApysoforms.pdf\", format=\"pdf\", engine=\"kaleido\", width=1200, height=500)\n",
    "\n",
    "# Save as PNG\n",
    "fig.write_image(\"./RNApysoforms.png\", format=\"png\", engine=\"kaleido\", width=1200, height=500)"
   ]
  },
  {
   "cell_type": "markdown",
   "metadata": {},
   "source": [
    "### You can click on the legend items to make figure elements appear and disappear.\n",
    "\n",
    "### The legend title will get grayed out when clicking on the first legend item. I could not find a workaround for that with the current plotly release (version 5).\n",
    "\n",
    "### The hovering for exons and CDS works best if you hover your mouse over the edges of the CDS/exon boxes."
   ]
  }
 ],
 "metadata": {
  "kernelspec": {
   "display_name": "rnapysoforms_env",
   "language": "python",
   "name": "python3"
  },
  "language_info": {
   "codemirror_mode": {
    "name": "ipython",
    "version": 3
   },
   "file_extension": ".py",
   "mimetype": "text/x-python",
   "name": "python",
   "nbconvert_exporter": "python",
   "pygments_lexer": "ipython3",
   "version": "3.12.5"
  }
 },
 "nbformat": 4,
 "nbformat_minor": 2
}
