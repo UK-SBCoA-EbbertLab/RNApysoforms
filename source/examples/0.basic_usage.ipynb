{
 "cells": [
  {
   "cell_type": "markdown",
   "metadata": {},
   "source": [
    "## Basic Usage (Quick Start)\n",
    "\n",
    "### Make a basic RNA transcript structure plot"
   ]
  },
  {
   "cell_type": "code",
   "execution_count": 7,
   "metadata": {},
   "outputs": [
    {
     "ename": "",
     "evalue": "",
     "output_type": "error",
     "traceback": [
      "\u001b[1;31mThe kernel failed to start as a dll could not be loaded.\n",
      "\u001b[1;31mClick <a href='https://aka.ms/kernelFailuresDllLoad'>here</a> for more info."
     ]
    }
   ],
   "source": [
    "import RNApysoforms as RNApy\n",
    "import plotly.offline as py\n",
    "py.init_notebook_mode(connected=True)"
   ]
  },
  {
   "cell_type": "code",
   "execution_count": 8,
   "metadata": {},
   "outputs": [],
   "source": [
    "## Path to your ENSEMBL GTF file\n",
    "ensembl_gtf_path = \"../dash_apps/RNApysoforms/tests/test_data/Homo_sapiens_chr21_and_Y.GRCh38.110.gtf\"\n",
    "\n",
    "\n",
    "## Read ENSEMBL gtf\n",
    "annotation = RNApy.read_ensembl_gtf(ensembl_gtf_path)\n",
    "\n",
    "\n",
    "## Filter gene name in annotation and counts matrix\n",
    "sod1_annotation = RNApy.gene_filtering(annotation=annotation, target_gene=\"SOD1\")\n",
    "\n",
    "sod1_annotation.head()"
   ]
  },
  {
   "cell_type": "code",
   "execution_count": null,
   "metadata": {},
   "outputs": [],
   "source": [
    "## Make introns\n",
    "sod1_annotation = RNApy.to_intron(sod1_annotation)\n",
    "\n",
    "sod1_annotation.head()"
   ]
  },
  {
   "cell_type": "code",
   "execution_count": null,
   "metadata": {},
   "outputs": [],
   "source": [
    "## Create traces for plotting\n",
    "traces = RNApy.make_traces(annotation=sod1_annotation, y='transcript_id', annotation_hue=\"transcript_biotype\")\n",
    "\n",
    "## Put traces into figure\n",
    "fig = RNApy.make_plot(traces = traces, subplot_titles = [\"Transcript Structure\"], width=1200, height=500)\n",
    "\n",
    "## Show figure\n",
    "py.iplot(fig,filename=\"s0_first_plot\")\n"
   ]
  }
 ],
 "metadata": {
  "kernelspec": {
   "display_name": "venv",
   "language": "python",
   "name": "python3"
  },
  "language_info": {
   "codemirror_mode": {
    "name": "ipython",
    "version": 3
   },
   "file_extension": ".py",
   "mimetype": "text/x-python",
   "name": "python",
   "nbconvert_exporter": "python",
   "pygments_lexer": "ipython3",
   "version": "3.9.12"
  }
 },
 "nbformat": 4,
 "nbformat_minor": 2
}
